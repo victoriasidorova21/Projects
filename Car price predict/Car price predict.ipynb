{
 "cells": [
  {
   "cell_type": "markdown",
   "metadata": {},
   "source": [
    "# Определение стоимости автомобилей"
   ]
  },
  {
   "cell_type": "markdown",
   "metadata": {},
   "source": [
    "Сервис по продаже автомобилей с пробегом «Не бит, не крашен» разрабатывает приложение для привлечения новых клиентов. В нём можно быстро узнать рыночную стоимость своего автомобиля. В вашем распоряжении исторические данные: технические характеристики, комплектации и цены автомобилей. Вам нужно построить модель для определения стоимости. \n",
    "\n",
    "Заказчику важны:\n",
    "\n",
    "- качество предсказания;\n",
    "- скорость предсказания;\n",
    "- время обучения."
   ]
  },
  {
   "cell_type": "markdown",
   "metadata": {},
   "source": [
    "Признаки\n",
    "DateCrawled — дата скачивания анкеты из базы\n",
    "VehicleType — тип автомобильного кузова\n",
    "RegistrationYear — год регистрации автомобиля\n",
    "Gearbox — тип коробки передач\n",
    "Power — мощность (л. с.)\n",
    "Model — модель автомобиля\n",
    "Kilometer — пробег (км)\n",
    "RegistrationMonth — месяц регистрации автомобиля\n",
    "FuelType — тип топлива\n",
    "Brand — марка автомобиля\n",
    "Repaired — была машина в ремонте или нет\n",
    "DateCreated — дата создания анкеты\n",
    "NumberOfPictures — количество фотографий автомобиля\n",
    "PostalCode — почтовый индекс владельца анкеты (пользователя)\n",
    "LastSeen — дата последней активности пользователя\n",
    "Целевой признак\n",
    "Price — цена (евро)"
   ]
  },
  {
   "cell_type": "markdown",
   "metadata": {},
   "source": [
    "## Подготовка данных"
   ]
  },
  {
   "cell_type": "code",
   "execution_count": 1,
   "metadata": {},
   "outputs": [],
   "source": [
    "#подключим необходимые библиотеки\n",
    "import pandas as pd\n",
    "import numpy as np\n",
    "import seaborn as sns\n",
    "import matplotlib.pyplot as plt\n",
    "from sklearn.model_selection import train_test_split\n",
    "from sklearn.linear_model import LinearRegression\n",
    "from catboost import CatBoostRegressor\n",
    "from sklearn.metrics import mean_squared_error\n",
    "import lightgbm as lgb\n",
    "from sklearn.preprocessing import LabelEncoder\n",
    "from sklearn.preprocessing import OrdinalEncoder\n",
    "from sklearn.model_selection import GridSearchCV"
   ]
  },
  {
   "cell_type": "code",
   "execution_count": 2,
   "metadata": {},
   "outputs": [],
   "source": [
    "#загрузим данные\n",
    "df = pd.read_csv('/datasets/autos.csv')"
   ]
  },
  {
   "cell_type": "code",
   "execution_count": 3,
   "metadata": {},
   "outputs": [
    {
     "data": {
      "text/html": [
       "<div>\n",
       "<style scoped>\n",
       "    .dataframe tbody tr th:only-of-type {\n",
       "        vertical-align: middle;\n",
       "    }\n",
       "\n",
       "    .dataframe tbody tr th {\n",
       "        vertical-align: top;\n",
       "    }\n",
       "\n",
       "    .dataframe thead th {\n",
       "        text-align: right;\n",
       "    }\n",
       "</style>\n",
       "<table border=\"1\" class=\"dataframe\">\n",
       "  <thead>\n",
       "    <tr style=\"text-align: right;\">\n",
       "      <th></th>\n",
       "      <th>DateCrawled</th>\n",
       "      <th>Price</th>\n",
       "      <th>VehicleType</th>\n",
       "      <th>RegistrationYear</th>\n",
       "      <th>Gearbox</th>\n",
       "      <th>Power</th>\n",
       "      <th>Model</th>\n",
       "      <th>Kilometer</th>\n",
       "      <th>RegistrationMonth</th>\n",
       "      <th>FuelType</th>\n",
       "      <th>Brand</th>\n",
       "      <th>Repaired</th>\n",
       "      <th>DateCreated</th>\n",
       "      <th>NumberOfPictures</th>\n",
       "      <th>PostalCode</th>\n",
       "      <th>LastSeen</th>\n",
       "    </tr>\n",
       "  </thead>\n",
       "  <tbody>\n",
       "    <tr>\n",
       "      <th>0</th>\n",
       "      <td>2016-03-24 11:52:17</td>\n",
       "      <td>480</td>\n",
       "      <td>NaN</td>\n",
       "      <td>1993</td>\n",
       "      <td>manual</td>\n",
       "      <td>0</td>\n",
       "      <td>golf</td>\n",
       "      <td>150000</td>\n",
       "      <td>0</td>\n",
       "      <td>petrol</td>\n",
       "      <td>volkswagen</td>\n",
       "      <td>NaN</td>\n",
       "      <td>2016-03-24 00:00:00</td>\n",
       "      <td>0</td>\n",
       "      <td>70435</td>\n",
       "      <td>2016-04-07 03:16:57</td>\n",
       "    </tr>\n",
       "    <tr>\n",
       "      <th>1</th>\n",
       "      <td>2016-03-24 10:58:45</td>\n",
       "      <td>18300</td>\n",
       "      <td>coupe</td>\n",
       "      <td>2011</td>\n",
       "      <td>manual</td>\n",
       "      <td>190</td>\n",
       "      <td>NaN</td>\n",
       "      <td>125000</td>\n",
       "      <td>5</td>\n",
       "      <td>gasoline</td>\n",
       "      <td>audi</td>\n",
       "      <td>yes</td>\n",
       "      <td>2016-03-24 00:00:00</td>\n",
       "      <td>0</td>\n",
       "      <td>66954</td>\n",
       "      <td>2016-04-07 01:46:50</td>\n",
       "    </tr>\n",
       "    <tr>\n",
       "      <th>2</th>\n",
       "      <td>2016-03-14 12:52:21</td>\n",
       "      <td>9800</td>\n",
       "      <td>suv</td>\n",
       "      <td>2004</td>\n",
       "      <td>auto</td>\n",
       "      <td>163</td>\n",
       "      <td>grand</td>\n",
       "      <td>125000</td>\n",
       "      <td>8</td>\n",
       "      <td>gasoline</td>\n",
       "      <td>jeep</td>\n",
       "      <td>NaN</td>\n",
       "      <td>2016-03-14 00:00:00</td>\n",
       "      <td>0</td>\n",
       "      <td>90480</td>\n",
       "      <td>2016-04-05 12:47:46</td>\n",
       "    </tr>\n",
       "    <tr>\n",
       "      <th>3</th>\n",
       "      <td>2016-03-17 16:54:04</td>\n",
       "      <td>1500</td>\n",
       "      <td>small</td>\n",
       "      <td>2001</td>\n",
       "      <td>manual</td>\n",
       "      <td>75</td>\n",
       "      <td>golf</td>\n",
       "      <td>150000</td>\n",
       "      <td>6</td>\n",
       "      <td>petrol</td>\n",
       "      <td>volkswagen</td>\n",
       "      <td>no</td>\n",
       "      <td>2016-03-17 00:00:00</td>\n",
       "      <td>0</td>\n",
       "      <td>91074</td>\n",
       "      <td>2016-03-17 17:40:17</td>\n",
       "    </tr>\n",
       "    <tr>\n",
       "      <th>4</th>\n",
       "      <td>2016-03-31 17:25:20</td>\n",
       "      <td>3600</td>\n",
       "      <td>small</td>\n",
       "      <td>2008</td>\n",
       "      <td>manual</td>\n",
       "      <td>69</td>\n",
       "      <td>fabia</td>\n",
       "      <td>90000</td>\n",
       "      <td>7</td>\n",
       "      <td>gasoline</td>\n",
       "      <td>skoda</td>\n",
       "      <td>no</td>\n",
       "      <td>2016-03-31 00:00:00</td>\n",
       "      <td>0</td>\n",
       "      <td>60437</td>\n",
       "      <td>2016-04-06 10:17:21</td>\n",
       "    </tr>\n",
       "  </tbody>\n",
       "</table>\n",
       "</div>"
      ],
      "text/plain": [
       "           DateCrawled  Price VehicleType  RegistrationYear Gearbox  Power  \\\n",
       "0  2016-03-24 11:52:17    480         NaN              1993  manual      0   \n",
       "1  2016-03-24 10:58:45  18300       coupe              2011  manual    190   \n",
       "2  2016-03-14 12:52:21   9800         suv              2004    auto    163   \n",
       "3  2016-03-17 16:54:04   1500       small              2001  manual     75   \n",
       "4  2016-03-31 17:25:20   3600       small              2008  manual     69   \n",
       "\n",
       "   Model  Kilometer  RegistrationMonth  FuelType       Brand Repaired  \\\n",
       "0   golf     150000                  0    petrol  volkswagen      NaN   \n",
       "1    NaN     125000                  5  gasoline        audi      yes   \n",
       "2  grand     125000                  8  gasoline        jeep      NaN   \n",
       "3   golf     150000                  6    petrol  volkswagen       no   \n",
       "4  fabia      90000                  7  gasoline       skoda       no   \n",
       "\n",
       "           DateCreated  NumberOfPictures  PostalCode             LastSeen  \n",
       "0  2016-03-24 00:00:00                 0       70435  2016-04-07 03:16:57  \n",
       "1  2016-03-24 00:00:00                 0       66954  2016-04-07 01:46:50  \n",
       "2  2016-03-14 00:00:00                 0       90480  2016-04-05 12:47:46  \n",
       "3  2016-03-17 00:00:00                 0       91074  2016-03-17 17:40:17  \n",
       "4  2016-03-31 00:00:00                 0       60437  2016-04-06 10:17:21  "
      ]
     },
     "execution_count": 3,
     "metadata": {},
     "output_type": "execute_result"
    }
   ],
   "source": [
    "#посмотрим первые пять строк датасета\n",
    "df.head(5)"
   ]
  },
  {
   "cell_type": "code",
   "execution_count": 4,
   "metadata": {},
   "outputs": [
    {
     "data": {
      "text/plain": [
       "Index(['DateCrawled', 'Price', 'VehicleType', 'RegistrationYear', 'Gearbox',\n",
       "       'Power', 'Model', 'Kilometer', 'RegistrationMonth', 'FuelType', 'Brand',\n",
       "       'Repaired', 'DateCreated', 'NumberOfPictures', 'PostalCode',\n",
       "       'LastSeen'],\n",
       "      dtype='object')"
      ]
     },
     "execution_count": 4,
     "metadata": {},
     "output_type": "execute_result"
    }
   ],
   "source": [
    "#выведим наименования колонок \n",
    "df.columns"
   ]
  },
  {
   "cell_type": "code",
   "execution_count": 5,
   "metadata": {},
   "outputs": [
    {
     "name": "stdout",
     "output_type": "stream",
     "text": [
      "<class 'pandas.core.frame.DataFrame'>\n",
      "RangeIndex: 354369 entries, 0 to 354368\n",
      "Data columns (total 16 columns):\n",
      " #   Column             Non-Null Count   Dtype \n",
      "---  ------             --------------   ----- \n",
      " 0   DateCrawled        354369 non-null  object\n",
      " 1   Price              354369 non-null  int64 \n",
      " 2   VehicleType        316879 non-null  object\n",
      " 3   RegistrationYear   354369 non-null  int64 \n",
      " 4   Gearbox            334536 non-null  object\n",
      " 5   Power              354369 non-null  int64 \n",
      " 6   Model              334664 non-null  object\n",
      " 7   Kilometer          354369 non-null  int64 \n",
      " 8   RegistrationMonth  354369 non-null  int64 \n",
      " 9   FuelType           321474 non-null  object\n",
      " 10  Brand              354369 non-null  object\n",
      " 11  Repaired           283215 non-null  object\n",
      " 12  DateCreated        354369 non-null  object\n",
      " 13  NumberOfPictures   354369 non-null  int64 \n",
      " 14  PostalCode         354369 non-null  int64 \n",
      " 15  LastSeen           354369 non-null  object\n",
      "dtypes: int64(7), object(9)\n",
      "memory usage: 43.3+ MB\n"
     ]
    }
   ],
   "source": [
    "#посмотрим общую информацию о данных\n",
    "df.info()"
   ]
  },
  {
   "cell_type": "code",
   "execution_count": 6,
   "metadata": {},
   "outputs": [
    {
     "data": {
      "text/plain": [
       "4"
      ]
     },
     "execution_count": 6,
     "metadata": {},
     "output_type": "execute_result"
    }
   ],
   "source": [
    "#поиск явных дубликатов\n",
    "df.duplicated().sum()"
   ]
  },
  {
   "cell_type": "code",
   "execution_count": 7,
   "metadata": {},
   "outputs": [],
   "source": [
    "#удалим дубликаты\n",
    "df=df.drop_duplicates()"
   ]
  },
  {
   "cell_type": "code",
   "execution_count": 8,
   "metadata": {},
   "outputs": [
    {
     "data": {
      "text/plain": [
       "0"
      ]
     },
     "execution_count": 8,
     "metadata": {},
     "output_type": "execute_result"
    }
   ],
   "source": [
    "#проверим\n",
    "df.duplicated().sum()"
   ]
  },
  {
   "cell_type": "code",
   "execution_count": 9,
   "metadata": {},
   "outputs": [
    {
     "data": {
      "text/plain": [
       "DateCrawled              0\n",
       "Price                    0\n",
       "VehicleType          37490\n",
       "RegistrationYear         0\n",
       "Gearbox              19833\n",
       "Power                    0\n",
       "Model                19705\n",
       "Kilometer                0\n",
       "RegistrationMonth        0\n",
       "FuelType             32895\n",
       "Brand                    0\n",
       "Repaired             71154\n",
       "DateCreated              0\n",
       "NumberOfPictures         0\n",
       "PostalCode               0\n",
       "LastSeen                 0\n",
       "dtype: int64"
      ]
     },
     "execution_count": 9,
     "metadata": {},
     "output_type": "execute_result"
    }
   ],
   "source": [
    "#посмотрим сколько суммарно имеется прощенных значений по каждому столбцу\n",
    "df.isna().sum()"
   ]
  },
  {
   "cell_type": "code",
   "execution_count": 10,
   "metadata": {},
   "outputs": [],
   "source": [
    "#заполним пропущенные значения в столбце 'VehicleType' на 'other'\n",
    "df['VehicleType'].fillna('other',inplace=True)\n"
   ]
  },
  {
   "cell_type": "code",
   "execution_count": 11,
   "metadata": {},
   "outputs": [],
   "source": [
    "#заполним пропущенные значения в столбце 'Gearbox' на наиболее часто встречающееся\n",
    "df['Gearbox']=df['Gearbox'].fillna(df['Gearbox'].mode()[0])"
   ]
  },
  {
   "cell_type": "code",
   "execution_count": 12,
   "metadata": {},
   "outputs": [],
   "source": [
    "#заполним пропущенные значения в столбце 'Model' на 'unknown'\n",
    "df['Model'].fillna('unknown',inplace=True)"
   ]
  },
  {
   "cell_type": "code",
   "execution_count": 13,
   "metadata": {},
   "outputs": [
    {
     "data": {
      "text/plain": [
       "petrol      216349\n",
       "gasoline     98719\n",
       "lpg           5310\n",
       "cng            565\n",
       "hybrid         233\n",
       "other          204\n",
       "electric        90\n",
       "Name: FuelType, dtype: int64"
      ]
     },
     "execution_count": 13,
     "metadata": {},
     "output_type": "execute_result"
    }
   ],
   "source": [
    "#посмотрим значения в столбце 'FuelType'\n",
    "df['FuelType'].value_counts()"
   ]
  },
  {
   "cell_type": "code",
   "execution_count": 14,
   "metadata": {},
   "outputs": [],
   "source": [
    "#заполним пропущенные значения в столбце 'FuelType' на 'other'\n",
    "df['FuelType'].fillna('other',inplace=True)"
   ]
  },
  {
   "cell_type": "code",
   "execution_count": 15,
   "metadata": {},
   "outputs": [],
   "source": [
    "#заполним пропущенные значения в столбце 'Repaired' на наиболее часто встречающееся\n",
    "df['Repaired']=df['Repaired'].fillna(df['Repaired'].mode()[0])"
   ]
  },
  {
   "cell_type": "code",
   "execution_count": 16,
   "metadata": {},
   "outputs": [],
   "source": [
    "#удалим столбецы с данными, которые в дальнейшем нам не понядобяться\n",
    "df=df.drop(columns=['DateCrawled','RegistrationMonth','DateCreated','NumberOfPictures','PostalCode','LastSeen'])"
   ]
  },
  {
   "cell_type": "code",
   "execution_count": 17,
   "metadata": {},
   "outputs": [
    {
     "data": {
      "text/plain": [
       "Price               0\n",
       "VehicleType         0\n",
       "RegistrationYear    0\n",
       "Gearbox             0\n",
       "Power               0\n",
       "Model               0\n",
       "Kilometer           0\n",
       "FuelType            0\n",
       "Brand               0\n",
       "Repaired            0\n",
       "dtype: int64"
      ]
     },
     "execution_count": 17,
     "metadata": {},
     "output_type": "execute_result"
    }
   ],
   "source": [
    "#посмотрим изменения\n",
    "df.isna().sum()"
   ]
  },
  {
   "cell_type": "code",
   "execution_count": 18,
   "metadata": {},
   "outputs": [
    {
     "data": {
      "text/plain": [
       "(354365, 10)"
      ]
     },
     "execution_count": 18,
     "metadata": {},
     "output_type": "execute_result"
    }
   ],
   "source": [
    "df.shape"
   ]
  },
  {
   "cell_type": "markdown",
   "metadata": {},
   "source": [
    "Найдем и обработаем аномалии"
   ]
  },
  {
   "cell_type": "code",
   "execution_count": 19,
   "metadata": {},
   "outputs": [
    {
     "data": {
      "text/plain": [
       "sedan          91457\n",
       "small          79830\n",
       "wagon          65165\n",
       "other          40778\n",
       "bus            28775\n",
       "convertible    20203\n",
       "coupe          16161\n",
       "suv            11996\n",
       "Name: VehicleType, dtype: int64"
      ]
     },
     "execution_count": 19,
     "metadata": {},
     "output_type": "execute_result"
    }
   ],
   "source": [
    "#посмотрим значения в столбце 'VehicleType '\n",
    "df['VehicleType'].value_counts()"
   ]
  },
  {
   "cell_type": "markdown",
   "metadata": {},
   "source": [
    "В столбце 'VehicleType' аномалии не обнаружены."
   ]
  },
  {
   "cell_type": "code",
   "execution_count": 20,
   "metadata": {},
   "outputs": [
    {
     "data": {
      "text/plain": [
       "2000    24490\n",
       "1999    22727\n",
       "2005    22109\n",
       "2001    20123\n",
       "2006    19900\n",
       "        ...  \n",
       "4100        1\n",
       "1200        1\n",
       "5300        1\n",
       "8888        1\n",
       "2290        1\n",
       "Name: RegistrationYear, Length: 151, dtype: int64"
      ]
     },
     "execution_count": 20,
     "metadata": {},
     "output_type": "execute_result"
    }
   ],
   "source": [
    "#посмотрим значения в столбце 'RegistrationYear'\n",
    "df['RegistrationYear'].value_counts()"
   ]
  },
  {
   "cell_type": "code",
   "execution_count": 21,
   "metadata": {},
   "outputs": [
    {
     "data": {
      "text/plain": [
       "array([1993, 2011, 2004, 2001, 2008, 1995, 1980, 2014, 1998, 2005, 1910,\n",
       "       2016, 2007, 2009, 2002, 2018, 1997, 1990, 2017, 1981, 2003, 1994,\n",
       "       1991, 1984, 2006, 1999, 2012, 2010, 2000, 1992, 2013, 1996, 1985,\n",
       "       1989, 2015, 1982, 1976, 1983, 1973, 1111, 1969, 1971, 1987, 1986,\n",
       "       1988, 1970, 1965, 1945, 1925, 1974, 1979, 1955, 1978, 1972, 1968,\n",
       "       1977, 1961, 1960, 1966, 1975, 1963, 1964, 5000, 1954, 1958, 1967,\n",
       "       1959, 9999, 1956, 3200, 1000, 1941, 8888, 1500, 2200, 4100, 1962,\n",
       "       1929, 1957, 1940, 3000, 2066, 1949, 2019, 1937, 1951, 1800, 1953,\n",
       "       1234, 8000, 5300, 9000, 2900, 6000, 5900, 5911, 1933, 1400, 1950,\n",
       "       4000, 1948, 1952, 1200, 8500, 1932, 1255, 3700, 3800, 4800, 1942,\n",
       "       7000, 1935, 1936, 6500, 1923, 2290, 2500, 1930, 1001, 9450, 1944,\n",
       "       1943, 1934, 1938, 1688, 2800, 1253, 1928, 1919, 5555, 5600, 1600,\n",
       "       2222, 1039, 9996, 1300, 8455, 1931, 1915, 4500, 1920, 1602, 7800,\n",
       "       9229, 1947, 1927, 7100, 8200, 1946, 7500, 3500])"
      ]
     },
     "execution_count": 21,
     "metadata": {},
     "output_type": "execute_result"
    }
   ],
   "source": [
    "df['RegistrationYear'].unique()"
   ]
  },
  {
   "cell_type": "markdown",
   "metadata": {},
   "source": [
    "Мы видим Год регистрации имеются аномальные значения и значения не соответствующие году. \n",
    "\n",
    "Так же не вижу смысла брать данные по старым годам (до 1990 года), так как ценообразование на автомобили могло изменится, поэтому возьмем для анализа данные с 1990 года по 2016 год."
   ]
  },
  {
   "cell_type": "code",
   "execution_count": 22,
   "metadata": {},
   "outputs": [],
   "source": [
    "df=df.loc[df['RegistrationYear'] >= 1990]"
   ]
  },
  {
   "cell_type": "code",
   "execution_count": 23,
   "metadata": {},
   "outputs": [],
   "source": [
    "df=df.loc[df['RegistrationYear'] <= 2016]"
   ]
  },
  {
   "cell_type": "code",
   "execution_count": 24,
   "metadata": {
    "scrolled": false
   },
   "outputs": [
    {
     "data": {
      "text/plain": [
       "2000    24490\n",
       "1999    22727\n",
       "2005    22109\n",
       "2001    20123\n",
       "2006    19900\n",
       "2003    19762\n",
       "2004    19611\n",
       "2002    19091\n",
       "1998    17899\n",
       "2007    17183\n",
       "2008    15391\n",
       "1997    14666\n",
       "2009    14503\n",
       "1996    10835\n",
       "2010    10764\n",
       "2011     9909\n",
       "1995     9607\n",
       "2016     9599\n",
       "2012     7178\n",
       "1994     4841\n",
       "2013     4131\n",
       "1993     3438\n",
       "1992     3002\n",
       "1990     2806\n",
       "1991     2762\n",
       "2014     2537\n",
       "2015     1302\n",
       "Name: RegistrationYear, dtype: int64"
      ]
     },
     "execution_count": 24,
     "metadata": {},
     "output_type": "execute_result"
    }
   ],
   "source": [
    "#посмотрим полученные значения в столбце 'RegistrationYear'\n",
    "df['RegistrationYear'].value_counts()"
   ]
  },
  {
   "cell_type": "code",
   "execution_count": 25,
   "metadata": {},
   "outputs": [
    {
     "data": {
      "text/plain": [
       "(330166, 10)"
      ]
     },
     "execution_count": 25,
     "metadata": {},
     "output_type": "execute_result"
    }
   ],
   "source": [
    "df.shape"
   ]
  },
  {
   "cell_type": "code",
   "execution_count": 26,
   "metadata": {},
   "outputs": [
    {
     "data": {
      "text/plain": [
       "manual    267721\n",
       "auto       62445\n",
       "Name: Gearbox, dtype: int64"
      ]
     },
     "execution_count": 26,
     "metadata": {},
     "output_type": "execute_result"
    }
   ],
   "source": [
    "#посмотрим значения в столбце 'Gearbox '\n",
    "df['Gearbox'].value_counts()"
   ]
  },
  {
   "cell_type": "markdown",
   "metadata": {},
   "source": [
    "В столбце 'Gearbox' аномалии не обнаружены."
   ]
  },
  {
   "cell_type": "code",
   "execution_count": 27,
   "metadata": {
    "scrolled": false
   },
   "outputs": [
    {
     "data": {
      "text/plain": [
       "volkswagen        70886\n",
       "opel              37334\n",
       "bmw               35074\n",
       "mercedes_benz     29388\n",
       "audi              27974\n",
       "ford              23671\n",
       "renault           16805\n",
       "peugeot           10577\n",
       "fiat               8852\n",
       "seat               6528\n",
       "mazda              5352\n",
       "skoda              5332\n",
       "smart              5029\n",
       "citroen            4763\n",
       "nissan             4698\n",
       "toyota             4395\n",
       "hyundai            3446\n",
       "mini               3064\n",
       "volvo              3023\n",
       "mitsubishi         2881\n",
       "honda              2639\n",
       "kia                2362\n",
       "sonstige_autos     2273\n",
       "suzuki             2174\n",
       "alfa_romeo         2130\n",
       "chevrolet          1489\n",
       "chrysler           1352\n",
       "dacia               873\n",
       "daihatsu            773\n",
       "subaru              728\n",
       "jeep                599\n",
       "porsche             574\n",
       "daewoo              512\n",
       "land_rover          493\n",
       "saab                488\n",
       "jaguar              457\n",
       "rover               451\n",
       "lancia              418\n",
       "lada                178\n",
       "trabant             131\n",
       "Name: Brand, dtype: int64"
      ]
     },
     "execution_count": 27,
     "metadata": {},
     "output_type": "execute_result"
    }
   ],
   "source": [
    "#посмотрим значения в столбце 'Brand'\n",
    "df['Brand'].value_counts()"
   ]
  },
  {
   "cell_type": "markdown",
   "metadata": {},
   "source": [
    "В столбце 'Brand' аномалии не обнаружены."
   ]
  },
  {
   "cell_type": "code",
   "execution_count": 28,
   "metadata": {},
   "outputs": [
    {
     "data": {
      "text/plain": [
       "no     296272\n",
       "yes     33894\n",
       "Name: Repaired, dtype: int64"
      ]
     },
     "execution_count": 28,
     "metadata": {},
     "output_type": "execute_result"
    }
   ],
   "source": [
    "#посмотрим значения в столбце 'Repaired'\n",
    "df['Repaired'].value_counts() "
   ]
  },
  {
   "cell_type": "markdown",
   "metadata": {},
   "source": [
    "В столбце 'Repaired' аномалии не обнаружены."
   ]
  },
  {
   "cell_type": "code",
   "execution_count": 29,
   "metadata": {},
   "outputs": [
    {
     "data": {
      "text/plain": [
       "<AxesSubplot:xlabel='Kilometer'>"
      ]
     },
     "execution_count": 29,
     "metadata": {},
     "output_type": "execute_result"
    },
    {
     "data": {
      "image/png": "[encoded data removed]",
      "text/plain": [
       "<Figure size 720x432 with 1 Axes>"
      ]
     },
     "metadata": {
      "needs_background": "light"
     },
     "output_type": "display_data"
    }
   ],
   "source": [
    "#посмотрим на аномалии по столбцу 'Kilometer'\n",
    "plt.figure(figsize=(10, 6))\n",
    "sns.boxplot(x=df['Kilometer'])\n"
   ]
  },
  {
   "cell_type": "markdown",
   "metadata": {},
   "source": [
    "Аномально больших значений не имеется, есть значения менее 80 000 км, но удалять их не стоит, потому что просто автомобили с небольшим пробегом."
   ]
  },
  {
   "cell_type": "code",
   "execution_count": 30,
   "metadata": {
    "scrolled": true
   },
   "outputs": [
    {
     "data": {
      "text/plain": [
       "<AxesSubplot:xlabel='Power'>"
      ]
     },
     "execution_count": 30,
     "metadata": {},
     "output_type": "execute_result"
    },
    {
     "data": {
      "image/png": "[encoded data removed]",
      "text/plain": [
       "<Figure size 720x432 with 1 Axes>"
      ]
     },
     "metadata": {
      "needs_background": "light"
     },
     "output_type": "display_data"
    }
   ],
   "source": [
    "#посмотрим на аномалии по столбцу 'Power'\n",
    "plt.figure(figsize=(10, 6))\n",
    "sns.boxplot(x=df['Power'])"
   ]
  },
  {
   "cell_type": "code",
   "execution_count": 31,
   "metadata": {},
   "outputs": [
    {
     "name": "stdout",
     "output_type": "stream",
     "text": [
      "        Price VehicleType  RegistrationYear Gearbox  Power    Model  \\\n",
      "1816     3200       small              2004  manual   1398  corolla   \n",
      "2102        0       sedan              1999  manual   1799   vectra   \n",
      "5328      500       wagon              1999  manual   1001    astra   \n",
      "7661     1499       small              1999  manual   7515     lupo   \n",
      "7720     1500       small              2000  manual   1400  unknown   \n",
      "...       ...         ...               ...     ...    ...      ...   \n",
      "348668   1000       wagon              1996  manual   2598       a6   \n",
      "348883   7500       sedan              2011  manual   1548   scenic   \n",
      "348968    250       small              1999  manual   1241  ypsilon   \n",
      "351947   1500         bus              2001  manual   1001   zafira   \n",
      "354260    399       other              1994  manual   1103      3er   \n",
      "\n",
      "        Kilometer  FuelType       Brand Repaired  \n",
      "1816         5000    petrol      toyota       no  \n",
      "2102       150000    petrol        opel      yes  \n",
      "5328       150000    petrol        opel       no  \n",
      "7661       150000    petrol  volkswagen       no  \n",
      "7720       150000    petrol       honda       no  \n",
      "...           ...       ...         ...      ...  \n",
      "348668     150000     other        audi       no  \n",
      "348883      90000    petrol     renault       no  \n",
      "348968     150000    petrol      lancia      yes  \n",
      "351947       5000  gasoline        opel       no  \n",
      "354260     150000     other         bmw       no  \n",
      "\n",
      "[272 rows x 10 columns]\n"
     ]
    }
   ],
   "source": [
    "print(df.loc[df['Power'] >= 1000])"
   ]
  },
  {
   "cell_type": "code",
   "execution_count": 32,
   "metadata": {},
   "outputs": [
    {
     "data": {
      "text/plain": [
       "(330166, 10)"
      ]
     },
     "execution_count": 32,
     "metadata": {},
     "output_type": "execute_result"
    }
   ],
   "source": [
    "df.shape"
   ]
  },
  {
   "cell_type": "code",
   "execution_count": 33,
   "metadata": {},
   "outputs": [],
   "source": [
    "df=df.loc[df['Power'] <= 1000]"
   ]
  },
  {
   "cell_type": "code",
   "execution_count": 34,
   "metadata": {},
   "outputs": [
    {
     "data": {
      "text/plain": [
       "(329897, 10)"
      ]
     },
     "execution_count": 34,
     "metadata": {},
     "output_type": "execute_result"
    }
   ],
   "source": [
    "df.shape"
   ]
  },
  {
   "cell_type": "code",
   "execution_count": 35,
   "metadata": {},
   "outputs": [
    {
     "name": "stdout",
     "output_type": "stream",
     "text": [
      "        Price VehicleType  RegistrationYear Gearbox  Power     Model  \\\n",
      "0         480       other              1993  manual      0      golf   \n",
      "32        245       sedan              1994  manual      0      golf   \n",
      "37       1500       other              2016  manual      0    kangoo   \n",
      "40          0       other              1990  manual      0     corsa   \n",
      "54       4700       wagon              2005  manual      0    signum   \n",
      "...       ...         ...               ...     ...    ...       ...   \n",
      "354346   2600       other              2005    auto      0  c_klasse   \n",
      "354360   3999       wagon              2005  manual      3       3er   \n",
      "354363   1150         bus              2000  manual      0    zafira   \n",
      "354364      0       other              2005  manual      0      colt   \n",
      "354365   2200       other              2005  manual      0   unknown   \n",
      "\n",
      "        Kilometer  FuelType           Brand Repaired  \n",
      "0          150000    petrol      volkswagen       no  \n",
      "32         150000    petrol      volkswagen       no  \n",
      "37         150000  gasoline         renault       no  \n",
      "40         150000    petrol            opel       no  \n",
      "54         150000     other            opel       no  \n",
      "...           ...       ...             ...      ...  \n",
      "354346     150000     other   mercedes_benz       no  \n",
      "354360     150000  gasoline             bmw       no  \n",
      "354363     150000    petrol            opel       no  \n",
      "354364     150000    petrol      mitsubishi      yes  \n",
      "354365      20000     other  sonstige_autos       no  \n",
      "\n",
      "[34295 rows x 10 columns]\n"
     ]
    }
   ],
   "source": [
    "print(df.loc[df['Power'] <= 5])"
   ]
  },
  {
   "cell_type": "code",
   "execution_count": 36,
   "metadata": {},
   "outputs": [],
   "source": [
    "df=df.loc[df['Power'] >= 5]"
   ]
  },
  {
   "cell_type": "code",
   "execution_count": 37,
   "metadata": {},
   "outputs": [
    {
     "data": {
      "text/plain": [
       "(295704, 10)"
      ]
     },
     "execution_count": 37,
     "metadata": {},
     "output_type": "execute_result"
    }
   ],
   "source": [
    "df.shape"
   ]
  },
  {
   "cell_type": "markdown",
   "metadata": {},
   "source": [
    "Ограничем мощность от 100 до 1000 единиц"
   ]
  },
  {
   "cell_type": "code",
   "execution_count": 38,
   "metadata": {
    "scrolled": false
   },
   "outputs": [
    {
     "data": {
      "text/plain": [
       "<AxesSubplot:xlabel='Price'>"
      ]
     },
     "execution_count": 38,
     "metadata": {},
     "output_type": "execute_result"
    },
    {
     "data": {
      "image/png": "[encoded data removed]",
      "text/plain": [
       "<Figure size 720x432 with 1 Axes>"
      ]
     },
     "metadata": {
      "needs_background": "light"
     },
     "output_type": "display_data"
    }
   ],
   "source": [
    "#посмотрим на аномалии по столбцу 'Price'\n",
    "plt.figure(figsize=(10, 6))\n",
    "sns.boxplot(x=df['Price'])"
   ]
  },
  {
   "cell_type": "code",
   "execution_count": 39,
   "metadata": {},
   "outputs": [
    {
     "name": "stdout",
     "output_type": "stream",
     "text": [
      "        Price VehicleType  RegistrationYear Gearbox  Power     Model  \\\n",
      "59          1         suv              1994  manual    286   unknown   \n",
      "89          1       sedan              1995  manual    113  e_klasse   \n",
      "152         0         bus              2004  manual    101    meriva   \n",
      "231         0       wagon              2001  manual    115    mondeo   \n",
      "268         1       sedan              1990  manual     90        80   \n",
      "...       ...         ...               ...     ...    ...       ...   \n",
      "354205      0       other              2000  manual     65     corsa   \n",
      "354238      0       small              2002  manual     60    fiesta   \n",
      "354248      0       small              1999  manual     53     swift   \n",
      "354277      0       small              1999  manual     37     arosa   \n",
      "354309     99       small              1999  manual     60     arosa   \n",
      "\n",
      "        Kilometer  FuelType           Brand Repaired  \n",
      "59         150000     other  sonstige_autos       no  \n",
      "89         150000  gasoline   mercedes_benz       no  \n",
      "152        150000       lpg            opel      yes  \n",
      "231        150000     other            ford       no  \n",
      "268         70000    petrol            audi       no  \n",
      "...           ...       ...             ...      ...  \n",
      "354205     150000     other            opel      yes  \n",
      "354238     150000    petrol            ford       no  \n",
      "354248     150000    petrol          suzuki       no  \n",
      "354277     150000    petrol            seat      yes  \n",
      "354309     150000    petrol            seat      yes  \n",
      "\n",
      "[7815 rows x 10 columns]\n"
     ]
    }
   ],
   "source": [
    "print(df.loc[df['Price'] <= 100])"
   ]
  },
  {
   "cell_type": "code",
   "execution_count": 40,
   "metadata": {},
   "outputs": [],
   "source": [
    "df=df.loc[df['Price'] >= 100]"
   ]
  },
  {
   "cell_type": "code",
   "execution_count": 41,
   "metadata": {},
   "outputs": [
    {
     "data": {
      "text/plain": [
       "(288491, 10)"
      ]
     },
     "execution_count": 41,
     "metadata": {},
     "output_type": "execute_result"
    }
   ],
   "source": [
    "df.shape"
   ]
  },
  {
   "cell_type": "markdown",
   "metadata": {},
   "source": [
    "Вывод\n",
    "\n",
    "Датасет загружен\n",
    "\n",
    "Проведена предобработка данных\n",
    "\n",
    "Форматы данных корректные\n",
    "\n",
    "Найдены и удалены дубликаты\n",
    "\n",
    "Заполнены пропущенные значения\n",
    "\n",
    "Удалены неинформативные столбцы\n",
    "\n",
    "Аномалии найдены и обработаны\n",
    "\n",
    "Размер преобразованной таблицы составил 10 столбцов и 354 365 строк.\n",
    "\n",
    "\n"
   ]
  },
  {
   "cell_type": "markdown",
   "metadata": {},
   "source": [
    "## Обучение моделей"
   ]
  },
  {
   "cell_type": "code",
   "execution_count": 42,
   "metadata": {},
   "outputs": [],
   "source": [
    "#подготовим выборки для обучения моделей\n",
    "#признаками будут являться все, кроме 'Price',поэтому удалим этот столбец\n",
    "features = df.drop(['Price'], axis=1)\n",
    "#целевой признак - 'Price',выберем его\n",
    "target = df['Price']\n",
    "\n",
    "#отделим 40% данных для валидационной и тестовой выборки\n",
    "features_train, features_valid_test, target_train, target_valid_test = train_test_split(\n",
    "    features, target, test_size=0.4, random_state=12345) "
   ]
  },
  {
   "cell_type": "code",
   "execution_count": 43,
   "metadata": {},
   "outputs": [
    {
     "data": {
      "text/plain": [
       "(173094, 9)"
      ]
     },
     "execution_count": 43,
     "metadata": {},
     "output_type": "execute_result"
    }
   ],
   "source": [
    "#размер тренировочной выборки\n",
    "features_train.shape"
   ]
  },
  {
   "cell_type": "code",
   "execution_count": 44,
   "metadata": {},
   "outputs": [
    {
     "data": {
      "text/plain": [
       "(115397, 9)"
      ]
     },
     "execution_count": 44,
     "metadata": {},
     "output_type": "execute_result"
    }
   ],
   "source": [
    "#размер валидационной и тестовой выборки\n",
    "features_valid_test.shape"
   ]
  },
  {
   "cell_type": "code",
   "execution_count": 45,
   "metadata": {},
   "outputs": [],
   "source": [
    "#отделим пополам данные валидационной и тестовой выборки\n",
    "features_test, features_valid, target_test, target_valid = train_test_split(\n",
    "    features_valid_test, target_valid_test, test_size=0.5, random_state=12345)"
   ]
  },
  {
   "cell_type": "code",
   "execution_count": 46,
   "metadata": {},
   "outputs": [
    {
     "data": {
      "text/plain": [
       "(57698, 9)"
      ]
     },
     "execution_count": 46,
     "metadata": {},
     "output_type": "execute_result"
    }
   ],
   "source": [
    "#размер тестовой выборки\n",
    "features_test.shape"
   ]
  },
  {
   "cell_type": "code",
   "execution_count": 47,
   "metadata": {},
   "outputs": [
    {
     "data": {
      "text/plain": [
       "(57699, 9)"
      ]
     },
     "execution_count": 47,
     "metadata": {},
     "output_type": "execute_result"
    }
   ],
   "source": [
    "#размер валидационной выборки\n",
    "features_valid.shape"
   ]
  },
  {
   "cell_type": "code",
   "execution_count": 48,
   "metadata": {},
   "outputs": [],
   "source": [
    "# порядковое кодирование\n",
    "encoder = OrdinalEncoder(handle_unknown='use_encoded_value', unknown_value=9999)\n",
    "cat_columns = ['VehicleType', 'Gearbox', 'Model', 'FuelType', 'Brand', 'Repaired']\n",
    "encoder.fit(features_train[cat_columns])\n",
    "\n",
    "features_train_ord = features_train.copy()\n",
    "features_valid_ord = features_valid.copy()\n",
    "features_test_ord = features_test.copy()\n",
    "\n",
    "features_train_ord[cat_columns] = encoder.transform(features_train_ord[cat_columns])\n",
    "features_valid_ord[cat_columns] = encoder.transform(features_valid_ord[cat_columns])\n",
    "features_test_ord[cat_columns] = encoder.transform(features_test_ord[cat_columns])\n",
    "\n"
   ]
  },
  {
   "cell_type": "markdown",
   "metadata": {},
   "source": [
    "Catboost"
   ]
  },
  {
   "cell_type": "code",
   "execution_count": 49,
   "metadata": {},
   "outputs": [
    {
     "data": {
      "text/html": [
       "<div>\n",
       "<style scoped>\n",
       "    .dataframe tbody tr th:only-of-type {\n",
       "        vertical-align: middle;\n",
       "    }\n",
       "\n",
       "    .dataframe tbody tr th {\n",
       "        vertical-align: top;\n",
       "    }\n",
       "\n",
       "    .dataframe thead th {\n",
       "        text-align: right;\n",
       "    }\n",
       "</style>\n",
       "<table border=\"1\" class=\"dataframe\">\n",
       "  <thead>\n",
       "    <tr style=\"text-align: right;\">\n",
       "      <th></th>\n",
       "      <th>Price</th>\n",
       "      <th>VehicleType</th>\n",
       "      <th>RegistrationYear</th>\n",
       "      <th>Gearbox</th>\n",
       "      <th>Power</th>\n",
       "      <th>Model</th>\n",
       "      <th>Kilometer</th>\n",
       "      <th>FuelType</th>\n",
       "      <th>Brand</th>\n",
       "      <th>Repaired</th>\n",
       "    </tr>\n",
       "  </thead>\n",
       "  <tbody>\n",
       "    <tr>\n",
       "      <th>1</th>\n",
       "      <td>18300</td>\n",
       "      <td>coupe</td>\n",
       "      <td>2011</td>\n",
       "      <td>manual</td>\n",
       "      <td>190</td>\n",
       "      <td>unknown</td>\n",
       "      <td>125000</td>\n",
       "      <td>gasoline</td>\n",
       "      <td>audi</td>\n",
       "      <td>yes</td>\n",
       "    </tr>\n",
       "    <tr>\n",
       "      <th>2</th>\n",
       "      <td>9800</td>\n",
       "      <td>suv</td>\n",
       "      <td>2004</td>\n",
       "      <td>auto</td>\n",
       "      <td>163</td>\n",
       "      <td>grand</td>\n",
       "      <td>125000</td>\n",
       "      <td>gasoline</td>\n",
       "      <td>jeep</td>\n",
       "      <td>no</td>\n",
       "    </tr>\n",
       "    <tr>\n",
       "      <th>3</th>\n",
       "      <td>1500</td>\n",
       "      <td>small</td>\n",
       "      <td>2001</td>\n",
       "      <td>manual</td>\n",
       "      <td>75</td>\n",
       "      <td>golf</td>\n",
       "      <td>150000</td>\n",
       "      <td>petrol</td>\n",
       "      <td>volkswagen</td>\n",
       "      <td>no</td>\n",
       "    </tr>\n",
       "    <tr>\n",
       "      <th>4</th>\n",
       "      <td>3600</td>\n",
       "      <td>small</td>\n",
       "      <td>2008</td>\n",
       "      <td>manual</td>\n",
       "      <td>69</td>\n",
       "      <td>fabia</td>\n",
       "      <td>90000</td>\n",
       "      <td>gasoline</td>\n",
       "      <td>skoda</td>\n",
       "      <td>no</td>\n",
       "    </tr>\n",
       "    <tr>\n",
       "      <th>5</th>\n",
       "      <td>650</td>\n",
       "      <td>sedan</td>\n",
       "      <td>1995</td>\n",
       "      <td>manual</td>\n",
       "      <td>102</td>\n",
       "      <td>3er</td>\n",
       "      <td>150000</td>\n",
       "      <td>petrol</td>\n",
       "      <td>bmw</td>\n",
       "      <td>yes</td>\n",
       "    </tr>\n",
       "  </tbody>\n",
       "</table>\n",
       "</div>"
      ],
      "text/plain": [
       "   Price VehicleType  RegistrationYear Gearbox  Power    Model  Kilometer  \\\n",
       "1  18300       coupe              2011  manual    190  unknown     125000   \n",
       "2   9800         suv              2004    auto    163    grand     125000   \n",
       "3   1500       small              2001  manual     75     golf     150000   \n",
       "4   3600       small              2008  manual     69    fabia      90000   \n",
       "5    650       sedan              1995  manual    102      3er     150000   \n",
       "\n",
       "   FuelType       Brand Repaired  \n",
       "1  gasoline        audi      yes  \n",
       "2  gasoline        jeep       no  \n",
       "3    petrol  volkswagen       no  \n",
       "4  gasoline       skoda       no  \n",
       "5    petrol         bmw      yes  "
      ]
     },
     "execution_count": 49,
     "metadata": {},
     "output_type": "execute_result"
    }
   ],
   "source": [
    "df.head()"
   ]
  },
  {
   "cell_type": "code",
   "execution_count": 50,
   "metadata": {},
   "outputs": [],
   "source": [
    "cat_features = ['VehicleType','Gearbox','Model','FuelType','Brand','Repaired']"
   ]
  },
  {
   "cell_type": "code",
   "execution_count": 51,
   "metadata": {},
   "outputs": [
    {
     "name": "stdout",
     "output_type": "stream",
     "text": [
      "Learning rate set to 0.432181\n",
      "0:\tlearn: 3399.6580853\ttotal: 116ms\tremaining: 17.3s\n",
      "10:\tlearn: 1808.4708262\ttotal: 660ms\tremaining: 8.33s\n",
      "20:\tlearn: 1722.0372503\ttotal: 1.17s\tremaining: 7.18s\n",
      "30:\tlearn: 1676.7639838\ttotal: 1.68s\tremaining: 6.45s\n",
      "40:\tlearn: 1645.2609073\ttotal: 2.19s\tremaining: 5.83s\n",
      "50:\tlearn: 1619.2883064\ttotal: 2.72s\tremaining: 5.28s\n",
      "60:\tlearn: 1597.0150923\ttotal: 3.22s\tremaining: 4.7s\n",
      "70:\tlearn: 1576.0319803\ttotal: 3.74s\tremaining: 4.16s\n",
      "80:\tlearn: 1563.1932866\ttotal: 4.24s\tremaining: 3.61s\n",
      "90:\tlearn: 1552.6752583\ttotal: 4.74s\tremaining: 3.07s\n",
      "100:\tlearn: 1540.3489887\ttotal: 5.25s\tremaining: 2.55s\n",
      "110:\tlearn: 1528.6745352\ttotal: 5.78s\tremaining: 2.03s\n",
      "120:\tlearn: 1520.1201345\ttotal: 6.3s\tremaining: 1.51s\n",
      "130:\tlearn: 1514.0357354\ttotal: 6.83s\tremaining: 991ms\n",
      "140:\tlearn: 1505.9637590\ttotal: 7.33s\tremaining: 468ms\n",
      "149:\tlearn: 1500.3926971\ttotal: 7.79s\tremaining: 0us\n",
      "CPU times: user 7.98 s, sys: 115 ms, total: 8.1 s\n",
      "Wall time: 8.55 s\n"
     ]
    },
    {
     "data": {
      "text/plain": [
       "<catboost.core.CatBoostRegressor at 0x7f608fa91c10>"
      ]
     },
     "execution_count": 51,
     "metadata": {},
     "output_type": "execute_result"
    }
   ],
   "source": [
    "%%time\n",
    "model = CatBoostRegressor(loss_function=\"RMSE\", iterations=150)\n",
    "model.fit(features_train, target_train,cat_features=cat_features, verbose=10)\n"
   ]
  },
  {
   "cell_type": "code",
   "execution_count": 52,
   "metadata": {},
   "outputs": [
    {
     "name": "stdout",
     "output_type": "stream",
     "text": [
      "RMSE: 1547.3423719943892\n",
      "CPU times: user 80 ms, sys: 291 µs, total: 80.3 ms\n",
      "Wall time: 78.2 ms\n"
     ]
    }
   ],
   "source": [
    "%%time\n",
    "predicted_valid = model.predict(features_valid)\n",
    "rmse=np.sqrt(mean_squared_error(target_valid, predicted_valid))\n",
    "print(\"RMSE:\", rmse)"
   ]
  },
  {
   "cell_type": "markdown",
   "metadata": {},
   "source": [
    "LightGBM"
   ]
  },
  {
   "cell_type": "markdown",
   "metadata": {},
   "source": [
    "Спасибо, я просто подумала что для Сatboost можно и не преобразовывать данные, так как он не жалуется на категориальные признаки."
   ]
  },
  {
   "cell_type": "code",
   "execution_count": 55,
   "metadata": {
    "scrolled": true
   },
   "outputs": [
    {
     "name": "stdout",
     "output_type": "stream",
     "text": [
      "Fitting 3 folds for each of 4 candidates, totalling 12 fits\n",
      "[CV 1/3; 1/4] START n_estimators=100, num_leaves=1..............................\n",
      "[CV 1/3; 1/4] END ............n_estimators=100, num_leaves=1; total time=   0.0s\n",
      "[CV 2/3; 1/4] START n_estimators=100, num_leaves=1..............................\n",
      "[CV 2/3; 1/4] END ............n_estimators=100, num_leaves=1; total time=   0.0s\n",
      "[CV 3/3; 1/4] START n_estimators=100, num_leaves=1..............................\n",
      "[CV 3/3; 1/4] END ............n_estimators=100, num_leaves=1; total time=   0.0s\n",
      "[CV 1/3; 2/4] START n_estimators=100, num_leaves=5..............................\n"
     ]
    },
    {
     "name": "stderr",
     "output_type": "stream",
     "text": [
      "[LightGBM] [Fatal] Check failed: (num_leaves) > (1) at /__w/1/s/python-package/compile/src/io/config_auto.cpp, line 334 .\n",
      "\n",
      "/opt/conda/lib/python3.9/site-packages/sklearn/model_selection/_validation.py:610: FitFailedWarning: Estimator fit failed. The score on this train-test partition for these parameters will be set to nan. Details: \n",
      "Traceback (most recent call last):\n",
      "  File \"/opt/conda/lib/python3.9/site-packages/sklearn/model_selection/_validation.py\", line 593, in _fit_and_score\n",
      "    estimator.fit(X_train, y_train, **fit_params)\n",
      "  File \"/opt/conda/lib/python3.9/site-packages/lightgbm/sklearn.py\", line 895, in fit\n",
      "    super().fit(X, y, sample_weight=sample_weight, init_score=init_score,\n",
      "  File \"/opt/conda/lib/python3.9/site-packages/lightgbm/sklearn.py\", line 748, in fit\n",
      "    self._Booster = train(\n",
      "  File \"/opt/conda/lib/python3.9/site-packages/lightgbm/engine.py\", line 271, in train\n",
      "    booster = Booster(params=params, train_set=train_set)\n",
      "  File \"/opt/conda/lib/python3.9/site-packages/lightgbm/basic.py\", line 2605, in __init__\n",
      "    train_set.construct()\n",
      "  File \"/opt/conda/lib/python3.9/site-packages/lightgbm/basic.py\", line 1815, in construct\n",
      "    self._lazy_init(self.data, label=self.label,\n",
      "  File \"/opt/conda/lib/python3.9/site-packages/lightgbm/basic.py\", line 1538, in _lazy_init\n",
      "    self.__init_from_np2d(data, params_str, ref_dataset)\n",
      "  File \"/opt/conda/lib/python3.9/site-packages/lightgbm/basic.py\", line 1659, in __init_from_np2d\n",
      "    _safe_call(_LIB.LGBM_DatasetCreateFromMat(\n",
      "  File \"/opt/conda/lib/python3.9/site-packages/lightgbm/basic.py\", line 125, in _safe_call\n",
      "    raise LightGBMError(_LIB.LGBM_GetLastError().decode('utf-8'))\n",
      "lightgbm.basic.LightGBMError: Check failed: (num_leaves) > (1) at /__w/1/s/python-package/compile/src/io/config_auto.cpp, line 334 .\n",
      "\n",
      "\n",
      "  warnings.warn(\"Estimator fit failed. The score on this train-test\"\n",
      "[LightGBM] [Fatal] Check failed: (num_leaves) > (1) at /__w/1/s/python-package/compile/src/io/config_auto.cpp, line 334 .\n",
      "\n",
      "/opt/conda/lib/python3.9/site-packages/sklearn/model_selection/_validation.py:610: FitFailedWarning: Estimator fit failed. The score on this train-test partition for these parameters will be set to nan. Details: \n",
      "Traceback (most recent call last):\n",
      "  File \"/opt/conda/lib/python3.9/site-packages/sklearn/model_selection/_validation.py\", line 593, in _fit_and_score\n",
      "    estimator.fit(X_train, y_train, **fit_params)\n",
      "  File \"/opt/conda/lib/python3.9/site-packages/lightgbm/sklearn.py\", line 895, in fit\n",
      "    super().fit(X, y, sample_weight=sample_weight, init_score=init_score,\n",
      "  File \"/opt/conda/lib/python3.9/site-packages/lightgbm/sklearn.py\", line 748, in fit\n",
      "    self._Booster = train(\n",
      "  File \"/opt/conda/lib/python3.9/site-packages/lightgbm/engine.py\", line 271, in train\n",
      "    booster = Booster(params=params, train_set=train_set)\n",
      "  File \"/opt/conda/lib/python3.9/site-packages/lightgbm/basic.py\", line 2605, in __init__\n",
      "    train_set.construct()\n",
      "  File \"/opt/conda/lib/python3.9/site-packages/lightgbm/basic.py\", line 1815, in construct\n",
      "    self._lazy_init(self.data, label=self.label,\n",
      "  File \"/opt/conda/lib/python3.9/site-packages/lightgbm/basic.py\", line 1538, in _lazy_init\n",
      "    self.__init_from_np2d(data, params_str, ref_dataset)\n",
      "  File \"/opt/conda/lib/python3.9/site-packages/lightgbm/basic.py\", line 1659, in __init_from_np2d\n",
      "    _safe_call(_LIB.LGBM_DatasetCreateFromMat(\n",
      "  File \"/opt/conda/lib/python3.9/site-packages/lightgbm/basic.py\", line 125, in _safe_call\n",
      "    raise LightGBMError(_LIB.LGBM_GetLastError().decode('utf-8'))\n",
      "lightgbm.basic.LightGBMError: Check failed: (num_leaves) > (1) at /__w/1/s/python-package/compile/src/io/config_auto.cpp, line 334 .\n",
      "\n",
      "\n",
      "  warnings.warn(\"Estimator fit failed. The score on this train-test\"\n",
      "[LightGBM] [Fatal] Check failed: (num_leaves) > (1) at /__w/1/s/python-package/compile/src/io/config_auto.cpp, line 334 .\n",
      "\n",
      "/opt/conda/lib/python3.9/site-packages/sklearn/model_selection/_validation.py:610: FitFailedWarning: Estimator fit failed. The score on this train-test partition for these parameters will be set to nan. Details: \n",
      "Traceback (most recent call last):\n",
      "  File \"/opt/conda/lib/python3.9/site-packages/sklearn/model_selection/_validation.py\", line 593, in _fit_and_score\n",
      "    estimator.fit(X_train, y_train, **fit_params)\n",
      "  File \"/opt/conda/lib/python3.9/site-packages/lightgbm/sklearn.py\", line 895, in fit\n",
      "    super().fit(X, y, sample_weight=sample_weight, init_score=init_score,\n",
      "  File \"/opt/conda/lib/python3.9/site-packages/lightgbm/sklearn.py\", line 748, in fit\n",
      "    self._Booster = train(\n",
      "  File \"/opt/conda/lib/python3.9/site-packages/lightgbm/engine.py\", line 271, in train\n",
      "    booster = Booster(params=params, train_set=train_set)\n",
      "  File \"/opt/conda/lib/python3.9/site-packages/lightgbm/basic.py\", line 2605, in __init__\n",
      "    train_set.construct()\n",
      "  File \"/opt/conda/lib/python3.9/site-packages/lightgbm/basic.py\", line 1815, in construct\n",
      "    self._lazy_init(self.data, label=self.label,\n",
      "  File \"/opt/conda/lib/python3.9/site-packages/lightgbm/basic.py\", line 1538, in _lazy_init\n",
      "    self.__init_from_np2d(data, params_str, ref_dataset)\n",
      "  File \"/opt/conda/lib/python3.9/site-packages/lightgbm/basic.py\", line 1659, in __init_from_np2d\n",
      "    _safe_call(_LIB.LGBM_DatasetCreateFromMat(\n",
      "  File \"/opt/conda/lib/python3.9/site-packages/lightgbm/basic.py\", line 125, in _safe_call\n",
      "    raise LightGBMError(_LIB.LGBM_GetLastError().decode('utf-8'))\n",
      "lightgbm.basic.LightGBMError: Check failed: (num_leaves) > (1) at /__w/1/s/python-package/compile/src/io/config_auto.cpp, line 334 .\n",
      "\n",
      "\n",
      "  warnings.warn(\"Estimator fit failed. The score on this train-test\"\n"
     ]
    },
    {
     "name": "stdout",
     "output_type": "stream",
     "text": [
      "[CV 1/3; 2/4] END ............n_estimators=100, num_leaves=5; total time=   1.9s\n",
      "[CV 2/3; 2/4] START n_estimators=100, num_leaves=5..............................\n",
      "[CV 2/3; 2/4] END ............n_estimators=100, num_leaves=5; total time=   2.0s\n",
      "[CV 3/3; 2/4] START n_estimators=100, num_leaves=5..............................\n",
      "[CV 3/3; 2/4] END ............n_estimators=100, num_leaves=5; total time=   2.3s\n",
      "[CV 1/3; 3/4] START n_estimators=3000, num_leaves=1.............................\n",
      "[CV 1/3; 3/4] END ...........n_estimators=3000, num_leaves=1; total time=   0.0s\n",
      "[CV 2/3; 3/4] START n_estimators=3000, num_leaves=1.............................\n",
      "[CV 2/3; 3/4] END ...........n_estimators=3000, num_leaves=1; total time=   0.0s\n",
      "[CV 3/3; 3/4] START n_estimators=3000, num_leaves=1.............................\n",
      "[CV 3/3; 3/4] END ...........n_estimators=3000, num_leaves=1; total time=   0.0s\n",
      "[CV 1/3; 4/4] START n_estimators=3000, num_leaves=5.............................\n"
     ]
    },
    {
     "name": "stderr",
     "output_type": "stream",
     "text": [
      "[LightGBM] [Fatal] Check failed: (num_leaves) > (1) at /__w/1/s/python-package/compile/src/io/config_auto.cpp, line 334 .\n",
      "\n",
      "/opt/conda/lib/python3.9/site-packages/sklearn/model_selection/_validation.py:610: FitFailedWarning: Estimator fit failed. The score on this train-test partition for these parameters will be set to nan. Details: \n",
      "Traceback (most recent call last):\n",
      "  File \"/opt/conda/lib/python3.9/site-packages/sklearn/model_selection/_validation.py\", line 593, in _fit_and_score\n",
      "    estimator.fit(X_train, y_train, **fit_params)\n",
      "  File \"/opt/conda/lib/python3.9/site-packages/lightgbm/sklearn.py\", line 895, in fit\n",
      "    super().fit(X, y, sample_weight=sample_weight, init_score=init_score,\n",
      "  File \"/opt/conda/lib/python3.9/site-packages/lightgbm/sklearn.py\", line 748, in fit\n",
      "    self._Booster = train(\n",
      "  File \"/opt/conda/lib/python3.9/site-packages/lightgbm/engine.py\", line 271, in train\n",
      "    booster = Booster(params=params, train_set=train_set)\n",
      "  File \"/opt/conda/lib/python3.9/site-packages/lightgbm/basic.py\", line 2605, in __init__\n",
      "    train_set.construct()\n",
      "  File \"/opt/conda/lib/python3.9/site-packages/lightgbm/basic.py\", line 1815, in construct\n",
      "    self._lazy_init(self.data, label=self.label,\n",
      "  File \"/opt/conda/lib/python3.9/site-packages/lightgbm/basic.py\", line 1538, in _lazy_init\n",
      "    self.__init_from_np2d(data, params_str, ref_dataset)\n",
      "  File \"/opt/conda/lib/python3.9/site-packages/lightgbm/basic.py\", line 1659, in __init_from_np2d\n",
      "    _safe_call(_LIB.LGBM_DatasetCreateFromMat(\n",
      "  File \"/opt/conda/lib/python3.9/site-packages/lightgbm/basic.py\", line 125, in _safe_call\n",
      "    raise LightGBMError(_LIB.LGBM_GetLastError().decode('utf-8'))\n",
      "lightgbm.basic.LightGBMError: Check failed: (num_leaves) > (1) at /__w/1/s/python-package/compile/src/io/config_auto.cpp, line 334 .\n",
      "\n",
      "\n",
      "  warnings.warn(\"Estimator fit failed. The score on this train-test\"\n",
      "[LightGBM] [Fatal] Check failed: (num_leaves) > (1) at /__w/1/s/python-package/compile/src/io/config_auto.cpp, line 334 .\n",
      "\n",
      "/opt/conda/lib/python3.9/site-packages/sklearn/model_selection/_validation.py:610: FitFailedWarning: Estimator fit failed. The score on this train-test partition for these parameters will be set to nan. Details: \n",
      "Traceback (most recent call last):\n",
      "  File \"/opt/conda/lib/python3.9/site-packages/sklearn/model_selection/_validation.py\", line 593, in _fit_and_score\n",
      "    estimator.fit(X_train, y_train, **fit_params)\n",
      "  File \"/opt/conda/lib/python3.9/site-packages/lightgbm/sklearn.py\", line 895, in fit\n",
      "    super().fit(X, y, sample_weight=sample_weight, init_score=init_score,\n",
      "  File \"/opt/conda/lib/python3.9/site-packages/lightgbm/sklearn.py\", line 748, in fit\n",
      "    self._Booster = train(\n",
      "  File \"/opt/conda/lib/python3.9/site-packages/lightgbm/engine.py\", line 271, in train\n",
      "    booster = Booster(params=params, train_set=train_set)\n",
      "  File \"/opt/conda/lib/python3.9/site-packages/lightgbm/basic.py\", line 2605, in __init__\n",
      "    train_set.construct()\n",
      "  File \"/opt/conda/lib/python3.9/site-packages/lightgbm/basic.py\", line 1815, in construct\n",
      "    self._lazy_init(self.data, label=self.label,\n",
      "  File \"/opt/conda/lib/python3.9/site-packages/lightgbm/basic.py\", line 1538, in _lazy_init\n",
      "    self.__init_from_np2d(data, params_str, ref_dataset)\n",
      "  File \"/opt/conda/lib/python3.9/site-packages/lightgbm/basic.py\", line 1659, in __init_from_np2d\n",
      "    _safe_call(_LIB.LGBM_DatasetCreateFromMat(\n",
      "  File \"/opt/conda/lib/python3.9/site-packages/lightgbm/basic.py\", line 125, in _safe_call\n",
      "    raise LightGBMError(_LIB.LGBM_GetLastError().decode('utf-8'))\n",
      "lightgbm.basic.LightGBMError: Check failed: (num_leaves) > (1) at /__w/1/s/python-package/compile/src/io/config_auto.cpp, line 334 .\n",
      "\n",
      "\n",
      "  warnings.warn(\"Estimator fit failed. The score on this train-test\"\n",
      "[LightGBM] [Fatal] Check failed: (num_leaves) > (1) at /__w/1/s/python-package/compile/src/io/config_auto.cpp, line 334 .\n",
      "\n",
      "/opt/conda/lib/python3.9/site-packages/sklearn/model_selection/_validation.py:610: FitFailedWarning: Estimator fit failed. The score on this train-test partition for these parameters will be set to nan. Details: \n",
      "Traceback (most recent call last):\n",
      "  File \"/opt/conda/lib/python3.9/site-packages/sklearn/model_selection/_validation.py\", line 593, in _fit_and_score\n",
      "    estimator.fit(X_train, y_train, **fit_params)\n",
      "  File \"/opt/conda/lib/python3.9/site-packages/lightgbm/sklearn.py\", line 895, in fit\n",
      "    super().fit(X, y, sample_weight=sample_weight, init_score=init_score,\n",
      "  File \"/opt/conda/lib/python3.9/site-packages/lightgbm/sklearn.py\", line 748, in fit\n",
      "    self._Booster = train(\n",
      "  File \"/opt/conda/lib/python3.9/site-packages/lightgbm/engine.py\", line 271, in train\n",
      "    booster = Booster(params=params, train_set=train_set)\n",
      "  File \"/opt/conda/lib/python3.9/site-packages/lightgbm/basic.py\", line 2605, in __init__\n",
      "    train_set.construct()\n",
      "  File \"/opt/conda/lib/python3.9/site-packages/lightgbm/basic.py\", line 1815, in construct\n",
      "    self._lazy_init(self.data, label=self.label,\n",
      "  File \"/opt/conda/lib/python3.9/site-packages/lightgbm/basic.py\", line 1538, in _lazy_init\n",
      "    self.__init_from_np2d(data, params_str, ref_dataset)\n",
      "  File \"/opt/conda/lib/python3.9/site-packages/lightgbm/basic.py\", line 1659, in __init_from_np2d\n",
      "    _safe_call(_LIB.LGBM_DatasetCreateFromMat(\n",
      "  File \"/opt/conda/lib/python3.9/site-packages/lightgbm/basic.py\", line 125, in _safe_call\n",
      "    raise LightGBMError(_LIB.LGBM_GetLastError().decode('utf-8'))\n",
      "lightgbm.basic.LightGBMError: Check failed: (num_leaves) > (1) at /__w/1/s/python-package/compile/src/io/config_auto.cpp, line 334 .\n",
      "\n",
      "\n",
      "  warnings.warn(\"Estimator fit failed. The score on this train-test\"\n"
     ]
    },
    {
     "name": "stdout",
     "output_type": "stream",
     "text": [
      "[CV 1/3; 4/4] END ...........n_estimators=3000, num_leaves=5; total time= 1.2min\n",
      "[CV 2/3; 4/4] START n_estimators=3000, num_leaves=5.............................\n",
      "[CV 2/3; 4/4] END ...........n_estimators=3000, num_leaves=5; total time=  43.7s\n",
      "[CV 3/3; 4/4] START n_estimators=3000, num_leaves=5.............................\n",
      "[CV 3/3; 4/4] END ...........n_estimators=3000, num_leaves=5; total time=  43.6s\n"
     ]
    },
    {
     "name": "stderr",
     "output_type": "stream",
     "text": [
      "/opt/conda/lib/python3.9/site-packages/sklearn/model_selection/_search.py:918: UserWarning: One or more of the test scores are non-finite: [       nan 0.83633997        nan 0.88868928]\n",
      "  warnings.warn(\n"
     ]
    }
   ],
   "source": [
    "model = lgb.LGBMRegressor(random_state=12345)\n",
    "\n",
    "#задаем сетку параметров\n",
    "param_grid = {\n",
    "    'n_estimators': [100, 3000],\n",
    "    'num_leaves': [1, 5]\n",
    "}\n",
    "\n",
    "#инициализируем GridSearchCV и обучаем на данных\n",
    "grid_search = GridSearchCV(model, param_grid=param_grid, cv=3,verbose=10, n_jobs=-1)\n",
    "grid_search.fit(features_train_ord, target_train)\n",
    "\n",
    "#получаем лучшие гиперпараметры\n",
    "best_params = grid_search.best_params_\n"
   ]
  },
  {
   "cell_type": "code",
   "execution_count": 56,
   "metadata": {},
   "outputs": [
    {
     "name": "stdout",
     "output_type": "stream",
     "text": [
      "{'n_estimators': 3000, 'num_leaves': 5}\n"
     ]
    }
   ],
   "source": [
    "print(best_params)"
   ]
  },
  {
   "cell_type": "code",
   "execution_count": 62,
   "metadata": {},
   "outputs": [
    {
     "name": "stdout",
     "output_type": "stream",
     "text": [
      "CPU times: user 58.9 s, sys: 119 ms, total: 59 s\n",
      "Wall time: 59 s\n"
     ]
    },
    {
     "data": {
      "text/plain": [
       "LGBMRegressor(n_estimators=3000, num_leaves=5, random_state=12345)"
      ]
     },
     "execution_count": 62,
     "metadata": {},
     "output_type": "execute_result"
    }
   ],
   "source": [
    "%%time\n",
    "model_lgb=lgb.LGBMRegressor(random_state=12345,\n",
    "                          n_estimators=3000,\n",
    "                          num_leaves=5)\n",
    "model_lgb.fit(features_train_ord, target_train)\n"
   ]
  },
  {
   "cell_type": "code",
   "execution_count": 63,
   "metadata": {},
   "outputs": [
    {
     "name": "stdout",
     "output_type": "stream",
     "text": [
      "RMSE: 1542.688359127059\n",
      "CPU times: user 9.39 s, sys: 0 ns, total: 9.39 s\n",
      "Wall time: 9.41 s\n"
     ]
    }
   ],
   "source": [
    "%%time\n",
    "predicted_valid = model_lgb.predict(features_valid_ord)\n",
    "rmse=np.sqrt(mean_squared_error(target_valid, predicted_valid))\n",
    "print(\"RMSE:\", rmse)"
   ]
  },
  {
   "cell_type": "markdown",
   "metadata": {},
   "source": [
    "Линейная регрессия"
   ]
  },
  {
   "cell_type": "code",
   "execution_count": 64,
   "metadata": {},
   "outputs": [
    {
     "name": "stdout",
     "output_type": "stream",
     "text": [
      "CPU times: user 37.5 ms, sys: 7.75 ms, total: 45.3 ms\n",
      "Wall time: 91.2 ms\n"
     ]
    },
    {
     "data": {
      "text/plain": [
       "LinearRegression()"
      ]
     },
     "execution_count": 64,
     "metadata": {},
     "output_type": "execute_result"
    }
   ],
   "source": [
    "%%time\n",
    "model = LinearRegression()\n",
    "model.fit(features_train_ord, target_train)"
   ]
  },
  {
   "cell_type": "code",
   "execution_count": 65,
   "metadata": {},
   "outputs": [
    {
     "name": "stdout",
     "output_type": "stream",
     "text": [
      "RMSE: 2705.316190354236\n",
      "CPU times: user 9.2 ms, sys: 6.94 ms, total: 16.1 ms\n",
      "Wall time: 4.5 ms\n"
     ]
    }
   ],
   "source": [
    "%%time\n",
    "predicted_valid = model.predict(features_valid_ord)\n",
    "rmse=np.sqrt(mean_squared_error(target_valid, predicted_valid))\n",
    "print(\"RMSE:\", rmse)"
   ]
  },
  {
   "cell_type": "markdown",
   "metadata": {},
   "source": [
    "Вывод\n",
    "\n",
    "Обучены три модели : Catboost, LightGBM и линейная регрессия.\n",
    "\n",
    "Быстрее всех обучается - Сatboost\n",
    "\n",
    "Медленее - LightGBM\n",
    "\n",
    "Быстрее всех делает предстаказания - Лин6ейная регрессия\n",
    "\n",
    "Медленее - Catboost\n",
    "\n",
    "Наилучшие результаты по качеству модели имеет LightGBM (1613)\n",
    "\n",
    "Наихудший линейная регрессия (2662)"
   ]
  },
  {
   "cell_type": "markdown",
   "metadata": {},
   "source": [
    "## Анализ моделей"
   ]
  },
  {
   "cell_type": "markdown",
   "metadata": {},
   "source": [
    "| Модель | Время обучения | Время предсказания | RMSE |\n",
    "|:-----------:|:-----------:|:-----------:|:-----------:|\n",
    "|    CatBoost  |    9.28 s  |    79.4ms   |    1547.3  |\n",
    "|    LightGBM  |    59 s|    9.41 s   |    1542   |\n",
    "|    LinearRegression |    97.2 ms   |    79.1 ms   |    2705.3  |\n"
   ]
  },
  {
   "cell_type": "markdown",
   "metadata": {},
   "source": [
    "## Тестирование лучшей модели"
   ]
  },
  {
   "cell_type": "markdown",
   "metadata": {},
   "source": [
    "        Проведем анализ на наилучшей модели - LightGBM"
   ]
  },
  {
   "cell_type": "code",
   "execution_count": 66,
   "metadata": {},
   "outputs": [
    {
     "name": "stdout",
     "output_type": "stream",
     "text": [
      "RMSE: 1560.0198099281142\n"
     ]
    }
   ],
   "source": [
    "predicted_test = model_lgb.predict(features_test_ord)\n",
    "rmse=np.sqrt(mean_squared_error(target_test, predicted_test))\n",
    "print(\"RMSE:\", rmse)"
   ]
  },
  {
   "cell_type": "markdown",
   "metadata": {},
   "source": [
    "Вывод\n",
    "\n",
    "RMSE на тестовых данных составило 1560"
   ]
  },
  {
   "cell_type": "markdown",
   "metadata": {},
   "source": [
    "Общий вывод\n",
    "\n",
    "Датасет загружен\n",
    "\n",
    "Проведена предобработка данных\n",
    "\n",
    "Форматы данных корректные\n",
    "\n",
    "Найдены и удалены дубликаты\n",
    "\n",
    "Заполнены пропущенные значения\n",
    "\n",
    "Удалены неинформативные столбцы\n",
    "\n",
    "Аномалии найдены и обработаны\n",
    "\n",
    "Размер преобразованной таблицы составил 10 столбцов и 354 365 строк.\n",
    "\n",
    "Обучены три модели : Catboost, LightGBM и линейная регрессия.\n",
    "\n",
    "Наилучшие результаты по качеству модели имеет LightGBM (1542)\n",
    "\n",
    "RMSE на тестовых данных составило 1560"
   ]
  }
 ],
 "metadata": {
  "ExecuteTimeLog": [
   {
    "duration": 45,
    "start_time": "2023-04-26T20:21:56.303Z"
   },
   {
    "duration": 409,
    "start_time": "2023-04-26T20:22:00.786Z"
   },
   {
    "duration": 942,
    "start_time": "2023-04-26T20:22:01.323Z"
   },
   {
    "duration": 702,
    "start_time": "2023-04-26T20:22:10.205Z"
   },
   {
    "duration": 25,
    "start_time": "2023-04-26T20:22:24.051Z"
   },
   {
    "duration": 12,
    "start_time": "2023-04-26T20:23:40.687Z"
   },
   {
    "duration": 4,
    "start_time": "2023-04-26T20:23:50.495Z"
   },
   {
    "duration": 138,
    "start_time": "2023-04-26T20:24:45.967Z"
   },
   {
    "duration": 411,
    "start_time": "2023-04-26T20:24:46.107Z"
   },
   {
    "duration": 327,
    "start_time": "2023-04-26T20:24:51.647Z"
   },
   {
    "duration": 92,
    "start_time": "2023-04-26T20:25:14.935Z"
   },
   {
    "duration": 3,
    "start_time": "2023-04-26T20:26:36.577Z"
   },
   {
    "duration": 28,
    "start_time": "2023-04-26T20:28:07.880Z"
   },
   {
    "duration": 31,
    "start_time": "2023-04-26T20:28:14.255Z"
   },
   {
    "duration": 434,
    "start_time": "2023-04-27T11:14:31.528Z"
   },
   {
    "duration": 3672,
    "start_time": "2023-04-27T11:14:31.964Z"
   },
   {
    "duration": 33,
    "start_time": "2023-04-27T11:14:35.638Z"
   },
   {
    "duration": 5,
    "start_time": "2023-04-27T11:14:35.673Z"
   },
   {
    "duration": 177,
    "start_time": "2023-04-27T11:14:35.680Z"
   },
   {
    "duration": 518,
    "start_time": "2023-04-27T11:14:35.860Z"
   },
   {
    "duration": 147,
    "start_time": "2023-04-27T11:14:36.380Z"
   },
   {
    "duration": 5,
    "start_time": "2023-04-27T11:14:36.529Z"
   },
   {
    "duration": 51,
    "start_time": "2023-04-27T11:14:36.536Z"
   },
   {
    "duration": 76,
    "start_time": "2023-04-27T11:14:36.589Z"
   },
   {
    "duration": 0,
    "start_time": "2023-04-27T11:14:36.667Z"
   },
   {
    "duration": 10,
    "start_time": "2023-04-27T11:18:48.077Z"
   },
   {
    "duration": 387,
    "start_time": "2023-04-27T11:19:36.137Z"
   },
   {
    "duration": 342,
    "start_time": "2023-04-27T11:20:03.721Z"
   },
   {
    "duration": 419,
    "start_time": "2023-04-27T11:55:13.627Z"
   },
   {
    "duration": 907,
    "start_time": "2023-04-27T11:55:14.048Z"
   },
   {
    "duration": 21,
    "start_time": "2023-04-27T11:55:14.957Z"
   },
   {
    "duration": 28,
    "start_time": "2023-04-27T11:55:14.979Z"
   },
   {
    "duration": 141,
    "start_time": "2023-04-27T11:55:15.017Z"
   },
   {
    "duration": 585,
    "start_time": "2023-04-27T11:55:15.160Z"
   },
   {
    "duration": 676,
    "start_time": "2023-04-27T11:55:15.747Z"
   },
   {
    "duration": 525,
    "start_time": "2023-04-27T11:55:16.426Z"
   },
   {
    "duration": 129,
    "start_time": "2023-04-27T11:55:16.953Z"
   },
   {
    "duration": 78,
    "start_time": "2023-04-27T11:55:17.083Z"
   },
   {
    "duration": 0,
    "start_time": "2023-04-27T11:55:17.164Z"
   },
   {
    "duration": 0,
    "start_time": "2023-04-27T11:55:17.165Z"
   },
   {
    "duration": 0,
    "start_time": "2023-04-27T11:55:17.166Z"
   },
   {
    "duration": 0,
    "start_time": "2023-04-27T11:55:17.168Z"
   },
   {
    "duration": 0,
    "start_time": "2023-04-27T11:55:17.169Z"
   },
   {
    "duration": 0,
    "start_time": "2023-04-27T11:55:17.173Z"
   },
   {
    "duration": 0,
    "start_time": "2023-04-27T11:55:17.175Z"
   },
   {
    "duration": 0,
    "start_time": "2023-04-27T11:55:17.176Z"
   },
   {
    "duration": 86,
    "start_time": "2023-04-27T11:55:21.362Z"
   },
   {
    "duration": 24,
    "start_time": "2023-04-27T11:55:28.633Z"
   },
   {
    "duration": 13,
    "start_time": "2023-04-27T11:56:13.728Z"
   },
   {
    "duration": 368,
    "start_time": "2023-04-27T11:56:18.252Z"
   },
   {
    "duration": 896,
    "start_time": "2023-04-27T11:56:18.621Z"
   },
   {
    "duration": 22,
    "start_time": "2023-04-27T11:56:19.523Z"
   },
   {
    "duration": 26,
    "start_time": "2023-04-27T11:56:19.547Z"
   },
   {
    "duration": 174,
    "start_time": "2023-04-27T11:56:19.575Z"
   },
   {
    "duration": 536,
    "start_time": "2023-04-27T11:56:19.750Z"
   },
   {
    "duration": 562,
    "start_time": "2023-04-27T11:56:20.289Z"
   },
   {
    "duration": 516,
    "start_time": "2023-04-27T11:56:20.853Z"
   },
   {
    "duration": 137,
    "start_time": "2023-04-27T11:56:21.371Z"
   },
   {
    "duration": 50,
    "start_time": "2023-04-27T11:56:21.510Z"
   },
   {
    "duration": 0,
    "start_time": "2023-04-27T11:56:21.562Z"
   },
   {
    "duration": 0,
    "start_time": "2023-04-27T11:56:21.563Z"
   },
   {
    "duration": 0,
    "start_time": "2023-04-27T11:56:21.565Z"
   },
   {
    "duration": 0,
    "start_time": "2023-04-27T11:56:21.566Z"
   },
   {
    "duration": 0,
    "start_time": "2023-04-27T11:56:21.567Z"
   },
   {
    "duration": 0,
    "start_time": "2023-04-27T11:56:21.568Z"
   },
   {
    "duration": 0,
    "start_time": "2023-04-27T11:56:21.569Z"
   },
   {
    "duration": 0,
    "start_time": "2023-04-27T11:56:21.570Z"
   },
   {
    "duration": 17,
    "start_time": "2023-04-27T12:04:40.432Z"
   },
   {
    "duration": 113,
    "start_time": "2023-04-27T12:04:52.162Z"
   },
   {
    "duration": 68,
    "start_time": "2023-04-27T12:06:07.925Z"
   },
   {
    "duration": 43,
    "start_time": "2023-04-27T12:06:16.957Z"
   },
   {
    "duration": 19,
    "start_time": "2023-04-27T12:06:44.457Z"
   },
   {
    "duration": 6,
    "start_time": "2023-04-27T12:07:18.176Z"
   },
   {
    "duration": 31,
    "start_time": "2023-04-27T12:07:50.101Z"
   },
   {
    "duration": 58,
    "start_time": "2023-04-27T12:08:18.510Z"
   },
   {
    "duration": 18,
    "start_time": "2023-04-27T12:08:25.577Z"
   },
   {
    "duration": 438,
    "start_time": "2023-04-27T12:08:54.583Z"
   },
   {
    "duration": 899,
    "start_time": "2023-04-27T12:08:55.024Z"
   },
   {
    "duration": 32,
    "start_time": "2023-04-27T12:08:55.926Z"
   },
   {
    "duration": 5,
    "start_time": "2023-04-27T12:08:55.961Z"
   },
   {
    "duration": 145,
    "start_time": "2023-04-27T12:08:55.968Z"
   },
   {
    "duration": 504,
    "start_time": "2023-04-27T12:08:56.114Z"
   },
   {
    "duration": 520,
    "start_time": "2023-04-27T12:08:56.620Z"
   },
   {
    "duration": 477,
    "start_time": "2023-04-27T12:08:57.142Z"
   },
   {
    "duration": 122,
    "start_time": "2023-04-27T12:08:57.620Z"
   },
   {
    "duration": 30,
    "start_time": "2023-04-27T12:08:57.746Z"
   },
   {
    "duration": 67,
    "start_time": "2023-04-27T12:08:57.792Z"
   },
   {
    "duration": 34,
    "start_time": "2023-04-27T12:08:57.860Z"
   },
   {
    "duration": 36,
    "start_time": "2023-04-27T12:08:57.896Z"
   },
   {
    "duration": 20,
    "start_time": "2023-04-27T12:08:57.934Z"
   },
   {
    "duration": 105,
    "start_time": "2023-04-27T12:08:57.956Z"
   },
   {
    "duration": 0,
    "start_time": "2023-04-27T12:08:58.064Z"
   },
   {
    "duration": 0,
    "start_time": "2023-04-27T12:08:58.066Z"
   },
   {
    "duration": 0,
    "start_time": "2023-04-27T12:08:58.067Z"
   },
   {
    "duration": 0,
    "start_time": "2023-04-27T12:08:58.068Z"
   },
   {
    "duration": 46,
    "start_time": "2023-04-27T12:09:39.056Z"
   },
   {
    "duration": 111,
    "start_time": "2023-04-27T12:09:44.672Z"
   },
   {
    "duration": 45,
    "start_time": "2023-04-27T12:10:57.406Z"
   },
   {
    "duration": 21,
    "start_time": "2023-04-27T12:11:06.237Z"
   },
   {
    "duration": 109,
    "start_time": "2023-04-27T12:11:09.472Z"
   },
   {
    "duration": 391,
    "start_time": "2023-04-27T12:11:16.921Z"
   },
   {
    "duration": 833,
    "start_time": "2023-04-27T12:11:17.314Z"
   },
   {
    "duration": 22,
    "start_time": "2023-04-27T12:11:18.149Z"
   },
   {
    "duration": 11,
    "start_time": "2023-04-27T12:11:18.173Z"
   },
   {
    "duration": 133,
    "start_time": "2023-04-27T12:11:18.195Z"
   },
   {
    "duration": 493,
    "start_time": "2023-04-27T12:11:18.330Z"
   },
   {
    "duration": 526,
    "start_time": "2023-04-27T12:11:18.824Z"
   },
   {
    "duration": 474,
    "start_time": "2023-04-27T12:11:19.352Z"
   },
   {
    "duration": 104,
    "start_time": "2023-04-27T12:11:19.828Z"
   },
   {
    "duration": 25,
    "start_time": "2023-04-27T12:11:19.934Z"
   },
   {
    "duration": 60,
    "start_time": "2023-04-27T12:11:19.961Z"
   },
   {
    "duration": 23,
    "start_time": "2023-04-27T12:11:20.023Z"
   },
   {
    "duration": 59,
    "start_time": "2023-04-27T12:11:20.048Z"
   },
   {
    "duration": 32,
    "start_time": "2023-04-27T12:11:20.109Z"
   },
   {
    "duration": 65,
    "start_time": "2023-04-27T12:11:20.143Z"
   },
   {
    "duration": 4,
    "start_time": "2023-04-27T12:11:20.211Z"
   },
   {
    "duration": 69,
    "start_time": "2023-04-27T12:11:20.218Z"
   },
   {
    "duration": 74,
    "start_time": "2023-04-27T12:11:20.289Z"
   },
   {
    "duration": 0,
    "start_time": "2023-04-27T12:11:20.365Z"
   },
   {
    "duration": 63,
    "start_time": "2023-04-27T12:11:31.671Z"
   },
   {
    "duration": 31,
    "start_time": "2023-04-27T12:12:22.551Z"
   },
   {
    "duration": 413,
    "start_time": "2023-04-27T12:12:46.677Z"
   },
   {
    "duration": 831,
    "start_time": "2023-04-27T12:12:47.093Z"
   },
   {
    "duration": 21,
    "start_time": "2023-04-27T12:12:47.926Z"
   },
   {
    "duration": 12,
    "start_time": "2023-04-27T12:12:47.949Z"
   },
   {
    "duration": 145,
    "start_time": "2023-04-27T12:12:47.964Z"
   },
   {
    "duration": 515,
    "start_time": "2023-04-27T12:12:48.111Z"
   },
   {
    "duration": 532,
    "start_time": "2023-04-27T12:12:48.628Z"
   },
   {
    "duration": 495,
    "start_time": "2023-04-27T12:12:49.162Z"
   },
   {
    "duration": 120,
    "start_time": "2023-04-27T12:12:49.659Z"
   },
   {
    "duration": 49,
    "start_time": "2023-04-27T12:12:49.781Z"
   },
   {
    "duration": 104,
    "start_time": "2023-04-27T12:12:49.832Z"
   },
   {
    "duration": 0,
    "start_time": "2023-04-27T12:12:49.938Z"
   },
   {
    "duration": 0,
    "start_time": "2023-04-27T12:12:49.939Z"
   },
   {
    "duration": 0,
    "start_time": "2023-04-27T12:12:49.940Z"
   },
   {
    "duration": 0,
    "start_time": "2023-04-27T12:12:49.942Z"
   },
   {
    "duration": 0,
    "start_time": "2023-04-27T12:12:49.944Z"
   },
   {
    "duration": 0,
    "start_time": "2023-04-27T12:12:49.945Z"
   },
   {
    "duration": 0,
    "start_time": "2023-04-27T12:12:49.947Z"
   },
   {
    "duration": 26,
    "start_time": "2023-04-27T12:13:14.595Z"
   },
   {
    "duration": 28,
    "start_time": "2023-04-27T12:14:37.274Z"
   },
   {
    "duration": 27,
    "start_time": "2023-04-27T12:15:25.517Z"
   },
   {
    "duration": 397,
    "start_time": "2023-04-27T12:15:29.914Z"
   },
   {
    "duration": 876,
    "start_time": "2023-04-27T12:15:30.313Z"
   },
   {
    "duration": 27,
    "start_time": "2023-04-27T12:15:31.190Z"
   },
   {
    "duration": 17,
    "start_time": "2023-04-27T12:15:31.219Z"
   },
   {
    "duration": 133,
    "start_time": "2023-04-27T12:15:31.239Z"
   },
   {
    "duration": 483,
    "start_time": "2023-04-27T12:15:31.374Z"
   },
   {
    "duration": 546,
    "start_time": "2023-04-27T12:15:31.859Z"
   },
   {
    "duration": 439,
    "start_time": "2023-04-27T12:15:32.407Z"
   },
   {
    "duration": 106,
    "start_time": "2023-04-27T12:15:32.848Z"
   },
   {
    "duration": 18,
    "start_time": "2023-04-27T12:15:32.956Z"
   },
   {
    "duration": 95,
    "start_time": "2023-04-27T12:15:32.976Z"
   },
   {
    "duration": 0,
    "start_time": "2023-04-27T12:15:33.073Z"
   },
   {
    "duration": 0,
    "start_time": "2023-04-27T12:15:33.074Z"
   },
   {
    "duration": 0,
    "start_time": "2023-04-27T12:15:33.075Z"
   },
   {
    "duration": 0,
    "start_time": "2023-04-27T12:15:33.076Z"
   },
   {
    "duration": 0,
    "start_time": "2023-04-27T12:15:33.077Z"
   },
   {
    "duration": 0,
    "start_time": "2023-04-27T12:15:33.078Z"
   },
   {
    "duration": 0,
    "start_time": "2023-04-27T12:15:33.079Z"
   },
   {
    "duration": 26,
    "start_time": "2023-04-27T12:15:40.616Z"
   },
   {
    "duration": 33,
    "start_time": "2023-04-27T12:16:05.517Z"
   },
   {
    "duration": 16,
    "start_time": "2023-04-27T12:16:23.005Z"
   },
   {
    "duration": 30,
    "start_time": "2023-04-27T12:16:23.151Z"
   },
   {
    "duration": 17,
    "start_time": "2023-04-27T12:16:23.309Z"
   },
   {
    "duration": 33,
    "start_time": "2023-04-27T12:16:23.451Z"
   },
   {
    "duration": 4,
    "start_time": "2023-04-27T12:16:23.944Z"
   },
   {
    "duration": 31,
    "start_time": "2023-04-27T12:16:25.031Z"
   },
   {
    "duration": 74,
    "start_time": "2023-04-27T12:16:27.177Z"
   },
   {
    "duration": 34,
    "start_time": "2023-04-27T12:16:54.977Z"
   },
   {
    "duration": 15,
    "start_time": "2023-04-27T12:16:56.013Z"
   },
   {
    "duration": 31,
    "start_time": "2023-04-27T12:16:56.166Z"
   },
   {
    "duration": 15,
    "start_time": "2023-04-27T12:16:56.306Z"
   },
   {
    "duration": 33,
    "start_time": "2023-04-27T12:16:56.465Z"
   },
   {
    "duration": 4,
    "start_time": "2023-04-27T12:16:56.606Z"
   },
   {
    "duration": 13,
    "start_time": "2023-04-27T12:16:56.777Z"
   },
   {
    "duration": 69,
    "start_time": "2023-04-27T12:16:58.356Z"
   },
   {
    "duration": 7,
    "start_time": "2023-04-27T12:19:33.774Z"
   },
   {
    "duration": 5,
    "start_time": "2023-04-27T12:19:38.201Z"
   },
   {
    "duration": 523,
    "start_time": "2023-04-27T12:30:31.402Z"
   },
   {
    "duration": 881,
    "start_time": "2023-04-27T12:30:31.928Z"
   },
   {
    "duration": 20,
    "start_time": "2023-04-27T12:30:32.811Z"
   },
   {
    "duration": 27,
    "start_time": "2023-04-27T12:30:32.833Z"
   },
   {
    "duration": 146,
    "start_time": "2023-04-27T12:30:32.862Z"
   },
   {
    "duration": 489,
    "start_time": "2023-04-27T12:30:33.010Z"
   },
   {
    "duration": 532,
    "start_time": "2023-04-27T12:30:33.501Z"
   },
   {
    "duration": 478,
    "start_time": "2023-04-27T12:30:34.035Z"
   },
   {
    "duration": 113,
    "start_time": "2023-04-27T12:30:34.514Z"
   },
   {
    "duration": 17,
    "start_time": "2023-04-27T12:30:34.629Z"
   },
   {
    "duration": 53,
    "start_time": "2023-04-27T12:30:34.647Z"
   },
   {
    "duration": 17,
    "start_time": "2023-04-27T12:30:34.702Z"
   },
   {
    "duration": 34,
    "start_time": "2023-04-27T12:30:34.720Z"
   },
   {
    "duration": 18,
    "start_time": "2023-04-27T12:30:34.757Z"
   },
   {
    "duration": 49,
    "start_time": "2023-04-27T12:30:34.777Z"
   },
   {
    "duration": 36,
    "start_time": "2023-04-27T12:30:34.828Z"
   },
   {
    "duration": 85,
    "start_time": "2023-04-27T12:30:34.865Z"
   },
   {
    "duration": 14,
    "start_time": "2023-04-27T12:30:34.951Z"
   },
   {
    "duration": 944,
    "start_time": "2023-04-27T12:30:34.967Z"
   },
   {
    "duration": 0,
    "start_time": "2023-04-27T12:30:35.913Z"
   },
   {
    "duration": 0,
    "start_time": "2023-04-27T12:30:35.915Z"
   },
   {
    "duration": 30,
    "start_time": "2023-04-27T12:30:42.227Z"
   },
   {
    "duration": 15,
    "start_time": "2023-04-27T12:31:49.944Z"
   },
   {
    "duration": 32,
    "start_time": "2023-04-27T12:31:55.547Z"
   },
   {
    "duration": 404,
    "start_time": "2023-04-27T12:32:00.516Z"
   },
   {
    "duration": 841,
    "start_time": "2023-04-27T12:32:00.922Z"
   },
   {
    "duration": 19,
    "start_time": "2023-04-27T12:32:01.765Z"
   },
   {
    "duration": 33,
    "start_time": "2023-04-27T12:32:01.793Z"
   },
   {
    "duration": 147,
    "start_time": "2023-04-27T12:32:01.828Z"
   },
   {
    "duration": 471,
    "start_time": "2023-04-27T12:32:01.977Z"
   },
   {
    "duration": 549,
    "start_time": "2023-04-27T12:32:02.450Z"
   },
   {
    "duration": 433,
    "start_time": "2023-04-27T12:32:03.001Z"
   },
   {
    "duration": 112,
    "start_time": "2023-04-27T12:32:03.436Z"
   },
   {
    "duration": 27,
    "start_time": "2023-04-27T12:32:03.550Z"
   },
   {
    "duration": 45,
    "start_time": "2023-04-27T12:32:03.579Z"
   },
   {
    "duration": 19,
    "start_time": "2023-04-27T12:32:03.625Z"
   },
   {
    "duration": 52,
    "start_time": "2023-04-27T12:32:03.645Z"
   },
   {
    "duration": 17,
    "start_time": "2023-04-27T12:32:03.700Z"
   },
   {
    "duration": 38,
    "start_time": "2023-04-27T12:32:03.719Z"
   },
   {
    "duration": 44,
    "start_time": "2023-04-27T12:32:03.759Z"
   },
   {
    "duration": 70,
    "start_time": "2023-04-27T12:32:03.805Z"
   },
   {
    "duration": 18,
    "start_time": "2023-04-27T12:32:03.877Z"
   },
   {
    "duration": 38,
    "start_time": "2023-04-27T12:32:03.897Z"
   },
   {
    "duration": 34,
    "start_time": "2023-04-27T12:32:03.937Z"
   },
   {
    "duration": 12,
    "start_time": "2023-04-27T12:33:25.933Z"
   },
   {
    "duration": 6,
    "start_time": "2023-04-27T12:34:18.686Z"
   },
   {
    "duration": 9,
    "start_time": "2023-04-27T12:34:25.179Z"
   },
   {
    "duration": 404,
    "start_time": "2023-04-27T13:35:44.453Z"
   },
   {
    "duration": 913,
    "start_time": "2023-04-27T13:35:44.859Z"
   },
   {
    "duration": 23,
    "start_time": "2023-04-27T13:35:45.773Z"
   },
   {
    "duration": 8,
    "start_time": "2023-04-27T13:35:45.799Z"
   },
   {
    "duration": 141,
    "start_time": "2023-04-27T13:35:45.810Z"
   },
   {
    "duration": 499,
    "start_time": "2023-04-27T13:35:45.953Z"
   },
   {
    "duration": 498,
    "start_time": "2023-04-27T13:35:46.454Z"
   },
   {
    "duration": 474,
    "start_time": "2023-04-27T13:35:46.954Z"
   },
   {
    "duration": 113,
    "start_time": "2023-04-27T13:35:47.430Z"
   },
   {
    "duration": 16,
    "start_time": "2023-04-27T13:35:47.544Z"
   },
   {
    "duration": 61,
    "start_time": "2023-04-27T13:35:47.562Z"
   },
   {
    "duration": 16,
    "start_time": "2023-04-27T13:35:47.624Z"
   },
   {
    "duration": 36,
    "start_time": "2023-04-27T13:35:47.642Z"
   },
   {
    "duration": 22,
    "start_time": "2023-04-27T13:35:47.681Z"
   },
   {
    "duration": 46,
    "start_time": "2023-04-27T13:35:47.705Z"
   },
   {
    "duration": 35,
    "start_time": "2023-04-27T13:35:47.753Z"
   },
   {
    "duration": 90,
    "start_time": "2023-04-27T13:35:47.793Z"
   },
   {
    "duration": 10,
    "start_time": "2023-04-27T13:35:47.885Z"
   },
   {
    "duration": 35,
    "start_time": "2023-04-27T13:35:47.898Z"
   },
   {
    "duration": 23,
    "start_time": "2023-04-27T13:35:47.935Z"
   },
   {
    "duration": 5,
    "start_time": "2023-04-27T13:35:47.960Z"
   },
   {
    "duration": 74,
    "start_time": "2023-04-27T13:35:47.967Z"
   },
   {
    "duration": 0,
    "start_time": "2023-04-27T13:35:48.043Z"
   },
   {
    "duration": 11,
    "start_time": "2023-04-27T13:36:34.110Z"
   },
   {
    "duration": 10,
    "start_time": "2023-04-27T13:37:56.663Z"
   },
   {
    "duration": 27,
    "start_time": "2023-04-27T13:39:24.916Z"
   },
   {
    "duration": 27,
    "start_time": "2023-04-27T13:39:45.402Z"
   },
   {
    "duration": 31,
    "start_time": "2023-04-27T13:39:46.898Z"
   },
   {
    "duration": 8,
    "start_time": "2023-04-27T13:39:59.743Z"
   },
   {
    "duration": 372,
    "start_time": "2023-04-27T18:58:16.096Z"
   },
   {
    "duration": 1304,
    "start_time": "2023-04-27T18:58:16.470Z"
   },
   {
    "duration": 17,
    "start_time": "2023-04-27T18:58:17.776Z"
   },
   {
    "duration": 4,
    "start_time": "2023-04-27T18:58:17.795Z"
   },
   {
    "duration": 161,
    "start_time": "2023-04-27T18:58:17.800Z"
   },
   {
    "duration": 535,
    "start_time": "2023-04-27T18:58:17.963Z"
   },
   {
    "duration": 564,
    "start_time": "2023-04-27T18:58:18.499Z"
   },
   {
    "duration": 527,
    "start_time": "2023-04-27T18:58:19.065Z"
   },
   {
    "duration": 135,
    "start_time": "2023-04-27T18:58:19.594Z"
   },
   {
    "duration": 32,
    "start_time": "2023-04-27T18:58:19.731Z"
   },
   {
    "duration": 35,
    "start_time": "2023-04-27T18:58:19.765Z"
   },
   {
    "duration": 16,
    "start_time": "2023-04-27T18:58:19.802Z"
   },
   {
    "duration": 46,
    "start_time": "2023-04-27T18:58:19.837Z"
   },
   {
    "duration": 19,
    "start_time": "2023-04-27T18:58:19.884Z"
   },
   {
    "duration": 53,
    "start_time": "2023-04-27T18:58:19.904Z"
   },
   {
    "duration": 43,
    "start_time": "2023-04-27T18:58:19.961Z"
   },
   {
    "duration": 96,
    "start_time": "2023-04-27T18:58:20.006Z"
   },
   {
    "duration": 4,
    "start_time": "2023-04-27T18:58:20.103Z"
   },
   {
    "duration": 59,
    "start_time": "2023-04-27T18:58:20.108Z"
   },
   {
    "duration": 10,
    "start_time": "2023-04-27T18:58:20.169Z"
   },
   {
    "duration": 6,
    "start_time": "2023-04-27T18:58:20.181Z"
   },
   {
    "duration": 49,
    "start_time": "2023-04-27T18:58:20.188Z"
   },
   {
    "duration": 37,
    "start_time": "2023-04-27T18:58:20.242Z"
   },
   {
    "duration": 7,
    "start_time": "2023-04-27T18:58:20.281Z"
   },
   {
    "duration": 1353,
    "start_time": "2023-04-27T19:03:16.344Z"
   },
   {
    "duration": 37,
    "start_time": "2023-04-27T19:03:21.812Z"
   },
   {
    "duration": 33,
    "start_time": "2023-04-27T19:04:55.600Z"
   },
   {
    "duration": 41,
    "start_time": "2023-04-27T19:05:24.512Z"
   },
   {
    "duration": 29,
    "start_time": "2023-04-27T19:06:49.084Z"
   },
   {
    "duration": 1219,
    "start_time": "2023-04-27T19:09:43.069Z"
   },
   {
    "duration": 809,
    "start_time": "2023-04-27T19:09:44.290Z"
   },
   {
    "duration": 16,
    "start_time": "2023-04-27T19:09:45.100Z"
   },
   {
    "duration": 18,
    "start_time": "2023-04-27T19:09:45.118Z"
   },
   {
    "duration": 145,
    "start_time": "2023-04-27T19:09:45.138Z"
   },
   {
    "duration": 461,
    "start_time": "2023-04-27T19:09:45.285Z"
   },
   {
    "duration": 469,
    "start_time": "2023-04-27T19:09:45.748Z"
   },
   {
    "duration": 435,
    "start_time": "2023-04-27T19:09:46.218Z"
   },
   {
    "duration": 124,
    "start_time": "2023-04-27T19:09:46.655Z"
   },
   {
    "duration": 17,
    "start_time": "2023-04-27T19:09:46.780Z"
   },
   {
    "duration": 45,
    "start_time": "2023-04-27T19:09:46.799Z"
   },
   {
    "duration": 16,
    "start_time": "2023-04-27T19:09:46.846Z"
   },
   {
    "duration": 38,
    "start_time": "2023-04-27T19:09:46.863Z"
   },
   {
    "duration": 31,
    "start_time": "2023-04-27T19:09:46.903Z"
   },
   {
    "duration": 34,
    "start_time": "2023-04-27T19:09:46.936Z"
   },
   {
    "duration": 37,
    "start_time": "2023-04-27T19:09:46.971Z"
   },
   {
    "duration": 91,
    "start_time": "2023-04-27T19:09:47.009Z"
   },
   {
    "duration": 3,
    "start_time": "2023-04-27T19:09:47.102Z"
   },
   {
    "duration": 43,
    "start_time": "2023-04-27T19:09:47.107Z"
   },
   {
    "duration": 9,
    "start_time": "2023-04-27T19:09:47.152Z"
   },
   {
    "duration": 5,
    "start_time": "2023-04-27T19:09:47.162Z"
   },
   {
    "duration": 32,
    "start_time": "2023-04-27T19:09:47.169Z"
   },
   {
    "duration": 50,
    "start_time": "2023-04-27T19:09:47.203Z"
   },
   {
    "duration": 7,
    "start_time": "2023-04-27T19:09:47.255Z"
   },
   {
    "duration": 36,
    "start_time": "2023-04-27T19:09:47.264Z"
   },
   {
    "duration": 51,
    "start_time": "2023-04-27T19:09:47.301Z"
   },
   {
    "duration": 33,
    "start_time": "2023-04-27T19:09:47.354Z"
   },
   {
    "duration": 4,
    "start_time": "2023-04-27T19:09:47.389Z"
   },
   {
    "duration": 651,
    "start_time": "2023-04-27T19:11:02.664Z"
   },
   {
    "duration": 220,
    "start_time": "2023-04-27T19:13:12.751Z"
   },
   {
    "duration": 274,
    "start_time": "2023-04-27T19:14:31.412Z"
   },
   {
    "duration": 9,
    "start_time": "2023-04-27T19:17:14.182Z"
   },
   {
    "duration": 1181,
    "start_time": "2023-04-27T19:17:35.631Z"
   },
   {
    "duration": 812,
    "start_time": "2023-04-27T19:17:36.814Z"
   },
   {
    "duration": 20,
    "start_time": "2023-04-27T19:17:37.628Z"
   },
   {
    "duration": 4,
    "start_time": "2023-04-27T19:17:37.651Z"
   },
   {
    "duration": 146,
    "start_time": "2023-04-27T19:17:37.656Z"
   },
   {
    "duration": 446,
    "start_time": "2023-04-27T19:17:37.803Z"
   },
   {
    "duration": 524,
    "start_time": "2023-04-27T19:17:38.251Z"
   },
   {
    "duration": 497,
    "start_time": "2023-04-27T19:17:38.777Z"
   },
   {
    "duration": 204,
    "start_time": "2023-04-27T19:17:39.276Z"
   },
   {
    "duration": 17,
    "start_time": "2023-04-27T19:17:39.482Z"
   },
   {
    "duration": 53,
    "start_time": "2023-04-27T19:17:39.500Z"
   },
   {
    "duration": 23,
    "start_time": "2023-04-27T19:17:39.555Z"
   },
   {
    "duration": 43,
    "start_time": "2023-04-27T19:17:39.579Z"
   },
   {
    "duration": 24,
    "start_time": "2023-04-27T19:17:39.624Z"
   },
   {
    "duration": 48,
    "start_time": "2023-04-27T19:17:39.650Z"
   },
   {
    "duration": 49,
    "start_time": "2023-04-27T19:17:39.700Z"
   },
   {
    "duration": 102,
    "start_time": "2023-04-27T19:17:39.751Z"
   },
   {
    "duration": 6,
    "start_time": "2023-04-27T19:17:39.855Z"
   },
   {
    "duration": 47,
    "start_time": "2023-04-27T19:17:39.862Z"
   },
   {
    "duration": 14,
    "start_time": "2023-04-27T19:17:39.910Z"
   },
   {
    "duration": 12,
    "start_time": "2023-04-27T19:17:39.925Z"
   },
   {
    "duration": 47,
    "start_time": "2023-04-27T19:17:39.938Z"
   },
   {
    "duration": 52,
    "start_time": "2023-04-27T19:17:39.987Z"
   },
   {
    "duration": 8,
    "start_time": "2023-04-27T19:17:40.041Z"
   },
   {
    "duration": 36,
    "start_time": "2023-04-27T19:17:40.052Z"
   },
   {
    "duration": 52,
    "start_time": "2023-04-27T19:17:40.090Z"
   },
   {
    "duration": 34,
    "start_time": "2023-04-27T19:17:40.144Z"
   },
   {
    "duration": 156,
    "start_time": "2023-04-27T19:17:40.181Z"
   },
   {
    "duration": 125,
    "start_time": "2023-04-27T19:17:54.983Z"
   },
   {
    "duration": 179,
    "start_time": "2023-04-27T19:18:08.943Z"
   },
   {
    "duration": 1200,
    "start_time": "2023-04-27T19:26:00.177Z"
   },
   {
    "duration": 800,
    "start_time": "2023-04-27T19:26:01.380Z"
   },
   {
    "duration": 21,
    "start_time": "2023-04-27T19:26:02.181Z"
   },
   {
    "duration": 54,
    "start_time": "2023-04-27T19:26:02.204Z"
   },
   {
    "duration": 132,
    "start_time": "2023-04-27T19:26:02.260Z"
   },
   {
    "duration": 442,
    "start_time": "2023-04-27T19:26:02.393Z"
   },
   {
    "duration": 525,
    "start_time": "2023-04-27T19:26:02.837Z"
   },
   {
    "duration": 452,
    "start_time": "2023-04-27T19:26:03.363Z"
   },
   {
    "duration": 127,
    "start_time": "2023-04-27T19:26:03.817Z"
   },
   {
    "duration": 43,
    "start_time": "2023-04-27T19:26:03.945Z"
   },
   {
    "duration": 70,
    "start_time": "2023-04-27T19:26:03.990Z"
   },
   {
    "duration": 16,
    "start_time": "2023-04-27T19:26:04.062Z"
   },
   {
    "duration": 35,
    "start_time": "2023-04-27T19:26:04.080Z"
   },
   {
    "duration": 28,
    "start_time": "2023-04-27T19:26:04.118Z"
   },
   {
    "duration": 35,
    "start_time": "2023-04-27T19:26:04.148Z"
   },
   {
    "duration": 35,
    "start_time": "2023-04-27T19:26:04.185Z"
   },
   {
    "duration": 99,
    "start_time": "2023-04-27T19:26:04.222Z"
   },
   {
    "duration": 4,
    "start_time": "2023-04-27T19:26:04.322Z"
   },
   {
    "duration": 38,
    "start_time": "2023-04-27T19:26:04.327Z"
   },
   {
    "duration": 10,
    "start_time": "2023-04-27T19:26:04.367Z"
   },
   {
    "duration": 24,
    "start_time": "2023-04-27T19:26:04.379Z"
   },
   {
    "duration": 39,
    "start_time": "2023-04-27T19:26:04.405Z"
   },
   {
    "duration": 31,
    "start_time": "2023-04-27T19:26:04.445Z"
   },
   {
    "duration": 7,
    "start_time": "2023-04-27T19:26:04.478Z"
   },
   {
    "duration": 33,
    "start_time": "2023-04-27T19:26:04.487Z"
   },
   {
    "duration": 53,
    "start_time": "2023-04-27T19:26:04.534Z"
   },
   {
    "duration": 58,
    "start_time": "2023-04-27T19:26:04.589Z"
   },
   {
    "duration": 211,
    "start_time": "2023-04-27T19:26:04.649Z"
   },
   {
    "duration": 111,
    "start_time": "2023-04-27T19:26:04.862Z"
   },
   {
    "duration": 0,
    "start_time": "2023-04-27T19:26:04.975Z"
   },
   {
    "duration": 0,
    "start_time": "2023-04-27T19:26:04.976Z"
   },
   {
    "duration": 0,
    "start_time": "2023-04-27T19:26:04.977Z"
   },
   {
    "duration": 0,
    "start_time": "2023-04-27T19:26:04.978Z"
   },
   {
    "duration": 0,
    "start_time": "2023-04-27T19:26:04.979Z"
   },
   {
    "duration": 1395,
    "start_time": "2023-04-27T19:28:23.028Z"
   },
   {
    "duration": 854,
    "start_time": "2023-04-27T19:28:24.425Z"
   },
   {
    "duration": 18,
    "start_time": "2023-04-27T19:28:25.285Z"
   },
   {
    "duration": 22,
    "start_time": "2023-04-27T19:28:25.306Z"
   },
   {
    "duration": 145,
    "start_time": "2023-04-27T19:28:25.329Z"
   },
   {
    "duration": 442,
    "start_time": "2023-04-27T19:28:25.475Z"
   },
   {
    "duration": 490,
    "start_time": "2023-04-27T19:28:25.918Z"
   },
   {
    "duration": 426,
    "start_time": "2023-04-27T19:28:26.409Z"
   },
   {
    "duration": 117,
    "start_time": "2023-04-27T19:28:26.836Z"
   },
   {
    "duration": 24,
    "start_time": "2023-04-27T19:28:26.955Z"
   },
   {
    "duration": 38,
    "start_time": "2023-04-27T19:28:26.981Z"
   },
   {
    "duration": 20,
    "start_time": "2023-04-27T19:28:27.020Z"
   },
   {
    "duration": 48,
    "start_time": "2023-04-27T19:28:27.042Z"
   },
   {
    "duration": 20,
    "start_time": "2023-04-27T19:28:27.091Z"
   },
   {
    "duration": 42,
    "start_time": "2023-04-27T19:28:27.112Z"
   },
   {
    "duration": 34,
    "start_time": "2023-04-27T19:28:27.155Z"
   },
   {
    "duration": 92,
    "start_time": "2023-04-27T19:28:27.191Z"
   },
   {
    "duration": 6,
    "start_time": "2023-04-27T19:28:27.285Z"
   },
   {
    "duration": 39,
    "start_time": "2023-04-27T19:28:27.292Z"
   },
   {
    "duration": 10,
    "start_time": "2023-04-27T19:28:27.334Z"
   },
   {
    "duration": 17,
    "start_time": "2023-04-27T19:28:27.345Z"
   },
   {
    "duration": 37,
    "start_time": "2023-04-27T19:28:27.364Z"
   },
   {
    "duration": 31,
    "start_time": "2023-04-27T19:28:27.403Z"
   },
   {
    "duration": 8,
    "start_time": "2023-04-27T19:28:27.436Z"
   },
   {
    "duration": 30,
    "start_time": "2023-04-27T19:28:27.446Z"
   },
   {
    "duration": 33,
    "start_time": "2023-04-27T19:28:27.478Z"
   },
   {
    "duration": 52,
    "start_time": "2023-04-27T19:28:27.513Z"
   },
   {
    "duration": 198,
    "start_time": "2023-04-27T19:28:27.568Z"
   },
   {
    "duration": 96,
    "start_time": "2023-04-27T19:28:27.768Z"
   },
   {
    "duration": 4,
    "start_time": "2023-04-27T19:28:27.865Z"
   },
   {
    "duration": 9,
    "start_time": "2023-04-27T19:28:27.870Z"
   },
   {
    "duration": 39,
    "start_time": "2023-04-27T19:28:27.880Z"
   },
   {
    "duration": 3,
    "start_time": "2023-04-27T19:28:27.920Z"
   },
   {
    "duration": 10,
    "start_time": "2023-04-27T19:28:27.924Z"
   },
   {
    "duration": 103,
    "start_time": "2023-04-27T19:30:56.305Z"
   },
   {
    "duration": 1329,
    "start_time": "2023-04-27T19:31:02.346Z"
   },
   {
    "duration": 751,
    "start_time": "2023-04-27T19:31:03.676Z"
   },
   {
    "duration": 16,
    "start_time": "2023-04-27T19:31:04.429Z"
   },
   {
    "duration": 14,
    "start_time": "2023-04-27T19:31:04.447Z"
   },
   {
    "duration": 143,
    "start_time": "2023-04-27T19:31:04.463Z"
   },
   {
    "duration": 488,
    "start_time": "2023-04-27T19:31:04.607Z"
   },
   {
    "duration": 496,
    "start_time": "2023-04-27T19:31:05.096Z"
   },
   {
    "duration": 444,
    "start_time": "2023-04-27T19:31:05.593Z"
   },
   {
    "duration": 125,
    "start_time": "2023-04-27T19:31:06.039Z"
   },
   {
    "duration": 32,
    "start_time": "2023-04-27T19:31:06.165Z"
   },
   {
    "duration": 49,
    "start_time": "2023-04-27T19:31:06.199Z"
   },
   {
    "duration": 22,
    "start_time": "2023-04-27T19:31:06.249Z"
   },
   {
    "duration": 36,
    "start_time": "2023-04-27T19:31:06.273Z"
   },
   {
    "duration": 51,
    "start_time": "2023-04-27T19:31:06.312Z"
   },
   {
    "duration": 38,
    "start_time": "2023-04-27T19:31:06.364Z"
   },
   {
    "duration": 34,
    "start_time": "2023-04-27T19:31:06.404Z"
   },
   {
    "duration": 84,
    "start_time": "2023-04-27T19:31:06.440Z"
   },
   {
    "duration": 9,
    "start_time": "2023-04-27T19:31:06.526Z"
   },
   {
    "duration": 40,
    "start_time": "2023-04-27T19:31:06.536Z"
   },
   {
    "duration": 15,
    "start_time": "2023-04-27T19:31:06.577Z"
   },
   {
    "duration": 6,
    "start_time": "2023-04-27T19:31:06.593Z"
   },
   {
    "duration": 48,
    "start_time": "2023-04-27T19:31:06.600Z"
   },
   {
    "duration": 32,
    "start_time": "2023-04-27T19:31:06.649Z"
   },
   {
    "duration": 7,
    "start_time": "2023-04-27T19:31:06.682Z"
   },
   {
    "duration": 49,
    "start_time": "2023-04-27T19:31:06.690Z"
   },
   {
    "duration": 36,
    "start_time": "2023-04-27T19:31:06.741Z"
   },
   {
    "duration": 49,
    "start_time": "2023-04-27T19:31:06.779Z"
   },
   {
    "duration": 206,
    "start_time": "2023-04-27T19:31:06.829Z"
   },
   {
    "duration": 97,
    "start_time": "2023-04-27T19:31:07.037Z"
   },
   {
    "duration": 3,
    "start_time": "2023-04-27T19:31:07.136Z"
   },
   {
    "duration": 10,
    "start_time": "2023-04-27T19:31:07.140Z"
   },
   {
    "duration": 31,
    "start_time": "2023-04-27T19:31:07.152Z"
   },
   {
    "duration": 3,
    "start_time": "2023-04-27T19:31:07.185Z"
   },
   {
    "duration": 7,
    "start_time": "2023-04-27T19:31:07.189Z"
   },
   {
    "duration": 114,
    "start_time": "2023-04-27T19:31:07.197Z"
   },
   {
    "duration": 11,
    "start_time": "2023-04-27T19:31:19.581Z"
   },
   {
    "duration": 75,
    "start_time": "2023-04-27T19:31:25.953Z"
   },
   {
    "duration": 1376,
    "start_time": "2023-04-27T19:32:48.902Z"
   },
   {
    "duration": 788,
    "start_time": "2023-04-27T19:32:50.279Z"
   },
   {
    "duration": 16,
    "start_time": "2023-04-27T19:32:51.069Z"
   },
   {
    "duration": 4,
    "start_time": "2023-04-27T19:32:51.087Z"
   },
   {
    "duration": 138,
    "start_time": "2023-04-27T19:32:51.092Z"
   },
   {
    "duration": 450,
    "start_time": "2023-04-27T19:32:51.234Z"
   },
   {
    "duration": 462,
    "start_time": "2023-04-27T19:32:51.686Z"
   },
   {
    "duration": 424,
    "start_time": "2023-04-27T19:32:52.149Z"
   },
   {
    "duration": 121,
    "start_time": "2023-04-27T19:32:52.574Z"
   },
   {
    "duration": 20,
    "start_time": "2023-04-27T19:32:52.697Z"
   },
   {
    "duration": 45,
    "start_time": "2023-04-27T19:32:52.718Z"
   },
   {
    "duration": 16,
    "start_time": "2023-04-27T19:32:52.764Z"
   },
   {
    "duration": 35,
    "start_time": "2023-04-27T19:32:52.781Z"
   },
   {
    "duration": 26,
    "start_time": "2023-04-27T19:32:52.818Z"
   },
   {
    "duration": 44,
    "start_time": "2023-04-27T19:32:52.845Z"
   },
   {
    "duration": 33,
    "start_time": "2023-04-27T19:32:52.890Z"
   },
   {
    "duration": 80,
    "start_time": "2023-04-27T19:32:52.925Z"
   },
   {
    "duration": 4,
    "start_time": "2023-04-27T19:32:53.007Z"
   },
   {
    "duration": 45,
    "start_time": "2023-04-27T19:32:53.012Z"
   },
   {
    "duration": 13,
    "start_time": "2023-04-27T19:32:53.059Z"
   },
   {
    "duration": 5,
    "start_time": "2023-04-27T19:32:53.073Z"
   },
   {
    "duration": 32,
    "start_time": "2023-04-27T19:32:53.080Z"
   },
   {
    "duration": 43,
    "start_time": "2023-04-27T19:32:53.113Z"
   },
   {
    "duration": 7,
    "start_time": "2023-04-27T19:32:53.157Z"
   },
   {
    "duration": 34,
    "start_time": "2023-04-27T19:32:53.166Z"
   },
   {
    "duration": 41,
    "start_time": "2023-04-27T19:32:53.202Z"
   },
   {
    "duration": 51,
    "start_time": "2023-04-27T19:32:53.245Z"
   },
   {
    "duration": 192,
    "start_time": "2023-04-27T19:32:53.299Z"
   },
   {
    "duration": 100,
    "start_time": "2023-04-27T19:32:53.493Z"
   },
   {
    "duration": 3,
    "start_time": "2023-04-27T19:32:53.595Z"
   },
   {
    "duration": 8,
    "start_time": "2023-04-27T19:32:53.599Z"
   },
   {
    "duration": 43,
    "start_time": "2023-04-27T19:32:53.608Z"
   },
   {
    "duration": 3,
    "start_time": "2023-04-27T19:32:53.653Z"
   },
   {
    "duration": 7,
    "start_time": "2023-04-27T19:32:53.657Z"
   },
   {
    "duration": 179,
    "start_time": "2023-04-27T19:32:53.665Z"
   },
   {
    "duration": 2569,
    "start_time": "2023-04-27T19:33:44.985Z"
   },
   {
    "duration": 3448,
    "start_time": "2023-04-27T19:37:42.079Z"
   },
   {
    "duration": 1355,
    "start_time": "2023-04-27T19:37:48.275Z"
   },
   {
    "duration": 771,
    "start_time": "2023-04-27T19:37:49.632Z"
   },
   {
    "duration": 15,
    "start_time": "2023-04-27T19:37:50.405Z"
   },
   {
    "duration": 15,
    "start_time": "2023-04-27T19:37:50.422Z"
   },
   {
    "duration": 126,
    "start_time": "2023-04-27T19:37:50.439Z"
   },
   {
    "duration": 443,
    "start_time": "2023-04-27T19:37:50.566Z"
   },
   {
    "duration": 480,
    "start_time": "2023-04-27T19:37:51.011Z"
   },
   {
    "duration": 432,
    "start_time": "2023-04-27T19:37:51.493Z"
   },
   {
    "duration": 127,
    "start_time": "2023-04-27T19:37:51.927Z"
   },
   {
    "duration": 18,
    "start_time": "2023-04-27T19:37:52.055Z"
   },
   {
    "duration": 36,
    "start_time": "2023-04-27T19:37:52.075Z"
   },
   {
    "duration": 29,
    "start_time": "2023-04-27T19:37:52.112Z"
   },
   {
    "duration": 40,
    "start_time": "2023-04-27T19:37:52.143Z"
   },
   {
    "duration": 20,
    "start_time": "2023-04-27T19:37:52.186Z"
   },
   {
    "duration": 38,
    "start_time": "2023-04-27T19:37:52.207Z"
   },
   {
    "duration": 37,
    "start_time": "2023-04-27T19:37:52.246Z"
   },
   {
    "duration": 91,
    "start_time": "2023-04-27T19:37:52.284Z"
   },
   {
    "duration": 3,
    "start_time": "2023-04-27T19:37:52.376Z"
   },
   {
    "duration": 33,
    "start_time": "2023-04-27T19:37:52.381Z"
   },
   {
    "duration": 25,
    "start_time": "2023-04-27T19:37:52.415Z"
   },
   {
    "duration": 6,
    "start_time": "2023-04-27T19:37:52.442Z"
   },
   {
    "duration": 39,
    "start_time": "2023-04-27T19:37:52.450Z"
   },
   {
    "duration": 30,
    "start_time": "2023-04-27T19:37:52.490Z"
   },
   {
    "duration": 7,
    "start_time": "2023-04-27T19:37:52.534Z"
   },
   {
    "duration": 45,
    "start_time": "2023-04-27T19:37:52.542Z"
   },
   {
    "duration": 33,
    "start_time": "2023-04-27T19:37:52.588Z"
   },
   {
    "duration": 45,
    "start_time": "2023-04-27T19:37:52.622Z"
   },
   {
    "duration": 200,
    "start_time": "2023-04-27T19:37:52.668Z"
   },
   {
    "duration": 99,
    "start_time": "2023-04-27T19:37:52.870Z"
   },
   {
    "duration": 4,
    "start_time": "2023-04-27T19:37:52.970Z"
   },
   {
    "duration": 10,
    "start_time": "2023-04-27T19:37:52.975Z"
   },
   {
    "duration": 38,
    "start_time": "2023-04-27T19:37:52.986Z"
   },
   {
    "duration": 9,
    "start_time": "2023-04-27T19:37:53.026Z"
   },
   {
    "duration": 13,
    "start_time": "2023-04-27T19:37:53.036Z"
   },
   {
    "duration": 2684,
    "start_time": "2023-04-27T19:37:53.050Z"
   },
   {
    "duration": 0,
    "start_time": "2023-04-27T19:37:55.735Z"
   },
   {
    "duration": 14,
    "start_time": "2023-04-27T19:39:45.821Z"
   },
   {
    "duration": 10,
    "start_time": "2023-04-27T19:41:33.503Z"
   },
   {
    "duration": 2,
    "start_time": "2023-04-27T19:42:51.227Z"
   },
   {
    "duration": 11,
    "start_time": "2023-04-27T19:43:43.423Z"
   },
   {
    "duration": 1379,
    "start_time": "2023-04-27T19:45:42.242Z"
   },
   {
    "duration": 811,
    "start_time": "2023-04-27T19:45:43.624Z"
   },
   {
    "duration": 18,
    "start_time": "2023-04-27T19:45:44.437Z"
   },
   {
    "duration": 12,
    "start_time": "2023-04-27T19:45:44.457Z"
   },
   {
    "duration": 140,
    "start_time": "2023-04-27T19:45:44.472Z"
   },
   {
    "duration": 522,
    "start_time": "2023-04-27T19:45:44.613Z"
   },
   {
    "duration": 493,
    "start_time": "2023-04-27T19:45:45.136Z"
   },
   {
    "duration": 468,
    "start_time": "2023-04-27T19:45:45.631Z"
   },
   {
    "duration": 125,
    "start_time": "2023-04-27T19:45:46.101Z"
   },
   {
    "duration": 23,
    "start_time": "2023-04-27T19:45:46.227Z"
   },
   {
    "duration": 33,
    "start_time": "2023-04-27T19:45:46.252Z"
   },
   {
    "duration": 18,
    "start_time": "2023-04-27T19:45:46.287Z"
   },
   {
    "duration": 46,
    "start_time": "2023-04-27T19:45:46.306Z"
   },
   {
    "duration": 17,
    "start_time": "2023-04-27T19:45:46.355Z"
   },
   {
    "duration": 34,
    "start_time": "2023-04-27T19:45:46.373Z"
   },
   {
    "duration": 46,
    "start_time": "2023-04-27T19:45:46.409Z"
   },
   {
    "duration": 80,
    "start_time": "2023-04-27T19:45:46.457Z"
   },
   {
    "duration": 3,
    "start_time": "2023-04-27T19:45:46.539Z"
   },
   {
    "duration": 36,
    "start_time": "2023-04-27T19:45:46.544Z"
   },
   {
    "duration": 10,
    "start_time": "2023-04-27T19:45:46.582Z"
   },
   {
    "duration": 5,
    "start_time": "2023-04-27T19:45:46.594Z"
   },
   {
    "duration": 53,
    "start_time": "2023-04-27T19:45:46.601Z"
   },
   {
    "duration": 28,
    "start_time": "2023-04-27T19:45:46.655Z"
   },
   {
    "duration": 7,
    "start_time": "2023-04-27T19:45:46.685Z"
   },
   {
    "duration": 46,
    "start_time": "2023-04-27T19:45:46.693Z"
   },
   {
    "duration": 45,
    "start_time": "2023-04-27T19:45:46.741Z"
   },
   {
    "duration": 34,
    "start_time": "2023-04-27T19:45:46.787Z"
   },
   {
    "duration": 193,
    "start_time": "2023-04-27T19:45:46.823Z"
   },
   {
    "duration": 98,
    "start_time": "2023-04-27T19:45:47.018Z"
   },
   {
    "duration": 4,
    "start_time": "2023-04-27T19:45:47.118Z"
   },
   {
    "duration": 3,
    "start_time": "2023-04-27T19:45:47.135Z"
   },
   {
    "duration": 35,
    "start_time": "2023-04-27T19:45:47.140Z"
   },
   {
    "duration": 4,
    "start_time": "2023-04-27T19:45:47.176Z"
   },
   {
    "duration": 10,
    "start_time": "2023-04-27T19:45:47.181Z"
   },
   {
    "duration": 12,
    "start_time": "2023-04-27T19:45:47.192Z"
   },
   {
    "duration": 6,
    "start_time": "2023-04-27T19:45:47.205Z"
   },
   {
    "duration": 124,
    "start_time": "2023-04-27T19:45:47.212Z"
   },
   {
    "duration": 0,
    "start_time": "2023-04-27T19:45:47.337Z"
   },
   {
    "duration": 103,
    "start_time": "2023-04-27T19:46:22.305Z"
   },
   {
    "duration": 11,
    "start_time": "2023-04-27T19:46:30.297Z"
   },
   {
    "duration": 11,
    "start_time": "2023-04-27T19:47:02.624Z"
   },
   {
    "duration": 10312,
    "start_time": "2023-04-27T19:49:11.923Z"
   },
   {
    "duration": 0,
    "start_time": "2023-04-27T19:51:40.523Z"
   },
   {
    "duration": 9104,
    "start_time": "2023-04-27T19:51:44.723Z"
   },
   {
    "duration": 1362,
    "start_time": "2023-04-27T19:53:46.922Z"
   },
   {
    "duration": 759,
    "start_time": "2023-04-27T19:53:48.286Z"
   },
   {
    "duration": 16,
    "start_time": "2023-04-27T19:53:49.047Z"
   },
   {
    "duration": 4,
    "start_time": "2023-04-27T19:53:49.065Z"
   },
   {
    "duration": 151,
    "start_time": "2023-04-27T19:53:49.070Z"
   },
   {
    "duration": 431,
    "start_time": "2023-04-27T19:53:49.223Z"
   },
   {
    "duration": 478,
    "start_time": "2023-04-27T19:53:49.656Z"
   },
   {
    "duration": 420,
    "start_time": "2023-04-27T19:53:50.136Z"
   },
   {
    "duration": 118,
    "start_time": "2023-04-27T19:53:50.558Z"
   },
   {
    "duration": 17,
    "start_time": "2023-04-27T19:53:50.679Z"
   },
   {
    "duration": 48,
    "start_time": "2023-04-27T19:53:50.698Z"
   },
   {
    "duration": 19,
    "start_time": "2023-04-27T19:53:50.748Z"
   },
   {
    "duration": 33,
    "start_time": "2023-04-27T19:53:50.768Z"
   },
   {
    "duration": 33,
    "start_time": "2023-04-27T19:53:50.803Z"
   },
   {
    "duration": 32,
    "start_time": "2023-04-27T19:53:50.837Z"
   },
   {
    "duration": 38,
    "start_time": "2023-04-27T19:53:50.871Z"
   },
   {
    "duration": 89,
    "start_time": "2023-04-27T19:53:50.910Z"
   },
   {
    "duration": 12,
    "start_time": "2023-04-27T19:53:51.001Z"
   },
   {
    "duration": 47,
    "start_time": "2023-04-27T19:53:51.014Z"
   },
   {
    "duration": 12,
    "start_time": "2023-04-27T19:53:51.063Z"
   },
   {
    "duration": 7,
    "start_time": "2023-04-27T19:53:51.076Z"
   },
   {
    "duration": 56,
    "start_time": "2023-04-27T19:53:51.085Z"
   },
   {
    "duration": 29,
    "start_time": "2023-04-27T19:53:51.142Z"
   },
   {
    "duration": 9,
    "start_time": "2023-04-27T19:53:51.172Z"
   },
   {
    "duration": 80,
    "start_time": "2023-04-27T19:53:51.183Z"
   },
   {
    "duration": 42,
    "start_time": "2023-04-27T19:53:51.265Z"
   },
   {
    "duration": 39,
    "start_time": "2023-04-27T19:53:51.309Z"
   },
   {
    "duration": 202,
    "start_time": "2023-04-27T19:53:51.352Z"
   },
   {
    "duration": 88,
    "start_time": "2023-04-27T19:53:51.555Z"
   },
   {
    "duration": 3,
    "start_time": "2023-04-27T19:53:51.645Z"
   },
   {
    "duration": 8,
    "start_time": "2023-04-27T19:53:51.650Z"
   },
   {
    "duration": 31,
    "start_time": "2023-04-27T19:53:51.659Z"
   },
   {
    "duration": 4,
    "start_time": "2023-04-27T19:53:51.691Z"
   },
   {
    "duration": 6,
    "start_time": "2023-04-27T19:53:51.696Z"
   },
   {
    "duration": 10,
    "start_time": "2023-04-27T19:53:51.735Z"
   },
   {
    "duration": 20,
    "start_time": "2023-04-27T19:53:51.746Z"
   },
   {
    "duration": 9153,
    "start_time": "2023-04-27T19:53:51.768Z"
   },
   {
    "duration": 170,
    "start_time": "2023-04-27T19:54:00.923Z"
   },
   {
    "duration": 2,
    "start_time": "2023-04-27T19:54:51.137Z"
   },
   {
    "duration": 11,
    "start_time": "2023-04-27T19:58:29.954Z"
   },
   {
    "duration": 10,
    "start_time": "2023-04-27T19:59:31.855Z"
   },
   {
    "duration": 3,
    "start_time": "2023-04-27T20:02:39.754Z"
   },
   {
    "duration": 3,
    "start_time": "2023-04-27T20:02:39.980Z"
   },
   {
    "duration": 20,
    "start_time": "2023-04-27T20:02:40.744Z"
   },
   {
    "duration": 5,
    "start_time": "2023-04-27T20:05:44.416Z"
   },
   {
    "duration": 3,
    "start_time": "2023-04-27T20:05:44.837Z"
   },
   {
    "duration": 3,
    "start_time": "2023-04-27T20:07:03.578Z"
   },
   {
    "duration": 30,
    "start_time": "2023-04-27T20:07:04.181Z"
   },
   {
    "duration": 54,
    "start_time": "2023-04-27T20:09:20.594Z"
   },
   {
    "duration": 11,
    "start_time": "2023-04-27T20:09:44.342Z"
   },
   {
    "duration": 3,
    "start_time": "2023-04-27T20:10:06.938Z"
   },
   {
    "duration": 2,
    "start_time": "2023-04-27T20:10:07.098Z"
   },
   {
    "duration": 19,
    "start_time": "2023-04-27T20:10:31.499Z"
   },
   {
    "duration": 15,
    "start_time": "2023-04-27T20:13:21.937Z"
   },
   {
    "duration": 1414,
    "start_time": "2023-04-27T20:13:38.175Z"
   },
   {
    "duration": 809,
    "start_time": "2023-04-27T20:13:39.591Z"
   },
   {
    "duration": 18,
    "start_time": "2023-04-27T20:13:40.402Z"
   },
   {
    "duration": 14,
    "start_time": "2023-04-27T20:13:40.421Z"
   },
   {
    "duration": 155,
    "start_time": "2023-04-27T20:13:40.438Z"
   },
   {
    "duration": 453,
    "start_time": "2023-04-27T20:13:40.594Z"
   },
   {
    "duration": 533,
    "start_time": "2023-04-27T20:13:41.048Z"
   },
   {
    "duration": 471,
    "start_time": "2023-04-27T20:13:41.583Z"
   },
   {
    "duration": 137,
    "start_time": "2023-04-27T20:13:42.056Z"
   },
   {
    "duration": 19,
    "start_time": "2023-04-27T20:13:42.195Z"
   },
   {
    "duration": 50,
    "start_time": "2023-04-27T20:13:42.216Z"
   },
   {
    "duration": 21,
    "start_time": "2023-04-27T20:13:42.268Z"
   },
   {
    "duration": 48,
    "start_time": "2023-04-27T20:13:42.291Z"
   },
   {
    "duration": 19,
    "start_time": "2023-04-27T20:13:42.343Z"
   },
   {
    "duration": 43,
    "start_time": "2023-04-27T20:13:42.364Z"
   },
   {
    "duration": 53,
    "start_time": "2023-04-27T20:13:42.409Z"
   },
   {
    "duration": 99,
    "start_time": "2023-04-27T20:13:42.464Z"
   },
   {
    "duration": 5,
    "start_time": "2023-04-27T20:13:42.565Z"
   },
   {
    "duration": 48,
    "start_time": "2023-04-27T20:13:42.571Z"
   },
   {
    "duration": 10,
    "start_time": "2023-04-27T20:13:42.621Z"
   },
   {
    "duration": 6,
    "start_time": "2023-04-27T20:13:42.634Z"
   },
   {
    "duration": 39,
    "start_time": "2023-04-27T20:13:42.642Z"
   },
   {
    "duration": 31,
    "start_time": "2023-04-27T20:13:42.683Z"
   },
   {
    "duration": 8,
    "start_time": "2023-04-27T20:13:42.734Z"
   },
   {
    "duration": 38,
    "start_time": "2023-04-27T20:13:42.744Z"
   },
   {
    "duration": 49,
    "start_time": "2023-04-27T20:13:42.784Z"
   },
   {
    "duration": 40,
    "start_time": "2023-04-27T20:13:42.835Z"
   },
   {
    "duration": 238,
    "start_time": "2023-04-27T20:13:42.876Z"
   },
   {
    "duration": 100,
    "start_time": "2023-04-27T20:13:43.116Z"
   },
   {
    "duration": 16,
    "start_time": "2023-04-27T20:13:43.218Z"
   },
   {
    "duration": 4,
    "start_time": "2023-04-27T20:13:43.236Z"
   },
   {
    "duration": 37,
    "start_time": "2023-04-27T20:13:43.242Z"
   },
   {
    "duration": 4,
    "start_time": "2023-04-27T20:13:43.280Z"
   },
   {
    "duration": 5,
    "start_time": "2023-04-27T20:13:43.286Z"
   },
   {
    "duration": 19,
    "start_time": "2023-04-27T20:13:43.293Z"
   },
   {
    "duration": 3,
    "start_time": "2023-04-27T20:13:43.334Z"
   },
   {
    "duration": 9649,
    "start_time": "2023-04-27T20:13:43.339Z"
   },
   {
    "duration": 133,
    "start_time": "2023-04-27T20:13:52.989Z"
   },
   {
    "duration": 0,
    "start_time": "2023-04-27T20:13:53.124Z"
   },
   {
    "duration": 518,
    "start_time": "2023-04-27T20:14:11.169Z"
   },
   {
    "duration": 35525,
    "start_time": "2023-04-27T20:14:11.934Z"
   },
   {
    "duration": 4,
    "start_time": "2023-04-27T20:17:09.727Z"
   },
   {
    "duration": 1299,
    "start_time": "2023-04-27T20:17:57.801Z"
   },
   {
    "duration": 757,
    "start_time": "2023-04-27T20:17:59.102Z"
   },
   {
    "duration": 16,
    "start_time": "2023-04-27T20:17:59.861Z"
   },
   {
    "duration": 17,
    "start_time": "2023-04-27T20:17:59.878Z"
   },
   {
    "duration": 159,
    "start_time": "2023-04-27T20:17:59.897Z"
   },
   {
    "duration": 492,
    "start_time": "2023-04-27T20:18:00.057Z"
   },
   {
    "duration": 536,
    "start_time": "2023-04-27T20:18:00.551Z"
   },
   {
    "duration": 430,
    "start_time": "2023-04-27T20:18:01.089Z"
   },
   {
    "duration": 122,
    "start_time": "2023-04-27T20:18:01.521Z"
   },
   {
    "duration": 31,
    "start_time": "2023-04-27T20:18:01.645Z"
   },
   {
    "duration": 48,
    "start_time": "2023-04-27T20:18:01.678Z"
   },
   {
    "duration": 83,
    "start_time": "2023-04-27T20:18:01.728Z"
   },
   {
    "duration": 79,
    "start_time": "2023-04-27T20:18:01.812Z"
   },
   {
    "duration": 33,
    "start_time": "2023-04-27T20:18:01.894Z"
   },
   {
    "duration": 53,
    "start_time": "2023-04-27T20:18:01.928Z"
   },
   {
    "duration": 72,
    "start_time": "2023-04-27T20:18:01.982Z"
   },
   {
    "duration": 80,
    "start_time": "2023-04-27T20:18:02.055Z"
   },
   {
    "duration": 37,
    "start_time": "2023-04-27T20:18:02.136Z"
   },
   {
    "duration": 56,
    "start_time": "2023-04-27T20:18:02.174Z"
   },
   {
    "duration": 32,
    "start_time": "2023-04-27T20:18:02.232Z"
   },
   {
    "duration": 14,
    "start_time": "2023-04-27T20:18:02.266Z"
   },
   {
    "duration": 47,
    "start_time": "2023-04-27T20:18:02.281Z"
   },
   {
    "duration": 30,
    "start_time": "2023-04-27T20:18:02.330Z"
   },
   {
    "duration": 7,
    "start_time": "2023-04-27T20:18:02.361Z"
   },
   {
    "duration": 77,
    "start_time": "2023-04-27T20:18:02.369Z"
   },
   {
    "duration": 81,
    "start_time": "2023-04-27T20:18:02.447Z"
   },
   {
    "duration": 41,
    "start_time": "2023-04-27T20:18:02.530Z"
   },
   {
    "duration": 196,
    "start_time": "2023-04-27T20:18:02.573Z"
   },
   {
    "duration": 88,
    "start_time": "2023-04-27T20:18:02.771Z"
   },
   {
    "duration": 4,
    "start_time": "2023-04-27T20:18:02.860Z"
   },
   {
    "duration": 9,
    "start_time": "2023-04-27T20:18:02.866Z"
   },
   {
    "duration": 35,
    "start_time": "2023-04-27T20:18:02.876Z"
   },
   {
    "duration": 4,
    "start_time": "2023-04-27T20:18:02.912Z"
   },
   {
    "duration": 19,
    "start_time": "2023-04-27T20:18:02.917Z"
   },
   {
    "duration": 21,
    "start_time": "2023-04-27T20:18:02.937Z"
   },
   {
    "duration": 8,
    "start_time": "2023-04-27T20:18:02.960Z"
   },
   {
    "duration": 9469,
    "start_time": "2023-04-27T20:18:02.969Z"
   },
   {
    "duration": 357,
    "start_time": "2023-04-27T20:18:12.439Z"
   },
   {
    "duration": 0,
    "start_time": "2023-04-27T20:18:12.798Z"
   },
   {
    "duration": 0,
    "start_time": "2023-04-27T20:18:12.799Z"
   },
   {
    "duration": 0,
    "start_time": "2023-04-27T20:18:12.800Z"
   },
   {
    "duration": 694,
    "start_time": "2023-04-27T20:19:29.408Z"
   },
   {
    "duration": 517,
    "start_time": "2023-04-27T20:20:28.130Z"
   },
   {
    "duration": 107,
    "start_time": "2023-04-27T20:20:41.212Z"
   },
   {
    "duration": 244184,
    "start_time": "2023-04-27T20:20:45.877Z"
   },
   {
    "duration": 17978,
    "start_time": "2023-04-27T20:24:50.063Z"
   },
   {
    "duration": 1385,
    "start_time": "2023-04-27T20:26:27.417Z"
   },
   {
    "duration": 775,
    "start_time": "2023-04-27T20:26:28.803Z"
   },
   {
    "duration": 16,
    "start_time": "2023-04-27T20:26:29.580Z"
   },
   {
    "duration": 3,
    "start_time": "2023-04-27T20:26:29.598Z"
   },
   {
    "duration": 144,
    "start_time": "2023-04-27T20:26:29.603Z"
   },
   {
    "duration": 444,
    "start_time": "2023-04-27T20:26:29.749Z"
   },
   {
    "duration": 504,
    "start_time": "2023-04-27T20:26:30.195Z"
   },
   {
    "duration": 450,
    "start_time": "2023-04-27T20:26:30.701Z"
   },
   {
    "duration": 123,
    "start_time": "2023-04-27T20:26:31.153Z"
   },
   {
    "duration": 26,
    "start_time": "2023-04-27T20:26:31.290Z"
   },
   {
    "duration": 63,
    "start_time": "2023-04-27T20:26:31.317Z"
   },
   {
    "duration": 51,
    "start_time": "2023-04-27T20:26:31.381Z"
   },
   {
    "duration": 67,
    "start_time": "2023-04-27T20:26:31.433Z"
   },
   {
    "duration": 39,
    "start_time": "2023-04-27T20:26:31.502Z"
   },
   {
    "duration": 62,
    "start_time": "2023-04-27T20:26:31.543Z"
   },
   {
    "duration": 48,
    "start_time": "2023-04-27T20:26:31.606Z"
   },
   {
    "duration": 83,
    "start_time": "2023-04-27T20:26:31.655Z"
   },
   {
    "duration": 21,
    "start_time": "2023-04-27T20:26:31.740Z"
   },
   {
    "duration": 45,
    "start_time": "2023-04-27T20:26:31.763Z"
   },
   {
    "duration": 28,
    "start_time": "2023-04-27T20:26:31.810Z"
   },
   {
    "duration": 14,
    "start_time": "2023-04-27T20:26:31.840Z"
   },
   {
    "duration": 55,
    "start_time": "2023-04-27T20:26:31.855Z"
   },
   {
    "duration": 28,
    "start_time": "2023-04-27T20:26:31.911Z"
   },
   {
    "duration": 7,
    "start_time": "2023-04-27T20:26:31.941Z"
   },
   {
    "duration": 37,
    "start_time": "2023-04-27T20:26:31.949Z"
   },
   {
    "duration": 65,
    "start_time": "2023-04-27T20:26:31.987Z"
   },
   {
    "duration": 39,
    "start_time": "2023-04-27T20:26:32.054Z"
   },
   {
    "duration": 220,
    "start_time": "2023-04-27T20:26:32.096Z"
   },
   {
    "duration": 97,
    "start_time": "2023-04-27T20:26:32.318Z"
   },
   {
    "duration": 4,
    "start_time": "2023-04-27T20:26:32.416Z"
   },
   {
    "duration": 14,
    "start_time": "2023-04-27T20:26:32.421Z"
   },
   {
    "duration": 35,
    "start_time": "2023-04-27T20:26:32.437Z"
   },
   {
    "duration": 4,
    "start_time": "2023-04-27T20:26:32.473Z"
   },
   {
    "duration": 30,
    "start_time": "2023-04-27T20:26:32.479Z"
   },
   {
    "duration": 33,
    "start_time": "2023-04-27T20:26:32.512Z"
   },
   {
    "duration": 7,
    "start_time": "2023-04-27T20:26:32.546Z"
   },
   {
    "duration": 9814,
    "start_time": "2023-04-27T20:26:32.555Z"
   },
   {
    "duration": 94,
    "start_time": "2023-04-27T20:26:42.371Z"
   },
   {
    "duration": 712,
    "start_time": "2023-04-27T20:26:42.467Z"
   },
   {
    "duration": 530,
    "start_time": "2023-04-27T20:26:43.181Z"
   },
   {
    "duration": 98,
    "start_time": "2023-04-27T20:26:43.712Z"
   },
   {
    "duration": 1520,
    "start_time": "2023-04-27T20:27:19.333Z"
   },
   {
    "duration": 796,
    "start_time": "2023-04-27T20:27:20.854Z"
   },
   {
    "duration": 17,
    "start_time": "2023-04-27T20:27:21.651Z"
   },
   {
    "duration": 10,
    "start_time": "2023-04-27T20:27:21.669Z"
   },
   {
    "duration": 156,
    "start_time": "2023-04-27T20:27:21.681Z"
   },
   {
    "duration": 429,
    "start_time": "2023-04-27T20:27:21.838Z"
   },
   {
    "duration": 461,
    "start_time": "2023-04-27T20:27:22.268Z"
   },
   {
    "duration": 412,
    "start_time": "2023-04-27T20:27:22.731Z"
   },
   {
    "duration": 114,
    "start_time": "2023-04-27T20:27:23.144Z"
   },
   {
    "duration": 16,
    "start_time": "2023-04-27T20:27:23.260Z"
   },
   {
    "duration": 34,
    "start_time": "2023-04-27T20:27:23.278Z"
   },
   {
    "duration": 32,
    "start_time": "2023-04-27T20:27:23.314Z"
   },
   {
    "duration": 36,
    "start_time": "2023-04-27T20:27:23.347Z"
   },
   {
    "duration": 18,
    "start_time": "2023-04-27T20:27:23.386Z"
   },
   {
    "duration": 43,
    "start_time": "2023-04-27T20:27:23.405Z"
   },
   {
    "duration": 40,
    "start_time": "2023-04-27T20:27:23.449Z"
   },
   {
    "duration": 85,
    "start_time": "2023-04-27T20:27:23.490Z"
   },
   {
    "duration": 4,
    "start_time": "2023-04-27T20:27:23.576Z"
   },
   {
    "duration": 33,
    "start_time": "2023-04-27T20:27:23.581Z"
   },
   {
    "duration": 19,
    "start_time": "2023-04-27T20:27:23.616Z"
   },
   {
    "duration": 5,
    "start_time": "2023-04-27T20:27:23.636Z"
   },
   {
    "duration": 35,
    "start_time": "2023-04-27T20:27:23.642Z"
   },
   {
    "duration": 27,
    "start_time": "2023-04-27T20:27:23.678Z"
   },
   {
    "duration": 28,
    "start_time": "2023-04-27T20:27:23.707Z"
   },
   {
    "duration": 32,
    "start_time": "2023-04-27T20:27:23.736Z"
   },
   {
    "duration": 38,
    "start_time": "2023-04-27T20:27:23.770Z"
   },
   {
    "duration": 44,
    "start_time": "2023-04-27T20:27:23.810Z"
   },
   {
    "duration": 194,
    "start_time": "2023-04-27T20:27:23.856Z"
   },
   {
    "duration": 101,
    "start_time": "2023-04-27T20:27:24.052Z"
   },
   {
    "duration": 5,
    "start_time": "2023-04-27T20:27:24.154Z"
   },
   {
    "duration": 7,
    "start_time": "2023-04-27T20:27:24.160Z"
   },
   {
    "duration": 37,
    "start_time": "2023-04-27T20:27:24.169Z"
   },
   {
    "duration": 4,
    "start_time": "2023-04-27T20:27:24.208Z"
   },
   {
    "duration": 21,
    "start_time": "2023-04-27T20:27:24.214Z"
   },
   {
    "duration": 11,
    "start_time": "2023-04-27T20:27:24.237Z"
   },
   {
    "duration": 18,
    "start_time": "2023-04-27T20:27:24.250Z"
   },
   {
    "duration": 9312,
    "start_time": "2023-04-27T20:27:24.269Z"
   },
   {
    "duration": 83,
    "start_time": "2023-04-27T20:27:33.583Z"
   },
   {
    "duration": 673,
    "start_time": "2023-04-27T20:27:33.667Z"
   },
   {
    "duration": 534,
    "start_time": "2023-04-27T20:27:34.342Z"
   },
   {
    "duration": 104,
    "start_time": "2023-04-27T20:27:34.880Z"
   },
   {
    "duration": 34955,
    "start_time": "2023-04-27T20:27:34.986Z"
   },
   {
    "duration": 4315,
    "start_time": "2023-04-27T20:28:09.942Z"
   },
   {
    "duration": 18482,
    "start_time": "2023-04-27T20:28:14.259Z"
   },
   {
    "duration": 299,
    "start_time": "2023-04-27T20:28:32.743Z"
   },
   {
    "duration": 1402,
    "start_time": "2023-04-27T20:34:52.407Z"
   },
   {
    "duration": 753,
    "start_time": "2023-04-27T20:34:53.811Z"
   },
   {
    "duration": 17,
    "start_time": "2023-04-27T20:34:54.566Z"
   },
   {
    "duration": 4,
    "start_time": "2023-04-27T20:34:54.584Z"
   },
   {
    "duration": 178,
    "start_time": "2023-04-27T20:34:54.590Z"
   },
   {
    "duration": 460,
    "start_time": "2023-04-27T20:34:54.770Z"
   },
   {
    "duration": 505,
    "start_time": "2023-04-27T20:34:55.231Z"
   },
   {
    "duration": 405,
    "start_time": "2023-04-27T20:34:55.738Z"
   },
   {
    "duration": 116,
    "start_time": "2023-04-27T20:34:56.144Z"
   },
   {
    "duration": 16,
    "start_time": "2023-04-27T20:34:56.262Z"
   },
   {
    "duration": 36,
    "start_time": "2023-04-27T20:34:56.279Z"
   },
   {
    "duration": 28,
    "start_time": "2023-04-27T20:34:56.317Z"
   },
   {
    "duration": 37,
    "start_time": "2023-04-27T20:34:56.347Z"
   },
   {
    "duration": 16,
    "start_time": "2023-04-27T20:34:56.387Z"
   },
   {
    "duration": 49,
    "start_time": "2023-04-27T20:34:56.405Z"
   },
   {
    "duration": 40,
    "start_time": "2023-04-27T20:34:56.455Z"
   },
   {
    "duration": 77,
    "start_time": "2023-04-27T20:34:56.497Z"
   },
   {
    "duration": 5,
    "start_time": "2023-04-27T20:34:56.576Z"
   },
   {
    "duration": 33,
    "start_time": "2023-04-27T20:34:56.582Z"
   },
   {
    "duration": 19,
    "start_time": "2023-04-27T20:34:56.616Z"
   },
   {
    "duration": 4,
    "start_time": "2023-04-27T20:34:56.637Z"
   },
   {
    "duration": 32,
    "start_time": "2023-04-27T20:34:56.643Z"
   },
   {
    "duration": 28,
    "start_time": "2023-04-27T20:34:56.677Z"
   },
   {
    "duration": 26,
    "start_time": "2023-04-27T20:34:56.708Z"
   },
   {
    "duration": 29,
    "start_time": "2023-04-27T20:34:56.736Z"
   },
   {
    "duration": 42,
    "start_time": "2023-04-27T20:34:56.767Z"
   },
   {
    "duration": 58,
    "start_time": "2023-04-27T20:34:56.811Z"
   },
   {
    "duration": 192,
    "start_time": "2023-04-27T20:34:56.870Z"
   },
   {
    "duration": 93,
    "start_time": "2023-04-27T20:34:57.064Z"
   },
   {
    "duration": 4,
    "start_time": "2023-04-27T20:34:57.159Z"
   },
   {
    "duration": 7,
    "start_time": "2023-04-27T20:34:57.165Z"
   },
   {
    "duration": 31,
    "start_time": "2023-04-27T20:34:57.173Z"
   },
   {
    "duration": 4,
    "start_time": "2023-04-27T20:34:57.206Z"
   },
   {
    "duration": 23,
    "start_time": "2023-04-27T20:34:57.212Z"
   },
   {
    "duration": 12,
    "start_time": "2023-04-27T20:34:57.236Z"
   },
   {
    "duration": 8,
    "start_time": "2023-04-27T20:34:57.250Z"
   },
   {
    "duration": 9446,
    "start_time": "2023-04-27T20:34:57.260Z"
   },
   {
    "duration": 96,
    "start_time": "2023-04-27T20:35:06.707Z"
   },
   {
    "duration": 753,
    "start_time": "2023-04-27T20:35:06.805Z"
   },
   {
    "duration": 534,
    "start_time": "2023-04-27T20:35:07.560Z"
   },
   {
    "duration": 108,
    "start_time": "2023-04-27T20:35:08.098Z"
   },
   {
    "duration": 37945,
    "start_time": "2023-04-27T20:35:08.207Z"
   },
   {
    "duration": 980,
    "start_time": "2023-04-27T20:35:46.153Z"
   },
   {
    "duration": 19500,
    "start_time": "2023-04-27T20:35:47.135Z"
   },
   {
    "duration": 300,
    "start_time": "2023-04-27T20:36:06.637Z"
   },
   {
    "duration": 398,
    "start_time": "2023-04-27T20:36:06.939Z"
   },
   {
    "duration": 0,
    "start_time": "2023-04-27T20:36:07.341Z"
   },
   {
    "duration": 4106,
    "start_time": "2023-04-27T20:36:14.433Z"
   },
   {
    "duration": 227,
    "start_time": "2023-04-27T20:36:34.013Z"
   },
   {
    "duration": 3881,
    "start_time": "2023-04-27T20:36:54.876Z"
   },
   {
    "duration": 1395,
    "start_time": "2023-04-27T20:50:44.903Z"
   },
   {
    "duration": 777,
    "start_time": "2023-04-27T20:50:46.300Z"
   },
   {
    "duration": 17,
    "start_time": "2023-04-27T20:50:47.078Z"
   },
   {
    "duration": 8,
    "start_time": "2023-04-27T20:50:47.097Z"
   },
   {
    "duration": 141,
    "start_time": "2023-04-27T20:50:47.106Z"
   },
   {
    "duration": 465,
    "start_time": "2023-04-27T20:50:47.249Z"
   },
   {
    "duration": 482,
    "start_time": "2023-04-27T20:50:47.716Z"
   },
   {
    "duration": 416,
    "start_time": "2023-04-27T20:50:48.200Z"
   },
   {
    "duration": 124,
    "start_time": "2023-04-27T20:50:48.618Z"
   },
   {
    "duration": 18,
    "start_time": "2023-04-27T20:50:48.746Z"
   },
   {
    "duration": 37,
    "start_time": "2023-04-27T20:50:48.766Z"
   },
   {
    "duration": 15,
    "start_time": "2023-04-27T20:50:48.805Z"
   },
   {
    "duration": 30,
    "start_time": "2023-04-27T20:50:48.833Z"
   },
   {
    "duration": 22,
    "start_time": "2023-04-27T20:50:48.865Z"
   },
   {
    "duration": 35,
    "start_time": "2023-04-27T20:50:48.889Z"
   },
   {
    "duration": 37,
    "start_time": "2023-04-27T20:50:48.934Z"
   },
   {
    "duration": 93,
    "start_time": "2023-04-27T20:50:48.972Z"
   },
   {
    "duration": 19,
    "start_time": "2023-04-27T20:50:49.066Z"
   },
   {
    "duration": 38,
    "start_time": "2023-04-27T20:50:49.087Z"
   },
   {
    "duration": 16,
    "start_time": "2023-04-27T20:50:49.126Z"
   },
   {
    "duration": 5,
    "start_time": "2023-04-27T20:50:49.144Z"
   },
   {
    "duration": 24,
    "start_time": "2023-04-27T20:50:49.150Z"
   },
   {
    "duration": 30,
    "start_time": "2023-04-27T20:50:49.176Z"
   },
   {
    "duration": 7,
    "start_time": "2023-04-27T20:50:49.207Z"
   },
   {
    "duration": 30,
    "start_time": "2023-04-27T20:50:49.234Z"
   },
   {
    "duration": 50,
    "start_time": "2023-04-27T20:50:49.265Z"
   },
   {
    "duration": 35,
    "start_time": "2023-04-27T20:50:49.316Z"
   },
   {
    "duration": 196,
    "start_time": "2023-04-27T20:50:49.354Z"
   },
   {
    "duration": 101,
    "start_time": "2023-04-27T20:50:49.552Z"
   },
   {
    "duration": 5,
    "start_time": "2023-04-27T20:50:49.654Z"
   },
   {
    "duration": 9,
    "start_time": "2023-04-27T20:50:49.660Z"
   },
   {
    "duration": 43,
    "start_time": "2023-04-27T20:50:49.671Z"
   },
   {
    "duration": 4,
    "start_time": "2023-04-27T20:50:49.716Z"
   },
   {
    "duration": 4,
    "start_time": "2023-04-27T20:50:49.735Z"
   },
   {
    "duration": 11,
    "start_time": "2023-04-27T20:50:49.740Z"
   },
   {
    "duration": 7,
    "start_time": "2023-04-27T20:50:49.752Z"
   },
   {
    "duration": 9307,
    "start_time": "2023-04-27T20:50:49.760Z"
   },
   {
    "duration": 82,
    "start_time": "2023-04-27T20:50:59.068Z"
   },
   {
    "duration": 715,
    "start_time": "2023-04-27T20:50:59.152Z"
   },
   {
    "duration": 541,
    "start_time": "2023-04-27T20:50:59.870Z"
   },
   {
    "duration": 95,
    "start_time": "2023-04-27T20:51:00.413Z"
   },
   {
    "duration": 139042,
    "start_time": "2023-04-27T20:51:00.509Z"
   },
   {
    "duration": 4099,
    "start_time": "2023-04-27T20:53:19.553Z"
   },
   {
    "duration": 20983,
    "start_time": "2023-04-27T20:53:23.654Z"
   },
   {
    "duration": 304,
    "start_time": "2023-04-27T20:53:44.638Z"
   },
   {
    "duration": 4150,
    "start_time": "2023-04-27T20:53:44.944Z"
   },
   {
    "duration": 50,
    "start_time": "2023-04-28T09:02:57.484Z"
   },
   {
    "duration": 1594,
    "start_time": "2023-04-28T09:03:02.080Z"
   },
   {
    "duration": 2726,
    "start_time": "2023-04-28T09:03:03.676Z"
   },
   {
    "duration": 19,
    "start_time": "2023-04-28T09:03:06.404Z"
   },
   {
    "duration": 5,
    "start_time": "2023-04-28T09:03:06.425Z"
   },
   {
    "duration": 147,
    "start_time": "2023-04-28T09:03:06.432Z"
   },
   {
    "duration": 465,
    "start_time": "2023-04-28T09:03:06.585Z"
   },
   {
    "duration": 501,
    "start_time": "2023-04-28T09:03:07.051Z"
   },
   {
    "duration": 463,
    "start_time": "2023-04-28T09:03:07.554Z"
   },
   {
    "duration": 139,
    "start_time": "2023-04-28T09:03:08.019Z"
   },
   {
    "duration": 34,
    "start_time": "2023-04-28T09:03:08.160Z"
   },
   {
    "duration": 77,
    "start_time": "2023-04-28T09:03:08.196Z"
   },
   {
    "duration": 31,
    "start_time": "2023-04-28T09:03:08.275Z"
   },
   {
    "duration": 42,
    "start_time": "2023-04-28T09:03:08.308Z"
   },
   {
    "duration": 22,
    "start_time": "2023-04-28T09:03:08.353Z"
   },
   {
    "duration": 39,
    "start_time": "2023-04-28T09:03:08.377Z"
   },
   {
    "duration": 40,
    "start_time": "2023-04-28T09:03:08.418Z"
   },
   {
    "duration": 98,
    "start_time": "2023-04-28T09:03:08.459Z"
   },
   {
    "duration": 3,
    "start_time": "2023-04-28T09:03:08.559Z"
   },
   {
    "duration": 47,
    "start_time": "2023-04-28T09:03:08.564Z"
   },
   {
    "duration": 9,
    "start_time": "2023-04-28T09:03:08.613Z"
   },
   {
    "duration": 8,
    "start_time": "2023-04-28T09:03:08.624Z"
   },
   {
    "duration": 66,
    "start_time": "2023-04-28T09:03:08.634Z"
   },
   {
    "duration": 31,
    "start_time": "2023-04-28T09:03:08.702Z"
   },
   {
    "duration": 13,
    "start_time": "2023-04-28T09:03:08.734Z"
   },
   {
    "duration": 70,
    "start_time": "2023-04-28T09:03:08.749Z"
   },
   {
    "duration": 35,
    "start_time": "2023-04-28T09:03:08.820Z"
   },
   {
    "duration": 45,
    "start_time": "2023-04-28T09:03:08.856Z"
   },
   {
    "duration": 212,
    "start_time": "2023-04-28T09:03:08.903Z"
   },
   {
    "duration": 93,
    "start_time": "2023-04-28T09:03:09.116Z"
   },
   {
    "duration": 4,
    "start_time": "2023-04-28T09:03:09.210Z"
   },
   {
    "duration": 23,
    "start_time": "2023-04-28T09:03:09.216Z"
   },
   {
    "duration": 31,
    "start_time": "2023-04-28T09:03:09.241Z"
   },
   {
    "duration": 4,
    "start_time": "2023-04-28T09:03:09.274Z"
   },
   {
    "duration": 8,
    "start_time": "2023-04-28T09:03:09.279Z"
   },
   {
    "duration": 10,
    "start_time": "2023-04-28T09:03:09.289Z"
   },
   {
    "duration": 3,
    "start_time": "2023-04-28T09:03:09.300Z"
   },
   {
    "duration": 9468,
    "start_time": "2023-04-28T09:03:09.305Z"
   },
   {
    "duration": 88,
    "start_time": "2023-04-28T09:03:18.774Z"
   },
   {
    "duration": 723,
    "start_time": "2023-04-28T09:03:18.864Z"
   },
   {
    "duration": 501,
    "start_time": "2023-04-28T09:03:19.589Z"
   },
   {
    "duration": 96,
    "start_time": "2023-04-28T09:03:20.093Z"
   },
   {
    "duration": 1381,
    "start_time": "2023-04-28T09:05:51.423Z"
   },
   {
    "duration": 858,
    "start_time": "2023-04-28T09:05:52.806Z"
   },
   {
    "duration": 38,
    "start_time": "2023-04-28T09:05:53.666Z"
   },
   {
    "duration": 6,
    "start_time": "2023-04-28T09:05:53.707Z"
   },
   {
    "duration": 143,
    "start_time": "2023-04-28T09:05:53.715Z"
   },
   {
    "duration": 550,
    "start_time": "2023-04-28T09:05:53.859Z"
   },
   {
    "duration": 553,
    "start_time": "2023-04-28T09:05:54.411Z"
   },
   {
    "duration": 519,
    "start_time": "2023-04-28T09:05:54.966Z"
   },
   {
    "duration": 128,
    "start_time": "2023-04-28T09:05:55.487Z"
   },
   {
    "duration": 19,
    "start_time": "2023-04-28T09:05:55.619Z"
   },
   {
    "duration": 78,
    "start_time": "2023-04-28T09:05:55.640Z"
   },
   {
    "duration": 19,
    "start_time": "2023-04-28T09:05:55.720Z"
   },
   {
    "duration": 45,
    "start_time": "2023-04-28T09:05:55.741Z"
   },
   {
    "duration": 24,
    "start_time": "2023-04-28T09:05:55.790Z"
   },
   {
    "duration": 53,
    "start_time": "2023-04-28T09:05:55.816Z"
   },
   {
    "duration": 49,
    "start_time": "2023-04-28T09:05:55.871Z"
   },
   {
    "duration": 84,
    "start_time": "2023-04-28T09:05:55.922Z"
   },
   {
    "duration": 7,
    "start_time": "2023-04-28T09:05:56.008Z"
   },
   {
    "duration": 47,
    "start_time": "2023-04-28T09:05:56.017Z"
   },
   {
    "duration": 20,
    "start_time": "2023-04-28T09:05:56.066Z"
   },
   {
    "duration": 13,
    "start_time": "2023-04-28T09:05:56.088Z"
   },
   {
    "duration": 39,
    "start_time": "2023-04-28T09:05:56.103Z"
   },
   {
    "duration": 42,
    "start_time": "2023-04-28T09:05:56.144Z"
   },
   {
    "duration": 13,
    "start_time": "2023-04-28T09:05:56.188Z"
   },
   {
    "duration": 33,
    "start_time": "2023-04-28T09:05:56.203Z"
   },
   {
    "duration": 76,
    "start_time": "2023-04-28T09:05:56.238Z"
   },
   {
    "duration": 55,
    "start_time": "2023-04-28T09:05:56.315Z"
   },
   {
    "duration": 248,
    "start_time": "2023-04-28T09:05:56.384Z"
   },
   {
    "duration": 9,
    "start_time": "2023-04-28T09:05:56.634Z"
   },
   {
    "duration": 178,
    "start_time": "2023-04-28T09:05:56.644Z"
   },
   {
    "duration": 103,
    "start_time": "2023-04-28T09:05:56.824Z"
   },
   {
    "duration": 5,
    "start_time": "2023-04-28T09:05:56.929Z"
   },
   {
    "duration": 4,
    "start_time": "2023-04-28T09:05:56.936Z"
   },
   {
    "duration": 51,
    "start_time": "2023-04-28T09:05:56.942Z"
   },
   {
    "duration": 4,
    "start_time": "2023-04-28T09:05:56.995Z"
   },
   {
    "duration": 14,
    "start_time": "2023-04-28T09:05:57.001Z"
   },
   {
    "duration": 15,
    "start_time": "2023-04-28T09:05:57.017Z"
   },
   {
    "duration": 6,
    "start_time": "2023-04-28T09:05:57.034Z"
   },
   {
    "duration": 9733,
    "start_time": "2023-04-28T09:05:57.042Z"
   },
   {
    "duration": 97,
    "start_time": "2023-04-28T09:06:06.777Z"
   },
   {
    "duration": 705,
    "start_time": "2023-04-28T09:06:06.878Z"
   },
   {
    "duration": 510,
    "start_time": "2023-04-28T09:06:07.585Z"
   },
   {
    "duration": 102,
    "start_time": "2023-04-28T09:06:08.096Z"
   },
   {
    "duration": 1412,
    "start_time": "2023-04-28T09:06:49.680Z"
   },
   {
    "duration": 799,
    "start_time": "2023-04-28T09:06:51.094Z"
   },
   {
    "duration": 18,
    "start_time": "2023-04-28T09:06:51.894Z"
   },
   {
    "duration": 3,
    "start_time": "2023-04-28T09:06:51.914Z"
   },
   {
    "duration": 145,
    "start_time": "2023-04-28T09:06:51.920Z"
   },
   {
    "duration": 455,
    "start_time": "2023-04-28T09:06:52.066Z"
   },
   {
    "duration": 501,
    "start_time": "2023-04-28T09:06:52.523Z"
   },
   {
    "duration": 452,
    "start_time": "2023-04-28T09:06:53.026Z"
   },
   {
    "duration": 137,
    "start_time": "2023-04-28T09:06:53.479Z"
   },
   {
    "duration": 19,
    "start_time": "2023-04-28T09:06:53.617Z"
   },
   {
    "duration": 48,
    "start_time": "2023-04-28T09:06:53.637Z"
   },
   {
    "duration": 17,
    "start_time": "2023-04-28T09:06:53.687Z"
   },
   {
    "duration": 35,
    "start_time": "2023-04-28T09:06:53.706Z"
   },
   {
    "duration": 21,
    "start_time": "2023-04-28T09:06:53.743Z"
   },
   {
    "duration": 50,
    "start_time": "2023-04-28T09:06:53.765Z"
   },
   {
    "duration": 37,
    "start_time": "2023-04-28T09:06:53.817Z"
   },
   {
    "duration": 108,
    "start_time": "2023-04-28T09:06:53.856Z"
   },
   {
    "duration": 6,
    "start_time": "2023-04-28T09:06:53.966Z"
   },
   {
    "duration": 44,
    "start_time": "2023-04-28T09:06:53.985Z"
   },
   {
    "duration": 10,
    "start_time": "2023-04-28T09:06:54.031Z"
   },
   {
    "duration": 11,
    "start_time": "2023-04-28T09:06:54.043Z"
   },
   {
    "duration": 73,
    "start_time": "2023-04-28T09:06:54.056Z"
   },
   {
    "duration": 38,
    "start_time": "2023-04-28T09:06:54.132Z"
   },
   {
    "duration": 21,
    "start_time": "2023-04-28T09:06:54.172Z"
   },
   {
    "duration": 42,
    "start_time": "2023-04-28T09:06:54.196Z"
   },
   {
    "duration": 72,
    "start_time": "2023-04-28T09:06:54.240Z"
   },
   {
    "duration": 69,
    "start_time": "2023-04-28T09:06:54.314Z"
   },
   {
    "duration": 234,
    "start_time": "2023-04-28T09:06:54.385Z"
   },
   {
    "duration": 146,
    "start_time": "2023-04-28T09:06:54.621Z"
   },
   {
    "duration": 174,
    "start_time": "2023-04-28T09:06:54.769Z"
   },
   {
    "duration": 117,
    "start_time": "2023-04-28T09:06:54.944Z"
   },
   {
    "duration": 4,
    "start_time": "2023-04-28T09:06:55.063Z"
   },
   {
    "duration": 17,
    "start_time": "2023-04-28T09:06:55.069Z"
   },
   {
    "duration": 48,
    "start_time": "2023-04-28T09:06:55.088Z"
   },
   {
    "duration": 4,
    "start_time": "2023-04-28T09:06:55.138Z"
   },
   {
    "duration": 20,
    "start_time": "2023-04-28T09:06:55.144Z"
   },
   {
    "duration": 13,
    "start_time": "2023-04-28T09:06:55.165Z"
   },
   {
    "duration": 3,
    "start_time": "2023-04-28T09:06:55.180Z"
   },
   {
    "duration": 9578,
    "start_time": "2023-04-28T09:06:55.184Z"
   },
   {
    "duration": 87,
    "start_time": "2023-04-28T09:07:04.764Z"
   },
   {
    "duration": 729,
    "start_time": "2023-04-28T09:07:04.855Z"
   },
   {
    "duration": 502,
    "start_time": "2023-04-28T09:07:05.585Z"
   },
   {
    "duration": 99,
    "start_time": "2023-04-28T09:07:06.089Z"
   },
   {
    "duration": 35805,
    "start_time": "2023-04-28T09:07:06.190Z"
   },
   {
    "duration": 4096,
    "start_time": "2023-04-28T09:07:41.997Z"
   },
   {
    "duration": 17097,
    "start_time": "2023-04-28T09:07:46.095Z"
   },
   {
    "duration": 299,
    "start_time": "2023-04-28T09:08:03.194Z"
   },
   {
    "duration": 3942,
    "start_time": "2023-04-28T09:08:03.584Z"
   },
   {
    "duration": 19,
    "start_time": "2023-04-28T09:12:55.394Z"
   },
   {
    "duration": 19,
    "start_time": "2023-04-28T09:12:55.622Z"
   },
   {
    "duration": 1400,
    "start_time": "2023-04-28T09:13:36.629Z"
   },
   {
    "duration": 901,
    "start_time": "2023-04-28T09:13:38.031Z"
   },
   {
    "duration": 19,
    "start_time": "2023-04-28T09:13:38.934Z"
   },
   {
    "duration": 7,
    "start_time": "2023-04-28T09:13:38.954Z"
   },
   {
    "duration": 142,
    "start_time": "2023-04-28T09:13:38.963Z"
   },
   {
    "duration": 468,
    "start_time": "2023-04-28T09:13:39.107Z"
   },
   {
    "duration": 504,
    "start_time": "2023-04-28T09:13:39.577Z"
   },
   {
    "duration": 477,
    "start_time": "2023-04-28T09:13:40.083Z"
   },
   {
    "duration": 142,
    "start_time": "2023-04-28T09:13:40.562Z"
   },
   {
    "duration": 26,
    "start_time": "2023-04-28T09:13:40.706Z"
   },
   {
    "duration": 62,
    "start_time": "2023-04-28T09:13:40.734Z"
   },
   {
    "duration": 22,
    "start_time": "2023-04-28T09:13:40.798Z"
   },
   {
    "duration": 39,
    "start_time": "2023-04-28T09:13:40.822Z"
   },
   {
    "duration": 31,
    "start_time": "2023-04-28T09:13:40.865Z"
   },
   {
    "duration": 62,
    "start_time": "2023-04-28T09:13:40.898Z"
   },
   {
    "duration": 37,
    "start_time": "2023-04-28T09:13:40.963Z"
   },
   {
    "duration": 91,
    "start_time": "2023-04-28T09:13:41.001Z"
   },
   {
    "duration": 4,
    "start_time": "2023-04-28T09:13:41.094Z"
   },
   {
    "duration": 34,
    "start_time": "2023-04-28T09:13:41.100Z"
   },
   {
    "duration": 9,
    "start_time": "2023-04-28T09:13:41.136Z"
   },
   {
    "duration": 5,
    "start_time": "2023-04-28T09:13:41.147Z"
   },
   {
    "duration": 62,
    "start_time": "2023-04-28T09:13:41.154Z"
   },
   {
    "duration": 30,
    "start_time": "2023-04-28T09:13:41.218Z"
   },
   {
    "duration": 11,
    "start_time": "2023-04-28T09:13:41.250Z"
   },
   {
    "duration": 49,
    "start_time": "2023-04-28T09:13:41.263Z"
   },
   {
    "duration": 36,
    "start_time": "2023-04-28T09:13:41.313Z"
   },
   {
    "duration": 49,
    "start_time": "2023-04-28T09:13:41.351Z"
   },
   {
    "duration": 217,
    "start_time": "2023-04-28T09:13:41.402Z"
   },
   {
    "duration": 145,
    "start_time": "2023-04-28T09:13:41.621Z"
   },
   {
    "duration": 17,
    "start_time": "2023-04-28T09:13:41.768Z"
   },
   {
    "duration": 28,
    "start_time": "2023-04-28T09:13:41.787Z"
   },
   {
    "duration": 17,
    "start_time": "2023-04-28T09:13:41.817Z"
   },
   {
    "duration": 151,
    "start_time": "2023-04-28T09:13:41.836Z"
   },
   {
    "duration": 44,
    "start_time": "2023-04-28T09:13:41.989Z"
   },
   {
    "duration": 4,
    "start_time": "2023-04-28T09:13:42.035Z"
   },
   {
    "duration": 4,
    "start_time": "2023-04-28T09:13:42.042Z"
   },
   {
    "duration": 45,
    "start_time": "2023-04-28T09:13:42.047Z"
   },
   {
    "duration": 5,
    "start_time": "2023-04-28T09:13:42.094Z"
   },
   {
    "duration": 5,
    "start_time": "2023-04-28T09:13:42.101Z"
   },
   {
    "duration": 18,
    "start_time": "2023-04-28T09:13:42.108Z"
   },
   {
    "duration": 3,
    "start_time": "2023-04-28T09:13:42.131Z"
   },
   {
    "duration": 6123,
    "start_time": "2023-04-28T09:13:42.136Z"
   },
   {
    "duration": 70,
    "start_time": "2023-04-28T09:13:48.261Z"
   },
   {
    "duration": 371,
    "start_time": "2023-04-28T09:13:48.334Z"
   },
   {
    "duration": 281,
    "start_time": "2023-04-28T09:13:48.708Z"
   },
   {
    "duration": 53,
    "start_time": "2023-04-28T09:13:48.991Z"
   },
   {
    "duration": 88449,
    "start_time": "2023-04-28T09:13:49.046Z"
   },
   {
    "duration": 2526,
    "start_time": "2023-04-28T09:15:17.497Z"
   },
   {
    "duration": 9764,
    "start_time": "2023-04-28T09:15:20.024Z"
   },
   {
    "duration": 198,
    "start_time": "2023-04-28T09:15:29.790Z"
   },
   {
    "duration": 2696,
    "start_time": "2023-04-28T09:15:29.991Z"
   },
   {
    "duration": 4,
    "start_time": "2023-04-28T09:15:35.941Z"
   },
   {
    "duration": 13,
    "start_time": "2023-04-28T09:15:43.119Z"
   },
   {
    "duration": 13,
    "start_time": "2023-04-28T09:15:55.849Z"
   },
   {
    "duration": 12,
    "start_time": "2023-04-28T09:16:02.861Z"
   },
   {
    "duration": 102,
    "start_time": "2023-04-28T09:16:32.209Z"
   },
   {
    "duration": 178,
    "start_time": "2023-04-28T09:16:43.211Z"
   },
   {
    "duration": 12,
    "start_time": "2023-04-28T09:16:53.724Z"
   },
   {
    "duration": 12,
    "start_time": "2023-04-28T09:17:01.781Z"
   },
   {
    "duration": 12,
    "start_time": "2023-04-28T09:17:06.961Z"
   },
   {
    "duration": 12,
    "start_time": "2023-04-28T09:17:13.068Z"
   },
   {
    "duration": 13,
    "start_time": "2023-04-28T09:17:19.761Z"
   },
   {
    "duration": 3,
    "start_time": "2023-04-28T09:17:30.352Z"
   },
   {
    "duration": 4,
    "start_time": "2023-04-28T09:18:09.842Z"
   },
   {
    "duration": 1352,
    "start_time": "2023-04-28T09:18:48.636Z"
   },
   {
    "duration": 822,
    "start_time": "2023-04-28T09:18:49.990Z"
   },
   {
    "duration": 18,
    "start_time": "2023-04-28T09:18:50.814Z"
   },
   {
    "duration": 15,
    "start_time": "2023-04-28T09:18:50.834Z"
   },
   {
    "duration": 139,
    "start_time": "2023-04-28T09:18:50.851Z"
   },
   {
    "duration": 455,
    "start_time": "2023-04-28T09:18:50.992Z"
   },
   {
    "duration": 510,
    "start_time": "2023-04-28T09:18:51.449Z"
   },
   {
    "duration": 441,
    "start_time": "2023-04-28T09:18:51.961Z"
   },
   {
    "duration": 134,
    "start_time": "2023-04-28T09:18:52.403Z"
   },
   {
    "duration": 18,
    "start_time": "2023-04-28T09:18:52.539Z"
   },
   {
    "duration": 50,
    "start_time": "2023-04-28T09:18:52.559Z"
   },
   {
    "duration": 19,
    "start_time": "2023-04-28T09:18:52.611Z"
   },
   {
    "duration": 34,
    "start_time": "2023-04-28T09:18:52.632Z"
   },
   {
    "duration": 36,
    "start_time": "2023-04-28T09:18:52.669Z"
   },
   {
    "duration": 43,
    "start_time": "2023-04-28T09:18:52.707Z"
   },
   {
    "duration": 35,
    "start_time": "2023-04-28T09:18:52.752Z"
   },
   {
    "duration": 92,
    "start_time": "2023-04-28T09:18:52.789Z"
   },
   {
    "duration": 3,
    "start_time": "2023-04-28T09:18:52.883Z"
   },
   {
    "duration": 33,
    "start_time": "2023-04-28T09:18:52.888Z"
   },
   {
    "duration": 9,
    "start_time": "2023-04-28T09:18:52.922Z"
   },
   {
    "duration": 6,
    "start_time": "2023-04-28T09:18:52.932Z"
   },
   {
    "duration": 55,
    "start_time": "2023-04-28T09:18:52.940Z"
   },
   {
    "duration": 27,
    "start_time": "2023-04-28T09:18:52.997Z"
   },
   {
    "duration": 7,
    "start_time": "2023-04-28T09:18:53.026Z"
   },
   {
    "duration": 8,
    "start_time": "2023-04-28T09:18:53.035Z"
   },
   {
    "duration": 48,
    "start_time": "2023-04-28T09:18:53.044Z"
   },
   {
    "duration": 32,
    "start_time": "2023-04-28T09:18:53.094Z"
   },
   {
    "duration": 33,
    "start_time": "2023-04-28T09:18:53.128Z"
   },
   {
    "duration": 209,
    "start_time": "2023-04-28T09:18:53.162Z"
   },
   {
    "duration": 148,
    "start_time": "2023-04-28T09:18:53.373Z"
   },
   {
    "duration": 10,
    "start_time": "2023-04-28T09:18:53.523Z"
   },
   {
    "duration": 29,
    "start_time": "2023-04-28T09:18:53.535Z"
   },
   {
    "duration": 34,
    "start_time": "2023-04-28T09:18:53.565Z"
   },
   {
    "duration": 130,
    "start_time": "2023-04-28T09:18:53.601Z"
   },
   {
    "duration": 13,
    "start_time": "2023-04-28T09:18:53.732Z"
   },
   {
    "duration": 14,
    "start_time": "2023-04-28T09:18:53.747Z"
   },
   {
    "duration": 4,
    "start_time": "2023-04-28T09:18:53.762Z"
   },
   {
    "duration": 62,
    "start_time": "2023-04-28T09:18:53.767Z"
   },
   {
    "duration": 4,
    "start_time": "2023-04-28T09:18:53.830Z"
   },
   {
    "duration": 7,
    "start_time": "2023-04-28T09:18:53.835Z"
   },
   {
    "duration": 39,
    "start_time": "2023-04-28T09:18:53.846Z"
   },
   {
    "duration": 3,
    "start_time": "2023-04-28T09:18:53.887Z"
   },
   {
    "duration": 13,
    "start_time": "2023-04-28T09:18:53.892Z"
   },
   {
    "duration": 19,
    "start_time": "2023-04-28T09:18:53.906Z"
   },
   {
    "duration": 4,
    "start_time": "2023-04-28T09:18:53.927Z"
   },
   {
    "duration": 5991,
    "start_time": "2023-04-28T09:18:53.933Z"
   },
   {
    "duration": 54,
    "start_time": "2023-04-28T09:18:59.925Z"
   },
   {
    "duration": 310,
    "start_time": "2023-04-28T09:18:59.980Z"
   },
   {
    "duration": 266,
    "start_time": "2023-04-28T09:19:00.291Z"
   },
   {
    "duration": 55,
    "start_time": "2023-04-28T09:19:00.558Z"
   },
   {
    "duration": 52385,
    "start_time": "2023-04-28T09:19:00.614Z"
   },
   {
    "duration": 2415,
    "start_time": "2023-04-28T09:19:53.001Z"
   },
   {
    "duration": 1465,
    "start_time": "2023-04-28T09:19:59.379Z"
   },
   {
    "duration": 882,
    "start_time": "2023-04-28T09:20:00.846Z"
   },
   {
    "duration": 19,
    "start_time": "2023-04-28T09:20:01.730Z"
   },
   {
    "duration": 23,
    "start_time": "2023-04-28T09:20:01.752Z"
   },
   {
    "duration": 169,
    "start_time": "2023-04-28T09:20:01.777Z"
   },
   {
    "duration": 498,
    "start_time": "2023-04-28T09:20:01.948Z"
   },
   {
    "duration": 523,
    "start_time": "2023-04-28T09:20:02.449Z"
   },
   {
    "duration": 436,
    "start_time": "2023-04-28T09:20:02.974Z"
   },
   {
    "duration": 126,
    "start_time": "2023-04-28T09:20:03.412Z"
   },
   {
    "duration": 17,
    "start_time": "2023-04-28T09:20:03.541Z"
   },
   {
    "duration": 50,
    "start_time": "2023-04-28T09:20:03.560Z"
   },
   {
    "duration": 23,
    "start_time": "2023-04-28T09:20:03.612Z"
   },
   {
    "duration": 48,
    "start_time": "2023-04-28T09:20:03.638Z"
   },
   {
    "duration": 33,
    "start_time": "2023-04-28T09:20:03.688Z"
   },
   {
    "duration": 49,
    "start_time": "2023-04-28T09:20:03.723Z"
   },
   {
    "duration": 36,
    "start_time": "2023-04-28T09:20:03.774Z"
   },
   {
    "duration": 93,
    "start_time": "2023-04-28T09:20:03.812Z"
   },
   {
    "duration": 4,
    "start_time": "2023-04-28T09:20:03.907Z"
   },
   {
    "duration": 67,
    "start_time": "2023-04-28T09:20:03.912Z"
   },
   {
    "duration": 15,
    "start_time": "2023-04-28T09:20:03.981Z"
   },
   {
    "duration": 10,
    "start_time": "2023-04-28T09:20:03.998Z"
   },
   {
    "duration": 31,
    "start_time": "2023-04-28T09:20:04.010Z"
   },
   {
    "duration": 52,
    "start_time": "2023-04-28T09:20:04.043Z"
   },
   {
    "duration": 8,
    "start_time": "2023-04-28T09:20:04.097Z"
   },
   {
    "duration": 5,
    "start_time": "2023-04-28T09:20:04.108Z"
   },
   {
    "duration": 63,
    "start_time": "2023-04-28T09:20:04.115Z"
   },
   {
    "duration": 39,
    "start_time": "2023-04-28T09:20:04.181Z"
   },
   {
    "duration": 39,
    "start_time": "2023-04-28T09:20:04.224Z"
   },
   {
    "duration": 219,
    "start_time": "2023-04-28T09:20:04.265Z"
   },
   {
    "duration": 151,
    "start_time": "2023-04-28T09:20:04.486Z"
   },
   {
    "duration": 10,
    "start_time": "2023-04-28T09:20:04.639Z"
   },
   {
    "duration": 9,
    "start_time": "2023-04-28T09:20:04.651Z"
   },
   {
    "duration": 41,
    "start_time": "2023-04-28T09:20:04.661Z"
   },
   {
    "duration": 4,
    "start_time": "2023-04-28T09:20:04.704Z"
   },
   {
    "duration": 18,
    "start_time": "2023-04-28T09:20:04.710Z"
   },
   {
    "duration": 137,
    "start_time": "2023-04-28T09:20:04.730Z"
   },
   {
    "duration": 21,
    "start_time": "2023-04-28T09:20:04.869Z"
   },
   {
    "duration": 13,
    "start_time": "2023-04-28T09:20:04.892Z"
   },
   {
    "duration": 5,
    "start_time": "2023-04-28T09:20:04.907Z"
   },
   {
    "duration": 53,
    "start_time": "2023-04-28T09:20:04.913Z"
   },
   {
    "duration": 4,
    "start_time": "2023-04-28T09:20:04.968Z"
   },
   {
    "duration": 21,
    "start_time": "2023-04-28T09:20:04.986Z"
   },
   {
    "duration": 18,
    "start_time": "2023-04-28T09:20:05.009Z"
   },
   {
    "duration": 4,
    "start_time": "2023-04-28T09:20:05.029Z"
   },
   {
    "duration": 10,
    "start_time": "2023-04-28T09:20:05.035Z"
   },
   {
    "duration": 22,
    "start_time": "2023-04-28T09:20:05.046Z"
   },
   {
    "duration": 7,
    "start_time": "2023-04-28T09:20:05.070Z"
   },
   {
    "duration": 5659,
    "start_time": "2023-04-28T09:20:05.079Z"
   },
   {
    "duration": 51,
    "start_time": "2023-04-28T09:20:10.739Z"
   },
   {
    "duration": 311,
    "start_time": "2023-04-28T09:20:10.791Z"
   },
   {
    "duration": 262,
    "start_time": "2023-04-28T09:20:11.104Z"
   },
   {
    "duration": 56,
    "start_time": "2023-04-28T09:20:11.368Z"
   },
   {
    "duration": 1413,
    "start_time": "2023-04-28T09:20:41.374Z"
   },
   {
    "duration": 823,
    "start_time": "2023-04-28T09:20:42.789Z"
   },
   {
    "duration": 17,
    "start_time": "2023-04-28T09:20:43.614Z"
   },
   {
    "duration": 4,
    "start_time": "2023-04-28T09:20:43.633Z"
   },
   {
    "duration": 143,
    "start_time": "2023-04-28T09:20:43.638Z"
   },
   {
    "duration": 516,
    "start_time": "2023-04-28T09:20:43.785Z"
   },
   {
    "duration": 495,
    "start_time": "2023-04-28T09:20:44.303Z"
   },
   {
    "duration": 441,
    "start_time": "2023-04-28T09:20:44.799Z"
   },
   {
    "duration": 124,
    "start_time": "2023-04-28T09:20:45.242Z"
   },
   {
    "duration": 24,
    "start_time": "2023-04-28T09:20:45.368Z"
   },
   {
    "duration": 38,
    "start_time": "2023-04-28T09:20:45.394Z"
   },
   {
    "duration": 18,
    "start_time": "2023-04-28T09:20:45.433Z"
   },
   {
    "duration": 47,
    "start_time": "2023-04-28T09:20:45.453Z"
   },
   {
    "duration": 17,
    "start_time": "2023-04-28T09:20:45.502Z"
   },
   {
    "duration": 37,
    "start_time": "2023-04-28T09:20:45.521Z"
   },
   {
    "duration": 51,
    "start_time": "2023-04-28T09:20:45.559Z"
   },
   {
    "duration": 91,
    "start_time": "2023-04-28T09:20:45.611Z"
   },
   {
    "duration": 4,
    "start_time": "2023-04-28T09:20:45.704Z"
   },
   {
    "duration": 41,
    "start_time": "2023-04-28T09:20:45.709Z"
   },
   {
    "duration": 13,
    "start_time": "2023-04-28T09:20:45.752Z"
   },
   {
    "duration": 6,
    "start_time": "2023-04-28T09:20:45.786Z"
   },
   {
    "duration": 44,
    "start_time": "2023-04-28T09:20:45.794Z"
   },
   {
    "duration": 29,
    "start_time": "2023-04-28T09:20:45.840Z"
   },
   {
    "duration": 17,
    "start_time": "2023-04-28T09:20:45.871Z"
   },
   {
    "duration": 5,
    "start_time": "2023-04-28T09:20:45.889Z"
   },
   {
    "duration": 36,
    "start_time": "2023-04-28T09:20:45.896Z"
   },
   {
    "duration": 58,
    "start_time": "2023-04-28T09:20:45.934Z"
   },
   {
    "duration": 32,
    "start_time": "2023-04-28T09:20:45.996Z"
   },
   {
    "duration": 216,
    "start_time": "2023-04-28T09:20:46.029Z"
   },
   {
    "duration": 140,
    "start_time": "2023-04-28T09:20:46.247Z"
   },
   {
    "duration": 11,
    "start_time": "2023-04-28T09:20:46.388Z"
   },
   {
    "duration": 4,
    "start_time": "2023-04-28T09:20:46.401Z"
   },
   {
    "duration": 28,
    "start_time": "2023-04-28T09:20:46.406Z"
   },
   {
    "duration": 4,
    "start_time": "2023-04-28T09:20:46.436Z"
   },
   {
    "duration": 49,
    "start_time": "2023-04-28T09:20:46.442Z"
   },
   {
    "duration": 3,
    "start_time": "2023-04-28T09:20:46.493Z"
   },
   {
    "duration": 132,
    "start_time": "2023-04-28T09:20:46.498Z"
   },
   {
    "duration": 11,
    "start_time": "2023-04-28T09:20:46.632Z"
   },
   {
    "duration": 13,
    "start_time": "2023-04-28T09:20:46.645Z"
   },
   {
    "duration": 3,
    "start_time": "2023-04-28T09:20:46.660Z"
   },
   {
    "duration": 42,
    "start_time": "2023-04-28T09:20:46.685Z"
   },
   {
    "duration": 4,
    "start_time": "2023-04-28T09:20:46.729Z"
   },
   {
    "duration": 7,
    "start_time": "2023-04-28T09:20:46.734Z"
   },
   {
    "duration": 18,
    "start_time": "2023-04-28T09:20:46.743Z"
   },
   {
    "duration": 27,
    "start_time": "2023-04-28T09:20:46.762Z"
   },
   {
    "duration": 8,
    "start_time": "2023-04-28T09:20:46.790Z"
   },
   {
    "duration": 20,
    "start_time": "2023-04-28T09:20:46.799Z"
   },
   {
    "duration": 12,
    "start_time": "2023-04-28T09:20:46.821Z"
   },
   {
    "duration": 5634,
    "start_time": "2023-04-28T09:20:46.835Z"
   },
   {
    "duration": 52,
    "start_time": "2023-04-28T09:20:52.470Z"
   },
   {
    "duration": 319,
    "start_time": "2023-04-28T09:20:52.524Z"
   },
   {
    "duration": 267,
    "start_time": "2023-04-28T09:20:52.845Z"
   },
   {
    "duration": 47,
    "start_time": "2023-04-28T09:20:53.114Z"
   },
   {
    "duration": 42331,
    "start_time": "2023-04-28T09:20:53.163Z"
   },
   {
    "duration": 2411,
    "start_time": "2023-04-28T09:21:35.496Z"
   },
   {
    "duration": 1429,
    "start_time": "2023-04-28T09:21:50.054Z"
   },
   {
    "duration": 814,
    "start_time": "2023-04-28T09:21:51.485Z"
   },
   {
    "duration": 18,
    "start_time": "2023-04-28T09:21:52.301Z"
   },
   {
    "duration": 11,
    "start_time": "2023-04-28T09:21:52.321Z"
   },
   {
    "duration": 161,
    "start_time": "2023-04-28T09:21:52.334Z"
   },
   {
    "duration": 477,
    "start_time": "2023-04-28T09:21:52.497Z"
   },
   {
    "duration": 506,
    "start_time": "2023-04-28T09:21:52.976Z"
   },
   {
    "duration": 475,
    "start_time": "2023-04-28T09:21:53.484Z"
   },
   {
    "duration": 171,
    "start_time": "2023-04-28T09:21:53.961Z"
   },
   {
    "duration": 23,
    "start_time": "2023-04-28T09:21:54.134Z"
   },
   {
    "duration": 60,
    "start_time": "2023-04-28T09:21:54.159Z"
   },
   {
    "duration": 25,
    "start_time": "2023-04-28T09:21:54.222Z"
   },
   {
    "duration": 48,
    "start_time": "2023-04-28T09:21:54.249Z"
   },
   {
    "duration": 19,
    "start_time": "2023-04-28T09:21:54.300Z"
   },
   {
    "duration": 40,
    "start_time": "2023-04-28T09:21:54.320Z"
   },
   {
    "duration": 61,
    "start_time": "2023-04-28T09:21:54.362Z"
   },
   {
    "duration": 82,
    "start_time": "2023-04-28T09:21:54.425Z"
   },
   {
    "duration": 4,
    "start_time": "2023-04-28T09:21:54.509Z"
   },
   {
    "duration": 33,
    "start_time": "2023-04-28T09:21:54.515Z"
   },
   {
    "duration": 11,
    "start_time": "2023-04-28T09:21:54.550Z"
   },
   {
    "duration": 23,
    "start_time": "2023-04-28T09:21:54.563Z"
   },
   {
    "duration": 35,
    "start_time": "2023-04-28T09:21:54.588Z"
   },
   {
    "duration": 30,
    "start_time": "2023-04-28T09:21:54.625Z"
   },
   {
    "duration": 29,
    "start_time": "2023-04-28T09:21:54.657Z"
   },
   {
    "duration": 4,
    "start_time": "2023-04-28T09:21:54.688Z"
   },
   {
    "duration": 33,
    "start_time": "2023-04-28T09:21:54.693Z"
   },
   {
    "duration": 33,
    "start_time": "2023-04-28T09:21:54.728Z"
   },
   {
    "duration": 46,
    "start_time": "2023-04-28T09:21:54.762Z"
   },
   {
    "duration": 223,
    "start_time": "2023-04-28T09:21:54.810Z"
   },
   {
    "duration": 137,
    "start_time": "2023-04-28T09:21:55.035Z"
   },
   {
    "duration": 22,
    "start_time": "2023-04-28T09:21:55.174Z"
   },
   {
    "duration": 6,
    "start_time": "2023-04-28T09:21:55.198Z"
   },
   {
    "duration": 35,
    "start_time": "2023-04-28T09:21:55.205Z"
   },
   {
    "duration": 4,
    "start_time": "2023-04-28T09:21:55.242Z"
   },
   {
    "duration": 24,
    "start_time": "2023-04-28T09:21:55.247Z"
   },
   {
    "duration": 19,
    "start_time": "2023-04-28T09:21:55.286Z"
   },
   {
    "duration": 4,
    "start_time": "2023-04-28T09:21:55.307Z"
   },
   {
    "duration": 158,
    "start_time": "2023-04-28T09:21:55.312Z"
   },
   {
    "duration": 23,
    "start_time": "2023-04-28T09:21:55.471Z"
   },
   {
    "duration": 19,
    "start_time": "2023-04-28T09:21:55.495Z"
   },
   {
    "duration": 4,
    "start_time": "2023-04-28T09:21:55.518Z"
   },
   {
    "duration": 87,
    "start_time": "2023-04-28T09:21:55.523Z"
   },
   {
    "duration": 4,
    "start_time": "2023-04-28T09:21:55.612Z"
   },
   {
    "duration": 19,
    "start_time": "2023-04-28T09:21:55.617Z"
   },
   {
    "duration": 38,
    "start_time": "2023-04-28T09:21:55.638Z"
   },
   {
    "duration": 4,
    "start_time": "2023-04-28T09:21:55.678Z"
   },
   {
    "duration": 15,
    "start_time": "2023-04-28T09:21:55.684Z"
   },
   {
    "duration": 28,
    "start_time": "2023-04-28T09:21:55.701Z"
   },
   {
    "duration": 4,
    "start_time": "2023-04-28T09:21:55.731Z"
   },
   {
    "duration": 8407,
    "start_time": "2023-04-28T09:21:55.736Z"
   },
   {
    "duration": 77,
    "start_time": "2023-04-28T09:22:04.145Z"
   },
   {
    "duration": 577,
    "start_time": "2023-04-28T09:22:04.224Z"
   },
   {
    "duration": 423,
    "start_time": "2023-04-28T09:22:04.803Z"
   },
   {
    "duration": 83,
    "start_time": "2023-04-28T09:22:05.227Z"
   },
   {
    "duration": 1506,
    "start_time": "2023-04-28T09:22:28.481Z"
   },
   {
    "duration": 910,
    "start_time": "2023-04-28T09:22:29.989Z"
   },
   {
    "duration": 20,
    "start_time": "2023-04-28T09:22:30.901Z"
   },
   {
    "duration": 13,
    "start_time": "2023-04-28T09:22:30.924Z"
   },
   {
    "duration": 166,
    "start_time": "2023-04-28T09:22:30.939Z"
   },
   {
    "duration": 497,
    "start_time": "2023-04-28T09:22:31.107Z"
   },
   {
    "duration": 520,
    "start_time": "2023-04-28T09:22:31.606Z"
   },
   {
    "duration": 481,
    "start_time": "2023-04-28T09:22:32.128Z"
   },
   {
    "duration": 137,
    "start_time": "2023-04-28T09:22:32.611Z"
   },
   {
    "duration": 19,
    "start_time": "2023-04-28T09:22:32.750Z"
   },
   {
    "duration": 38,
    "start_time": "2023-04-28T09:22:32.786Z"
   },
   {
    "duration": 33,
    "start_time": "2023-04-28T09:22:32.827Z"
   },
   {
    "duration": 42,
    "start_time": "2023-04-28T09:22:32.862Z"
   },
   {
    "duration": 32,
    "start_time": "2023-04-28T09:22:32.908Z"
   },
   {
    "duration": 51,
    "start_time": "2023-04-28T09:22:32.943Z"
   },
   {
    "duration": 36,
    "start_time": "2023-04-28T09:22:32.996Z"
   },
   {
    "duration": 93,
    "start_time": "2023-04-28T09:22:33.034Z"
   },
   {
    "duration": 4,
    "start_time": "2023-04-28T09:22:33.129Z"
   },
   {
    "duration": 50,
    "start_time": "2023-04-28T09:22:33.135Z"
   },
   {
    "duration": 10,
    "start_time": "2023-04-28T09:22:33.187Z"
   },
   {
    "duration": 7,
    "start_time": "2023-04-28T09:22:33.198Z"
   },
   {
    "duration": 35,
    "start_time": "2023-04-28T09:22:33.207Z"
   },
   {
    "duration": 54,
    "start_time": "2023-04-28T09:22:33.244Z"
   },
   {
    "duration": 9,
    "start_time": "2023-04-28T09:22:33.300Z"
   },
   {
    "duration": 4,
    "start_time": "2023-04-28T09:22:33.310Z"
   },
   {
    "duration": 34,
    "start_time": "2023-04-28T09:22:33.316Z"
   },
   {
    "duration": 56,
    "start_time": "2023-04-28T09:22:33.351Z"
   },
   {
    "duration": 44,
    "start_time": "2023-04-28T09:22:33.409Z"
   },
   {
    "duration": 216,
    "start_time": "2023-04-28T09:22:33.455Z"
   },
   {
    "duration": 140,
    "start_time": "2023-04-28T09:22:33.672Z"
   },
   {
    "duration": 11,
    "start_time": "2023-04-28T09:22:33.814Z"
   },
   {
    "duration": 4,
    "start_time": "2023-04-28T09:22:33.826Z"
   },
   {
    "duration": 29,
    "start_time": "2023-04-28T09:22:33.831Z"
   },
   {
    "duration": 24,
    "start_time": "2023-04-28T09:22:33.862Z"
   },
   {
    "duration": 17,
    "start_time": "2023-04-28T09:22:33.888Z"
   },
   {
    "duration": 20,
    "start_time": "2023-04-28T09:22:33.907Z"
   },
   {
    "duration": 5,
    "start_time": "2023-04-28T09:22:33.931Z"
   },
   {
    "duration": 211,
    "start_time": "2023-04-28T09:22:33.938Z"
   },
   {
    "duration": 19,
    "start_time": "2023-04-28T09:22:34.152Z"
   },
   {
    "duration": 30,
    "start_time": "2023-04-28T09:22:34.172Z"
   },
   {
    "duration": 4,
    "start_time": "2023-04-28T09:22:34.206Z"
   },
   {
    "duration": 87,
    "start_time": "2023-04-28T09:22:34.212Z"
   },
   {
    "duration": 4,
    "start_time": "2023-04-28T09:22:34.301Z"
   },
   {
    "duration": 5,
    "start_time": "2023-04-28T09:22:34.306Z"
   },
   {
    "duration": 33,
    "start_time": "2023-04-28T09:22:34.313Z"
   },
   {
    "duration": 4,
    "start_time": "2023-04-28T09:22:34.348Z"
   },
   {
    "duration": 10,
    "start_time": "2023-04-28T09:22:34.354Z"
   },
   {
    "duration": 12,
    "start_time": "2023-04-28T09:22:34.385Z"
   },
   {
    "duration": 4,
    "start_time": "2023-04-28T09:22:34.399Z"
   },
   {
    "duration": 8169,
    "start_time": "2023-04-28T09:22:34.405Z"
   },
   {
    "duration": 78,
    "start_time": "2023-04-28T09:22:42.575Z"
   },
   {
    "duration": 564,
    "start_time": "2023-04-28T09:22:42.655Z"
   },
   {
    "duration": 423,
    "start_time": "2023-04-28T09:22:43.221Z"
   },
   {
    "duration": 89,
    "start_time": "2023-04-28T09:22:43.646Z"
   },
   {
    "duration": 52850,
    "start_time": "2023-04-28T09:22:43.737Z"
   },
   {
    "duration": 3401,
    "start_time": "2023-04-28T09:23:36.588Z"
   },
   {
    "duration": 18597,
    "start_time": "2023-04-28T09:23:39.990Z"
   },
   {
    "duration": 298,
    "start_time": "2023-04-28T09:23:58.588Z"
   },
   {
    "duration": 3431,
    "start_time": "2023-04-28T09:23:58.897Z"
   },
   {
    "duration": 1439,
    "start_time": "2023-04-28T09:24:37.570Z"
   },
   {
    "duration": 799,
    "start_time": "2023-04-28T09:24:39.011Z"
   },
   {
    "duration": 17,
    "start_time": "2023-04-28T09:24:39.812Z"
   },
   {
    "duration": 12,
    "start_time": "2023-04-28T09:24:39.831Z"
   },
   {
    "duration": 137,
    "start_time": "2023-04-28T09:24:39.844Z"
   },
   {
    "duration": 476,
    "start_time": "2023-04-28T09:24:39.986Z"
   },
   {
    "duration": 529,
    "start_time": "2023-04-28T09:24:40.464Z"
   },
   {
    "duration": 484,
    "start_time": "2023-04-28T09:24:40.995Z"
   },
   {
    "duration": 119,
    "start_time": "2023-04-28T09:24:41.481Z"
   },
   {
    "duration": 17,
    "start_time": "2023-04-28T09:24:41.603Z"
   },
   {
    "duration": 38,
    "start_time": "2023-04-28T09:24:41.622Z"
   },
   {
    "duration": 30,
    "start_time": "2023-04-28T09:24:41.662Z"
   },
   {
    "duration": 45,
    "start_time": "2023-04-28T09:24:41.693Z"
   },
   {
    "duration": 21,
    "start_time": "2023-04-28T09:24:41.740Z"
   },
   {
    "duration": 41,
    "start_time": "2023-04-28T09:24:41.763Z"
   },
   {
    "duration": 36,
    "start_time": "2023-04-28T09:24:41.806Z"
   },
   {
    "duration": 105,
    "start_time": "2023-04-28T09:24:41.844Z"
   },
   {
    "duration": 22,
    "start_time": "2023-04-28T09:24:41.950Z"
   },
   {
    "duration": 64,
    "start_time": "2023-04-28T09:24:41.973Z"
   },
   {
    "duration": 13,
    "start_time": "2023-04-28T09:24:42.039Z"
   },
   {
    "duration": 5,
    "start_time": "2023-04-28T09:24:42.054Z"
   },
   {
    "duration": 33,
    "start_time": "2023-04-28T09:24:42.060Z"
   },
   {
    "duration": 31,
    "start_time": "2023-04-28T09:24:42.094Z"
   },
   {
    "duration": 7,
    "start_time": "2023-04-28T09:24:42.126Z"
   },
   {
    "duration": 3,
    "start_time": "2023-04-28T09:24:42.135Z"
   },
   {
    "duration": 49,
    "start_time": "2023-04-28T09:24:42.140Z"
   },
   {
    "duration": 39,
    "start_time": "2023-04-28T09:24:42.191Z"
   },
   {
    "duration": 31,
    "start_time": "2023-04-28T09:24:42.234Z"
   },
   {
    "duration": 213,
    "start_time": "2023-04-28T09:24:42.267Z"
   },
   {
    "duration": 144,
    "start_time": "2023-04-28T09:24:42.484Z"
   },
   {
    "duration": 11,
    "start_time": "2023-04-28T09:24:42.629Z"
   },
   {
    "duration": 12,
    "start_time": "2023-04-28T09:24:42.642Z"
   },
   {
    "duration": 36,
    "start_time": "2023-04-28T09:24:42.656Z"
   },
   {
    "duration": 4,
    "start_time": "2023-04-28T09:24:42.693Z"
   },
   {
    "duration": 18,
    "start_time": "2023-04-28T09:24:42.699Z"
   },
   {
    "duration": 20,
    "start_time": "2023-04-28T09:24:42.718Z"
   },
   {
    "duration": 3,
    "start_time": "2023-04-28T09:24:42.741Z"
   },
   {
    "duration": 173,
    "start_time": "2023-04-28T09:24:42.746Z"
   },
   {
    "duration": 13,
    "start_time": "2023-04-28T09:24:42.921Z"
   },
   {
    "duration": 19,
    "start_time": "2023-04-28T09:24:42.935Z"
   },
   {
    "duration": 4,
    "start_time": "2023-04-28T09:24:42.956Z"
   },
   {
    "duration": 91,
    "start_time": "2023-04-28T09:24:42.962Z"
   },
   {
    "duration": 3,
    "start_time": "2023-04-28T09:24:43.055Z"
   },
   {
    "duration": 16,
    "start_time": "2023-04-28T09:24:43.060Z"
   },
   {
    "duration": 50,
    "start_time": "2023-04-28T09:24:43.077Z"
   },
   {
    "duration": 4,
    "start_time": "2023-04-28T09:24:43.129Z"
   },
   {
    "duration": 7,
    "start_time": "2023-04-28T09:24:43.135Z"
   },
   {
    "duration": 17,
    "start_time": "2023-04-28T09:24:43.144Z"
   },
   {
    "duration": 11,
    "start_time": "2023-04-28T09:24:43.163Z"
   },
   {
    "duration": 8283,
    "start_time": "2023-04-28T09:24:43.175Z"
   },
   {
    "duration": 77,
    "start_time": "2023-04-28T09:24:51.460Z"
   },
   {
    "duration": 600,
    "start_time": "2023-04-28T09:24:51.539Z"
   },
   {
    "duration": 455,
    "start_time": "2023-04-28T09:24:52.140Z"
   },
   {
    "duration": 89,
    "start_time": "2023-04-28T09:24:52.596Z"
   },
   {
    "duration": 34008,
    "start_time": "2023-04-28T09:24:52.687Z"
   },
   {
    "duration": 3427,
    "start_time": "2023-04-28T09:25:26.697Z"
   },
   {
    "duration": 1514,
    "start_time": "2023-04-28T09:30:59.510Z"
   },
   {
    "duration": 839,
    "start_time": "2023-04-28T09:31:01.026Z"
   },
   {
    "duration": 19,
    "start_time": "2023-04-28T09:31:01.867Z"
   },
   {
    "duration": 20,
    "start_time": "2023-04-28T09:31:01.887Z"
   },
   {
    "duration": 148,
    "start_time": "2023-04-28T09:31:01.909Z"
   },
   {
    "duration": 471,
    "start_time": "2023-04-28T09:31:02.059Z"
   },
   {
    "duration": 491,
    "start_time": "2023-04-28T09:31:02.532Z"
   },
   {
    "duration": 447,
    "start_time": "2023-04-28T09:31:03.025Z"
   },
   {
    "duration": 127,
    "start_time": "2023-04-28T09:31:03.474Z"
   },
   {
    "duration": 18,
    "start_time": "2023-04-28T09:31:03.603Z"
   },
   {
    "duration": 43,
    "start_time": "2023-04-28T09:31:03.623Z"
   },
   {
    "duration": 31,
    "start_time": "2023-04-28T09:31:03.668Z"
   },
   {
    "duration": 34,
    "start_time": "2023-04-28T09:31:03.701Z"
   },
   {
    "duration": 19,
    "start_time": "2023-04-28T09:31:03.738Z"
   },
   {
    "duration": 58,
    "start_time": "2023-04-28T09:31:03.759Z"
   },
   {
    "duration": 32,
    "start_time": "2023-04-28T09:31:03.819Z"
   },
   {
    "duration": 98,
    "start_time": "2023-04-28T09:31:03.853Z"
   },
   {
    "duration": 4,
    "start_time": "2023-04-28T09:31:03.953Z"
   },
   {
    "duration": 65,
    "start_time": "2023-04-28T09:31:03.959Z"
   },
   {
    "duration": 17,
    "start_time": "2023-04-28T09:31:04.026Z"
   },
   {
    "duration": 8,
    "start_time": "2023-04-28T09:31:04.045Z"
   },
   {
    "duration": 59,
    "start_time": "2023-04-28T09:31:04.055Z"
   },
   {
    "duration": 34,
    "start_time": "2023-04-28T09:31:04.116Z"
   },
   {
    "duration": 10,
    "start_time": "2023-04-28T09:31:04.152Z"
   },
   {
    "duration": 23,
    "start_time": "2023-04-28T09:31:04.164Z"
   },
   {
    "duration": 38,
    "start_time": "2023-04-28T09:31:04.189Z"
   },
   {
    "duration": 33,
    "start_time": "2023-04-28T09:31:04.229Z"
   },
   {
    "duration": 48,
    "start_time": "2023-04-28T09:31:04.264Z"
   },
   {
    "duration": 218,
    "start_time": "2023-04-28T09:31:04.314Z"
   },
   {
    "duration": 140,
    "start_time": "2023-04-28T09:31:04.534Z"
   },
   {
    "duration": 21,
    "start_time": "2023-04-28T09:31:04.675Z"
   },
   {
    "duration": 15,
    "start_time": "2023-04-28T09:31:04.697Z"
   },
   {
    "duration": 39,
    "start_time": "2023-04-28T09:31:04.714Z"
   },
   {
    "duration": 5,
    "start_time": "2023-04-28T09:31:04.755Z"
   },
   {
    "duration": 33,
    "start_time": "2023-04-28T09:31:04.762Z"
   },
   {
    "duration": 21,
    "start_time": "2023-04-28T09:31:04.797Z"
   },
   {
    "duration": 3,
    "start_time": "2023-04-28T09:31:04.820Z"
   },
   {
    "duration": 168,
    "start_time": "2023-04-28T09:31:04.825Z"
   },
   {
    "duration": 13,
    "start_time": "2023-04-28T09:31:04.995Z"
   },
   {
    "duration": 19,
    "start_time": "2023-04-28T09:31:05.010Z"
   },
   {
    "duration": 5,
    "start_time": "2023-04-28T09:31:05.033Z"
   },
   {
    "duration": 94,
    "start_time": "2023-04-28T09:31:05.040Z"
   },
   {
    "duration": 4,
    "start_time": "2023-04-28T09:31:05.137Z"
   },
   {
    "duration": 5,
    "start_time": "2023-04-28T09:31:05.143Z"
   },
   {
    "duration": 49,
    "start_time": "2023-04-28T09:31:05.149Z"
   },
   {
    "duration": 4,
    "start_time": "2023-04-28T09:31:05.200Z"
   },
   {
    "duration": 5,
    "start_time": "2023-04-28T09:31:05.206Z"
   },
   {
    "duration": 14,
    "start_time": "2023-04-28T09:31:05.213Z"
   },
   {
    "duration": 3,
    "start_time": "2023-04-28T09:31:05.230Z"
   },
   {
    "duration": 8427,
    "start_time": "2023-04-28T09:31:05.235Z"
   },
   {
    "duration": 78,
    "start_time": "2023-04-28T09:31:13.664Z"
   },
   {
    "duration": 658,
    "start_time": "2023-04-28T09:31:13.744Z"
   },
   {
    "duration": 643,
    "start_time": "2023-04-28T09:31:14.404Z"
   },
   {
    "duration": 49,
    "start_time": "2023-04-28T09:31:15.049Z"
   },
   {
    "duration": 0,
    "start_time": "2023-04-28T09:31:15.101Z"
   },
   {
    "duration": 0,
    "start_time": "2023-04-28T09:31:15.102Z"
   },
   {
    "duration": 0,
    "start_time": "2023-04-28T09:31:15.103Z"
   },
   {
    "duration": 0,
    "start_time": "2023-04-28T09:31:15.104Z"
   },
   {
    "duration": 0,
    "start_time": "2023-04-28T09:31:15.106Z"
   },
   {
    "duration": 114,
    "start_time": "2023-04-28T09:31:49.798Z"
   },
   {
    "duration": 1373,
    "start_time": "2023-04-28T09:32:36.930Z"
   },
   {
    "duration": 825,
    "start_time": "2023-04-28T09:32:38.306Z"
   },
   {
    "duration": 17,
    "start_time": "2023-04-28T09:32:39.133Z"
   },
   {
    "duration": 6,
    "start_time": "2023-04-28T09:32:39.151Z"
   },
   {
    "duration": 148,
    "start_time": "2023-04-28T09:32:39.158Z"
   },
   {
    "duration": 484,
    "start_time": "2023-04-28T09:32:39.308Z"
   },
   {
    "duration": 487,
    "start_time": "2023-04-28T09:32:39.794Z"
   },
   {
    "duration": 466,
    "start_time": "2023-04-28T09:32:40.284Z"
   },
   {
    "duration": 121,
    "start_time": "2023-04-28T09:32:40.752Z"
   },
   {
    "duration": 24,
    "start_time": "2023-04-28T09:32:40.885Z"
   },
   {
    "duration": 37,
    "start_time": "2023-04-28T09:32:40.910Z"
   },
   {
    "duration": 48,
    "start_time": "2023-04-28T09:32:40.949Z"
   },
   {
    "duration": 39,
    "start_time": "2023-04-28T09:32:40.999Z"
   },
   {
    "duration": 29,
    "start_time": "2023-04-28T09:32:41.040Z"
   },
   {
    "duration": 53,
    "start_time": "2023-04-28T09:32:41.071Z"
   },
   {
    "duration": 39,
    "start_time": "2023-04-28T09:32:41.126Z"
   },
   {
    "duration": 87,
    "start_time": "2023-04-28T09:32:41.167Z"
   },
   {
    "duration": 4,
    "start_time": "2023-04-28T09:32:41.256Z"
   },
   {
    "duration": 48,
    "start_time": "2023-04-28T09:32:41.262Z"
   },
   {
    "duration": 11,
    "start_time": "2023-04-28T09:32:41.311Z"
   },
   {
    "duration": 6,
    "start_time": "2023-04-28T09:32:41.323Z"
   },
   {
    "duration": 34,
    "start_time": "2023-04-28T09:32:41.331Z"
   },
   {
    "duration": 31,
    "start_time": "2023-04-28T09:32:41.384Z"
   },
   {
    "duration": 8,
    "start_time": "2023-04-28T09:32:41.416Z"
   },
   {
    "duration": 3,
    "start_time": "2023-04-28T09:32:41.426Z"
   },
   {
    "duration": 34,
    "start_time": "2023-04-28T09:32:41.430Z"
   },
   {
    "duration": 36,
    "start_time": "2023-04-28T09:32:41.485Z"
   },
   {
    "duration": 32,
    "start_time": "2023-04-28T09:32:41.524Z"
   },
   {
    "duration": 220,
    "start_time": "2023-04-28T09:32:41.558Z"
   },
   {
    "duration": 139,
    "start_time": "2023-04-28T09:32:41.780Z"
   },
   {
    "duration": 10,
    "start_time": "2023-04-28T09:32:41.921Z"
   },
   {
    "duration": 4,
    "start_time": "2023-04-28T09:32:41.932Z"
   },
   {
    "duration": 33,
    "start_time": "2023-04-28T09:32:41.937Z"
   },
   {
    "duration": 4,
    "start_time": "2023-04-28T09:32:41.986Z"
   },
   {
    "duration": 17,
    "start_time": "2023-04-28T09:32:41.991Z"
   },
   {
    "duration": 19,
    "start_time": "2023-04-28T09:32:42.009Z"
   },
   {
    "duration": 4,
    "start_time": "2023-04-28T09:32:42.030Z"
   },
   {
    "duration": 173,
    "start_time": "2023-04-28T09:32:42.035Z"
   },
   {
    "duration": 14,
    "start_time": "2023-04-28T09:32:42.209Z"
   },
   {
    "duration": 18,
    "start_time": "2023-04-28T09:32:42.224Z"
   },
   {
    "duration": 3,
    "start_time": "2023-04-28T09:32:42.244Z"
   },
   {
    "duration": 98,
    "start_time": "2023-04-28T09:32:42.249Z"
   },
   {
    "duration": 4,
    "start_time": "2023-04-28T09:32:42.348Z"
   },
   {
    "duration": 5,
    "start_time": "2023-04-28T09:32:42.353Z"
   },
   {
    "duration": 42,
    "start_time": "2023-04-28T09:32:42.359Z"
   },
   {
    "duration": 4,
    "start_time": "2023-04-28T09:32:42.402Z"
   },
   {
    "duration": 5,
    "start_time": "2023-04-28T09:32:42.407Z"
   },
   {
    "duration": 14,
    "start_time": "2023-04-28T09:32:42.414Z"
   },
   {
    "duration": 4,
    "start_time": "2023-04-28T09:32:42.429Z"
   },
   {
    "duration": 8180,
    "start_time": "2023-04-28T09:32:42.435Z"
   },
   {
    "duration": 94,
    "start_time": "2023-04-28T09:32:50.617Z"
   },
   {
    "duration": 667,
    "start_time": "2023-04-28T09:32:50.713Z"
   },
   {
    "duration": 772,
    "start_time": "2023-04-28T09:32:51.382Z"
   },
   {
    "duration": 158,
    "start_time": "2023-04-28T09:32:52.156Z"
   },
   {
    "duration": 57,
    "start_time": "2023-04-28T09:32:52.315Z"
   },
   {
    "duration": 97,
    "start_time": "2023-04-28T09:32:52.374Z"
   },
   {
    "duration": 56,
    "start_time": "2023-04-28T09:32:52.473Z"
   },
   {
    "duration": 10,
    "start_time": "2023-04-28T09:32:52.531Z"
   },
   {
    "duration": 1442,
    "start_time": "2023-04-28T09:36:21.353Z"
   },
   {
    "duration": 821,
    "start_time": "2023-04-28T09:36:22.797Z"
   },
   {
    "duration": 18,
    "start_time": "2023-04-28T09:36:23.620Z"
   },
   {
    "duration": 14,
    "start_time": "2023-04-28T09:36:23.640Z"
   },
   {
    "duration": 179,
    "start_time": "2023-04-28T09:36:23.655Z"
   },
   {
    "duration": 550,
    "start_time": "2023-04-28T09:36:23.836Z"
   },
   {
    "duration": 511,
    "start_time": "2023-04-28T09:36:24.388Z"
   },
   {
    "duration": 460,
    "start_time": "2023-04-28T09:36:24.901Z"
   },
   {
    "duration": 134,
    "start_time": "2023-04-28T09:36:25.363Z"
   },
   {
    "duration": 18,
    "start_time": "2023-04-28T09:36:25.500Z"
   },
   {
    "duration": 41,
    "start_time": "2023-04-28T09:36:25.520Z"
   },
   {
    "duration": 35,
    "start_time": "2023-04-28T09:36:25.562Z"
   },
   {
    "duration": 36,
    "start_time": "2023-04-28T09:36:25.599Z"
   },
   {
    "duration": 17,
    "start_time": "2023-04-28T09:36:25.637Z"
   },
   {
    "duration": 52,
    "start_time": "2023-04-28T09:36:25.656Z"
   },
   {
    "duration": 35,
    "start_time": "2023-04-28T09:36:25.709Z"
   },
   {
    "duration": 97,
    "start_time": "2023-04-28T09:36:25.746Z"
   },
   {
    "duration": 4,
    "start_time": "2023-04-28T09:36:25.845Z"
   },
   {
    "duration": 46,
    "start_time": "2023-04-28T09:36:25.850Z"
   },
   {
    "duration": 12,
    "start_time": "2023-04-28T09:36:25.898Z"
   },
   {
    "duration": 7,
    "start_time": "2023-04-28T09:36:25.911Z"
   },
   {
    "duration": 35,
    "start_time": "2023-04-28T09:36:25.919Z"
   },
   {
    "duration": 56,
    "start_time": "2023-04-28T09:36:25.956Z"
   },
   {
    "duration": 8,
    "start_time": "2023-04-28T09:36:26.014Z"
   },
   {
    "duration": 19,
    "start_time": "2023-04-28T09:36:26.023Z"
   },
   {
    "duration": 46,
    "start_time": "2023-04-28T09:36:26.044Z"
   },
   {
    "duration": 60,
    "start_time": "2023-04-28T09:36:26.092Z"
   },
   {
    "duration": 34,
    "start_time": "2023-04-28T09:36:26.155Z"
   },
   {
    "duration": 199,
    "start_time": "2023-04-28T09:36:26.191Z"
   },
   {
    "duration": 153,
    "start_time": "2023-04-28T09:36:26.392Z"
   },
   {
    "duration": 10,
    "start_time": "2023-04-28T09:36:26.546Z"
   },
   {
    "duration": 4,
    "start_time": "2023-04-28T09:36:26.558Z"
   },
   {
    "duration": 46,
    "start_time": "2023-04-28T09:36:26.563Z"
   },
   {
    "duration": 4,
    "start_time": "2023-04-28T09:36:26.611Z"
   },
   {
    "duration": 18,
    "start_time": "2023-04-28T09:36:26.617Z"
   },
   {
    "duration": 20,
    "start_time": "2023-04-28T09:36:26.637Z"
   },
   {
    "duration": 27,
    "start_time": "2023-04-28T09:36:26.658Z"
   },
   {
    "duration": 160,
    "start_time": "2023-04-28T09:36:26.687Z"
   },
   {
    "duration": 14,
    "start_time": "2023-04-28T09:36:26.849Z"
   },
   {
    "duration": 33,
    "start_time": "2023-04-28T09:36:26.864Z"
   },
   {
    "duration": 4,
    "start_time": "2023-04-28T09:36:26.899Z"
   },
   {
    "duration": 88,
    "start_time": "2023-04-28T09:36:26.905Z"
   },
   {
    "duration": 4,
    "start_time": "2023-04-28T09:36:26.994Z"
   },
   {
    "duration": 7,
    "start_time": "2023-04-28T09:36:27.000Z"
   },
   {
    "duration": 31,
    "start_time": "2023-04-28T09:36:27.009Z"
   },
   {
    "duration": 4,
    "start_time": "2023-04-28T09:36:27.042Z"
   },
   {
    "duration": 10,
    "start_time": "2023-04-28T09:36:27.047Z"
   },
   {
    "duration": 38,
    "start_time": "2023-04-28T09:36:27.059Z"
   },
   {
    "duration": 9,
    "start_time": "2023-04-28T09:36:27.098Z"
   },
   {
    "duration": 8831,
    "start_time": "2023-04-28T09:36:27.109Z"
   },
   {
    "duration": 73,
    "start_time": "2023-04-28T09:36:35.942Z"
   },
   {
    "duration": 794,
    "start_time": "2023-04-28T09:36:36.017Z"
   },
   {
    "duration": 1489,
    "start_time": "2023-04-28T09:49:38.109Z"
   },
   {
    "duration": 836,
    "start_time": "2023-04-28T09:49:39.600Z"
   },
   {
    "duration": 21,
    "start_time": "2023-04-28T09:49:40.439Z"
   },
   {
    "duration": 5,
    "start_time": "2023-04-28T09:49:40.463Z"
   },
   {
    "duration": 146,
    "start_time": "2023-04-28T09:49:40.485Z"
   },
   {
    "duration": 497,
    "start_time": "2023-04-28T09:49:40.633Z"
   },
   {
    "duration": 502,
    "start_time": "2023-04-28T09:49:41.132Z"
   },
   {
    "duration": 452,
    "start_time": "2023-04-28T09:49:41.636Z"
   },
   {
    "duration": 137,
    "start_time": "2023-04-28T09:49:42.090Z"
   },
   {
    "duration": 19,
    "start_time": "2023-04-28T09:49:42.231Z"
   },
   {
    "duration": 54,
    "start_time": "2023-04-28T09:49:42.252Z"
   },
   {
    "duration": 18,
    "start_time": "2023-04-28T09:49:42.308Z"
   },
   {
    "duration": 37,
    "start_time": "2023-04-28T09:49:42.328Z"
   },
   {
    "duration": 31,
    "start_time": "2023-04-28T09:49:42.367Z"
   },
   {
    "duration": 41,
    "start_time": "2023-04-28T09:49:42.400Z"
   },
   {
    "duration": 52,
    "start_time": "2023-04-28T09:49:42.444Z"
   },
   {
    "duration": 105,
    "start_time": "2023-04-28T09:49:42.498Z"
   },
   {
    "duration": 5,
    "start_time": "2023-04-28T09:49:42.605Z"
   },
   {
    "duration": 33,
    "start_time": "2023-04-28T09:49:42.611Z"
   },
   {
    "duration": 11,
    "start_time": "2023-04-28T09:49:42.646Z"
   },
   {
    "duration": 27,
    "start_time": "2023-04-28T09:49:42.659Z"
   },
   {
    "duration": 48,
    "start_time": "2023-04-28T09:49:42.689Z"
   },
   {
    "duration": 27,
    "start_time": "2023-04-28T09:49:42.739Z"
   },
   {
    "duration": 8,
    "start_time": "2023-04-28T09:49:42.786Z"
   },
   {
    "duration": 8,
    "start_time": "2023-04-28T09:49:42.796Z"
   },
   {
    "duration": 41,
    "start_time": "2023-04-28T09:49:42.805Z"
   },
   {
    "duration": 81,
    "start_time": "2023-04-28T09:49:42.849Z"
   },
   {
    "duration": 40,
    "start_time": "2023-04-28T09:49:42.935Z"
   },
   {
    "duration": 201,
    "start_time": "2023-04-28T09:49:42.986Z"
   },
   {
    "duration": 143,
    "start_time": "2023-04-28T09:49:43.189Z"
   },
   {
    "duration": 10,
    "start_time": "2023-04-28T09:49:43.333Z"
   },
   {
    "duration": 6,
    "start_time": "2023-04-28T09:49:43.345Z"
   },
   {
    "duration": 40,
    "start_time": "2023-04-28T09:49:43.352Z"
   },
   {
    "duration": 3,
    "start_time": "2023-04-28T09:49:43.394Z"
   },
   {
    "duration": 18,
    "start_time": "2023-04-28T09:49:43.399Z"
   },
   {
    "duration": 20,
    "start_time": "2023-04-28T09:49:43.419Z"
   },
   {
    "duration": 3,
    "start_time": "2023-04-28T09:49:43.441Z"
   },
   {
    "duration": 169,
    "start_time": "2023-04-28T09:49:43.446Z"
   },
   {
    "duration": 14,
    "start_time": "2023-04-28T09:49:43.617Z"
   },
   {
    "duration": 20,
    "start_time": "2023-04-28T09:49:43.633Z"
   },
   {
    "duration": 4,
    "start_time": "2023-04-28T09:49:43.654Z"
   },
   {
    "duration": 94,
    "start_time": "2023-04-28T09:49:43.660Z"
   },
   {
    "duration": 4,
    "start_time": "2023-04-28T09:49:43.756Z"
   },
   {
    "duration": 5,
    "start_time": "2023-04-28T09:49:43.761Z"
   },
   {
    "duration": 44,
    "start_time": "2023-04-28T09:49:43.767Z"
   },
   {
    "duration": 4,
    "start_time": "2023-04-28T09:49:43.813Z"
   },
   {
    "duration": 4,
    "start_time": "2023-04-28T09:49:43.819Z"
   },
   {
    "duration": 11,
    "start_time": "2023-04-28T09:49:43.824Z"
   },
   {
    "duration": 9,
    "start_time": "2023-04-28T09:49:43.837Z"
   },
   {
    "duration": 155,
    "start_time": "2023-04-28T09:49:43.847Z"
   },
   {
    "duration": 0,
    "start_time": "2023-04-28T09:49:44.005Z"
   },
   {
    "duration": 0,
    "start_time": "2023-04-28T09:49:44.006Z"
   },
   {
    "duration": 0,
    "start_time": "2023-04-28T09:49:44.008Z"
   },
   {
    "duration": 0,
    "start_time": "2023-04-28T09:49:44.010Z"
   },
   {
    "duration": 0,
    "start_time": "2023-04-28T09:49:44.012Z"
   },
   {
    "duration": 0,
    "start_time": "2023-04-28T09:49:44.013Z"
   },
   {
    "duration": 0,
    "start_time": "2023-04-28T09:49:44.015Z"
   },
   {
    "duration": 0,
    "start_time": "2023-04-28T09:49:44.017Z"
   },
   {
    "duration": 31530,
    "start_time": "2023-04-28T09:51:37.755Z"
   },
   {
    "duration": 11,
    "start_time": "2023-04-28T09:55:01.796Z"
   },
   {
    "duration": 1615,
    "start_time": "2023-04-28T09:56:50.962Z"
   },
   {
    "duration": 1727,
    "start_time": "2023-04-28T09:59:26.082Z"
   },
   {
    "duration": 304,
    "start_time": "2023-04-28T10:00:26.716Z"
   },
   {
    "duration": 48,
    "start_time": "2023-04-28T10:00:42.022Z"
   },
   {
    "duration": 12,
    "start_time": "2023-04-28T10:00:48.278Z"
   },
   {
    "duration": 1698,
    "start_time": "2023-04-28T10:01:32.151Z"
   },
   {
    "duration": 2027,
    "start_time": "2023-04-28T10:02:35.969Z"
   },
   {
    "duration": 1538,
    "start_time": "2023-04-28T10:03:59.565Z"
   },
   {
    "duration": 884,
    "start_time": "2023-04-28T10:04:01.105Z"
   },
   {
    "duration": 18,
    "start_time": "2023-04-28T10:04:01.990Z"
   },
   {
    "duration": 26,
    "start_time": "2023-04-28T10:04:02.010Z"
   },
   {
    "duration": 147,
    "start_time": "2023-04-28T10:04:02.039Z"
   },
   {
    "duration": 485,
    "start_time": "2023-04-28T10:04:02.188Z"
   },
   {
    "duration": 503,
    "start_time": "2023-04-28T10:04:02.675Z"
   },
   {
    "duration": 456,
    "start_time": "2023-04-28T10:04:03.179Z"
   },
   {
    "duration": 159,
    "start_time": "2023-04-28T10:04:03.637Z"
   },
   {
    "duration": 19,
    "start_time": "2023-04-28T10:04:03.797Z"
   },
   {
    "duration": 44,
    "start_time": "2023-04-28T10:04:03.818Z"
   },
   {
    "duration": 30,
    "start_time": "2023-04-28T10:04:03.864Z"
   },
   {
    "duration": 35,
    "start_time": "2023-04-28T10:04:03.896Z"
   },
   {
    "duration": 46,
    "start_time": "2023-04-28T10:04:03.935Z"
   },
   {
    "duration": 52,
    "start_time": "2023-04-28T10:04:03.983Z"
   },
   {
    "duration": 54,
    "start_time": "2023-04-28T10:04:04.037Z"
   },
   {
    "duration": 127,
    "start_time": "2023-04-28T10:04:04.093Z"
   },
   {
    "duration": 6,
    "start_time": "2023-04-28T10:04:04.223Z"
   },
   {
    "duration": 36,
    "start_time": "2023-04-28T10:04:04.230Z"
   },
   {
    "duration": 22,
    "start_time": "2023-04-28T10:04:04.268Z"
   },
   {
    "duration": 6,
    "start_time": "2023-04-28T10:04:04.291Z"
   },
   {
    "duration": 36,
    "start_time": "2023-04-28T10:04:04.298Z"
   },
   {
    "duration": 53,
    "start_time": "2023-04-28T10:04:04.336Z"
   },
   {
    "duration": 8,
    "start_time": "2023-04-28T10:04:04.390Z"
   },
   {
    "duration": 3,
    "start_time": "2023-04-28T10:04:04.400Z"
   },
   {
    "duration": 45,
    "start_time": "2023-04-28T10:04:04.405Z"
   },
   {
    "duration": 52,
    "start_time": "2023-04-28T10:04:04.452Z"
   },
   {
    "duration": 35,
    "start_time": "2023-04-28T10:04:04.505Z"
   },
   {
    "duration": 219,
    "start_time": "2023-04-28T10:04:04.542Z"
   },
   {
    "duration": 157,
    "start_time": "2023-04-28T10:04:04.763Z"
   },
   {
    "duration": 12,
    "start_time": "2023-04-28T10:04:04.922Z"
   },
   {
    "duration": 12,
    "start_time": "2023-04-28T10:04:04.936Z"
   },
   {
    "duration": 36,
    "start_time": "2023-04-28T10:04:04.950Z"
   },
   {
    "duration": 4,
    "start_time": "2023-04-28T10:04:04.987Z"
   },
   {
    "duration": 27,
    "start_time": "2023-04-28T10:04:04.993Z"
   },
   {
    "duration": 31,
    "start_time": "2023-04-28T10:04:05.022Z"
   },
   {
    "duration": 5,
    "start_time": "2023-04-28T10:04:05.055Z"
   },
   {
    "duration": 162,
    "start_time": "2023-04-28T10:04:05.062Z"
   },
   {
    "duration": 14,
    "start_time": "2023-04-28T10:04:05.226Z"
   },
   {
    "duration": 21,
    "start_time": "2023-04-28T10:04:05.242Z"
   },
   {
    "duration": 4,
    "start_time": "2023-04-28T10:04:05.289Z"
   },
   {
    "duration": 72,
    "start_time": "2023-04-28T10:04:05.295Z"
   },
   {
    "duration": 4,
    "start_time": "2023-04-28T10:04:05.384Z"
   },
   {
    "duration": 10,
    "start_time": "2023-04-28T10:04:05.390Z"
   },
   {
    "duration": 42,
    "start_time": "2023-04-28T10:04:05.402Z"
   },
   {
    "duration": 4,
    "start_time": "2023-04-28T10:04:05.446Z"
   },
   {
    "duration": 22,
    "start_time": "2023-04-28T10:04:05.452Z"
   },
   {
    "duration": 790,
    "start_time": "2023-04-28T10:04:05.475Z"
   },
   {
    "duration": 12,
    "start_time": "2023-04-28T10:04:06.267Z"
   },
   {
    "duration": 5,
    "start_time": "2023-04-28T10:04:06.286Z"
   },
   {
    "duration": 1826,
    "start_time": "2023-04-28T10:04:06.292Z"
   },
   {
    "duration": 0,
    "start_time": "2023-04-28T10:04:08.120Z"
   },
   {
    "duration": 0,
    "start_time": "2023-04-28T10:04:08.121Z"
   },
   {
    "duration": 0,
    "start_time": "2023-04-28T10:04:08.122Z"
   },
   {
    "duration": 0,
    "start_time": "2023-04-28T10:04:08.123Z"
   },
   {
    "duration": 0,
    "start_time": "2023-04-28T10:04:08.124Z"
   },
   {
    "duration": 0,
    "start_time": "2023-04-28T10:04:08.125Z"
   },
   {
    "duration": 0,
    "start_time": "2023-04-28T10:04:08.126Z"
   },
   {
    "duration": 1691,
    "start_time": "2023-04-28T10:04:24.114Z"
   },
   {
    "duration": 8295,
    "start_time": "2023-04-28T10:04:35.750Z"
   },
   {
    "duration": 99,
    "start_time": "2023-04-28T10:04:44.048Z"
   },
   {
    "duration": 27094,
    "start_time": "2023-04-28T10:04:48.557Z"
   },
   {
    "duration": 89,
    "start_time": "2023-04-28T10:05:15.653Z"
   },
   {
    "duration": 1844,
    "start_time": "2023-04-28T10:05:15.744Z"
   },
   {
    "duration": 2302,
    "start_time": "2023-04-28T10:05:19.983Z"
   },
   {
    "duration": 34450,
    "start_time": "2023-04-28T10:05:49.280Z"
   },
   {
    "duration": 1507,
    "start_time": "2023-04-28T10:06:42.999Z"
   },
   {
    "duration": 971,
    "start_time": "2023-04-28T10:06:44.508Z"
   },
   {
    "duration": 20,
    "start_time": "2023-04-28T10:06:45.481Z"
   },
   {
    "duration": 4,
    "start_time": "2023-04-28T10:06:45.502Z"
   },
   {
    "duration": 145,
    "start_time": "2023-04-28T10:06:45.508Z"
   },
   {
    "duration": 503,
    "start_time": "2023-04-28T10:06:45.655Z"
   },
   {
    "duration": 514,
    "start_time": "2023-04-28T10:06:46.159Z"
   },
   {
    "duration": 456,
    "start_time": "2023-04-28T10:06:46.675Z"
   },
   {
    "duration": 124,
    "start_time": "2023-04-28T10:06:47.133Z"
   },
   {
    "duration": 29,
    "start_time": "2023-04-28T10:06:47.259Z"
   },
   {
    "duration": 36,
    "start_time": "2023-04-28T10:06:47.290Z"
   },
   {
    "duration": 18,
    "start_time": "2023-04-28T10:06:47.328Z"
   },
   {
    "duration": 48,
    "start_time": "2023-04-28T10:06:47.347Z"
   },
   {
    "duration": 18,
    "start_time": "2023-04-28T10:06:47.398Z"
   },
   {
    "duration": 40,
    "start_time": "2023-04-28T10:06:47.418Z"
   },
   {
    "duration": 50,
    "start_time": "2023-04-28T10:06:47.460Z"
   },
   {
    "duration": 90,
    "start_time": "2023-04-28T10:06:47.512Z"
   },
   {
    "duration": 5,
    "start_time": "2023-04-28T10:06:47.603Z"
   },
   {
    "duration": 60,
    "start_time": "2023-04-28T10:06:47.610Z"
   },
   {
    "duration": 41,
    "start_time": "2023-04-28T10:06:47.671Z"
   },
   {
    "duration": 7,
    "start_time": "2023-04-28T10:06:47.714Z"
   },
   {
    "duration": 35,
    "start_time": "2023-04-28T10:06:47.722Z"
   },
   {
    "duration": 28,
    "start_time": "2023-04-28T10:06:47.759Z"
   },
   {
    "duration": 14,
    "start_time": "2023-04-28T10:06:47.788Z"
   },
   {
    "duration": 3,
    "start_time": "2023-04-28T10:06:47.804Z"
   },
   {
    "duration": 31,
    "start_time": "2023-04-28T10:06:47.809Z"
   },
   {
    "duration": 48,
    "start_time": "2023-04-28T10:06:47.841Z"
   },
   {
    "duration": 43,
    "start_time": "2023-04-28T10:06:47.891Z"
   },
   {
    "duration": 221,
    "start_time": "2023-04-28T10:06:47.936Z"
   },
   {
    "duration": 155,
    "start_time": "2023-04-28T10:06:48.158Z"
   },
   {
    "duration": 13,
    "start_time": "2023-04-28T10:06:48.315Z"
   },
   {
    "duration": 7,
    "start_time": "2023-04-28T10:06:48.329Z"
   },
   {
    "duration": 23,
    "start_time": "2023-04-28T10:06:48.338Z"
   },
   {
    "duration": 23,
    "start_time": "2023-04-28T10:06:48.363Z"
   },
   {
    "duration": 19,
    "start_time": "2023-04-28T10:06:48.388Z"
   },
   {
    "duration": 21,
    "start_time": "2023-04-28T10:06:48.408Z"
   },
   {
    "duration": 4,
    "start_time": "2023-04-28T10:06:48.431Z"
   },
   {
    "duration": 177,
    "start_time": "2023-04-28T10:06:48.436Z"
   },
   {
    "duration": 13,
    "start_time": "2023-04-28T10:06:48.614Z"
   },
   {
    "duration": 20,
    "start_time": "2023-04-28T10:06:48.629Z"
   },
   {
    "duration": 4,
    "start_time": "2023-04-28T10:06:48.652Z"
   },
   {
    "duration": 94,
    "start_time": "2023-04-28T10:06:48.658Z"
   },
   {
    "duration": 3,
    "start_time": "2023-04-28T10:06:48.754Z"
   },
   {
    "duration": 5,
    "start_time": "2023-04-28T10:06:48.759Z"
   },
   {
    "duration": 34,
    "start_time": "2023-04-28T10:06:48.789Z"
   },
   {
    "duration": 3,
    "start_time": "2023-04-28T10:06:48.825Z"
   },
   {
    "duration": 6,
    "start_time": "2023-04-28T10:06:48.829Z"
   },
   {
    "duration": 849,
    "start_time": "2023-04-28T10:06:48.837Z"
   },
   {
    "duration": 10,
    "start_time": "2023-04-28T10:06:49.688Z"
   },
   {
    "duration": 4,
    "start_time": "2023-04-28T10:06:49.699Z"
   },
   {
    "duration": 62,
    "start_time": "2023-04-28T11:45:02.774Z"
   },
   {
    "duration": 1638,
    "start_time": "2023-04-28T11:45:06.975Z"
   },
   {
    "duration": 3129,
    "start_time": "2023-04-28T11:45:08.614Z"
   },
   {
    "duration": 17,
    "start_time": "2023-04-28T11:45:11.744Z"
   },
   {
    "duration": 4,
    "start_time": "2023-04-28T11:45:11.762Z"
   },
   {
    "duration": 121,
    "start_time": "2023-04-28T11:45:11.767Z"
   },
   {
    "duration": 446,
    "start_time": "2023-04-28T11:45:11.890Z"
   },
   {
    "duration": 448,
    "start_time": "2023-04-28T11:45:12.338Z"
   },
   {
    "duration": 411,
    "start_time": "2023-04-28T11:45:12.787Z"
   },
   {
    "duration": 132,
    "start_time": "2023-04-28T11:45:13.200Z"
   },
   {
    "duration": 16,
    "start_time": "2023-04-28T11:45:13.335Z"
   },
   {
    "duration": 35,
    "start_time": "2023-04-28T11:45:13.353Z"
   },
   {
    "duration": 32,
    "start_time": "2023-04-28T11:45:13.390Z"
   },
   {
    "duration": 42,
    "start_time": "2023-04-28T11:45:13.423Z"
   },
   {
    "duration": 22,
    "start_time": "2023-04-28T11:45:13.467Z"
   },
   {
    "duration": 38,
    "start_time": "2023-04-28T11:45:13.491Z"
   },
   {
    "duration": 34,
    "start_time": "2023-04-28T11:45:13.531Z"
   },
   {
    "duration": 88,
    "start_time": "2023-04-28T11:45:13.567Z"
   },
   {
    "duration": 4,
    "start_time": "2023-04-28T11:45:13.656Z"
   },
   {
    "duration": 54,
    "start_time": "2023-04-28T11:45:13.661Z"
   },
   {
    "duration": 10,
    "start_time": "2023-04-28T11:45:13.726Z"
   },
   {
    "duration": 9,
    "start_time": "2023-04-28T11:45:13.738Z"
   },
   {
    "duration": 31,
    "start_time": "2023-04-28T11:45:13.749Z"
   },
   {
    "duration": 49,
    "start_time": "2023-04-28T11:45:13.781Z"
   },
   {
    "duration": 10,
    "start_time": "2023-04-28T11:45:13.832Z"
   },
   {
    "duration": 4,
    "start_time": "2023-04-28T11:45:13.843Z"
   },
   {
    "duration": 29,
    "start_time": "2023-04-28T11:45:13.848Z"
   },
   {
    "duration": 30,
    "start_time": "2023-04-28T11:45:13.878Z"
   },
   {
    "duration": 39,
    "start_time": "2023-04-28T11:45:13.920Z"
   },
   {
    "duration": 223,
    "start_time": "2023-04-28T11:45:13.960Z"
   },
   {
    "duration": 163,
    "start_time": "2023-04-28T11:45:14.184Z"
   },
   {
    "duration": 11,
    "start_time": "2023-04-28T11:45:14.348Z"
   },
   {
    "duration": 6,
    "start_time": "2023-04-28T11:45:14.360Z"
   },
   {
    "duration": 29,
    "start_time": "2023-04-28T11:45:14.367Z"
   },
   {
    "duration": 39,
    "start_time": "2023-04-28T11:45:14.397Z"
   },
   {
    "duration": 16,
    "start_time": "2023-04-28T11:45:14.438Z"
   },
   {
    "duration": 23,
    "start_time": "2023-04-28T11:45:14.456Z"
   },
   {
    "duration": 4,
    "start_time": "2023-04-28T11:45:14.481Z"
   },
   {
    "duration": 160,
    "start_time": "2023-04-28T11:45:14.487Z"
   },
   {
    "duration": 12,
    "start_time": "2023-04-28T11:45:14.649Z"
   },
   {
    "duration": 20,
    "start_time": "2023-04-28T11:45:14.662Z"
   },
   {
    "duration": 3,
    "start_time": "2023-04-28T11:45:14.684Z"
   },
   {
    "duration": 79,
    "start_time": "2023-04-28T11:45:14.689Z"
   },
   {
    "duration": 3,
    "start_time": "2023-04-28T11:45:14.770Z"
   },
   {
    "duration": 7,
    "start_time": "2023-04-28T11:45:14.775Z"
   },
   {
    "duration": 22,
    "start_time": "2023-04-28T11:45:14.783Z"
   },
   {
    "duration": 14,
    "start_time": "2023-04-28T11:45:14.817Z"
   },
   {
    "duration": 3,
    "start_time": "2023-04-28T11:45:14.833Z"
   },
   {
    "duration": 735,
    "start_time": "2023-04-28T11:45:14.837Z"
   },
   {
    "duration": 9,
    "start_time": "2023-04-28T11:45:15.574Z"
   },
   {
    "duration": 9,
    "start_time": "2023-04-28T11:45:15.585Z"
   },
   {
    "duration": 295153,
    "start_time": "2023-04-28T11:45:15.596Z"
   },
   {
    "duration": 0,
    "start_time": "2023-04-28T11:50:10.750Z"
   },
   {
    "duration": 0,
    "start_time": "2023-04-28T11:50:10.751Z"
   },
   {
    "duration": 0,
    "start_time": "2023-04-28T11:50:10.753Z"
   },
   {
    "duration": 0,
    "start_time": "2023-04-28T11:50:10.754Z"
   },
   {
    "duration": 0,
    "start_time": "2023-04-28T11:50:10.754Z"
   },
   {
    "duration": 0,
    "start_time": "2023-04-28T11:50:10.755Z"
   },
   {
    "duration": 0,
    "start_time": "2023-04-28T11:50:10.756Z"
   },
   {
    "duration": 0,
    "start_time": "2023-04-28T11:50:10.757Z"
   },
   {
    "duration": 22840,
    "start_time": "2023-04-28T11:51:50.632Z"
   },
   {
    "duration": 10,
    "start_time": "2023-04-28T11:54:54.486Z"
   },
   {
    "duration": 11,
    "start_time": "2023-04-28T11:56:18.166Z"
   },
   {
    "duration": 85392,
    "start_time": "2023-04-28T11:57:17.366Z"
   },
   {
    "duration": 314697,
    "start_time": "2023-04-28T11:58:50.007Z"
   },
   {
    "duration": 1492,
    "start_time": "2023-04-28T12:10:56.838Z"
   },
   {
    "duration": 806,
    "start_time": "2023-04-28T12:10:58.334Z"
   },
   {
    "duration": 18,
    "start_time": "2023-04-28T12:10:59.141Z"
   },
   {
    "duration": 8,
    "start_time": "2023-04-28T12:10:59.161Z"
   },
   {
    "duration": 182,
    "start_time": "2023-04-28T12:10:59.172Z"
   },
   {
    "duration": 433,
    "start_time": "2023-04-28T12:10:59.356Z"
   },
   {
    "duration": 454,
    "start_time": "2023-04-28T12:10:59.791Z"
   },
   {
    "duration": 426,
    "start_time": "2023-04-28T12:11:00.247Z"
   },
   {
    "duration": 150,
    "start_time": "2023-04-28T12:11:00.675Z"
   },
   {
    "duration": 28,
    "start_time": "2023-04-28T12:11:00.826Z"
   },
   {
    "duration": 54,
    "start_time": "2023-04-28T12:11:00.856Z"
   },
   {
    "duration": 45,
    "start_time": "2023-04-28T12:11:00.912Z"
   },
   {
    "duration": 53,
    "start_time": "2023-04-28T12:11:00.958Z"
   },
   {
    "duration": 34,
    "start_time": "2023-04-28T12:11:01.014Z"
   },
   {
    "duration": 44,
    "start_time": "2023-04-28T12:11:01.050Z"
   },
   {
    "duration": 63,
    "start_time": "2023-04-28T12:11:01.097Z"
   },
   {
    "duration": 78,
    "start_time": "2023-04-28T12:11:01.161Z"
   },
   {
    "duration": 29,
    "start_time": "2023-04-28T12:11:01.240Z"
   },
   {
    "duration": 69,
    "start_time": "2023-04-28T12:11:01.271Z"
   },
   {
    "duration": 22,
    "start_time": "2023-04-28T12:11:01.341Z"
   },
   {
    "duration": 19,
    "start_time": "2023-04-28T12:11:01.364Z"
   },
   {
    "duration": 55,
    "start_time": "2023-04-28T12:11:01.385Z"
   },
   {
    "duration": 27,
    "start_time": "2023-04-28T12:11:01.442Z"
   },
   {
    "duration": 44,
    "start_time": "2023-04-28T12:11:01.470Z"
   },
   {
    "duration": 30,
    "start_time": "2023-04-28T12:11:01.516Z"
   },
   {
    "duration": 65,
    "start_time": "2023-04-28T12:11:01.548Z"
   },
   {
    "duration": 68,
    "start_time": "2023-04-28T12:11:01.615Z"
   },
   {
    "duration": 60,
    "start_time": "2023-04-28T12:11:01.685Z"
   },
   {
    "duration": 220,
    "start_time": "2023-04-28T12:11:01.746Z"
   },
   {
    "duration": 150,
    "start_time": "2023-04-28T12:11:01.967Z"
   },
   {
    "duration": 11,
    "start_time": "2023-04-28T12:11:02.120Z"
   },
   {
    "duration": 16,
    "start_time": "2023-04-28T12:11:02.132Z"
   },
   {
    "duration": 34,
    "start_time": "2023-04-28T12:11:02.150Z"
   },
   {
    "duration": 5,
    "start_time": "2023-04-28T12:11:02.186Z"
   },
   {
    "duration": 20,
    "start_time": "2023-04-28T12:11:02.193Z"
   },
   {
    "duration": 35,
    "start_time": "2023-04-28T12:11:02.215Z"
   },
   {
    "duration": 7,
    "start_time": "2023-04-28T12:11:02.252Z"
   },
   {
    "duration": 177,
    "start_time": "2023-04-28T12:11:02.260Z"
   },
   {
    "duration": 16,
    "start_time": "2023-04-28T12:11:02.440Z"
   },
   {
    "duration": 42,
    "start_time": "2023-04-28T12:11:02.458Z"
   },
   {
    "duration": 4,
    "start_time": "2023-04-28T12:11:02.504Z"
   },
   {
    "duration": 69,
    "start_time": "2023-04-28T12:11:02.509Z"
   },
   {
    "duration": 4,
    "start_time": "2023-04-28T12:11:02.580Z"
   },
   {
    "duration": 8,
    "start_time": "2023-04-28T12:11:02.586Z"
   },
   {
    "duration": 46,
    "start_time": "2023-04-28T12:11:02.596Z"
   },
   {
    "duration": 33,
    "start_time": "2023-04-28T12:11:02.644Z"
   },
   {
    "duration": 25,
    "start_time": "2023-04-28T12:11:02.678Z"
   },
   {
    "duration": 787,
    "start_time": "2023-04-28T12:11:02.705Z"
   },
   {
    "duration": 11,
    "start_time": "2023-04-28T12:11:03.493Z"
   },
   {
    "duration": 31,
    "start_time": "2023-04-28T12:11:03.505Z"
   },
   {
    "duration": 9442,
    "start_time": "2023-04-28T12:11:03.538Z"
   },
   {
    "duration": 109,
    "start_time": "2023-04-28T12:11:12.982Z"
   },
   {
    "duration": 0,
    "start_time": "2023-04-28T12:42:18.631Z"
   },
   {
    "duration": 0,
    "start_time": "2023-04-28T12:42:18.632Z"
   },
   {
    "duration": 0,
    "start_time": "2023-04-28T12:42:18.634Z"
   },
   {
    "duration": 0,
    "start_time": "2023-04-28T12:42:18.634Z"
   },
   {
    "duration": 0,
    "start_time": "2023-04-28T12:42:18.635Z"
   },
   {
    "duration": 1466,
    "start_time": "2023-04-28T12:42:23.614Z"
   },
   {
    "duration": 781,
    "start_time": "2023-04-28T12:42:25.082Z"
   },
   {
    "duration": 17,
    "start_time": "2023-04-28T12:42:25.864Z"
   },
   {
    "duration": 4,
    "start_time": "2023-04-28T12:42:25.883Z"
   },
   {
    "duration": 142,
    "start_time": "2023-04-28T12:42:25.889Z"
   },
   {
    "duration": 422,
    "start_time": "2023-04-28T12:42:26.033Z"
   },
   {
    "duration": 509,
    "start_time": "2023-04-28T12:42:26.457Z"
   },
   {
    "duration": 460,
    "start_time": "2023-04-28T12:42:26.968Z"
   },
   {
    "duration": 114,
    "start_time": "2023-04-28T12:42:27.430Z"
   },
   {
    "duration": 16,
    "start_time": "2023-04-28T12:42:27.546Z"
   },
   {
    "duration": 35,
    "start_time": "2023-04-28T12:42:27.564Z"
   },
   {
    "duration": 22,
    "start_time": "2023-04-28T12:42:27.620Z"
   },
   {
    "duration": 33,
    "start_time": "2023-04-28T12:42:27.644Z"
   },
   {
    "duration": 16,
    "start_time": "2023-04-28T12:42:27.680Z"
   },
   {
    "duration": 59,
    "start_time": "2023-04-28T12:42:27.698Z"
   },
   {
    "duration": 34,
    "start_time": "2023-04-28T12:42:27.759Z"
   },
   {
    "duration": 91,
    "start_time": "2023-04-28T12:42:27.795Z"
   },
   {
    "duration": 3,
    "start_time": "2023-04-28T12:42:27.888Z"
   },
   {
    "duration": 44,
    "start_time": "2023-04-28T12:42:27.893Z"
   },
   {
    "duration": 8,
    "start_time": "2023-04-28T12:42:27.939Z"
   },
   {
    "duration": 7,
    "start_time": "2023-04-28T12:42:27.948Z"
   },
   {
    "duration": 33,
    "start_time": "2023-04-28T12:42:27.957Z"
   },
   {
    "duration": 55,
    "start_time": "2023-04-28T12:42:27.992Z"
   },
   {
    "duration": 8,
    "start_time": "2023-04-28T12:42:28.048Z"
   },
   {
    "duration": 10,
    "start_time": "2023-04-28T12:42:28.057Z"
   },
   {
    "duration": 30,
    "start_time": "2023-04-28T12:42:28.069Z"
   },
   {
    "duration": 60,
    "start_time": "2023-04-28T12:42:28.101Z"
   },
   {
    "duration": 28,
    "start_time": "2023-04-28T12:42:28.162Z"
   },
   {
    "duration": 240,
    "start_time": "2023-04-28T12:42:28.191Z"
   },
   {
    "duration": 137,
    "start_time": "2023-04-28T12:42:28.434Z"
   },
   {
    "duration": 9,
    "start_time": "2023-04-28T12:42:28.573Z"
   },
   {
    "duration": 14,
    "start_time": "2023-04-28T12:42:28.583Z"
   },
   {
    "duration": 39,
    "start_time": "2023-04-28T12:42:28.599Z"
   },
   {
    "duration": 4,
    "start_time": "2023-04-28T12:42:28.640Z"
   },
   {
    "duration": 23,
    "start_time": "2023-04-28T12:42:28.645Z"
   },
   {
    "duration": 21,
    "start_time": "2023-04-28T12:42:28.669Z"
   },
   {
    "duration": 3,
    "start_time": "2023-04-28T12:42:28.692Z"
   },
   {
    "duration": 166,
    "start_time": "2023-04-28T12:42:28.697Z"
   },
   {
    "duration": 11,
    "start_time": "2023-04-28T12:42:28.864Z"
   },
   {
    "duration": 20,
    "start_time": "2023-04-28T12:42:28.877Z"
   },
   {
    "duration": 30,
    "start_time": "2023-04-28T12:42:28.901Z"
   },
   {
    "duration": 54,
    "start_time": "2023-04-28T12:42:28.933Z"
   },
   {
    "duration": 4,
    "start_time": "2023-04-28T12:42:28.989Z"
   },
   {
    "duration": 5,
    "start_time": "2023-04-28T12:42:28.995Z"
   },
   {
    "duration": 41,
    "start_time": "2023-04-28T12:42:29.002Z"
   },
   {
    "duration": 4,
    "start_time": "2023-04-28T12:42:29.045Z"
   },
   {
    "duration": 5,
    "start_time": "2023-04-28T12:42:29.051Z"
   },
   {
    "duration": 756,
    "start_time": "2023-04-28T12:42:29.058Z"
   },
   {
    "duration": 15,
    "start_time": "2023-04-28T12:42:29.816Z"
   },
   {
    "duration": 3,
    "start_time": "2023-04-28T12:42:29.832Z"
   },
   {
    "duration": 9394,
    "start_time": "2023-04-28T12:42:29.837Z"
   },
   {
    "duration": 82,
    "start_time": "2023-04-28T12:42:39.233Z"
   },
   {
    "duration": 1553,
    "start_time": "2023-04-28T12:47:02.454Z"
   },
   {
    "duration": 906,
    "start_time": "2023-04-28T12:47:04.009Z"
   },
   {
    "duration": 34,
    "start_time": "2023-04-28T12:47:04.917Z"
   },
   {
    "duration": 5,
    "start_time": "2023-04-28T12:47:04.953Z"
   },
   {
    "duration": 136,
    "start_time": "2023-04-28T12:47:04.960Z"
   },
   {
    "duration": 487,
    "start_time": "2023-04-28T12:47:05.098Z"
   },
   {
    "duration": 486,
    "start_time": "2023-04-28T12:47:05.587Z"
   },
   {
    "duration": 467,
    "start_time": "2023-04-28T12:47:06.075Z"
   },
   {
    "duration": 176,
    "start_time": "2023-04-28T12:47:06.556Z"
   },
   {
    "duration": 29,
    "start_time": "2023-04-28T12:47:06.734Z"
   },
   {
    "duration": 42,
    "start_time": "2023-04-28T12:47:06.765Z"
   },
   {
    "duration": 21,
    "start_time": "2023-04-28T12:47:06.809Z"
   },
   {
    "duration": 48,
    "start_time": "2023-04-28T12:47:06.832Z"
   },
   {
    "duration": 17,
    "start_time": "2023-04-28T12:47:06.882Z"
   },
   {
    "duration": 64,
    "start_time": "2023-04-28T12:47:06.900Z"
   },
   {
    "duration": 34,
    "start_time": "2023-04-28T12:47:06.966Z"
   },
   {
    "duration": 94,
    "start_time": "2023-04-28T12:47:07.002Z"
   },
   {
    "duration": 4,
    "start_time": "2023-04-28T12:47:07.097Z"
   },
   {
    "duration": 61,
    "start_time": "2023-04-28T12:47:07.102Z"
   },
   {
    "duration": 9,
    "start_time": "2023-04-28T12:47:07.164Z"
   },
   {
    "duration": 7,
    "start_time": "2023-04-28T12:47:07.174Z"
   },
   {
    "duration": 68,
    "start_time": "2023-04-28T12:47:07.183Z"
   },
   {
    "duration": 35,
    "start_time": "2023-04-28T12:47:07.253Z"
   },
   {
    "duration": 10,
    "start_time": "2023-04-28T12:47:07.290Z"
   },
   {
    "duration": 3,
    "start_time": "2023-04-28T12:47:07.302Z"
   },
   {
    "duration": 51,
    "start_time": "2023-04-28T12:47:07.317Z"
   },
   {
    "duration": 70,
    "start_time": "2023-04-28T12:47:07.370Z"
   },
   {
    "duration": 31,
    "start_time": "2023-04-28T12:47:07.442Z"
   },
   {
    "duration": 231,
    "start_time": "2023-04-28T12:47:07.475Z"
   },
   {
    "duration": 168,
    "start_time": "2023-04-28T12:47:07.708Z"
   },
   {
    "duration": 10,
    "start_time": "2023-04-28T12:47:07.878Z"
   },
   {
    "duration": 4,
    "start_time": "2023-04-28T12:47:07.890Z"
   },
   {
    "duration": 43,
    "start_time": "2023-04-28T12:47:07.895Z"
   },
   {
    "duration": 5,
    "start_time": "2023-04-28T12:47:07.942Z"
   },
   {
    "duration": 28,
    "start_time": "2023-04-28T12:47:07.948Z"
   },
   {
    "duration": 25,
    "start_time": "2023-04-28T12:47:07.978Z"
   },
   {
    "duration": 4,
    "start_time": "2023-04-28T12:47:08.005Z"
   },
   {
    "duration": 176,
    "start_time": "2023-04-28T12:47:08.010Z"
   },
   {
    "duration": 12,
    "start_time": "2023-04-28T12:47:08.188Z"
   },
   {
    "duration": 45,
    "start_time": "2023-04-28T12:47:08.201Z"
   },
   {
    "duration": 4,
    "start_time": "2023-04-28T12:47:08.251Z"
   },
   {
    "duration": 65,
    "start_time": "2023-04-28T12:47:08.257Z"
   },
   {
    "duration": 7,
    "start_time": "2023-04-28T12:47:08.331Z"
   },
   {
    "duration": 4,
    "start_time": "2023-04-28T12:47:08.340Z"
   },
   {
    "duration": 24,
    "start_time": "2023-04-28T12:47:08.345Z"
   },
   {
    "duration": 4,
    "start_time": "2023-04-28T12:47:08.371Z"
   },
   {
    "duration": 6,
    "start_time": "2023-04-28T12:47:08.376Z"
   },
   {
    "duration": 852,
    "start_time": "2023-04-28T12:47:08.383Z"
   },
   {
    "duration": 14,
    "start_time": "2023-04-28T12:47:09.238Z"
   },
   {
    "duration": 10,
    "start_time": "2023-04-28T12:47:09.254Z"
   },
   {
    "duration": 9871,
    "start_time": "2023-04-28T12:47:09.266Z"
   },
   {
    "duration": 89,
    "start_time": "2023-04-28T12:47:19.138Z"
   },
   {
    "duration": 6,
    "start_time": "2023-04-28T12:47:19.229Z"
   },
   {
    "duration": 0,
    "start_time": "2023-04-28T12:47:19.236Z"
   },
   {
    "duration": 0,
    "start_time": "2023-04-28T12:47:19.237Z"
   },
   {
    "duration": 0,
    "start_time": "2023-04-28T12:47:19.238Z"
   },
   {
    "duration": 0,
    "start_time": "2023-04-28T12:47:19.240Z"
   },
   {
    "duration": 0,
    "start_time": "2023-04-28T12:47:19.241Z"
   },
   {
    "duration": 1442,
    "start_time": "2023-04-28T12:47:57.943Z"
   },
   {
    "duration": 874,
    "start_time": "2023-04-28T12:47:59.386Z"
   },
   {
    "duration": 17,
    "start_time": "2023-04-28T12:48:00.261Z"
   },
   {
    "duration": 35,
    "start_time": "2023-04-28T12:48:00.280Z"
   },
   {
    "duration": 152,
    "start_time": "2023-04-28T12:48:00.318Z"
   },
   {
    "duration": 598,
    "start_time": "2023-04-28T12:48:00.472Z"
   },
   {
    "duration": 468,
    "start_time": "2023-04-28T12:48:01.072Z"
   },
   {
    "duration": 449,
    "start_time": "2023-04-28T12:48:01.542Z"
   },
   {
    "duration": 131,
    "start_time": "2023-04-28T12:48:01.993Z"
   },
   {
    "duration": 25,
    "start_time": "2023-04-28T12:48:02.126Z"
   },
   {
    "duration": 42,
    "start_time": "2023-04-28T12:48:02.153Z"
   },
   {
    "duration": 33,
    "start_time": "2023-04-28T12:48:02.197Z"
   },
   {
    "duration": 35,
    "start_time": "2023-04-28T12:48:02.232Z"
   },
   {
    "duration": 24,
    "start_time": "2023-04-28T12:48:02.270Z"
   },
   {
    "duration": 47,
    "start_time": "2023-04-28T12:48:02.296Z"
   },
   {
    "duration": 49,
    "start_time": "2023-04-28T12:48:02.345Z"
   },
   {
    "duration": 92,
    "start_time": "2023-04-28T12:48:02.395Z"
   },
   {
    "duration": 3,
    "start_time": "2023-04-28T12:48:02.489Z"
   },
   {
    "duration": 53,
    "start_time": "2023-04-28T12:48:02.494Z"
   },
   {
    "duration": 10,
    "start_time": "2023-04-28T12:48:02.549Z"
   },
   {
    "duration": 7,
    "start_time": "2023-04-28T12:48:02.560Z"
   },
   {
    "duration": 58,
    "start_time": "2023-04-28T12:48:02.569Z"
   },
   {
    "duration": 34,
    "start_time": "2023-04-28T12:48:02.628Z"
   },
   {
    "duration": 9,
    "start_time": "2023-04-28T12:48:02.664Z"
   },
   {
    "duration": 4,
    "start_time": "2023-04-28T12:48:02.675Z"
   },
   {
    "duration": 59,
    "start_time": "2023-04-28T12:48:02.680Z"
   },
   {
    "duration": 32,
    "start_time": "2023-04-28T12:48:02.741Z"
   },
   {
    "duration": 40,
    "start_time": "2023-04-28T12:48:02.775Z"
   },
   {
    "duration": 240,
    "start_time": "2023-04-28T12:48:02.823Z"
   },
   {
    "duration": 151,
    "start_time": "2023-04-28T12:48:03.064Z"
   },
   {
    "duration": 26,
    "start_time": "2023-04-28T12:48:03.216Z"
   },
   {
    "duration": 4,
    "start_time": "2023-04-28T12:48:03.245Z"
   },
   {
    "duration": 27,
    "start_time": "2023-04-28T12:48:03.250Z"
   },
   {
    "duration": 3,
    "start_time": "2023-04-28T12:48:03.279Z"
   },
   {
    "duration": 16,
    "start_time": "2023-04-28T12:48:03.283Z"
   },
   {
    "duration": 42,
    "start_time": "2023-04-28T12:48:03.300Z"
   },
   {
    "duration": 4,
    "start_time": "2023-04-28T12:48:03.344Z"
   },
   {
    "duration": 158,
    "start_time": "2023-04-28T12:48:03.350Z"
   },
   {
    "duration": 21,
    "start_time": "2023-04-28T12:48:03.509Z"
   },
   {
    "duration": 23,
    "start_time": "2023-04-28T12:48:03.534Z"
   },
   {
    "duration": 4,
    "start_time": "2023-04-28T12:48:03.561Z"
   },
   {
    "duration": 86,
    "start_time": "2023-04-28T12:48:03.566Z"
   },
   {
    "duration": 3,
    "start_time": "2023-04-28T12:48:03.654Z"
   },
   {
    "duration": 4,
    "start_time": "2023-04-28T12:48:03.658Z"
   },
   {
    "duration": 24,
    "start_time": "2023-04-28T12:48:03.663Z"
   },
   {
    "duration": 3,
    "start_time": "2023-04-28T12:48:03.689Z"
   },
   {
    "duration": 4,
    "start_time": "2023-04-28T12:48:03.694Z"
   },
   {
    "duration": 824,
    "start_time": "2023-04-28T12:48:03.720Z"
   },
   {
    "duration": 10,
    "start_time": "2023-04-28T12:48:04.546Z"
   },
   {
    "duration": 3,
    "start_time": "2023-04-28T12:48:04.557Z"
   },
   {
    "duration": 9733,
    "start_time": "2023-04-28T12:48:04.562Z"
   },
   {
    "duration": 93,
    "start_time": "2023-04-28T12:48:14.296Z"
   },
   {
    "duration": 347346,
    "start_time": "2023-04-28T12:48:14.391Z"
   },
   {
    "duration": 0,
    "start_time": "2023-04-28T12:54:01.739Z"
   },
   {
    "duration": 0,
    "start_time": "2023-04-28T12:54:01.740Z"
   },
   {
    "duration": 0,
    "start_time": "2023-04-28T12:54:01.742Z"
   },
   {
    "duration": 0,
    "start_time": "2023-04-28T12:54:01.743Z"
   },
   {
    "duration": 0,
    "start_time": "2023-04-28T12:54:01.744Z"
   },
   {
    "duration": 0,
    "start_time": "2023-04-28T12:54:01.745Z"
   },
   {
    "duration": 1477,
    "start_time": "2023-04-28T12:59:04.391Z"
   },
   {
    "duration": 819,
    "start_time": "2023-04-28T12:59:05.869Z"
   },
   {
    "duration": 18,
    "start_time": "2023-04-28T12:59:06.689Z"
   },
   {
    "duration": 13,
    "start_time": "2023-04-28T12:59:06.709Z"
   },
   {
    "duration": 137,
    "start_time": "2023-04-28T12:59:06.724Z"
   },
   {
    "duration": 485,
    "start_time": "2023-04-28T12:59:06.862Z"
   },
   {
    "duration": 539,
    "start_time": "2023-04-28T12:59:07.348Z"
   },
   {
    "duration": 439,
    "start_time": "2023-04-28T12:59:07.888Z"
   },
   {
    "duration": 128,
    "start_time": "2023-04-28T12:59:08.332Z"
   },
   {
    "duration": 19,
    "start_time": "2023-04-28T12:59:08.462Z"
   },
   {
    "duration": 62,
    "start_time": "2023-04-28T12:59:08.483Z"
   },
   {
    "duration": 18,
    "start_time": "2023-04-28T12:59:08.546Z"
   },
   {
    "duration": 31,
    "start_time": "2023-04-28T12:59:08.566Z"
   },
   {
    "duration": 38,
    "start_time": "2023-04-28T12:59:08.600Z"
   },
   {
    "duration": 54,
    "start_time": "2023-04-28T12:59:08.640Z"
   },
   {
    "duration": 59,
    "start_time": "2023-04-28T12:59:08.696Z"
   },
   {
    "duration": 86,
    "start_time": "2023-04-28T12:59:08.757Z"
   },
   {
    "duration": 4,
    "start_time": "2023-04-28T12:59:08.845Z"
   },
   {
    "duration": 33,
    "start_time": "2023-04-28T12:59:08.851Z"
   },
   {
    "duration": 46,
    "start_time": "2023-04-28T12:59:08.886Z"
   },
   {
    "duration": 6,
    "start_time": "2023-04-28T12:59:08.933Z"
   },
   {
    "duration": 35,
    "start_time": "2023-04-28T12:59:08.941Z"
   },
   {
    "duration": 30,
    "start_time": "2023-04-28T12:59:08.978Z"
   },
   {
    "duration": 19,
    "start_time": "2023-04-28T12:59:09.009Z"
   },
   {
    "duration": 7,
    "start_time": "2023-04-28T12:59:09.029Z"
   },
   {
    "duration": 37,
    "start_time": "2023-04-28T12:59:09.038Z"
   },
   {
    "duration": 39,
    "start_time": "2023-04-28T12:59:09.077Z"
   },
   {
    "duration": 46,
    "start_time": "2023-04-28T12:59:09.127Z"
   },
   {
    "duration": 232,
    "start_time": "2023-04-28T12:59:09.175Z"
   },
   {
    "duration": 165,
    "start_time": "2023-04-28T12:59:09.409Z"
   },
   {
    "duration": 12,
    "start_time": "2023-04-28T12:59:09.576Z"
   },
   {
    "duration": 5,
    "start_time": "2023-04-28T12:59:09.589Z"
   },
   {
    "duration": 41,
    "start_time": "2023-04-28T12:59:09.596Z"
   },
   {
    "duration": 7,
    "start_time": "2023-04-28T12:59:09.639Z"
   },
   {
    "duration": 16,
    "start_time": "2023-04-28T12:59:09.648Z"
   },
   {
    "duration": 22,
    "start_time": "2023-04-28T12:59:09.667Z"
   },
   {
    "duration": 31,
    "start_time": "2023-04-28T12:59:09.691Z"
   },
   {
    "duration": 150,
    "start_time": "2023-04-28T12:59:09.728Z"
   },
   {
    "duration": 13,
    "start_time": "2023-04-28T12:59:09.880Z"
   },
   {
    "duration": 40,
    "start_time": "2023-04-28T12:59:09.895Z"
   },
   {
    "duration": 4,
    "start_time": "2023-04-28T12:59:09.939Z"
   },
   {
    "duration": 57,
    "start_time": "2023-04-28T12:59:09.944Z"
   },
   {
    "duration": 33,
    "start_time": "2023-04-28T12:59:10.003Z"
   },
   {
    "duration": 4,
    "start_time": "2023-04-28T12:59:10.037Z"
   },
   {
    "duration": 36,
    "start_time": "2023-04-28T12:59:10.042Z"
   },
   {
    "duration": 3,
    "start_time": "2023-04-28T12:59:10.080Z"
   },
   {
    "duration": 6,
    "start_time": "2023-04-28T12:59:10.085Z"
   },
   {
    "duration": 802,
    "start_time": "2023-04-28T12:59:10.093Z"
   },
   {
    "duration": 9,
    "start_time": "2023-04-28T12:59:10.897Z"
   },
   {
    "duration": 4,
    "start_time": "2023-04-28T12:59:10.918Z"
   },
   {
    "duration": 9301,
    "start_time": "2023-04-28T12:59:10.936Z"
   },
   {
    "duration": 94,
    "start_time": "2023-04-28T12:59:20.239Z"
   },
   {
    "duration": 1479,
    "start_time": "2023-04-28T13:02:58.484Z"
   },
   {
    "duration": 820,
    "start_time": "2023-04-28T13:02:59.965Z"
   },
   {
    "duration": 20,
    "start_time": "2023-04-28T13:03:00.786Z"
   },
   {
    "duration": 13,
    "start_time": "2023-04-28T13:03:00.818Z"
   },
   {
    "duration": 144,
    "start_time": "2023-04-28T13:03:00.833Z"
   },
   {
    "duration": 448,
    "start_time": "2023-04-28T13:03:00.979Z"
   },
   {
    "duration": 480,
    "start_time": "2023-04-28T13:03:01.429Z"
   },
   {
    "duration": 448,
    "start_time": "2023-04-28T13:03:01.910Z"
   },
   {
    "duration": 117,
    "start_time": "2023-04-28T13:03:02.359Z"
   },
   {
    "duration": 17,
    "start_time": "2023-04-28T13:03:02.477Z"
   },
   {
    "duration": 70,
    "start_time": "2023-04-28T13:03:02.496Z"
   },
   {
    "duration": 16,
    "start_time": "2023-04-28T13:03:02.567Z"
   },
   {
    "duration": 43,
    "start_time": "2023-04-28T13:03:02.585Z"
   },
   {
    "duration": 23,
    "start_time": "2023-04-28T13:03:02.633Z"
   },
   {
    "duration": 85,
    "start_time": "2023-04-28T13:03:02.658Z"
   },
   {
    "duration": 35,
    "start_time": "2023-04-28T13:03:02.745Z"
   },
   {
    "duration": 85,
    "start_time": "2023-04-28T13:03:02.782Z"
   },
   {
    "duration": 12,
    "start_time": "2023-04-28T13:03:02.869Z"
   },
   {
    "duration": 56,
    "start_time": "2023-04-28T13:03:02.883Z"
   },
   {
    "duration": 14,
    "start_time": "2023-04-28T13:03:02.940Z"
   },
   {
    "duration": 6,
    "start_time": "2023-04-28T13:03:02.955Z"
   },
   {
    "duration": 83,
    "start_time": "2023-04-28T13:03:02.962Z"
   },
   {
    "duration": 28,
    "start_time": "2023-04-28T13:03:03.046Z"
   },
   {
    "duration": 24,
    "start_time": "2023-04-28T13:03:03.076Z"
   },
   {
    "duration": 4,
    "start_time": "2023-04-28T13:03:03.102Z"
   },
   {
    "duration": 42,
    "start_time": "2023-04-28T13:03:03.108Z"
   },
   {
    "duration": 58,
    "start_time": "2023-04-28T13:03:03.152Z"
   },
   {
    "duration": 38,
    "start_time": "2023-04-28T13:03:03.212Z"
   },
   {
    "duration": 223,
    "start_time": "2023-04-28T13:03:03.251Z"
   },
   {
    "duration": 147,
    "start_time": "2023-04-28T13:03:03.475Z"
   },
   {
    "duration": 16,
    "start_time": "2023-04-28T13:03:03.630Z"
   },
   {
    "duration": 5,
    "start_time": "2023-04-28T13:03:03.648Z"
   },
   {
    "duration": 34,
    "start_time": "2023-04-28T13:03:03.655Z"
   },
   {
    "duration": 3,
    "start_time": "2023-04-28T13:03:03.691Z"
   },
   {
    "duration": 39,
    "start_time": "2023-04-28T13:03:03.696Z"
   },
   {
    "duration": 21,
    "start_time": "2023-04-28T13:03:03.737Z"
   },
   {
    "duration": 5,
    "start_time": "2023-04-28T13:03:03.760Z"
   },
   {
    "duration": 172,
    "start_time": "2023-04-28T13:03:03.767Z"
   },
   {
    "duration": 12,
    "start_time": "2023-04-28T13:03:03.941Z"
   },
   {
    "duration": 20,
    "start_time": "2023-04-28T13:03:03.954Z"
   },
   {
    "duration": 4,
    "start_time": "2023-04-28T13:03:03.977Z"
   },
   {
    "duration": 84,
    "start_time": "2023-04-28T13:03:03.982Z"
   },
   {
    "duration": 5,
    "start_time": "2023-04-28T13:03:04.068Z"
   },
   {
    "duration": 7,
    "start_time": "2023-04-28T13:03:04.075Z"
   },
   {
    "duration": 46,
    "start_time": "2023-04-28T13:03:04.084Z"
   },
   {
    "duration": 4,
    "start_time": "2023-04-28T13:03:04.132Z"
   },
   {
    "duration": 7,
    "start_time": "2023-04-28T13:03:04.138Z"
   },
   {
    "duration": 872,
    "start_time": "2023-04-28T13:03:04.146Z"
   },
   {
    "duration": 11,
    "start_time": "2023-04-28T13:03:05.032Z"
   },
   {
    "duration": 3,
    "start_time": "2023-04-28T13:03:05.045Z"
   },
   {
    "duration": 9284,
    "start_time": "2023-04-28T13:03:05.050Z"
   },
   {
    "duration": 92,
    "start_time": "2023-04-28T13:03:14.336Z"
   },
   {
    "duration": 1405,
    "start_time": "2023-04-28T13:15:18.943Z"
   },
   {
    "duration": 812,
    "start_time": "2023-04-28T13:15:20.350Z"
   },
   {
    "duration": 16,
    "start_time": "2023-04-28T13:15:21.164Z"
   },
   {
    "duration": 4,
    "start_time": "2023-04-28T13:15:21.182Z"
   },
   {
    "duration": 141,
    "start_time": "2023-04-28T13:15:21.187Z"
   },
   {
    "duration": 424,
    "start_time": "2023-04-28T13:15:21.329Z"
   },
   {
    "duration": 443,
    "start_time": "2023-04-28T13:15:21.754Z"
   },
   {
    "duration": 400,
    "start_time": "2023-04-28T13:15:22.199Z"
   },
   {
    "duration": 131,
    "start_time": "2023-04-28T13:15:22.601Z"
   },
   {
    "duration": 15,
    "start_time": "2023-04-28T13:15:22.734Z"
   },
   {
    "duration": 33,
    "start_time": "2023-04-28T13:15:22.751Z"
   },
   {
    "duration": 15,
    "start_time": "2023-04-28T13:15:22.786Z"
   },
   {
    "duration": 50,
    "start_time": "2023-04-28T13:15:22.802Z"
   },
   {
    "duration": 17,
    "start_time": "2023-04-28T13:15:22.855Z"
   },
   {
    "duration": 35,
    "start_time": "2023-04-28T13:15:22.873Z"
   },
   {
    "duration": 51,
    "start_time": "2023-04-28T13:15:22.910Z"
   },
   {
    "duration": 76,
    "start_time": "2023-04-28T13:15:22.963Z"
   },
   {
    "duration": 4,
    "start_time": "2023-04-28T13:15:23.040Z"
   },
   {
    "duration": 34,
    "start_time": "2023-04-28T13:15:23.045Z"
   },
   {
    "duration": 9,
    "start_time": "2023-04-28T13:15:23.080Z"
   },
   {
    "duration": 7,
    "start_time": "2023-04-28T13:15:23.090Z"
   },
   {
    "duration": 54,
    "start_time": "2023-04-28T13:15:23.099Z"
   },
   {
    "duration": 27,
    "start_time": "2023-04-28T13:15:23.154Z"
   },
   {
    "duration": 7,
    "start_time": "2023-04-28T13:15:23.183Z"
   },
   {
    "duration": 3,
    "start_time": "2023-04-28T13:15:23.192Z"
   },
   {
    "duration": 50,
    "start_time": "2023-04-28T13:15:23.196Z"
   },
   {
    "duration": 37,
    "start_time": "2023-04-28T13:15:23.248Z"
   },
   {
    "duration": 36,
    "start_time": "2023-04-28T13:15:23.286Z"
   },
   {
    "duration": 214,
    "start_time": "2023-04-28T13:15:23.324Z"
   },
   {
    "duration": 146,
    "start_time": "2023-04-28T13:15:23.540Z"
   },
   {
    "duration": 10,
    "start_time": "2023-04-28T13:15:23.687Z"
   },
   {
    "duration": 6,
    "start_time": "2023-04-28T13:15:23.698Z"
   },
   {
    "duration": 25,
    "start_time": "2023-04-28T13:15:23.717Z"
   },
   {
    "duration": 7,
    "start_time": "2023-04-28T13:15:23.743Z"
   },
   {
    "duration": 18,
    "start_time": "2023-04-28T13:15:23.752Z"
   },
   {
    "duration": 21,
    "start_time": "2023-04-28T13:15:23.772Z"
   },
   {
    "duration": 4,
    "start_time": "2023-04-28T13:15:23.794Z"
   },
   {
    "duration": 171,
    "start_time": "2023-04-28T13:15:23.799Z"
   },
   {
    "duration": 14,
    "start_time": "2023-04-28T13:15:23.971Z"
   },
   {
    "duration": 44,
    "start_time": "2023-04-28T13:15:23.987Z"
   },
   {
    "duration": 4,
    "start_time": "2023-04-28T13:15:24.035Z"
   },
   {
    "duration": 57,
    "start_time": "2023-04-28T13:15:24.040Z"
   },
   {
    "duration": 4,
    "start_time": "2023-04-28T13:15:24.099Z"
   },
   {
    "duration": 9,
    "start_time": "2023-04-28T13:15:24.117Z"
   },
   {
    "duration": 28,
    "start_time": "2023-04-28T13:15:24.128Z"
   },
   {
    "duration": 3,
    "start_time": "2023-04-28T13:15:24.158Z"
   },
   {
    "duration": 17,
    "start_time": "2023-04-28T13:15:24.163Z"
   },
   {
    "duration": 788,
    "start_time": "2023-04-28T13:15:24.181Z"
   },
   {
    "duration": 11,
    "start_time": "2023-04-28T13:15:24.970Z"
   },
   {
    "duration": 8,
    "start_time": "2023-04-28T13:15:24.983Z"
   },
   {
    "duration": 9216,
    "start_time": "2023-04-28T13:15:24.992Z"
   },
   {
    "duration": 80,
    "start_time": "2023-04-28T13:15:34.210Z"
   },
   {
    "duration": 237647,
    "start_time": "2023-04-28T13:15:34.292Z"
   },
   {
    "duration": 6,
    "start_time": "2023-04-28T13:19:32.024Z"
   },
   {
    "duration": 19652,
    "start_time": "2023-04-28T13:19:32.032Z"
   },
   {
    "duration": 0,
    "start_time": "2023-04-28T13:19:51.687Z"
   },
   {
    "duration": 0,
    "start_time": "2023-04-28T13:19:51.688Z"
   },
   {
    "duration": 0,
    "start_time": "2023-04-28T13:19:51.689Z"
   },
   {
    "duration": 0,
    "start_time": "2023-04-28T13:19:51.690Z"
   },
   {
    "duration": 0,
    "start_time": "2023-04-28T13:19:51.691Z"
   },
   {
    "duration": 17926,
    "start_time": "2023-04-28T13:19:56.792Z"
   },
   {
    "duration": 298,
    "start_time": "2023-04-28T13:20:14.727Z"
   },
   {
    "duration": 107,
    "start_time": "2023-04-28T13:20:15.032Z"
   },
   {
    "duration": 83,
    "start_time": "2023-04-28T13:20:15.143Z"
   },
   {
    "duration": 1368,
    "start_time": "2023-04-28T13:43:37.769Z"
   },
   {
    "duration": 808,
    "start_time": "2023-04-28T13:43:39.139Z"
   },
   {
    "duration": 16,
    "start_time": "2023-04-28T13:43:39.949Z"
   },
   {
    "duration": 4,
    "start_time": "2023-04-28T13:43:39.967Z"
   },
   {
    "duration": 140,
    "start_time": "2023-04-28T13:43:39.973Z"
   },
   {
    "duration": 431,
    "start_time": "2023-04-28T13:43:40.115Z"
   },
   {
    "duration": 483,
    "start_time": "2023-04-28T13:43:40.548Z"
   },
   {
    "duration": 418,
    "start_time": "2023-04-28T13:43:41.033Z"
   },
   {
    "duration": 117,
    "start_time": "2023-04-28T13:43:41.452Z"
   },
   {
    "duration": 16,
    "start_time": "2023-04-28T13:43:41.572Z"
   },
   {
    "duration": 53,
    "start_time": "2023-04-28T13:43:41.590Z"
   },
   {
    "duration": 19,
    "start_time": "2023-04-28T13:43:41.644Z"
   },
   {
    "duration": 43,
    "start_time": "2023-04-28T13:43:41.664Z"
   },
   {
    "duration": 27,
    "start_time": "2023-04-28T13:43:41.709Z"
   },
   {
    "duration": 38,
    "start_time": "2023-04-28T13:43:41.737Z"
   },
   {
    "duration": 49,
    "start_time": "2023-04-28T13:43:41.776Z"
   },
   {
    "duration": 92,
    "start_time": "2023-04-28T13:43:41.827Z"
   },
   {
    "duration": 4,
    "start_time": "2023-04-28T13:43:41.920Z"
   },
   {
    "duration": 37,
    "start_time": "2023-04-28T13:43:41.925Z"
   },
   {
    "duration": 7,
    "start_time": "2023-04-28T13:43:41.964Z"
   },
   {
    "duration": 33,
    "start_time": "2023-04-28T13:43:41.972Z"
   },
   {
    "duration": 55,
    "start_time": "2023-04-28T13:43:42.007Z"
   },
   {
    "duration": 31,
    "start_time": "2023-04-28T13:43:42.064Z"
   },
   {
    "duration": 8,
    "start_time": "2023-04-28T13:43:42.096Z"
   },
   {
    "duration": 6,
    "start_time": "2023-04-28T13:43:42.105Z"
   },
   {
    "duration": 43,
    "start_time": "2023-04-28T13:43:42.113Z"
   },
   {
    "duration": 35,
    "start_time": "2023-04-28T13:43:42.158Z"
   },
   {
    "duration": 36,
    "start_time": "2023-04-28T13:43:42.197Z"
   },
   {
    "duration": 217,
    "start_time": "2023-04-28T13:43:42.234Z"
   },
   {
    "duration": 142,
    "start_time": "2023-04-28T13:43:42.453Z"
   },
   {
    "duration": 11,
    "start_time": "2023-04-28T13:43:42.596Z"
   },
   {
    "duration": 21,
    "start_time": "2023-04-28T13:43:42.608Z"
   },
   {
    "duration": 23,
    "start_time": "2023-04-28T13:43:42.631Z"
   },
   {
    "duration": 3,
    "start_time": "2023-04-28T13:43:42.656Z"
   },
   {
    "duration": 16,
    "start_time": "2023-04-28T13:43:42.660Z"
   },
   {
    "duration": 49,
    "start_time": "2023-04-28T13:43:42.678Z"
   },
   {
    "duration": 5,
    "start_time": "2023-04-28T13:43:42.729Z"
   },
   {
    "duration": 151,
    "start_time": "2023-04-28T13:43:42.735Z"
   },
   {
    "duration": 12,
    "start_time": "2023-04-28T13:43:42.887Z"
   },
   {
    "duration": 30,
    "start_time": "2023-04-28T13:43:42.901Z"
   },
   {
    "duration": 4,
    "start_time": "2023-04-28T13:43:42.933Z"
   },
   {
    "duration": 61,
    "start_time": "2023-04-28T13:43:42.939Z"
   },
   {
    "duration": 24,
    "start_time": "2023-04-28T13:43:43.002Z"
   },
   {
    "duration": 5,
    "start_time": "2023-04-28T13:43:43.033Z"
   },
   {
    "duration": 24,
    "start_time": "2023-04-28T13:43:43.039Z"
   },
   {
    "duration": 3,
    "start_time": "2023-04-28T13:43:43.065Z"
   },
   {
    "duration": 7,
    "start_time": "2023-04-28T13:43:43.070Z"
   },
   {
    "duration": 766,
    "start_time": "2023-04-28T13:43:43.078Z"
   },
   {
    "duration": 10,
    "start_time": "2023-04-28T13:43:43.846Z"
   },
   {
    "duration": 3,
    "start_time": "2023-04-28T13:43:43.858Z"
   },
   {
    "duration": 8983,
    "start_time": "2023-04-28T13:43:43.862Z"
   },
   {
    "duration": 88,
    "start_time": "2023-04-28T13:43:52.847Z"
   },
   {
    "duration": 1386,
    "start_time": "2023-04-28T13:52:01.164Z"
   },
   {
    "duration": 798,
    "start_time": "2023-04-28T13:52:02.552Z"
   },
   {
    "duration": 17,
    "start_time": "2023-04-28T13:52:03.351Z"
   },
   {
    "duration": 4,
    "start_time": "2023-04-28T13:52:03.369Z"
   },
   {
    "duration": 131,
    "start_time": "2023-04-28T13:52:03.374Z"
   },
   {
    "duration": 448,
    "start_time": "2023-04-28T13:52:03.507Z"
   },
   {
    "duration": 486,
    "start_time": "2023-04-28T13:52:03.956Z"
   },
   {
    "duration": 422,
    "start_time": "2023-04-28T13:52:04.443Z"
   },
   {
    "duration": 117,
    "start_time": "2023-04-28T13:52:04.867Z"
   },
   {
    "duration": 17,
    "start_time": "2023-04-28T13:52:04.986Z"
   },
   {
    "duration": 46,
    "start_time": "2023-04-28T13:52:05.005Z"
   },
   {
    "duration": 16,
    "start_time": "2023-04-28T13:52:05.053Z"
   },
   {
    "duration": 60,
    "start_time": "2023-04-28T13:52:05.071Z"
   },
   {
    "duration": 16,
    "start_time": "2023-04-28T13:52:05.133Z"
   },
   {
    "duration": 47,
    "start_time": "2023-04-28T13:52:05.151Z"
   },
   {
    "duration": 58,
    "start_time": "2023-04-28T13:52:05.200Z"
   },
   {
    "duration": 95,
    "start_time": "2023-04-28T13:52:05.259Z"
   },
   {
    "duration": 8,
    "start_time": "2023-04-28T13:52:05.356Z"
   },
   {
    "duration": 40,
    "start_time": "2023-04-28T13:52:05.365Z"
   },
   {
    "duration": 8,
    "start_time": "2023-04-28T13:52:05.407Z"
   },
   {
    "duration": 8,
    "start_time": "2023-04-28T13:52:05.416Z"
   },
   {
    "duration": 37,
    "start_time": "2023-04-28T13:52:05.425Z"
   },
   {
    "duration": 32,
    "start_time": "2023-04-28T13:52:05.463Z"
   },
   {
    "duration": 41,
    "start_time": "2023-04-28T13:52:05.497Z"
   },
   {
    "duration": 4,
    "start_time": "2023-04-28T13:52:05.539Z"
   },
   {
    "duration": 29,
    "start_time": "2023-04-28T13:52:05.544Z"
   },
   {
    "duration": 55,
    "start_time": "2023-04-28T13:52:05.575Z"
   },
   {
    "duration": 28,
    "start_time": "2023-04-28T13:52:05.634Z"
   },
   {
    "duration": 232,
    "start_time": "2023-04-28T13:52:05.663Z"
   },
   {
    "duration": 142,
    "start_time": "2023-04-28T13:52:05.897Z"
   },
   {
    "duration": 10,
    "start_time": "2023-04-28T13:52:06.040Z"
   },
   {
    "duration": 4,
    "start_time": "2023-04-28T13:52:06.052Z"
   },
   {
    "duration": 34,
    "start_time": "2023-04-28T13:52:06.057Z"
   },
   {
    "duration": 4,
    "start_time": "2023-04-28T13:52:06.092Z"
   },
   {
    "duration": 31,
    "start_time": "2023-04-28T13:52:06.097Z"
   },
   {
    "duration": 25,
    "start_time": "2023-04-28T13:52:06.129Z"
   },
   {
    "duration": 4,
    "start_time": "2023-04-28T13:52:06.156Z"
   },
   {
    "duration": 170,
    "start_time": "2023-04-28T13:52:06.161Z"
   },
   {
    "duration": 11,
    "start_time": "2023-04-28T13:52:06.333Z"
   },
   {
    "duration": 25,
    "start_time": "2023-04-28T13:52:06.346Z"
   },
   {
    "duration": 3,
    "start_time": "2023-04-28T13:52:06.372Z"
   },
   {
    "duration": 73,
    "start_time": "2023-04-28T13:52:06.377Z"
   },
   {
    "duration": 3,
    "start_time": "2023-04-28T13:52:06.452Z"
   },
   {
    "duration": 13,
    "start_time": "2023-04-28T13:52:06.456Z"
   },
   {
    "duration": 26,
    "start_time": "2023-04-28T13:52:06.470Z"
   },
   {
    "duration": 3,
    "start_time": "2023-04-28T13:52:06.497Z"
   },
   {
    "duration": 6,
    "start_time": "2023-04-28T13:52:06.502Z"
   },
   {
    "duration": 797,
    "start_time": "2023-04-28T13:52:06.509Z"
   },
   {
    "duration": 13,
    "start_time": "2023-04-28T13:52:07.307Z"
   },
   {
    "duration": 10,
    "start_time": "2023-04-28T13:52:07.321Z"
   },
   {
    "duration": 8864,
    "start_time": "2023-04-28T13:52:07.333Z"
   },
   {
    "duration": 91,
    "start_time": "2023-04-28T13:52:16.199Z"
   },
   {
    "duration": 1401,
    "start_time": "2023-04-28T14:05:03.734Z"
   },
   {
    "duration": 814,
    "start_time": "2023-04-28T14:05:05.137Z"
   },
   {
    "duration": 17,
    "start_time": "2023-04-28T14:05:05.956Z"
   },
   {
    "duration": 19,
    "start_time": "2023-04-28T14:05:05.975Z"
   },
   {
    "duration": 143,
    "start_time": "2023-04-28T14:05:05.996Z"
   },
   {
    "duration": 442,
    "start_time": "2023-04-28T14:05:06.141Z"
   },
   {
    "duration": 453,
    "start_time": "2023-04-28T14:05:06.585Z"
   },
   {
    "duration": 458,
    "start_time": "2023-04-28T14:05:07.039Z"
   },
   {
    "duration": 153,
    "start_time": "2023-04-28T14:05:07.498Z"
   },
   {
    "duration": 17,
    "start_time": "2023-04-28T14:05:07.652Z"
   },
   {
    "duration": 52,
    "start_time": "2023-04-28T14:05:07.671Z"
   },
   {
    "duration": 19,
    "start_time": "2023-04-28T14:05:07.724Z"
   },
   {
    "duration": 42,
    "start_time": "2023-04-28T14:05:07.745Z"
   },
   {
    "duration": 18,
    "start_time": "2023-04-28T14:05:07.790Z"
   },
   {
    "duration": 53,
    "start_time": "2023-04-28T14:05:07.810Z"
   },
   {
    "duration": 37,
    "start_time": "2023-04-28T14:05:07.865Z"
   },
   {
    "duration": 86,
    "start_time": "2023-04-28T14:05:07.904Z"
   },
   {
    "duration": 4,
    "start_time": "2023-04-28T14:05:07.992Z"
   },
   {
    "duration": 49,
    "start_time": "2023-04-28T14:05:07.997Z"
   },
   {
    "duration": 10,
    "start_time": "2023-04-28T14:05:08.048Z"
   },
   {
    "duration": 7,
    "start_time": "2023-04-28T14:05:08.060Z"
   },
   {
    "duration": 58,
    "start_time": "2023-04-28T14:05:08.069Z"
   },
   {
    "duration": 29,
    "start_time": "2023-04-28T14:05:08.129Z"
   },
   {
    "duration": 8,
    "start_time": "2023-04-28T14:05:08.160Z"
   },
   {
    "duration": 4,
    "start_time": "2023-04-28T14:05:08.169Z"
   },
   {
    "duration": 31,
    "start_time": "2023-04-28T14:05:08.174Z"
   },
   {
    "duration": 38,
    "start_time": "2023-04-28T14:05:08.217Z"
   },
   {
    "duration": 30,
    "start_time": "2023-04-28T14:05:08.257Z"
   },
   {
    "duration": 246,
    "start_time": "2023-04-28T14:05:08.288Z"
   },
   {
    "duration": 146,
    "start_time": "2023-04-28T14:05:08.536Z"
   },
   {
    "duration": 10,
    "start_time": "2023-04-28T14:05:08.684Z"
   },
   {
    "duration": 10,
    "start_time": "2023-04-28T14:05:08.695Z"
   },
   {
    "duration": 32,
    "start_time": "2023-04-28T14:05:08.707Z"
   },
   {
    "duration": 3,
    "start_time": "2023-04-28T14:05:08.741Z"
   },
   {
    "duration": 24,
    "start_time": "2023-04-28T14:05:08.745Z"
   },
   {
    "duration": 41,
    "start_time": "2023-04-28T14:05:08.771Z"
   },
   {
    "duration": 9,
    "start_time": "2023-04-28T14:05:08.813Z"
   },
   {
    "duration": 156,
    "start_time": "2023-04-28T14:05:08.824Z"
   },
   {
    "duration": 13,
    "start_time": "2023-04-28T14:05:08.981Z"
   },
   {
    "duration": 36,
    "start_time": "2023-04-28T14:05:08.996Z"
   },
   {
    "duration": 4,
    "start_time": "2023-04-28T14:05:09.036Z"
   },
   {
    "duration": 65,
    "start_time": "2023-04-28T14:05:09.042Z"
   },
   {
    "duration": 20,
    "start_time": "2023-04-28T14:05:09.109Z"
   },
   {
    "duration": 4,
    "start_time": "2023-04-28T14:05:09.130Z"
   },
   {
    "duration": 33,
    "start_time": "2023-04-28T14:05:09.136Z"
   },
   {
    "duration": 3,
    "start_time": "2023-04-28T14:05:09.171Z"
   },
   {
    "duration": 5,
    "start_time": "2023-04-28T14:05:09.176Z"
   },
   {
    "duration": 788,
    "start_time": "2023-04-28T14:05:09.183Z"
   },
   {
    "duration": 11,
    "start_time": "2023-04-28T14:05:09.973Z"
   },
   {
    "duration": 4,
    "start_time": "2023-04-28T14:05:09.985Z"
   },
   {
    "duration": 8990,
    "start_time": "2023-04-28T14:05:09.990Z"
   },
   {
    "duration": 91,
    "start_time": "2023-04-28T14:05:18.981Z"
   },
   {
    "duration": 830,
    "start_time": "2023-04-28T14:15:53.607Z"
   },
   {
    "duration": 17,
    "start_time": "2023-04-28T14:15:54.439Z"
   },
   {
    "duration": 14,
    "start_time": "2023-04-28T14:15:54.457Z"
   },
   {
    "duration": 140,
    "start_time": "2023-04-28T14:15:54.473Z"
   },
   {
    "duration": 431,
    "start_time": "2023-04-28T14:15:54.626Z"
   },
   {
    "duration": 475,
    "start_time": "2023-04-28T14:15:55.058Z"
   },
   {
    "duration": 428,
    "start_time": "2023-04-28T14:15:55.535Z"
   },
   {
    "duration": 115,
    "start_time": "2023-04-28T14:15:55.964Z"
   },
   {
    "duration": 15,
    "start_time": "2023-04-28T14:15:56.081Z"
   },
   {
    "duration": 58,
    "start_time": "2023-04-28T14:15:56.098Z"
   },
   {
    "duration": 15,
    "start_time": "2023-04-28T14:15:56.157Z"
   },
   {
    "duration": 52,
    "start_time": "2023-04-28T14:15:56.174Z"
   },
   {
    "duration": 16,
    "start_time": "2023-04-28T14:15:56.231Z"
   },
   {
    "duration": 36,
    "start_time": "2023-04-28T14:15:56.248Z"
   },
   {
    "duration": 48,
    "start_time": "2023-04-28T14:15:56.286Z"
   },
   {
    "duration": 71,
    "start_time": "2023-04-28T14:15:56.336Z"
   },
   {
    "duration": 20,
    "start_time": "2023-04-28T14:15:56.408Z"
   },
   {
    "duration": 30,
    "start_time": "2023-04-28T14:15:56.431Z"
   },
   {
    "duration": 23,
    "start_time": "2023-04-28T14:15:56.462Z"
   },
   {
    "duration": 6,
    "start_time": "2023-04-28T14:15:56.487Z"
   },
   {
    "duration": 48,
    "start_time": "2023-04-28T14:15:56.494Z"
   },
   {
    "duration": 31,
    "start_time": "2023-04-28T14:15:56.544Z"
   },
   {
    "duration": 9,
    "start_time": "2023-04-28T14:15:56.577Z"
   },
   {
    "duration": 4,
    "start_time": "2023-04-28T14:15:56.588Z"
   },
   {
    "duration": 56,
    "start_time": "2023-04-28T14:15:56.594Z"
   },
   {
    "duration": 33,
    "start_time": "2023-04-28T14:15:56.652Z"
   },
   {
    "duration": 50,
    "start_time": "2023-04-28T14:15:56.687Z"
   },
   {
    "duration": 216,
    "start_time": "2023-04-28T14:15:56.739Z"
   },
   {
    "duration": 144,
    "start_time": "2023-04-28T14:15:56.956Z"
   },
   {
    "duration": 27,
    "start_time": "2023-04-28T14:15:57.101Z"
   },
   {
    "duration": 5,
    "start_time": "2023-04-28T14:15:57.129Z"
   },
   {
    "duration": 30,
    "start_time": "2023-04-28T14:15:57.135Z"
   },
   {
    "duration": 3,
    "start_time": "2023-04-28T14:15:57.167Z"
   },
   {
    "duration": 21,
    "start_time": "2023-04-28T14:15:57.172Z"
   },
   {
    "duration": 38,
    "start_time": "2023-04-28T14:15:57.194Z"
   },
   {
    "duration": 4,
    "start_time": "2023-04-28T14:15:57.234Z"
   },
   {
    "duration": 178,
    "start_time": "2023-04-28T14:15:57.239Z"
   },
   {
    "duration": 30,
    "start_time": "2023-04-28T14:15:57.419Z"
   },
   {
    "duration": 22,
    "start_time": "2023-04-28T14:15:57.452Z"
   },
   {
    "duration": 4,
    "start_time": "2023-04-28T14:15:57.478Z"
   },
   {
    "duration": 78,
    "start_time": "2023-04-28T14:15:57.483Z"
   },
   {
    "duration": 4,
    "start_time": "2023-04-28T14:15:57.563Z"
   },
   {
    "duration": 10,
    "start_time": "2023-04-28T14:15:57.568Z"
   },
   {
    "duration": 29,
    "start_time": "2023-04-28T14:15:57.579Z"
   },
   {
    "duration": 21,
    "start_time": "2023-04-28T14:15:57.609Z"
   },
   {
    "duration": 4,
    "start_time": "2023-04-28T14:15:57.636Z"
   },
   {
    "duration": 802,
    "start_time": "2023-04-28T14:15:57.641Z"
   },
   {
    "duration": 10,
    "start_time": "2023-04-28T14:15:58.445Z"
   },
   {
    "duration": 3,
    "start_time": "2023-04-28T14:15:58.457Z"
   },
   {
    "duration": 9300,
    "start_time": "2023-04-28T14:15:58.461Z"
   },
   {
    "duration": 83,
    "start_time": "2023-04-28T14:16:07.763Z"
   },
   {
    "duration": 1416,
    "start_time": "2023-04-28T14:23:05.091Z"
   },
   {
    "duration": 851,
    "start_time": "2023-04-28T14:23:06.509Z"
   },
   {
    "duration": 20,
    "start_time": "2023-04-28T14:23:07.362Z"
   },
   {
    "duration": 4,
    "start_time": "2023-04-28T14:23:07.384Z"
   },
   {
    "duration": 141,
    "start_time": "2023-04-28T14:23:07.390Z"
   },
   {
    "duration": 447,
    "start_time": "2023-04-28T14:23:07.533Z"
   },
   {
    "duration": 487,
    "start_time": "2023-04-28T14:23:07.981Z"
   },
   {
    "duration": 437,
    "start_time": "2023-04-28T14:23:08.469Z"
   },
   {
    "duration": 125,
    "start_time": "2023-04-28T14:23:08.907Z"
   },
   {
    "duration": 17,
    "start_time": "2023-04-28T14:23:09.034Z"
   },
   {
    "duration": 46,
    "start_time": "2023-04-28T14:23:09.053Z"
   },
   {
    "duration": 29,
    "start_time": "2023-04-28T14:23:09.101Z"
   },
   {
    "duration": 32,
    "start_time": "2023-04-28T14:23:09.132Z"
   },
   {
    "duration": 17,
    "start_time": "2023-04-28T14:23:09.167Z"
   },
   {
    "duration": 53,
    "start_time": "2023-04-28T14:23:09.186Z"
   },
   {
    "duration": 38,
    "start_time": "2023-04-28T14:23:09.240Z"
   },
   {
    "duration": 83,
    "start_time": "2023-04-28T14:23:09.279Z"
   },
   {
    "duration": 4,
    "start_time": "2023-04-28T14:23:09.364Z"
   },
   {
    "duration": 33,
    "start_time": "2023-04-28T14:23:09.369Z"
   },
   {
    "duration": 29,
    "start_time": "2023-04-28T14:23:09.403Z"
   },
   {
    "duration": 6,
    "start_time": "2023-04-28T14:23:09.433Z"
   },
   {
    "duration": 35,
    "start_time": "2023-04-28T14:23:09.440Z"
   },
   {
    "duration": 30,
    "start_time": "2023-04-28T14:23:09.477Z"
   },
   {
    "duration": 24,
    "start_time": "2023-04-28T14:23:09.508Z"
   },
   {
    "duration": 4,
    "start_time": "2023-04-28T14:23:09.533Z"
   },
   {
    "duration": 38,
    "start_time": "2023-04-28T14:23:09.538Z"
   },
   {
    "duration": 53,
    "start_time": "2023-04-28T14:23:09.578Z"
   },
   {
    "duration": 28,
    "start_time": "2023-04-28T14:23:09.633Z"
   },
   {
    "duration": 260,
    "start_time": "2023-04-28T14:23:09.662Z"
   },
   {
    "duration": 139,
    "start_time": "2023-04-28T14:23:09.924Z"
   },
   {
    "duration": 11,
    "start_time": "2023-04-28T14:23:10.065Z"
   },
   {
    "duration": 34,
    "start_time": "2023-04-28T14:23:10.078Z"
   },
   {
    "duration": 28,
    "start_time": "2023-04-28T14:23:10.113Z"
   },
   {
    "duration": 4,
    "start_time": "2023-04-28T14:23:10.142Z"
   },
   {
    "duration": 68,
    "start_time": "2023-04-28T14:23:10.148Z"
   },
   {
    "duration": 27,
    "start_time": "2023-04-28T14:23:10.218Z"
   },
   {
    "duration": 3,
    "start_time": "2023-04-28T14:23:10.247Z"
   },
   {
    "duration": 222,
    "start_time": "2023-04-28T14:23:10.252Z"
   },
   {
    "duration": 12,
    "start_time": "2023-04-28T14:23:10.475Z"
   },
   {
    "duration": 42,
    "start_time": "2023-04-28T14:23:10.488Z"
   },
   {
    "duration": 3,
    "start_time": "2023-04-28T14:23:10.535Z"
   },
   {
    "duration": 76,
    "start_time": "2023-04-28T14:23:10.540Z"
   },
   {
    "duration": 12,
    "start_time": "2023-04-28T14:23:10.617Z"
   },
   {
    "duration": 8,
    "start_time": "2023-04-28T14:23:10.631Z"
   },
   {
    "duration": 34,
    "start_time": "2023-04-28T14:23:10.641Z"
   },
   {
    "duration": 4,
    "start_time": "2023-04-28T14:23:10.676Z"
   },
   {
    "duration": 4,
    "start_time": "2023-04-28T14:23:10.682Z"
   },
   {
    "duration": 826,
    "start_time": "2023-04-28T14:23:10.687Z"
   },
   {
    "duration": 14,
    "start_time": "2023-04-28T14:23:11.515Z"
   },
   {
    "duration": 4,
    "start_time": "2023-04-28T14:23:11.530Z"
   },
   {
    "duration": 9098,
    "start_time": "2023-04-28T14:23:11.535Z"
   },
   {
    "duration": 81,
    "start_time": "2023-04-28T14:23:20.634Z"
   },
   {
    "duration": 1381,
    "start_time": "2023-04-28T14:48:35.779Z"
   },
   {
    "duration": 831,
    "start_time": "2023-04-28T14:48:37.162Z"
   },
   {
    "duration": 34,
    "start_time": "2023-04-28T14:48:37.995Z"
   },
   {
    "duration": 5,
    "start_time": "2023-04-28T14:48:38.030Z"
   },
   {
    "duration": 127,
    "start_time": "2023-04-28T14:48:38.037Z"
   },
   {
    "duration": 437,
    "start_time": "2023-04-28T14:48:38.166Z"
   },
   {
    "duration": 465,
    "start_time": "2023-04-28T14:48:38.605Z"
   },
   {
    "duration": 436,
    "start_time": "2023-04-28T14:48:39.072Z"
   },
   {
    "duration": 126,
    "start_time": "2023-04-28T14:48:39.510Z"
   },
   {
    "duration": 16,
    "start_time": "2023-04-28T14:48:39.637Z"
   },
   {
    "duration": 35,
    "start_time": "2023-04-28T14:48:39.655Z"
   },
   {
    "duration": 36,
    "start_time": "2023-04-28T14:48:39.691Z"
   },
   {
    "duration": 32,
    "start_time": "2023-04-28T14:48:39.729Z"
   },
   {
    "duration": 16,
    "start_time": "2023-04-28T14:48:39.764Z"
   },
   {
    "duration": 54,
    "start_time": "2023-04-28T14:48:39.782Z"
   },
   {
    "duration": 35,
    "start_time": "2023-04-28T14:48:39.838Z"
   },
   {
    "duration": 81,
    "start_time": "2023-04-28T14:48:39.874Z"
   },
   {
    "duration": 4,
    "start_time": "2023-04-28T14:48:39.957Z"
   },
   {
    "duration": 31,
    "start_time": "2023-04-28T14:48:39.962Z"
   },
   {
    "duration": 38,
    "start_time": "2023-04-28T14:48:39.995Z"
   },
   {
    "duration": 6,
    "start_time": "2023-04-28T14:48:40.035Z"
   },
   {
    "duration": 57,
    "start_time": "2023-04-28T14:48:40.042Z"
   },
   {
    "duration": 39,
    "start_time": "2023-04-28T14:48:40.101Z"
   },
   {
    "duration": 8,
    "start_time": "2023-04-28T14:48:40.141Z"
   },
   {
    "duration": 11,
    "start_time": "2023-04-28T14:48:40.150Z"
   },
   {
    "duration": 36,
    "start_time": "2023-04-28T14:48:40.162Z"
   },
   {
    "duration": 44,
    "start_time": "2023-04-28T14:48:40.199Z"
   },
   {
    "duration": 27,
    "start_time": "2023-04-28T14:48:40.245Z"
   },
   {
    "duration": 223,
    "start_time": "2023-04-28T14:48:40.274Z"
   },
   {
    "duration": 148,
    "start_time": "2023-04-28T14:48:40.499Z"
   },
   {
    "duration": 10,
    "start_time": "2023-04-28T14:48:40.649Z"
   },
   {
    "duration": 4,
    "start_time": "2023-04-28T14:48:40.661Z"
   },
   {
    "duration": 30,
    "start_time": "2023-04-28T14:48:40.666Z"
   },
   {
    "duration": 12,
    "start_time": "2023-04-28T14:48:40.722Z"
   },
   {
    "duration": 25,
    "start_time": "2023-04-28T14:48:40.736Z"
   },
   {
    "duration": 24,
    "start_time": "2023-04-28T14:48:40.763Z"
   },
   {
    "duration": 5,
    "start_time": "2023-04-28T14:48:40.788Z"
   },
   {
    "duration": 168,
    "start_time": "2023-04-28T14:48:40.795Z"
   },
   {
    "duration": 12,
    "start_time": "2023-04-28T14:48:40.964Z"
   },
   {
    "duration": 37,
    "start_time": "2023-04-28T14:48:40.977Z"
   },
   {
    "duration": 11,
    "start_time": "2023-04-28T14:48:41.023Z"
   },
   {
    "duration": 59,
    "start_time": "2023-04-28T14:48:41.036Z"
   },
   {
    "duration": 4,
    "start_time": "2023-04-28T14:48:41.096Z"
   },
   {
    "duration": 6,
    "start_time": "2023-04-28T14:48:41.101Z"
   },
   {
    "duration": 34,
    "start_time": "2023-04-28T14:48:41.119Z"
   },
   {
    "duration": 3,
    "start_time": "2023-04-28T14:48:41.155Z"
   },
   {
    "duration": 11,
    "start_time": "2023-04-28T14:48:41.159Z"
   },
   {
    "duration": 851,
    "start_time": "2023-04-28T14:48:41.171Z"
   },
   {
    "duration": 14,
    "start_time": "2023-04-28T14:48:42.031Z"
   },
   {
    "duration": 23,
    "start_time": "2023-04-28T14:48:42.047Z"
   },
   {
    "duration": 9815,
    "start_time": "2023-04-28T14:48:42.072Z"
   },
   {
    "duration": 86,
    "start_time": "2023-04-28T14:48:51.889Z"
   },
   {
    "duration": 1412,
    "start_time": "2023-04-28T14:51:21.250Z"
   },
   {
    "duration": 830,
    "start_time": "2023-04-28T14:51:22.663Z"
   },
   {
    "duration": 35,
    "start_time": "2023-04-28T14:51:23.495Z"
   },
   {
    "duration": 4,
    "start_time": "2023-04-28T14:51:23.536Z"
   },
   {
    "duration": 139,
    "start_time": "2023-04-28T14:51:23.542Z"
   },
   {
    "duration": 495,
    "start_time": "2023-04-28T14:51:23.683Z"
   },
   {
    "duration": 494,
    "start_time": "2023-04-28T14:51:24.180Z"
   },
   {
    "duration": 428,
    "start_time": "2023-04-28T14:51:24.676Z"
   },
   {
    "duration": 127,
    "start_time": "2023-04-28T14:51:25.105Z"
   },
   {
    "duration": 15,
    "start_time": "2023-04-28T14:51:25.235Z"
   },
   {
    "duration": 34,
    "start_time": "2023-04-28T14:51:25.252Z"
   },
   {
    "duration": 15,
    "start_time": "2023-04-28T14:51:25.287Z"
   },
   {
    "duration": 53,
    "start_time": "2023-04-28T14:51:25.304Z"
   },
   {
    "duration": 16,
    "start_time": "2023-04-28T14:51:25.361Z"
   },
   {
    "duration": 60,
    "start_time": "2023-04-28T14:51:25.379Z"
   },
   {
    "duration": 37,
    "start_time": "2023-04-28T14:51:25.441Z"
   },
   {
    "duration": 105,
    "start_time": "2023-04-28T14:51:25.479Z"
   },
   {
    "duration": 4,
    "start_time": "2023-04-28T14:51:25.586Z"
   },
   {
    "duration": 55,
    "start_time": "2023-04-28T14:51:25.591Z"
   },
   {
    "duration": 8,
    "start_time": "2023-04-28T14:51:25.647Z"
   },
   {
    "duration": 5,
    "start_time": "2023-04-28T14:51:25.657Z"
   },
   {
    "duration": 35,
    "start_time": "2023-04-28T14:51:25.664Z"
   },
   {
    "duration": 43,
    "start_time": "2023-04-28T14:51:25.700Z"
   },
   {
    "duration": 9,
    "start_time": "2023-04-28T14:51:25.745Z"
   },
   {
    "duration": 5,
    "start_time": "2023-04-28T14:51:25.756Z"
   },
   {
    "duration": 28,
    "start_time": "2023-04-28T14:51:25.763Z"
   },
   {
    "duration": 61,
    "start_time": "2023-04-28T14:51:25.793Z"
   },
   {
    "duration": 28,
    "start_time": "2023-04-28T14:51:25.856Z"
   },
   {
    "duration": 236,
    "start_time": "2023-04-28T14:51:25.886Z"
   },
   {
    "duration": 151,
    "start_time": "2023-04-28T14:51:26.124Z"
   },
   {
    "duration": 11,
    "start_time": "2023-04-28T14:51:26.277Z"
   },
   {
    "duration": 4,
    "start_time": "2023-04-28T14:51:26.290Z"
   },
   {
    "duration": 45,
    "start_time": "2023-04-28T14:51:26.296Z"
   },
   {
    "duration": 4,
    "start_time": "2023-04-28T14:51:26.343Z"
   },
   {
    "duration": 20,
    "start_time": "2023-04-28T14:51:26.348Z"
   },
   {
    "duration": 23,
    "start_time": "2023-04-28T14:51:26.369Z"
   },
   {
    "duration": 4,
    "start_time": "2023-04-28T14:51:26.393Z"
   },
   {
    "duration": 189,
    "start_time": "2023-04-28T14:51:26.399Z"
   },
   {
    "duration": 14,
    "start_time": "2023-04-28T14:51:26.591Z"
   },
   {
    "duration": 24,
    "start_time": "2023-04-28T14:51:26.618Z"
   },
   {
    "duration": 4,
    "start_time": "2023-04-28T14:51:26.647Z"
   },
   {
    "duration": 86,
    "start_time": "2023-04-28T14:51:26.653Z"
   },
   {
    "duration": 4,
    "start_time": "2023-04-28T14:51:26.740Z"
   },
   {
    "duration": 5,
    "start_time": "2023-04-28T14:51:26.746Z"
   },
   {
    "duration": 22,
    "start_time": "2023-04-28T14:51:26.753Z"
   },
   {
    "duration": 4,
    "start_time": "2023-04-28T14:51:26.777Z"
   },
   {
    "duration": 4,
    "start_time": "2023-04-28T14:51:26.782Z"
   },
   {
    "duration": 848,
    "start_time": "2023-04-28T14:51:26.826Z"
   },
   {
    "duration": 11,
    "start_time": "2023-04-28T14:51:27.676Z"
   },
   {
    "duration": 3,
    "start_time": "2023-04-28T14:51:27.688Z"
   },
   {
    "duration": 9223,
    "start_time": "2023-04-28T14:51:27.693Z"
   },
   {
    "duration": 127,
    "start_time": "2023-04-28T14:51:36.928Z"
   },
   {
    "duration": 1456,
    "start_time": "2023-04-28T15:02:55.908Z"
   },
   {
    "duration": 821,
    "start_time": "2023-04-28T15:02:57.366Z"
   },
   {
    "duration": 19,
    "start_time": "2023-04-28T15:02:58.189Z"
   },
   {
    "duration": 11,
    "start_time": "2023-04-28T15:02:58.223Z"
   },
   {
    "duration": 143,
    "start_time": "2023-04-28T15:02:58.236Z"
   },
   {
    "duration": 445,
    "start_time": "2023-04-28T15:02:58.381Z"
   },
   {
    "duration": 440,
    "start_time": "2023-04-28T15:02:58.828Z"
   },
   {
    "duration": 413,
    "start_time": "2023-04-28T15:02:59.269Z"
   },
   {
    "duration": 118,
    "start_time": "2023-04-28T15:02:59.683Z"
   },
   {
    "duration": 33,
    "start_time": "2023-04-28T15:02:59.802Z"
   },
   {
    "duration": 62,
    "start_time": "2023-04-28T15:02:59.837Z"
   },
   {
    "duration": 35,
    "start_time": "2023-04-28T15:02:59.901Z"
   },
   {
    "duration": 36,
    "start_time": "2023-04-28T15:02:59.938Z"
   },
   {
    "duration": 44,
    "start_time": "2023-04-28T15:02:59.978Z"
   },
   {
    "duration": 59,
    "start_time": "2023-04-28T15:03:00.024Z"
   },
   {
    "duration": 65,
    "start_time": "2023-04-28T15:03:00.085Z"
   },
   {
    "duration": 87,
    "start_time": "2023-04-28T15:03:00.152Z"
   },
   {
    "duration": 20,
    "start_time": "2023-04-28T15:03:00.240Z"
   },
   {
    "duration": 44,
    "start_time": "2023-04-28T15:03:00.261Z"
   },
   {
    "duration": 29,
    "start_time": "2023-04-28T15:03:00.306Z"
   },
   {
    "duration": 32,
    "start_time": "2023-04-28T15:03:00.337Z"
   },
   {
    "duration": 53,
    "start_time": "2023-04-28T15:03:00.371Z"
   },
   {
    "duration": 30,
    "start_time": "2023-04-28T15:03:00.426Z"
   },
   {
    "duration": 8,
    "start_time": "2023-04-28T15:03:00.458Z"
   },
   {
    "duration": 23,
    "start_time": "2023-04-28T15:03:00.468Z"
   },
   {
    "duration": 61,
    "start_time": "2023-04-28T15:03:00.492Z"
   },
   {
    "duration": 67,
    "start_time": "2023-04-28T15:03:00.555Z"
   },
   {
    "duration": 52,
    "start_time": "2023-04-28T15:03:00.630Z"
   },
   {
    "duration": 254,
    "start_time": "2023-04-28T15:03:00.684Z"
   },
   {
    "duration": 144,
    "start_time": "2023-04-28T15:03:00.940Z"
   },
   {
    "duration": 10,
    "start_time": "2023-04-28T15:03:01.086Z"
   },
   {
    "duration": 37,
    "start_time": "2023-04-28T15:03:01.097Z"
   },
   {
    "duration": 57,
    "start_time": "2023-04-28T15:03:01.135Z"
   },
   {
    "duration": 41,
    "start_time": "2023-04-28T15:03:01.194Z"
   },
   {
    "duration": 52,
    "start_time": "2023-04-28T15:03:01.236Z"
   },
   {
    "duration": 59,
    "start_time": "2023-04-28T15:03:01.290Z"
   },
   {
    "duration": 16,
    "start_time": "2023-04-28T15:03:01.350Z"
   },
   {
    "duration": 174,
    "start_time": "2023-04-28T15:03:01.367Z"
   },
   {
    "duration": 13,
    "start_time": "2023-04-28T15:03:01.542Z"
   },
   {
    "duration": 51,
    "start_time": "2023-04-28T15:03:01.556Z"
   },
   {
    "duration": 56,
    "start_time": "2023-04-28T15:03:01.611Z"
   },
   {
    "duration": 89,
    "start_time": "2023-04-28T15:03:01.668Z"
   },
   {
    "duration": 3,
    "start_time": "2023-04-28T15:03:01.759Z"
   },
   {
    "duration": 55,
    "start_time": "2023-04-28T15:03:01.764Z"
   },
   {
    "duration": 47,
    "start_time": "2023-04-28T15:03:01.820Z"
   },
   {
    "duration": 30,
    "start_time": "2023-04-28T15:03:01.868Z"
   },
   {
    "duration": 61,
    "start_time": "2023-04-28T15:03:01.900Z"
   },
   {
    "duration": 822,
    "start_time": "2023-04-28T15:03:01.963Z"
   },
   {
    "duration": 9,
    "start_time": "2023-04-28T15:03:02.787Z"
   },
   {
    "duration": 10,
    "start_time": "2023-04-28T15:03:02.798Z"
   },
   {
    "duration": 9085,
    "start_time": "2023-04-28T15:03:02.810Z"
   },
   {
    "duration": 89,
    "start_time": "2023-04-28T15:03:11.897Z"
   },
   {
    "duration": 1348,
    "start_time": "2023-04-28T15:05:56.670Z"
   },
   {
    "duration": 807,
    "start_time": "2023-04-28T15:05:58.032Z"
   },
   {
    "duration": 18,
    "start_time": "2023-04-28T15:05:58.841Z"
   },
   {
    "duration": 3,
    "start_time": "2023-04-28T15:05:58.861Z"
   },
   {
    "duration": 131,
    "start_time": "2023-04-28T15:05:58.866Z"
   },
   {
    "duration": 457,
    "start_time": "2023-04-28T15:05:58.998Z"
   },
   {
    "duration": 474,
    "start_time": "2023-04-28T15:05:59.457Z"
   },
   {
    "duration": 441,
    "start_time": "2023-04-28T15:05:59.932Z"
   },
   {
    "duration": 115,
    "start_time": "2023-04-28T15:06:00.374Z"
   },
   {
    "duration": 37,
    "start_time": "2023-04-28T15:06:00.490Z"
   },
   {
    "duration": 76,
    "start_time": "2023-04-28T15:06:00.529Z"
   },
   {
    "duration": 48,
    "start_time": "2023-04-28T15:06:00.607Z"
   },
   {
    "duration": 71,
    "start_time": "2023-04-28T15:06:00.657Z"
   },
   {
    "duration": 19,
    "start_time": "2023-04-28T15:06:00.732Z"
   },
   {
    "duration": 61,
    "start_time": "2023-04-28T15:06:00.753Z"
   },
   {
    "duration": 63,
    "start_time": "2023-04-28T15:06:00.815Z"
   },
   {
    "duration": 100,
    "start_time": "2023-04-28T15:06:00.880Z"
   },
   {
    "duration": 46,
    "start_time": "2023-04-28T15:06:00.982Z"
   },
   {
    "duration": 64,
    "start_time": "2023-04-28T15:06:01.030Z"
   },
   {
    "duration": 28,
    "start_time": "2023-04-28T15:06:01.096Z"
   },
   {
    "duration": 31,
    "start_time": "2023-04-28T15:06:01.125Z"
   },
   {
    "duration": 86,
    "start_time": "2023-04-28T15:06:01.158Z"
   },
   {
    "duration": 31,
    "start_time": "2023-04-28T15:06:01.246Z"
   },
   {
    "duration": 20,
    "start_time": "2023-04-28T15:06:01.279Z"
   },
   {
    "duration": 34,
    "start_time": "2023-04-28T15:06:01.301Z"
   },
   {
    "duration": 57,
    "start_time": "2023-04-28T15:06:01.336Z"
   },
   {
    "duration": 61,
    "start_time": "2023-04-28T15:06:01.395Z"
   },
   {
    "duration": 48,
    "start_time": "2023-04-28T15:06:01.458Z"
   },
   {
    "duration": 255,
    "start_time": "2023-04-28T15:06:01.507Z"
   },
   {
    "duration": 145,
    "start_time": "2023-04-28T15:06:01.763Z"
   },
   {
    "duration": 20,
    "start_time": "2023-04-28T15:06:01.910Z"
   },
   {
    "duration": 31,
    "start_time": "2023-04-28T15:06:01.932Z"
   },
   {
    "duration": 37,
    "start_time": "2023-04-28T15:06:01.965Z"
   },
   {
    "duration": 4,
    "start_time": "2023-04-28T15:06:02.003Z"
   },
   {
    "duration": 36,
    "start_time": "2023-04-28T15:06:02.008Z"
   },
   {
    "duration": 34,
    "start_time": "2023-04-28T15:06:02.045Z"
   },
   {
    "duration": 4,
    "start_time": "2023-04-28T15:06:02.081Z"
   },
   {
    "duration": 187,
    "start_time": "2023-04-28T15:06:02.086Z"
   },
   {
    "duration": 13,
    "start_time": "2023-04-28T15:06:02.275Z"
   },
   {
    "duration": 39,
    "start_time": "2023-04-28T15:06:02.290Z"
   },
   {
    "duration": 4,
    "start_time": "2023-04-28T15:06:02.334Z"
   },
   {
    "duration": 87,
    "start_time": "2023-04-28T15:06:02.339Z"
   },
   {
    "duration": 6,
    "start_time": "2023-04-28T15:06:02.428Z"
   },
   {
    "duration": 8,
    "start_time": "2023-04-28T15:06:02.436Z"
   },
   {
    "duration": 32,
    "start_time": "2023-04-28T15:06:02.445Z"
   },
   {
    "duration": 4,
    "start_time": "2023-04-28T15:06:02.479Z"
   },
   {
    "duration": 9,
    "start_time": "2023-04-28T15:06:02.484Z"
   },
   {
    "duration": 790,
    "start_time": "2023-04-28T15:06:02.495Z"
   },
   {
    "duration": 11,
    "start_time": "2023-04-28T15:06:03.286Z"
   },
   {
    "duration": 16,
    "start_time": "2023-04-28T15:06:03.298Z"
   },
   {
    "duration": 9248,
    "start_time": "2023-04-28T15:06:03.316Z"
   },
   {
    "duration": 84,
    "start_time": "2023-04-28T15:06:12.565Z"
   },
   {
    "duration": 1408,
    "start_time": "2023-04-28T15:07:19.143Z"
   },
   {
    "duration": 811,
    "start_time": "2023-04-28T15:07:20.554Z"
   },
   {
    "duration": 18,
    "start_time": "2023-04-28T15:07:21.367Z"
   },
   {
    "duration": 7,
    "start_time": "2023-04-28T15:07:21.386Z"
   },
   {
    "duration": 144,
    "start_time": "2023-04-28T15:07:21.396Z"
   },
   {
    "duration": 456,
    "start_time": "2023-04-28T15:07:21.541Z"
   },
   {
    "duration": 464,
    "start_time": "2023-04-28T15:07:21.999Z"
   },
   {
    "duration": 419,
    "start_time": "2023-04-28T15:07:22.465Z"
   },
   {
    "duration": 123,
    "start_time": "2023-04-28T15:07:22.885Z"
   },
   {
    "duration": 22,
    "start_time": "2023-04-28T15:07:23.010Z"
   },
   {
    "duration": 42,
    "start_time": "2023-04-28T15:07:23.033Z"
   },
   {
    "duration": 16,
    "start_time": "2023-04-28T15:07:23.077Z"
   },
   {
    "duration": 41,
    "start_time": "2023-04-28T15:07:23.095Z"
   },
   {
    "duration": 21,
    "start_time": "2023-04-28T15:07:23.140Z"
   },
   {
    "duration": 35,
    "start_time": "2023-04-28T15:07:23.164Z"
   },
   {
    "duration": 52,
    "start_time": "2023-04-28T15:07:23.201Z"
   },
   {
    "duration": 80,
    "start_time": "2023-04-28T15:07:23.255Z"
   },
   {
    "duration": 4,
    "start_time": "2023-04-28T15:07:23.337Z"
   },
   {
    "duration": 32,
    "start_time": "2023-04-28T15:07:23.342Z"
   },
   {
    "duration": 11,
    "start_time": "2023-04-28T15:07:23.376Z"
   },
   {
    "duration": 9,
    "start_time": "2023-04-28T15:07:23.388Z"
   },
   {
    "duration": 42,
    "start_time": "2023-04-28T15:07:23.417Z"
   },
   {
    "duration": 28,
    "start_time": "2023-04-28T15:07:23.461Z"
   },
   {
    "duration": 8,
    "start_time": "2023-04-28T15:07:23.490Z"
   },
   {
    "duration": 3,
    "start_time": "2023-04-28T15:07:23.500Z"
   },
   {
    "duration": 52,
    "start_time": "2023-04-28T15:07:23.504Z"
   },
   {
    "duration": 36,
    "start_time": "2023-04-28T15:07:23.558Z"
   },
   {
    "duration": 47,
    "start_time": "2023-04-28T15:07:23.596Z"
   },
   {
    "duration": 227,
    "start_time": "2023-04-28T15:07:23.645Z"
   },
   {
    "duration": 144,
    "start_time": "2023-04-28T15:07:23.873Z"
   },
   {
    "duration": 10,
    "start_time": "2023-04-28T15:07:24.031Z"
   },
   {
    "duration": 7,
    "start_time": "2023-04-28T15:07:24.043Z"
   },
   {
    "duration": 24,
    "start_time": "2023-04-28T15:07:24.051Z"
   },
   {
    "duration": 4,
    "start_time": "2023-04-28T15:07:24.076Z"
   },
   {
    "duration": 18,
    "start_time": "2023-04-28T15:07:24.081Z"
   },
   {
    "duration": 45,
    "start_time": "2023-04-28T15:07:24.101Z"
   },
   {
    "duration": 4,
    "start_time": "2023-04-28T15:07:24.148Z"
   },
   {
    "duration": 148,
    "start_time": "2023-04-28T15:07:24.153Z"
   },
   {
    "duration": 23,
    "start_time": "2023-04-28T15:07:24.303Z"
   },
   {
    "duration": 21,
    "start_time": "2023-04-28T15:07:24.331Z"
   },
   {
    "duration": 4,
    "start_time": "2023-04-28T15:07:24.356Z"
   },
   {
    "duration": 66,
    "start_time": "2023-04-28T15:07:24.362Z"
   },
   {
    "duration": 4,
    "start_time": "2023-04-28T15:07:24.429Z"
   },
   {
    "duration": 4,
    "start_time": "2023-04-28T15:07:24.435Z"
   },
   {
    "duration": 31,
    "start_time": "2023-04-28T15:07:24.440Z"
   },
   {
    "duration": 3,
    "start_time": "2023-04-28T15:07:24.473Z"
   },
   {
    "duration": 9,
    "start_time": "2023-04-28T15:07:24.478Z"
   },
   {
    "duration": 807,
    "start_time": "2023-04-28T15:07:24.488Z"
   },
   {
    "duration": 10,
    "start_time": "2023-04-28T15:07:25.297Z"
   },
   {
    "duration": 18,
    "start_time": "2023-04-28T15:07:25.309Z"
   },
   {
    "duration": 9029,
    "start_time": "2023-04-28T15:07:25.329Z"
   },
   {
    "duration": 82,
    "start_time": "2023-04-28T15:07:34.360Z"
   },
   {
    "duration": 1393,
    "start_time": "2023-04-28T15:08:45.947Z"
   },
   {
    "duration": 802,
    "start_time": "2023-04-28T15:08:47.342Z"
   },
   {
    "duration": 17,
    "start_time": "2023-04-28T15:08:48.145Z"
   },
   {
    "duration": 20,
    "start_time": "2023-04-28T15:08:48.164Z"
   },
   {
    "duration": 119,
    "start_time": "2023-04-28T15:08:48.186Z"
   },
   {
    "duration": 459,
    "start_time": "2023-04-28T15:08:48.307Z"
   },
   {
    "duration": 466,
    "start_time": "2023-04-28T15:08:48.767Z"
   },
   {
    "duration": 437,
    "start_time": "2023-04-28T15:08:49.234Z"
   },
   {
    "duration": 112,
    "start_time": "2023-04-28T15:08:49.672Z"
   },
   {
    "duration": 17,
    "start_time": "2023-04-28T15:08:49.786Z"
   },
   {
    "duration": 45,
    "start_time": "2023-04-28T15:08:49.805Z"
   },
   {
    "duration": 22,
    "start_time": "2023-04-28T15:08:49.852Z"
   },
   {
    "duration": 32,
    "start_time": "2023-04-28T15:08:49.876Z"
   },
   {
    "duration": 17,
    "start_time": "2023-04-28T15:08:49.919Z"
   },
   {
    "duration": 35,
    "start_time": "2023-04-28T15:08:49.938Z"
   },
   {
    "duration": 51,
    "start_time": "2023-04-28T15:08:49.975Z"
   },
   {
    "duration": 72,
    "start_time": "2023-04-28T15:08:50.028Z"
   },
   {
    "duration": 3,
    "start_time": "2023-04-28T15:08:50.102Z"
   },
   {
    "duration": 31,
    "start_time": "2023-04-28T15:08:50.117Z"
   },
   {
    "duration": 11,
    "start_time": "2023-04-28T15:08:50.150Z"
   },
   {
    "duration": 5,
    "start_time": "2023-04-28T15:08:50.163Z"
   },
   {
    "duration": 57,
    "start_time": "2023-04-28T15:08:50.169Z"
   },
   {
    "duration": 31,
    "start_time": "2023-04-28T15:08:50.227Z"
   },
   {
    "duration": 8,
    "start_time": "2023-04-28T15:08:50.260Z"
   },
   {
    "duration": 4,
    "start_time": "2023-04-28T15:08:50.269Z"
   },
   {
    "duration": 54,
    "start_time": "2023-04-28T15:08:50.274Z"
   },
   {
    "duration": 42,
    "start_time": "2023-04-28T15:08:50.330Z"
   },
   {
    "duration": 42,
    "start_time": "2023-04-28T15:08:50.373Z"
   },
   {
    "duration": 216,
    "start_time": "2023-04-28T15:08:50.417Z"
   },
   {
    "duration": 145,
    "start_time": "2023-04-28T15:08:50.634Z"
   },
   {
    "duration": 10,
    "start_time": "2023-04-28T15:08:50.781Z"
   },
   {
    "duration": 12,
    "start_time": "2023-04-28T15:08:50.793Z"
   },
   {
    "duration": 38,
    "start_time": "2023-04-28T15:08:50.807Z"
   },
   {
    "duration": 4,
    "start_time": "2023-04-28T15:08:50.847Z"
   },
   {
    "duration": 16,
    "start_time": "2023-04-28T15:08:50.852Z"
   },
   {
    "duration": 22,
    "start_time": "2023-04-28T15:08:50.870Z"
   },
   {
    "duration": 24,
    "start_time": "2023-04-28T15:08:50.894Z"
   },
   {
    "duration": 161,
    "start_time": "2023-04-28T15:08:50.920Z"
   },
   {
    "duration": 12,
    "start_time": "2023-04-28T15:08:51.082Z"
   },
   {
    "duration": 36,
    "start_time": "2023-04-28T15:08:51.095Z"
   },
   {
    "duration": 4,
    "start_time": "2023-04-28T15:08:51.135Z"
   },
   {
    "duration": 67,
    "start_time": "2023-04-28T15:08:51.140Z"
   },
   {
    "duration": 3,
    "start_time": "2023-04-28T15:08:51.208Z"
   },
   {
    "duration": 6,
    "start_time": "2023-04-28T15:08:51.213Z"
   },
   {
    "duration": 30,
    "start_time": "2023-04-28T15:08:51.220Z"
   },
   {
    "duration": 4,
    "start_time": "2023-04-28T15:08:51.251Z"
   },
   {
    "duration": 5,
    "start_time": "2023-04-28T15:08:51.256Z"
   },
   {
    "duration": 786,
    "start_time": "2023-04-28T15:08:51.263Z"
   },
   {
    "duration": 10,
    "start_time": "2023-04-28T15:08:52.051Z"
   },
   {
    "duration": 21,
    "start_time": "2023-04-28T15:08:52.062Z"
   },
   {
    "duration": 8714,
    "start_time": "2023-04-28T15:08:52.085Z"
   },
   {
    "duration": 82,
    "start_time": "2023-04-28T15:09:00.800Z"
   },
   {
    "duration": 21036,
    "start_time": "2023-04-28T15:09:00.884Z"
   },
   {
    "duration": 4,
    "start_time": "2023-04-28T15:09:21.922Z"
   },
   {
    "duration": 2289,
    "start_time": "2023-04-28T15:09:21.927Z"
   },
   {
    "duration": 299,
    "start_time": "2023-04-28T15:09:24.219Z"
   },
   {
    "duration": 33,
    "start_time": "2023-04-28T15:09:24.520Z"
   },
   {
    "duration": 65,
    "start_time": "2023-04-28T15:09:24.555Z"
   },
   {
    "duration": 496,
    "start_time": "2023-04-28T15:09:24.622Z"
   },
   {
    "duration": 58166,
    "start_time": "2023-04-28T15:10:04.854Z"
   },
   {
    "duration": 3,
    "start_time": "2023-04-28T15:11:11.494Z"
   },
   {
    "duration": 3264,
    "start_time": "2023-04-28T15:11:13.154Z"
   },
   {
    "duration": 171,
    "start_time": "2023-04-28T15:11:19.354Z"
   },
   {
    "duration": 8604,
    "start_time": "2023-04-28T15:11:32.324Z"
   },
   {
    "duration": 1195,
    "start_time": "2023-04-28T15:11:50.734Z"
   },
   {
    "duration": 1421,
    "start_time": "2023-04-28T15:13:08.501Z"
   },
   {
    "duration": 775,
    "start_time": "2023-04-28T15:13:09.924Z"
   },
   {
    "duration": 22,
    "start_time": "2023-04-28T15:13:10.700Z"
   },
   {
    "duration": 3,
    "start_time": "2023-04-28T15:13:10.724Z"
   },
   {
    "duration": 123,
    "start_time": "2023-04-28T15:13:10.729Z"
   },
   {
    "duration": 427,
    "start_time": "2023-04-28T15:13:10.854Z"
   },
   {
    "duration": 453,
    "start_time": "2023-04-28T15:13:11.282Z"
   },
   {
    "duration": 404,
    "start_time": "2023-04-28T15:13:11.737Z"
   },
   {
    "duration": 110,
    "start_time": "2023-04-28T15:13:12.143Z"
   },
   {
    "duration": 17,
    "start_time": "2023-04-28T15:13:12.255Z"
   },
   {
    "duration": 50,
    "start_time": "2023-04-28T15:13:12.273Z"
   },
   {
    "duration": 15,
    "start_time": "2023-04-28T15:13:12.324Z"
   },
   {
    "duration": 38,
    "start_time": "2023-04-28T15:13:12.341Z"
   },
   {
    "duration": 17,
    "start_time": "2023-04-28T15:13:12.382Z"
   },
   {
    "duration": 47,
    "start_time": "2023-04-28T15:13:12.400Z"
   },
   {
    "duration": 36,
    "start_time": "2023-04-28T15:13:12.449Z"
   },
   {
    "duration": 88,
    "start_time": "2023-04-28T15:13:12.487Z"
   },
   {
    "duration": 4,
    "start_time": "2023-04-28T15:13:12.577Z"
   },
   {
    "duration": 45,
    "start_time": "2023-04-28T15:13:12.583Z"
   },
   {
    "duration": 11,
    "start_time": "2023-04-28T15:13:12.630Z"
   },
   {
    "duration": 5,
    "start_time": "2023-04-28T15:13:12.643Z"
   },
   {
    "duration": 36,
    "start_time": "2023-04-28T15:13:12.650Z"
   },
   {
    "duration": 50,
    "start_time": "2023-04-28T15:13:12.688Z"
   },
   {
    "duration": 7,
    "start_time": "2023-04-28T15:13:12.740Z"
   },
   {
    "duration": 3,
    "start_time": "2023-04-28T15:13:12.749Z"
   },
   {
    "duration": 31,
    "start_time": "2023-04-28T15:13:12.754Z"
   },
   {
    "duration": 49,
    "start_time": "2023-04-28T15:13:12.787Z"
   },
   {
    "duration": 29,
    "start_time": "2023-04-28T15:13:12.837Z"
   },
   {
    "duration": 217,
    "start_time": "2023-04-28T15:13:12.868Z"
   },
   {
    "duration": 143,
    "start_time": "2023-04-28T15:13:13.087Z"
   },
   {
    "duration": 11,
    "start_time": "2023-04-28T15:13:13.232Z"
   },
   {
    "duration": 4,
    "start_time": "2023-04-28T15:13:13.245Z"
   },
   {
    "duration": 24,
    "start_time": "2023-04-28T15:13:13.251Z"
   },
   {
    "duration": 4,
    "start_time": "2023-04-28T15:13:13.277Z"
   },
   {
    "duration": 16,
    "start_time": "2023-04-28T15:13:13.317Z"
   },
   {
    "duration": 32,
    "start_time": "2023-04-28T15:13:13.335Z"
   },
   {
    "duration": 4,
    "start_time": "2023-04-28T15:13:13.369Z"
   },
   {
    "duration": 156,
    "start_time": "2023-04-28T15:13:13.374Z"
   },
   {
    "duration": 12,
    "start_time": "2023-04-28T15:13:13.531Z"
   },
   {
    "duration": 21,
    "start_time": "2023-04-28T15:13:13.545Z"
   },
   {
    "duration": 3,
    "start_time": "2023-04-28T15:13:13.570Z"
   },
   {
    "duration": 79,
    "start_time": "2023-04-28T15:13:13.574Z"
   },
   {
    "duration": 4,
    "start_time": "2023-04-28T15:13:13.655Z"
   },
   {
    "duration": 4,
    "start_time": "2023-04-28T15:13:13.660Z"
   },
   {
    "duration": 26,
    "start_time": "2023-04-28T15:13:13.666Z"
   },
   {
    "duration": 24,
    "start_time": "2023-04-28T15:13:13.694Z"
   },
   {
    "duration": 4,
    "start_time": "2023-04-28T15:13:13.720Z"
   },
   {
    "duration": 792,
    "start_time": "2023-04-28T15:13:13.725Z"
   },
   {
    "duration": 10,
    "start_time": "2023-04-28T15:13:14.519Z"
   },
   {
    "duration": 6,
    "start_time": "2023-04-28T15:13:14.530Z"
   },
   {
    "duration": 8628,
    "start_time": "2023-04-28T15:13:14.537Z"
   },
   {
    "duration": 81,
    "start_time": "2023-04-28T15:13:23.166Z"
   },
   {
    "duration": 103097,
    "start_time": "2023-04-28T15:13:23.248Z"
   },
   {
    "duration": 0,
    "start_time": "2023-04-28T15:15:06.350Z"
   },
   {
    "duration": 0,
    "start_time": "2023-04-28T15:15:06.351Z"
   },
   {
    "duration": 0,
    "start_time": "2023-04-28T15:15:06.352Z"
   },
   {
    "duration": 0,
    "start_time": "2023-04-28T15:15:06.354Z"
   },
   {
    "duration": 0,
    "start_time": "2023-04-28T15:15:06.355Z"
   },
   {
    "duration": 0,
    "start_time": "2023-04-28T15:15:06.356Z"
   },
   {
    "duration": 16845,
    "start_time": "2023-04-28T15:15:11.584Z"
   },
   {
    "duration": 2419,
    "start_time": "2023-04-28T15:15:28.517Z"
   },
   {
    "duration": 50319,
    "start_time": "2023-04-28T15:15:59.415Z"
   },
   {
    "duration": 3281,
    "start_time": "2023-04-28T15:16:49.736Z"
   },
   {
    "duration": 1405,
    "start_time": "2023-04-28T15:17:57.531Z"
   },
   {
    "duration": 800,
    "start_time": "2023-04-28T15:17:58.938Z"
   },
   {
    "duration": 19,
    "start_time": "2023-04-28T15:17:59.739Z"
   },
   {
    "duration": 10,
    "start_time": "2023-04-28T15:17:59.760Z"
   },
   {
    "duration": 135,
    "start_time": "2023-04-28T15:17:59.773Z"
   },
   {
    "duration": 445,
    "start_time": "2023-04-28T15:17:59.910Z"
   },
   {
    "duration": 449,
    "start_time": "2023-04-28T15:18:00.358Z"
   },
   {
    "duration": 427,
    "start_time": "2023-04-28T15:18:00.809Z"
   },
   {
    "duration": 111,
    "start_time": "2023-04-28T15:18:01.238Z"
   },
   {
    "duration": 33,
    "start_time": "2023-04-28T15:18:01.351Z"
   },
   {
    "duration": 96,
    "start_time": "2023-04-28T15:18:01.386Z"
   },
   {
    "duration": 89,
    "start_time": "2023-04-28T15:18:01.484Z"
   },
   {
    "duration": 71,
    "start_time": "2023-04-28T15:18:01.575Z"
   },
   {
    "duration": 102,
    "start_time": "2023-04-28T15:18:01.651Z"
   },
   {
    "duration": 134,
    "start_time": "2023-04-28T15:18:01.754Z"
   },
   {
    "duration": 54,
    "start_time": "2023-04-28T15:18:01.890Z"
   },
   {
    "duration": 103,
    "start_time": "2023-04-28T15:18:01.946Z"
   },
   {
    "duration": 13,
    "start_time": "2023-04-28T15:18:02.051Z"
   },
   {
    "duration": 69,
    "start_time": "2023-04-28T15:18:02.066Z"
   },
   {
    "duration": 39,
    "start_time": "2023-04-28T15:18:02.136Z"
   },
   {
    "duration": 57,
    "start_time": "2023-04-28T15:18:02.177Z"
   },
   {
    "duration": 63,
    "start_time": "2023-04-28T15:18:02.236Z"
   },
   {
    "duration": 31,
    "start_time": "2023-04-28T15:18:02.300Z"
   },
   {
    "duration": 8,
    "start_time": "2023-04-28T15:18:02.332Z"
   },
   {
    "duration": 29,
    "start_time": "2023-04-28T15:18:02.341Z"
   },
   {
    "duration": 48,
    "start_time": "2023-04-28T15:18:02.372Z"
   },
   {
    "duration": 35,
    "start_time": "2023-04-28T15:18:02.421Z"
   },
   {
    "duration": 85,
    "start_time": "2023-04-28T15:18:02.457Z"
   },
   {
    "duration": 213,
    "start_time": "2023-04-28T15:18:02.544Z"
   },
   {
    "duration": 139,
    "start_time": "2023-04-28T15:18:02.758Z"
   },
   {
    "duration": 21,
    "start_time": "2023-04-28T15:18:02.899Z"
   },
   {
    "duration": 3,
    "start_time": "2023-04-28T15:18:02.922Z"
   },
   {
    "duration": 37,
    "start_time": "2023-04-28T15:18:02.927Z"
   },
   {
    "duration": 4,
    "start_time": "2023-04-28T15:18:02.966Z"
   },
   {
    "duration": 45,
    "start_time": "2023-04-28T15:18:02.971Z"
   },
   {
    "duration": 23,
    "start_time": "2023-04-28T15:18:03.018Z"
   },
   {
    "duration": 4,
    "start_time": "2023-04-28T15:18:03.043Z"
   },
   {
    "duration": 171,
    "start_time": "2023-04-28T15:18:03.049Z"
   },
   {
    "duration": 13,
    "start_time": "2023-04-28T15:18:03.222Z"
   },
   {
    "duration": 41,
    "start_time": "2023-04-28T15:18:03.236Z"
   },
   {
    "duration": 4,
    "start_time": "2023-04-28T15:18:03.282Z"
   },
   {
    "duration": 64,
    "start_time": "2023-04-28T15:18:03.288Z"
   },
   {
    "duration": 4,
    "start_time": "2023-04-28T15:18:03.354Z"
   },
   {
    "duration": 7,
    "start_time": "2023-04-28T15:18:03.360Z"
   },
   {
    "duration": 26,
    "start_time": "2023-04-28T15:18:03.368Z"
   },
   {
    "duration": 4,
    "start_time": "2023-04-28T15:18:03.395Z"
   },
   {
    "duration": 4,
    "start_time": "2023-04-28T15:18:03.417Z"
   },
   {
    "duration": 777,
    "start_time": "2023-04-28T15:18:03.423Z"
   },
   {
    "duration": 15,
    "start_time": "2023-04-28T15:18:04.202Z"
   },
   {
    "duration": 2,
    "start_time": "2023-04-28T15:18:04.219Z"
   },
   {
    "duration": 8762,
    "start_time": "2023-04-28T15:18:04.224Z"
   },
   {
    "duration": 91,
    "start_time": "2023-04-28T15:18:12.988Z"
   },
   {
    "duration": 250283,
    "start_time": "2023-04-28T15:18:13.081Z"
   },
   {
    "duration": 0,
    "start_time": "2023-04-28T15:22:23.366Z"
   },
   {
    "duration": 0,
    "start_time": "2023-04-28T15:22:23.367Z"
   },
   {
    "duration": 0,
    "start_time": "2023-04-28T15:22:23.368Z"
   },
   {
    "duration": 0,
    "start_time": "2023-04-28T15:22:23.369Z"
   },
   {
    "duration": 0,
    "start_time": "2023-04-28T15:22:23.369Z"
   },
   {
    "duration": 0,
    "start_time": "2023-04-28T15:22:23.370Z"
   },
   {
    "duration": 42698,
    "start_time": "2023-04-28T15:22:44.122Z"
   },
   {
    "duration": 3899,
    "start_time": "2023-04-28T15:23:26.821Z"
   },
   {
    "duration": 40305,
    "start_time": "2023-04-28T15:23:40.812Z"
   },
   {
    "duration": 5607,
    "start_time": "2023-04-28T15:24:21.119Z"
   },
   {
    "duration": 49536,
    "start_time": "2023-04-28T15:24:56.092Z"
   },
   {
    "duration": 9332,
    "start_time": "2023-04-28T15:25:45.630Z"
   },
   {
    "duration": 1433,
    "start_time": "2023-04-28T15:26:02.784Z"
   },
   {
    "duration": 780,
    "start_time": "2023-04-28T15:26:04.219Z"
   },
   {
    "duration": 19,
    "start_time": "2023-04-28T15:26:05.000Z"
   },
   {
    "duration": 16,
    "start_time": "2023-04-28T15:26:05.020Z"
   },
   {
    "duration": 150,
    "start_time": "2023-04-28T15:26:05.038Z"
   },
   {
    "duration": 429,
    "start_time": "2023-04-28T15:26:05.189Z"
   },
   {
    "duration": 436,
    "start_time": "2023-04-28T15:26:05.620Z"
   },
   {
    "duration": 399,
    "start_time": "2023-04-28T15:26:06.058Z"
   },
   {
    "duration": 112,
    "start_time": "2023-04-28T15:26:06.459Z"
   },
   {
    "duration": 17,
    "start_time": "2023-04-28T15:26:06.572Z"
   },
   {
    "duration": 55,
    "start_time": "2023-04-28T15:26:06.590Z"
   },
   {
    "duration": 18,
    "start_time": "2023-04-28T15:26:06.647Z"
   },
   {
    "duration": 50,
    "start_time": "2023-04-28T15:26:06.667Z"
   },
   {
    "duration": 21,
    "start_time": "2023-04-28T15:26:06.721Z"
   },
   {
    "duration": 40,
    "start_time": "2023-04-28T15:26:06.744Z"
   },
   {
    "duration": 51,
    "start_time": "2023-04-28T15:26:06.786Z"
   },
   {
    "duration": 79,
    "start_time": "2023-04-28T15:26:06.839Z"
   },
   {
    "duration": 14,
    "start_time": "2023-04-28T15:26:06.920Z"
   },
   {
    "duration": 34,
    "start_time": "2023-04-28T15:26:06.936Z"
   },
   {
    "duration": 15,
    "start_time": "2023-04-28T15:26:06.972Z"
   },
   {
    "duration": 26,
    "start_time": "2023-04-28T15:26:06.989Z"
   },
   {
    "duration": 50,
    "start_time": "2023-04-28T15:26:07.016Z"
   },
   {
    "duration": 30,
    "start_time": "2023-04-28T15:26:07.067Z"
   },
   {
    "duration": 9,
    "start_time": "2023-04-28T15:26:07.098Z"
   },
   {
    "duration": 3,
    "start_time": "2023-04-28T15:26:07.109Z"
   },
   {
    "duration": 32,
    "start_time": "2023-04-28T15:26:07.114Z"
   },
   {
    "duration": 41,
    "start_time": "2023-04-28T15:26:07.148Z"
   },
   {
    "duration": 39,
    "start_time": "2023-04-28T15:26:07.191Z"
   },
   {
    "duration": 244,
    "start_time": "2023-04-28T15:26:07.232Z"
   },
   {
    "duration": 144,
    "start_time": "2023-04-28T15:26:07.478Z"
   },
   {
    "duration": 10,
    "start_time": "2023-04-28T15:26:07.623Z"
   },
   {
    "duration": 4,
    "start_time": "2023-04-28T15:26:07.634Z"
   },
   {
    "duration": 24,
    "start_time": "2023-04-28T15:26:07.639Z"
   },
   {
    "duration": 3,
    "start_time": "2023-04-28T15:26:07.664Z"
   },
   {
    "duration": 19,
    "start_time": "2023-04-28T15:26:07.669Z"
   },
   {
    "duration": 40,
    "start_time": "2023-04-28T15:26:07.689Z"
   },
   {
    "duration": 3,
    "start_time": "2023-04-28T15:26:07.731Z"
   },
   {
    "duration": 156,
    "start_time": "2023-04-28T15:26:07.735Z"
   },
   {
    "duration": 12,
    "start_time": "2023-04-28T15:26:07.892Z"
   },
   {
    "duration": 31,
    "start_time": "2023-04-28T15:26:07.905Z"
   },
   {
    "duration": 4,
    "start_time": "2023-04-28T15:26:07.939Z"
   },
   {
    "duration": 56,
    "start_time": "2023-04-28T15:26:07.944Z"
   },
   {
    "duration": 16,
    "start_time": "2023-04-28T15:26:08.002Z"
   },
   {
    "duration": 3,
    "start_time": "2023-04-28T15:26:08.019Z"
   },
   {
    "duration": 29,
    "start_time": "2023-04-28T15:26:08.023Z"
   },
   {
    "duration": 3,
    "start_time": "2023-04-28T15:26:08.054Z"
   },
   {
    "duration": 5,
    "start_time": "2023-04-28T15:26:08.059Z"
   },
   {
    "duration": 804,
    "start_time": "2023-04-28T15:26:08.065Z"
   },
   {
    "duration": 10,
    "start_time": "2023-04-28T15:26:08.871Z"
   },
   {
    "duration": 14,
    "start_time": "2023-04-28T15:26:08.882Z"
   },
   {
    "duration": 8611,
    "start_time": "2023-04-28T15:26:08.897Z"
   },
   {
    "duration": 121,
    "start_time": "2023-04-28T15:26:17.509Z"
   },
   {
    "duration": 1404,
    "start_time": "2023-04-28T15:27:11.990Z"
   },
   {
    "duration": 819,
    "start_time": "2023-04-28T15:27:13.397Z"
   },
   {
    "duration": 18,
    "start_time": "2023-04-28T15:27:14.217Z"
   },
   {
    "duration": 3,
    "start_time": "2023-04-28T15:27:14.236Z"
   },
   {
    "duration": 133,
    "start_time": "2023-04-28T15:27:14.241Z"
   },
   {
    "duration": 415,
    "start_time": "2023-04-28T15:27:14.375Z"
   },
   {
    "duration": 450,
    "start_time": "2023-04-28T15:27:14.792Z"
   },
   {
    "duration": 420,
    "start_time": "2023-04-28T15:27:15.243Z"
   },
   {
    "duration": 106,
    "start_time": "2023-04-28T15:27:15.664Z"
   },
   {
    "duration": 16,
    "start_time": "2023-04-28T15:27:15.772Z"
   },
   {
    "duration": 48,
    "start_time": "2023-04-28T15:27:15.789Z"
   },
   {
    "duration": 23,
    "start_time": "2023-04-28T15:27:15.839Z"
   },
   {
    "duration": 42,
    "start_time": "2023-04-28T15:27:15.863Z"
   },
   {
    "duration": 16,
    "start_time": "2023-04-28T15:27:15.908Z"
   },
   {
    "duration": 51,
    "start_time": "2023-04-28T15:27:15.926Z"
   },
   {
    "duration": 46,
    "start_time": "2023-04-28T15:27:15.978Z"
   },
   {
    "duration": 83,
    "start_time": "2023-04-28T15:27:16.026Z"
   },
   {
    "duration": 3,
    "start_time": "2023-04-28T15:27:16.111Z"
   },
   {
    "duration": 47,
    "start_time": "2023-04-28T15:27:16.116Z"
   },
   {
    "duration": 8,
    "start_time": "2023-04-28T15:27:16.164Z"
   },
   {
    "duration": 22,
    "start_time": "2023-04-28T15:27:16.173Z"
   },
   {
    "duration": 35,
    "start_time": "2023-04-28T15:27:16.196Z"
   },
   {
    "duration": 30,
    "start_time": "2023-04-28T15:27:16.233Z"
   },
   {
    "duration": 8,
    "start_time": "2023-04-28T15:27:16.265Z"
   },
   {
    "duration": 5,
    "start_time": "2023-04-28T15:27:16.274Z"
   },
   {
    "duration": 43,
    "start_time": "2023-04-28T15:27:16.281Z"
   },
   {
    "duration": 36,
    "start_time": "2023-04-28T15:27:16.326Z"
   },
   {
    "duration": 28,
    "start_time": "2023-04-28T15:27:16.364Z"
   },
   {
    "duration": 235,
    "start_time": "2023-04-28T15:27:16.394Z"
   },
   {
    "duration": 153,
    "start_time": "2023-04-28T15:27:16.631Z"
   },
   {
    "duration": 10,
    "start_time": "2023-04-28T15:27:16.786Z"
   },
   {
    "duration": 4,
    "start_time": "2023-04-28T15:27:16.797Z"
   },
   {
    "duration": 40,
    "start_time": "2023-04-28T15:27:16.803Z"
   },
   {
    "duration": 3,
    "start_time": "2023-04-28T15:27:16.845Z"
   },
   {
    "duration": 16,
    "start_time": "2023-04-28T15:27:16.850Z"
   },
   {
    "duration": 21,
    "start_time": "2023-04-28T15:27:16.868Z"
   },
   {
    "duration": 3,
    "start_time": "2023-04-28T15:27:16.891Z"
   },
   {
    "duration": 142,
    "start_time": "2023-04-28T15:27:16.917Z"
   },
   {
    "duration": 12,
    "start_time": "2023-04-28T15:27:17.060Z"
   },
   {
    "duration": 20,
    "start_time": "2023-04-28T15:27:17.073Z"
   },
   {
    "duration": 21,
    "start_time": "2023-04-28T15:27:17.097Z"
   },
   {
    "duration": 54,
    "start_time": "2023-04-28T15:27:17.120Z"
   },
   {
    "duration": 3,
    "start_time": "2023-04-28T15:27:17.176Z"
   },
   {
    "duration": 9,
    "start_time": "2023-04-28T15:27:17.181Z"
   },
   {
    "duration": 37,
    "start_time": "2023-04-28T15:27:17.192Z"
   },
   {
    "duration": 4,
    "start_time": "2023-04-28T15:27:17.230Z"
   },
   {
    "duration": 19,
    "start_time": "2023-04-28T15:27:17.235Z"
   },
   {
    "duration": 756,
    "start_time": "2023-04-28T15:27:17.255Z"
   },
   {
    "duration": 12,
    "start_time": "2023-04-28T15:27:18.013Z"
   },
   {
    "duration": 13,
    "start_time": "2023-04-28T15:27:18.026Z"
   },
   {
    "duration": 8513,
    "start_time": "2023-04-28T15:27:18.041Z"
   },
   {
    "duration": 81,
    "start_time": "2023-04-28T15:27:26.556Z"
   },
   {
    "duration": 1399,
    "start_time": "2023-04-28T15:28:43.611Z"
   },
   {
    "duration": 772,
    "start_time": "2023-04-28T15:28:45.012Z"
   },
   {
    "duration": 17,
    "start_time": "2023-04-28T15:28:45.785Z"
   },
   {
    "duration": 15,
    "start_time": "2023-04-28T15:28:45.803Z"
   },
   {
    "duration": 118,
    "start_time": "2023-04-28T15:28:45.820Z"
   },
   {
    "duration": 417,
    "start_time": "2023-04-28T15:28:45.939Z"
   },
   {
    "duration": 472,
    "start_time": "2023-04-28T15:28:46.357Z"
   },
   {
    "duration": 430,
    "start_time": "2023-04-28T15:28:46.831Z"
   },
   {
    "duration": 135,
    "start_time": "2023-04-28T15:28:47.263Z"
   },
   {
    "duration": 28,
    "start_time": "2023-04-28T15:28:47.400Z"
   },
   {
    "duration": 41,
    "start_time": "2023-04-28T15:28:47.430Z"
   },
   {
    "duration": 16,
    "start_time": "2023-04-28T15:28:47.473Z"
   },
   {
    "duration": 37,
    "start_time": "2023-04-28T15:28:47.491Z"
   },
   {
    "duration": 17,
    "start_time": "2023-04-28T15:28:47.531Z"
   },
   {
    "duration": 48,
    "start_time": "2023-04-28T15:28:47.550Z"
   },
   {
    "duration": 43,
    "start_time": "2023-04-28T15:28:47.600Z"
   },
   {
    "duration": 76,
    "start_time": "2023-04-28T15:28:47.645Z"
   },
   {
    "duration": 4,
    "start_time": "2023-04-28T15:28:47.723Z"
   },
   {
    "duration": 31,
    "start_time": "2023-04-28T15:28:47.729Z"
   },
   {
    "duration": 12,
    "start_time": "2023-04-28T15:28:47.762Z"
   },
   {
    "duration": 6,
    "start_time": "2023-04-28T15:28:47.775Z"
   },
   {
    "duration": 61,
    "start_time": "2023-04-28T15:28:47.782Z"
   },
   {
    "duration": 31,
    "start_time": "2023-04-28T15:28:47.844Z"
   },
   {
    "duration": 9,
    "start_time": "2023-04-28T15:28:47.876Z"
   },
   {
    "duration": 4,
    "start_time": "2023-04-28T15:28:47.887Z"
   },
   {
    "duration": 28,
    "start_time": "2023-04-28T15:28:47.917Z"
   },
   {
    "duration": 30,
    "start_time": "2023-04-28T15:28:47.947Z"
   },
   {
    "duration": 46,
    "start_time": "2023-04-28T15:28:47.979Z"
   },
   {
    "duration": 214,
    "start_time": "2023-04-28T15:28:48.027Z"
   },
   {
    "duration": 144,
    "start_time": "2023-04-28T15:28:48.242Z"
   },
   {
    "duration": 11,
    "start_time": "2023-04-28T15:28:48.388Z"
   },
   {
    "duration": 17,
    "start_time": "2023-04-28T15:28:48.401Z"
   },
   {
    "duration": 33,
    "start_time": "2023-04-28T15:28:48.420Z"
   },
   {
    "duration": 4,
    "start_time": "2023-04-28T15:28:48.454Z"
   },
   {
    "duration": 28,
    "start_time": "2023-04-28T15:28:48.459Z"
   },
   {
    "duration": 32,
    "start_time": "2023-04-28T15:28:48.489Z"
   },
   {
    "duration": 4,
    "start_time": "2023-04-28T15:28:48.522Z"
   },
   {
    "duration": 148,
    "start_time": "2023-04-28T15:28:48.528Z"
   },
   {
    "duration": 12,
    "start_time": "2023-04-28T15:28:48.677Z"
   },
   {
    "duration": 33,
    "start_time": "2023-04-28T15:28:48.690Z"
   },
   {
    "duration": 4,
    "start_time": "2023-04-28T15:28:48.726Z"
   },
   {
    "duration": 74,
    "start_time": "2023-04-28T15:28:48.731Z"
   },
   {
    "duration": 4,
    "start_time": "2023-04-28T15:28:48.807Z"
   },
   {
    "duration": 15,
    "start_time": "2023-04-28T15:28:48.813Z"
   },
   {
    "duration": 24,
    "start_time": "2023-04-28T15:28:48.829Z"
   },
   {
    "duration": 9,
    "start_time": "2023-04-28T15:28:48.855Z"
   },
   {
    "duration": 24,
    "start_time": "2023-04-28T15:28:48.865Z"
   },
   {
    "duration": 751,
    "start_time": "2023-04-28T15:28:48.891Z"
   },
   {
    "duration": 10,
    "start_time": "2023-04-28T15:28:49.644Z"
   },
   {
    "duration": 5,
    "start_time": "2023-04-28T15:28:49.655Z"
   },
   {
    "duration": 8675,
    "start_time": "2023-04-28T15:28:49.661Z"
   },
   {
    "duration": 83,
    "start_time": "2023-04-28T15:28:58.337Z"
   },
   {
    "duration": 1367,
    "start_time": "2023-04-28T15:31:06.741Z"
   },
   {
    "duration": 788,
    "start_time": "2023-04-28T15:31:08.110Z"
   },
   {
    "duration": 28,
    "start_time": "2023-04-28T15:31:08.900Z"
   },
   {
    "duration": 20,
    "start_time": "2023-04-28T15:31:08.929Z"
   },
   {
    "duration": 113,
    "start_time": "2023-04-28T15:31:08.951Z"
   },
   {
    "duration": 420,
    "start_time": "2023-04-28T15:31:09.066Z"
   },
   {
    "duration": 451,
    "start_time": "2023-04-28T15:31:09.487Z"
   },
   {
    "duration": 410,
    "start_time": "2023-04-28T15:31:09.939Z"
   },
   {
    "duration": 111,
    "start_time": "2023-04-28T15:31:10.350Z"
   },
   {
    "duration": 16,
    "start_time": "2023-04-28T15:31:10.463Z"
   },
   {
    "duration": 48,
    "start_time": "2023-04-28T15:31:10.481Z"
   },
   {
    "duration": 15,
    "start_time": "2023-04-28T15:31:10.531Z"
   },
   {
    "duration": 40,
    "start_time": "2023-04-28T15:31:10.547Z"
   },
   {
    "duration": 16,
    "start_time": "2023-04-28T15:31:10.590Z"
   },
   {
    "duration": 43,
    "start_time": "2023-04-28T15:31:10.608Z"
   },
   {
    "duration": 38,
    "start_time": "2023-04-28T15:31:10.653Z"
   },
   {
    "duration": 86,
    "start_time": "2023-04-28T15:31:10.693Z"
   },
   {
    "duration": 3,
    "start_time": "2023-04-28T15:31:10.781Z"
   },
   {
    "duration": 37,
    "start_time": "2023-04-28T15:31:10.786Z"
   },
   {
    "duration": 9,
    "start_time": "2023-04-28T15:31:10.825Z"
   },
   {
    "duration": 6,
    "start_time": "2023-04-28T15:31:10.835Z"
   },
   {
    "duration": 34,
    "start_time": "2023-04-28T15:31:10.842Z"
   },
   {
    "duration": 52,
    "start_time": "2023-04-28T15:31:10.878Z"
   },
   {
    "duration": 7,
    "start_time": "2023-04-28T15:31:10.932Z"
   },
   {
    "duration": 2,
    "start_time": "2023-04-28T15:31:10.941Z"
   },
   {
    "duration": 30,
    "start_time": "2023-04-28T15:31:10.944Z"
   },
   {
    "duration": 46,
    "start_time": "2023-04-28T15:31:10.975Z"
   },
   {
    "duration": 27,
    "start_time": "2023-04-28T15:31:11.022Z"
   },
   {
    "duration": 224,
    "start_time": "2023-04-28T15:31:11.051Z"
   },
   {
    "duration": 140,
    "start_time": "2023-04-28T15:31:11.277Z"
   },
   {
    "duration": 10,
    "start_time": "2023-04-28T15:31:11.419Z"
   },
   {
    "duration": 4,
    "start_time": "2023-04-28T15:31:11.430Z"
   },
   {
    "duration": 33,
    "start_time": "2023-04-28T15:31:11.435Z"
   },
   {
    "duration": 4,
    "start_time": "2023-04-28T15:31:11.469Z"
   },
   {
    "duration": 17,
    "start_time": "2023-04-28T15:31:11.474Z"
   },
   {
    "duration": 40,
    "start_time": "2023-04-28T15:31:11.493Z"
   },
   {
    "duration": 3,
    "start_time": "2023-04-28T15:31:11.534Z"
   },
   {
    "duration": 160,
    "start_time": "2023-04-28T15:31:11.539Z"
   },
   {
    "duration": 18,
    "start_time": "2023-04-28T15:31:11.701Z"
   },
   {
    "duration": 19,
    "start_time": "2023-04-28T15:31:11.721Z"
   },
   {
    "duration": 3,
    "start_time": "2023-04-28T15:31:11.745Z"
   },
   {
    "duration": 76,
    "start_time": "2023-04-28T15:31:11.750Z"
   },
   {
    "duration": 3,
    "start_time": "2023-04-28T15:31:11.828Z"
   },
   {
    "duration": 5,
    "start_time": "2023-04-28T15:31:11.833Z"
   },
   {
    "duration": 25,
    "start_time": "2023-04-28T15:31:11.839Z"
   },
   {
    "duration": 4,
    "start_time": "2023-04-28T15:31:11.865Z"
   },
   {
    "duration": 7,
    "start_time": "2023-04-28T15:31:11.871Z"
   },
   {
    "duration": 760,
    "start_time": "2023-04-28T15:31:11.879Z"
   },
   {
    "duration": 10,
    "start_time": "2023-04-28T15:31:12.641Z"
   },
   {
    "duration": 7,
    "start_time": "2023-04-28T15:31:12.653Z"
   },
   {
    "duration": 8688,
    "start_time": "2023-04-28T15:31:12.662Z"
   },
   {
    "duration": 87,
    "start_time": "2023-04-28T15:31:21.351Z"
   },
   {
    "duration": 1376,
    "start_time": "2023-04-28T15:32:04.334Z"
   },
   {
    "duration": 783,
    "start_time": "2023-04-28T15:32:05.712Z"
   },
   {
    "duration": 22,
    "start_time": "2023-04-28T15:32:06.496Z"
   },
   {
    "duration": 4,
    "start_time": "2023-04-28T15:32:06.519Z"
   },
   {
    "duration": 125,
    "start_time": "2023-04-28T15:32:06.525Z"
   },
   {
    "duration": 445,
    "start_time": "2023-04-28T15:32:06.651Z"
   },
   {
    "duration": 492,
    "start_time": "2023-04-28T15:32:07.097Z"
   },
   {
    "duration": 421,
    "start_time": "2023-04-28T15:32:07.590Z"
   },
   {
    "duration": 112,
    "start_time": "2023-04-28T15:32:08.013Z"
   },
   {
    "duration": 16,
    "start_time": "2023-04-28T15:32:08.128Z"
   },
   {
    "duration": 38,
    "start_time": "2023-04-28T15:32:08.146Z"
   },
   {
    "duration": 34,
    "start_time": "2023-04-28T15:32:08.186Z"
   },
   {
    "duration": 33,
    "start_time": "2023-04-28T15:32:08.222Z"
   },
   {
    "duration": 22,
    "start_time": "2023-04-28T15:32:08.258Z"
   },
   {
    "duration": 44,
    "start_time": "2023-04-28T15:32:08.282Z"
   },
   {
    "duration": 38,
    "start_time": "2023-04-28T15:32:08.328Z"
   },
   {
    "duration": 82,
    "start_time": "2023-04-28T15:32:08.368Z"
   },
   {
    "duration": 7,
    "start_time": "2023-04-28T15:32:08.452Z"
   },
   {
    "duration": 58,
    "start_time": "2023-04-28T15:32:08.460Z"
   },
   {
    "duration": 20,
    "start_time": "2023-04-28T15:32:08.520Z"
   },
   {
    "duration": 7,
    "start_time": "2023-04-28T15:32:08.542Z"
   },
   {
    "duration": 37,
    "start_time": "2023-04-28T15:32:08.550Z"
   },
   {
    "duration": 47,
    "start_time": "2023-04-28T15:32:08.588Z"
   },
   {
    "duration": 7,
    "start_time": "2023-04-28T15:32:08.637Z"
   },
   {
    "duration": 3,
    "start_time": "2023-04-28T15:32:08.646Z"
   },
   {
    "duration": 29,
    "start_time": "2023-04-28T15:32:08.651Z"
   },
   {
    "duration": 51,
    "start_time": "2023-04-28T15:32:08.682Z"
   },
   {
    "duration": 29,
    "start_time": "2023-04-28T15:32:08.735Z"
   },
   {
    "duration": 227,
    "start_time": "2023-04-28T15:32:08.766Z"
   },
   {
    "duration": 148,
    "start_time": "2023-04-28T15:32:08.995Z"
   },
   {
    "duration": 11,
    "start_time": "2023-04-28T15:32:09.145Z"
   },
   {
    "duration": 4,
    "start_time": "2023-04-28T15:32:09.158Z"
   },
   {
    "duration": 26,
    "start_time": "2023-04-28T15:32:09.164Z"
   },
   {
    "duration": 4,
    "start_time": "2023-04-28T15:32:09.192Z"
   },
   {
    "duration": 16,
    "start_time": "2023-04-28T15:32:09.218Z"
   },
   {
    "duration": 21,
    "start_time": "2023-04-28T15:32:09.236Z"
   },
   {
    "duration": 4,
    "start_time": "2023-04-28T15:32:09.259Z"
   },
   {
    "duration": 171,
    "start_time": "2023-04-28T15:32:09.265Z"
   },
   {
    "duration": 12,
    "start_time": "2023-04-28T15:32:09.438Z"
   },
   {
    "duration": 20,
    "start_time": "2023-04-28T15:32:09.452Z"
   },
   {
    "duration": 4,
    "start_time": "2023-04-28T15:32:09.477Z"
   },
   {
    "duration": 82,
    "start_time": "2023-04-28T15:32:09.482Z"
   },
   {
    "duration": 3,
    "start_time": "2023-04-28T15:32:09.566Z"
   },
   {
    "duration": 6,
    "start_time": "2023-04-28T15:32:09.571Z"
   },
   {
    "duration": 39,
    "start_time": "2023-04-28T15:32:09.579Z"
   },
   {
    "duration": 6,
    "start_time": "2023-04-28T15:32:09.619Z"
   },
   {
    "duration": 7,
    "start_time": "2023-04-28T15:32:09.627Z"
   },
   {
    "duration": 768,
    "start_time": "2023-04-28T15:32:09.635Z"
   },
   {
    "duration": 14,
    "start_time": "2023-04-28T15:32:10.404Z"
   },
   {
    "duration": 5,
    "start_time": "2023-04-28T15:32:10.420Z"
   },
   {
    "duration": 8574,
    "start_time": "2023-04-28T15:32:10.426Z"
   },
   {
    "duration": 81,
    "start_time": "2023-04-28T15:32:19.001Z"
   },
   {
    "duration": 1363,
    "start_time": "2023-04-28T15:41:19.533Z"
   },
   {
    "duration": 781,
    "start_time": "2023-04-28T15:41:20.898Z"
   },
   {
    "duration": 17,
    "start_time": "2023-04-28T15:41:21.680Z"
   },
   {
    "duration": 4,
    "start_time": "2023-04-28T15:41:21.699Z"
   },
   {
    "duration": 134,
    "start_time": "2023-04-28T15:41:21.704Z"
   },
   {
    "duration": 427,
    "start_time": "2023-04-28T15:41:21.839Z"
   },
   {
    "duration": 465,
    "start_time": "2023-04-28T15:41:22.267Z"
   },
   {
    "duration": 428,
    "start_time": "2023-04-28T15:41:22.733Z"
   },
   {
    "duration": 110,
    "start_time": "2023-04-28T15:41:23.163Z"
   },
   {
    "duration": 25,
    "start_time": "2023-04-28T15:41:23.274Z"
   },
   {
    "duration": 38,
    "start_time": "2023-04-28T15:41:23.301Z"
   },
   {
    "duration": 24,
    "start_time": "2023-04-28T15:41:23.341Z"
   },
   {
    "duration": 32,
    "start_time": "2023-04-28T15:41:23.367Z"
   },
   {
    "duration": 16,
    "start_time": "2023-04-28T15:41:23.418Z"
   },
   {
    "duration": 36,
    "start_time": "2023-04-28T15:41:23.436Z"
   },
   {
    "duration": 56,
    "start_time": "2023-04-28T15:41:23.474Z"
   },
   {
    "duration": 70,
    "start_time": "2023-04-28T15:41:23.531Z"
   },
   {
    "duration": 15,
    "start_time": "2023-04-28T15:41:23.603Z"
   },
   {
    "duration": 29,
    "start_time": "2023-04-28T15:41:23.620Z"
   },
   {
    "duration": 9,
    "start_time": "2023-04-28T15:41:23.651Z"
   },
   {
    "duration": 6,
    "start_time": "2023-04-28T15:41:23.661Z"
   },
   {
    "duration": 57,
    "start_time": "2023-04-28T15:41:23.669Z"
   },
   {
    "duration": 30,
    "start_time": "2023-04-28T15:41:23.728Z"
   },
   {
    "duration": 8,
    "start_time": "2023-04-28T15:41:23.760Z"
   },
   {
    "duration": 3,
    "start_time": "2023-04-28T15:41:23.769Z"
   },
   {
    "duration": 46,
    "start_time": "2023-04-28T15:41:23.774Z"
   },
   {
    "duration": 32,
    "start_time": "2023-04-28T15:41:23.822Z"
   },
   {
    "duration": 28,
    "start_time": "2023-04-28T15:41:23.856Z"
   },
   {
    "duration": 228,
    "start_time": "2023-04-28T15:41:23.885Z"
   },
   {
    "duration": 142,
    "start_time": "2023-04-28T15:41:24.117Z"
   },
   {
    "duration": 10,
    "start_time": "2023-04-28T15:41:24.260Z"
   },
   {
    "duration": 5,
    "start_time": "2023-04-28T15:41:24.272Z"
   },
   {
    "duration": 47,
    "start_time": "2023-04-28T15:41:24.278Z"
   },
   {
    "duration": 4,
    "start_time": "2023-04-28T15:41:24.326Z"
   },
   {
    "duration": 17,
    "start_time": "2023-04-28T15:41:24.331Z"
   },
   {
    "duration": 21,
    "start_time": "2023-04-28T15:41:24.349Z"
   },
   {
    "duration": 3,
    "start_time": "2023-04-28T15:41:24.372Z"
   },
   {
    "duration": 165,
    "start_time": "2023-04-28T15:41:24.377Z"
   },
   {
    "duration": 12,
    "start_time": "2023-04-28T15:41:24.544Z"
   },
   {
    "duration": 20,
    "start_time": "2023-04-28T15:41:24.557Z"
   },
   {
    "duration": 3,
    "start_time": "2023-04-28T15:41:24.581Z"
   },
   {
    "duration": 78,
    "start_time": "2023-04-28T15:41:24.585Z"
   },
   {
    "duration": 3,
    "start_time": "2023-04-28T15:41:24.665Z"
   },
   {
    "duration": 6,
    "start_time": "2023-04-28T15:41:24.669Z"
   },
   {
    "duration": 26,
    "start_time": "2023-04-28T15:41:24.676Z"
   },
   {
    "duration": 14,
    "start_time": "2023-04-28T15:41:24.704Z"
   },
   {
    "duration": 3,
    "start_time": "2023-04-28T15:41:24.719Z"
   },
   {
    "duration": 747,
    "start_time": "2023-04-28T15:41:24.724Z"
   },
   {
    "duration": 9,
    "start_time": "2023-04-28T15:41:25.473Z"
   },
   {
    "duration": 4,
    "start_time": "2023-04-28T15:41:25.484Z"
   },
   {
    "duration": 8719,
    "start_time": "2023-04-28T15:41:25.489Z"
   },
   {
    "duration": 79,
    "start_time": "2023-04-28T15:41:34.210Z"
   },
   {
    "duration": 0,
    "start_time": "2023-04-28T15:43:14.058Z"
   },
   {
    "duration": 0,
    "start_time": "2023-04-28T15:43:14.059Z"
   },
   {
    "duration": 0,
    "start_time": "2023-04-28T15:43:14.060Z"
   },
   {
    "duration": 0,
    "start_time": "2023-04-28T15:43:14.061Z"
   },
   {
    "duration": 0,
    "start_time": "2023-04-28T15:43:14.062Z"
   },
   {
    "duration": 0,
    "start_time": "2023-04-28T15:43:14.063Z"
   },
   {
    "duration": 0,
    "start_time": "2023-04-28T15:43:14.065Z"
   },
   {
    "duration": 12,
    "start_time": "2023-04-28T15:43:16.262Z"
   },
   {
    "duration": 1424,
    "start_time": "2023-04-28T15:44:31.946Z"
   },
   {
    "duration": 841,
    "start_time": "2023-04-28T15:44:33.372Z"
   },
   {
    "duration": 25,
    "start_time": "2023-04-28T15:44:34.214Z"
   },
   {
    "duration": 22,
    "start_time": "2023-04-28T15:44:34.240Z"
   },
   {
    "duration": 125,
    "start_time": "2023-04-28T15:44:34.264Z"
   },
   {
    "duration": 460,
    "start_time": "2023-04-28T15:44:34.391Z"
   },
   {
    "duration": 479,
    "start_time": "2023-04-28T15:44:34.852Z"
   },
   {
    "duration": 453,
    "start_time": "2023-04-28T15:44:35.333Z"
   },
   {
    "duration": 116,
    "start_time": "2023-04-28T15:44:35.787Z"
   },
   {
    "duration": 32,
    "start_time": "2023-04-28T15:44:35.905Z"
   },
   {
    "duration": 37,
    "start_time": "2023-04-28T15:44:35.939Z"
   },
   {
    "duration": 51,
    "start_time": "2023-04-28T15:44:35.978Z"
   },
   {
    "duration": 32,
    "start_time": "2023-04-28T15:44:36.032Z"
   },
   {
    "duration": 22,
    "start_time": "2023-04-28T15:44:36.123Z"
   },
   {
    "duration": 73,
    "start_time": "2023-04-28T15:44:36.147Z"
   },
   {
    "duration": 42,
    "start_time": "2023-04-28T15:44:36.222Z"
   },
   {
    "duration": 76,
    "start_time": "2023-04-28T15:44:36.266Z"
   },
   {
    "duration": 3,
    "start_time": "2023-04-28T15:44:36.344Z"
   },
   {
    "duration": 34,
    "start_time": "2023-04-28T15:44:36.348Z"
   },
   {
    "duration": 9,
    "start_time": "2023-04-28T15:44:36.384Z"
   },
   {
    "duration": 5,
    "start_time": "2023-04-28T15:44:36.394Z"
   },
   {
    "duration": 44,
    "start_time": "2023-04-28T15:44:36.401Z"
   },
   {
    "duration": 31,
    "start_time": "2023-04-28T15:44:36.447Z"
   },
   {
    "duration": 7,
    "start_time": "2023-04-28T15:44:36.480Z"
   },
   {
    "duration": 5,
    "start_time": "2023-04-28T15:44:36.518Z"
   },
   {
    "duration": 37,
    "start_time": "2023-04-28T15:44:36.525Z"
   },
   {
    "duration": 98,
    "start_time": "2023-04-28T15:44:36.564Z"
   },
   {
    "duration": 79,
    "start_time": "2023-04-28T15:44:36.664Z"
   },
   {
    "duration": 309,
    "start_time": "2023-04-28T15:44:36.744Z"
   },
   {
    "duration": 139,
    "start_time": "2023-04-28T15:44:37.055Z"
   },
   {
    "duration": 10,
    "start_time": "2023-04-28T15:44:37.196Z"
   },
   {
    "duration": 11,
    "start_time": "2023-04-28T15:44:37.218Z"
   },
   {
    "duration": 42,
    "start_time": "2023-04-28T15:44:37.232Z"
   },
   {
    "duration": 4,
    "start_time": "2023-04-28T15:44:37.276Z"
   },
   {
    "duration": 37,
    "start_time": "2023-04-28T15:44:37.281Z"
   },
   {
    "duration": 47,
    "start_time": "2023-04-28T15:44:37.320Z"
   },
   {
    "duration": 12,
    "start_time": "2023-04-28T15:44:37.369Z"
   },
   {
    "duration": 175,
    "start_time": "2023-04-28T15:44:37.383Z"
   },
   {
    "duration": 11,
    "start_time": "2023-04-28T15:44:37.560Z"
   },
   {
    "duration": 34,
    "start_time": "2023-04-28T15:44:37.573Z"
   },
   {
    "duration": 10,
    "start_time": "2023-04-28T15:44:37.610Z"
   },
   {
    "duration": 67,
    "start_time": "2023-04-28T15:44:37.622Z"
   },
   {
    "duration": 4,
    "start_time": "2023-04-28T15:44:37.690Z"
   },
   {
    "duration": 16,
    "start_time": "2023-04-28T15:44:37.695Z"
   },
   {
    "duration": 38,
    "start_time": "2023-04-28T15:44:37.712Z"
   },
   {
    "duration": 11,
    "start_time": "2023-04-28T15:44:37.752Z"
   },
   {
    "duration": 55,
    "start_time": "2023-04-28T15:44:37.765Z"
   },
   {
    "duration": 827,
    "start_time": "2023-04-28T15:44:37.821Z"
   },
   {
    "duration": 10,
    "start_time": "2023-04-28T15:44:38.649Z"
   },
   {
    "duration": 26,
    "start_time": "2023-04-28T15:44:38.660Z"
   },
   {
    "duration": 9326,
    "start_time": "2023-04-28T15:44:38.687Z"
   },
   {
    "duration": 86,
    "start_time": "2023-04-28T15:44:48.014Z"
   },
   {
    "duration": 19334,
    "start_time": "2023-04-28T15:44:48.102Z"
   },
   {
    "duration": 0,
    "start_time": "2023-04-28T15:45:07.437Z"
   },
   {
    "duration": 0,
    "start_time": "2023-04-28T15:45:07.439Z"
   },
   {
    "duration": 0,
    "start_time": "2023-04-28T15:45:07.440Z"
   },
   {
    "duration": 0,
    "start_time": "2023-04-28T15:45:07.440Z"
   },
   {
    "duration": 0,
    "start_time": "2023-04-28T15:45:07.441Z"
   },
   {
    "duration": 0,
    "start_time": "2023-04-28T15:45:07.442Z"
   },
   {
    "duration": 12,
    "start_time": "2023-04-28T15:45:18.588Z"
   },
   {
    "duration": 1411,
    "start_time": "2023-04-28T15:48:39.212Z"
   },
   {
    "duration": 796,
    "start_time": "2023-04-28T15:48:40.625Z"
   },
   {
    "duration": 18,
    "start_time": "2023-04-28T15:48:41.423Z"
   },
   {
    "duration": 4,
    "start_time": "2023-04-28T15:48:41.443Z"
   },
   {
    "duration": 132,
    "start_time": "2023-04-28T15:48:41.448Z"
   },
   {
    "duration": 426,
    "start_time": "2023-04-28T15:48:41.582Z"
   },
   {
    "duration": 474,
    "start_time": "2023-04-28T15:48:42.010Z"
   },
   {
    "duration": 427,
    "start_time": "2023-04-28T15:48:42.485Z"
   },
   {
    "duration": 114,
    "start_time": "2023-04-28T15:48:42.916Z"
   },
   {
    "duration": 18,
    "start_time": "2023-04-28T15:48:43.032Z"
   },
   {
    "duration": 36,
    "start_time": "2023-04-28T15:48:43.052Z"
   },
   {
    "duration": 34,
    "start_time": "2023-04-28T15:48:43.090Z"
   },
   {
    "duration": 32,
    "start_time": "2023-04-28T15:48:43.126Z"
   },
   {
    "duration": 17,
    "start_time": "2023-04-28T15:48:43.161Z"
   },
   {
    "duration": 59,
    "start_time": "2023-04-28T15:48:43.179Z"
   },
   {
    "duration": 37,
    "start_time": "2023-04-28T15:48:43.240Z"
   },
   {
    "duration": 79,
    "start_time": "2023-04-28T15:48:43.279Z"
   },
   {
    "duration": 4,
    "start_time": "2023-04-28T15:48:43.360Z"
   },
   {
    "duration": 31,
    "start_time": "2023-04-28T15:48:43.366Z"
   },
   {
    "duration": 9,
    "start_time": "2023-04-28T15:48:43.417Z"
   },
   {
    "duration": 6,
    "start_time": "2023-04-28T15:48:43.427Z"
   },
   {
    "duration": 36,
    "start_time": "2023-04-28T15:48:43.434Z"
   },
   {
    "duration": 58,
    "start_time": "2023-04-28T15:48:43.471Z"
   },
   {
    "duration": 8,
    "start_time": "2023-04-28T15:48:43.531Z"
   },
   {
    "duration": 4,
    "start_time": "2023-04-28T15:48:43.540Z"
   },
   {
    "duration": 31,
    "start_time": "2023-04-28T15:48:43.545Z"
   },
   {
    "duration": 53,
    "start_time": "2023-04-28T15:48:43.578Z"
   },
   {
    "duration": 48,
    "start_time": "2023-04-28T15:48:43.632Z"
   },
   {
    "duration": 211,
    "start_time": "2023-04-28T15:48:43.682Z"
   },
   {
    "duration": 143,
    "start_time": "2023-04-28T15:48:43.894Z"
   },
   {
    "duration": 11,
    "start_time": "2023-04-28T15:48:44.039Z"
   },
   {
    "duration": 4,
    "start_time": "2023-04-28T15:48:44.052Z"
   },
   {
    "duration": 28,
    "start_time": "2023-04-28T15:48:44.058Z"
   },
   {
    "duration": 3,
    "start_time": "2023-04-28T15:48:44.088Z"
   },
   {
    "duration": 38,
    "start_time": "2023-04-28T15:48:44.093Z"
   },
   {
    "duration": 21,
    "start_time": "2023-04-28T15:48:44.133Z"
   },
   {
    "duration": 4,
    "start_time": "2023-04-28T15:48:44.156Z"
   },
   {
    "duration": 171,
    "start_time": "2023-04-28T15:48:44.161Z"
   },
   {
    "duration": 12,
    "start_time": "2023-04-28T15:48:44.333Z"
   },
   {
    "duration": 20,
    "start_time": "2023-04-28T15:48:44.347Z"
   },
   {
    "duration": 4,
    "start_time": "2023-04-28T15:48:44.371Z"
   },
   {
    "duration": 80,
    "start_time": "2023-04-28T15:48:44.376Z"
   },
   {
    "duration": 4,
    "start_time": "2023-04-28T15:48:44.458Z"
   },
   {
    "duration": 4,
    "start_time": "2023-04-28T15:48:44.464Z"
   },
   {
    "duration": 47,
    "start_time": "2023-04-28T15:48:44.470Z"
   },
   {
    "duration": 4,
    "start_time": "2023-04-28T15:48:44.519Z"
   },
   {
    "duration": 7,
    "start_time": "2023-04-28T15:48:44.525Z"
   },
   {
    "duration": 791,
    "start_time": "2023-04-28T15:48:44.533Z"
   },
   {
    "duration": 11,
    "start_time": "2023-04-28T15:48:45.325Z"
   },
   {
    "duration": 20,
    "start_time": "2023-04-28T15:48:45.338Z"
   },
   {
    "duration": 8746,
    "start_time": "2023-04-28T15:48:45.360Z"
   },
   {
    "duration": 83,
    "start_time": "2023-04-28T15:48:54.108Z"
   },
   {
    "duration": 1460,
    "start_time": "2023-04-28T15:53:06.582Z"
   },
   {
    "duration": 824,
    "start_time": "2023-04-28T15:53:08.044Z"
   },
   {
    "duration": 19,
    "start_time": "2023-04-28T15:53:08.869Z"
   },
   {
    "duration": 4,
    "start_time": "2023-04-28T15:53:08.890Z"
   },
   {
    "duration": 139,
    "start_time": "2023-04-28T15:53:08.896Z"
   },
   {
    "duration": 467,
    "start_time": "2023-04-28T15:53:09.036Z"
   },
   {
    "duration": 471,
    "start_time": "2023-04-28T15:53:09.504Z"
   },
   {
    "duration": 421,
    "start_time": "2023-04-28T15:53:09.977Z"
   },
   {
    "duration": 120,
    "start_time": "2023-04-28T15:53:10.400Z"
   },
   {
    "duration": 30,
    "start_time": "2023-04-28T15:53:10.522Z"
   },
   {
    "duration": 66,
    "start_time": "2023-04-28T15:53:10.553Z"
   },
   {
    "duration": 21,
    "start_time": "2023-04-28T15:53:10.621Z"
   },
   {
    "duration": 64,
    "start_time": "2023-04-28T15:53:10.643Z"
   },
   {
    "duration": 23,
    "start_time": "2023-04-28T15:53:10.708Z"
   },
   {
    "duration": 35,
    "start_time": "2023-04-28T15:53:10.733Z"
   },
   {
    "duration": 51,
    "start_time": "2023-04-28T15:53:10.770Z"
   },
   {
    "duration": 69,
    "start_time": "2023-04-28T15:53:10.823Z"
   },
   {
    "duration": 4,
    "start_time": "2023-04-28T15:53:10.894Z"
   },
   {
    "duration": 32,
    "start_time": "2023-04-28T15:53:10.916Z"
   },
   {
    "duration": 9,
    "start_time": "2023-04-28T15:53:10.949Z"
   },
   {
    "duration": 6,
    "start_time": "2023-04-28T15:53:10.959Z"
   },
   {
    "duration": 57,
    "start_time": "2023-04-28T15:53:10.966Z"
   },
   {
    "duration": 30,
    "start_time": "2023-04-28T15:53:11.024Z"
   },
   {
    "duration": 7,
    "start_time": "2023-04-28T15:53:11.056Z"
   },
   {
    "duration": 3,
    "start_time": "2023-04-28T15:53:11.065Z"
   },
   {
    "duration": 51,
    "start_time": "2023-04-28T15:53:11.069Z"
   },
   {
    "duration": 31,
    "start_time": "2023-04-28T15:53:11.122Z"
   },
   {
    "duration": 28,
    "start_time": "2023-04-28T15:53:11.156Z"
   },
   {
    "duration": 240,
    "start_time": "2023-04-28T15:53:11.185Z"
   },
   {
    "duration": 143,
    "start_time": "2023-04-28T15:53:11.427Z"
   },
   {
    "duration": 10,
    "start_time": "2023-04-28T15:53:11.571Z"
   },
   {
    "duration": 10,
    "start_time": "2023-04-28T15:53:11.583Z"
   },
   {
    "duration": 68,
    "start_time": "2023-04-28T15:53:11.595Z"
   },
   {
    "duration": 9,
    "start_time": "2023-04-28T15:53:11.665Z"
   },
   {
    "duration": 51,
    "start_time": "2023-04-28T15:53:11.676Z"
   },
   {
    "duration": 23,
    "start_time": "2023-04-28T15:53:11.729Z"
   },
   {
    "duration": 3,
    "start_time": "2023-04-28T15:53:11.754Z"
   },
   {
    "duration": 162,
    "start_time": "2023-04-28T15:53:11.759Z"
   },
   {
    "duration": 13,
    "start_time": "2023-04-28T15:53:11.923Z"
   },
   {
    "duration": 21,
    "start_time": "2023-04-28T15:53:11.937Z"
   },
   {
    "duration": 6,
    "start_time": "2023-04-28T15:53:11.960Z"
   },
   {
    "duration": 88,
    "start_time": "2023-04-28T15:53:11.967Z"
   },
   {
    "duration": 3,
    "start_time": "2023-04-28T15:53:12.057Z"
   },
   {
    "duration": 15,
    "start_time": "2023-04-28T15:53:12.061Z"
   },
   {
    "duration": 23,
    "start_time": "2023-04-28T15:53:12.077Z"
   },
   {
    "duration": 18,
    "start_time": "2023-04-28T15:53:12.102Z"
   },
   {
    "duration": 36,
    "start_time": "2023-04-28T15:53:12.122Z"
   },
   {
    "duration": 779,
    "start_time": "2023-04-28T15:53:12.160Z"
   },
   {
    "duration": 11,
    "start_time": "2023-04-28T15:53:12.940Z"
   },
   {
    "duration": 3,
    "start_time": "2023-04-28T15:53:12.953Z"
   },
   {
    "duration": 8764,
    "start_time": "2023-04-28T15:53:12.958Z"
   },
   {
    "duration": 81,
    "start_time": "2023-04-28T15:53:21.724Z"
   },
   {
    "duration": 1352,
    "start_time": "2023-04-28T15:54:32.964Z"
   },
   {
    "duration": 788,
    "start_time": "2023-04-28T15:54:34.318Z"
   },
   {
    "duration": 20,
    "start_time": "2023-04-28T15:54:35.107Z"
   },
   {
    "duration": 4,
    "start_time": "2023-04-28T15:54:35.129Z"
   },
   {
    "duration": 134,
    "start_time": "2023-04-28T15:54:35.136Z"
   },
   {
    "duration": 447,
    "start_time": "2023-04-28T15:54:35.272Z"
   },
   {
    "duration": 470,
    "start_time": "2023-04-28T15:54:35.720Z"
   },
   {
    "duration": 433,
    "start_time": "2023-04-28T15:54:36.192Z"
   },
   {
    "duration": 139,
    "start_time": "2023-04-28T15:54:36.627Z"
   },
   {
    "duration": 22,
    "start_time": "2023-04-28T15:54:36.768Z"
   },
   {
    "duration": 62,
    "start_time": "2023-04-28T15:54:36.792Z"
   },
   {
    "duration": 16,
    "start_time": "2023-04-28T15:54:36.856Z"
   },
   {
    "duration": 47,
    "start_time": "2023-04-28T15:54:36.874Z"
   },
   {
    "duration": 16,
    "start_time": "2023-04-28T15:54:36.924Z"
   },
   {
    "duration": 38,
    "start_time": "2023-04-28T15:54:36.942Z"
   },
   {
    "duration": 52,
    "start_time": "2023-04-28T15:54:36.983Z"
   },
   {
    "duration": 73,
    "start_time": "2023-04-28T15:54:37.036Z"
   },
   {
    "duration": 4,
    "start_time": "2023-04-28T15:54:37.117Z"
   },
   {
    "duration": 43,
    "start_time": "2023-04-28T15:54:37.122Z"
   },
   {
    "duration": 9,
    "start_time": "2023-04-28T15:54:37.167Z"
   },
   {
    "duration": 6,
    "start_time": "2023-04-28T15:54:37.178Z"
   },
   {
    "duration": 55,
    "start_time": "2023-04-28T15:54:37.185Z"
   },
   {
    "duration": 34,
    "start_time": "2023-04-28T15:54:37.242Z"
   },
   {
    "duration": 10,
    "start_time": "2023-04-28T15:54:37.278Z"
   },
   {
    "duration": 4,
    "start_time": "2023-04-28T15:54:37.290Z"
   },
   {
    "duration": 59,
    "start_time": "2023-04-28T15:54:37.295Z"
   },
   {
    "duration": 49,
    "start_time": "2023-04-28T15:54:37.357Z"
   },
   {
    "duration": 30,
    "start_time": "2023-04-28T15:54:37.407Z"
   },
   {
    "duration": 230,
    "start_time": "2023-04-28T15:54:37.438Z"
   },
   {
    "duration": 140,
    "start_time": "2023-04-28T15:54:37.669Z"
   },
   {
    "duration": 10,
    "start_time": "2023-04-28T15:54:37.817Z"
   },
   {
    "duration": 15,
    "start_time": "2023-04-28T15:54:37.828Z"
   },
   {
    "duration": 30,
    "start_time": "2023-04-28T15:54:37.844Z"
   },
   {
    "duration": 4,
    "start_time": "2023-04-28T15:54:37.876Z"
   },
   {
    "duration": 38,
    "start_time": "2023-04-28T15:54:37.882Z"
   },
   {
    "duration": 22,
    "start_time": "2023-04-28T15:54:37.923Z"
   },
   {
    "duration": 4,
    "start_time": "2023-04-28T15:54:37.947Z"
   },
   {
    "duration": 168,
    "start_time": "2023-04-28T15:54:37.953Z"
   },
   {
    "duration": 12,
    "start_time": "2023-04-28T15:54:38.122Z"
   },
   {
    "duration": 20,
    "start_time": "2023-04-28T15:54:38.135Z"
   },
   {
    "duration": 4,
    "start_time": "2023-04-28T15:54:38.159Z"
   },
   {
    "duration": 84,
    "start_time": "2023-04-28T15:54:38.164Z"
   },
   {
    "duration": 4,
    "start_time": "2023-04-28T15:54:38.249Z"
   },
   {
    "duration": 6,
    "start_time": "2023-04-28T15:54:38.255Z"
   },
   {
    "duration": 29,
    "start_time": "2023-04-28T15:54:38.263Z"
   },
   {
    "duration": 4,
    "start_time": "2023-04-28T15:54:38.293Z"
   },
   {
    "duration": 20,
    "start_time": "2023-04-28T15:54:38.299Z"
   },
   {
    "duration": 784,
    "start_time": "2023-04-28T15:54:38.321Z"
   },
   {
    "duration": 13,
    "start_time": "2023-04-28T15:54:39.106Z"
   },
   {
    "duration": 5,
    "start_time": "2023-04-28T15:54:39.120Z"
   },
   {
    "duration": 8867,
    "start_time": "2023-04-28T15:54:39.127Z"
   },
   {
    "duration": 82,
    "start_time": "2023-04-28T15:54:47.996Z"
   },
   {
    "duration": 1332,
    "start_time": "2023-04-28T16:01:41.754Z"
   },
   {
    "duration": 770,
    "start_time": "2023-04-28T16:01:43.088Z"
   },
   {
    "duration": 18,
    "start_time": "2023-04-28T16:01:43.859Z"
   },
   {
    "duration": 3,
    "start_time": "2023-04-28T16:01:43.879Z"
   },
   {
    "duration": 128,
    "start_time": "2023-04-28T16:01:43.883Z"
   },
   {
    "duration": 432,
    "start_time": "2023-04-28T16:01:44.012Z"
   },
   {
    "duration": 444,
    "start_time": "2023-04-28T16:01:44.445Z"
   },
   {
    "duration": 406,
    "start_time": "2023-04-28T16:01:44.891Z"
   },
   {
    "duration": 119,
    "start_time": "2023-04-28T16:01:45.299Z"
   },
   {
    "duration": 17,
    "start_time": "2023-04-28T16:01:45.420Z"
   },
   {
    "duration": 35,
    "start_time": "2023-04-28T16:01:45.438Z"
   },
   {
    "duration": 16,
    "start_time": "2023-04-28T16:01:45.475Z"
   },
   {
    "duration": 48,
    "start_time": "2023-04-28T16:01:45.492Z"
   },
   {
    "duration": 19,
    "start_time": "2023-04-28T16:01:45.541Z"
   },
   {
    "duration": 37,
    "start_time": "2023-04-28T16:01:45.562Z"
   },
   {
    "duration": 51,
    "start_time": "2023-04-28T16:01:45.601Z"
   },
   {
    "duration": 78,
    "start_time": "2023-04-28T16:01:45.653Z"
   },
   {
    "duration": 3,
    "start_time": "2023-04-28T16:01:45.733Z"
   },
   {
    "duration": 30,
    "start_time": "2023-04-28T16:01:45.738Z"
   },
   {
    "duration": 8,
    "start_time": "2023-04-28T16:01:45.770Z"
   },
   {
    "duration": 6,
    "start_time": "2023-04-28T16:01:45.779Z"
   },
   {
    "duration": 67,
    "start_time": "2023-04-28T16:01:45.786Z"
   },
   {
    "duration": 33,
    "start_time": "2023-04-28T16:01:45.855Z"
   },
   {
    "duration": 8,
    "start_time": "2023-04-28T16:01:45.890Z"
   },
   {
    "duration": 18,
    "start_time": "2023-04-28T16:01:45.900Z"
   },
   {
    "duration": 28,
    "start_time": "2023-04-28T16:01:45.920Z"
   },
   {
    "duration": 30,
    "start_time": "2023-04-28T16:01:45.950Z"
   },
   {
    "duration": 42,
    "start_time": "2023-04-28T16:01:45.984Z"
   },
   {
    "duration": 219,
    "start_time": "2023-04-28T16:01:46.027Z"
   },
   {
    "duration": 133,
    "start_time": "2023-04-28T16:01:46.247Z"
   },
   {
    "duration": 10,
    "start_time": "2023-04-28T16:01:46.382Z"
   },
   {
    "duration": 4,
    "start_time": "2023-04-28T16:01:46.393Z"
   },
   {
    "duration": 40,
    "start_time": "2023-04-28T16:01:46.398Z"
   },
   {
    "duration": 3,
    "start_time": "2023-04-28T16:01:46.440Z"
   },
   {
    "duration": 15,
    "start_time": "2023-04-28T16:01:46.445Z"
   },
   {
    "duration": 21,
    "start_time": "2023-04-28T16:01:46.462Z"
   },
   {
    "duration": 4,
    "start_time": "2023-04-28T16:01:46.484Z"
   },
   {
    "duration": 169,
    "start_time": "2023-04-28T16:01:46.490Z"
   },
   {
    "duration": 12,
    "start_time": "2023-04-28T16:01:46.661Z"
   },
   {
    "duration": 20,
    "start_time": "2023-04-28T16:01:46.674Z"
   },
   {
    "duration": 3,
    "start_time": "2023-04-28T16:01:46.696Z"
   },
   {
    "duration": 58,
    "start_time": "2023-04-28T16:01:46.718Z"
   },
   {
    "duration": 4,
    "start_time": "2023-04-28T16:01:46.778Z"
   },
   {
    "duration": 4,
    "start_time": "2023-04-28T16:01:46.784Z"
   },
   {
    "duration": 45,
    "start_time": "2023-04-28T16:01:46.790Z"
   },
   {
    "duration": 3,
    "start_time": "2023-04-28T16:01:46.837Z"
   },
   {
    "duration": 4,
    "start_time": "2023-04-28T16:01:46.842Z"
   },
   {
    "duration": 795,
    "start_time": "2023-04-28T16:01:46.847Z"
   },
   {
    "duration": 10,
    "start_time": "2023-04-28T16:01:47.644Z"
   },
   {
    "duration": 8,
    "start_time": "2023-04-28T16:01:47.655Z"
   },
   {
    "duration": 8560,
    "start_time": "2023-04-28T16:01:47.664Z"
   },
   {
    "duration": 82,
    "start_time": "2023-04-28T16:01:56.225Z"
   },
   {
    "duration": 44,
    "start_time": "2023-04-28T16:01:56.308Z"
   },
   {
    "duration": 0,
    "start_time": "2023-04-28T16:01:56.353Z"
   },
   {
    "duration": 0,
    "start_time": "2023-04-28T16:01:56.354Z"
   },
   {
    "duration": 0,
    "start_time": "2023-04-28T16:01:56.355Z"
   },
   {
    "duration": 0,
    "start_time": "2023-04-28T16:01:56.355Z"
   },
   {
    "duration": 0,
    "start_time": "2023-04-28T16:01:56.356Z"
   },
   {
    "duration": 0,
    "start_time": "2023-04-28T16:01:56.357Z"
   },
   {
    "duration": 126,
    "start_time": "2023-04-28T16:02:17.572Z"
   },
   {
    "duration": 224295,
    "start_time": "2023-04-28T16:02:31.033Z"
   },
   {
    "duration": 3,
    "start_time": "2023-04-28T16:06:15.331Z"
   },
   {
    "duration": 97,
    "start_time": "2023-04-28T16:07:19.322Z"
   },
   {
    "duration": 0,
    "start_time": "2023-04-28T16:07:19.424Z"
   },
   {
    "duration": 0,
    "start_time": "2023-04-28T16:07:19.425Z"
   },
   {
    "duration": 0,
    "start_time": "2023-04-28T16:07:19.426Z"
   },
   {
    "duration": 0,
    "start_time": "2023-04-28T16:07:19.427Z"
   },
   {
    "duration": 58979,
    "start_time": "2023-04-28T16:07:22.354Z"
   },
   {
    "duration": 9418,
    "start_time": "2023-04-28T16:08:21.335Z"
   },
   {
    "duration": 96,
    "start_time": "2023-04-28T16:08:30.755Z"
   },
   {
    "duration": 67,
    "start_time": "2023-04-28T16:08:30.854Z"
   },
   {
    "duration": 9734,
    "start_time": "2023-04-28T16:08:30.923Z"
   }
  ],
  "kernelspec": {
   "display_name": "Python 3 (ipykernel)",
   "language": "python",
   "name": "python3"
  },
  "language_info": {
   "codemirror_mode": {
    "name": "ipython",
    "version": 3
   },
   "file_extension": ".py",
   "mimetype": "text/x-python",
   "name": "python",
   "nbconvert_exporter": "python",
   "pygments_lexer": "ipython3",
   "version": "3.9.13"
  },
  "toc": {
   "base_numbering": 1,
   "nav_menu": {},
   "number_sections": true,
   "sideBar": true,
   "skip_h1_title": true,
   "title_cell": "Table of Contents",
   "title_sidebar": "Contents",
   "toc_cell": false,
   "toc_position": {},
   "toc_section_display": true,
   "toc_window_display": false
  }
 },
 "nbformat": 4,
 "nbformat_minor": 2
}
