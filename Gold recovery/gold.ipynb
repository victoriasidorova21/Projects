{
 "cells": [
  {
   "cell_type": "markdown",
   "metadata": {},
   "source": [
    "# Восстановление золота из руды"
   ]
  },
  {
   "cell_type": "markdown",
   "metadata": {},
   "source": [
    "Компания разрабатывает решения для эффективной работы промышленных предприятий.\n",
    "\n",
    "Модель должна предсказать коэффициент восстановления золота из золотосодержащей руды.\n",
    "\n",
    "Модель поможет оптимизировать производство, чтобы не запускать предприятие с убыточными характеристиками.\n",
    "\n",
    "План работы:\n",
    "\n",
    "1. Подготовить данные;\n",
    "2. Провести исследовательский анализ данных;\n",
    "3. Построить и обучить модель."
   ]
  },
  {
   "cell_type": "markdown",
   "metadata": {},
   "source": [
    "Описание данных\n",
    "\n",
    "Технологический процесс\n",
    "\n",
    "Rougher feed — исходное сырье\n",
    "\n",
    "Rougher additions (или reagent additions) — флотационные реагенты: Xanthate, Sulphate, Depressant \n",
    "    \n",
    "Xanthate **— ксантогенат (промотер, или активатор флотации);\n",
    "\n",
    "Sulphate — сульфат (на данном производстве сульфид натрия);\n",
    "\n",
    "Depressant — депрессант (силикат натрия).\n",
    "\n",
    "Rougher process (англ. «грубый процесс») — флотация\n",
    "\n",
    "Rougher tails — отвальные хвосты\n",
    "\n",
    "Float banks — флотационная установка\n",
    "\n",
    "Cleaner process — очистка\n",
    "\n",
    "Rougher Au — черновой концентрат золота\n",
    "\n",
    "Final Au — финальный концентрат золота\n",
    "\n",
    "Параметры этапов\n",
    "\n",
    "air amount — объём воздуха\n",
    "\n",
    "fluid levels — уровень жидкости\n",
    "\n",
    "feed size — размер гранул сырья\n",
    "\n",
    "feed rate — скорость подачи"
   ]
  },
  {
   "cell_type": "markdown",
   "metadata": {},
   "source": [
    "## Подготовка данных"
   ]
  },
  {
   "cell_type": "code",
   "execution_count": 1,
   "metadata": {},
   "outputs": [],
   "source": [
    "#подключим необходимые библиотеки\n",
    "import pandas as pd\n",
    "from sklearn.model_selection import train_test_split\n",
    "from sklearn.preprocessing import StandardScaler \n",
    "from sklearn.linear_model import LinearRegression\n",
    "from sklearn.ensemble import RandomForestRegressor\n",
    "from sklearn.model_selection import cross_val_score\n",
    "from sklearn.tree import DecisionTreeRegressor\n",
    "from sklearn import preprocessing\n",
    "from sklearn.metrics import mean_absolute_error\n",
    "from numpy.random import RandomState\n",
    "from scipy import stats as st\n",
    "import numpy as np\n",
    "from sklearn.impute import KNNImputer\n",
    "import matplotlib.pyplot as plt\n",
    "%matplotlib inline\n",
    "import seaborn as sns\n",
    "from sklearn.dummy import DummyRegressor\n",
    "import warnings \n",
    "warnings.filterwarnings('ignore')\n",
    "from sklearn.metrics import fbeta_score, make_scorer"
   ]
  },
  {
   "cell_type": "code",
   "execution_count": 2,
   "metadata": {},
   "outputs": [],
   "source": [
    "#загрузим данные\n",
    "train_df = pd.read_csv('/datasets/gold_recovery_train_new.csv')\n",
    "test_df = pd.read_csv('/datasets/gold_recovery_test_new.csv')\n",
    "full_df = pd.read_csv('/datasets/gold_recovery_full_new.csv')"
   ]
  },
  {
   "cell_type": "code",
   "execution_count": 3,
   "metadata": {},
   "outputs": [
    {
     "data": {
      "text/html": [
       "<div>\n",
       "<style scoped>\n",
       "    .dataframe tbody tr th:only-of-type {\n",
       "        vertical-align: middle;\n",
       "    }\n",
       "\n",
       "    .dataframe tbody tr th {\n",
       "        vertical-align: top;\n",
       "    }\n",
       "\n",
       "    .dataframe thead th {\n",
       "        text-align: right;\n",
       "    }\n",
       "</style>\n",
       "<table border=\"1\" class=\"dataframe\">\n",
       "  <thead>\n",
       "    <tr style=\"text-align: right;\">\n",
       "      <th></th>\n",
       "      <th>date</th>\n",
       "      <th>final.output.concentrate_ag</th>\n",
       "      <th>final.output.concentrate_pb</th>\n",
       "      <th>final.output.concentrate_sol</th>\n",
       "      <th>final.output.concentrate_au</th>\n",
       "      <th>final.output.recovery</th>\n",
       "      <th>final.output.tail_ag</th>\n",
       "      <th>final.output.tail_pb</th>\n",
       "      <th>final.output.tail_sol</th>\n",
       "      <th>final.output.tail_au</th>\n",
       "      <th>...</th>\n",
       "      <th>secondary_cleaner.state.floatbank4_a_air</th>\n",
       "      <th>secondary_cleaner.state.floatbank4_a_level</th>\n",
       "      <th>secondary_cleaner.state.floatbank4_b_air</th>\n",
       "      <th>secondary_cleaner.state.floatbank4_b_level</th>\n",
       "      <th>secondary_cleaner.state.floatbank5_a_air</th>\n",
       "      <th>secondary_cleaner.state.floatbank5_a_level</th>\n",
       "      <th>secondary_cleaner.state.floatbank5_b_air</th>\n",
       "      <th>secondary_cleaner.state.floatbank5_b_level</th>\n",
       "      <th>secondary_cleaner.state.floatbank6_a_air</th>\n",
       "      <th>secondary_cleaner.state.floatbank6_a_level</th>\n",
       "    </tr>\n",
       "  </thead>\n",
       "  <tbody>\n",
       "    <tr>\n",
       "      <th>0</th>\n",
       "      <td>2016-01-15 00:00:00</td>\n",
       "      <td>6.055403</td>\n",
       "      <td>9.889648</td>\n",
       "      <td>5.507324</td>\n",
       "      <td>42.192020</td>\n",
       "      <td>70.541216</td>\n",
       "      <td>10.411962</td>\n",
       "      <td>0.895447</td>\n",
       "      <td>16.904297</td>\n",
       "      <td>2.143149</td>\n",
       "      <td>...</td>\n",
       "      <td>14.016835</td>\n",
       "      <td>-502.488007</td>\n",
       "      <td>12.099931</td>\n",
       "      <td>-504.715942</td>\n",
       "      <td>9.925633</td>\n",
       "      <td>-498.310211</td>\n",
       "      <td>8.079666</td>\n",
       "      <td>-500.470978</td>\n",
       "      <td>14.151341</td>\n",
       "      <td>-605.841980</td>\n",
       "    </tr>\n",
       "    <tr>\n",
       "      <th>1</th>\n",
       "      <td>2016-01-15 01:00:00</td>\n",
       "      <td>6.029369</td>\n",
       "      <td>9.968944</td>\n",
       "      <td>5.257781</td>\n",
       "      <td>42.701629</td>\n",
       "      <td>69.266198</td>\n",
       "      <td>10.462676</td>\n",
       "      <td>0.927452</td>\n",
       "      <td>16.634514</td>\n",
       "      <td>2.224930</td>\n",
       "      <td>...</td>\n",
       "      <td>13.992281</td>\n",
       "      <td>-505.503262</td>\n",
       "      <td>11.950531</td>\n",
       "      <td>-501.331529</td>\n",
       "      <td>10.039245</td>\n",
       "      <td>-500.169983</td>\n",
       "      <td>7.984757</td>\n",
       "      <td>-500.582168</td>\n",
       "      <td>13.998353</td>\n",
       "      <td>-599.787184</td>\n",
       "    </tr>\n",
       "    <tr>\n",
       "      <th>2</th>\n",
       "      <td>2016-01-15 02:00:00</td>\n",
       "      <td>6.055926</td>\n",
       "      <td>10.213995</td>\n",
       "      <td>5.383759</td>\n",
       "      <td>42.657501</td>\n",
       "      <td>68.116445</td>\n",
       "      <td>10.507046</td>\n",
       "      <td>0.953716</td>\n",
       "      <td>16.208849</td>\n",
       "      <td>2.257889</td>\n",
       "      <td>...</td>\n",
       "      <td>14.015015</td>\n",
       "      <td>-502.520901</td>\n",
       "      <td>11.912783</td>\n",
       "      <td>-501.133383</td>\n",
       "      <td>10.070913</td>\n",
       "      <td>-500.129135</td>\n",
       "      <td>8.013877</td>\n",
       "      <td>-500.517572</td>\n",
       "      <td>14.028663</td>\n",
       "      <td>-601.427363</td>\n",
       "    </tr>\n",
       "    <tr>\n",
       "      <th>3</th>\n",
       "      <td>2016-01-15 03:00:00</td>\n",
       "      <td>6.047977</td>\n",
       "      <td>9.977019</td>\n",
       "      <td>4.858634</td>\n",
       "      <td>42.689819</td>\n",
       "      <td>68.347543</td>\n",
       "      <td>10.422762</td>\n",
       "      <td>0.883763</td>\n",
       "      <td>16.532835</td>\n",
       "      <td>2.146849</td>\n",
       "      <td>...</td>\n",
       "      <td>14.036510</td>\n",
       "      <td>-500.857308</td>\n",
       "      <td>11.999550</td>\n",
       "      <td>-501.193686</td>\n",
       "      <td>9.970366</td>\n",
       "      <td>-499.201640</td>\n",
       "      <td>7.977324</td>\n",
       "      <td>-500.255908</td>\n",
       "      <td>14.005551</td>\n",
       "      <td>-599.996129</td>\n",
       "    </tr>\n",
       "    <tr>\n",
       "      <th>4</th>\n",
       "      <td>2016-01-15 04:00:00</td>\n",
       "      <td>6.148599</td>\n",
       "      <td>10.142511</td>\n",
       "      <td>4.939416</td>\n",
       "      <td>42.774141</td>\n",
       "      <td>66.927016</td>\n",
       "      <td>10.360302</td>\n",
       "      <td>0.792826</td>\n",
       "      <td>16.525686</td>\n",
       "      <td>2.055292</td>\n",
       "      <td>...</td>\n",
       "      <td>14.027298</td>\n",
       "      <td>-499.838632</td>\n",
       "      <td>11.953070</td>\n",
       "      <td>-501.053894</td>\n",
       "      <td>9.925709</td>\n",
       "      <td>-501.686727</td>\n",
       "      <td>7.894242</td>\n",
       "      <td>-500.356035</td>\n",
       "      <td>13.996647</td>\n",
       "      <td>-601.496691</td>\n",
       "    </tr>\n",
       "  </tbody>\n",
       "</table>\n",
       "<p>5 rows × 87 columns</p>\n",
       "</div>"
      ],
      "text/plain": [
       "                  date  final.output.concentrate_ag  \\\n",
       "0  2016-01-15 00:00:00                     6.055403   \n",
       "1  2016-01-15 01:00:00                     6.029369   \n",
       "2  2016-01-15 02:00:00                     6.055926   \n",
       "3  2016-01-15 03:00:00                     6.047977   \n",
       "4  2016-01-15 04:00:00                     6.148599   \n",
       "\n",
       "   final.output.concentrate_pb  final.output.concentrate_sol  \\\n",
       "0                     9.889648                      5.507324   \n",
       "1                     9.968944                      5.257781   \n",
       "2                    10.213995                      5.383759   \n",
       "3                     9.977019                      4.858634   \n",
       "4                    10.142511                      4.939416   \n",
       "\n",
       "   final.output.concentrate_au  final.output.recovery  final.output.tail_ag  \\\n",
       "0                    42.192020              70.541216             10.411962   \n",
       "1                    42.701629              69.266198             10.462676   \n",
       "2                    42.657501              68.116445             10.507046   \n",
       "3                    42.689819              68.347543             10.422762   \n",
       "4                    42.774141              66.927016             10.360302   \n",
       "\n",
       "   final.output.tail_pb  final.output.tail_sol  final.output.tail_au  ...  \\\n",
       "0              0.895447              16.904297              2.143149  ...   \n",
       "1              0.927452              16.634514              2.224930  ...   \n",
       "2              0.953716              16.208849              2.257889  ...   \n",
       "3              0.883763              16.532835              2.146849  ...   \n",
       "4              0.792826              16.525686              2.055292  ...   \n",
       "\n",
       "   secondary_cleaner.state.floatbank4_a_air  \\\n",
       "0                                 14.016835   \n",
       "1                                 13.992281   \n",
       "2                                 14.015015   \n",
       "3                                 14.036510   \n",
       "4                                 14.027298   \n",
       "\n",
       "   secondary_cleaner.state.floatbank4_a_level  \\\n",
       "0                                 -502.488007   \n",
       "1                                 -505.503262   \n",
       "2                                 -502.520901   \n",
       "3                                 -500.857308   \n",
       "4                                 -499.838632   \n",
       "\n",
       "   secondary_cleaner.state.floatbank4_b_air  \\\n",
       "0                                 12.099931   \n",
       "1                                 11.950531   \n",
       "2                                 11.912783   \n",
       "3                                 11.999550   \n",
       "4                                 11.953070   \n",
       "\n",
       "   secondary_cleaner.state.floatbank4_b_level  \\\n",
       "0                                 -504.715942   \n",
       "1                                 -501.331529   \n",
       "2                                 -501.133383   \n",
       "3                                 -501.193686   \n",
       "4                                 -501.053894   \n",
       "\n",
       "   secondary_cleaner.state.floatbank5_a_air  \\\n",
       "0                                  9.925633   \n",
       "1                                 10.039245   \n",
       "2                                 10.070913   \n",
       "3                                  9.970366   \n",
       "4                                  9.925709   \n",
       "\n",
       "   secondary_cleaner.state.floatbank5_a_level  \\\n",
       "0                                 -498.310211   \n",
       "1                                 -500.169983   \n",
       "2                                 -500.129135   \n",
       "3                                 -499.201640   \n",
       "4                                 -501.686727   \n",
       "\n",
       "   secondary_cleaner.state.floatbank5_b_air  \\\n",
       "0                                  8.079666   \n",
       "1                                  7.984757   \n",
       "2                                  8.013877   \n",
       "3                                  7.977324   \n",
       "4                                  7.894242   \n",
       "\n",
       "   secondary_cleaner.state.floatbank5_b_level  \\\n",
       "0                                 -500.470978   \n",
       "1                                 -500.582168   \n",
       "2                                 -500.517572   \n",
       "3                                 -500.255908   \n",
       "4                                 -500.356035   \n",
       "\n",
       "   secondary_cleaner.state.floatbank6_a_air  \\\n",
       "0                                 14.151341   \n",
       "1                                 13.998353   \n",
       "2                                 14.028663   \n",
       "3                                 14.005551   \n",
       "4                                 13.996647   \n",
       "\n",
       "   secondary_cleaner.state.floatbank6_a_level  \n",
       "0                                 -605.841980  \n",
       "1                                 -599.787184  \n",
       "2                                 -601.427363  \n",
       "3                                 -599.996129  \n",
       "4                                 -601.496691  \n",
       "\n",
       "[5 rows x 87 columns]"
      ]
     },
     "execution_count": 3,
     "metadata": {},
     "output_type": "execute_result"
    }
   ],
   "source": [
    "#посмотрим первые пять строк датасета\n",
    "train_df.head(5)"
   ]
  },
  {
   "cell_type": "code",
   "execution_count": 4,
   "metadata": {},
   "outputs": [
    {
     "data": {
      "text/html": [
       "<div>\n",
       "<style scoped>\n",
       "    .dataframe tbody tr th:only-of-type {\n",
       "        vertical-align: middle;\n",
       "    }\n",
       "\n",
       "    .dataframe tbody tr th {\n",
       "        vertical-align: top;\n",
       "    }\n",
       "\n",
       "    .dataframe thead th {\n",
       "        text-align: right;\n",
       "    }\n",
       "</style>\n",
       "<table border=\"1\" class=\"dataframe\">\n",
       "  <thead>\n",
       "    <tr style=\"text-align: right;\">\n",
       "      <th></th>\n",
       "      <th>date</th>\n",
       "      <th>primary_cleaner.input.sulfate</th>\n",
       "      <th>primary_cleaner.input.depressant</th>\n",
       "      <th>primary_cleaner.input.feed_size</th>\n",
       "      <th>primary_cleaner.input.xanthate</th>\n",
       "      <th>primary_cleaner.state.floatbank8_a_air</th>\n",
       "      <th>primary_cleaner.state.floatbank8_a_level</th>\n",
       "      <th>primary_cleaner.state.floatbank8_b_air</th>\n",
       "      <th>primary_cleaner.state.floatbank8_b_level</th>\n",
       "      <th>primary_cleaner.state.floatbank8_c_air</th>\n",
       "      <th>...</th>\n",
       "      <th>secondary_cleaner.state.floatbank4_a_air</th>\n",
       "      <th>secondary_cleaner.state.floatbank4_a_level</th>\n",
       "      <th>secondary_cleaner.state.floatbank4_b_air</th>\n",
       "      <th>secondary_cleaner.state.floatbank4_b_level</th>\n",
       "      <th>secondary_cleaner.state.floatbank5_a_air</th>\n",
       "      <th>secondary_cleaner.state.floatbank5_a_level</th>\n",
       "      <th>secondary_cleaner.state.floatbank5_b_air</th>\n",
       "      <th>secondary_cleaner.state.floatbank5_b_level</th>\n",
       "      <th>secondary_cleaner.state.floatbank6_a_air</th>\n",
       "      <th>secondary_cleaner.state.floatbank6_a_level</th>\n",
       "    </tr>\n",
       "  </thead>\n",
       "  <tbody>\n",
       "    <tr>\n",
       "      <th>0</th>\n",
       "      <td>2016-09-01 00:59:59</td>\n",
       "      <td>210.800909</td>\n",
       "      <td>14.993118</td>\n",
       "      <td>8.080000</td>\n",
       "      <td>1.005021</td>\n",
       "      <td>1398.981301</td>\n",
       "      <td>-500.225577</td>\n",
       "      <td>1399.144926</td>\n",
       "      <td>-499.919735</td>\n",
       "      <td>1400.102998</td>\n",
       "      <td>...</td>\n",
       "      <td>12.023554</td>\n",
       "      <td>-497.795834</td>\n",
       "      <td>8.016656</td>\n",
       "      <td>-501.289139</td>\n",
       "      <td>7.946562</td>\n",
       "      <td>-432.317850</td>\n",
       "      <td>4.872511</td>\n",
       "      <td>-500.037437</td>\n",
       "      <td>26.705889</td>\n",
       "      <td>-499.709414</td>\n",
       "    </tr>\n",
       "    <tr>\n",
       "      <th>1</th>\n",
       "      <td>2016-09-01 01:59:59</td>\n",
       "      <td>215.392455</td>\n",
       "      <td>14.987471</td>\n",
       "      <td>8.080000</td>\n",
       "      <td>0.990469</td>\n",
       "      <td>1398.777912</td>\n",
       "      <td>-500.057435</td>\n",
       "      <td>1398.055362</td>\n",
       "      <td>-499.778182</td>\n",
       "      <td>1396.151033</td>\n",
       "      <td>...</td>\n",
       "      <td>12.058140</td>\n",
       "      <td>-498.695773</td>\n",
       "      <td>8.130979</td>\n",
       "      <td>-499.634209</td>\n",
       "      <td>7.958270</td>\n",
       "      <td>-525.839648</td>\n",
       "      <td>4.878850</td>\n",
       "      <td>-500.162375</td>\n",
       "      <td>25.019940</td>\n",
       "      <td>-499.819438</td>\n",
       "    </tr>\n",
       "    <tr>\n",
       "      <th>2</th>\n",
       "      <td>2016-09-01 02:59:59</td>\n",
       "      <td>215.259946</td>\n",
       "      <td>12.884934</td>\n",
       "      <td>7.786667</td>\n",
       "      <td>0.996043</td>\n",
       "      <td>1398.493666</td>\n",
       "      <td>-500.868360</td>\n",
       "      <td>1398.860436</td>\n",
       "      <td>-499.764529</td>\n",
       "      <td>1398.075709</td>\n",
       "      <td>...</td>\n",
       "      <td>11.962366</td>\n",
       "      <td>-498.767484</td>\n",
       "      <td>8.096893</td>\n",
       "      <td>-500.827423</td>\n",
       "      <td>8.071056</td>\n",
       "      <td>-500.801673</td>\n",
       "      <td>4.905125</td>\n",
       "      <td>-499.828510</td>\n",
       "      <td>24.994862</td>\n",
       "      <td>-500.622559</td>\n",
       "    </tr>\n",
       "    <tr>\n",
       "      <th>3</th>\n",
       "      <td>2016-09-01 03:59:59</td>\n",
       "      <td>215.336236</td>\n",
       "      <td>12.006805</td>\n",
       "      <td>7.640000</td>\n",
       "      <td>0.863514</td>\n",
       "      <td>1399.618111</td>\n",
       "      <td>-498.863574</td>\n",
       "      <td>1397.440120</td>\n",
       "      <td>-499.211024</td>\n",
       "      <td>1400.129303</td>\n",
       "      <td>...</td>\n",
       "      <td>12.033091</td>\n",
       "      <td>-498.350935</td>\n",
       "      <td>8.074946</td>\n",
       "      <td>-499.474407</td>\n",
       "      <td>7.897085</td>\n",
       "      <td>-500.868509</td>\n",
       "      <td>4.931400</td>\n",
       "      <td>-499.963623</td>\n",
       "      <td>24.948919</td>\n",
       "      <td>-498.709987</td>\n",
       "    </tr>\n",
       "    <tr>\n",
       "      <th>4</th>\n",
       "      <td>2016-09-01 04:59:59</td>\n",
       "      <td>199.099327</td>\n",
       "      <td>10.682530</td>\n",
       "      <td>7.530000</td>\n",
       "      <td>0.805575</td>\n",
       "      <td>1401.268123</td>\n",
       "      <td>-500.808305</td>\n",
       "      <td>1398.128818</td>\n",
       "      <td>-499.504543</td>\n",
       "      <td>1402.172226</td>\n",
       "      <td>...</td>\n",
       "      <td>12.025367</td>\n",
       "      <td>-500.786497</td>\n",
       "      <td>8.054678</td>\n",
       "      <td>-500.397500</td>\n",
       "      <td>8.107890</td>\n",
       "      <td>-509.526725</td>\n",
       "      <td>4.957674</td>\n",
       "      <td>-500.360026</td>\n",
       "      <td>25.003331</td>\n",
       "      <td>-500.856333</td>\n",
       "    </tr>\n",
       "  </tbody>\n",
       "</table>\n",
       "<p>5 rows × 53 columns</p>\n",
       "</div>"
      ],
      "text/plain": [
       "                  date  primary_cleaner.input.sulfate  \\\n",
       "0  2016-09-01 00:59:59                     210.800909   \n",
       "1  2016-09-01 01:59:59                     215.392455   \n",
       "2  2016-09-01 02:59:59                     215.259946   \n",
       "3  2016-09-01 03:59:59                     215.336236   \n",
       "4  2016-09-01 04:59:59                     199.099327   \n",
       "\n",
       "   primary_cleaner.input.depressant  primary_cleaner.input.feed_size  \\\n",
       "0                         14.993118                         8.080000   \n",
       "1                         14.987471                         8.080000   \n",
       "2                         12.884934                         7.786667   \n",
       "3                         12.006805                         7.640000   \n",
       "4                         10.682530                         7.530000   \n",
       "\n",
       "   primary_cleaner.input.xanthate  primary_cleaner.state.floatbank8_a_air  \\\n",
       "0                        1.005021                             1398.981301   \n",
       "1                        0.990469                             1398.777912   \n",
       "2                        0.996043                             1398.493666   \n",
       "3                        0.863514                             1399.618111   \n",
       "4                        0.805575                             1401.268123   \n",
       "\n",
       "   primary_cleaner.state.floatbank8_a_level  \\\n",
       "0                               -500.225577   \n",
       "1                               -500.057435   \n",
       "2                               -500.868360   \n",
       "3                               -498.863574   \n",
       "4                               -500.808305   \n",
       "\n",
       "   primary_cleaner.state.floatbank8_b_air  \\\n",
       "0                             1399.144926   \n",
       "1                             1398.055362   \n",
       "2                             1398.860436   \n",
       "3                             1397.440120   \n",
       "4                             1398.128818   \n",
       "\n",
       "   primary_cleaner.state.floatbank8_b_level  \\\n",
       "0                               -499.919735   \n",
       "1                               -499.778182   \n",
       "2                               -499.764529   \n",
       "3                               -499.211024   \n",
       "4                               -499.504543   \n",
       "\n",
       "   primary_cleaner.state.floatbank8_c_air  ...  \\\n",
       "0                             1400.102998  ...   \n",
       "1                             1396.151033  ...   \n",
       "2                             1398.075709  ...   \n",
       "3                             1400.129303  ...   \n",
       "4                             1402.172226  ...   \n",
       "\n",
       "   secondary_cleaner.state.floatbank4_a_air  \\\n",
       "0                                 12.023554   \n",
       "1                                 12.058140   \n",
       "2                                 11.962366   \n",
       "3                                 12.033091   \n",
       "4                                 12.025367   \n",
       "\n",
       "   secondary_cleaner.state.floatbank4_a_level  \\\n",
       "0                                 -497.795834   \n",
       "1                                 -498.695773   \n",
       "2                                 -498.767484   \n",
       "3                                 -498.350935   \n",
       "4                                 -500.786497   \n",
       "\n",
       "   secondary_cleaner.state.floatbank4_b_air  \\\n",
       "0                                  8.016656   \n",
       "1                                  8.130979   \n",
       "2                                  8.096893   \n",
       "3                                  8.074946   \n",
       "4                                  8.054678   \n",
       "\n",
       "   secondary_cleaner.state.floatbank4_b_level  \\\n",
       "0                                 -501.289139   \n",
       "1                                 -499.634209   \n",
       "2                                 -500.827423   \n",
       "3                                 -499.474407   \n",
       "4                                 -500.397500   \n",
       "\n",
       "   secondary_cleaner.state.floatbank5_a_air  \\\n",
       "0                                  7.946562   \n",
       "1                                  7.958270   \n",
       "2                                  8.071056   \n",
       "3                                  7.897085   \n",
       "4                                  8.107890   \n",
       "\n",
       "   secondary_cleaner.state.floatbank5_a_level  \\\n",
       "0                                 -432.317850   \n",
       "1                                 -525.839648   \n",
       "2                                 -500.801673   \n",
       "3                                 -500.868509   \n",
       "4                                 -509.526725   \n",
       "\n",
       "   secondary_cleaner.state.floatbank5_b_air  \\\n",
       "0                                  4.872511   \n",
       "1                                  4.878850   \n",
       "2                                  4.905125   \n",
       "3                                  4.931400   \n",
       "4                                  4.957674   \n",
       "\n",
       "   secondary_cleaner.state.floatbank5_b_level  \\\n",
       "0                                 -500.037437   \n",
       "1                                 -500.162375   \n",
       "2                                 -499.828510   \n",
       "3                                 -499.963623   \n",
       "4                                 -500.360026   \n",
       "\n",
       "   secondary_cleaner.state.floatbank6_a_air  \\\n",
       "0                                 26.705889   \n",
       "1                                 25.019940   \n",
       "2                                 24.994862   \n",
       "3                                 24.948919   \n",
       "4                                 25.003331   \n",
       "\n",
       "   secondary_cleaner.state.floatbank6_a_level  \n",
       "0                                 -499.709414  \n",
       "1                                 -499.819438  \n",
       "2                                 -500.622559  \n",
       "3                                 -498.709987  \n",
       "4                                 -500.856333  \n",
       "\n",
       "[5 rows x 53 columns]"
      ]
     },
     "execution_count": 4,
     "metadata": {},
     "output_type": "execute_result"
    }
   ],
   "source": [
    "#посмотрим первые пять строк датасета\n",
    "test_df.head(5)"
   ]
  },
  {
   "cell_type": "code",
   "execution_count": 5,
   "metadata": {},
   "outputs": [
    {
     "data": {
      "text/html": [
       "<div>\n",
       "<style scoped>\n",
       "    .dataframe tbody tr th:only-of-type {\n",
       "        vertical-align: middle;\n",
       "    }\n",
       "\n",
       "    .dataframe tbody tr th {\n",
       "        vertical-align: top;\n",
       "    }\n",
       "\n",
       "    .dataframe thead th {\n",
       "        text-align: right;\n",
       "    }\n",
       "</style>\n",
       "<table border=\"1\" class=\"dataframe\">\n",
       "  <thead>\n",
       "    <tr style=\"text-align: right;\">\n",
       "      <th></th>\n",
       "      <th>date</th>\n",
       "      <th>final.output.concentrate_ag</th>\n",
       "      <th>final.output.concentrate_pb</th>\n",
       "      <th>final.output.concentrate_sol</th>\n",
       "      <th>final.output.concentrate_au</th>\n",
       "      <th>final.output.recovery</th>\n",
       "      <th>final.output.tail_ag</th>\n",
       "      <th>final.output.tail_pb</th>\n",
       "      <th>final.output.tail_sol</th>\n",
       "      <th>final.output.tail_au</th>\n",
       "      <th>...</th>\n",
       "      <th>secondary_cleaner.state.floatbank4_a_air</th>\n",
       "      <th>secondary_cleaner.state.floatbank4_a_level</th>\n",
       "      <th>secondary_cleaner.state.floatbank4_b_air</th>\n",
       "      <th>secondary_cleaner.state.floatbank4_b_level</th>\n",
       "      <th>secondary_cleaner.state.floatbank5_a_air</th>\n",
       "      <th>secondary_cleaner.state.floatbank5_a_level</th>\n",
       "      <th>secondary_cleaner.state.floatbank5_b_air</th>\n",
       "      <th>secondary_cleaner.state.floatbank5_b_level</th>\n",
       "      <th>secondary_cleaner.state.floatbank6_a_air</th>\n",
       "      <th>secondary_cleaner.state.floatbank6_a_level</th>\n",
       "    </tr>\n",
       "  </thead>\n",
       "  <tbody>\n",
       "    <tr>\n",
       "      <th>0</th>\n",
       "      <td>2016-01-15 00:00:00</td>\n",
       "      <td>6.055403</td>\n",
       "      <td>9.889648</td>\n",
       "      <td>5.507324</td>\n",
       "      <td>42.192020</td>\n",
       "      <td>70.541216</td>\n",
       "      <td>10.411962</td>\n",
       "      <td>0.895447</td>\n",
       "      <td>16.904297</td>\n",
       "      <td>2.143149</td>\n",
       "      <td>...</td>\n",
       "      <td>14.016835</td>\n",
       "      <td>-502.488007</td>\n",
       "      <td>12.099931</td>\n",
       "      <td>-504.715942</td>\n",
       "      <td>9.925633</td>\n",
       "      <td>-498.310211</td>\n",
       "      <td>8.079666</td>\n",
       "      <td>-500.470978</td>\n",
       "      <td>14.151341</td>\n",
       "      <td>-605.841980</td>\n",
       "    </tr>\n",
       "    <tr>\n",
       "      <th>1</th>\n",
       "      <td>2016-01-15 01:00:00</td>\n",
       "      <td>6.029369</td>\n",
       "      <td>9.968944</td>\n",
       "      <td>5.257781</td>\n",
       "      <td>42.701629</td>\n",
       "      <td>69.266198</td>\n",
       "      <td>10.462676</td>\n",
       "      <td>0.927452</td>\n",
       "      <td>16.634514</td>\n",
       "      <td>2.224930</td>\n",
       "      <td>...</td>\n",
       "      <td>13.992281</td>\n",
       "      <td>-505.503262</td>\n",
       "      <td>11.950531</td>\n",
       "      <td>-501.331529</td>\n",
       "      <td>10.039245</td>\n",
       "      <td>-500.169983</td>\n",
       "      <td>7.984757</td>\n",
       "      <td>-500.582168</td>\n",
       "      <td>13.998353</td>\n",
       "      <td>-599.787184</td>\n",
       "    </tr>\n",
       "    <tr>\n",
       "      <th>2</th>\n",
       "      <td>2016-01-15 02:00:00</td>\n",
       "      <td>6.055926</td>\n",
       "      <td>10.213995</td>\n",
       "      <td>5.383759</td>\n",
       "      <td>42.657501</td>\n",
       "      <td>68.116445</td>\n",
       "      <td>10.507046</td>\n",
       "      <td>0.953716</td>\n",
       "      <td>16.208849</td>\n",
       "      <td>2.257889</td>\n",
       "      <td>...</td>\n",
       "      <td>14.015015</td>\n",
       "      <td>-502.520901</td>\n",
       "      <td>11.912783</td>\n",
       "      <td>-501.133383</td>\n",
       "      <td>10.070913</td>\n",
       "      <td>-500.129135</td>\n",
       "      <td>8.013877</td>\n",
       "      <td>-500.517572</td>\n",
       "      <td>14.028663</td>\n",
       "      <td>-601.427363</td>\n",
       "    </tr>\n",
       "    <tr>\n",
       "      <th>3</th>\n",
       "      <td>2016-01-15 03:00:00</td>\n",
       "      <td>6.047977</td>\n",
       "      <td>9.977019</td>\n",
       "      <td>4.858634</td>\n",
       "      <td>42.689819</td>\n",
       "      <td>68.347543</td>\n",
       "      <td>10.422762</td>\n",
       "      <td>0.883763</td>\n",
       "      <td>16.532835</td>\n",
       "      <td>2.146849</td>\n",
       "      <td>...</td>\n",
       "      <td>14.036510</td>\n",
       "      <td>-500.857308</td>\n",
       "      <td>11.999550</td>\n",
       "      <td>-501.193686</td>\n",
       "      <td>9.970366</td>\n",
       "      <td>-499.201640</td>\n",
       "      <td>7.977324</td>\n",
       "      <td>-500.255908</td>\n",
       "      <td>14.005551</td>\n",
       "      <td>-599.996129</td>\n",
       "    </tr>\n",
       "    <tr>\n",
       "      <th>4</th>\n",
       "      <td>2016-01-15 04:00:00</td>\n",
       "      <td>6.148599</td>\n",
       "      <td>10.142511</td>\n",
       "      <td>4.939416</td>\n",
       "      <td>42.774141</td>\n",
       "      <td>66.927016</td>\n",
       "      <td>10.360302</td>\n",
       "      <td>0.792826</td>\n",
       "      <td>16.525686</td>\n",
       "      <td>2.055292</td>\n",
       "      <td>...</td>\n",
       "      <td>14.027298</td>\n",
       "      <td>-499.838632</td>\n",
       "      <td>11.953070</td>\n",
       "      <td>-501.053894</td>\n",
       "      <td>9.925709</td>\n",
       "      <td>-501.686727</td>\n",
       "      <td>7.894242</td>\n",
       "      <td>-500.356035</td>\n",
       "      <td>13.996647</td>\n",
       "      <td>-601.496691</td>\n",
       "    </tr>\n",
       "  </tbody>\n",
       "</table>\n",
       "<p>5 rows × 87 columns</p>\n",
       "</div>"
      ],
      "text/plain": [
       "                  date  final.output.concentrate_ag  \\\n",
       "0  2016-01-15 00:00:00                     6.055403   \n",
       "1  2016-01-15 01:00:00                     6.029369   \n",
       "2  2016-01-15 02:00:00                     6.055926   \n",
       "3  2016-01-15 03:00:00                     6.047977   \n",
       "4  2016-01-15 04:00:00                     6.148599   \n",
       "\n",
       "   final.output.concentrate_pb  final.output.concentrate_sol  \\\n",
       "0                     9.889648                      5.507324   \n",
       "1                     9.968944                      5.257781   \n",
       "2                    10.213995                      5.383759   \n",
       "3                     9.977019                      4.858634   \n",
       "4                    10.142511                      4.939416   \n",
       "\n",
       "   final.output.concentrate_au  final.output.recovery  final.output.tail_ag  \\\n",
       "0                    42.192020              70.541216             10.411962   \n",
       "1                    42.701629              69.266198             10.462676   \n",
       "2                    42.657501              68.116445             10.507046   \n",
       "3                    42.689819              68.347543             10.422762   \n",
       "4                    42.774141              66.927016             10.360302   \n",
       "\n",
       "   final.output.tail_pb  final.output.tail_sol  final.output.tail_au  ...  \\\n",
       "0              0.895447              16.904297              2.143149  ...   \n",
       "1              0.927452              16.634514              2.224930  ...   \n",
       "2              0.953716              16.208849              2.257889  ...   \n",
       "3              0.883763              16.532835              2.146849  ...   \n",
       "4              0.792826              16.525686              2.055292  ...   \n",
       "\n",
       "   secondary_cleaner.state.floatbank4_a_air  \\\n",
       "0                                 14.016835   \n",
       "1                                 13.992281   \n",
       "2                                 14.015015   \n",
       "3                                 14.036510   \n",
       "4                                 14.027298   \n",
       "\n",
       "   secondary_cleaner.state.floatbank4_a_level  \\\n",
       "0                                 -502.488007   \n",
       "1                                 -505.503262   \n",
       "2                                 -502.520901   \n",
       "3                                 -500.857308   \n",
       "4                                 -499.838632   \n",
       "\n",
       "   secondary_cleaner.state.floatbank4_b_air  \\\n",
       "0                                 12.099931   \n",
       "1                                 11.950531   \n",
       "2                                 11.912783   \n",
       "3                                 11.999550   \n",
       "4                                 11.953070   \n",
       "\n",
       "   secondary_cleaner.state.floatbank4_b_level  \\\n",
       "0                                 -504.715942   \n",
       "1                                 -501.331529   \n",
       "2                                 -501.133383   \n",
       "3                                 -501.193686   \n",
       "4                                 -501.053894   \n",
       "\n",
       "   secondary_cleaner.state.floatbank5_a_air  \\\n",
       "0                                  9.925633   \n",
       "1                                 10.039245   \n",
       "2                                 10.070913   \n",
       "3                                  9.970366   \n",
       "4                                  9.925709   \n",
       "\n",
       "   secondary_cleaner.state.floatbank5_a_level  \\\n",
       "0                                 -498.310211   \n",
       "1                                 -500.169983   \n",
       "2                                 -500.129135   \n",
       "3                                 -499.201640   \n",
       "4                                 -501.686727   \n",
       "\n",
       "   secondary_cleaner.state.floatbank5_b_air  \\\n",
       "0                                  8.079666   \n",
       "1                                  7.984757   \n",
       "2                                  8.013877   \n",
       "3                                  7.977324   \n",
       "4                                  7.894242   \n",
       "\n",
       "   secondary_cleaner.state.floatbank5_b_level  \\\n",
       "0                                 -500.470978   \n",
       "1                                 -500.582168   \n",
       "2                                 -500.517572   \n",
       "3                                 -500.255908   \n",
       "4                                 -500.356035   \n",
       "\n",
       "   secondary_cleaner.state.floatbank6_a_air  \\\n",
       "0                                 14.151341   \n",
       "1                                 13.998353   \n",
       "2                                 14.028663   \n",
       "3                                 14.005551   \n",
       "4                                 13.996647   \n",
       "\n",
       "   secondary_cleaner.state.floatbank6_a_level  \n",
       "0                                 -605.841980  \n",
       "1                                 -599.787184  \n",
       "2                                 -601.427363  \n",
       "3                                 -599.996129  \n",
       "4                                 -601.496691  \n",
       "\n",
       "[5 rows x 87 columns]"
      ]
     },
     "execution_count": 5,
     "metadata": {},
     "output_type": "execute_result"
    }
   ],
   "source": [
    "#посмотрим первые пять строк датасета\n",
    "full_df.head(5)"
   ]
  },
  {
   "cell_type": "code",
   "execution_count": 6,
   "metadata": {},
   "outputs": [
    {
     "data": {
      "text/plain": [
       "Index(['date', 'final.output.concentrate_ag', 'final.output.concentrate_pb',\n",
       "       'final.output.concentrate_sol', 'final.output.concentrate_au',\n",
       "       'final.output.recovery', 'final.output.tail_ag', 'final.output.tail_pb',\n",
       "       'final.output.tail_sol', 'final.output.tail_au',\n",
       "       'primary_cleaner.input.sulfate', 'primary_cleaner.input.depressant',\n",
       "       'primary_cleaner.input.feed_size', 'primary_cleaner.input.xanthate',\n",
       "       'primary_cleaner.output.concentrate_ag',\n",
       "       'primary_cleaner.output.concentrate_pb',\n",
       "       'primary_cleaner.output.concentrate_sol',\n",
       "       'primary_cleaner.output.concentrate_au',\n",
       "       'primary_cleaner.output.tail_ag', 'primary_cleaner.output.tail_pb',\n",
       "       'primary_cleaner.output.tail_sol', 'primary_cleaner.output.tail_au',\n",
       "       'primary_cleaner.state.floatbank8_a_air',\n",
       "       'primary_cleaner.state.floatbank8_a_level',\n",
       "       'primary_cleaner.state.floatbank8_b_air',\n",
       "       'primary_cleaner.state.floatbank8_b_level',\n",
       "       'primary_cleaner.state.floatbank8_c_air',\n",
       "       'primary_cleaner.state.floatbank8_c_level',\n",
       "       'primary_cleaner.state.floatbank8_d_air',\n",
       "       'primary_cleaner.state.floatbank8_d_level',\n",
       "       'rougher.calculation.sulfate_to_au_concentrate',\n",
       "       'rougher.calculation.floatbank10_sulfate_to_au_feed',\n",
       "       'rougher.calculation.floatbank11_sulfate_to_au_feed',\n",
       "       'rougher.calculation.au_pb_ratio', 'rougher.input.feed_ag',\n",
       "       'rougher.input.feed_pb', 'rougher.input.feed_rate',\n",
       "       'rougher.input.feed_size', 'rougher.input.feed_sol',\n",
       "       'rougher.input.feed_au', 'rougher.input.floatbank10_sulfate',\n",
       "       'rougher.input.floatbank10_xanthate',\n",
       "       'rougher.input.floatbank11_sulfate',\n",
       "       'rougher.input.floatbank11_xanthate', 'rougher.output.concentrate_ag',\n",
       "       'rougher.output.concentrate_pb', 'rougher.output.concentrate_sol',\n",
       "       'rougher.output.concentrate_au', 'rougher.output.recovery',\n",
       "       'rougher.output.tail_ag', 'rougher.output.tail_pb',\n",
       "       'rougher.output.tail_sol', 'rougher.output.tail_au',\n",
       "       'rougher.state.floatbank10_a_air', 'rougher.state.floatbank10_a_level',\n",
       "       'rougher.state.floatbank10_b_air', 'rougher.state.floatbank10_b_level',\n",
       "       'rougher.state.floatbank10_c_air', 'rougher.state.floatbank10_c_level',\n",
       "       'rougher.state.floatbank10_d_air', 'rougher.state.floatbank10_d_level',\n",
       "       'rougher.state.floatbank10_e_air', 'rougher.state.floatbank10_e_level',\n",
       "       'rougher.state.floatbank10_f_air', 'rougher.state.floatbank10_f_level',\n",
       "       'secondary_cleaner.output.tail_ag', 'secondary_cleaner.output.tail_pb',\n",
       "       'secondary_cleaner.output.tail_sol', 'secondary_cleaner.output.tail_au',\n",
       "       'secondary_cleaner.state.floatbank2_a_air',\n",
       "       'secondary_cleaner.state.floatbank2_a_level',\n",
       "       'secondary_cleaner.state.floatbank2_b_air',\n",
       "       'secondary_cleaner.state.floatbank2_b_level',\n",
       "       'secondary_cleaner.state.floatbank3_a_air',\n",
       "       'secondary_cleaner.state.floatbank3_a_level',\n",
       "       'secondary_cleaner.state.floatbank3_b_air',\n",
       "       'secondary_cleaner.state.floatbank3_b_level',\n",
       "       'secondary_cleaner.state.floatbank4_a_air',\n",
       "       'secondary_cleaner.state.floatbank4_a_level',\n",
       "       'secondary_cleaner.state.floatbank4_b_air',\n",
       "       'secondary_cleaner.state.floatbank4_b_level',\n",
       "       'secondary_cleaner.state.floatbank5_a_air',\n",
       "       'secondary_cleaner.state.floatbank5_a_level',\n",
       "       'secondary_cleaner.state.floatbank5_b_air',\n",
       "       'secondary_cleaner.state.floatbank5_b_level',\n",
       "       'secondary_cleaner.state.floatbank6_a_air',\n",
       "       'secondary_cleaner.state.floatbank6_a_level'],\n",
       "      dtype='object')"
      ]
     },
     "execution_count": 6,
     "metadata": {},
     "output_type": "execute_result"
    }
   ],
   "source": [
    "#выведим наименования колонок тренировочной выборки\n",
    "train_df.columns"
   ]
  },
  {
   "cell_type": "markdown",
   "metadata": {},
   "source": [
    "Проверим, что эффективность обогащения рассчитана правильно. \n",
    "\n",
    "Вычислим её на обучающей выборке для признака rougher.output.recovery. \n",
    "\n"
   ]
  },
  {
   "cell_type": "code",
   "execution_count": 7,
   "metadata": {},
   "outputs": [],
   "source": [
    "#обозначим переменные\n",
    "C=train_df['rougher.output.concentrate_au']\n",
    "F=train_df['rougher.input.feed_au']\n",
    "T=train_df['rougher.output.tail_au']"
   ]
  },
  {
   "cell_type": "code",
   "execution_count": 8,
   "metadata": {},
   "outputs": [],
   "source": [
    "#формула рачета эффективности\n",
    "recovery=(C*(F-T))/(F*(C-T))*100"
   ]
  },
  {
   "cell_type": "code",
   "execution_count": 9,
   "metadata": {},
   "outputs": [
    {
     "data": {
      "text/plain": [
       "0    87.107763\n",
       "1    86.843261\n",
       "2    86.842308\n",
       "3    87.226430\n",
       "4    86.688794\n",
       "dtype: float64"
      ]
     },
     "execution_count": 9,
     "metadata": {},
     "output_type": "execute_result"
    }
   ],
   "source": [
    "recovery.head(5)"
   ]
  },
  {
   "cell_type": "markdown",
   "metadata": {},
   "source": [
    "Найдем MAE между расчётами и значением признака."
   ]
  },
  {
   "cell_type": "code",
   "execution_count": 10,
   "metadata": {},
   "outputs": [],
   "source": [
    "mae=(mean_absolute_error(train_df['rougher.output.recovery'],recovery))"
   ]
  },
  {
   "cell_type": "code",
   "execution_count": 11,
   "metadata": {
    "scrolled": true
   },
   "outputs": [
    {
     "data": {
      "text/plain": [
       "9.73512347450521e-15"
      ]
     },
     "execution_count": 11,
     "metadata": {},
     "output_type": "execute_result"
    }
   ],
   "source": [
    "#выведим результат на экран\n",
    "mae"
   ]
  },
  {
   "cell_type": "markdown",
   "metadata": {},
   "source": [
    "Среднее абсолютное отклонение равно 9.7e-15, в целом погрешность очень маленькая и считать можно расчеты верными."
   ]
  },
  {
   "cell_type": "code",
   "execution_count": 12,
   "metadata": {},
   "outputs": [
    {
     "name": "stdout",
     "output_type": "stream",
     "text": [
      "<class 'pandas.core.frame.DataFrame'>\n",
      "RangeIndex: 14149 entries, 0 to 14148\n",
      "Data columns (total 87 columns):\n",
      " #   Column                                              Non-Null Count  Dtype  \n",
      "---  ------                                              --------------  -----  \n",
      " 0   date                                                14149 non-null  object \n",
      " 1   final.output.concentrate_ag                         14148 non-null  float64\n",
      " 2   final.output.concentrate_pb                         14148 non-null  float64\n",
      " 3   final.output.concentrate_sol                        13938 non-null  float64\n",
      " 4   final.output.concentrate_au                         14149 non-null  float64\n",
      " 5   final.output.recovery                               14149 non-null  float64\n",
      " 6   final.output.tail_ag                                14149 non-null  float64\n",
      " 7   final.output.tail_pb                                14049 non-null  float64\n",
      " 8   final.output.tail_sol                               14144 non-null  float64\n",
      " 9   final.output.tail_au                                14149 non-null  float64\n",
      " 10  primary_cleaner.input.sulfate                       14129 non-null  float64\n",
      " 11  primary_cleaner.input.depressant                    14117 non-null  float64\n",
      " 12  primary_cleaner.input.feed_size                     14149 non-null  float64\n",
      " 13  primary_cleaner.input.xanthate                      14049 non-null  float64\n",
      " 14  primary_cleaner.output.concentrate_ag               14149 non-null  float64\n",
      " 15  primary_cleaner.output.concentrate_pb               14063 non-null  float64\n",
      " 16  primary_cleaner.output.concentrate_sol              13863 non-null  float64\n",
      " 17  primary_cleaner.output.concentrate_au               14149 non-null  float64\n",
      " 18  primary_cleaner.output.tail_ag                      14148 non-null  float64\n",
      " 19  primary_cleaner.output.tail_pb                      14134 non-null  float64\n",
      " 20  primary_cleaner.output.tail_sol                     14103 non-null  float64\n",
      " 21  primary_cleaner.output.tail_au                      14149 non-null  float64\n",
      " 22  primary_cleaner.state.floatbank8_a_air              14145 non-null  float64\n",
      " 23  primary_cleaner.state.floatbank8_a_level            14148 non-null  float64\n",
      " 24  primary_cleaner.state.floatbank8_b_air              14145 non-null  float64\n",
      " 25  primary_cleaner.state.floatbank8_b_level            14148 non-null  float64\n",
      " 26  primary_cleaner.state.floatbank8_c_air              14147 non-null  float64\n",
      " 27  primary_cleaner.state.floatbank8_c_level            14148 non-null  float64\n",
      " 28  primary_cleaner.state.floatbank8_d_air              14146 non-null  float64\n",
      " 29  primary_cleaner.state.floatbank8_d_level            14148 non-null  float64\n",
      " 30  rougher.calculation.sulfate_to_au_concentrate       14148 non-null  float64\n",
      " 31  rougher.calculation.floatbank10_sulfate_to_au_feed  14148 non-null  float64\n",
      " 32  rougher.calculation.floatbank11_sulfate_to_au_feed  14148 non-null  float64\n",
      " 33  rougher.calculation.au_pb_ratio                     14149 non-null  float64\n",
      " 34  rougher.input.feed_ag                               14149 non-null  float64\n",
      " 35  rougher.input.feed_pb                               14049 non-null  float64\n",
      " 36  rougher.input.feed_rate                             14141 non-null  float64\n",
      " 37  rougher.input.feed_size                             14005 non-null  float64\n",
      " 38  rougher.input.feed_sol                              14071 non-null  float64\n",
      " 39  rougher.input.feed_au                               14149 non-null  float64\n",
      " 40  rougher.input.floatbank10_sulfate                   14120 non-null  float64\n",
      " 41  rougher.input.floatbank10_xanthate                  14141 non-null  float64\n",
      " 42  rougher.input.floatbank11_sulfate                   14113 non-null  float64\n",
      " 43  rougher.input.floatbank11_xanthate                  13721 non-null  float64\n",
      " 44  rougher.output.concentrate_ag                       14149 non-null  float64\n",
      " 45  rougher.output.concentrate_pb                       14149 non-null  float64\n",
      " 46  rougher.output.concentrate_sol                      14127 non-null  float64\n",
      " 47  rougher.output.concentrate_au                       14149 non-null  float64\n",
      " 48  rougher.output.recovery                             14149 non-null  float64\n",
      " 49  rougher.output.tail_ag                              14148 non-null  float64\n",
      " 50  rougher.output.tail_pb                              14149 non-null  float64\n",
      " 51  rougher.output.tail_sol                             14149 non-null  float64\n",
      " 52  rougher.output.tail_au                              14149 non-null  float64\n",
      " 53  rougher.state.floatbank10_a_air                     14148 non-null  float64\n",
      " 54  rougher.state.floatbank10_a_level                   14148 non-null  float64\n",
      " 55  rougher.state.floatbank10_b_air                     14148 non-null  float64\n",
      " 56  rougher.state.floatbank10_b_level                   14148 non-null  float64\n",
      " 57  rougher.state.floatbank10_c_air                     14148 non-null  float64\n",
      " 58  rougher.state.floatbank10_c_level                   14148 non-null  float64\n",
      " 59  rougher.state.floatbank10_d_air                     14149 non-null  float64\n",
      " 60  rougher.state.floatbank10_d_level                   14149 non-null  float64\n",
      " 61  rougher.state.floatbank10_e_air                     13713 non-null  float64\n",
      " 62  rougher.state.floatbank10_e_level                   14149 non-null  float64\n",
      " 63  rougher.state.floatbank10_f_air                     14149 non-null  float64\n",
      " 64  rougher.state.floatbank10_f_level                   14149 non-null  float64\n",
      " 65  secondary_cleaner.output.tail_ag                    14147 non-null  float64\n",
      " 66  secondary_cleaner.output.tail_pb                    14139 non-null  float64\n",
      " 67  secondary_cleaner.output.tail_sol                   12544 non-null  float64\n",
      " 68  secondary_cleaner.output.tail_au                    14149 non-null  float64\n",
      " 69  secondary_cleaner.state.floatbank2_a_air            13932 non-null  float64\n",
      " 70  secondary_cleaner.state.floatbank2_a_level          14148 non-null  float64\n",
      " 71  secondary_cleaner.state.floatbank2_b_air            14128 non-null  float64\n",
      " 72  secondary_cleaner.state.floatbank2_b_level          14148 non-null  float64\n",
      " 73  secondary_cleaner.state.floatbank3_a_air            14145 non-null  float64\n",
      " 74  secondary_cleaner.state.floatbank3_a_level          14148 non-null  float64\n",
      " 75  secondary_cleaner.state.floatbank3_b_air            14148 non-null  float64\n",
      " 76  secondary_cleaner.state.floatbank3_b_level          14148 non-null  float64\n",
      " 77  secondary_cleaner.state.floatbank4_a_air            14143 non-null  float64\n",
      " 78  secondary_cleaner.state.floatbank4_a_level          14148 non-null  float64\n",
      " 79  secondary_cleaner.state.floatbank4_b_air            14148 non-null  float64\n",
      " 80  secondary_cleaner.state.floatbank4_b_level          14148 non-null  float64\n",
      " 81  secondary_cleaner.state.floatbank5_a_air            14148 non-null  float64\n",
      " 82  secondary_cleaner.state.floatbank5_a_level          14148 non-null  float64\n",
      " 83  secondary_cleaner.state.floatbank5_b_air            14148 non-null  float64\n",
      " 84  secondary_cleaner.state.floatbank5_b_level          14148 non-null  float64\n",
      " 85  secondary_cleaner.state.floatbank6_a_air            14147 non-null  float64\n",
      " 86  secondary_cleaner.state.floatbank6_a_level          14148 non-null  float64\n",
      "dtypes: float64(86), object(1)\n",
      "memory usage: 9.4+ MB\n"
     ]
    }
   ],
   "source": [
    "#посмотрим общую информацию о данных\n",
    "train_df.info()"
   ]
  },
  {
   "cell_type": "code",
   "execution_count": 13,
   "metadata": {},
   "outputs": [
    {
     "name": "stdout",
     "output_type": "stream",
     "text": [
      "<class 'pandas.core.frame.DataFrame'>\n",
      "RangeIndex: 5290 entries, 0 to 5289\n",
      "Data columns (total 53 columns):\n",
      " #   Column                                      Non-Null Count  Dtype  \n",
      "---  ------                                      --------------  -----  \n",
      " 0   date                                        5290 non-null   object \n",
      " 1   primary_cleaner.input.sulfate               5286 non-null   float64\n",
      " 2   primary_cleaner.input.depressant            5285 non-null   float64\n",
      " 3   primary_cleaner.input.feed_size             5290 non-null   float64\n",
      " 4   primary_cleaner.input.xanthate              5286 non-null   float64\n",
      " 5   primary_cleaner.state.floatbank8_a_air      5290 non-null   float64\n",
      " 6   primary_cleaner.state.floatbank8_a_level    5290 non-null   float64\n",
      " 7   primary_cleaner.state.floatbank8_b_air      5290 non-null   float64\n",
      " 8   primary_cleaner.state.floatbank8_b_level    5290 non-null   float64\n",
      " 9   primary_cleaner.state.floatbank8_c_air      5290 non-null   float64\n",
      " 10  primary_cleaner.state.floatbank8_c_level    5290 non-null   float64\n",
      " 11  primary_cleaner.state.floatbank8_d_air      5290 non-null   float64\n",
      " 12  primary_cleaner.state.floatbank8_d_level    5290 non-null   float64\n",
      " 13  rougher.input.feed_ag                       5290 non-null   float64\n",
      " 14  rougher.input.feed_pb                       5290 non-null   float64\n",
      " 15  rougher.input.feed_rate                     5287 non-null   float64\n",
      " 16  rougher.input.feed_size                     5289 non-null   float64\n",
      " 17  rougher.input.feed_sol                      5269 non-null   float64\n",
      " 18  rougher.input.feed_au                       5290 non-null   float64\n",
      " 19  rougher.input.floatbank10_sulfate           5285 non-null   float64\n",
      " 20  rougher.input.floatbank10_xanthate          5290 non-null   float64\n",
      " 21  rougher.input.floatbank11_sulfate           5282 non-null   float64\n",
      " 22  rougher.input.floatbank11_xanthate          5265 non-null   float64\n",
      " 23  rougher.state.floatbank10_a_air             5290 non-null   float64\n",
      " 24  rougher.state.floatbank10_a_level           5290 non-null   float64\n",
      " 25  rougher.state.floatbank10_b_air             5290 non-null   float64\n",
      " 26  rougher.state.floatbank10_b_level           5290 non-null   float64\n",
      " 27  rougher.state.floatbank10_c_air             5290 non-null   float64\n",
      " 28  rougher.state.floatbank10_c_level           5290 non-null   float64\n",
      " 29  rougher.state.floatbank10_d_air             5290 non-null   float64\n",
      " 30  rougher.state.floatbank10_d_level           5290 non-null   float64\n",
      " 31  rougher.state.floatbank10_e_air             5290 non-null   float64\n",
      " 32  rougher.state.floatbank10_e_level           5290 non-null   float64\n",
      " 33  rougher.state.floatbank10_f_air             5290 non-null   float64\n",
      " 34  rougher.state.floatbank10_f_level           5290 non-null   float64\n",
      " 35  secondary_cleaner.state.floatbank2_a_air    5287 non-null   float64\n",
      " 36  secondary_cleaner.state.floatbank2_a_level  5290 non-null   float64\n",
      " 37  secondary_cleaner.state.floatbank2_b_air    5288 non-null   float64\n",
      " 38  secondary_cleaner.state.floatbank2_b_level  5290 non-null   float64\n",
      " 39  secondary_cleaner.state.floatbank3_a_air    5281 non-null   float64\n",
      " 40  secondary_cleaner.state.floatbank3_a_level  5290 non-null   float64\n",
      " 41  secondary_cleaner.state.floatbank3_b_air    5290 non-null   float64\n",
      " 42  secondary_cleaner.state.floatbank3_b_level  5290 non-null   float64\n",
      " 43  secondary_cleaner.state.floatbank4_a_air    5290 non-null   float64\n",
      " 44  secondary_cleaner.state.floatbank4_a_level  5290 non-null   float64\n",
      " 45  secondary_cleaner.state.floatbank4_b_air    5290 non-null   float64\n",
      " 46  secondary_cleaner.state.floatbank4_b_level  5290 non-null   float64\n",
      " 47  secondary_cleaner.state.floatbank5_a_air    5290 non-null   float64\n",
      " 48  secondary_cleaner.state.floatbank5_a_level  5290 non-null   float64\n",
      " 49  secondary_cleaner.state.floatbank5_b_air    5290 non-null   float64\n",
      " 50  secondary_cleaner.state.floatbank5_b_level  5290 non-null   float64\n",
      " 51  secondary_cleaner.state.floatbank6_a_air    5290 non-null   float64\n",
      " 52  secondary_cleaner.state.floatbank6_a_level  5290 non-null   float64\n",
      "dtypes: float64(52), object(1)\n",
      "memory usage: 2.1+ MB\n"
     ]
    }
   ],
   "source": [
    "#посмотрим общую информацию о данных\n",
    "test_df.info()"
   ]
  },
  {
   "cell_type": "code",
   "execution_count": 14,
   "metadata": {},
   "outputs": [
    {
     "name": "stdout",
     "output_type": "stream",
     "text": [
      "<class 'pandas.core.frame.DataFrame'>\n",
      "RangeIndex: 19439 entries, 0 to 19438\n",
      "Data columns (total 87 columns):\n",
      " #   Column                                              Non-Null Count  Dtype  \n",
      "---  ------                                              --------------  -----  \n",
      " 0   date                                                19439 non-null  object \n",
      " 1   final.output.concentrate_ag                         19438 non-null  float64\n",
      " 2   final.output.concentrate_pb                         19438 non-null  float64\n",
      " 3   final.output.concentrate_sol                        19228 non-null  float64\n",
      " 4   final.output.concentrate_au                         19439 non-null  float64\n",
      " 5   final.output.recovery                               19439 non-null  float64\n",
      " 6   final.output.tail_ag                                19438 non-null  float64\n",
      " 7   final.output.tail_pb                                19338 non-null  float64\n",
      " 8   final.output.tail_sol                               19433 non-null  float64\n",
      " 9   final.output.tail_au                                19439 non-null  float64\n",
      " 10  primary_cleaner.input.sulfate                       19415 non-null  float64\n",
      " 11  primary_cleaner.input.depressant                    19402 non-null  float64\n",
      " 12  primary_cleaner.input.feed_size                     19439 non-null  float64\n",
      " 13  primary_cleaner.input.xanthate                      19335 non-null  float64\n",
      " 14  primary_cleaner.output.concentrate_ag               19439 non-null  float64\n",
      " 15  primary_cleaner.output.concentrate_pb               19323 non-null  float64\n",
      " 16  primary_cleaner.output.concentrate_sol              19069 non-null  float64\n",
      " 17  primary_cleaner.output.concentrate_au               19439 non-null  float64\n",
      " 18  primary_cleaner.output.tail_ag                      19435 non-null  float64\n",
      " 19  primary_cleaner.output.tail_pb                      19418 non-null  float64\n",
      " 20  primary_cleaner.output.tail_sol                     19377 non-null  float64\n",
      " 21  primary_cleaner.output.tail_au                      19439 non-null  float64\n",
      " 22  primary_cleaner.state.floatbank8_a_air              19435 non-null  float64\n",
      " 23  primary_cleaner.state.floatbank8_a_level            19438 non-null  float64\n",
      " 24  primary_cleaner.state.floatbank8_b_air              19435 non-null  float64\n",
      " 25  primary_cleaner.state.floatbank8_b_level            19438 non-null  float64\n",
      " 26  primary_cleaner.state.floatbank8_c_air              19437 non-null  float64\n",
      " 27  primary_cleaner.state.floatbank8_c_level            19438 non-null  float64\n",
      " 28  primary_cleaner.state.floatbank8_d_air              19436 non-null  float64\n",
      " 29  primary_cleaner.state.floatbank8_d_level            19438 non-null  float64\n",
      " 30  rougher.calculation.sulfate_to_au_concentrate       19437 non-null  float64\n",
      " 31  rougher.calculation.floatbank10_sulfate_to_au_feed  19437 non-null  float64\n",
      " 32  rougher.calculation.floatbank11_sulfate_to_au_feed  19437 non-null  float64\n",
      " 33  rougher.calculation.au_pb_ratio                     19439 non-null  float64\n",
      " 34  rougher.input.feed_ag                               19439 non-null  float64\n",
      " 35  rougher.input.feed_pb                               19339 non-null  float64\n",
      " 36  rougher.input.feed_rate                             19428 non-null  float64\n",
      " 37  rougher.input.feed_size                             19294 non-null  float64\n",
      " 38  rougher.input.feed_sol                              19340 non-null  float64\n",
      " 39  rougher.input.feed_au                               19439 non-null  float64\n",
      " 40  rougher.input.floatbank10_sulfate                   19405 non-null  float64\n",
      " 41  rougher.input.floatbank10_xanthate                  19431 non-null  float64\n",
      " 42  rougher.input.floatbank11_sulfate                   19395 non-null  float64\n",
      " 43  rougher.input.floatbank11_xanthate                  18986 non-null  float64\n",
      " 44  rougher.output.concentrate_ag                       19439 non-null  float64\n",
      " 45  rougher.output.concentrate_pb                       19439 non-null  float64\n",
      " 46  rougher.output.concentrate_sol                      19416 non-null  float64\n",
      " 47  rougher.output.concentrate_au                       19439 non-null  float64\n",
      " 48  rougher.output.recovery                             19439 non-null  float64\n",
      " 49  rougher.output.tail_ag                              19438 non-null  float64\n",
      " 50  rougher.output.tail_pb                              19439 non-null  float64\n",
      " 51  rougher.output.tail_sol                             19439 non-null  float64\n",
      " 52  rougher.output.tail_au                              19439 non-null  float64\n",
      " 53  rougher.state.floatbank10_a_air                     19438 non-null  float64\n",
      " 54  rougher.state.floatbank10_a_level                   19438 non-null  float64\n",
      " 55  rougher.state.floatbank10_b_air                     19438 non-null  float64\n",
      " 56  rougher.state.floatbank10_b_level                   19438 non-null  float64\n",
      " 57  rougher.state.floatbank10_c_air                     19438 non-null  float64\n",
      " 58  rougher.state.floatbank10_c_level                   19438 non-null  float64\n",
      " 59  rougher.state.floatbank10_d_air                     19439 non-null  float64\n",
      " 60  rougher.state.floatbank10_d_level                   19439 non-null  float64\n",
      " 61  rougher.state.floatbank10_e_air                     19003 non-null  float64\n",
      " 62  rougher.state.floatbank10_e_level                   19439 non-null  float64\n",
      " 63  rougher.state.floatbank10_f_air                     19439 non-null  float64\n",
      " 64  rougher.state.floatbank10_f_level                   19439 non-null  float64\n",
      " 65  secondary_cleaner.output.tail_ag                    19437 non-null  float64\n",
      " 66  secondary_cleaner.output.tail_pb                    19427 non-null  float64\n",
      " 67  secondary_cleaner.output.tail_sol                   17691 non-null  float64\n",
      " 68  secondary_cleaner.output.tail_au                    19439 non-null  float64\n",
      " 69  secondary_cleaner.state.floatbank2_a_air            19219 non-null  float64\n",
      " 70  secondary_cleaner.state.floatbank2_a_level          19438 non-null  float64\n",
      " 71  secondary_cleaner.state.floatbank2_b_air            19416 non-null  float64\n",
      " 72  secondary_cleaner.state.floatbank2_b_level          19438 non-null  float64\n",
      " 73  secondary_cleaner.state.floatbank3_a_air            19426 non-null  float64\n",
      " 74  secondary_cleaner.state.floatbank3_a_level          19438 non-null  float64\n",
      " 75  secondary_cleaner.state.floatbank3_b_air            19438 non-null  float64\n",
      " 76  secondary_cleaner.state.floatbank3_b_level          19438 non-null  float64\n",
      " 77  secondary_cleaner.state.floatbank4_a_air            19433 non-null  float64\n",
      " 78  secondary_cleaner.state.floatbank4_a_level          19438 non-null  float64\n",
      " 79  secondary_cleaner.state.floatbank4_b_air            19438 non-null  float64\n",
      " 80  secondary_cleaner.state.floatbank4_b_level          19438 non-null  float64\n",
      " 81  secondary_cleaner.state.floatbank5_a_air            19438 non-null  float64\n",
      " 82  secondary_cleaner.state.floatbank5_a_level          19438 non-null  float64\n",
      " 83  secondary_cleaner.state.floatbank5_b_air            19438 non-null  float64\n",
      " 84  secondary_cleaner.state.floatbank5_b_level          19438 non-null  float64\n",
      " 85  secondary_cleaner.state.floatbank6_a_air            19437 non-null  float64\n",
      " 86  secondary_cleaner.state.floatbank6_a_level          19438 non-null  float64\n",
      "dtypes: float64(86), object(1)\n",
      "memory usage: 12.9+ MB\n"
     ]
    }
   ],
   "source": [
    "#посмотрим общую информацию о данных\n",
    "full_df.info()"
   ]
  },
  {
   "cell_type": "code",
   "execution_count": 15,
   "metadata": {},
   "outputs": [
    {
     "data": {
      "text/plain": [
       "0"
      ]
     },
     "execution_count": 15,
     "metadata": {},
     "output_type": "execute_result"
    }
   ],
   "source": [
    "#поиск явных дубликатов\n",
    "train_df.duplicated().sum()"
   ]
  },
  {
   "cell_type": "code",
   "execution_count": 16,
   "metadata": {},
   "outputs": [
    {
     "data": {
      "text/plain": [
       "0"
      ]
     },
     "execution_count": 16,
     "metadata": {},
     "output_type": "execute_result"
    }
   ],
   "source": [
    "#поиск явных дубликатов\n",
    "test_df.duplicated().sum()"
   ]
  },
  {
   "cell_type": "code",
   "execution_count": 17,
   "metadata": {},
   "outputs": [
    {
     "data": {
      "text/plain": [
       "0"
      ]
     },
     "execution_count": 17,
     "metadata": {},
     "output_type": "execute_result"
    }
   ],
   "source": [
    "#поиск явных дубликатов\n",
    "full_df.duplicated().sum()"
   ]
  },
  {
   "cell_type": "markdown",
   "metadata": {},
   "source": [
    "Дубликаты отсутствуют во всех датасетах"
   ]
  },
  {
   "cell_type": "code",
   "execution_count": 18,
   "metadata": {},
   "outputs": [
    {
     "data": {
      "text/plain": [
       "date                                            0\n",
       "final.output.concentrate_ag                     1\n",
       "final.output.concentrate_pb                     1\n",
       "final.output.concentrate_sol                  211\n",
       "final.output.concentrate_au                     0\n",
       "                                             ... \n",
       "secondary_cleaner.state.floatbank5_a_level      1\n",
       "secondary_cleaner.state.floatbank5_b_air        1\n",
       "secondary_cleaner.state.floatbank5_b_level      1\n",
       "secondary_cleaner.state.floatbank6_a_air        2\n",
       "secondary_cleaner.state.floatbank6_a_level      1\n",
       "Length: 87, dtype: int64"
      ]
     },
     "execution_count": 18,
     "metadata": {},
     "output_type": "execute_result"
    }
   ],
   "source": [
    "#посмотрим сколько суммарно имеется прощенных значений по каждому столбцу\n",
    "train_df.isna().sum()"
   ]
  },
  {
   "cell_type": "code",
   "execution_count": 19,
   "metadata": {},
   "outputs": [
    {
     "data": {
      "text/plain": [
       "date                                           0\n",
       "primary_cleaner.input.sulfate                  4\n",
       "primary_cleaner.input.depressant               5\n",
       "primary_cleaner.input.feed_size                0\n",
       "primary_cleaner.input.xanthate                 4\n",
       "primary_cleaner.state.floatbank8_a_air         0\n",
       "primary_cleaner.state.floatbank8_a_level       0\n",
       "primary_cleaner.state.floatbank8_b_air         0\n",
       "primary_cleaner.state.floatbank8_b_level       0\n",
       "primary_cleaner.state.floatbank8_c_air         0\n",
       "primary_cleaner.state.floatbank8_c_level       0\n",
       "primary_cleaner.state.floatbank8_d_air         0\n",
       "primary_cleaner.state.floatbank8_d_level       0\n",
       "rougher.input.feed_ag                          0\n",
       "rougher.input.feed_pb                          0\n",
       "rougher.input.feed_rate                        3\n",
       "rougher.input.feed_size                        1\n",
       "rougher.input.feed_sol                        21\n",
       "rougher.input.feed_au                          0\n",
       "rougher.input.floatbank10_sulfate              5\n",
       "rougher.input.floatbank10_xanthate             0\n",
       "rougher.input.floatbank11_sulfate              8\n",
       "rougher.input.floatbank11_xanthate            25\n",
       "rougher.state.floatbank10_a_air                0\n",
       "rougher.state.floatbank10_a_level              0\n",
       "rougher.state.floatbank10_b_air                0\n",
       "rougher.state.floatbank10_b_level              0\n",
       "rougher.state.floatbank10_c_air                0\n",
       "rougher.state.floatbank10_c_level              0\n",
       "rougher.state.floatbank10_d_air                0\n",
       "rougher.state.floatbank10_d_level              0\n",
       "rougher.state.floatbank10_e_air                0\n",
       "rougher.state.floatbank10_e_level              0\n",
       "rougher.state.floatbank10_f_air                0\n",
       "rougher.state.floatbank10_f_level              0\n",
       "secondary_cleaner.state.floatbank2_a_air       3\n",
       "secondary_cleaner.state.floatbank2_a_level     0\n",
       "secondary_cleaner.state.floatbank2_b_air       2\n",
       "secondary_cleaner.state.floatbank2_b_level     0\n",
       "secondary_cleaner.state.floatbank3_a_air       9\n",
       "secondary_cleaner.state.floatbank3_a_level     0\n",
       "secondary_cleaner.state.floatbank3_b_air       0\n",
       "secondary_cleaner.state.floatbank3_b_level     0\n",
       "secondary_cleaner.state.floatbank4_a_air       0\n",
       "secondary_cleaner.state.floatbank4_a_level     0\n",
       "secondary_cleaner.state.floatbank4_b_air       0\n",
       "secondary_cleaner.state.floatbank4_b_level     0\n",
       "secondary_cleaner.state.floatbank5_a_air       0\n",
       "secondary_cleaner.state.floatbank5_a_level     0\n",
       "secondary_cleaner.state.floatbank5_b_air       0\n",
       "secondary_cleaner.state.floatbank5_b_level     0\n",
       "secondary_cleaner.state.floatbank6_a_air       0\n",
       "secondary_cleaner.state.floatbank6_a_level     0\n",
       "dtype: int64"
      ]
     },
     "execution_count": 19,
     "metadata": {},
     "output_type": "execute_result"
    }
   ],
   "source": [
    "#посмотрим сколько суммарно имеется прощенных значений по каждому столбцу\n",
    "test_df.isna().sum()"
   ]
  },
  {
   "cell_type": "code",
   "execution_count": 20,
   "metadata": {},
   "outputs": [
    {
     "data": {
      "text/plain": [
       "date                                            0\n",
       "final.output.concentrate_ag                     1\n",
       "final.output.concentrate_pb                     1\n",
       "final.output.concentrate_sol                  211\n",
       "final.output.concentrate_au                     0\n",
       "                                             ... \n",
       "secondary_cleaner.state.floatbank5_a_level      1\n",
       "secondary_cleaner.state.floatbank5_b_air        1\n",
       "secondary_cleaner.state.floatbank5_b_level      1\n",
       "secondary_cleaner.state.floatbank6_a_air        2\n",
       "secondary_cleaner.state.floatbank6_a_level      1\n",
       "Length: 87, dtype: int64"
      ]
     },
     "execution_count": 20,
     "metadata": {},
     "output_type": "execute_result"
    }
   ],
   "source": [
    "#посмотрим сколько суммарно имеется прощенных значений по каждому столбцу\n",
    "full_df.isna().sum()"
   ]
  },
  {
   "cell_type": "markdown",
   "metadata": {},
   "source": [
    "В каждом датасете имеются пропущенные значения, необходимо провести с ними дальнейшую работу."
   ]
  },
  {
   "cell_type": "code",
   "execution_count": 21,
   "metadata": {},
   "outputs": [
    {
     "data": {
      "text/plain": [
       "(14149, 87)"
      ]
     },
     "execution_count": 21,
     "metadata": {},
     "output_type": "execute_result"
    }
   ],
   "source": [
    "#посмотрим на размер таблиц\n",
    "train_df.shape"
   ]
  },
  {
   "cell_type": "code",
   "execution_count": 22,
   "metadata": {},
   "outputs": [
    {
     "data": {
      "text/plain": [
       "(5290, 53)"
      ]
     },
     "execution_count": 22,
     "metadata": {},
     "output_type": "execute_result"
    }
   ],
   "source": [
    "#посмотрим на размер таблиц\n",
    "test_df.shape"
   ]
  },
  {
   "cell_type": "code",
   "execution_count": 23,
   "metadata": {},
   "outputs": [
    {
     "data": {
      "text/plain": [
       "(19439, 87)"
      ]
     },
     "execution_count": 23,
     "metadata": {},
     "output_type": "execute_result"
    }
   ],
   "source": [
    "#посмотрим на размер таблиц\n",
    "full_df.shape"
   ]
  },
  {
   "cell_type": "markdown",
   "metadata": {},
   "source": [
    "В тестовом датасете на 24 столбца меньше"
   ]
  },
  {
   "cell_type": "markdown",
   "metadata": {},
   "source": [
    " Проанализируем признаки, недоступные в тестовой выборке."
   ]
  },
  {
   "cell_type": "code",
   "execution_count": 24,
   "metadata": {},
   "outputs": [],
   "source": [
    "#посмотрим какие столбцы пропущены\n",
    "missing_columns=set(full_df)-set(test_df)"
   ]
  },
  {
   "cell_type": "code",
   "execution_count": 25,
   "metadata": {},
   "outputs": [
    {
     "data": {
      "text/plain": [
       "{'final.output.concentrate_ag',\n",
       " 'final.output.concentrate_au',\n",
       " 'final.output.concentrate_pb',\n",
       " 'final.output.concentrate_sol',\n",
       " 'final.output.recovery',\n",
       " 'final.output.tail_ag',\n",
       " 'final.output.tail_au',\n",
       " 'final.output.tail_pb',\n",
       " 'final.output.tail_sol',\n",
       " 'primary_cleaner.output.concentrate_ag',\n",
       " 'primary_cleaner.output.concentrate_au',\n",
       " 'primary_cleaner.output.concentrate_pb',\n",
       " 'primary_cleaner.output.concentrate_sol',\n",
       " 'primary_cleaner.output.tail_ag',\n",
       " 'primary_cleaner.output.tail_au',\n",
       " 'primary_cleaner.output.tail_pb',\n",
       " 'primary_cleaner.output.tail_sol',\n",
       " 'rougher.calculation.au_pb_ratio',\n",
       " 'rougher.calculation.floatbank10_sulfate_to_au_feed',\n",
       " 'rougher.calculation.floatbank11_sulfate_to_au_feed',\n",
       " 'rougher.calculation.sulfate_to_au_concentrate',\n",
       " 'rougher.output.concentrate_ag',\n",
       " 'rougher.output.concentrate_au',\n",
       " 'rougher.output.concentrate_pb',\n",
       " 'rougher.output.concentrate_sol',\n",
       " 'rougher.output.recovery',\n",
       " 'rougher.output.tail_ag',\n",
       " 'rougher.output.tail_au',\n",
       " 'rougher.output.tail_pb',\n",
       " 'rougher.output.tail_sol',\n",
       " 'secondary_cleaner.output.tail_ag',\n",
       " 'secondary_cleaner.output.tail_au',\n",
       " 'secondary_cleaner.output.tail_pb',\n",
       " 'secondary_cleaner.output.tail_sol'}"
      ]
     },
     "execution_count": 25,
     "metadata": {},
     "output_type": "execute_result"
    }
   ],
   "source": [
    "missing_columns"
   ]
  },
  {
   "cell_type": "markdown",
   "metadata": {},
   "source": [
    "Пропущенные столбцы в тестовой выборке являются параметрами продукта('output') и расчетными характеристиками ('сalculation').\n",
    "\n"
   ]
  },
  {
   "cell_type": "markdown",
   "metadata": {},
   "source": [
    "В train есть признаки, которые недоступны в test, потому что из тестовой выборки исключили данные, которые появляются на следующих этапах обработки продукта, а так же данные подсчета, по которым можно посчитать черновой и финальный концентрат по формуле, без использования модели для прогноза. Для достоверного анализа мы убрали часть /этих данных."
   ]
  },
  {
   "cell_type": "code",
   "execution_count": 26,
   "metadata": {},
   "outputs": [],
   "source": [
    "train_df=train_df.drop(columns=['date'])"
   ]
  },
  {
   "cell_type": "code",
   "execution_count": 27,
   "metadata": {},
   "outputs": [],
   "source": [
    "#создадим отдельную таблицу для хранения целевых признаков их исходных данных\n",
    "full_target=full_df[['date','rougher.output.recovery','final.output.recovery']]"
   ]
  },
  {
   "cell_type": "code",
   "execution_count": 28,
   "metadata": {},
   "outputs": [
    {
     "data": {
      "text/plain": [
       "(19439, 3)"
      ]
     },
     "execution_count": 28,
     "metadata": {},
     "output_type": "execute_result"
    }
   ],
   "source": [
    "#посмотри размер полученной таблицы\n",
    "full_target.shape"
   ]
  },
  {
   "cell_type": "code",
   "execution_count": 29,
   "metadata": {},
   "outputs": [
    {
     "data": {
      "text/html": [
       "<div>\n",
       "<style scoped>\n",
       "    .dataframe tbody tr th:only-of-type {\n",
       "        vertical-align: middle;\n",
       "    }\n",
       "\n",
       "    .dataframe tbody tr th {\n",
       "        vertical-align: top;\n",
       "    }\n",
       "\n",
       "    .dataframe thead th {\n",
       "        text-align: right;\n",
       "    }\n",
       "</style>\n",
       "<table border=\"1\" class=\"dataframe\">\n",
       "  <thead>\n",
       "    <tr style=\"text-align: right;\">\n",
       "      <th></th>\n",
       "      <th>date</th>\n",
       "      <th>rougher.output.recovery</th>\n",
       "      <th>final.output.recovery</th>\n",
       "    </tr>\n",
       "  </thead>\n",
       "  <tbody>\n",
       "    <tr>\n",
       "      <th>0</th>\n",
       "      <td>2016-01-15 00:00:00</td>\n",
       "      <td>87.107763</td>\n",
       "      <td>70.541216</td>\n",
       "    </tr>\n",
       "    <tr>\n",
       "      <th>1</th>\n",
       "      <td>2016-01-15 01:00:00</td>\n",
       "      <td>86.843261</td>\n",
       "      <td>69.266198</td>\n",
       "    </tr>\n",
       "    <tr>\n",
       "      <th>2</th>\n",
       "      <td>2016-01-15 02:00:00</td>\n",
       "      <td>86.842308</td>\n",
       "      <td>68.116445</td>\n",
       "    </tr>\n",
       "    <tr>\n",
       "      <th>3</th>\n",
       "      <td>2016-01-15 03:00:00</td>\n",
       "      <td>87.226430</td>\n",
       "      <td>68.347543</td>\n",
       "    </tr>\n",
       "    <tr>\n",
       "      <th>4</th>\n",
       "      <td>2016-01-15 04:00:00</td>\n",
       "      <td>86.688794</td>\n",
       "      <td>66.927016</td>\n",
       "    </tr>\n",
       "  </tbody>\n",
       "</table>\n",
       "</div>"
      ],
      "text/plain": [
       "                  date  rougher.output.recovery  final.output.recovery\n",
       "0  2016-01-15 00:00:00                87.107763              70.541216\n",
       "1  2016-01-15 01:00:00                86.843261              69.266198\n",
       "2  2016-01-15 02:00:00                86.842308              68.116445\n",
       "3  2016-01-15 03:00:00                87.226430              68.347543\n",
       "4  2016-01-15 04:00:00                86.688794              66.927016"
      ]
     },
     "execution_count": 29,
     "metadata": {},
     "output_type": "execute_result"
    }
   ],
   "source": [
    "#выведем первые пять значений на экран\n",
    "\n",
    "full_target.head(5)"
   ]
  },
  {
   "cell_type": "code",
   "execution_count": 30,
   "metadata": {},
   "outputs": [],
   "source": [
    "#добавим к тестовой выборки целевые признаки 'rougher.output.recovery' и 'final.output.recovery', чтобы в дальнейшем мы могли проверить модель\n",
    "test_df_with_target=pd.merge(test_df,full_target,on=['date'])"
   ]
  },
  {
   "cell_type": "code",
   "execution_count": 31,
   "metadata": {},
   "outputs": [
    {
     "data": {
      "text/html": [
       "<div>\n",
       "<style scoped>\n",
       "    .dataframe tbody tr th:only-of-type {\n",
       "        vertical-align: middle;\n",
       "    }\n",
       "\n",
       "    .dataframe tbody tr th {\n",
       "        vertical-align: top;\n",
       "    }\n",
       "\n",
       "    .dataframe thead th {\n",
       "        text-align: right;\n",
       "    }\n",
       "</style>\n",
       "<table border=\"1\" class=\"dataframe\">\n",
       "  <thead>\n",
       "    <tr style=\"text-align: right;\">\n",
       "      <th></th>\n",
       "      <th>date</th>\n",
       "      <th>primary_cleaner.input.sulfate</th>\n",
       "      <th>primary_cleaner.input.depressant</th>\n",
       "      <th>primary_cleaner.input.feed_size</th>\n",
       "      <th>primary_cleaner.input.xanthate</th>\n",
       "      <th>primary_cleaner.state.floatbank8_a_air</th>\n",
       "      <th>primary_cleaner.state.floatbank8_a_level</th>\n",
       "      <th>primary_cleaner.state.floatbank8_b_air</th>\n",
       "      <th>primary_cleaner.state.floatbank8_b_level</th>\n",
       "      <th>primary_cleaner.state.floatbank8_c_air</th>\n",
       "      <th>...</th>\n",
       "      <th>secondary_cleaner.state.floatbank4_a_air</th>\n",
       "      <th>secondary_cleaner.state.floatbank4_a_level</th>\n",
       "      <th>secondary_cleaner.state.floatbank4_b_air</th>\n",
       "      <th>secondary_cleaner.state.floatbank4_b_level</th>\n",
       "      <th>secondary_cleaner.state.floatbank5_a_air</th>\n",
       "      <th>secondary_cleaner.state.floatbank5_a_level</th>\n",
       "      <th>secondary_cleaner.state.floatbank5_b_air</th>\n",
       "      <th>secondary_cleaner.state.floatbank5_b_level</th>\n",
       "      <th>secondary_cleaner.state.floatbank6_a_air</th>\n",
       "      <th>secondary_cleaner.state.floatbank6_a_level</th>\n",
       "    </tr>\n",
       "  </thead>\n",
       "  <tbody>\n",
       "    <tr>\n",
       "      <th>0</th>\n",
       "      <td>2016-09-01 00:59:59</td>\n",
       "      <td>210.800909</td>\n",
       "      <td>14.993118</td>\n",
       "      <td>8.080000</td>\n",
       "      <td>1.005021</td>\n",
       "      <td>1398.981301</td>\n",
       "      <td>-500.225577</td>\n",
       "      <td>1399.144926</td>\n",
       "      <td>-499.919735</td>\n",
       "      <td>1400.102998</td>\n",
       "      <td>...</td>\n",
       "      <td>12.023554</td>\n",
       "      <td>-497.795834</td>\n",
       "      <td>8.016656</td>\n",
       "      <td>-501.289139</td>\n",
       "      <td>7.946562</td>\n",
       "      <td>-432.317850</td>\n",
       "      <td>4.872511</td>\n",
       "      <td>-500.037437</td>\n",
       "      <td>26.705889</td>\n",
       "      <td>-499.709414</td>\n",
       "    </tr>\n",
       "    <tr>\n",
       "      <th>1</th>\n",
       "      <td>2016-09-01 01:59:59</td>\n",
       "      <td>215.392455</td>\n",
       "      <td>14.987471</td>\n",
       "      <td>8.080000</td>\n",
       "      <td>0.990469</td>\n",
       "      <td>1398.777912</td>\n",
       "      <td>-500.057435</td>\n",
       "      <td>1398.055362</td>\n",
       "      <td>-499.778182</td>\n",
       "      <td>1396.151033</td>\n",
       "      <td>...</td>\n",
       "      <td>12.058140</td>\n",
       "      <td>-498.695773</td>\n",
       "      <td>8.130979</td>\n",
       "      <td>-499.634209</td>\n",
       "      <td>7.958270</td>\n",
       "      <td>-525.839648</td>\n",
       "      <td>4.878850</td>\n",
       "      <td>-500.162375</td>\n",
       "      <td>25.019940</td>\n",
       "      <td>-499.819438</td>\n",
       "    </tr>\n",
       "    <tr>\n",
       "      <th>2</th>\n",
       "      <td>2016-09-01 02:59:59</td>\n",
       "      <td>215.259946</td>\n",
       "      <td>12.884934</td>\n",
       "      <td>7.786667</td>\n",
       "      <td>0.996043</td>\n",
       "      <td>1398.493666</td>\n",
       "      <td>-500.868360</td>\n",
       "      <td>1398.860436</td>\n",
       "      <td>-499.764529</td>\n",
       "      <td>1398.075709</td>\n",
       "      <td>...</td>\n",
       "      <td>11.962366</td>\n",
       "      <td>-498.767484</td>\n",
       "      <td>8.096893</td>\n",
       "      <td>-500.827423</td>\n",
       "      <td>8.071056</td>\n",
       "      <td>-500.801673</td>\n",
       "      <td>4.905125</td>\n",
       "      <td>-499.828510</td>\n",
       "      <td>24.994862</td>\n",
       "      <td>-500.622559</td>\n",
       "    </tr>\n",
       "    <tr>\n",
       "      <th>3</th>\n",
       "      <td>2016-09-01 03:59:59</td>\n",
       "      <td>215.336236</td>\n",
       "      <td>12.006805</td>\n",
       "      <td>7.640000</td>\n",
       "      <td>0.863514</td>\n",
       "      <td>1399.618111</td>\n",
       "      <td>-498.863574</td>\n",
       "      <td>1397.440120</td>\n",
       "      <td>-499.211024</td>\n",
       "      <td>1400.129303</td>\n",
       "      <td>...</td>\n",
       "      <td>12.033091</td>\n",
       "      <td>-498.350935</td>\n",
       "      <td>8.074946</td>\n",
       "      <td>-499.474407</td>\n",
       "      <td>7.897085</td>\n",
       "      <td>-500.868509</td>\n",
       "      <td>4.931400</td>\n",
       "      <td>-499.963623</td>\n",
       "      <td>24.948919</td>\n",
       "      <td>-498.709987</td>\n",
       "    </tr>\n",
       "    <tr>\n",
       "      <th>4</th>\n",
       "      <td>2016-09-01 04:59:59</td>\n",
       "      <td>199.099327</td>\n",
       "      <td>10.682530</td>\n",
       "      <td>7.530000</td>\n",
       "      <td>0.805575</td>\n",
       "      <td>1401.268123</td>\n",
       "      <td>-500.808305</td>\n",
       "      <td>1398.128818</td>\n",
       "      <td>-499.504543</td>\n",
       "      <td>1402.172226</td>\n",
       "      <td>...</td>\n",
       "      <td>12.025367</td>\n",
       "      <td>-500.786497</td>\n",
       "      <td>8.054678</td>\n",
       "      <td>-500.397500</td>\n",
       "      <td>8.107890</td>\n",
       "      <td>-509.526725</td>\n",
       "      <td>4.957674</td>\n",
       "      <td>-500.360026</td>\n",
       "      <td>25.003331</td>\n",
       "      <td>-500.856333</td>\n",
       "    </tr>\n",
       "  </tbody>\n",
       "</table>\n",
       "<p>5 rows × 53 columns</p>\n",
       "</div>"
      ],
      "text/plain": [
       "                  date  primary_cleaner.input.sulfate  \\\n",
       "0  2016-09-01 00:59:59                     210.800909   \n",
       "1  2016-09-01 01:59:59                     215.392455   \n",
       "2  2016-09-01 02:59:59                     215.259946   \n",
       "3  2016-09-01 03:59:59                     215.336236   \n",
       "4  2016-09-01 04:59:59                     199.099327   \n",
       "\n",
       "   primary_cleaner.input.depressant  primary_cleaner.input.feed_size  \\\n",
       "0                         14.993118                         8.080000   \n",
       "1                         14.987471                         8.080000   \n",
       "2                         12.884934                         7.786667   \n",
       "3                         12.006805                         7.640000   \n",
       "4                         10.682530                         7.530000   \n",
       "\n",
       "   primary_cleaner.input.xanthate  primary_cleaner.state.floatbank8_a_air  \\\n",
       "0                        1.005021                             1398.981301   \n",
       "1                        0.990469                             1398.777912   \n",
       "2                        0.996043                             1398.493666   \n",
       "3                        0.863514                             1399.618111   \n",
       "4                        0.805575                             1401.268123   \n",
       "\n",
       "   primary_cleaner.state.floatbank8_a_level  \\\n",
       "0                               -500.225577   \n",
       "1                               -500.057435   \n",
       "2                               -500.868360   \n",
       "3                               -498.863574   \n",
       "4                               -500.808305   \n",
       "\n",
       "   primary_cleaner.state.floatbank8_b_air  \\\n",
       "0                             1399.144926   \n",
       "1                             1398.055362   \n",
       "2                             1398.860436   \n",
       "3                             1397.440120   \n",
       "4                             1398.128818   \n",
       "\n",
       "   primary_cleaner.state.floatbank8_b_level  \\\n",
       "0                               -499.919735   \n",
       "1                               -499.778182   \n",
       "2                               -499.764529   \n",
       "3                               -499.211024   \n",
       "4                               -499.504543   \n",
       "\n",
       "   primary_cleaner.state.floatbank8_c_air  ...  \\\n",
       "0                             1400.102998  ...   \n",
       "1                             1396.151033  ...   \n",
       "2                             1398.075709  ...   \n",
       "3                             1400.129303  ...   \n",
       "4                             1402.172226  ...   \n",
       "\n",
       "   secondary_cleaner.state.floatbank4_a_air  \\\n",
       "0                                 12.023554   \n",
       "1                                 12.058140   \n",
       "2                                 11.962366   \n",
       "3                                 12.033091   \n",
       "4                                 12.025367   \n",
       "\n",
       "   secondary_cleaner.state.floatbank4_a_level  \\\n",
       "0                                 -497.795834   \n",
       "1                                 -498.695773   \n",
       "2                                 -498.767484   \n",
       "3                                 -498.350935   \n",
       "4                                 -500.786497   \n",
       "\n",
       "   secondary_cleaner.state.floatbank4_b_air  \\\n",
       "0                                  8.016656   \n",
       "1                                  8.130979   \n",
       "2                                  8.096893   \n",
       "3                                  8.074946   \n",
       "4                                  8.054678   \n",
       "\n",
       "   secondary_cleaner.state.floatbank4_b_level  \\\n",
       "0                                 -501.289139   \n",
       "1                                 -499.634209   \n",
       "2                                 -500.827423   \n",
       "3                                 -499.474407   \n",
       "4                                 -500.397500   \n",
       "\n",
       "   secondary_cleaner.state.floatbank5_a_air  \\\n",
       "0                                  7.946562   \n",
       "1                                  7.958270   \n",
       "2                                  8.071056   \n",
       "3                                  7.897085   \n",
       "4                                  8.107890   \n",
       "\n",
       "   secondary_cleaner.state.floatbank5_a_level  \\\n",
       "0                                 -432.317850   \n",
       "1                                 -525.839648   \n",
       "2                                 -500.801673   \n",
       "3                                 -500.868509   \n",
       "4                                 -509.526725   \n",
       "\n",
       "   secondary_cleaner.state.floatbank5_b_air  \\\n",
       "0                                  4.872511   \n",
       "1                                  4.878850   \n",
       "2                                  4.905125   \n",
       "3                                  4.931400   \n",
       "4                                  4.957674   \n",
       "\n",
       "   secondary_cleaner.state.floatbank5_b_level  \\\n",
       "0                                 -500.037437   \n",
       "1                                 -500.162375   \n",
       "2                                 -499.828510   \n",
       "3                                 -499.963623   \n",
       "4                                 -500.360026   \n",
       "\n",
       "   secondary_cleaner.state.floatbank6_a_air  \\\n",
       "0                                 26.705889   \n",
       "1                                 25.019940   \n",
       "2                                 24.994862   \n",
       "3                                 24.948919   \n",
       "4                                 25.003331   \n",
       "\n",
       "   secondary_cleaner.state.floatbank6_a_level  \n",
       "0                                 -499.709414  \n",
       "1                                 -499.819438  \n",
       "2                                 -500.622559  \n",
       "3                                 -498.709987  \n",
       "4                                 -500.856333  \n",
       "\n",
       "[5 rows x 53 columns]"
      ]
     },
     "execution_count": 31,
     "metadata": {},
     "output_type": "execute_result"
    }
   ],
   "source": [
    "#посмотрим на результат\n",
    "test_df.head(5)"
   ]
  },
  {
   "cell_type": "code",
   "execution_count": 32,
   "metadata": {},
   "outputs": [],
   "source": [
    "#удалим столбец с датой\n",
    "test_df=test_df.drop(columns=['date'])\n",
    "test_df_with_target=test_df_with_target.drop(columns=['date'])\n",
    "full_df=full_df.drop(columns=['date'])"
   ]
  },
  {
   "cell_type": "code",
   "execution_count": 33,
   "metadata": {},
   "outputs": [
    {
     "data": {
      "text/html": [
       "<div>\n",
       "<style scoped>\n",
       "    .dataframe tbody tr th:only-of-type {\n",
       "        vertical-align: middle;\n",
       "    }\n",
       "\n",
       "    .dataframe tbody tr th {\n",
       "        vertical-align: top;\n",
       "    }\n",
       "\n",
       "    .dataframe thead th {\n",
       "        text-align: right;\n",
       "    }\n",
       "</style>\n",
       "<table border=\"1\" class=\"dataframe\">\n",
       "  <thead>\n",
       "    <tr style=\"text-align: right;\">\n",
       "      <th></th>\n",
       "      <th>primary_cleaner.input.sulfate</th>\n",
       "      <th>primary_cleaner.input.depressant</th>\n",
       "      <th>primary_cleaner.input.feed_size</th>\n",
       "      <th>primary_cleaner.input.xanthate</th>\n",
       "      <th>primary_cleaner.state.floatbank8_a_air</th>\n",
       "      <th>primary_cleaner.state.floatbank8_a_level</th>\n",
       "      <th>primary_cleaner.state.floatbank8_b_air</th>\n",
       "      <th>primary_cleaner.state.floatbank8_b_level</th>\n",
       "      <th>primary_cleaner.state.floatbank8_c_air</th>\n",
       "      <th>primary_cleaner.state.floatbank8_c_level</th>\n",
       "      <th>...</th>\n",
       "      <th>secondary_cleaner.state.floatbank4_a_air</th>\n",
       "      <th>secondary_cleaner.state.floatbank4_a_level</th>\n",
       "      <th>secondary_cleaner.state.floatbank4_b_air</th>\n",
       "      <th>secondary_cleaner.state.floatbank4_b_level</th>\n",
       "      <th>secondary_cleaner.state.floatbank5_a_air</th>\n",
       "      <th>secondary_cleaner.state.floatbank5_a_level</th>\n",
       "      <th>secondary_cleaner.state.floatbank5_b_air</th>\n",
       "      <th>secondary_cleaner.state.floatbank5_b_level</th>\n",
       "      <th>secondary_cleaner.state.floatbank6_a_air</th>\n",
       "      <th>secondary_cleaner.state.floatbank6_a_level</th>\n",
       "    </tr>\n",
       "  </thead>\n",
       "  <tbody>\n",
       "    <tr>\n",
       "      <th>0</th>\n",
       "      <td>210.800909</td>\n",
       "      <td>14.993118</td>\n",
       "      <td>8.080000</td>\n",
       "      <td>1.005021</td>\n",
       "      <td>1398.981301</td>\n",
       "      <td>-500.225577</td>\n",
       "      <td>1399.144926</td>\n",
       "      <td>-499.919735</td>\n",
       "      <td>1400.102998</td>\n",
       "      <td>-500.704369</td>\n",
       "      <td>...</td>\n",
       "      <td>12.023554</td>\n",
       "      <td>-497.795834</td>\n",
       "      <td>8.016656</td>\n",
       "      <td>-501.289139</td>\n",
       "      <td>7.946562</td>\n",
       "      <td>-432.317850</td>\n",
       "      <td>4.872511</td>\n",
       "      <td>-500.037437</td>\n",
       "      <td>26.705889</td>\n",
       "      <td>-499.709414</td>\n",
       "    </tr>\n",
       "    <tr>\n",
       "      <th>1</th>\n",
       "      <td>215.392455</td>\n",
       "      <td>14.987471</td>\n",
       "      <td>8.080000</td>\n",
       "      <td>0.990469</td>\n",
       "      <td>1398.777912</td>\n",
       "      <td>-500.057435</td>\n",
       "      <td>1398.055362</td>\n",
       "      <td>-499.778182</td>\n",
       "      <td>1396.151033</td>\n",
       "      <td>-499.240168</td>\n",
       "      <td>...</td>\n",
       "      <td>12.058140</td>\n",
       "      <td>-498.695773</td>\n",
       "      <td>8.130979</td>\n",
       "      <td>-499.634209</td>\n",
       "      <td>7.958270</td>\n",
       "      <td>-525.839648</td>\n",
       "      <td>4.878850</td>\n",
       "      <td>-500.162375</td>\n",
       "      <td>25.019940</td>\n",
       "      <td>-499.819438</td>\n",
       "    </tr>\n",
       "    <tr>\n",
       "      <th>2</th>\n",
       "      <td>215.259946</td>\n",
       "      <td>12.884934</td>\n",
       "      <td>7.786667</td>\n",
       "      <td>0.996043</td>\n",
       "      <td>1398.493666</td>\n",
       "      <td>-500.868360</td>\n",
       "      <td>1398.860436</td>\n",
       "      <td>-499.764529</td>\n",
       "      <td>1398.075709</td>\n",
       "      <td>-502.151509</td>\n",
       "      <td>...</td>\n",
       "      <td>11.962366</td>\n",
       "      <td>-498.767484</td>\n",
       "      <td>8.096893</td>\n",
       "      <td>-500.827423</td>\n",
       "      <td>8.071056</td>\n",
       "      <td>-500.801673</td>\n",
       "      <td>4.905125</td>\n",
       "      <td>-499.828510</td>\n",
       "      <td>24.994862</td>\n",
       "      <td>-500.622559</td>\n",
       "    </tr>\n",
       "    <tr>\n",
       "      <th>3</th>\n",
       "      <td>215.336236</td>\n",
       "      <td>12.006805</td>\n",
       "      <td>7.640000</td>\n",
       "      <td>0.863514</td>\n",
       "      <td>1399.618111</td>\n",
       "      <td>-498.863574</td>\n",
       "      <td>1397.440120</td>\n",
       "      <td>-499.211024</td>\n",
       "      <td>1400.129303</td>\n",
       "      <td>-498.355873</td>\n",
       "      <td>...</td>\n",
       "      <td>12.033091</td>\n",
       "      <td>-498.350935</td>\n",
       "      <td>8.074946</td>\n",
       "      <td>-499.474407</td>\n",
       "      <td>7.897085</td>\n",
       "      <td>-500.868509</td>\n",
       "      <td>4.931400</td>\n",
       "      <td>-499.963623</td>\n",
       "      <td>24.948919</td>\n",
       "      <td>-498.709987</td>\n",
       "    </tr>\n",
       "    <tr>\n",
       "      <th>4</th>\n",
       "      <td>199.099327</td>\n",
       "      <td>10.682530</td>\n",
       "      <td>7.530000</td>\n",
       "      <td>0.805575</td>\n",
       "      <td>1401.268123</td>\n",
       "      <td>-500.808305</td>\n",
       "      <td>1398.128818</td>\n",
       "      <td>-499.504543</td>\n",
       "      <td>1402.172226</td>\n",
       "      <td>-500.810606</td>\n",
       "      <td>...</td>\n",
       "      <td>12.025367</td>\n",
       "      <td>-500.786497</td>\n",
       "      <td>8.054678</td>\n",
       "      <td>-500.397500</td>\n",
       "      <td>8.107890</td>\n",
       "      <td>-509.526725</td>\n",
       "      <td>4.957674</td>\n",
       "      <td>-500.360026</td>\n",
       "      <td>25.003331</td>\n",
       "      <td>-500.856333</td>\n",
       "    </tr>\n",
       "  </tbody>\n",
       "</table>\n",
       "<p>5 rows × 52 columns</p>\n",
       "</div>"
      ],
      "text/plain": [
       "   primary_cleaner.input.sulfate  primary_cleaner.input.depressant  \\\n",
       "0                     210.800909                         14.993118   \n",
       "1                     215.392455                         14.987471   \n",
       "2                     215.259946                         12.884934   \n",
       "3                     215.336236                         12.006805   \n",
       "4                     199.099327                         10.682530   \n",
       "\n",
       "   primary_cleaner.input.feed_size  primary_cleaner.input.xanthate  \\\n",
       "0                         8.080000                        1.005021   \n",
       "1                         8.080000                        0.990469   \n",
       "2                         7.786667                        0.996043   \n",
       "3                         7.640000                        0.863514   \n",
       "4                         7.530000                        0.805575   \n",
       "\n",
       "   primary_cleaner.state.floatbank8_a_air  \\\n",
       "0                             1398.981301   \n",
       "1                             1398.777912   \n",
       "2                             1398.493666   \n",
       "3                             1399.618111   \n",
       "4                             1401.268123   \n",
       "\n",
       "   primary_cleaner.state.floatbank8_a_level  \\\n",
       "0                               -500.225577   \n",
       "1                               -500.057435   \n",
       "2                               -500.868360   \n",
       "3                               -498.863574   \n",
       "4                               -500.808305   \n",
       "\n",
       "   primary_cleaner.state.floatbank8_b_air  \\\n",
       "0                             1399.144926   \n",
       "1                             1398.055362   \n",
       "2                             1398.860436   \n",
       "3                             1397.440120   \n",
       "4                             1398.128818   \n",
       "\n",
       "   primary_cleaner.state.floatbank8_b_level  \\\n",
       "0                               -499.919735   \n",
       "1                               -499.778182   \n",
       "2                               -499.764529   \n",
       "3                               -499.211024   \n",
       "4                               -499.504543   \n",
       "\n",
       "   primary_cleaner.state.floatbank8_c_air  \\\n",
       "0                             1400.102998   \n",
       "1                             1396.151033   \n",
       "2                             1398.075709   \n",
       "3                             1400.129303   \n",
       "4                             1402.172226   \n",
       "\n",
       "   primary_cleaner.state.floatbank8_c_level  ...  \\\n",
       "0                               -500.704369  ...   \n",
       "1                               -499.240168  ...   \n",
       "2                               -502.151509  ...   \n",
       "3                               -498.355873  ...   \n",
       "4                               -500.810606  ...   \n",
       "\n",
       "   secondary_cleaner.state.floatbank4_a_air  \\\n",
       "0                                 12.023554   \n",
       "1                                 12.058140   \n",
       "2                                 11.962366   \n",
       "3                                 12.033091   \n",
       "4                                 12.025367   \n",
       "\n",
       "   secondary_cleaner.state.floatbank4_a_level  \\\n",
       "0                                 -497.795834   \n",
       "1                                 -498.695773   \n",
       "2                                 -498.767484   \n",
       "3                                 -498.350935   \n",
       "4                                 -500.786497   \n",
       "\n",
       "   secondary_cleaner.state.floatbank4_b_air  \\\n",
       "0                                  8.016656   \n",
       "1                                  8.130979   \n",
       "2                                  8.096893   \n",
       "3                                  8.074946   \n",
       "4                                  8.054678   \n",
       "\n",
       "   secondary_cleaner.state.floatbank4_b_level  \\\n",
       "0                                 -501.289139   \n",
       "1                                 -499.634209   \n",
       "2                                 -500.827423   \n",
       "3                                 -499.474407   \n",
       "4                                 -500.397500   \n",
       "\n",
       "   secondary_cleaner.state.floatbank5_a_air  \\\n",
       "0                                  7.946562   \n",
       "1                                  7.958270   \n",
       "2                                  8.071056   \n",
       "3                                  7.897085   \n",
       "4                                  8.107890   \n",
       "\n",
       "   secondary_cleaner.state.floatbank5_a_level  \\\n",
       "0                                 -432.317850   \n",
       "1                                 -525.839648   \n",
       "2                                 -500.801673   \n",
       "3                                 -500.868509   \n",
       "4                                 -509.526725   \n",
       "\n",
       "   secondary_cleaner.state.floatbank5_b_air  \\\n",
       "0                                  4.872511   \n",
       "1                                  4.878850   \n",
       "2                                  4.905125   \n",
       "3                                  4.931400   \n",
       "4                                  4.957674   \n",
       "\n",
       "   secondary_cleaner.state.floatbank5_b_level  \\\n",
       "0                                 -500.037437   \n",
       "1                                 -500.162375   \n",
       "2                                 -499.828510   \n",
       "3                                 -499.963623   \n",
       "4                                 -500.360026   \n",
       "\n",
       "   secondary_cleaner.state.floatbank6_a_air  \\\n",
       "0                                 26.705889   \n",
       "1                                 25.019940   \n",
       "2                                 24.994862   \n",
       "3                                 24.948919   \n",
       "4                                 25.003331   \n",
       "\n",
       "   secondary_cleaner.state.floatbank6_a_level  \n",
       "0                                 -499.709414  \n",
       "1                                 -499.819438  \n",
       "2                                 -500.622559  \n",
       "3                                 -498.709987  \n",
       "4                                 -500.856333  \n",
       "\n",
       "[5 rows x 52 columns]"
      ]
     },
     "execution_count": 33,
     "metadata": {},
     "output_type": "execute_result"
    }
   ],
   "source": [
    "test_df.head()"
   ]
  },
  {
   "cell_type": "markdown",
   "metadata": {},
   "source": [
    "По условию задачи 'Соседние по времени параметры часто похожи', поэтому заменим пустые значения по ближайшие с помощью KNNImputer"
   ]
  },
  {
   "cell_type": "code",
   "execution_count": 34,
   "metadata": {},
   "outputs": [
    {
     "data": {
      "text/html": [
       "<div>\n",
       "<style scoped>\n",
       "    .dataframe tbody tr th:only-of-type {\n",
       "        vertical-align: middle;\n",
       "    }\n",
       "\n",
       "    .dataframe tbody tr th {\n",
       "        vertical-align: top;\n",
       "    }\n",
       "\n",
       "    .dataframe thead th {\n",
       "        text-align: right;\n",
       "    }\n",
       "</style>\n",
       "<table border=\"1\" class=\"dataframe\">\n",
       "  <thead>\n",
       "    <tr style=\"text-align: right;\">\n",
       "      <th></th>\n",
       "      <th>final.output.concentrate_ag</th>\n",
       "      <th>final.output.concentrate_pb</th>\n",
       "      <th>final.output.concentrate_sol</th>\n",
       "      <th>final.output.concentrate_au</th>\n",
       "      <th>final.output.recovery</th>\n",
       "      <th>final.output.tail_ag</th>\n",
       "      <th>final.output.tail_pb</th>\n",
       "      <th>final.output.tail_sol</th>\n",
       "      <th>final.output.tail_au</th>\n",
       "      <th>primary_cleaner.input.sulfate</th>\n",
       "      <th>...</th>\n",
       "      <th>secondary_cleaner.state.floatbank4_a_air</th>\n",
       "      <th>secondary_cleaner.state.floatbank4_a_level</th>\n",
       "      <th>secondary_cleaner.state.floatbank4_b_air</th>\n",
       "      <th>secondary_cleaner.state.floatbank4_b_level</th>\n",
       "      <th>secondary_cleaner.state.floatbank5_a_air</th>\n",
       "      <th>secondary_cleaner.state.floatbank5_a_level</th>\n",
       "      <th>secondary_cleaner.state.floatbank5_b_air</th>\n",
       "      <th>secondary_cleaner.state.floatbank5_b_level</th>\n",
       "      <th>secondary_cleaner.state.floatbank6_a_air</th>\n",
       "      <th>secondary_cleaner.state.floatbank6_a_level</th>\n",
       "    </tr>\n",
       "  </thead>\n",
       "  <tbody>\n",
       "    <tr>\n",
       "      <th>0</th>\n",
       "      <td>6.055403</td>\n",
       "      <td>9.889648</td>\n",
       "      <td>5.507324</td>\n",
       "      <td>42.192020</td>\n",
       "      <td>70.541216</td>\n",
       "      <td>10.411962</td>\n",
       "      <td>0.895447</td>\n",
       "      <td>16.904297</td>\n",
       "      <td>2.143149</td>\n",
       "      <td>127.092003</td>\n",
       "      <td>...</td>\n",
       "      <td>14.016835</td>\n",
       "      <td>-502.488007</td>\n",
       "      <td>12.099931</td>\n",
       "      <td>-504.715942</td>\n",
       "      <td>9.925633</td>\n",
       "      <td>-498.310211</td>\n",
       "      <td>8.079666</td>\n",
       "      <td>-500.470978</td>\n",
       "      <td>14.151341</td>\n",
       "      <td>-605.841980</td>\n",
       "    </tr>\n",
       "    <tr>\n",
       "      <th>1</th>\n",
       "      <td>6.029369</td>\n",
       "      <td>9.968944</td>\n",
       "      <td>5.257781</td>\n",
       "      <td>42.701629</td>\n",
       "      <td>69.266198</td>\n",
       "      <td>10.462676</td>\n",
       "      <td>0.927452</td>\n",
       "      <td>16.634514</td>\n",
       "      <td>2.224930</td>\n",
       "      <td>125.629232</td>\n",
       "      <td>...</td>\n",
       "      <td>13.992281</td>\n",
       "      <td>-505.503262</td>\n",
       "      <td>11.950531</td>\n",
       "      <td>-501.331529</td>\n",
       "      <td>10.039245</td>\n",
       "      <td>-500.169983</td>\n",
       "      <td>7.984757</td>\n",
       "      <td>-500.582168</td>\n",
       "      <td>13.998353</td>\n",
       "      <td>-599.787184</td>\n",
       "    </tr>\n",
       "    <tr>\n",
       "      <th>2</th>\n",
       "      <td>6.055926</td>\n",
       "      <td>10.213995</td>\n",
       "      <td>5.383759</td>\n",
       "      <td>42.657501</td>\n",
       "      <td>68.116445</td>\n",
       "      <td>10.507046</td>\n",
       "      <td>0.953716</td>\n",
       "      <td>16.208849</td>\n",
       "      <td>2.257889</td>\n",
       "      <td>123.819808</td>\n",
       "      <td>...</td>\n",
       "      <td>14.015015</td>\n",
       "      <td>-502.520901</td>\n",
       "      <td>11.912783</td>\n",
       "      <td>-501.133383</td>\n",
       "      <td>10.070913</td>\n",
       "      <td>-500.129135</td>\n",
       "      <td>8.013877</td>\n",
       "      <td>-500.517572</td>\n",
       "      <td>14.028663</td>\n",
       "      <td>-601.427363</td>\n",
       "    </tr>\n",
       "    <tr>\n",
       "      <th>3</th>\n",
       "      <td>6.047977</td>\n",
       "      <td>9.977019</td>\n",
       "      <td>4.858634</td>\n",
       "      <td>42.689819</td>\n",
       "      <td>68.347543</td>\n",
       "      <td>10.422762</td>\n",
       "      <td>0.883763</td>\n",
       "      <td>16.532835</td>\n",
       "      <td>2.146849</td>\n",
       "      <td>122.270188</td>\n",
       "      <td>...</td>\n",
       "      <td>14.036510</td>\n",
       "      <td>-500.857308</td>\n",
       "      <td>11.999550</td>\n",
       "      <td>-501.193686</td>\n",
       "      <td>9.970366</td>\n",
       "      <td>-499.201640</td>\n",
       "      <td>7.977324</td>\n",
       "      <td>-500.255908</td>\n",
       "      <td>14.005551</td>\n",
       "      <td>-599.996129</td>\n",
       "    </tr>\n",
       "    <tr>\n",
       "      <th>4</th>\n",
       "      <td>6.148599</td>\n",
       "      <td>10.142511</td>\n",
       "      <td>4.939416</td>\n",
       "      <td>42.774141</td>\n",
       "      <td>66.927016</td>\n",
       "      <td>10.360302</td>\n",
       "      <td>0.792826</td>\n",
       "      <td>16.525686</td>\n",
       "      <td>2.055292</td>\n",
       "      <td>117.988169</td>\n",
       "      <td>...</td>\n",
       "      <td>14.027298</td>\n",
       "      <td>-499.838632</td>\n",
       "      <td>11.953070</td>\n",
       "      <td>-501.053894</td>\n",
       "      <td>9.925709</td>\n",
       "      <td>-501.686727</td>\n",
       "      <td>7.894242</td>\n",
       "      <td>-500.356035</td>\n",
       "      <td>13.996647</td>\n",
       "      <td>-601.496691</td>\n",
       "    </tr>\n",
       "  </tbody>\n",
       "</table>\n",
       "<p>5 rows × 86 columns</p>\n",
       "</div>"
      ],
      "text/plain": [
       "   final.output.concentrate_ag  final.output.concentrate_pb  \\\n",
       "0                     6.055403                     9.889648   \n",
       "1                     6.029369                     9.968944   \n",
       "2                     6.055926                    10.213995   \n",
       "3                     6.047977                     9.977019   \n",
       "4                     6.148599                    10.142511   \n",
       "\n",
       "   final.output.concentrate_sol  final.output.concentrate_au  \\\n",
       "0                      5.507324                    42.192020   \n",
       "1                      5.257781                    42.701629   \n",
       "2                      5.383759                    42.657501   \n",
       "3                      4.858634                    42.689819   \n",
       "4                      4.939416                    42.774141   \n",
       "\n",
       "   final.output.recovery  final.output.tail_ag  final.output.tail_pb  \\\n",
       "0              70.541216             10.411962              0.895447   \n",
       "1              69.266198             10.462676              0.927452   \n",
       "2              68.116445             10.507046              0.953716   \n",
       "3              68.347543             10.422762              0.883763   \n",
       "4              66.927016             10.360302              0.792826   \n",
       "\n",
       "   final.output.tail_sol  final.output.tail_au  primary_cleaner.input.sulfate  \\\n",
       "0              16.904297              2.143149                     127.092003   \n",
       "1              16.634514              2.224930                     125.629232   \n",
       "2              16.208849              2.257889                     123.819808   \n",
       "3              16.532835              2.146849                     122.270188   \n",
       "4              16.525686              2.055292                     117.988169   \n",
       "\n",
       "   ...  secondary_cleaner.state.floatbank4_a_air  \\\n",
       "0  ...                                 14.016835   \n",
       "1  ...                                 13.992281   \n",
       "2  ...                                 14.015015   \n",
       "3  ...                                 14.036510   \n",
       "4  ...                                 14.027298   \n",
       "\n",
       "   secondary_cleaner.state.floatbank4_a_level  \\\n",
       "0                                 -502.488007   \n",
       "1                                 -505.503262   \n",
       "2                                 -502.520901   \n",
       "3                                 -500.857308   \n",
       "4                                 -499.838632   \n",
       "\n",
       "   secondary_cleaner.state.floatbank4_b_air  \\\n",
       "0                                 12.099931   \n",
       "1                                 11.950531   \n",
       "2                                 11.912783   \n",
       "3                                 11.999550   \n",
       "4                                 11.953070   \n",
       "\n",
       "   secondary_cleaner.state.floatbank4_b_level  \\\n",
       "0                                 -504.715942   \n",
       "1                                 -501.331529   \n",
       "2                                 -501.133383   \n",
       "3                                 -501.193686   \n",
       "4                                 -501.053894   \n",
       "\n",
       "   secondary_cleaner.state.floatbank5_a_air  \\\n",
       "0                                  9.925633   \n",
       "1                                 10.039245   \n",
       "2                                 10.070913   \n",
       "3                                  9.970366   \n",
       "4                                  9.925709   \n",
       "\n",
       "   secondary_cleaner.state.floatbank5_a_level  \\\n",
       "0                                 -498.310211   \n",
       "1                                 -500.169983   \n",
       "2                                 -500.129135   \n",
       "3                                 -499.201640   \n",
       "4                                 -501.686727   \n",
       "\n",
       "   secondary_cleaner.state.floatbank5_b_air  \\\n",
       "0                                  8.079666   \n",
       "1                                  7.984757   \n",
       "2                                  8.013877   \n",
       "3                                  7.977324   \n",
       "4                                  7.894242   \n",
       "\n",
       "   secondary_cleaner.state.floatbank5_b_level  \\\n",
       "0                                 -500.470978   \n",
       "1                                 -500.582168   \n",
       "2                                 -500.517572   \n",
       "3                                 -500.255908   \n",
       "4                                 -500.356035   \n",
       "\n",
       "   secondary_cleaner.state.floatbank6_a_air  \\\n",
       "0                                 14.151341   \n",
       "1                                 13.998353   \n",
       "2                                 14.028663   \n",
       "3                                 14.005551   \n",
       "4                                 13.996647   \n",
       "\n",
       "   secondary_cleaner.state.floatbank6_a_level  \n",
       "0                                 -605.841980  \n",
       "1                                 -599.787184  \n",
       "2                                 -601.427363  \n",
       "3                                 -599.996129  \n",
       "4                                 -601.496691  \n",
       "\n",
       "[5 rows x 86 columns]"
      ]
     },
     "execution_count": 34,
     "metadata": {},
     "output_type": "execute_result"
    }
   ],
   "source": [
    "imputer=KNNImputer(n_neighbors=5)\n",
    "full_df=pd.DataFrame(imputer.fit_transform(full_df),columns=full_df.columns)\n",
    "full_df.head()"
   ]
  },
  {
   "cell_type": "code",
   "execution_count": 35,
   "metadata": {
    "scrolled": true
   },
   "outputs": [
    {
     "data": {
      "text/html": [
       "<div>\n",
       "<style scoped>\n",
       "    .dataframe tbody tr th:only-of-type {\n",
       "        vertical-align: middle;\n",
       "    }\n",
       "\n",
       "    .dataframe tbody tr th {\n",
       "        vertical-align: top;\n",
       "    }\n",
       "\n",
       "    .dataframe thead th {\n",
       "        text-align: right;\n",
       "    }\n",
       "</style>\n",
       "<table border=\"1\" class=\"dataframe\">\n",
       "  <thead>\n",
       "    <tr style=\"text-align: right;\">\n",
       "      <th></th>\n",
       "      <th>primary_cleaner.input.sulfate</th>\n",
       "      <th>primary_cleaner.input.depressant</th>\n",
       "      <th>primary_cleaner.input.feed_size</th>\n",
       "      <th>primary_cleaner.input.xanthate</th>\n",
       "      <th>primary_cleaner.state.floatbank8_a_air</th>\n",
       "      <th>primary_cleaner.state.floatbank8_a_level</th>\n",
       "      <th>primary_cleaner.state.floatbank8_b_air</th>\n",
       "      <th>primary_cleaner.state.floatbank8_b_level</th>\n",
       "      <th>primary_cleaner.state.floatbank8_c_air</th>\n",
       "      <th>primary_cleaner.state.floatbank8_c_level</th>\n",
       "      <th>...</th>\n",
       "      <th>secondary_cleaner.state.floatbank4_a_air</th>\n",
       "      <th>secondary_cleaner.state.floatbank4_a_level</th>\n",
       "      <th>secondary_cleaner.state.floatbank4_b_air</th>\n",
       "      <th>secondary_cleaner.state.floatbank4_b_level</th>\n",
       "      <th>secondary_cleaner.state.floatbank5_a_air</th>\n",
       "      <th>secondary_cleaner.state.floatbank5_a_level</th>\n",
       "      <th>secondary_cleaner.state.floatbank5_b_air</th>\n",
       "      <th>secondary_cleaner.state.floatbank5_b_level</th>\n",
       "      <th>secondary_cleaner.state.floatbank6_a_air</th>\n",
       "      <th>secondary_cleaner.state.floatbank6_a_level</th>\n",
       "    </tr>\n",
       "  </thead>\n",
       "  <tbody>\n",
       "    <tr>\n",
       "      <th>0</th>\n",
       "      <td>210.800909</td>\n",
       "      <td>14.993118</td>\n",
       "      <td>8.080000</td>\n",
       "      <td>1.005021</td>\n",
       "      <td>1398.981301</td>\n",
       "      <td>-500.225577</td>\n",
       "      <td>1399.144926</td>\n",
       "      <td>-499.919735</td>\n",
       "      <td>1400.102998</td>\n",
       "      <td>-500.704369</td>\n",
       "      <td>...</td>\n",
       "      <td>12.023554</td>\n",
       "      <td>-497.795834</td>\n",
       "      <td>8.016656</td>\n",
       "      <td>-501.289139</td>\n",
       "      <td>7.946562</td>\n",
       "      <td>-432.317850</td>\n",
       "      <td>4.872511</td>\n",
       "      <td>-500.037437</td>\n",
       "      <td>26.705889</td>\n",
       "      <td>-499.709414</td>\n",
       "    </tr>\n",
       "    <tr>\n",
       "      <th>1</th>\n",
       "      <td>215.392455</td>\n",
       "      <td>14.987471</td>\n",
       "      <td>8.080000</td>\n",
       "      <td>0.990469</td>\n",
       "      <td>1398.777912</td>\n",
       "      <td>-500.057435</td>\n",
       "      <td>1398.055362</td>\n",
       "      <td>-499.778182</td>\n",
       "      <td>1396.151033</td>\n",
       "      <td>-499.240168</td>\n",
       "      <td>...</td>\n",
       "      <td>12.058140</td>\n",
       "      <td>-498.695773</td>\n",
       "      <td>8.130979</td>\n",
       "      <td>-499.634209</td>\n",
       "      <td>7.958270</td>\n",
       "      <td>-525.839648</td>\n",
       "      <td>4.878850</td>\n",
       "      <td>-500.162375</td>\n",
       "      <td>25.019940</td>\n",
       "      <td>-499.819438</td>\n",
       "    </tr>\n",
       "    <tr>\n",
       "      <th>2</th>\n",
       "      <td>215.259946</td>\n",
       "      <td>12.884934</td>\n",
       "      <td>7.786667</td>\n",
       "      <td>0.996043</td>\n",
       "      <td>1398.493666</td>\n",
       "      <td>-500.868360</td>\n",
       "      <td>1398.860436</td>\n",
       "      <td>-499.764529</td>\n",
       "      <td>1398.075709</td>\n",
       "      <td>-502.151509</td>\n",
       "      <td>...</td>\n",
       "      <td>11.962366</td>\n",
       "      <td>-498.767484</td>\n",
       "      <td>8.096893</td>\n",
       "      <td>-500.827423</td>\n",
       "      <td>8.071056</td>\n",
       "      <td>-500.801673</td>\n",
       "      <td>4.905125</td>\n",
       "      <td>-499.828510</td>\n",
       "      <td>24.994862</td>\n",
       "      <td>-500.622559</td>\n",
       "    </tr>\n",
       "    <tr>\n",
       "      <th>3</th>\n",
       "      <td>215.336236</td>\n",
       "      <td>12.006805</td>\n",
       "      <td>7.640000</td>\n",
       "      <td>0.863514</td>\n",
       "      <td>1399.618111</td>\n",
       "      <td>-498.863574</td>\n",
       "      <td>1397.440120</td>\n",
       "      <td>-499.211024</td>\n",
       "      <td>1400.129303</td>\n",
       "      <td>-498.355873</td>\n",
       "      <td>...</td>\n",
       "      <td>12.033091</td>\n",
       "      <td>-498.350935</td>\n",
       "      <td>8.074946</td>\n",
       "      <td>-499.474407</td>\n",
       "      <td>7.897085</td>\n",
       "      <td>-500.868509</td>\n",
       "      <td>4.931400</td>\n",
       "      <td>-499.963623</td>\n",
       "      <td>24.948919</td>\n",
       "      <td>-498.709987</td>\n",
       "    </tr>\n",
       "    <tr>\n",
       "      <th>4</th>\n",
       "      <td>199.099327</td>\n",
       "      <td>10.682530</td>\n",
       "      <td>7.530000</td>\n",
       "      <td>0.805575</td>\n",
       "      <td>1401.268123</td>\n",
       "      <td>-500.808305</td>\n",
       "      <td>1398.128818</td>\n",
       "      <td>-499.504543</td>\n",
       "      <td>1402.172226</td>\n",
       "      <td>-500.810606</td>\n",
       "      <td>...</td>\n",
       "      <td>12.025367</td>\n",
       "      <td>-500.786497</td>\n",
       "      <td>8.054678</td>\n",
       "      <td>-500.397500</td>\n",
       "      <td>8.107890</td>\n",
       "      <td>-509.526725</td>\n",
       "      <td>4.957674</td>\n",
       "      <td>-500.360026</td>\n",
       "      <td>25.003331</td>\n",
       "      <td>-500.856333</td>\n",
       "    </tr>\n",
       "  </tbody>\n",
       "</table>\n",
       "<p>5 rows × 52 columns</p>\n",
       "</div>"
      ],
      "text/plain": [
       "   primary_cleaner.input.sulfate  primary_cleaner.input.depressant  \\\n",
       "0                     210.800909                         14.993118   \n",
       "1                     215.392455                         14.987471   \n",
       "2                     215.259946                         12.884934   \n",
       "3                     215.336236                         12.006805   \n",
       "4                     199.099327                         10.682530   \n",
       "\n",
       "   primary_cleaner.input.feed_size  primary_cleaner.input.xanthate  \\\n",
       "0                         8.080000                        1.005021   \n",
       "1                         8.080000                        0.990469   \n",
       "2                         7.786667                        0.996043   \n",
       "3                         7.640000                        0.863514   \n",
       "4                         7.530000                        0.805575   \n",
       "\n",
       "   primary_cleaner.state.floatbank8_a_air  \\\n",
       "0                             1398.981301   \n",
       "1                             1398.777912   \n",
       "2                             1398.493666   \n",
       "3                             1399.618111   \n",
       "4                             1401.268123   \n",
       "\n",
       "   primary_cleaner.state.floatbank8_a_level  \\\n",
       "0                               -500.225577   \n",
       "1                               -500.057435   \n",
       "2                               -500.868360   \n",
       "3                               -498.863574   \n",
       "4                               -500.808305   \n",
       "\n",
       "   primary_cleaner.state.floatbank8_b_air  \\\n",
       "0                             1399.144926   \n",
       "1                             1398.055362   \n",
       "2                             1398.860436   \n",
       "3                             1397.440120   \n",
       "4                             1398.128818   \n",
       "\n",
       "   primary_cleaner.state.floatbank8_b_level  \\\n",
       "0                               -499.919735   \n",
       "1                               -499.778182   \n",
       "2                               -499.764529   \n",
       "3                               -499.211024   \n",
       "4                               -499.504543   \n",
       "\n",
       "   primary_cleaner.state.floatbank8_c_air  \\\n",
       "0                             1400.102998   \n",
       "1                             1396.151033   \n",
       "2                             1398.075709   \n",
       "3                             1400.129303   \n",
       "4                             1402.172226   \n",
       "\n",
       "   primary_cleaner.state.floatbank8_c_level  ...  \\\n",
       "0                               -500.704369  ...   \n",
       "1                               -499.240168  ...   \n",
       "2                               -502.151509  ...   \n",
       "3                               -498.355873  ...   \n",
       "4                               -500.810606  ...   \n",
       "\n",
       "   secondary_cleaner.state.floatbank4_a_air  \\\n",
       "0                                 12.023554   \n",
       "1                                 12.058140   \n",
       "2                                 11.962366   \n",
       "3                                 12.033091   \n",
       "4                                 12.025367   \n",
       "\n",
       "   secondary_cleaner.state.floatbank4_a_level  \\\n",
       "0                                 -497.795834   \n",
       "1                                 -498.695773   \n",
       "2                                 -498.767484   \n",
       "3                                 -498.350935   \n",
       "4                                 -500.786497   \n",
       "\n",
       "   secondary_cleaner.state.floatbank4_b_air  \\\n",
       "0                                  8.016656   \n",
       "1                                  8.130979   \n",
       "2                                  8.096893   \n",
       "3                                  8.074946   \n",
       "4                                  8.054678   \n",
       "\n",
       "   secondary_cleaner.state.floatbank4_b_level  \\\n",
       "0                                 -501.289139   \n",
       "1                                 -499.634209   \n",
       "2                                 -500.827423   \n",
       "3                                 -499.474407   \n",
       "4                                 -500.397500   \n",
       "\n",
       "   secondary_cleaner.state.floatbank5_a_air  \\\n",
       "0                                  7.946562   \n",
       "1                                  7.958270   \n",
       "2                                  8.071056   \n",
       "3                                  7.897085   \n",
       "4                                  8.107890   \n",
       "\n",
       "   secondary_cleaner.state.floatbank5_a_level  \\\n",
       "0                                 -432.317850   \n",
       "1                                 -525.839648   \n",
       "2                                 -500.801673   \n",
       "3                                 -500.868509   \n",
       "4                                 -509.526725   \n",
       "\n",
       "   secondary_cleaner.state.floatbank5_b_air  \\\n",
       "0                                  4.872511   \n",
       "1                                  4.878850   \n",
       "2                                  4.905125   \n",
       "3                                  4.931400   \n",
       "4                                  4.957674   \n",
       "\n",
       "   secondary_cleaner.state.floatbank5_b_level  \\\n",
       "0                                 -500.037437   \n",
       "1                                 -500.162375   \n",
       "2                                 -499.828510   \n",
       "3                                 -499.963623   \n",
       "4                                 -500.360026   \n",
       "\n",
       "   secondary_cleaner.state.floatbank6_a_air  \\\n",
       "0                                 26.705889   \n",
       "1                                 25.019940   \n",
       "2                                 24.994862   \n",
       "3                                 24.948919   \n",
       "4                                 25.003331   \n",
       "\n",
       "   secondary_cleaner.state.floatbank6_a_level  \n",
       "0                                 -499.709414  \n",
       "1                                 -499.819438  \n",
       "2                                 -500.622559  \n",
       "3                                 -498.709987  \n",
       "4                                 -500.856333  \n",
       "\n",
       "[5 rows x 52 columns]"
      ]
     },
     "execution_count": 35,
     "metadata": {},
     "output_type": "execute_result"
    }
   ],
   "source": [
    "imputer=KNNImputer(n_neighbors=5)\n",
    "test_df=pd.DataFrame(imputer.fit_transform(test_df),columns=test_df.columns)\n",
    "test_df.head()"
   ]
  },
  {
   "cell_type": "code",
   "execution_count": 36,
   "metadata": {},
   "outputs": [
    {
     "data": {
      "text/html": [
       "<div>\n",
       "<style scoped>\n",
       "    .dataframe tbody tr th:only-of-type {\n",
       "        vertical-align: middle;\n",
       "    }\n",
       "\n",
       "    .dataframe tbody tr th {\n",
       "        vertical-align: top;\n",
       "    }\n",
       "\n",
       "    .dataframe thead th {\n",
       "        text-align: right;\n",
       "    }\n",
       "</style>\n",
       "<table border=\"1\" class=\"dataframe\">\n",
       "  <thead>\n",
       "    <tr style=\"text-align: right;\">\n",
       "      <th></th>\n",
       "      <th>final.output.concentrate_ag</th>\n",
       "      <th>final.output.concentrate_pb</th>\n",
       "      <th>final.output.concentrate_sol</th>\n",
       "      <th>final.output.concentrate_au</th>\n",
       "      <th>final.output.recovery</th>\n",
       "      <th>final.output.tail_ag</th>\n",
       "      <th>final.output.tail_pb</th>\n",
       "      <th>final.output.tail_sol</th>\n",
       "      <th>final.output.tail_au</th>\n",
       "      <th>primary_cleaner.input.sulfate</th>\n",
       "      <th>...</th>\n",
       "      <th>secondary_cleaner.state.floatbank4_a_air</th>\n",
       "      <th>secondary_cleaner.state.floatbank4_a_level</th>\n",
       "      <th>secondary_cleaner.state.floatbank4_b_air</th>\n",
       "      <th>secondary_cleaner.state.floatbank4_b_level</th>\n",
       "      <th>secondary_cleaner.state.floatbank5_a_air</th>\n",
       "      <th>secondary_cleaner.state.floatbank5_a_level</th>\n",
       "      <th>secondary_cleaner.state.floatbank5_b_air</th>\n",
       "      <th>secondary_cleaner.state.floatbank5_b_level</th>\n",
       "      <th>secondary_cleaner.state.floatbank6_a_air</th>\n",
       "      <th>secondary_cleaner.state.floatbank6_a_level</th>\n",
       "    </tr>\n",
       "  </thead>\n",
       "  <tbody>\n",
       "    <tr>\n",
       "      <th>0</th>\n",
       "      <td>6.055403</td>\n",
       "      <td>9.889648</td>\n",
       "      <td>5.507324</td>\n",
       "      <td>42.192020</td>\n",
       "      <td>70.541216</td>\n",
       "      <td>10.411962</td>\n",
       "      <td>0.895447</td>\n",
       "      <td>16.904297</td>\n",
       "      <td>2.143149</td>\n",
       "      <td>127.092003</td>\n",
       "      <td>...</td>\n",
       "      <td>14.016835</td>\n",
       "      <td>-502.488007</td>\n",
       "      <td>12.099931</td>\n",
       "      <td>-504.715942</td>\n",
       "      <td>9.925633</td>\n",
       "      <td>-498.310211</td>\n",
       "      <td>8.079666</td>\n",
       "      <td>-500.470978</td>\n",
       "      <td>14.151341</td>\n",
       "      <td>-605.841980</td>\n",
       "    </tr>\n",
       "    <tr>\n",
       "      <th>1</th>\n",
       "      <td>6.029369</td>\n",
       "      <td>9.968944</td>\n",
       "      <td>5.257781</td>\n",
       "      <td>42.701629</td>\n",
       "      <td>69.266198</td>\n",
       "      <td>10.462676</td>\n",
       "      <td>0.927452</td>\n",
       "      <td>16.634514</td>\n",
       "      <td>2.224930</td>\n",
       "      <td>125.629232</td>\n",
       "      <td>...</td>\n",
       "      <td>13.992281</td>\n",
       "      <td>-505.503262</td>\n",
       "      <td>11.950531</td>\n",
       "      <td>-501.331529</td>\n",
       "      <td>10.039245</td>\n",
       "      <td>-500.169983</td>\n",
       "      <td>7.984757</td>\n",
       "      <td>-500.582168</td>\n",
       "      <td>13.998353</td>\n",
       "      <td>-599.787184</td>\n",
       "    </tr>\n",
       "    <tr>\n",
       "      <th>2</th>\n",
       "      <td>6.055926</td>\n",
       "      <td>10.213995</td>\n",
       "      <td>5.383759</td>\n",
       "      <td>42.657501</td>\n",
       "      <td>68.116445</td>\n",
       "      <td>10.507046</td>\n",
       "      <td>0.953716</td>\n",
       "      <td>16.208849</td>\n",
       "      <td>2.257889</td>\n",
       "      <td>123.819808</td>\n",
       "      <td>...</td>\n",
       "      <td>14.015015</td>\n",
       "      <td>-502.520901</td>\n",
       "      <td>11.912783</td>\n",
       "      <td>-501.133383</td>\n",
       "      <td>10.070913</td>\n",
       "      <td>-500.129135</td>\n",
       "      <td>8.013877</td>\n",
       "      <td>-500.517572</td>\n",
       "      <td>14.028663</td>\n",
       "      <td>-601.427363</td>\n",
       "    </tr>\n",
       "    <tr>\n",
       "      <th>3</th>\n",
       "      <td>6.047977</td>\n",
       "      <td>9.977019</td>\n",
       "      <td>4.858634</td>\n",
       "      <td>42.689819</td>\n",
       "      <td>68.347543</td>\n",
       "      <td>10.422762</td>\n",
       "      <td>0.883763</td>\n",
       "      <td>16.532835</td>\n",
       "      <td>2.146849</td>\n",
       "      <td>122.270188</td>\n",
       "      <td>...</td>\n",
       "      <td>14.036510</td>\n",
       "      <td>-500.857308</td>\n",
       "      <td>11.999550</td>\n",
       "      <td>-501.193686</td>\n",
       "      <td>9.970366</td>\n",
       "      <td>-499.201640</td>\n",
       "      <td>7.977324</td>\n",
       "      <td>-500.255908</td>\n",
       "      <td>14.005551</td>\n",
       "      <td>-599.996129</td>\n",
       "    </tr>\n",
       "    <tr>\n",
       "      <th>4</th>\n",
       "      <td>6.148599</td>\n",
       "      <td>10.142511</td>\n",
       "      <td>4.939416</td>\n",
       "      <td>42.774141</td>\n",
       "      <td>66.927016</td>\n",
       "      <td>10.360302</td>\n",
       "      <td>0.792826</td>\n",
       "      <td>16.525686</td>\n",
       "      <td>2.055292</td>\n",
       "      <td>117.988169</td>\n",
       "      <td>...</td>\n",
       "      <td>14.027298</td>\n",
       "      <td>-499.838632</td>\n",
       "      <td>11.953070</td>\n",
       "      <td>-501.053894</td>\n",
       "      <td>9.925709</td>\n",
       "      <td>-501.686727</td>\n",
       "      <td>7.894242</td>\n",
       "      <td>-500.356035</td>\n",
       "      <td>13.996647</td>\n",
       "      <td>-601.496691</td>\n",
       "    </tr>\n",
       "  </tbody>\n",
       "</table>\n",
       "<p>5 rows × 86 columns</p>\n",
       "</div>"
      ],
      "text/plain": [
       "   final.output.concentrate_ag  final.output.concentrate_pb  \\\n",
       "0                     6.055403                     9.889648   \n",
       "1                     6.029369                     9.968944   \n",
       "2                     6.055926                    10.213995   \n",
       "3                     6.047977                     9.977019   \n",
       "4                     6.148599                    10.142511   \n",
       "\n",
       "   final.output.concentrate_sol  final.output.concentrate_au  \\\n",
       "0                      5.507324                    42.192020   \n",
       "1                      5.257781                    42.701629   \n",
       "2                      5.383759                    42.657501   \n",
       "3                      4.858634                    42.689819   \n",
       "4                      4.939416                    42.774141   \n",
       "\n",
       "   final.output.recovery  final.output.tail_ag  final.output.tail_pb  \\\n",
       "0              70.541216             10.411962              0.895447   \n",
       "1              69.266198             10.462676              0.927452   \n",
       "2              68.116445             10.507046              0.953716   \n",
       "3              68.347543             10.422762              0.883763   \n",
       "4              66.927016             10.360302              0.792826   \n",
       "\n",
       "   final.output.tail_sol  final.output.tail_au  primary_cleaner.input.sulfate  \\\n",
       "0              16.904297              2.143149                     127.092003   \n",
       "1              16.634514              2.224930                     125.629232   \n",
       "2              16.208849              2.257889                     123.819808   \n",
       "3              16.532835              2.146849                     122.270188   \n",
       "4              16.525686              2.055292                     117.988169   \n",
       "\n",
       "   ...  secondary_cleaner.state.floatbank4_a_air  \\\n",
       "0  ...                                 14.016835   \n",
       "1  ...                                 13.992281   \n",
       "2  ...                                 14.015015   \n",
       "3  ...                                 14.036510   \n",
       "4  ...                                 14.027298   \n",
       "\n",
       "   secondary_cleaner.state.floatbank4_a_level  \\\n",
       "0                                 -502.488007   \n",
       "1                                 -505.503262   \n",
       "2                                 -502.520901   \n",
       "3                                 -500.857308   \n",
       "4                                 -499.838632   \n",
       "\n",
       "   secondary_cleaner.state.floatbank4_b_air  \\\n",
       "0                                 12.099931   \n",
       "1                                 11.950531   \n",
       "2                                 11.912783   \n",
       "3                                 11.999550   \n",
       "4                                 11.953070   \n",
       "\n",
       "   secondary_cleaner.state.floatbank4_b_level  \\\n",
       "0                                 -504.715942   \n",
       "1                                 -501.331529   \n",
       "2                                 -501.133383   \n",
       "3                                 -501.193686   \n",
       "4                                 -501.053894   \n",
       "\n",
       "   secondary_cleaner.state.floatbank5_a_air  \\\n",
       "0                                  9.925633   \n",
       "1                                 10.039245   \n",
       "2                                 10.070913   \n",
       "3                                  9.970366   \n",
       "4                                  9.925709   \n",
       "\n",
       "   secondary_cleaner.state.floatbank5_a_level  \\\n",
       "0                                 -498.310211   \n",
       "1                                 -500.169983   \n",
       "2                                 -500.129135   \n",
       "3                                 -499.201640   \n",
       "4                                 -501.686727   \n",
       "\n",
       "   secondary_cleaner.state.floatbank5_b_air  \\\n",
       "0                                  8.079666   \n",
       "1                                  7.984757   \n",
       "2                                  8.013877   \n",
       "3                                  7.977324   \n",
       "4                                  7.894242   \n",
       "\n",
       "   secondary_cleaner.state.floatbank5_b_level  \\\n",
       "0                                 -500.470978   \n",
       "1                                 -500.582168   \n",
       "2                                 -500.517572   \n",
       "3                                 -500.255908   \n",
       "4                                 -500.356035   \n",
       "\n",
       "   secondary_cleaner.state.floatbank6_a_air  \\\n",
       "0                                 14.151341   \n",
       "1                                 13.998353   \n",
       "2                                 14.028663   \n",
       "3                                 14.005551   \n",
       "4                                 13.996647   \n",
       "\n",
       "   secondary_cleaner.state.floatbank6_a_level  \n",
       "0                                 -605.841980  \n",
       "1                                 -599.787184  \n",
       "2                                 -601.427363  \n",
       "3                                 -599.996129  \n",
       "4                                 -601.496691  \n",
       "\n",
       "[5 rows x 86 columns]"
      ]
     },
     "execution_count": 36,
     "metadata": {},
     "output_type": "execute_result"
    }
   ],
   "source": [
    "imputer=KNNImputer(n_neighbors=5)\n",
    "train_df=pd.DataFrame(imputer.fit_transform(train_df),columns=train_df.columns)\n",
    "train_df.head()"
   ]
  },
  {
   "cell_type": "code",
   "execution_count": 37,
   "metadata": {},
   "outputs": [
    {
     "data": {
      "text/plain": [
       "primary_cleaner.input.sulfate                 0\n",
       "primary_cleaner.input.depressant              0\n",
       "primary_cleaner.input.feed_size               0\n",
       "primary_cleaner.input.xanthate                0\n",
       "primary_cleaner.state.floatbank8_a_air        0\n",
       "primary_cleaner.state.floatbank8_a_level      0\n",
       "primary_cleaner.state.floatbank8_b_air        0\n",
       "primary_cleaner.state.floatbank8_b_level      0\n",
       "primary_cleaner.state.floatbank8_c_air        0\n",
       "primary_cleaner.state.floatbank8_c_level      0\n",
       "primary_cleaner.state.floatbank8_d_air        0\n",
       "primary_cleaner.state.floatbank8_d_level      0\n",
       "rougher.input.feed_ag                         0\n",
       "rougher.input.feed_pb                         0\n",
       "rougher.input.feed_rate                       0\n",
       "rougher.input.feed_size                       0\n",
       "rougher.input.feed_sol                        0\n",
       "rougher.input.feed_au                         0\n",
       "rougher.input.floatbank10_sulfate             0\n",
       "rougher.input.floatbank10_xanthate            0\n",
       "rougher.input.floatbank11_sulfate             0\n",
       "rougher.input.floatbank11_xanthate            0\n",
       "rougher.state.floatbank10_a_air               0\n",
       "rougher.state.floatbank10_a_level             0\n",
       "rougher.state.floatbank10_b_air               0\n",
       "rougher.state.floatbank10_b_level             0\n",
       "rougher.state.floatbank10_c_air               0\n",
       "rougher.state.floatbank10_c_level             0\n",
       "rougher.state.floatbank10_d_air               0\n",
       "rougher.state.floatbank10_d_level             0\n",
       "rougher.state.floatbank10_e_air               0\n",
       "rougher.state.floatbank10_e_level             0\n",
       "rougher.state.floatbank10_f_air               0\n",
       "rougher.state.floatbank10_f_level             0\n",
       "secondary_cleaner.state.floatbank2_a_air      0\n",
       "secondary_cleaner.state.floatbank2_a_level    0\n",
       "secondary_cleaner.state.floatbank2_b_air      0\n",
       "secondary_cleaner.state.floatbank2_b_level    0\n",
       "secondary_cleaner.state.floatbank3_a_air      0\n",
       "secondary_cleaner.state.floatbank3_a_level    0\n",
       "secondary_cleaner.state.floatbank3_b_air      0\n",
       "secondary_cleaner.state.floatbank3_b_level    0\n",
       "secondary_cleaner.state.floatbank4_a_air      0\n",
       "secondary_cleaner.state.floatbank4_a_level    0\n",
       "secondary_cleaner.state.floatbank4_b_air      0\n",
       "secondary_cleaner.state.floatbank4_b_level    0\n",
       "secondary_cleaner.state.floatbank5_a_air      0\n",
       "secondary_cleaner.state.floatbank5_a_level    0\n",
       "secondary_cleaner.state.floatbank5_b_air      0\n",
       "secondary_cleaner.state.floatbank5_b_level    0\n",
       "secondary_cleaner.state.floatbank6_a_air      0\n",
       "secondary_cleaner.state.floatbank6_a_level    0\n",
       "dtype: int64"
      ]
     },
     "execution_count": 37,
     "metadata": {},
     "output_type": "execute_result"
    }
   ],
   "source": [
    "#посмотрим изменения\n",
    "test_df.isna().sum()"
   ]
  },
  {
   "cell_type": "code",
   "execution_count": 38,
   "metadata": {
    "scrolled": true
   },
   "outputs": [
    {
     "data": {
      "text/plain": [
       "final.output.concentrate_ag                   0\n",
       "final.output.concentrate_pb                   0\n",
       "final.output.concentrate_sol                  0\n",
       "final.output.concentrate_au                   0\n",
       "final.output.recovery                         0\n",
       "                                             ..\n",
       "secondary_cleaner.state.floatbank5_a_level    0\n",
       "secondary_cleaner.state.floatbank5_b_air      0\n",
       "secondary_cleaner.state.floatbank5_b_level    0\n",
       "secondary_cleaner.state.floatbank6_a_air      0\n",
       "secondary_cleaner.state.floatbank6_a_level    0\n",
       "Length: 86, dtype: int64"
      ]
     },
     "execution_count": 38,
     "metadata": {},
     "output_type": "execute_result"
    }
   ],
   "source": [
    "#посмотрим изменения\n",
    "train_df.isna().sum()"
   ]
  },
  {
   "cell_type": "markdown",
   "metadata": {},
   "source": [
    "Пропущенных значений нет"
   ]
  },
  {
   "cell_type": "markdown",
   "metadata": {},
   "source": [
    "Вывод:\n",
    "\n",
    "Данные находятся в трёх файлах:\n",
    "\n",
    "gold_recovery_train_new.csv — обучающая выборка;\n",
    "\n",
    "gold_recovery_test_new.csv — тестовая выборка;\n",
    "\n",
    "gold_recovery_full_new.csv — исходные данные.\n",
    "\n",
    "Расчитан MAE. Среднее абсолютное отклонение равно 9.7e-15, в целом погрешность очень маленькая и считать можно расчеты верными.\n",
    "\n",
    "Проведен анализ недостающих столбцов в тестовой выборке. Пропущенные столбцы в тестовой выборке являются параметрами продукта('output') и расчетными характеристиками ('сalculation').\n",
    "\n",
    "Удален столбец data, так как далее нам понадобяться числовые данные\n",
    "\n",
    "Форматы данных корректные.\n",
    "\n",
    "Пропуски в данных заменены соседними значениями с помощью KNNImputer.\n",
    "\n",
    "Явных дубликатов не имеется."
   ]
  },
  {
   "cell_type": "markdown",
   "metadata": {},
   "source": [
    "## Анализ данных"
   ]
  },
  {
   "cell_type": "markdown",
   "metadata": {},
   "source": [
    "2.1. Посмотрим, как меняется концентрация металлов (Au, Ag, Pb) на различных этапах очистки"
   ]
  },
  {
   "cell_type": "code",
   "execution_count": 39,
   "metadata": {},
   "outputs": [
    {
     "data": {
      "text/plain": [
       "Index(['final.output.concentrate_ag', 'final.output.concentrate_pb',\n",
       "       'final.output.concentrate_sol', 'final.output.concentrate_au',\n",
       "       'final.output.recovery', 'final.output.tail_ag', 'final.output.tail_pb',\n",
       "       'final.output.tail_sol', 'final.output.tail_au',\n",
       "       'primary_cleaner.input.sulfate', 'primary_cleaner.input.depressant',\n",
       "       'primary_cleaner.input.feed_size', 'primary_cleaner.input.xanthate',\n",
       "       'primary_cleaner.output.concentrate_ag',\n",
       "       'primary_cleaner.output.concentrate_pb',\n",
       "       'primary_cleaner.output.concentrate_sol',\n",
       "       'primary_cleaner.output.concentrate_au',\n",
       "       'primary_cleaner.output.tail_ag', 'primary_cleaner.output.tail_pb',\n",
       "       'primary_cleaner.output.tail_sol', 'primary_cleaner.output.tail_au',\n",
       "       'primary_cleaner.state.floatbank8_a_air',\n",
       "       'primary_cleaner.state.floatbank8_a_level',\n",
       "       'primary_cleaner.state.floatbank8_b_air',\n",
       "       'primary_cleaner.state.floatbank8_b_level',\n",
       "       'primary_cleaner.state.floatbank8_c_air',\n",
       "       'primary_cleaner.state.floatbank8_c_level',\n",
       "       'primary_cleaner.state.floatbank8_d_air',\n",
       "       'primary_cleaner.state.floatbank8_d_level',\n",
       "       'rougher.calculation.sulfate_to_au_concentrate',\n",
       "       'rougher.calculation.floatbank10_sulfate_to_au_feed',\n",
       "       'rougher.calculation.floatbank11_sulfate_to_au_feed',\n",
       "       'rougher.calculation.au_pb_ratio', 'rougher.input.feed_ag',\n",
       "       'rougher.input.feed_pb', 'rougher.input.feed_rate',\n",
       "       'rougher.input.feed_size', 'rougher.input.feed_sol',\n",
       "       'rougher.input.feed_au', 'rougher.input.floatbank10_sulfate',\n",
       "       'rougher.input.floatbank10_xanthate',\n",
       "       'rougher.input.floatbank11_sulfate',\n",
       "       'rougher.input.floatbank11_xanthate', 'rougher.output.concentrate_ag',\n",
       "       'rougher.output.concentrate_pb', 'rougher.output.concentrate_sol',\n",
       "       'rougher.output.concentrate_au', 'rougher.output.recovery',\n",
       "       'rougher.output.tail_ag', 'rougher.output.tail_pb',\n",
       "       'rougher.output.tail_sol', 'rougher.output.tail_au',\n",
       "       'rougher.state.floatbank10_a_air', 'rougher.state.floatbank10_a_level',\n",
       "       'rougher.state.floatbank10_b_air', 'rougher.state.floatbank10_b_level',\n",
       "       'rougher.state.floatbank10_c_air', 'rougher.state.floatbank10_c_level',\n",
       "       'rougher.state.floatbank10_d_air', 'rougher.state.floatbank10_d_level',\n",
       "       'rougher.state.floatbank10_e_air', 'rougher.state.floatbank10_e_level',\n",
       "       'rougher.state.floatbank10_f_air', 'rougher.state.floatbank10_f_level',\n",
       "       'secondary_cleaner.output.tail_ag', 'secondary_cleaner.output.tail_pb',\n",
       "       'secondary_cleaner.output.tail_sol', 'secondary_cleaner.output.tail_au',\n",
       "       'secondary_cleaner.state.floatbank2_a_air',\n",
       "       'secondary_cleaner.state.floatbank2_a_level',\n",
       "       'secondary_cleaner.state.floatbank2_b_air',\n",
       "       'secondary_cleaner.state.floatbank2_b_level',\n",
       "       'secondary_cleaner.state.floatbank3_a_air',\n",
       "       'secondary_cleaner.state.floatbank3_a_level',\n",
       "       'secondary_cleaner.state.floatbank3_b_air',\n",
       "       'secondary_cleaner.state.floatbank3_b_level',\n",
       "       'secondary_cleaner.state.floatbank4_a_air',\n",
       "       'secondary_cleaner.state.floatbank4_a_level',\n",
       "       'secondary_cleaner.state.floatbank4_b_air',\n",
       "       'secondary_cleaner.state.floatbank4_b_level',\n",
       "       'secondary_cleaner.state.floatbank5_a_air',\n",
       "       'secondary_cleaner.state.floatbank5_a_level',\n",
       "       'secondary_cleaner.state.floatbank5_b_air',\n",
       "       'secondary_cleaner.state.floatbank5_b_level',\n",
       "       'secondary_cleaner.state.floatbank6_a_air',\n",
       "       'secondary_cleaner.state.floatbank6_a_level'],\n",
       "      dtype='object')"
      ]
     },
     "execution_count": 39,
     "metadata": {},
     "output_type": "execute_result"
    }
   ],
   "source": [
    "full_df.columns"
   ]
  },
  {
   "cell_type": "code",
   "execution_count": 40,
   "metadata": {},
   "outputs": [
    {
     "data": {
      "image/png": "[encoded data removed]",
      "text/plain": [
       "<Figure size 1440x720 with 1 Axes>"
      ]
     },
     "metadata": {
      "needs_background": "light"
     },
     "output_type": "display_data"
    }
   ],
   "source": [
    "#построим гистограмму распределения концентрации золота на различных этапах очистки\n",
    "plt.figure(figsize=(20,10))\n",
    "full_df['rougher.input.feed_au'].hist(bins=200, color='pink',label='rougher.input.feed',alpha=0.5)\n",
    "full_df['rougher.output.concentrate_au'].hist(bins=200, color='blue',label='rougher.output.concentrate',alpha=0.5)\n",
    "full_df['primary_cleaner.output.concentrate_au'].hist(bins=200, color='green',label='primary_cleaner.output.concentrate',alpha=0.5)\n",
    "full_df['final.output.concentrate_au'].hist(bins=200, color='black',label='final.output.concentrate',alpha=0.5)\n",
    "plt.legend()\n",
    "plt.title('Распределения концентрации золота на различных этапах очистки')\n",
    "plt.xlabel('Концентрация')\n",
    "plt.ylabel('Количество')\n",
    "plt.show()\n"
   ]
  },
  {
   "cell_type": "markdown",
   "metadata": {},
   "source": [
    "Концентрация золота увеличивается с каждым этапом очистки, на этапе флотации и первичной обработки - примерно одинаковая,на финальном этапе - концентрации наибольшая."
   ]
  },
  {
   "cell_type": "code",
   "execution_count": 41,
   "metadata": {
    "scrolled": false
   },
   "outputs": [
    {
     "data": {
      "image/png": "[encoded data removed]",
      "text/plain": [
       "<Figure size 1440x720 with 1 Axes>"
      ]
     },
     "metadata": {
      "needs_background": "light"
     },
     "output_type": "display_data"
    }
   ],
   "source": [
    "#построим гистограмму распределения концентрации серебра на различных этапах очистки\n",
    "plt.figure(figsize=(20,10))\n",
    "full_df['rougher.input.feed_ag'].hist(bins=200, color='pink',label='rougher.input.feed',alpha=0.5)\n",
    "full_df['rougher.output.concentrate_ag'].hist(bins=200, color='blue',label='rougher.output.concentrate',alpha=0.5)\n",
    "full_df['primary_cleaner.output.concentrate_ag'].hist(bins=200, color='green',label='primary_cleaner.output.concentrate',alpha=0.5)\n",
    "full_df['final.output.concentrate_ag'].hist(bins=200, color='black',label='final.output.concentrate',alpha=0.5)\n",
    "plt.legend()\n",
    "plt.title('Распределения концентрации серебра на различных этапах очистки')\n",
    "plt.xlabel('Концентрация')\n",
    "plt.ylabel('Количество')\n",
    "plt.show()\n",
    "\n"
   ]
  },
  {
   "cell_type": "markdown",
   "metadata": {},
   "source": [
    "Концентрация серебра увеличивается с каждым этапом очистки, на этапе флотации и первичной обработки - примерно одинаковая,на финальном этапе - концентрации наибольшая."
   ]
  },
  {
   "cell_type": "code",
   "execution_count": 42,
   "metadata": {
    "scrolled": false
   },
   "outputs": [
    {
     "data": {
      "image/png": "[encoded data removed]",
      "text/plain": [
       "<Figure size 1440x720 with 1 Axes>"
      ]
     },
     "metadata": {
      "needs_background": "light"
     },
     "output_type": "display_data"
    }
   ],
   "source": [
    "#построим гистограмму распределения концентрации свинца на различных этапах очистки\n",
    "plt.figure(figsize=(20,10))\n",
    "full_df['rougher.input.feed_pb'].hist(bins=200, color='pink',label='rougher.input.feed',alpha=0.5)\n",
    "full_df['rougher.output.concentrate_pb'].hist(bins=200, color='blue',label='rougher.output.concentrate',alpha=0.5)\n",
    "full_df['primary_cleaner.output.concentrate_pb'].hist(bins=200, color='green',label='primary_cleaner.output.concentrate',alpha=0.5)\n",
    "full_df['final.output.concentrate_pb'].hist(bins=200, color='black',label='final.output.concentrate',alpha=0.5)\n",
    "plt.legend()\n",
    "plt.title('Распределения концентрации свинца на различных этапах очистки')\n",
    "plt.xlabel('Концентрация')\n",
    "plt.ylabel('Количество')\n",
    "plt.show()\n",
    "\n"
   ]
  },
  {
   "cell_type": "markdown",
   "metadata": {},
   "source": [
    "Концентрация свинца увеличивается с каждым этапом очистки, на этапе флотации и первичной обработки - примерно одинаковая,на финальном этапе - концентрации наибольшая."
   ]
  },
  {
   "cell_type": "markdown",
   "metadata": {},
   "source": [
    "Вывод\n",
    "\n",
    "По графикам мы видим, что концентрация металлов(золота,серебра и свинца) увеличивается с каждым этапом очистки."
   ]
  },
  {
   "cell_type": "markdown",
   "metadata": {},
   "source": [
    "2.2.  Сравним распределения размеров гранул сырья на обучающей и тестовой выборках. Если распределения сильно отличаются друг от друга, оценка модели будет неправильной.\n"
   ]
  },
  {
   "cell_type": "code",
   "execution_count": 43,
   "metadata": {},
   "outputs": [
    {
     "data": {
      "text/plain": [
       "0       62.710452\n",
       "1       61.961163\n",
       "2       66.903807\n",
       "3       59.865919\n",
       "4       63.315324\n",
       "          ...    \n",
       "5285    66.758479\n",
       "5286    62.560684\n",
       "5287    73.647513\n",
       "5288    78.066446\n",
       "5289    77.678700\n",
       "Name: rougher.input.feed_size, Length: 5290, dtype: float64"
      ]
     },
     "execution_count": 43,
     "metadata": {},
     "output_type": "execute_result"
    }
   ],
   "source": [
    "train_df['rougher.input.feed_size']\n",
    "test_df['rougher.input.feed_size']"
   ]
  },
  {
   "cell_type": "code",
   "execution_count": 44,
   "metadata": {},
   "outputs": [
    {
     "data": {
      "text/plain": [
       "0       8.080000\n",
       "1       8.080000\n",
       "2       7.786667\n",
       "3       7.640000\n",
       "4       7.530000\n",
       "          ...   \n",
       "5285    8.070000\n",
       "5286    8.070000\n",
       "5287    8.070000\n",
       "5288    8.070000\n",
       "5289    8.070000\n",
       "Name: primary_cleaner.input.feed_size, Length: 5290, dtype: float64"
      ]
     },
     "execution_count": 44,
     "metadata": {},
     "output_type": "execute_result"
    }
   ],
   "source": [
    "train_df['primary_cleaner.input.feed_size']\n",
    "test_df['primary_cleaner.input.feed_size']"
   ]
  },
  {
   "cell_type": "markdown",
   "metadata": {},
   "source": [
    "Рассмотрим распределения размеров гранул сырья на этапе флотации сырья (rougher.input)"
   ]
  },
  {
   "cell_type": "code",
   "execution_count": 45,
   "metadata": {},
   "outputs": [
    {
     "data": {
      "image/png": "[encoded data removed]",
      "text/plain": [
       "<Figure size 1440x720 with 1 Axes>"
      ]
     },
     "metadata": {
      "needs_background": "light"
     },
     "output_type": "display_data"
    }
   ],
   "source": [
    "plt.figure(figsize=(20,10))\n",
    "sns.boxplot(data=train_df, x='rougher.input.feed_size')\n",
    "plt.title('Распределения размеров гранул сырья на обучающей выборке')\n",
    "plt.xlabel('Размер')\n",
    "plt.show()"
   ]
  },
  {
   "cell_type": "code",
   "execution_count": 46,
   "metadata": {
    "scrolled": false
   },
   "outputs": [
    {
     "data": {
      "image/png": "[encoded data removed]",
      "text/plain": [
       "<Figure size 1440x720 with 1 Axes>"
      ]
     },
     "metadata": {
      "needs_background": "light"
     },
     "output_type": "display_data"
    }
   ],
   "source": [
    "plt.figure(figsize=(20,10))\n",
    "sns.boxplot(data=train_df, x='rougher.input.feed_size')\n",
    "plt.title('Распределения размеров гранул сырья на обучающей выборке')\n",
    "plt.xlabel('Размер')\n",
    "plt.show()"
   ]
  },
  {
   "cell_type": "markdown",
   "metadata": {},
   "source": [
    "Рассмотрим распределения размеров гранул сырья на этапе первичной обработки сырья (primary_cleaner.input)"
   ]
  },
  {
   "cell_type": "code",
   "execution_count": 47,
   "metadata": {},
   "outputs": [
    {
     "data": {
      "image/png": "[encoded data removed]",
      "text/plain": [
       "<Figure size 1440x720 with 1 Axes>"
      ]
     },
     "metadata": {
      "needs_background": "light"
     },
     "output_type": "display_data"
    }
   ],
   "source": [
    "plt.figure(figsize=(20,10))\n",
    "sns.boxplot(data=train_df, x='primary_cleaner.input.feed_size')\n",
    "plt.title('Распределения размеров гранул сырья на обучающей выборке')\n",
    "plt.xlabel('Размер')\n",
    "plt.show()"
   ]
  },
  {
   "cell_type": "code",
   "execution_count": 48,
   "metadata": {},
   "outputs": [
    {
     "data": {
      "image/png": "[encoded data removed]",
      "text/plain": [
       "<Figure size 1440x720 with 1 Axes>"
      ]
     },
     "metadata": {
      "needs_background": "light"
     },
     "output_type": "display_data"
    }
   ],
   "source": [
    "plt.figure(figsize=(20,10))\n",
    "sns.boxplot(data=test_df, x='primary_cleaner.input.feed_size')\n",
    "plt.title('Распределения размеров гранул сырья на тестовой выборке')\n",
    "plt.xlabel('Размер')\n",
    "plt.show()"
   ]
  },
  {
   "cell_type": "markdown",
   "metadata": {},
   "source": [
    "По графикам распределения гранул сырья на обучающей и тестовой выборках мы видим, что они похожи и не отличаются друг от друга. Это значит, что оценка модели в дальнейшем будет правильной."
   ]
  },
  {
   "cell_type": "markdown",
   "metadata": {},
   "source": [
    "2.3. Исследуем суммарную концентрацию всех веществ на разных стадиях: в сырье, в черновом и финальном концентратах. "
   ]
  },
  {
   "cell_type": "markdown",
   "metadata": {},
   "source": [
    "input — параметры сырья\n",
    "Rougher  — черновой концентрат \n",
    "Final  — финальный концентрат "
   ]
  },
  {
   "cell_type": "code",
   "execution_count": 49,
   "metadata": {},
   "outputs": [
    {
     "data": {
      "text/plain": [
       "Index(['final.output.concentrate_ag', 'final.output.concentrate_pb',\n",
       "       'final.output.concentrate_sol', 'final.output.concentrate_au',\n",
       "       'final.output.recovery', 'final.output.tail_ag', 'final.output.tail_pb',\n",
       "       'final.output.tail_sol', 'final.output.tail_au',\n",
       "       'primary_cleaner.input.sulfate', 'primary_cleaner.input.depressant',\n",
       "       'primary_cleaner.input.feed_size', 'primary_cleaner.input.xanthate',\n",
       "       'primary_cleaner.output.concentrate_ag',\n",
       "       'primary_cleaner.output.concentrate_pb',\n",
       "       'primary_cleaner.output.concentrate_sol',\n",
       "       'primary_cleaner.output.concentrate_au',\n",
       "       'primary_cleaner.output.tail_ag', 'primary_cleaner.output.tail_pb',\n",
       "       'primary_cleaner.output.tail_sol', 'primary_cleaner.output.tail_au',\n",
       "       'primary_cleaner.state.floatbank8_a_air',\n",
       "       'primary_cleaner.state.floatbank8_a_level',\n",
       "       'primary_cleaner.state.floatbank8_b_air',\n",
       "       'primary_cleaner.state.floatbank8_b_level',\n",
       "       'primary_cleaner.state.floatbank8_c_air',\n",
       "       'primary_cleaner.state.floatbank8_c_level',\n",
       "       'primary_cleaner.state.floatbank8_d_air',\n",
       "       'primary_cleaner.state.floatbank8_d_level',\n",
       "       'rougher.calculation.sulfate_to_au_concentrate',\n",
       "       'rougher.calculation.floatbank10_sulfate_to_au_feed',\n",
       "       'rougher.calculation.floatbank11_sulfate_to_au_feed',\n",
       "       'rougher.calculation.au_pb_ratio', 'rougher.input.feed_ag',\n",
       "       'rougher.input.feed_pb', 'rougher.input.feed_rate',\n",
       "       'rougher.input.feed_size', 'rougher.input.feed_sol',\n",
       "       'rougher.input.feed_au', 'rougher.input.floatbank10_sulfate',\n",
       "       'rougher.input.floatbank10_xanthate',\n",
       "       'rougher.input.floatbank11_sulfate',\n",
       "       'rougher.input.floatbank11_xanthate', 'rougher.output.concentrate_ag',\n",
       "       'rougher.output.concentrate_pb', 'rougher.output.concentrate_sol',\n",
       "       'rougher.output.concentrate_au', 'rougher.output.recovery',\n",
       "       'rougher.output.tail_ag', 'rougher.output.tail_pb',\n",
       "       'rougher.output.tail_sol', 'rougher.output.tail_au',\n",
       "       'rougher.state.floatbank10_a_air', 'rougher.state.floatbank10_a_level',\n",
       "       'rougher.state.floatbank10_b_air', 'rougher.state.floatbank10_b_level',\n",
       "       'rougher.state.floatbank10_c_air', 'rougher.state.floatbank10_c_level',\n",
       "       'rougher.state.floatbank10_d_air', 'rougher.state.floatbank10_d_level',\n",
       "       'rougher.state.floatbank10_e_air', 'rougher.state.floatbank10_e_level',\n",
       "       'rougher.state.floatbank10_f_air', 'rougher.state.floatbank10_f_level',\n",
       "       'secondary_cleaner.output.tail_ag', 'secondary_cleaner.output.tail_pb',\n",
       "       'secondary_cleaner.output.tail_sol', 'secondary_cleaner.output.tail_au',\n",
       "       'secondary_cleaner.state.floatbank2_a_air',\n",
       "       'secondary_cleaner.state.floatbank2_a_level',\n",
       "       'secondary_cleaner.state.floatbank2_b_air',\n",
       "       'secondary_cleaner.state.floatbank2_b_level',\n",
       "       'secondary_cleaner.state.floatbank3_a_air',\n",
       "       'secondary_cleaner.state.floatbank3_a_level',\n",
       "       'secondary_cleaner.state.floatbank3_b_air',\n",
       "       'secondary_cleaner.state.floatbank3_b_level',\n",
       "       'secondary_cleaner.state.floatbank4_a_air',\n",
       "       'secondary_cleaner.state.floatbank4_a_level',\n",
       "       'secondary_cleaner.state.floatbank4_b_air',\n",
       "       'secondary_cleaner.state.floatbank4_b_level',\n",
       "       'secondary_cleaner.state.floatbank5_a_air',\n",
       "       'secondary_cleaner.state.floatbank5_a_level',\n",
       "       'secondary_cleaner.state.floatbank5_b_air',\n",
       "       'secondary_cleaner.state.floatbank5_b_level',\n",
       "       'secondary_cleaner.state.floatbank6_a_air',\n",
       "       'secondary_cleaner.state.floatbank6_a_level'],\n",
       "      dtype='object')"
      ]
     },
     "execution_count": 49,
     "metadata": {},
     "output_type": "execute_result"
    }
   ],
   "source": [
    "train_df.columns"
   ]
  },
  {
   "cell_type": "code",
   "execution_count": 50,
   "metadata": {},
   "outputs": [],
   "source": [
    "#суммируем данные по этапу флотация сырья\n",
    "train_df['rougher_input']=train_df[['rougher.input.feed_pb','rougher.input.feed_ag','rougher.input.feed_sol','rougher.input.feed_au']].sum(axis=1)"
   ]
  },
  {
   "cell_type": "code",
   "execution_count": 51,
   "metadata": {},
   "outputs": [],
   "source": [
    "train_df['rougher_ouput']=train_df[['rougher.output.concentrate_ag','rougher.output.concentrate_pb','rougher.output.concentrate_sol','rougher.output.concentrate_au']].sum(axis=1)"
   ]
  },
  {
   "cell_type": "code",
   "execution_count": 52,
   "metadata": {},
   "outputs": [],
   "source": [
    "#суммируем данные по этапу флотация продукта\n",
    "train_df['rougher_output_sum']=train_df[['rougher.output.concentrate_ag','rougher.output.concentrate_pb','rougher.output.concentrate_sol','rougher.output.concentrate_au']].sum(axis=1)"
   ]
  },
  {
   "cell_type": "code",
   "execution_count": 53,
   "metadata": {},
   "outputs": [],
   "source": [
    "#суммируем данные по этапу первичная обработка продукта\n",
    "train_df['primary_cleaner_output']=train_df[['primary_cleaner.output.concentrate_ag','primary_cleaner.output.concentrate_pb','primary_cleaner.output.concentrate_sol','primary_cleaner.output.concentrate_au']].sum(axis=1)"
   ]
  },
  {
   "cell_type": "code",
   "execution_count": 54,
   "metadata": {
    "scrolled": true
   },
   "outputs": [
    {
     "data": {
      "text/html": [
       "<div>\n",
       "<style scoped>\n",
       "    .dataframe tbody tr th:only-of-type {\n",
       "        vertical-align: middle;\n",
       "    }\n",
       "\n",
       "    .dataframe tbody tr th {\n",
       "        vertical-align: top;\n",
       "    }\n",
       "\n",
       "    .dataframe thead th {\n",
       "        text-align: right;\n",
       "    }\n",
       "</style>\n",
       "<table border=\"1\" class=\"dataframe\">\n",
       "  <thead>\n",
       "    <tr style=\"text-align: right;\">\n",
       "      <th></th>\n",
       "      <th>final.output.concentrate_ag</th>\n",
       "      <th>final.output.concentrate_pb</th>\n",
       "      <th>final.output.concentrate_sol</th>\n",
       "      <th>final.output.concentrate_au</th>\n",
       "      <th>final.output.recovery</th>\n",
       "      <th>final.output.tail_ag</th>\n",
       "      <th>final.output.tail_pb</th>\n",
       "      <th>final.output.tail_sol</th>\n",
       "      <th>final.output.tail_au</th>\n",
       "      <th>primary_cleaner.input.sulfate</th>\n",
       "      <th>...</th>\n",
       "      <th>secondary_cleaner.state.floatbank5_a_level</th>\n",
       "      <th>secondary_cleaner.state.floatbank5_b_air</th>\n",
       "      <th>secondary_cleaner.state.floatbank5_b_level</th>\n",
       "      <th>secondary_cleaner.state.floatbank6_a_air</th>\n",
       "      <th>secondary_cleaner.state.floatbank6_a_level</th>\n",
       "      <th>rougher_input</th>\n",
       "      <th>rougher_ouput</th>\n",
       "      <th>rougher_output_sum</th>\n",
       "      <th>primary_cleaner_output</th>\n",
       "      <th>final_output</th>\n",
       "    </tr>\n",
       "  </thead>\n",
       "  <tbody>\n",
       "    <tr>\n",
       "      <th>0</th>\n",
       "      <td>6.055403</td>\n",
       "      <td>9.889648</td>\n",
       "      <td>5.507324</td>\n",
       "      <td>42.192020</td>\n",
       "      <td>70.541216</td>\n",
       "      <td>10.411962</td>\n",
       "      <td>0.895447</td>\n",
       "      <td>16.904297</td>\n",
       "      <td>2.143149</td>\n",
       "      <td>127.092003</td>\n",
       "      <td>...</td>\n",
       "      <td>-498.310211</td>\n",
       "      <td>8.079666</td>\n",
       "      <td>-500.470978</td>\n",
       "      <td>14.151341</td>\n",
       "      <td>-605.841980</td>\n",
       "      <td>51.680034</td>\n",
       "      <td>66.424950</td>\n",
       "      <td>66.424950</td>\n",
       "      <td>72.640924</td>\n",
       "      <td>63.644396</td>\n",
       "    </tr>\n",
       "    <tr>\n",
       "      <th>1</th>\n",
       "      <td>6.029369</td>\n",
       "      <td>9.968944</td>\n",
       "      <td>5.257781</td>\n",
       "      <td>42.701629</td>\n",
       "      <td>69.266198</td>\n",
       "      <td>10.462676</td>\n",
       "      <td>0.927452</td>\n",
       "      <td>16.634514</td>\n",
       "      <td>2.224930</td>\n",
       "      <td>125.629232</td>\n",
       "      <td>...</td>\n",
       "      <td>-500.169983</td>\n",
       "      <td>7.984757</td>\n",
       "      <td>-500.582168</td>\n",
       "      <td>13.998353</td>\n",
       "      <td>-599.787184</td>\n",
       "      <td>50.659114</td>\n",
       "      <td>67.012710</td>\n",
       "      <td>67.012710</td>\n",
       "      <td>72.543485</td>\n",
       "      <td>63.957723</td>\n",
       "    </tr>\n",
       "    <tr>\n",
       "      <th>2</th>\n",
       "      <td>6.055926</td>\n",
       "      <td>10.213995</td>\n",
       "      <td>5.383759</td>\n",
       "      <td>42.657501</td>\n",
       "      <td>68.116445</td>\n",
       "      <td>10.507046</td>\n",
       "      <td>0.953716</td>\n",
       "      <td>16.208849</td>\n",
       "      <td>2.257889</td>\n",
       "      <td>123.819808</td>\n",
       "      <td>...</td>\n",
       "      <td>-500.129135</td>\n",
       "      <td>8.013877</td>\n",
       "      <td>-500.517572</td>\n",
       "      <td>14.028663</td>\n",
       "      <td>-601.427363</td>\n",
       "      <td>50.609929</td>\n",
       "      <td>66.103793</td>\n",
       "      <td>66.103793</td>\n",
       "      <td>72.095042</td>\n",
       "      <td>64.311180</td>\n",
       "    </tr>\n",
       "    <tr>\n",
       "      <th>3</th>\n",
       "      <td>6.047977</td>\n",
       "      <td>9.977019</td>\n",
       "      <td>4.858634</td>\n",
       "      <td>42.689819</td>\n",
       "      <td>68.347543</td>\n",
       "      <td>10.422762</td>\n",
       "      <td>0.883763</td>\n",
       "      <td>16.532835</td>\n",
       "      <td>2.146849</td>\n",
       "      <td>122.270188</td>\n",
       "      <td>...</td>\n",
       "      <td>-499.201640</td>\n",
       "      <td>7.977324</td>\n",
       "      <td>-500.255908</td>\n",
       "      <td>14.005551</td>\n",
       "      <td>-599.996129</td>\n",
       "      <td>51.061546</td>\n",
       "      <td>65.752751</td>\n",
       "      <td>65.752751</td>\n",
       "      <td>59.957723</td>\n",
       "      <td>63.573449</td>\n",
       "    </tr>\n",
       "    <tr>\n",
       "      <th>4</th>\n",
       "      <td>6.148599</td>\n",
       "      <td>10.142511</td>\n",
       "      <td>4.939416</td>\n",
       "      <td>42.774141</td>\n",
       "      <td>66.927016</td>\n",
       "      <td>10.360302</td>\n",
       "      <td>0.792826</td>\n",
       "      <td>16.525686</td>\n",
       "      <td>2.055292</td>\n",
       "      <td>117.988169</td>\n",
       "      <td>...</td>\n",
       "      <td>-501.686727</td>\n",
       "      <td>7.894242</td>\n",
       "      <td>-500.356035</td>\n",
       "      <td>13.996647</td>\n",
       "      <td>-601.496691</td>\n",
       "      <td>47.859163</td>\n",
       "      <td>65.908382</td>\n",
       "      <td>65.908382</td>\n",
       "      <td>71.321010</td>\n",
       "      <td>64.004667</td>\n",
       "    </tr>\n",
       "  </tbody>\n",
       "</table>\n",
       "<p>5 rows × 91 columns</p>\n",
       "</div>"
      ],
      "text/plain": [
       "   final.output.concentrate_ag  final.output.concentrate_pb  \\\n",
       "0                     6.055403                     9.889648   \n",
       "1                     6.029369                     9.968944   \n",
       "2                     6.055926                    10.213995   \n",
       "3                     6.047977                     9.977019   \n",
       "4                     6.148599                    10.142511   \n",
       "\n",
       "   final.output.concentrate_sol  final.output.concentrate_au  \\\n",
       "0                      5.507324                    42.192020   \n",
       "1                      5.257781                    42.701629   \n",
       "2                      5.383759                    42.657501   \n",
       "3                      4.858634                    42.689819   \n",
       "4                      4.939416                    42.774141   \n",
       "\n",
       "   final.output.recovery  final.output.tail_ag  final.output.tail_pb  \\\n",
       "0              70.541216             10.411962              0.895447   \n",
       "1              69.266198             10.462676              0.927452   \n",
       "2              68.116445             10.507046              0.953716   \n",
       "3              68.347543             10.422762              0.883763   \n",
       "4              66.927016             10.360302              0.792826   \n",
       "\n",
       "   final.output.tail_sol  final.output.tail_au  primary_cleaner.input.sulfate  \\\n",
       "0              16.904297              2.143149                     127.092003   \n",
       "1              16.634514              2.224930                     125.629232   \n",
       "2              16.208849              2.257889                     123.819808   \n",
       "3              16.532835              2.146849                     122.270188   \n",
       "4              16.525686              2.055292                     117.988169   \n",
       "\n",
       "   ...  secondary_cleaner.state.floatbank5_a_level  \\\n",
       "0  ...                                 -498.310211   \n",
       "1  ...                                 -500.169983   \n",
       "2  ...                                 -500.129135   \n",
       "3  ...                                 -499.201640   \n",
       "4  ...                                 -501.686727   \n",
       "\n",
       "   secondary_cleaner.state.floatbank5_b_air  \\\n",
       "0                                  8.079666   \n",
       "1                                  7.984757   \n",
       "2                                  8.013877   \n",
       "3                                  7.977324   \n",
       "4                                  7.894242   \n",
       "\n",
       "   secondary_cleaner.state.floatbank5_b_level  \\\n",
       "0                                 -500.470978   \n",
       "1                                 -500.582168   \n",
       "2                                 -500.517572   \n",
       "3                                 -500.255908   \n",
       "4                                 -500.356035   \n",
       "\n",
       "   secondary_cleaner.state.floatbank6_a_air  \\\n",
       "0                                 14.151341   \n",
       "1                                 13.998353   \n",
       "2                                 14.028663   \n",
       "3                                 14.005551   \n",
       "4                                 13.996647   \n",
       "\n",
       "   secondary_cleaner.state.floatbank6_a_level  rougher_input  rougher_ouput  \\\n",
       "0                                 -605.841980      51.680034      66.424950   \n",
       "1                                 -599.787184      50.659114      67.012710   \n",
       "2                                 -601.427363      50.609929      66.103793   \n",
       "3                                 -599.996129      51.061546      65.752751   \n",
       "4                                 -601.496691      47.859163      65.908382   \n",
       "\n",
       "   rougher_output_sum  primary_cleaner_output  final_output  \n",
       "0           66.424950               72.640924     63.644396  \n",
       "1           67.012710               72.543485     63.957723  \n",
       "2           66.103793               72.095042     64.311180  \n",
       "3           65.752751               59.957723     63.573449  \n",
       "4           65.908382               71.321010     64.004667  \n",
       "\n",
       "[5 rows x 91 columns]"
      ]
     },
     "execution_count": 54,
     "metadata": {},
     "output_type": "execute_result"
    }
   ],
   "source": [
    "#суммируем данные по этапу финальная обработка продукта\n",
    "train_df['final_output']=train_df[['final.output.concentrate_ag', 'final.output.concentrate_pb',\n",
    "       'final.output.concentrate_sol', 'final.output.concentrate_au']].sum(axis=1)\n",
    "train_df.head()"
   ]
  },
  {
   "cell_type": "code",
   "execution_count": 55,
   "metadata": {},
   "outputs": [
    {
     "data": {
      "image/png": "[encoded data removed]",
      "text/plain": [
       "<Figure size 1440x720 with 1 Axes>"
      ]
     },
     "metadata": {
      "needs_background": "light"
     },
     "output_type": "display_data"
    }
   ],
   "source": [
    "plt.figure(figsize=(20,10))\n",
    "train_df['rougher_input'].hist(bins=200, color='pink',label='rougher_input',alpha=0.5)\n",
    "train_df['rougher_output_sum'].hist(bins=200, color='blue',label='rougher_output_sum',alpha=0.5)\n",
    "train_df['primary_cleaner_output'].hist(bins=200, color='green',label='primary_cleaner.output.concentrate',alpha=0.5)\n",
    "train_df['final_output'].hist(bins=200, color='black',label='primary_cleaner.output.concentrate',alpha=0.5)\n",
    "plt.legend()\n",
    "plt.title('Суммарная концентрация всех веществ на разных стадиях: в сырье, в черновом и финальном концентратах')\n",
    "plt.xlabel('Концентрация')\n",
    "plt.ylabel('Количество')\n",
    "plt.show()"
   ]
  },
  {
   "cell_type": "markdown",
   "metadata": {},
   "source": [
    "По графикам мы видим общую закономерность - на последних трех этапах очистки имеются аномальные минимальные значения, то есть проведение обработки дало минимальную концентрацию металлов.\n",
    "Исходя из этого, принимаем решение удалить минимальные значения."
   ]
  },
  {
   "cell_type": "code",
   "execution_count": 56,
   "metadata": {},
   "outputs": [],
   "source": [
    "train_df=train_df.drop(train_df[train_df['rougher_input']<=1].index)\n",
    "train_df=train_df.drop(train_df[train_df['rougher_output_sum']<=1].index)\n",
    "train_df=train_df.drop(train_df[train_df['primary_cleaner_output']<=1].index)\n",
    "train_df=train_df.drop(train_df[train_df['final_output']<=1].index)"
   ]
  },
  {
   "cell_type": "code",
   "execution_count": 57,
   "metadata": {},
   "outputs": [],
   "source": [
    "#из тренировочной выборки удалим пропущенные столбцы, которых нет в тестовой выборки, кроме целевых прихнаков 'rougher.output.recovery' и 'final.output.recovery'\n",
    "train_df=train_df.drop(columns=['rougher_input','rougher_ouput','rougher_output_sum','primary_cleaner_output','final_output','final.output.concentrate_ag',\n",
    " 'final.output.concentrate_au',\n",
    " 'final.output.concentrate_pb',\n",
    " 'final.output.concentrate_sol',\n",
    " 'final.output.tail_ag',\n",
    " 'final.output.tail_au',\n",
    " 'final.output.tail_pb',\n",
    " 'final.output.tail_sol',\n",
    " 'primary_cleaner.output.concentrate_ag',\n",
    " 'primary_cleaner.output.concentrate_au',\n",
    " 'primary_cleaner.output.concentrate_pb',\n",
    " 'primary_cleaner.output.concentrate_sol',\n",
    " 'primary_cleaner.output.tail_ag',\n",
    " 'primary_cleaner.output.tail_au',\n",
    " 'primary_cleaner.output.tail_pb',\n",
    " 'primary_cleaner.output.tail_sol',\n",
    " 'rougher.calculation.au_pb_ratio',\n",
    " 'rougher.calculation.floatbank10_sulfate_to_au_feed',\n",
    " 'rougher.calculation.floatbank11_sulfate_to_au_feed',\n",
    " 'rougher.calculation.sulfate_to_au_concentrate',\n",
    " 'rougher.output.concentrate_ag',\n",
    " 'rougher.output.concentrate_au',\n",
    " 'rougher.output.concentrate_pb',\n",
    " 'rougher.output.concentrate_sol',\n",
    " 'rougher.output.tail_ag',\n",
    " 'rougher.output.tail_au',\n",
    " 'rougher.output.tail_pb',\n",
    " 'rougher.output.tail_sol',\n",
    " 'secondary_cleaner.output.tail_ag',\n",
    " 'secondary_cleaner.output.tail_au',\n",
    " 'secondary_cleaner.output.tail_pb',\n",
    " 'secondary_cleaner.output.tail_sol'])"
   ]
  },
  {
   "cell_type": "markdown",
   "metadata": {},
   "source": [
    "Вывод \n",
    "\n",
    "Мы посмотрели на графиках как меняется концентрация металлов (Au, Ag, Pb) на различных этапах очистки. Концентрация золота увеличивается с каждым этапом очистки. Концентрация серебра увеличивается до этапа флотации продукта, а далее снижается. Концентрация серебра увеличивается до этапа первичной очистки продукта, а далее снижается.\n",
    "\n",
    "Сравнили распределения по диаграммам рахмаха размеры гранул сырья на обучающей и тестовой выборках. Они похожи и не отличаются друг от друга (имеют схожую медиану и аномальные выбросы на одинаковой удаленности). Это значит, что оценка модели в дальнейшем будет правильной.\n",
    "\n",
    "Исследовали суммарную концентрацию всех веществ на разных стадиях: в сырье, в черновом и финальном концентратах. Обнаружили аномалии и удалили их."
   ]
  },
  {
   "cell_type": "markdown",
   "metadata": {},
   "source": [
    "## Модель"
   ]
  },
  {
   "cell_type": "markdown",
   "metadata": {},
   "source": [
    "Напишем функцию для вычисления итоговой sMAPE."
   ]
  },
  {
   "cell_type": "markdown",
   "metadata": {},
   "source": [
    "Для решения задачи введём новую метрику качества — sMAPE (англ. Symmetric Mean Absolute Percentage Error, «симметричное среднее абсолютное процентное отклонение»).\n",
    "Она похожа на MAE, но выражается не в абсолютных величинах, а в относительных. "
   ]
  },
  {
   "cell_type": "code",
   "execution_count": 58,
   "metadata": {},
   "outputs": [],
   "source": [
    "#создадим функцию для расчета SMAPE\n",
    "def smape(A, B):\n",
    "    return 1/len(A) * np.sum(2 * np.abs(B - A) / (np.abs(A) + np.abs(B)))*100"
   ]
  },
  {
   "cell_type": "code",
   "execution_count": 59,
   "metadata": {},
   "outputs": [],
   "source": [
    "#создадим функцию для расчета итогового SMAPE\n",
    "def smape_fin(smape_rougher,smape_finel):\n",
    "    return 0.25*smape_rougher+0.75*smape_finel"
   ]
  },
  {
   "cell_type": "code",
   "execution_count": 60,
   "metadata": {},
   "outputs": [],
   "source": [
    "#разделим тренировочный датасет на признаки и целевые признаки\n",
    "features_1=train_df.drop(['rougher.output.recovery','final.output.recovery'], axis=1)\n",
    "target_1=train_df['rougher.output.recovery']\n",
    "target_2=train_df['final.output.recovery']"
   ]
  },
  {
   "cell_type": "markdown",
   "metadata": {},
   "source": [
    "Построим модели для целевого признака 'эффективность обогащения чернового концентрата'"
   ]
  },
  {
   "cell_type": "code",
   "execution_count": 61,
   "metadata": {},
   "outputs": [
    {
     "name": "stderr",
     "output_type": "stream",
     "text": [
      "[Parallel(n_jobs=-1)]: Using backend SequentialBackend with 1 concurrent workers.\n",
      "[Parallel(n_jobs=-1)]: Done   1 out of   1 | elapsed:    0.1s remaining:    0.0s\n"
     ]
    },
    {
     "name": "stdout",
     "output_type": "stream",
     "text": [
      "[CV] START .....................................................................\n",
      "[CV] END ............................... score: (test=-9.387) total time=   0.1s\n",
      "[CV] START .....................................................................\n",
      "[CV] END ............................... score: (test=-8.250) total time=   0.3s\n",
      "[CV] START .....................................................................\n"
     ]
    },
    {
     "name": "stderr",
     "output_type": "stream",
     "text": [
      "[Parallel(n_jobs=-1)]: Done   2 out of   2 | elapsed:    0.5s remaining:    0.0s\n"
     ]
    },
    {
     "name": "stdout",
     "output_type": "stream",
     "text": [
      "[CV] END .............................. score: (test=-12.962) total time=   0.2s\n",
      "sMAPE модели линейной регрессии: 10.19971961297467\n"
     ]
    },
    {
     "name": "stderr",
     "output_type": "stream",
     "text": [
      "[Parallel(n_jobs=-1)]: Done   3 out of   3 | elapsed:    0.8s remaining:    0.0s\n",
      "[Parallel(n_jobs=-1)]: Done   3 out of   3 | elapsed:    0.8s finished\n"
     ]
    }
   ],
   "source": [
    "#обучим модель линейной регрессии\n",
    "model = LinearRegression()\n",
    "scorer = make_scorer(smape, greater_is_better=False)\n",
    "scores=cross_val_score(model, features_1, target_1, cv=3, scoring=scorer,n_jobs=-1,verbose=10)\n",
    "final_score_rougher_lr=scores.mean()\n",
    "print('sMAPE модели линейной регрессии:', -final_score_rougher_lr)"
   ]
  },
  {
   "cell_type": "code",
   "execution_count": 62,
   "metadata": {},
   "outputs": [
    {
     "name": "stdout",
     "output_type": "stream",
     "text": [
      "[CV] START .....................................................................\n",
      "[CV] END .............................. score: (test=-10.940) total time=   0.1s\n"
     ]
    },
    {
     "name": "stderr",
     "output_type": "stream",
     "text": [
      "[Parallel(n_jobs=-1)]: Using backend SequentialBackend with 1 concurrent workers.\n",
      "[Parallel(n_jobs=-1)]: Done   1 out of   1 | elapsed:    0.1s remaining:    0.0s\n",
      "[Parallel(n_jobs=-1)]: Done   2 out of   2 | elapsed:    0.2s remaining:    0.0s\n"
     ]
    },
    {
     "name": "stdout",
     "output_type": "stream",
     "text": [
      "[CV] START .....................................................................\n",
      "[CV] END ............................... score: (test=-7.815) total time=   0.1s\n",
      "[CV] START .....................................................................\n",
      "[CV] END ............................... score: (test=-9.874) total time=   0.1s\n",
      "[CV] START .....................................................................\n"
     ]
    },
    {
     "name": "stderr",
     "output_type": "stream",
     "text": [
      "[Parallel(n_jobs=-1)]: Done   3 out of   3 | elapsed:    0.3s remaining:    0.0s\n",
      "[Parallel(n_jobs=-1)]: Done   3 out of   3 | elapsed:    0.3s finished\n",
      "[Parallel(n_jobs=-1)]: Using backend SequentialBackend with 1 concurrent workers.\n"
     ]
    },
    {
     "name": "stdout",
     "output_type": "stream",
     "text": [
      "[CV] END ............................... score: (test=-9.275) total time=   0.2s\n",
      "[CV] START .....................................................................\n"
     ]
    },
    {
     "name": "stderr",
     "output_type": "stream",
     "text": [
      "[Parallel(n_jobs=-1)]: Done   1 out of   1 | elapsed:    0.2s remaining:    0.0s\n"
     ]
    },
    {
     "name": "stdout",
     "output_type": "stream",
     "text": [
      "[CV] END ............................... score: (test=-7.739) total time=   0.2s\n",
      "[CV] START .....................................................................\n"
     ]
    },
    {
     "name": "stderr",
     "output_type": "stream",
     "text": [
      "[Parallel(n_jobs=-1)]: Done   2 out of   2 | elapsed:    0.3s remaining:    0.0s\n"
     ]
    },
    {
     "name": "stdout",
     "output_type": "stream",
     "text": [
      "[CV] END ............................... score: (test=-8.080) total time=   0.2s\n",
      "[CV] START .....................................................................\n"
     ]
    },
    {
     "name": "stderr",
     "output_type": "stream",
     "text": [
      "[Parallel(n_jobs=-1)]: Done   3 out of   3 | elapsed:    0.5s remaining:    0.0s\n",
      "[Parallel(n_jobs=-1)]: Done   3 out of   3 | elapsed:    0.5s finished\n",
      "[Parallel(n_jobs=-1)]: Using backend SequentialBackend with 1 concurrent workers.\n"
     ]
    },
    {
     "name": "stdout",
     "output_type": "stream",
     "text": [
      "[CV] END ............................... score: (test=-9.268) total time=   0.3s\n",
      "[CV] START .....................................................................\n"
     ]
    },
    {
     "name": "stderr",
     "output_type": "stream",
     "text": [
      "[Parallel(n_jobs=-1)]: Done   1 out of   1 | elapsed:    0.3s remaining:    0.0s\n"
     ]
    },
    {
     "name": "stdout",
     "output_type": "stream",
     "text": [
      "[CV] END ............................... score: (test=-8.602) total time=   0.3s\n",
      "[CV] START .....................................................................\n"
     ]
    },
    {
     "name": "stderr",
     "output_type": "stream",
     "text": [
      "[Parallel(n_jobs=-1)]: Done   2 out of   2 | elapsed:    0.5s remaining:    0.0s\n"
     ]
    },
    {
     "name": "stdout",
     "output_type": "stream",
     "text": [
      "[CV] END ............................... score: (test=-8.636) total time=   0.3s\n",
      "[CV] START .....................................................................\n"
     ]
    },
    {
     "name": "stderr",
     "output_type": "stream",
     "text": [
      "[Parallel(n_jobs=-1)]: Done   3 out of   3 | elapsed:    0.8s remaining:    0.0s\n",
      "[Parallel(n_jobs=-1)]: Done   3 out of   3 | elapsed:    0.8s finished\n",
      "[Parallel(n_jobs=-1)]: Using backend SequentialBackend with 1 concurrent workers.\n"
     ]
    },
    {
     "name": "stdout",
     "output_type": "stream",
     "text": [
      "[CV] END ............................... score: (test=-9.189) total time=   0.3s\n",
      "[CV] START .....................................................................\n"
     ]
    },
    {
     "name": "stderr",
     "output_type": "stream",
     "text": [
      "[Parallel(n_jobs=-1)]: Done   1 out of   1 | elapsed:    0.3s remaining:    0.0s\n"
     ]
    },
    {
     "name": "stdout",
     "output_type": "stream",
     "text": [
      "[CV] END ............................... score: (test=-8.296) total time=   0.3s\n",
      "[CV] START .....................................................................\n"
     ]
    },
    {
     "name": "stderr",
     "output_type": "stream",
     "text": [
      "[Parallel(n_jobs=-1)]: Done   2 out of   2 | elapsed:    0.6s remaining:    0.0s\n"
     ]
    },
    {
     "name": "stdout",
     "output_type": "stream",
     "text": [
      "[CV] END ............................... score: (test=-9.432) total time=   0.3s\n",
      "[CV] START .....................................................................\n"
     ]
    },
    {
     "name": "stderr",
     "output_type": "stream",
     "text": [
      "[Parallel(n_jobs=-1)]: Done   3 out of   3 | elapsed:    1.0s remaining:    0.0s\n",
      "[Parallel(n_jobs=-1)]: Done   3 out of   3 | elapsed:    1.0s finished\n",
      "[Parallel(n_jobs=-1)]: Using backend SequentialBackend with 1 concurrent workers.\n"
     ]
    },
    {
     "name": "stdout",
     "output_type": "stream",
     "text": [
      "[CV] END ............................... score: (test=-9.255) total time=   0.4s\n",
      "[CV] START .....................................................................\n"
     ]
    },
    {
     "name": "stderr",
     "output_type": "stream",
     "text": [
      "[Parallel(n_jobs=-1)]: Done   1 out of   1 | elapsed:    0.4s remaining:    0.0s\n"
     ]
    },
    {
     "name": "stdout",
     "output_type": "stream",
     "text": [
      "[CV] END ............................... score: (test=-9.290) total time=   0.4s\n",
      "[CV] START .....................................................................\n"
     ]
    },
    {
     "name": "stderr",
     "output_type": "stream",
     "text": [
      "[Parallel(n_jobs=-1)]: Done   2 out of   2 | elapsed:    0.8s remaining:    0.0s\n"
     ]
    },
    {
     "name": "stdout",
     "output_type": "stream",
     "text": [
      "[CV] END .............................. score: (test=-10.153) total time=   0.4s\n",
      "[CV] START .....................................................................\n"
     ]
    },
    {
     "name": "stderr",
     "output_type": "stream",
     "text": [
      "[Parallel(n_jobs=-1)]: Done   3 out of   3 | elapsed:    1.2s remaining:    0.0s\n",
      "[Parallel(n_jobs=-1)]: Done   3 out of   3 | elapsed:    1.2s finished\n",
      "[Parallel(n_jobs=-1)]: Using backend SequentialBackend with 1 concurrent workers.\n"
     ]
    },
    {
     "name": "stdout",
     "output_type": "stream",
     "text": [
      "[CV] END ............................... score: (test=-9.518) total time=   0.5s\n",
      "[CV] START .....................................................................\n"
     ]
    },
    {
     "name": "stderr",
     "output_type": "stream",
     "text": [
      "[Parallel(n_jobs=-1)]: Done   1 out of   1 | elapsed:    0.5s remaining:    0.0s\n"
     ]
    },
    {
     "name": "stdout",
     "output_type": "stream",
     "text": [
      "[CV] END ............................... score: (test=-8.463) total time=   0.5s\n",
      "[CV] START .....................................................................\n"
     ]
    },
    {
     "name": "stderr",
     "output_type": "stream",
     "text": [
      "[Parallel(n_jobs=-1)]: Done   2 out of   2 | elapsed:    1.0s remaining:    0.0s\n"
     ]
    },
    {
     "name": "stdout",
     "output_type": "stream",
     "text": [
      "[CV] END .............................. score: (test=-11.084) total time=   0.5s\n",
      "[CV] START .....................................................................\n"
     ]
    },
    {
     "name": "stderr",
     "output_type": "stream",
     "text": [
      "[Parallel(n_jobs=-1)]: Done   3 out of   3 | elapsed:    1.4s remaining:    0.0s\n",
      "[Parallel(n_jobs=-1)]: Done   3 out of   3 | elapsed:    1.4s finished\n",
      "[Parallel(n_jobs=-1)]: Using backend SequentialBackend with 1 concurrent workers.\n"
     ]
    },
    {
     "name": "stdout",
     "output_type": "stream",
     "text": [
      "[CV] END ............................... score: (test=-9.718) total time=   0.5s\n",
      "[CV] START .....................................................................\n"
     ]
    },
    {
     "name": "stderr",
     "output_type": "stream",
     "text": [
      "[Parallel(n_jobs=-1)]: Done   1 out of   1 | elapsed:    0.5s remaining:    0.0s\n"
     ]
    },
    {
     "name": "stdout",
     "output_type": "stream",
     "text": [
      "[CV] END ............................... score: (test=-8.546) total time=   0.5s\n",
      "[CV] START .....................................................................\n"
     ]
    },
    {
     "name": "stderr",
     "output_type": "stream",
     "text": [
      "[Parallel(n_jobs=-1)]: Done   2 out of   2 | elapsed:    1.1s remaining:    0.0s\n"
     ]
    },
    {
     "name": "stdout",
     "output_type": "stream",
     "text": [
      "[CV] END ............................... score: (test=-9.757) total time=   0.6s\n",
      "[CV] START .....................................................................\n"
     ]
    },
    {
     "name": "stderr",
     "output_type": "stream",
     "text": [
      "[Parallel(n_jobs=-1)]: Done   3 out of   3 | elapsed:    1.6s remaining:    0.0s\n",
      "[Parallel(n_jobs=-1)]: Done   3 out of   3 | elapsed:    1.6s finished\n",
      "[Parallel(n_jobs=-1)]: Using backend SequentialBackend with 1 concurrent workers.\n"
     ]
    },
    {
     "name": "stdout",
     "output_type": "stream",
     "text": [
      "[CV] END ............................... score: (test=-9.966) total time=   0.6s\n",
      "[CV] START .....................................................................\n"
     ]
    },
    {
     "name": "stderr",
     "output_type": "stream",
     "text": [
      "[Parallel(n_jobs=-1)]: Done   1 out of   1 | elapsed:    0.6s remaining:    0.0s\n"
     ]
    },
    {
     "name": "stdout",
     "output_type": "stream",
     "text": [
      "[CV] END .............................. score: (test=-10.417) total time=   0.6s\n",
      "[CV] START .....................................................................\n"
     ]
    },
    {
     "name": "stderr",
     "output_type": "stream",
     "text": [
      "[Parallel(n_jobs=-1)]: Done   2 out of   2 | elapsed:    1.2s remaining:    0.0s\n"
     ]
    },
    {
     "name": "stdout",
     "output_type": "stream",
     "text": [
      "[CV] END .............................. score: (test=-10.154) total time=   0.6s\n",
      "[CV] START .....................................................................\n"
     ]
    },
    {
     "name": "stderr",
     "output_type": "stream",
     "text": [
      "[Parallel(n_jobs=-1)]: Done   3 out of   3 | elapsed:    1.7s remaining:    0.0s\n",
      "[Parallel(n_jobs=-1)]: Done   3 out of   3 | elapsed:    1.7s finished\n",
      "[Parallel(n_jobs=-1)]: Using backend SequentialBackend with 1 concurrent workers.\n"
     ]
    },
    {
     "name": "stdout",
     "output_type": "stream",
     "text": [
      "[CV] END ............................... score: (test=-9.832) total time=   0.6s\n",
      "[CV] START .....................................................................\n"
     ]
    },
    {
     "name": "stderr",
     "output_type": "stream",
     "text": [
      "[Parallel(n_jobs=-1)]: Done   1 out of   1 | elapsed:    0.6s remaining:    0.0s\n"
     ]
    },
    {
     "name": "stdout",
     "output_type": "stream",
     "text": [
      "[CV] END .............................. score: (test=-10.251) total time=   0.6s\n",
      "[CV] START .....................................................................\n"
     ]
    },
    {
     "name": "stderr",
     "output_type": "stream",
     "text": [
      "[Parallel(n_jobs=-1)]: Done   2 out of   2 | elapsed:    1.2s remaining:    0.0s\n"
     ]
    },
    {
     "name": "stdout",
     "output_type": "stream",
     "text": [
      "[CV] END .............................. score: (test=-10.197) total time=   0.6s\n",
      "[CV] START .....................................................................\n"
     ]
    },
    {
     "name": "stderr",
     "output_type": "stream",
     "text": [
      "[Parallel(n_jobs=-1)]: Done   3 out of   3 | elapsed:    1.8s remaining:    0.0s\n",
      "[Parallel(n_jobs=-1)]: Done   3 out of   3 | elapsed:    1.8s finished\n",
      "[Parallel(n_jobs=-1)]: Using backend SequentialBackend with 1 concurrent workers.\n"
     ]
    },
    {
     "name": "stdout",
     "output_type": "stream",
     "text": [
      "[CV] END .............................. score: (test=-10.082) total time=   0.6s\n",
      "[CV] START .....................................................................\n"
     ]
    },
    {
     "name": "stderr",
     "output_type": "stream",
     "text": [
      "[Parallel(n_jobs=-1)]: Done   1 out of   1 | elapsed:    0.6s remaining:    0.0s\n"
     ]
    },
    {
     "name": "stdout",
     "output_type": "stream",
     "text": [
      "[CV] END ............................... score: (test=-8.994) total time=   0.6s\n",
      "[CV] START .....................................................................\n"
     ]
    },
    {
     "name": "stderr",
     "output_type": "stream",
     "text": [
      "[Parallel(n_jobs=-1)]: Done   2 out of   2 | elapsed:    1.3s remaining:    0.0s\n"
     ]
    },
    {
     "name": "stdout",
     "output_type": "stream",
     "text": [
      "[CV] END .............................. score: (test=-10.265) total time=   0.7s\n",
      "sMAPE наилучшей модели: 8.364717080280462\n",
      "Глубина: 3\n"
     ]
    },
    {
     "name": "stderr",
     "output_type": "stream",
     "text": [
      "[Parallel(n_jobs=-1)]: Done   3 out of   3 | elapsed:    1.9s remaining:    0.0s\n",
      "[Parallel(n_jobs=-1)]: Done   3 out of   3 | elapsed:    1.9s finished\n"
     ]
    }
   ],
   "source": [
    "#обучим модель дерева решений\n",
    "#найдем наилучшую модели\n",
    "best_model = None\n",
    "best_result_dtr_rougher = 100\n",
    "best_depth = 0\n",
    "for depth in range(1, 20, 2):\n",
    "    model_2=DecisionTreeRegressor(random_state = 12345,max_depth=depth)\n",
    "    scorer = make_scorer(smape, greater_is_better=False)\n",
    "    scores=abs(cross_val_score(model_2, features_1, target_1, cv=3,scoring=scorer,n_jobs=-1,verbose=10).mean())\n",
    "    if scores < best_result_dtr_rougher:\n",
    "        best_model = model_2\n",
    "        best_result_dtr_rougher = scores\n",
    "        best_depth = depth\n",
    "print(\"sMAPE наилучшей модели:\", best_result_dtr_rougher)\n",
    "print(\"Глубина:\", best_depth)"
   ]
  },
  {
   "cell_type": "code",
   "execution_count": 63,
   "metadata": {},
   "outputs": [
    {
     "name": "stdout",
     "output_type": "stream",
     "text": [
      "[CV] START .....................................................................\n"
     ]
    },
    {
     "name": "stderr",
     "output_type": "stream",
     "text": [
      "[Parallel(n_jobs=-1)]: Using backend SequentialBackend with 1 concurrent workers.\n"
     ]
    },
    {
     "name": "stdout",
     "output_type": "stream",
     "text": [
      "[CV] END .............................. score: (test=-10.542) total time=   0.4s\n",
      "[CV] START .....................................................................\n"
     ]
    },
    {
     "name": "stderr",
     "output_type": "stream",
     "text": [
      "[Parallel(n_jobs=-1)]: Done   1 out of   1 | elapsed:    0.4s remaining:    0.0s\n"
     ]
    },
    {
     "name": "stdout",
     "output_type": "stream",
     "text": [
      "[CV] END ............................... score: (test=-7.832) total time=   0.4s\n",
      "[CV] START .....................................................................\n"
     ]
    },
    {
     "name": "stderr",
     "output_type": "stream",
     "text": [
      "[Parallel(n_jobs=-1)]: Done   2 out of   2 | elapsed:    0.8s remaining:    0.0s\n"
     ]
    },
    {
     "name": "stdout",
     "output_type": "stream",
     "text": [
      "[CV] END ............................... score: (test=-9.445) total time=   0.4s\n",
      "[CV] START .....................................................................\n"
     ]
    },
    {
     "name": "stderr",
     "output_type": "stream",
     "text": [
      "[Parallel(n_jobs=-1)]: Done   3 out of   3 | elapsed:    1.2s remaining:    0.0s\n",
      "[Parallel(n_jobs=-1)]: Done   3 out of   3 | elapsed:    1.2s finished\n",
      "[Parallel(n_jobs=-1)]: Using backend SequentialBackend with 1 concurrent workers.\n"
     ]
    },
    {
     "name": "stdout",
     "output_type": "stream",
     "text": [
      "[CV] END ............................... score: (test=-8.083) total time=   2.9s\n",
      "[CV] START .....................................................................\n"
     ]
    },
    {
     "name": "stderr",
     "output_type": "stream",
     "text": [
      "[Parallel(n_jobs=-1)]: Done   1 out of   1 | elapsed:    2.9s remaining:    0.0s\n"
     ]
    },
    {
     "name": "stdout",
     "output_type": "stream",
     "text": [
      "[CV] END ............................... score: (test=-7.109) total time=   2.9s\n",
      "[CV] START .....................................................................\n"
     ]
    },
    {
     "name": "stderr",
     "output_type": "stream",
     "text": [
      "[Parallel(n_jobs=-1)]: Done   2 out of   2 | elapsed:    5.8s remaining:    0.0s\n"
     ]
    },
    {
     "name": "stdout",
     "output_type": "stream",
     "text": [
      "[CV] END ............................... score: (test=-9.521) total time=   2.8s\n",
      "[CV] START .....................................................................\n"
     ]
    },
    {
     "name": "stderr",
     "output_type": "stream",
     "text": [
      "[Parallel(n_jobs=-1)]: Done   3 out of   3 | elapsed:    8.6s remaining:    0.0s\n",
      "[Parallel(n_jobs=-1)]: Done   3 out of   3 | elapsed:    8.6s finished\n",
      "[Parallel(n_jobs=-1)]: Using backend SequentialBackend with 1 concurrent workers.\n"
     ]
    },
    {
     "name": "stdout",
     "output_type": "stream",
     "text": [
      "[CV] END .............................. score: (test=-10.613) total time=   0.7s\n",
      "[CV] START .....................................................................\n"
     ]
    },
    {
     "name": "stderr",
     "output_type": "stream",
     "text": [
      "[Parallel(n_jobs=-1)]: Done   1 out of   1 | elapsed:    0.7s remaining:    0.0s\n"
     ]
    },
    {
     "name": "stdout",
     "output_type": "stream",
     "text": [
      "[CV] END ............................... score: (test=-7.824) total time=   0.7s\n",
      "[CV] START .....................................................................\n"
     ]
    },
    {
     "name": "stderr",
     "output_type": "stream",
     "text": [
      "[Parallel(n_jobs=-1)]: Done   2 out of   2 | elapsed:    1.4s remaining:    0.0s\n"
     ]
    },
    {
     "name": "stdout",
     "output_type": "stream",
     "text": [
      "[CV] END ............................... score: (test=-9.529) total time=   0.7s\n",
      "[CV] START .....................................................................\n"
     ]
    },
    {
     "name": "stderr",
     "output_type": "stream",
     "text": [
      "[Parallel(n_jobs=-1)]: Done   3 out of   3 | elapsed:    2.1s remaining:    0.0s\n",
      "[Parallel(n_jobs=-1)]: Done   3 out of   3 | elapsed:    2.1s finished\n",
      "[Parallel(n_jobs=-1)]: Using backend SequentialBackend with 1 concurrent workers.\n"
     ]
    },
    {
     "name": "stdout",
     "output_type": "stream",
     "text": [
      "[CV] END ............................... score: (test=-8.178) total time=   6.1s\n",
      "[CV] START .....................................................................\n"
     ]
    },
    {
     "name": "stderr",
     "output_type": "stream",
     "text": [
      "[Parallel(n_jobs=-1)]: Done   1 out of   1 | elapsed:    6.1s remaining:    0.0s\n"
     ]
    },
    {
     "name": "stdout",
     "output_type": "stream",
     "text": [
      "[CV] END ............................... score: (test=-7.050) total time=   5.5s\n",
      "[CV] START .....................................................................\n"
     ]
    },
    {
     "name": "stderr",
     "output_type": "stream",
     "text": [
      "[Parallel(n_jobs=-1)]: Done   2 out of   2 | elapsed:   11.5s remaining:    0.0s\n"
     ]
    },
    {
     "name": "stdout",
     "output_type": "stream",
     "text": [
      "[CV] END ............................... score: (test=-9.589) total time=   5.5s\n",
      "[CV] START .....................................................................\n"
     ]
    },
    {
     "name": "stderr",
     "output_type": "stream",
     "text": [
      "[Parallel(n_jobs=-1)]: Done   3 out of   3 | elapsed:   17.1s remaining:    0.0s\n",
      "[Parallel(n_jobs=-1)]: Done   3 out of   3 | elapsed:   17.1s finished\n",
      "[Parallel(n_jobs=-1)]: Using backend SequentialBackend with 1 concurrent workers.\n"
     ]
    },
    {
     "name": "stdout",
     "output_type": "stream",
     "text": [
      "[CV] END .............................. score: (test=-10.677) total time=   1.0s\n",
      "[CV] START .....................................................................\n"
     ]
    },
    {
     "name": "stderr",
     "output_type": "stream",
     "text": [
      "[Parallel(n_jobs=-1)]: Done   1 out of   1 | elapsed:    1.0s remaining:    0.0s\n"
     ]
    },
    {
     "name": "stdout",
     "output_type": "stream",
     "text": [
      "[CV] END ............................... score: (test=-7.822) total time=   1.0s\n",
      "[CV] START .....................................................................\n"
     ]
    },
    {
     "name": "stderr",
     "output_type": "stream",
     "text": [
      "[Parallel(n_jobs=-1)]: Done   2 out of   2 | elapsed:    2.1s remaining:    0.0s\n"
     ]
    },
    {
     "name": "stdout",
     "output_type": "stream",
     "text": [
      "[CV] END ............................... score: (test=-9.585) total time=   1.0s\n",
      "[CV] START .....................................................................\n"
     ]
    },
    {
     "name": "stderr",
     "output_type": "stream",
     "text": [
      "[Parallel(n_jobs=-1)]: Done   3 out of   3 | elapsed:    3.1s remaining:    0.0s\n",
      "[Parallel(n_jobs=-1)]: Done   3 out of   3 | elapsed:    3.1s finished\n",
      "[Parallel(n_jobs=-1)]: Using backend SequentialBackend with 1 concurrent workers.\n"
     ]
    },
    {
     "name": "stdout",
     "output_type": "stream",
     "text": [
      "[CV] END ............................... score: (test=-8.011) total time=   8.4s\n",
      "[CV] START .....................................................................\n"
     ]
    },
    {
     "name": "stderr",
     "output_type": "stream",
     "text": [
      "[Parallel(n_jobs=-1)]: Done   1 out of   1 | elapsed:    8.4s remaining:    0.0s\n"
     ]
    },
    {
     "name": "stdout",
     "output_type": "stream",
     "text": [
      "[CV] END ............................... score: (test=-7.100) total time=   8.3s\n",
      "[CV] START .....................................................................\n"
     ]
    },
    {
     "name": "stderr",
     "output_type": "stream",
     "text": [
      "[Parallel(n_jobs=-1)]: Done   2 out of   2 | elapsed:   16.7s remaining:    0.0s\n"
     ]
    },
    {
     "name": "stdout",
     "output_type": "stream",
     "text": [
      "[CV] END ............................... score: (test=-9.594) total time=   8.2s\n",
      "[CV] START .....................................................................\n"
     ]
    },
    {
     "name": "stderr",
     "output_type": "stream",
     "text": [
      "[Parallel(n_jobs=-1)]: Done   3 out of   3 | elapsed:   24.8s remaining:    0.0s\n",
      "[Parallel(n_jobs=-1)]: Done   3 out of   3 | elapsed:   24.8s finished\n",
      "[Parallel(n_jobs=-1)]: Using backend SequentialBackend with 1 concurrent workers.\n"
     ]
    },
    {
     "name": "stdout",
     "output_type": "stream",
     "text": [
      "[CV] END .............................. score: (test=-10.713) total time=   1.3s\n",
      "[CV] START .....................................................................\n"
     ]
    },
    {
     "name": "stderr",
     "output_type": "stream",
     "text": [
      "[Parallel(n_jobs=-1)]: Done   1 out of   1 | elapsed:    1.3s remaining:    0.0s\n"
     ]
    },
    {
     "name": "stdout",
     "output_type": "stream",
     "text": [
      "[CV] END ............................... score: (test=-7.834) total time=   1.3s\n",
      "[CV] START .....................................................................\n"
     ]
    },
    {
     "name": "stderr",
     "output_type": "stream",
     "text": [
      "[Parallel(n_jobs=-1)]: Done   2 out of   2 | elapsed:    2.7s remaining:    0.0s\n"
     ]
    },
    {
     "name": "stdout",
     "output_type": "stream",
     "text": [
      "[CV] END ............................... score: (test=-9.586) total time=   1.4s\n",
      "[CV] START .....................................................................\n"
     ]
    },
    {
     "name": "stderr",
     "output_type": "stream",
     "text": [
      "[Parallel(n_jobs=-1)]: Done   3 out of   3 | elapsed:    4.0s remaining:    0.0s\n",
      "[Parallel(n_jobs=-1)]: Done   3 out of   3 | elapsed:    4.0s finished\n",
      "[Parallel(n_jobs=-1)]: Using backend SequentialBackend with 1 concurrent workers.\n"
     ]
    },
    {
     "name": "stdout",
     "output_type": "stream",
     "text": [
      "[CV] END ............................... score: (test=-8.087) total time=  11.9s\n",
      "[CV] START .....................................................................\n"
     ]
    },
    {
     "name": "stderr",
     "output_type": "stream",
     "text": [
      "[Parallel(n_jobs=-1)]: Done   1 out of   1 | elapsed:   11.9s remaining:    0.0s\n"
     ]
    },
    {
     "name": "stdout",
     "output_type": "stream",
     "text": [
      "[CV] END ............................... score: (test=-7.132) total time=  11.7s\n",
      "[CV] START .....................................................................\n"
     ]
    },
    {
     "name": "stderr",
     "output_type": "stream",
     "text": [
      "[Parallel(n_jobs=-1)]: Done   2 out of   2 | elapsed:   23.7s remaining:    0.0s\n"
     ]
    },
    {
     "name": "stdout",
     "output_type": "stream",
     "text": [
      "[CV] END ............................... score: (test=-9.414) total time=  11.9s\n",
      "[CV] START .....................................................................\n"
     ]
    },
    {
     "name": "stderr",
     "output_type": "stream",
     "text": [
      "[Parallel(n_jobs=-1)]: Done   3 out of   3 | elapsed:   35.6s remaining:    0.0s\n",
      "[Parallel(n_jobs=-1)]: Done   3 out of   3 | elapsed:   35.6s finished\n",
      "[Parallel(n_jobs=-1)]: Using backend SequentialBackend with 1 concurrent workers.\n"
     ]
    },
    {
     "name": "stdout",
     "output_type": "stream",
     "text": [
      "[CV] END .............................. score: (test=-10.760) total time=   2.0s\n",
      "[CV] START .....................................................................\n"
     ]
    },
    {
     "name": "stderr",
     "output_type": "stream",
     "text": [
      "[Parallel(n_jobs=-1)]: Done   1 out of   1 | elapsed:    2.0s remaining:    0.0s\n"
     ]
    },
    {
     "name": "stdout",
     "output_type": "stream",
     "text": [
      "[CV] END ............................... score: (test=-7.831) total time=   2.0s\n",
      "[CV] START .....................................................................\n"
     ]
    },
    {
     "name": "stderr",
     "output_type": "stream",
     "text": [
      "[Parallel(n_jobs=-1)]: Done   2 out of   2 | elapsed:    4.0s remaining:    0.0s\n"
     ]
    },
    {
     "name": "stdout",
     "output_type": "stream",
     "text": [
      "[CV] END ............................... score: (test=-9.598) total time=   1.9s\n",
      "[CV] START .....................................................................\n"
     ]
    },
    {
     "name": "stderr",
     "output_type": "stream",
     "text": [
      "[Parallel(n_jobs=-1)]: Done   3 out of   3 | elapsed:    5.9s remaining:    0.0s\n",
      "[Parallel(n_jobs=-1)]: Done   3 out of   3 | elapsed:    5.9s finished\n",
      "[Parallel(n_jobs=-1)]: Using backend SequentialBackend with 1 concurrent workers.\n"
     ]
    },
    {
     "name": "stdout",
     "output_type": "stream",
     "text": [
      "[CV] END ............................... score: (test=-8.139) total time=  15.3s\n",
      "[CV] START .....................................................................\n"
     ]
    },
    {
     "name": "stderr",
     "output_type": "stream",
     "text": [
      "[Parallel(n_jobs=-1)]: Done   1 out of   1 | elapsed:   15.3s remaining:    0.0s\n"
     ]
    },
    {
     "name": "stdout",
     "output_type": "stream",
     "text": [
      "[CV] END ............................... score: (test=-6.984) total time=  14.0s\n",
      "[CV] START .....................................................................\n"
     ]
    },
    {
     "name": "stderr",
     "output_type": "stream",
     "text": [
      "[Parallel(n_jobs=-1)]: Done   2 out of   2 | elapsed:   29.3s remaining:    0.0s\n"
     ]
    },
    {
     "name": "stdout",
     "output_type": "stream",
     "text": [
      "[CV] END ............................... score: (test=-9.511) total time=  14.8s\n",
      "sMAPE наилучшей модели: 8.210801252425227\n",
      "Глубина 11\n",
      "Количество оценщиков 40\n"
     ]
    },
    {
     "name": "stderr",
     "output_type": "stream",
     "text": [
      "[Parallel(n_jobs=-1)]: Done   3 out of   3 | elapsed:   44.1s remaining:    0.0s\n",
      "[Parallel(n_jobs=-1)]: Done   3 out of   3 | elapsed:   44.1s finished\n"
     ]
    }
   ],
   "source": [
    "best_model = None\n",
    "best_depth = 0\n",
    "best_est = 0\n",
    "best_result_rfr_routher = 100\n",
    "for est in range(10, 51, 10):\n",
    "    for depth in range(1, 20, 10):\n",
    "        model_3_rougher = RandomForestRegressor(random_state=12345, n_estimators=est, max_depth=depth)\n",
    "        scorer = make_scorer(smape, greater_is_better=False)\n",
    "        scores=abs(cross_val_score(model_3_rougher, features_1, target_1, cv=3,scoring=scorer,n_jobs=-1,verbose=10).mean())\n",
    "        if scores < best_result_rfr_routher:\n",
    "            best_model = model_2\n",
    "            best_result_rfr_routher = scores\n",
    "            best_depth = depth\n",
    "            best_est = est        \n",
    "\n",
    "print(\"sMAPE наилучшей модели:\", best_result_rfr_routher)\n",
    "print(\"Глубина\", best_depth)\n",
    "print(\"Количество оценщиков\", best_est)  "
   ]
  },
  {
   "cell_type": "markdown",
   "metadata": {},
   "source": [
    "Вопрос \n",
    "\n",
    "Зачем счетчик make_scorer при выборе функции потерь (greater_is_better=False) меняет знак на противоположный?"
   ]
  },
  {
   "cell_type": "markdown",
   "metadata": {},
   "source": [
    "Построены три модели для целевого признака 'эффективность обогащения чернового концентрата' - линейная регрессия, дерево решений и случайный лес. Наилучший результат дала модель - случайного леса"
   ]
  },
  {
   "cell_type": "markdown",
   "metadata": {},
   "source": [
    "Построим модели для целевого признака 'эффективность обогащения финального концентрата'"
   ]
  },
  {
   "cell_type": "code",
   "execution_count": 64,
   "metadata": {},
   "outputs": [
    {
     "name": "stdout",
     "output_type": "stream",
     "text": [
      "[CV] START .....................................................................\n"
     ]
    },
    {
     "name": "stderr",
     "output_type": "stream",
     "text": [
      "[Parallel(n_jobs=-1)]: Using backend SequentialBackend with 1 concurrent workers.\n"
     ]
    },
    {
     "name": "stdout",
     "output_type": "stream",
     "text": [
      "[CV] END .............................. score: (test=-12.508) total time=   0.8s\n",
      "[CV] START .....................................................................\n"
     ]
    },
    {
     "name": "stderr",
     "output_type": "stream",
     "text": [
      "[Parallel(n_jobs=-1)]: Done   1 out of   1 | elapsed:    0.8s remaining:    0.0s\n"
     ]
    },
    {
     "name": "stdout",
     "output_type": "stream",
     "text": [
      "[CV] END .............................. score: (test=-12.756) total time=   0.3s\n",
      "[CV] START .....................................................................\n"
     ]
    },
    {
     "name": "stderr",
     "output_type": "stream",
     "text": [
      "[Parallel(n_jobs=-1)]: Done   2 out of   2 | elapsed:    1.1s remaining:    0.0s\n"
     ]
    },
    {
     "name": "stdout",
     "output_type": "stream",
     "text": [
      "[CV] END .............................. score: (test=-16.313) total time=   0.5s\n",
      "sMAPE модели линейной регрессии: 13.859093251181731\n"
     ]
    },
    {
     "name": "stderr",
     "output_type": "stream",
     "text": [
      "[Parallel(n_jobs=-1)]: Done   3 out of   3 | elapsed:    1.7s remaining:    0.0s\n",
      "[Parallel(n_jobs=-1)]: Done   3 out of   3 | elapsed:    1.7s finished\n"
     ]
    }
   ],
   "source": [
    "#обучим модель линейной регрессии\n",
    "model = LinearRegression() \n",
    "scorer = make_scorer(smape, greater_is_better=False)\n",
    "scores=cross_val_score(model, features_1, target_2, cv=3,scoring=scorer,n_jobs=-1,verbose=10)\n",
    "final_score_final_lr=scores.mean()\n",
    "print('sMAPE модели линейной регрессии:', -final_score_final_lr)"
   ]
  },
  {
   "cell_type": "code",
   "execution_count": 65,
   "metadata": {},
   "outputs": [
    {
     "name": "stdout",
     "output_type": "stream",
     "text": [
      "Итоговый sMAPE для линейной регрессии  12.944249841629965\n"
     ]
    }
   ],
   "source": [
    "#расчитаем итоговый sMAPE для линейной регрессии\n",
    "final_smape_lr=smape_fin(final_score_rougher_lr,final_score_final_lr)\n",
    "print(\"Итоговый sMAPE для линейной регрессии \", -final_smape_lr)"
   ]
  },
  {
   "cell_type": "code",
   "execution_count": 66,
   "metadata": {},
   "outputs": [
    {
     "name": "stdout",
     "output_type": "stream",
     "text": [
      "[CV] START .....................................................................\n"
     ]
    },
    {
     "name": "stderr",
     "output_type": "stream",
     "text": [
      "[Parallel(n_jobs=-1)]: Using backend SequentialBackend with 1 concurrent workers.\n",
      "[Parallel(n_jobs=-1)]: Done   1 out of   1 | elapsed:    0.1s remaining:    0.0s\n"
     ]
    },
    {
     "name": "stdout",
     "output_type": "stream",
     "text": [
      "[CV] END ............................... score: (test=-9.311) total time=   0.1s\n",
      "[CV] START .....................................................................\n",
      "[CV] END .............................. score: (test=-10.043) total time=   0.1s\n",
      "[CV] START .....................................................................\n",
      "[CV] END .............................. score: (test=-11.131) total time=   0.1s\n",
      "[CV] START .....................................................................\n"
     ]
    },
    {
     "name": "stderr",
     "output_type": "stream",
     "text": [
      "[Parallel(n_jobs=-1)]: Done   2 out of   2 | elapsed:    0.2s remaining:    0.0s\n",
      "[Parallel(n_jobs=-1)]: Done   3 out of   3 | elapsed:    0.3s remaining:    0.0s\n",
      "[Parallel(n_jobs=-1)]: Done   3 out of   3 | elapsed:    0.3s finished\n",
      "[Parallel(n_jobs=-1)]: Using backend SequentialBackend with 1 concurrent workers.\n"
     ]
    },
    {
     "name": "stdout",
     "output_type": "stream",
     "text": [
      "[CV] END ............................... score: (test=-9.273) total time=   0.2s\n",
      "[CV] START .....................................................................\n",
      "[CV] END .............................. score: (test=-10.319) total time=   0.2s\n",
      "[CV] START .....................................................................\n"
     ]
    },
    {
     "name": "stderr",
     "output_type": "stream",
     "text": [
      "[Parallel(n_jobs=-1)]: Done   1 out of   1 | elapsed:    0.2s remaining:    0.0s\n",
      "[Parallel(n_jobs=-1)]: Done   2 out of   2 | elapsed:    0.4s remaining:    0.0s\n"
     ]
    },
    {
     "name": "stdout",
     "output_type": "stream",
     "text": [
      "[CV] END .............................. score: (test=-13.480) total time=   0.2s\n",
      "[CV] START .....................................................................\n"
     ]
    },
    {
     "name": "stderr",
     "output_type": "stream",
     "text": [
      "[Parallel(n_jobs=-1)]: Done   3 out of   3 | elapsed:    0.6s remaining:    0.0s\n",
      "[Parallel(n_jobs=-1)]: Done   3 out of   3 | elapsed:    0.6s finished\n",
      "[Parallel(n_jobs=-1)]: Using backend SequentialBackend with 1 concurrent workers.\n"
     ]
    },
    {
     "name": "stdout",
     "output_type": "stream",
     "text": [
      "[CV] END ............................... score: (test=-9.960) total time=   0.3s\n",
      "[CV] START .....................................................................\n"
     ]
    },
    {
     "name": "stderr",
     "output_type": "stream",
     "text": [
      "[Parallel(n_jobs=-1)]: Done   1 out of   1 | elapsed:    0.3s remaining:    0.0s\n"
     ]
    },
    {
     "name": "stdout",
     "output_type": "stream",
     "text": [
      "[CV] END .............................. score: (test=-11.056) total time=   0.3s\n",
      "[CV] START .....................................................................\n"
     ]
    },
    {
     "name": "stderr",
     "output_type": "stream",
     "text": [
      "[Parallel(n_jobs=-1)]: Done   2 out of   2 | elapsed:    0.6s remaining:    0.0s\n"
     ]
    },
    {
     "name": "stdout",
     "output_type": "stream",
     "text": [
      "[CV] END .............................. score: (test=-13.224) total time=   0.3s\n",
      "[CV] START .....................................................................\n"
     ]
    },
    {
     "name": "stderr",
     "output_type": "stream",
     "text": [
      "[Parallel(n_jobs=-1)]: Done   3 out of   3 | elapsed:    0.8s remaining:    0.0s\n",
      "[Parallel(n_jobs=-1)]: Done   3 out of   3 | elapsed:    0.8s finished\n",
      "[Parallel(n_jobs=-1)]: Using backend SequentialBackend with 1 concurrent workers.\n"
     ]
    },
    {
     "name": "stdout",
     "output_type": "stream",
     "text": [
      "[CV] END .............................. score: (test=-10.339) total time=   0.4s\n",
      "[CV] START .....................................................................\n"
     ]
    },
    {
     "name": "stderr",
     "output_type": "stream",
     "text": [
      "[Parallel(n_jobs=-1)]: Done   1 out of   1 | elapsed:    0.4s remaining:    0.0s\n"
     ]
    },
    {
     "name": "stdout",
     "output_type": "stream",
     "text": [
      "[CV] END .............................. score: (test=-11.853) total time=   0.4s\n",
      "[CV] START .....................................................................\n"
     ]
    },
    {
     "name": "stderr",
     "output_type": "stream",
     "text": [
      "[Parallel(n_jobs=-1)]: Done   2 out of   2 | elapsed:    0.7s remaining:    0.0s\n"
     ]
    },
    {
     "name": "stdout",
     "output_type": "stream",
     "text": [
      "[CV] END .............................. score: (test=-12.591) total time=   0.4s\n",
      "[CV] START .....................................................................\n"
     ]
    },
    {
     "name": "stderr",
     "output_type": "stream",
     "text": [
      "[Parallel(n_jobs=-1)]: Done   3 out of   3 | elapsed:    1.1s remaining:    0.0s\n",
      "[Parallel(n_jobs=-1)]: Done   3 out of   3 | elapsed:    1.1s finished\n",
      "[Parallel(n_jobs=-1)]: Using backend SequentialBackend with 1 concurrent workers.\n"
     ]
    },
    {
     "name": "stdout",
     "output_type": "stream",
     "text": [
      "[CV] END .............................. score: (test=-12.067) total time=   0.5s\n",
      "[CV] START .....................................................................\n"
     ]
    },
    {
     "name": "stderr",
     "output_type": "stream",
     "text": [
      "[Parallel(n_jobs=-1)]: Done   1 out of   1 | elapsed:    0.5s remaining:    0.0s\n"
     ]
    },
    {
     "name": "stdout",
     "output_type": "stream",
     "text": [
      "[CV] END .............................. score: (test=-12.675) total time=   0.4s\n",
      "[CV] START .....................................................................\n"
     ]
    },
    {
     "name": "stderr",
     "output_type": "stream",
     "text": [
      "[Parallel(n_jobs=-1)]: Done   2 out of   2 | elapsed:    0.9s remaining:    0.0s\n"
     ]
    },
    {
     "name": "stdout",
     "output_type": "stream",
     "text": [
      "[CV] END .............................. score: (test=-12.615) total time=   0.4s\n",
      "[CV] START .....................................................................\n"
     ]
    },
    {
     "name": "stderr",
     "output_type": "stream",
     "text": [
      "[Parallel(n_jobs=-1)]: Done   3 out of   3 | elapsed:    1.3s remaining:    0.0s\n",
      "[Parallel(n_jobs=-1)]: Done   3 out of   3 | elapsed:    1.3s finished\n",
      "[Parallel(n_jobs=-1)]: Using backend SequentialBackend with 1 concurrent workers.\n"
     ]
    },
    {
     "name": "stdout",
     "output_type": "stream",
     "text": [
      "[CV] END .............................. score: (test=-12.902) total time=   0.5s\n",
      "[CV] START .....................................................................\n"
     ]
    },
    {
     "name": "stderr",
     "output_type": "stream",
     "text": [
      "[Parallel(n_jobs=-1)]: Done   1 out of   1 | elapsed:    0.5s remaining:    0.0s\n"
     ]
    },
    {
     "name": "stdout",
     "output_type": "stream",
     "text": [
      "[CV] END .............................. score: (test=-14.876) total time=   0.5s\n",
      "[CV] START .....................................................................\n"
     ]
    },
    {
     "name": "stderr",
     "output_type": "stream",
     "text": [
      "[Parallel(n_jobs=-1)]: Done   2 out of   2 | elapsed:    1.0s remaining:    0.0s\n"
     ]
    },
    {
     "name": "stdout",
     "output_type": "stream",
     "text": [
      "[CV] END .............................. score: (test=-14.308) total time=   0.5s\n",
      "[CV] START .....................................................................\n"
     ]
    },
    {
     "name": "stderr",
     "output_type": "stream",
     "text": [
      "[Parallel(n_jobs=-1)]: Done   3 out of   3 | elapsed:    1.5s remaining:    0.0s\n",
      "[Parallel(n_jobs=-1)]: Done   3 out of   3 | elapsed:    1.5s finished\n",
      "[Parallel(n_jobs=-1)]: Using backend SequentialBackend with 1 concurrent workers.\n"
     ]
    },
    {
     "name": "stdout",
     "output_type": "stream",
     "text": [
      "[CV] END .............................. score: (test=-13.503) total time=   0.6s\n",
      "[CV] START .....................................................................\n"
     ]
    },
    {
     "name": "stderr",
     "output_type": "stream",
     "text": [
      "[Parallel(n_jobs=-1)]: Done   1 out of   1 | elapsed:    0.6s remaining:    0.0s\n"
     ]
    },
    {
     "name": "stdout",
     "output_type": "stream",
     "text": [
      "[CV] END .............................. score: (test=-16.078) total time=   0.6s\n",
      "[CV] START .....................................................................\n"
     ]
    },
    {
     "name": "stderr",
     "output_type": "stream",
     "text": [
      "[Parallel(n_jobs=-1)]: Done   2 out of   2 | elapsed:    1.2s remaining:    0.0s\n"
     ]
    },
    {
     "name": "stdout",
     "output_type": "stream",
     "text": [
      "[CV] END .............................. score: (test=-14.739) total time=   0.6s\n",
      "[CV] START .....................................................................\n"
     ]
    },
    {
     "name": "stderr",
     "output_type": "stream",
     "text": [
      "[Parallel(n_jobs=-1)]: Done   3 out of   3 | elapsed:    1.8s remaining:    0.0s\n",
      "[Parallel(n_jobs=-1)]: Done   3 out of   3 | elapsed:    1.8s finished\n",
      "[Parallel(n_jobs=-1)]: Using backend SequentialBackend with 1 concurrent workers.\n"
     ]
    },
    {
     "name": "stdout",
     "output_type": "stream",
     "text": [
      "[CV] END .............................. score: (test=-16.562) total time=   0.7s\n",
      "[CV] START .....................................................................\n"
     ]
    },
    {
     "name": "stderr",
     "output_type": "stream",
     "text": [
      "[Parallel(n_jobs=-1)]: Done   1 out of   1 | elapsed:    0.7s remaining:    0.0s\n"
     ]
    },
    {
     "name": "stdout",
     "output_type": "stream",
     "text": [
      "[CV] END .............................. score: (test=-16.195) total time=   0.6s\n",
      "[CV] START .....................................................................\n"
     ]
    },
    {
     "name": "stderr",
     "output_type": "stream",
     "text": [
      "[Parallel(n_jobs=-1)]: Done   2 out of   2 | elapsed:    1.3s remaining:    0.0s\n"
     ]
    },
    {
     "name": "stdout",
     "output_type": "stream",
     "text": [
      "[CV] END .............................. score: (test=-14.066) total time=   0.7s\n",
      "[CV] START .....................................................................\n"
     ]
    },
    {
     "name": "stderr",
     "output_type": "stream",
     "text": [
      "[Parallel(n_jobs=-1)]: Done   3 out of   3 | elapsed:    1.9s remaining:    0.0s\n",
      "[Parallel(n_jobs=-1)]: Done   3 out of   3 | elapsed:    1.9s finished\n",
      "[Parallel(n_jobs=-1)]: Using backend SequentialBackend with 1 concurrent workers.\n"
     ]
    },
    {
     "name": "stdout",
     "output_type": "stream",
     "text": [
      "[CV] END .............................. score: (test=-16.700) total time=   0.7s\n",
      "[CV] START .....................................................................\n"
     ]
    },
    {
     "name": "stderr",
     "output_type": "stream",
     "text": [
      "[Parallel(n_jobs=-1)]: Done   1 out of   1 | elapsed:    0.7s remaining:    0.0s\n"
     ]
    },
    {
     "name": "stdout",
     "output_type": "stream",
     "text": [
      "[CV] END .............................. score: (test=-15.397) total time=   0.7s\n",
      "[CV] START .....................................................................\n"
     ]
    },
    {
     "name": "stderr",
     "output_type": "stream",
     "text": [
      "[Parallel(n_jobs=-1)]: Done   2 out of   2 | elapsed:    1.4s remaining:    0.0s\n"
     ]
    },
    {
     "name": "stdout",
     "output_type": "stream",
     "text": [
      "[CV] END .............................. score: (test=-15.289) total time=   0.7s\n",
      "[CV] START .....................................................................\n"
     ]
    },
    {
     "name": "stderr",
     "output_type": "stream",
     "text": [
      "[Parallel(n_jobs=-1)]: Done   3 out of   3 | elapsed:    2.1s remaining:    0.0s\n",
      "[Parallel(n_jobs=-1)]: Done   3 out of   3 | elapsed:    2.1s finished\n",
      "[Parallel(n_jobs=-1)]: Using backend SequentialBackend with 1 concurrent workers.\n"
     ]
    },
    {
     "name": "stdout",
     "output_type": "stream",
     "text": [
      "[CV] END .............................. score: (test=-14.478) total time=   0.7s\n",
      "[CV] START .....................................................................\n"
     ]
    },
    {
     "name": "stderr",
     "output_type": "stream",
     "text": [
      "[Parallel(n_jobs=-1)]: Done   1 out of   1 | elapsed:    0.7s remaining:    0.0s\n"
     ]
    },
    {
     "name": "stdout",
     "output_type": "stream",
     "text": [
      "[CV] END .............................. score: (test=-16.150) total time=   0.7s\n",
      "[CV] START .....................................................................\n"
     ]
    },
    {
     "name": "stderr",
     "output_type": "stream",
     "text": [
      "[Parallel(n_jobs=-1)]: Done   2 out of   2 | elapsed:    1.4s remaining:    0.0s\n"
     ]
    },
    {
     "name": "stdout",
     "output_type": "stream",
     "text": [
      "[CV] END .............................. score: (test=-15.599) total time=   0.7s\n",
      "Глубина: 1\n",
      "sMAPE модели дерева решений: 10.161494417865852\n"
     ]
    },
    {
     "name": "stderr",
     "output_type": "stream",
     "text": [
      "[Parallel(n_jobs=-1)]: Done   3 out of   3 | elapsed:    2.2s remaining:    0.0s\n",
      "[Parallel(n_jobs=-1)]: Done   3 out of   3 | elapsed:    2.2s finished\n"
     ]
    }
   ],
   "source": [
    "#обучим модель дерева решений\n",
    "#найдем наилучшую модели\n",
    "best_model = None\n",
    "best_result_dtr_finel = 100\n",
    "best_depth = 0\n",
    "for depth in range(1, 20, 2):\n",
    "    model_2=DecisionTreeRegressor(random_state = 12345,max_depth=depth)\n",
    "    scorer = make_scorer(smape, greater_is_better=False)\n",
    "    scores=abs(cross_val_score(model_2, features_1, target_2, cv=3,scoring=scorer,n_jobs=-1,verbose=10).mean())\n",
    "    if scores < best_result_dtr_finel:\n",
    "        best_model = model_2\n",
    "        best_result_dtr_finel = scores\n",
    "        best_depth = depth\n",
    "print(\"Глубина:\", best_depth)\n",
    "print(\"sMAPE модели дерева решений:\", best_result_dtr_finel)\n"
   ]
  },
  {
   "cell_type": "code",
   "execution_count": 67,
   "metadata": {
    "scrolled": true
   },
   "outputs": [
    {
     "name": "stdout",
     "output_type": "stream",
     "text": [
      "Итоговый sMAPE для дерева решений  9.712300083469504\n"
     ]
    }
   ],
   "source": [
    "#расчитаем итоговый sMAPE для дерева решений\n",
    "final_smape_dtr=smape_fin(best_result_dtr_rougher,best_result_dtr_finel)\n",
    "print(\"Итоговый sMAPE для дерева решений \", final_smape_dtr)"
   ]
  },
  {
   "cell_type": "code",
   "execution_count": 82,
   "metadata": {},
   "outputs": [
    {
     "name": "stderr",
     "output_type": "stream",
     "text": [
      "[Parallel(n_jobs=-1)]: Using backend SequentialBackend with 1 concurrent workers.\n"
     ]
    },
    {
     "name": "stdout",
     "output_type": "stream",
     "text": [
      "[CV] START .....................................................................\n",
      "[CV] END ............................... score: (test=-9.306) total time=   0.4s\n",
      "[CV] START .....................................................................\n"
     ]
    },
    {
     "name": "stderr",
     "output_type": "stream",
     "text": [
      "[Parallel(n_jobs=-1)]: Done   1 out of   1 | elapsed:    0.4s remaining:    0.0s\n"
     ]
    },
    {
     "name": "stdout",
     "output_type": "stream",
     "text": [
      "[CV] END ............................... score: (test=-9.503) total time=   0.4s\n",
      "[CV] START .....................................................................\n"
     ]
    },
    {
     "name": "stderr",
     "output_type": "stream",
     "text": [
      "[Parallel(n_jobs=-1)]: Done   2 out of   2 | elapsed:    0.7s remaining:    0.0s\n"
     ]
    },
    {
     "name": "stdout",
     "output_type": "stream",
     "text": [
      "[CV] END .............................. score: (test=-11.144) total time=   0.4s\n",
      "[CV] START .....................................................................\n"
     ]
    },
    {
     "name": "stderr",
     "output_type": "stream",
     "text": [
      "[Parallel(n_jobs=-1)]: Done   3 out of   3 | elapsed:    1.1s remaining:    0.0s\n",
      "[Parallel(n_jobs=-1)]: Done   3 out of   3 | elapsed:    1.1s finished\n",
      "[Parallel(n_jobs=-1)]: Using backend SequentialBackend with 1 concurrent workers.\n"
     ]
    },
    {
     "name": "stdout",
     "output_type": "stream",
     "text": [
      "[CV] END ............................... score: (test=-9.999) total time=   2.9s\n",
      "[CV] START .....................................................................\n"
     ]
    },
    {
     "name": "stderr",
     "output_type": "stream",
     "text": [
      "[Parallel(n_jobs=-1)]: Done   1 out of   1 | elapsed:    2.9s remaining:    0.0s\n"
     ]
    },
    {
     "name": "stdout",
     "output_type": "stream",
     "text": [
      "[CV] END .............................. score: (test=-10.069) total time=   2.9s\n",
      "[CV] START .....................................................................\n"
     ]
    },
    {
     "name": "stderr",
     "output_type": "stream",
     "text": [
      "[Parallel(n_jobs=-1)]: Done   2 out of   2 | elapsed:    5.8s remaining:    0.0s\n"
     ]
    },
    {
     "name": "stdout",
     "output_type": "stream",
     "text": [
      "[CV] END .............................. score: (test=-12.088) total time=   2.9s\n",
      "[CV] START .....................................................................\n"
     ]
    },
    {
     "name": "stderr",
     "output_type": "stream",
     "text": [
      "[Parallel(n_jobs=-1)]: Done   3 out of   3 | elapsed:    8.7s remaining:    0.0s\n",
      "[Parallel(n_jobs=-1)]: Done   3 out of   3 | elapsed:    8.7s finished\n",
      "[Parallel(n_jobs=-1)]: Using backend SequentialBackend with 1 concurrent workers.\n"
     ]
    },
    {
     "name": "stdout",
     "output_type": "stream",
     "text": [
      "[CV] END ............................... score: (test=-9.300) total time=   0.7s\n",
      "[CV] START .....................................................................\n"
     ]
    },
    {
     "name": "stderr",
     "output_type": "stream",
     "text": [
      "[Parallel(n_jobs=-1)]: Done   1 out of   1 | elapsed:    0.7s remaining:    0.0s\n"
     ]
    },
    {
     "name": "stdout",
     "output_type": "stream",
     "text": [
      "[CV] END ............................... score: (test=-9.496) total time=   0.7s\n",
      "[CV] START .....................................................................\n"
     ]
    },
    {
     "name": "stderr",
     "output_type": "stream",
     "text": [
      "[Parallel(n_jobs=-1)]: Done   2 out of   2 | elapsed:    1.4s remaining:    0.0s\n"
     ]
    },
    {
     "name": "stdout",
     "output_type": "stream",
     "text": [
      "[CV] END .............................. score: (test=-11.123) total time=   0.7s\n",
      "[CV] START .....................................................................\n"
     ]
    },
    {
     "name": "stderr",
     "output_type": "stream",
     "text": [
      "[Parallel(n_jobs=-1)]: Done   3 out of   3 | elapsed:    2.1s remaining:    0.0s\n",
      "[Parallel(n_jobs=-1)]: Done   3 out of   3 | elapsed:    2.1s finished\n",
      "[Parallel(n_jobs=-1)]: Using backend SequentialBackend with 1 concurrent workers.\n"
     ]
    },
    {
     "name": "stdout",
     "output_type": "stream",
     "text": [
      "[CV] END ............................... score: (test=-9.978) total time=   5.8s\n",
      "[CV] START .....................................................................\n"
     ]
    },
    {
     "name": "stderr",
     "output_type": "stream",
     "text": [
      "[Parallel(n_jobs=-1)]: Done   1 out of   1 | elapsed:    5.8s remaining:    0.0s\n"
     ]
    },
    {
     "name": "stdout",
     "output_type": "stream",
     "text": [
      "[CV] END ............................... score: (test=-9.565) total time=   5.6s\n",
      "[CV] START .....................................................................\n"
     ]
    },
    {
     "name": "stderr",
     "output_type": "stream",
     "text": [
      "[Parallel(n_jobs=-1)]: Done   2 out of   2 | elapsed:   11.4s remaining:    0.0s\n"
     ]
    },
    {
     "name": "stdout",
     "output_type": "stream",
     "text": [
      "[CV] END .............................. score: (test=-11.892) total time=   5.7s\n",
      "[CV] START .....................................................................\n"
     ]
    },
    {
     "name": "stderr",
     "output_type": "stream",
     "text": [
      "[Parallel(n_jobs=-1)]: Done   3 out of   3 | elapsed:   17.1s remaining:    0.0s\n",
      "[Parallel(n_jobs=-1)]: Done   3 out of   3 | elapsed:   17.1s finished\n",
      "[Parallel(n_jobs=-1)]: Using backend SequentialBackend with 1 concurrent workers.\n"
     ]
    },
    {
     "name": "stdout",
     "output_type": "stream",
     "text": [
      "[CV] END ............................... score: (test=-9.283) total time=   0.9s\n",
      "[CV] START .....................................................................\n"
     ]
    },
    {
     "name": "stderr",
     "output_type": "stream",
     "text": [
      "[Parallel(n_jobs=-1)]: Done   1 out of   1 | elapsed:    0.9s remaining:    0.0s\n"
     ]
    },
    {
     "name": "stdout",
     "output_type": "stream",
     "text": [
      "[CV] END ............................... score: (test=-9.366) total time=   1.0s\n",
      "[CV] START .....................................................................\n"
     ]
    },
    {
     "name": "stderr",
     "output_type": "stream",
     "text": [
      "[Parallel(n_jobs=-1)]: Done   2 out of   2 | elapsed:    1.9s remaining:    0.0s\n"
     ]
    },
    {
     "name": "stdout",
     "output_type": "stream",
     "text": [
      "[CV] END .............................. score: (test=-11.131) total time=   1.0s\n",
      "[CV] START .....................................................................\n"
     ]
    },
    {
     "name": "stderr",
     "output_type": "stream",
     "text": [
      "[Parallel(n_jobs=-1)]: Done   3 out of   3 | elapsed:    3.0s remaining:    0.0s\n",
      "[Parallel(n_jobs=-1)]: Done   3 out of   3 | elapsed:    3.0s finished\n",
      "[Parallel(n_jobs=-1)]: Using backend SequentialBackend with 1 concurrent workers.\n"
     ]
    },
    {
     "name": "stdout",
     "output_type": "stream",
     "text": [
      "[CV] END ............................... score: (test=-9.857) total time=   8.8s\n",
      "[CV] START .....................................................................\n"
     ]
    },
    {
     "name": "stderr",
     "output_type": "stream",
     "text": [
      "[Parallel(n_jobs=-1)]: Done   1 out of   1 | elapsed:    8.8s remaining:    0.0s\n"
     ]
    },
    {
     "name": "stdout",
     "output_type": "stream",
     "text": [
      "[CV] END ............................... score: (test=-9.617) total time=   8.2s\n",
      "[CV] START .....................................................................\n"
     ]
    },
    {
     "name": "stderr",
     "output_type": "stream",
     "text": [
      "[Parallel(n_jobs=-1)]: Done   2 out of   2 | elapsed:   17.0s remaining:    0.0s\n"
     ]
    },
    {
     "name": "stdout",
     "output_type": "stream",
     "text": [
      "[CV] END .............................. score: (test=-12.084) total time=   8.8s\n",
      "[CV] START .....................................................................\n"
     ]
    },
    {
     "name": "stderr",
     "output_type": "stream",
     "text": [
      "[Parallel(n_jobs=-1)]: Done   3 out of   3 | elapsed:   25.9s remaining:    0.0s\n",
      "[Parallel(n_jobs=-1)]: Done   3 out of   3 | elapsed:   25.9s finished\n",
      "[Parallel(n_jobs=-1)]: Using backend SequentialBackend with 1 concurrent workers.\n"
     ]
    },
    {
     "name": "stdout",
     "output_type": "stream",
     "text": [
      "[CV] END ............................... score: (test=-9.286) total time=   1.3s\n",
      "[CV] START .....................................................................\n"
     ]
    },
    {
     "name": "stderr",
     "output_type": "stream",
     "text": [
      "[Parallel(n_jobs=-1)]: Done   1 out of   1 | elapsed:    1.3s remaining:    0.0s\n"
     ]
    },
    {
     "name": "stdout",
     "output_type": "stream",
     "text": [
      "[CV] END ............................... score: (test=-9.293) total time=   1.4s\n",
      "[CV] START .....................................................................\n"
     ]
    },
    {
     "name": "stderr",
     "output_type": "stream",
     "text": [
      "[Parallel(n_jobs=-1)]: Done   2 out of   2 | elapsed:    2.7s remaining:    0.0s\n"
     ]
    },
    {
     "name": "stdout",
     "output_type": "stream",
     "text": [
      "[CV] END .............................. score: (test=-11.122) total time=   1.3s\n",
      "[CV] START .....................................................................\n"
     ]
    },
    {
     "name": "stderr",
     "output_type": "stream",
     "text": [
      "[Parallel(n_jobs=-1)]: Done   3 out of   3 | elapsed:    4.0s remaining:    0.0s\n",
      "[Parallel(n_jobs=-1)]: Done   3 out of   3 | elapsed:    4.0s finished\n",
      "[Parallel(n_jobs=-1)]: Using backend SequentialBackend with 1 concurrent workers.\n"
     ]
    },
    {
     "name": "stdout",
     "output_type": "stream",
     "text": [
      "[CV] END ............................... score: (test=-9.843) total time=  11.4s\n",
      "[CV] START .....................................................................\n"
     ]
    },
    {
     "name": "stderr",
     "output_type": "stream",
     "text": [
      "[Parallel(n_jobs=-1)]: Done   1 out of   1 | elapsed:   11.4s remaining:    0.0s\n"
     ]
    },
    {
     "name": "stdout",
     "output_type": "stream",
     "text": [
      "[CV] END ............................... score: (test=-9.335) total time=  10.9s\n",
      "[CV] START .....................................................................\n"
     ]
    },
    {
     "name": "stderr",
     "output_type": "stream",
     "text": [
      "[Parallel(n_jobs=-1)]: Done   2 out of   2 | elapsed:   22.3s remaining:    0.0s\n"
     ]
    },
    {
     "name": "stdout",
     "output_type": "stream",
     "text": [
      "[CV] END .............................. score: (test=-12.166) total time=  11.5s\n",
      "[CV] START .....................................................................\n"
     ]
    },
    {
     "name": "stderr",
     "output_type": "stream",
     "text": [
      "[Parallel(n_jobs=-1)]: Done   3 out of   3 | elapsed:   33.9s remaining:    0.0s\n",
      "[Parallel(n_jobs=-1)]: Done   3 out of   3 | elapsed:   33.9s finished\n",
      "[Parallel(n_jobs=-1)]: Using backend SequentialBackend with 1 concurrent workers.\n"
     ]
    },
    {
     "name": "stdout",
     "output_type": "stream",
     "text": [
      "[CV] END ............................... score: (test=-9.281) total time=   1.6s\n",
      "[CV] START .....................................................................\n"
     ]
    },
    {
     "name": "stderr",
     "output_type": "stream",
     "text": [
      "[Parallel(n_jobs=-1)]: Done   1 out of   1 | elapsed:    1.6s remaining:    0.0s\n"
     ]
    },
    {
     "name": "stdout",
     "output_type": "stream",
     "text": [
      "[CV] END ............................... score: (test=-9.317) total time=   1.7s\n",
      "[CV] START .....................................................................\n"
     ]
    },
    {
     "name": "stderr",
     "output_type": "stream",
     "text": [
      "[Parallel(n_jobs=-1)]: Done   2 out of   2 | elapsed:    3.3s remaining:    0.0s\n"
     ]
    },
    {
     "name": "stdout",
     "output_type": "stream",
     "text": [
      "[CV] END .............................. score: (test=-11.117) total time=   1.7s\n",
      "[CV] START .....................................................................\n"
     ]
    },
    {
     "name": "stderr",
     "output_type": "stream",
     "text": [
      "[Parallel(n_jobs=-1)]: Done   3 out of   3 | elapsed:    5.0s remaining:    0.0s\n",
      "[Parallel(n_jobs=-1)]: Done   3 out of   3 | elapsed:    5.0s finished\n",
      "[Parallel(n_jobs=-1)]: Using backend SequentialBackend with 1 concurrent workers.\n"
     ]
    },
    {
     "name": "stdout",
     "output_type": "stream",
     "text": [
      "[CV] END ............................... score: (test=-9.870) total time=  13.7s\n",
      "[CV] START .....................................................................\n"
     ]
    },
    {
     "name": "stderr",
     "output_type": "stream",
     "text": [
      "[Parallel(n_jobs=-1)]: Done   1 out of   1 | elapsed:   13.7s remaining:    0.0s\n"
     ]
    },
    {
     "name": "stdout",
     "output_type": "stream",
     "text": [
      "[CV] END ............................... score: (test=-9.354) total time=  13.9s\n",
      "[CV] START .....................................................................\n"
     ]
    },
    {
     "name": "stderr",
     "output_type": "stream",
     "text": [
      "[Parallel(n_jobs=-1)]: Done   2 out of   2 | elapsed:   27.6s remaining:    0.0s\n"
     ]
    },
    {
     "name": "stdout",
     "output_type": "stream",
     "text": [
      "[CV] END .............................. score: (test=-12.184) total time=  14.1s\n",
      "sMAPE наилучшей модели случайного леса: 9.900516551096478\n",
      "Глубина 1\n",
      "Количество оценщиков 40\n"
     ]
    },
    {
     "name": "stderr",
     "output_type": "stream",
     "text": [
      "[Parallel(n_jobs=-1)]: Done   3 out of   3 | elapsed:   41.7s remaining:    0.0s\n",
      "[Parallel(n_jobs=-1)]: Done   3 out of   3 | elapsed:   41.7s finished\n"
     ]
    }
   ],
   "source": [
    "best_model = None\n",
    "best_result_rfr_finel = 100\n",
    "best_depth = 0\n",
    "best_est = 0\n",
    "for est in range(10, 51, 10):\n",
    "    for depth in range(1, 20, 10):\n",
    "        model_3 = RandomForestRegressor(random_state=12345, n_estimators=est, max_depth=depth)\n",
    "        scorer = make_scorer(smape, greater_is_better=False)\n",
    "        scores=abs(cross_val_score(model_3, features_1, target_2, cv=3,scoring=scorer,n_jobs=-1,verbose=10).mean())\n",
    "        if scores < best_result_rfr_finel:\n",
    "            best_model = model_2\n",
    "            best_result_rfr_finel = scores\n",
    "            best_depth = depth\n",
    "            best_est = est\n",
    "print(\"sMAPE наилучшей модели случайного леса:\", best_result_rfr_finel)\n",
    "print(\"Глубина\", best_depth)\n",
    "print(\"Количество оценщиков\",  best_est)  "
   ]
  },
  {
   "cell_type": "code",
   "execution_count": 83,
   "metadata": {},
   "outputs": [
    {
     "name": "stdout",
     "output_type": "stream",
     "text": [
      "Итоговый sMAPE для случайного леса 9.478087726428665\n"
     ]
    }
   ],
   "source": [
    "#расчитаем итоговый sMAPE для случайного леса\n",
    "final_smape_dtr=smape_fin(best_result_rfr_routher,best_result_rfr_finel)\n",
    "print(\"Итоговый sMAPE для случайного леса\", final_smape_dtr)"
   ]
  },
  {
   "cell_type": "markdown",
   "metadata": {},
   "source": [
    "Построены три модели для целевого признака 'эффективность обогащения финального концентрата' - линейная регрессия, дерево решений и случайный лес. Наилучший результат дала модель(sMAPE 9.4) - случайного леса на глубине 1 и с количеством оценщиков 40"
   ]
  },
  {
   "cell_type": "markdown",
   "metadata": {},
   "source": [
    "Наилучший итоговый sMAPE получился на модели случайного леса 9.4"
   ]
  },
  {
   "cell_type": "markdown",
   "metadata": {},
   "source": [
    "Проверим лучшую модель на тестовой выборке"
   ]
  },
  {
   "cell_type": "markdown",
   "metadata": {},
   "source": [
    "Применим модель случайного леса с наилучшими параметрами глубиной 1 и количеством оценщиков 40"
   ]
  },
  {
   "cell_type": "code",
   "execution_count": 84,
   "metadata": {
    "scrolled": true
   },
   "outputs": [
    {
     "data": {
      "text/html": [
       "<div>\n",
       "<style scoped>\n",
       "    .dataframe tbody tr th:only-of-type {\n",
       "        vertical-align: middle;\n",
       "    }\n",
       "\n",
       "    .dataframe tbody tr th {\n",
       "        vertical-align: top;\n",
       "    }\n",
       "\n",
       "    .dataframe thead th {\n",
       "        text-align: right;\n",
       "    }\n",
       "</style>\n",
       "<table border=\"1\" class=\"dataframe\">\n",
       "  <thead>\n",
       "    <tr style=\"text-align: right;\">\n",
       "      <th></th>\n",
       "      <th>primary_cleaner.input.sulfate</th>\n",
       "      <th>primary_cleaner.input.depressant</th>\n",
       "      <th>primary_cleaner.input.feed_size</th>\n",
       "      <th>primary_cleaner.input.xanthate</th>\n",
       "      <th>primary_cleaner.state.floatbank8_a_air</th>\n",
       "      <th>primary_cleaner.state.floatbank8_a_level</th>\n",
       "      <th>primary_cleaner.state.floatbank8_b_air</th>\n",
       "      <th>primary_cleaner.state.floatbank8_b_level</th>\n",
       "      <th>primary_cleaner.state.floatbank8_c_air</th>\n",
       "      <th>primary_cleaner.state.floatbank8_c_level</th>\n",
       "      <th>...</th>\n",
       "      <th>secondary_cleaner.state.floatbank4_b_air</th>\n",
       "      <th>secondary_cleaner.state.floatbank4_b_level</th>\n",
       "      <th>secondary_cleaner.state.floatbank5_a_air</th>\n",
       "      <th>secondary_cleaner.state.floatbank5_a_level</th>\n",
       "      <th>secondary_cleaner.state.floatbank5_b_air</th>\n",
       "      <th>secondary_cleaner.state.floatbank5_b_level</th>\n",
       "      <th>secondary_cleaner.state.floatbank6_a_air</th>\n",
       "      <th>secondary_cleaner.state.floatbank6_a_level</th>\n",
       "      <th>rougher.output.recovery</th>\n",
       "      <th>final.output.recovery</th>\n",
       "    </tr>\n",
       "  </thead>\n",
       "  <tbody>\n",
       "    <tr>\n",
       "      <th>0</th>\n",
       "      <td>210.800909</td>\n",
       "      <td>14.993118</td>\n",
       "      <td>8.080000</td>\n",
       "      <td>1.005021</td>\n",
       "      <td>1398.981301</td>\n",
       "      <td>-500.225577</td>\n",
       "      <td>1399.144926</td>\n",
       "      <td>-499.919735</td>\n",
       "      <td>1400.102998</td>\n",
       "      <td>-500.704369</td>\n",
       "      <td>...</td>\n",
       "      <td>8.016656</td>\n",
       "      <td>-501.289139</td>\n",
       "      <td>7.946562</td>\n",
       "      <td>-432.317850</td>\n",
       "      <td>4.872511</td>\n",
       "      <td>-500.037437</td>\n",
       "      <td>26.705889</td>\n",
       "      <td>-499.709414</td>\n",
       "      <td>89.993421</td>\n",
       "      <td>70.273583</td>\n",
       "    </tr>\n",
       "    <tr>\n",
       "      <th>1</th>\n",
       "      <td>215.392455</td>\n",
       "      <td>14.987471</td>\n",
       "      <td>8.080000</td>\n",
       "      <td>0.990469</td>\n",
       "      <td>1398.777912</td>\n",
       "      <td>-500.057435</td>\n",
       "      <td>1398.055362</td>\n",
       "      <td>-499.778182</td>\n",
       "      <td>1396.151033</td>\n",
       "      <td>-499.240168</td>\n",
       "      <td>...</td>\n",
       "      <td>8.130979</td>\n",
       "      <td>-499.634209</td>\n",
       "      <td>7.958270</td>\n",
       "      <td>-525.839648</td>\n",
       "      <td>4.878850</td>\n",
       "      <td>-500.162375</td>\n",
       "      <td>25.019940</td>\n",
       "      <td>-499.819438</td>\n",
       "      <td>88.089657</td>\n",
       "      <td>68.910432</td>\n",
       "    </tr>\n",
       "    <tr>\n",
       "      <th>2</th>\n",
       "      <td>215.259946</td>\n",
       "      <td>12.884934</td>\n",
       "      <td>7.786667</td>\n",
       "      <td>0.996043</td>\n",
       "      <td>1398.493666</td>\n",
       "      <td>-500.868360</td>\n",
       "      <td>1398.860436</td>\n",
       "      <td>-499.764529</td>\n",
       "      <td>1398.075709</td>\n",
       "      <td>-502.151509</td>\n",
       "      <td>...</td>\n",
       "      <td>8.096893</td>\n",
       "      <td>-500.827423</td>\n",
       "      <td>8.071056</td>\n",
       "      <td>-500.801673</td>\n",
       "      <td>4.905125</td>\n",
       "      <td>-499.828510</td>\n",
       "      <td>24.994862</td>\n",
       "      <td>-500.622559</td>\n",
       "      <td>88.412756</td>\n",
       "      <td>68.143213</td>\n",
       "    </tr>\n",
       "    <tr>\n",
       "      <th>3</th>\n",
       "      <td>215.336236</td>\n",
       "      <td>12.006805</td>\n",
       "      <td>7.640000</td>\n",
       "      <td>0.863514</td>\n",
       "      <td>1399.618111</td>\n",
       "      <td>-498.863574</td>\n",
       "      <td>1397.440120</td>\n",
       "      <td>-499.211024</td>\n",
       "      <td>1400.129303</td>\n",
       "      <td>-498.355873</td>\n",
       "      <td>...</td>\n",
       "      <td>8.074946</td>\n",
       "      <td>-499.474407</td>\n",
       "      <td>7.897085</td>\n",
       "      <td>-500.868509</td>\n",
       "      <td>4.931400</td>\n",
       "      <td>-499.963623</td>\n",
       "      <td>24.948919</td>\n",
       "      <td>-498.709987</td>\n",
       "      <td>87.360133</td>\n",
       "      <td>67.776393</td>\n",
       "    </tr>\n",
       "    <tr>\n",
       "      <th>4</th>\n",
       "      <td>199.099327</td>\n",
       "      <td>10.682530</td>\n",
       "      <td>7.530000</td>\n",
       "      <td>0.805575</td>\n",
       "      <td>1401.268123</td>\n",
       "      <td>-500.808305</td>\n",
       "      <td>1398.128818</td>\n",
       "      <td>-499.504543</td>\n",
       "      <td>1402.172226</td>\n",
       "      <td>-500.810606</td>\n",
       "      <td>...</td>\n",
       "      <td>8.054678</td>\n",
       "      <td>-500.397500</td>\n",
       "      <td>8.107890</td>\n",
       "      <td>-509.526725</td>\n",
       "      <td>4.957674</td>\n",
       "      <td>-500.360026</td>\n",
       "      <td>25.003331</td>\n",
       "      <td>-500.856333</td>\n",
       "      <td>83.236367</td>\n",
       "      <td>61.467078</td>\n",
       "    </tr>\n",
       "  </tbody>\n",
       "</table>\n",
       "<p>5 rows × 54 columns</p>\n",
       "</div>"
      ],
      "text/plain": [
       "   primary_cleaner.input.sulfate  primary_cleaner.input.depressant  \\\n",
       "0                     210.800909                         14.993118   \n",
       "1                     215.392455                         14.987471   \n",
       "2                     215.259946                         12.884934   \n",
       "3                     215.336236                         12.006805   \n",
       "4                     199.099327                         10.682530   \n",
       "\n",
       "   primary_cleaner.input.feed_size  primary_cleaner.input.xanthate  \\\n",
       "0                         8.080000                        1.005021   \n",
       "1                         8.080000                        0.990469   \n",
       "2                         7.786667                        0.996043   \n",
       "3                         7.640000                        0.863514   \n",
       "4                         7.530000                        0.805575   \n",
       "\n",
       "   primary_cleaner.state.floatbank8_a_air  \\\n",
       "0                             1398.981301   \n",
       "1                             1398.777912   \n",
       "2                             1398.493666   \n",
       "3                             1399.618111   \n",
       "4                             1401.268123   \n",
       "\n",
       "   primary_cleaner.state.floatbank8_a_level  \\\n",
       "0                               -500.225577   \n",
       "1                               -500.057435   \n",
       "2                               -500.868360   \n",
       "3                               -498.863574   \n",
       "4                               -500.808305   \n",
       "\n",
       "   primary_cleaner.state.floatbank8_b_air  \\\n",
       "0                             1399.144926   \n",
       "1                             1398.055362   \n",
       "2                             1398.860436   \n",
       "3                             1397.440120   \n",
       "4                             1398.128818   \n",
       "\n",
       "   primary_cleaner.state.floatbank8_b_level  \\\n",
       "0                               -499.919735   \n",
       "1                               -499.778182   \n",
       "2                               -499.764529   \n",
       "3                               -499.211024   \n",
       "4                               -499.504543   \n",
       "\n",
       "   primary_cleaner.state.floatbank8_c_air  \\\n",
       "0                             1400.102998   \n",
       "1                             1396.151033   \n",
       "2                             1398.075709   \n",
       "3                             1400.129303   \n",
       "4                             1402.172226   \n",
       "\n",
       "   primary_cleaner.state.floatbank8_c_level  ...  \\\n",
       "0                               -500.704369  ...   \n",
       "1                               -499.240168  ...   \n",
       "2                               -502.151509  ...   \n",
       "3                               -498.355873  ...   \n",
       "4                               -500.810606  ...   \n",
       "\n",
       "   secondary_cleaner.state.floatbank4_b_air  \\\n",
       "0                                  8.016656   \n",
       "1                                  8.130979   \n",
       "2                                  8.096893   \n",
       "3                                  8.074946   \n",
       "4                                  8.054678   \n",
       "\n",
       "   secondary_cleaner.state.floatbank4_b_level  \\\n",
       "0                                 -501.289139   \n",
       "1                                 -499.634209   \n",
       "2                                 -500.827423   \n",
       "3                                 -499.474407   \n",
       "4                                 -500.397500   \n",
       "\n",
       "   secondary_cleaner.state.floatbank5_a_air  \\\n",
       "0                                  7.946562   \n",
       "1                                  7.958270   \n",
       "2                                  8.071056   \n",
       "3                                  7.897085   \n",
       "4                                  8.107890   \n",
       "\n",
       "   secondary_cleaner.state.floatbank5_a_level  \\\n",
       "0                                 -432.317850   \n",
       "1                                 -525.839648   \n",
       "2                                 -500.801673   \n",
       "3                                 -500.868509   \n",
       "4                                 -509.526725   \n",
       "\n",
       "   secondary_cleaner.state.floatbank5_b_air  \\\n",
       "0                                  4.872511   \n",
       "1                                  4.878850   \n",
       "2                                  4.905125   \n",
       "3                                  4.931400   \n",
       "4                                  4.957674   \n",
       "\n",
       "   secondary_cleaner.state.floatbank5_b_level  \\\n",
       "0                                 -500.037437   \n",
       "1                                 -500.162375   \n",
       "2                                 -499.828510   \n",
       "3                                 -499.963623   \n",
       "4                                 -500.360026   \n",
       "\n",
       "   secondary_cleaner.state.floatbank6_a_air  \\\n",
       "0                                 26.705889   \n",
       "1                                 25.019940   \n",
       "2                                 24.994862   \n",
       "3                                 24.948919   \n",
       "4                                 25.003331   \n",
       "\n",
       "   secondary_cleaner.state.floatbank6_a_level  rougher.output.recovery  \\\n",
       "0                                 -499.709414                89.993421   \n",
       "1                                 -499.819438                88.089657   \n",
       "2                                 -500.622559                88.412756   \n",
       "3                                 -498.709987                87.360133   \n",
       "4                                 -500.856333                83.236367   \n",
       "\n",
       "   final.output.recovery  \n",
       "0              70.273583  \n",
       "1              68.910432  \n",
       "2              68.143213  \n",
       "3              67.776393  \n",
       "4              61.467078  \n",
       "\n",
       "[5 rows x 54 columns]"
      ]
     },
     "execution_count": 84,
     "metadata": {},
     "output_type": "execute_result"
    }
   ],
   "source": [
    "test_df_with_target.head()"
   ]
  },
  {
   "cell_type": "code",
   "execution_count": 85,
   "metadata": {},
   "outputs": [],
   "source": [
    "#отделим целевой признак 'эффективность обогащения чернового концентрата' в тестововой выборке\n",
    "test_target_rougher=test_df_with_target['rougher.output.recovery']"
   ]
  },
  {
   "cell_type": "code",
   "execution_count": 86,
   "metadata": {},
   "outputs": [],
   "source": [
    "#отделим целевой признак 'эффективность обогащения финального концентрата' в тестововой выборке\n",
    "test_target_finel=test_df_with_target['final.output.recovery']"
   ]
  },
  {
   "cell_type": "code",
   "execution_count": 87,
   "metadata": {},
   "outputs": [
    {
     "data": {
      "text/plain": [
       "0    89.993421\n",
       "1    88.089657\n",
       "2    88.412756\n",
       "3    87.360133\n",
       "4    83.236367\n",
       "Name: rougher.output.recovery, dtype: float64"
      ]
     },
     "execution_count": 87,
     "metadata": {},
     "output_type": "execute_result"
    }
   ],
   "source": [
    "test_target_rougher.head()"
   ]
  },
  {
   "cell_type": "code",
   "execution_count": 88,
   "metadata": {},
   "outputs": [
    {
     "data": {
      "text/plain": [
       "0    70.273583\n",
       "1    68.910432\n",
       "2    68.143213\n",
       "3    67.776393\n",
       "4    61.467078\n",
       "Name: final.output.recovery, dtype: float64"
      ]
     },
     "execution_count": 88,
     "metadata": {},
     "output_type": "execute_result"
    }
   ],
   "source": [
    "test_target_finel.head()"
   ]
  },
  {
   "cell_type": "code",
   "execution_count": 89,
   "metadata": {
    "scrolled": false
   },
   "outputs": [
    {
     "data": {
      "text/html": [
       "<div>\n",
       "<style scoped>\n",
       "    .dataframe tbody tr th:only-of-type {\n",
       "        vertical-align: middle;\n",
       "    }\n",
       "\n",
       "    .dataframe tbody tr th {\n",
       "        vertical-align: top;\n",
       "    }\n",
       "\n",
       "    .dataframe thead th {\n",
       "        text-align: right;\n",
       "    }\n",
       "</style>\n",
       "<table border=\"1\" class=\"dataframe\">\n",
       "  <thead>\n",
       "    <tr style=\"text-align: right;\">\n",
       "      <th></th>\n",
       "      <th>primary_cleaner.input.sulfate</th>\n",
       "      <th>primary_cleaner.input.depressant</th>\n",
       "      <th>primary_cleaner.input.feed_size</th>\n",
       "      <th>primary_cleaner.input.xanthate</th>\n",
       "      <th>primary_cleaner.state.floatbank8_a_air</th>\n",
       "      <th>primary_cleaner.state.floatbank8_a_level</th>\n",
       "      <th>primary_cleaner.state.floatbank8_b_air</th>\n",
       "      <th>primary_cleaner.state.floatbank8_b_level</th>\n",
       "      <th>primary_cleaner.state.floatbank8_c_air</th>\n",
       "      <th>primary_cleaner.state.floatbank8_c_level</th>\n",
       "      <th>...</th>\n",
       "      <th>secondary_cleaner.state.floatbank4_a_air</th>\n",
       "      <th>secondary_cleaner.state.floatbank4_a_level</th>\n",
       "      <th>secondary_cleaner.state.floatbank4_b_air</th>\n",
       "      <th>secondary_cleaner.state.floatbank4_b_level</th>\n",
       "      <th>secondary_cleaner.state.floatbank5_a_air</th>\n",
       "      <th>secondary_cleaner.state.floatbank5_a_level</th>\n",
       "      <th>secondary_cleaner.state.floatbank5_b_air</th>\n",
       "      <th>secondary_cleaner.state.floatbank5_b_level</th>\n",
       "      <th>secondary_cleaner.state.floatbank6_a_air</th>\n",
       "      <th>secondary_cleaner.state.floatbank6_a_level</th>\n",
       "    </tr>\n",
       "  </thead>\n",
       "  <tbody>\n",
       "    <tr>\n",
       "      <th>0</th>\n",
       "      <td>210.800909</td>\n",
       "      <td>14.993118</td>\n",
       "      <td>8.080000</td>\n",
       "      <td>1.005021</td>\n",
       "      <td>1398.981301</td>\n",
       "      <td>-500.225577</td>\n",
       "      <td>1399.144926</td>\n",
       "      <td>-499.919735</td>\n",
       "      <td>1400.102998</td>\n",
       "      <td>-500.704369</td>\n",
       "      <td>...</td>\n",
       "      <td>12.023554</td>\n",
       "      <td>-497.795834</td>\n",
       "      <td>8.016656</td>\n",
       "      <td>-501.289139</td>\n",
       "      <td>7.946562</td>\n",
       "      <td>-432.317850</td>\n",
       "      <td>4.872511</td>\n",
       "      <td>-500.037437</td>\n",
       "      <td>26.705889</td>\n",
       "      <td>-499.709414</td>\n",
       "    </tr>\n",
       "    <tr>\n",
       "      <th>1</th>\n",
       "      <td>215.392455</td>\n",
       "      <td>14.987471</td>\n",
       "      <td>8.080000</td>\n",
       "      <td>0.990469</td>\n",
       "      <td>1398.777912</td>\n",
       "      <td>-500.057435</td>\n",
       "      <td>1398.055362</td>\n",
       "      <td>-499.778182</td>\n",
       "      <td>1396.151033</td>\n",
       "      <td>-499.240168</td>\n",
       "      <td>...</td>\n",
       "      <td>12.058140</td>\n",
       "      <td>-498.695773</td>\n",
       "      <td>8.130979</td>\n",
       "      <td>-499.634209</td>\n",
       "      <td>7.958270</td>\n",
       "      <td>-525.839648</td>\n",
       "      <td>4.878850</td>\n",
       "      <td>-500.162375</td>\n",
       "      <td>25.019940</td>\n",
       "      <td>-499.819438</td>\n",
       "    </tr>\n",
       "    <tr>\n",
       "      <th>2</th>\n",
       "      <td>215.259946</td>\n",
       "      <td>12.884934</td>\n",
       "      <td>7.786667</td>\n",
       "      <td>0.996043</td>\n",
       "      <td>1398.493666</td>\n",
       "      <td>-500.868360</td>\n",
       "      <td>1398.860436</td>\n",
       "      <td>-499.764529</td>\n",
       "      <td>1398.075709</td>\n",
       "      <td>-502.151509</td>\n",
       "      <td>...</td>\n",
       "      <td>11.962366</td>\n",
       "      <td>-498.767484</td>\n",
       "      <td>8.096893</td>\n",
       "      <td>-500.827423</td>\n",
       "      <td>8.071056</td>\n",
       "      <td>-500.801673</td>\n",
       "      <td>4.905125</td>\n",
       "      <td>-499.828510</td>\n",
       "      <td>24.994862</td>\n",
       "      <td>-500.622559</td>\n",
       "    </tr>\n",
       "    <tr>\n",
       "      <th>3</th>\n",
       "      <td>215.336236</td>\n",
       "      <td>12.006805</td>\n",
       "      <td>7.640000</td>\n",
       "      <td>0.863514</td>\n",
       "      <td>1399.618111</td>\n",
       "      <td>-498.863574</td>\n",
       "      <td>1397.440120</td>\n",
       "      <td>-499.211024</td>\n",
       "      <td>1400.129303</td>\n",
       "      <td>-498.355873</td>\n",
       "      <td>...</td>\n",
       "      <td>12.033091</td>\n",
       "      <td>-498.350935</td>\n",
       "      <td>8.074946</td>\n",
       "      <td>-499.474407</td>\n",
       "      <td>7.897085</td>\n",
       "      <td>-500.868509</td>\n",
       "      <td>4.931400</td>\n",
       "      <td>-499.963623</td>\n",
       "      <td>24.948919</td>\n",
       "      <td>-498.709987</td>\n",
       "    </tr>\n",
       "    <tr>\n",
       "      <th>4</th>\n",
       "      <td>199.099327</td>\n",
       "      <td>10.682530</td>\n",
       "      <td>7.530000</td>\n",
       "      <td>0.805575</td>\n",
       "      <td>1401.268123</td>\n",
       "      <td>-500.808305</td>\n",
       "      <td>1398.128818</td>\n",
       "      <td>-499.504543</td>\n",
       "      <td>1402.172226</td>\n",
       "      <td>-500.810606</td>\n",
       "      <td>...</td>\n",
       "      <td>12.025367</td>\n",
       "      <td>-500.786497</td>\n",
       "      <td>8.054678</td>\n",
       "      <td>-500.397500</td>\n",
       "      <td>8.107890</td>\n",
       "      <td>-509.526725</td>\n",
       "      <td>4.957674</td>\n",
       "      <td>-500.360026</td>\n",
       "      <td>25.003331</td>\n",
       "      <td>-500.856333</td>\n",
       "    </tr>\n",
       "  </tbody>\n",
       "</table>\n",
       "<p>5 rows × 52 columns</p>\n",
       "</div>"
      ],
      "text/plain": [
       "   primary_cleaner.input.sulfate  primary_cleaner.input.depressant  \\\n",
       "0                     210.800909                         14.993118   \n",
       "1                     215.392455                         14.987471   \n",
       "2                     215.259946                         12.884934   \n",
       "3                     215.336236                         12.006805   \n",
       "4                     199.099327                         10.682530   \n",
       "\n",
       "   primary_cleaner.input.feed_size  primary_cleaner.input.xanthate  \\\n",
       "0                         8.080000                        1.005021   \n",
       "1                         8.080000                        0.990469   \n",
       "2                         7.786667                        0.996043   \n",
       "3                         7.640000                        0.863514   \n",
       "4                         7.530000                        0.805575   \n",
       "\n",
       "   primary_cleaner.state.floatbank8_a_air  \\\n",
       "0                             1398.981301   \n",
       "1                             1398.777912   \n",
       "2                             1398.493666   \n",
       "3                             1399.618111   \n",
       "4                             1401.268123   \n",
       "\n",
       "   primary_cleaner.state.floatbank8_a_level  \\\n",
       "0                               -500.225577   \n",
       "1                               -500.057435   \n",
       "2                               -500.868360   \n",
       "3                               -498.863574   \n",
       "4                               -500.808305   \n",
       "\n",
       "   primary_cleaner.state.floatbank8_b_air  \\\n",
       "0                             1399.144926   \n",
       "1                             1398.055362   \n",
       "2                             1398.860436   \n",
       "3                             1397.440120   \n",
       "4                             1398.128818   \n",
       "\n",
       "   primary_cleaner.state.floatbank8_b_level  \\\n",
       "0                               -499.919735   \n",
       "1                               -499.778182   \n",
       "2                               -499.764529   \n",
       "3                               -499.211024   \n",
       "4                               -499.504543   \n",
       "\n",
       "   primary_cleaner.state.floatbank8_c_air  \\\n",
       "0                             1400.102998   \n",
       "1                             1396.151033   \n",
       "2                             1398.075709   \n",
       "3                             1400.129303   \n",
       "4                             1402.172226   \n",
       "\n",
       "   primary_cleaner.state.floatbank8_c_level  ...  \\\n",
       "0                               -500.704369  ...   \n",
       "1                               -499.240168  ...   \n",
       "2                               -502.151509  ...   \n",
       "3                               -498.355873  ...   \n",
       "4                               -500.810606  ...   \n",
       "\n",
       "   secondary_cleaner.state.floatbank4_a_air  \\\n",
       "0                                 12.023554   \n",
       "1                                 12.058140   \n",
       "2                                 11.962366   \n",
       "3                                 12.033091   \n",
       "4                                 12.025367   \n",
       "\n",
       "   secondary_cleaner.state.floatbank4_a_level  \\\n",
       "0                                 -497.795834   \n",
       "1                                 -498.695773   \n",
       "2                                 -498.767484   \n",
       "3                                 -498.350935   \n",
       "4                                 -500.786497   \n",
       "\n",
       "   secondary_cleaner.state.floatbank4_b_air  \\\n",
       "0                                  8.016656   \n",
       "1                                  8.130979   \n",
       "2                                  8.096893   \n",
       "3                                  8.074946   \n",
       "4                                  8.054678   \n",
       "\n",
       "   secondary_cleaner.state.floatbank4_b_level  \\\n",
       "0                                 -501.289139   \n",
       "1                                 -499.634209   \n",
       "2                                 -500.827423   \n",
       "3                                 -499.474407   \n",
       "4                                 -500.397500   \n",
       "\n",
       "   secondary_cleaner.state.floatbank5_a_air  \\\n",
       "0                                  7.946562   \n",
       "1                                  7.958270   \n",
       "2                                  8.071056   \n",
       "3                                  7.897085   \n",
       "4                                  8.107890   \n",
       "\n",
       "   secondary_cleaner.state.floatbank5_a_level  \\\n",
       "0                                 -432.317850   \n",
       "1                                 -525.839648   \n",
       "2                                 -500.801673   \n",
       "3                                 -500.868509   \n",
       "4                                 -509.526725   \n",
       "\n",
       "   secondary_cleaner.state.floatbank5_b_air  \\\n",
       "0                                  4.872511   \n",
       "1                                  4.878850   \n",
       "2                                  4.905125   \n",
       "3                                  4.931400   \n",
       "4                                  4.957674   \n",
       "\n",
       "   secondary_cleaner.state.floatbank5_b_level  \\\n",
       "0                                 -500.037437   \n",
       "1                                 -500.162375   \n",
       "2                                 -499.828510   \n",
       "3                                 -499.963623   \n",
       "4                                 -500.360026   \n",
       "\n",
       "   secondary_cleaner.state.floatbank6_a_air  \\\n",
       "0                                 26.705889   \n",
       "1                                 25.019940   \n",
       "2                                 24.994862   \n",
       "3                                 24.948919   \n",
       "4                                 25.003331   \n",
       "\n",
       "   secondary_cleaner.state.floatbank6_a_level  \n",
       "0                                 -499.709414  \n",
       "1                                 -499.819438  \n",
       "2                                 -500.622559  \n",
       "3                                 -498.709987  \n",
       "4                                 -500.856333  \n",
       "\n",
       "[5 rows x 52 columns]"
      ]
     },
     "execution_count": 89,
     "metadata": {},
     "output_type": "execute_result"
    }
   ],
   "source": [
    "test_df.head()"
   ]
  },
  {
   "cell_type": "code",
   "execution_count": 90,
   "metadata": {},
   "outputs": [
    {
     "name": "stdout",
     "output_type": "stream",
     "text": [
      "sMAPE наилучшей модели случайного леса на тестовой выборке для целевого признака 'эффективность обогащения чернового концентрата': 8.753607138728634\n"
     ]
    }
   ],
   "source": [
    "model_test_1 = RandomForestRegressor(random_state=12345, n_estimators=40, max_depth=1)\n",
    "model_test_1.fit(features_1, target_1)\n",
    "predictions_test_rougher = model_test_1.predict(test_df)\n",
    "smape_routher_test=smape(test_target_rougher,predictions_test_rougher)\n",
    "print(\"sMAPE наилучшей модели случайного леса на тестовой выборке для целевого признака 'эффективность обогащения чернового концентрата':\",smape_routher_test)"
   ]
  },
  {
   "cell_type": "code",
   "execution_count": 97,
   "metadata": {},
   "outputs": [
    {
     "name": "stdout",
     "output_type": "stream",
     "text": [
      "sMAPE наилучшей модели случайного леса на тестовой выборке для целевого признака 'эффективность обогащения чернового концентрата': 9.490572179987701\n"
     ]
    }
   ],
   "source": [
    "model_test_1 = RandomForestRegressor(random_state=12345, n_estimators=50, max_depth=11)\n",
    "model_test_1.fit(features_1, target_2)\n",
    "predictions_test_finel = model_test_1.predict(test_df)\n",
    "smape_finel_test=smape(test_target_finel,predictions_test_finel)\n",
    "print(\"sMAPE наилучшей модели случайного леса на тестовой выборке для целевого признака 'эффективность обогащения чернового концентрата':\",smape_finel_test)"
   ]
  },
  {
   "cell_type": "markdown",
   "metadata": {},
   "source": [
    "Расчитаем итоговый sMAPE"
   ]
  },
  {
   "cell_type": "code",
   "execution_count": 98,
   "metadata": {},
   "outputs": [
    {
     "name": "stdout",
     "output_type": "stream",
     "text": [
      "Итоговый sMAPE  9.306330919672934\n"
     ]
    }
   ],
   "source": [
    "final_smape_test=smape_fin(smape_routher_test,smape_finel_test)\n",
    "print(\"Итоговый sMAPE \", final_smape_test)"
   ]
  },
  {
   "cell_type": "markdown",
   "metadata": {},
   "source": [
    "Проверим модель на вменяемость"
   ]
  },
  {
   "cell_type": "code",
   "execution_count": 99,
   "metadata": {},
   "outputs": [
    {
     "name": "stdout",
     "output_type": "stream",
     "text": [
      "sMAPE модели дамми для целевого признака эффективность обогащения чернового концентрата: 9.059632645438473\n"
     ]
    }
   ],
   "source": [
    "#проверим модель для целевого признака 'эффективность обогащения чернового концентрата'\n",
    "dummy_model_rougher = DummyRegressor(strategy='mean', constant=1)\n",
    "dummy_model_rougher.fit(features_1, target_1)\n",
    "predictions_dummy_rougher = dummy_model_rougher.predict(test_df)\n",
    "smape_dummy_rougher=smape(test_target_rougher,predictions_dummy_rougher)\n",
    "print('sMAPE модели дамми для целевого признака эффективность обогащения чернового концентрата:', smape_dummy_rougher)"
   ]
  },
  {
   "cell_type": "code",
   "execution_count": 100,
   "metadata": {},
   "outputs": [
    {
     "name": "stdout",
     "output_type": "stream",
     "text": [
      "sMAPE модели дамми: 10.089689297803316\n"
     ]
    }
   ],
   "source": [
    "#проверим модель для целевого признака 'эффективность обогащения финального концентрата'\n",
    "dummy_model_finel = DummyRegressor(strategy='mean', constant=1)\n",
    "dummy_model_finel.fit(features_1, target_2)\n",
    "predictions_dummy_finel = dummy_model_finel.predict(test_df)\n",
    "smape_dummy_finel=smape(test_target_finel,predictions_dummy_finel)\n",
    "print('sMAPE модели дамми:', smape_dummy_finel)"
   ]
  },
  {
   "cell_type": "code",
   "execution_count": 101,
   "metadata": {
    "scrolled": true
   },
   "outputs": [
    {
     "name": "stdout",
     "output_type": "stream",
     "text": [
      "Итоговый sMAPE для дамми  9.832175134712106\n"
     ]
    }
   ],
   "source": [
    "#рассчитаем итоговый sMAPE\n",
    "final_smape_dum=smape_fin(smape_dummy_rougher,smape_dummy_finel)\n",
    "print(\"Итоговый sMAPE для дамми \", final_smape_dum)"
   ]
  },
  {
   "cell_type": "markdown",
   "metadata": {},
   "source": [
    "Вывод\n",
    "\n",
    "Создана функция sMAPE\n",
    "\n",
    "Обучены данные на моделях линейной регрессии и дерева решений.\n",
    "\n",
    "Модель дерева решений показала наилучший результат, поэтому именно на ней обучена тестовая модель.\n",
    "\n",
    "Результат итогового sMAPE 9.3\n",
    "\n",
    "Модель проверена на вменяемость, результат 9.8, то есть наш результат близкий к вменяемому."
   ]
  },
  {
   "cell_type": "markdown",
   "metadata": {},
   "source": [
    "Общий вывод\n",
    "\n",
    "Данные находятся в трёх файлах:\n",
    "\n",
    "gold_recovery_train_new.csv — обучающая выборка;\n",
    "\n",
    "gold_recovery_test_new.csv — тестовая выборка;\n",
    "\n",
    "gold_recovery_full_new.csv — исходные данные.\n",
    "\n",
    "Расчитан MAE. Среднее абсолютное отклонение равно 9.7e-15, в целом погрешность очень маленькая и считать можно расчеты верными.\n",
    "\n",
    "Проведен анализ недостающих столбцов в тестовой выборке. Пропущенные столбцы в тестовой выборке являются параметрами продукта('output') и расчетными характеристиками ('сalculation').\n",
    "\n",
    "Удален столбец data, так как далее нам понадобяться числовые данные\n",
    "\n",
    "Форматы данных корректные.\n",
    "\n",
    "Пропуски в данных заменены соседними значениями с помощью KNNImputer.\n",
    "\n",
    "Явных дубликатов не имеется.\n",
    "\n",
    "Мы посмотрели на графиках как меняется концентрация металлов (Au, Ag, Pb) на различных этапах очистки. Концентрация золота увеличивается с каждым этапом очистки. \n",
    "\n",
    "Концентрация серебра увеличивается до этапа флотации продукта, а далее снижается. Концентрация серебра увеличивается до этапа первичной очистки продукта, а далее снижается.\n",
    "\n",
    "Сравнили распределения по диаграммам рахмаха размеры гранул сырья на обучающей и тестовой выборках. Они похожи и не отличаются друг от друга (имеют схожую медиану и аномальные выбросы на одинаковой удаленности). Это значит, что оценка модели в дальнейшем будет правильной.\n",
    "\n",
    "Исследовали суммарную концентрацию всех веществ на разных стадиях: в сырье, в черновом и финальном концентратах. Обнаружили аномалии и удалили их.\n",
    "\n",
    "Создана функция sMAPE\n",
    "\n",
    "Обучены данные на моделях линейной регрессии,дерева решений и модели случайного леса\n",
    "\n",
    "Модель случайного леса показала наилучший результат, поэтому именно на ней обучена тестовая модель.\n",
    "\n",
    "Результат итогового sMAPE 9.3\n",
    "\n",
    "Модель проверена на вменяемость, результат 9.8, то есть наш результат(9.3) близкий к вменяемому."
   ]
  }
 ],
 "metadata": {
  "ExecuteTimeLog": [
   {
    "duration": 53,
    "start_time": "2023-03-27T09:24:45.416Z"
   },
   {
    "duration": 1115,
    "start_time": "2023-03-27T09:24:51.498Z"
   },
   {
    "duration": 3121,
    "start_time": "2023-03-27T09:24:52.615Z"
   },
   {
    "duration": 104,
    "start_time": "2023-03-27T09:24:55.737Z"
   },
   {
    "duration": 1109,
    "start_time": "2023-03-27T09:32:48.613Z"
   },
   {
    "duration": 698,
    "start_time": "2023-03-27T09:32:49.723Z"
   },
   {
    "duration": 27,
    "start_time": "2023-03-27T09:32:50.423Z"
   },
   {
    "duration": 31,
    "start_time": "2023-03-27T09:32:50.452Z"
   },
   {
    "duration": 20,
    "start_time": "2023-03-27T09:32:50.484Z"
   },
   {
    "duration": 18,
    "start_time": "2023-03-27T09:32:50.506Z"
   },
   {
    "duration": 39,
    "start_time": "2023-03-27T09:32:50.526Z"
   },
   {
    "duration": 17,
    "start_time": "2023-03-27T09:32:50.567Z"
   },
   {
    "duration": 143,
    "start_time": "2023-03-27T09:32:50.586Z"
   },
   {
    "duration": 21,
    "start_time": "2023-03-27T09:32:50.731Z"
   },
   {
    "duration": 119,
    "start_time": "2023-03-27T09:32:50.763Z"
   },
   {
    "duration": 8,
    "start_time": "2023-03-27T09:32:50.883Z"
   },
   {
    "duration": 9,
    "start_time": "2023-03-27T09:32:50.893Z"
   },
   {
    "duration": 11,
    "start_time": "2023-03-27T09:32:50.903Z"
   },
   {
    "duration": 10,
    "start_time": "2023-03-27T09:32:50.916Z"
   },
   {
    "duration": 119,
    "start_time": "2023-03-27T09:32:50.928Z"
   },
   {
    "duration": 1218,
    "start_time": "2023-03-27T09:56:11.641Z"
   },
   {
    "duration": 866,
    "start_time": "2023-03-27T09:56:12.861Z"
   },
   {
    "duration": 39,
    "start_time": "2023-03-27T09:56:13.731Z"
   },
   {
    "duration": 26,
    "start_time": "2023-03-27T09:56:13.772Z"
   },
   {
    "duration": 30,
    "start_time": "2023-03-27T09:56:13.801Z"
   },
   {
    "duration": 28,
    "start_time": "2023-03-27T09:56:13.863Z"
   },
   {
    "duration": 17,
    "start_time": "2023-03-27T09:56:13.892Z"
   },
   {
    "duration": 20,
    "start_time": "2023-03-27T09:56:13.911Z"
   },
   {
    "duration": 187,
    "start_time": "2023-03-27T09:56:13.962Z"
   },
   {
    "duration": 31,
    "start_time": "2023-03-27T09:56:14.151Z"
   },
   {
    "duration": 153,
    "start_time": "2023-03-27T09:56:14.185Z"
   },
   {
    "duration": 12,
    "start_time": "2023-03-27T09:56:14.341Z"
   },
   {
    "duration": 17,
    "start_time": "2023-03-27T09:56:14.355Z"
   },
   {
    "duration": 18,
    "start_time": "2023-03-27T09:56:14.376Z"
   },
   {
    "duration": 103,
    "start_time": "2023-03-27T09:56:14.397Z"
   },
   {
    "duration": 0,
    "start_time": "2023-03-27T09:56:14.502Z"
   },
   {
    "duration": 13,
    "start_time": "2023-03-27T09:56:40.309Z"
   },
   {
    "duration": 6,
    "start_time": "2023-03-27T09:56:40.445Z"
   },
   {
    "duration": 16,
    "start_time": "2023-03-27T09:57:17.299Z"
   },
   {
    "duration": 12,
    "start_time": "2023-03-27T09:57:31.404Z"
   },
   {
    "duration": 5,
    "start_time": "2023-03-27T09:59:08.657Z"
   },
   {
    "duration": 16,
    "start_time": "2023-03-27T09:59:08.665Z"
   },
   {
    "duration": 4,
    "start_time": "2023-03-27T09:59:09.605Z"
   },
   {
    "duration": 3,
    "start_time": "2023-03-27T10:00:49.305Z"
   },
   {
    "duration": 5,
    "start_time": "2023-03-27T10:00:49.445Z"
   },
   {
    "duration": 1106,
    "start_time": "2023-03-27T11:56:48.209Z"
   },
   {
    "duration": 2128,
    "start_time": "2023-03-27T11:56:49.317Z"
   },
   {
    "duration": 25,
    "start_time": "2023-03-27T11:56:51.446Z"
   },
   {
    "duration": 17,
    "start_time": "2023-03-27T11:56:51.473Z"
   },
   {
    "duration": 23,
    "start_time": "2023-03-27T11:56:51.491Z"
   },
   {
    "duration": 25,
    "start_time": "2023-03-27T11:56:51.516Z"
   },
   {
    "duration": 13,
    "start_time": "2023-03-27T11:56:51.542Z"
   },
   {
    "duration": 18,
    "start_time": "2023-03-27T11:56:51.556Z"
   },
   {
    "duration": 144,
    "start_time": "2023-03-27T11:56:51.575Z"
   },
   {
    "duration": 29,
    "start_time": "2023-03-27T11:56:51.721Z"
   },
   {
    "duration": 101,
    "start_time": "2023-03-27T11:56:51.751Z"
   },
   {
    "duration": 8,
    "start_time": "2023-03-27T11:56:51.853Z"
   },
   {
    "duration": 15,
    "start_time": "2023-03-27T11:56:51.862Z"
   },
   {
    "duration": 9,
    "start_time": "2023-03-27T11:56:51.878Z"
   },
   {
    "duration": 9,
    "start_time": "2023-03-27T11:56:51.889Z"
   },
   {
    "duration": 8,
    "start_time": "2023-03-27T11:56:51.899Z"
   },
   {
    "duration": 32,
    "start_time": "2023-03-27T11:56:51.909Z"
   },
   {
    "duration": 7,
    "start_time": "2023-03-27T11:56:51.944Z"
   },
   {
    "duration": 3,
    "start_time": "2023-03-27T11:56:51.953Z"
   },
   {
    "duration": 4,
    "start_time": "2023-03-27T11:56:51.958Z"
   },
   {
    "duration": 6,
    "start_time": "2023-03-27T11:56:51.963Z"
   },
   {
    "duration": 4,
    "start_time": "2023-03-27T11:56:51.970Z"
   },
   {
    "duration": 5,
    "start_time": "2023-03-27T11:56:51.975Z"
   },
   {
    "duration": 137,
    "start_time": "2023-03-27T11:56:51.981Z"
   },
   {
    "duration": 8,
    "start_time": "2023-03-27T11:57:45.185Z"
   },
   {
    "duration": 1102,
    "start_time": "2023-03-27T11:58:35.860Z"
   },
   {
    "duration": 642,
    "start_time": "2023-03-27T11:58:36.964Z"
   },
   {
    "duration": 23,
    "start_time": "2023-03-27T11:58:37.608Z"
   },
   {
    "duration": 22,
    "start_time": "2023-03-27T11:58:37.633Z"
   },
   {
    "duration": 16,
    "start_time": "2023-03-27T11:58:37.658Z"
   },
   {
    "duration": 20,
    "start_time": "2023-03-27T11:58:37.675Z"
   },
   {
    "duration": 12,
    "start_time": "2023-03-27T11:58:37.697Z"
   },
   {
    "duration": 35,
    "start_time": "2023-03-27T11:58:37.710Z"
   },
   {
    "duration": 132,
    "start_time": "2023-03-27T11:58:37.746Z"
   },
   {
    "duration": 20,
    "start_time": "2023-03-27T11:58:37.880Z"
   },
   {
    "duration": 104,
    "start_time": "2023-03-27T11:58:37.902Z"
   },
   {
    "duration": 7,
    "start_time": "2023-03-27T11:58:38.008Z"
   },
   {
    "duration": 5,
    "start_time": "2023-03-27T11:58:38.016Z"
   },
   {
    "duration": 14,
    "start_time": "2023-03-27T11:58:38.039Z"
   },
   {
    "duration": 9,
    "start_time": "2023-03-27T11:58:38.055Z"
   },
   {
    "duration": 3,
    "start_time": "2023-03-27T11:58:38.066Z"
   },
   {
    "duration": 8,
    "start_time": "2023-03-27T11:58:38.071Z"
   },
   {
    "duration": 6,
    "start_time": "2023-03-27T11:58:38.080Z"
   },
   {
    "duration": 3,
    "start_time": "2023-03-27T11:58:38.087Z"
   },
   {
    "duration": 13,
    "start_time": "2023-03-27T11:58:38.092Z"
   },
   {
    "duration": 5,
    "start_time": "2023-03-27T11:58:38.106Z"
   },
   {
    "duration": 28,
    "start_time": "2023-03-27T11:58:38.112Z"
   },
   {
    "duration": 4,
    "start_time": "2023-03-27T11:58:38.142Z"
   },
   {
    "duration": 9,
    "start_time": "2023-03-27T11:58:38.148Z"
   },
   {
    "duration": 43,
    "start_time": "2023-03-27T19:04:45.567Z"
   },
   {
    "duration": 6,
    "start_time": "2023-03-27T19:04:45.677Z"
   },
   {
    "duration": 1166,
    "start_time": "2023-03-27T19:04:51.263Z"
   },
   {
    "duration": 3991,
    "start_time": "2023-03-27T19:04:52.431Z"
   },
   {
    "duration": 39,
    "start_time": "2023-03-27T19:04:56.424Z"
   },
   {
    "duration": 39,
    "start_time": "2023-03-27T19:04:56.464Z"
   },
   {
    "duration": 25,
    "start_time": "2023-03-27T19:04:56.505Z"
   },
   {
    "duration": 55,
    "start_time": "2023-03-27T19:04:56.532Z"
   },
   {
    "duration": 15,
    "start_time": "2023-03-27T19:04:56.589Z"
   },
   {
    "duration": 17,
    "start_time": "2023-03-27T19:04:56.606Z"
   },
   {
    "duration": 140,
    "start_time": "2023-03-27T19:04:56.624Z"
   },
   {
    "duration": 22,
    "start_time": "2023-03-27T19:04:56.767Z"
   },
   {
    "duration": 110,
    "start_time": "2023-03-27T19:04:56.790Z"
   },
   {
    "duration": 8,
    "start_time": "2023-03-27T19:04:56.902Z"
   },
   {
    "duration": 7,
    "start_time": "2023-03-27T19:04:56.912Z"
   },
   {
    "duration": 20,
    "start_time": "2023-03-27T19:04:56.942Z"
   },
   {
    "duration": 57,
    "start_time": "2023-03-27T19:04:56.964Z"
   },
   {
    "duration": 24,
    "start_time": "2023-03-27T19:04:57.023Z"
   },
   {
    "duration": 36,
    "start_time": "2023-03-27T19:04:57.049Z"
   },
   {
    "duration": 9,
    "start_time": "2023-03-27T19:04:57.087Z"
   },
   {
    "duration": 9,
    "start_time": "2023-03-27T19:04:57.098Z"
   },
   {
    "duration": 8,
    "start_time": "2023-03-27T19:04:57.108Z"
   },
   {
    "duration": 11,
    "start_time": "2023-03-27T19:04:57.118Z"
   },
   {
    "duration": 41,
    "start_time": "2023-03-27T19:04:57.130Z"
   },
   {
    "duration": 14,
    "start_time": "2023-03-27T19:04:57.172Z"
   },
   {
    "duration": 18,
    "start_time": "2023-03-27T19:04:57.188Z"
   },
   {
    "duration": 1670,
    "start_time": "2023-03-27T19:04:57.208Z"
   },
   {
    "duration": 0,
    "start_time": "2023-03-27T19:04:58.880Z"
   },
   {
    "duration": 0,
    "start_time": "2023-03-27T19:04:58.881Z"
   },
   {
    "duration": 14,
    "start_time": "2023-03-27T19:05:43.044Z"
   },
   {
    "duration": 4,
    "start_time": "2023-03-27T19:06:01.918Z"
   },
   {
    "duration": 1443,
    "start_time": "2023-03-27T19:06:07.681Z"
   },
   {
    "duration": 3,
    "start_time": "2023-03-27T19:06:26.163Z"
   },
   {
    "duration": 10,
    "start_time": "2023-03-27T19:06:27.745Z"
   },
   {
    "duration": 1189,
    "start_time": "2023-03-27T19:06:34.434Z"
   },
   {
    "duration": 745,
    "start_time": "2023-03-27T19:06:35.625Z"
   },
   {
    "duration": 28,
    "start_time": "2023-03-27T19:06:36.372Z"
   },
   {
    "duration": 41,
    "start_time": "2023-03-27T19:06:36.402Z"
   },
   {
    "duration": 39,
    "start_time": "2023-03-27T19:06:36.445Z"
   },
   {
    "duration": 32,
    "start_time": "2023-03-27T19:06:36.486Z"
   },
   {
    "duration": 18,
    "start_time": "2023-03-27T19:06:36.520Z"
   },
   {
    "duration": 19,
    "start_time": "2023-03-27T19:06:36.540Z"
   },
   {
    "duration": 127,
    "start_time": "2023-03-27T19:06:36.561Z"
   },
   {
    "duration": 19,
    "start_time": "2023-03-27T19:06:36.690Z"
   },
   {
    "duration": 139,
    "start_time": "2023-03-27T19:06:36.710Z"
   },
   {
    "duration": 8,
    "start_time": "2023-03-27T19:06:36.851Z"
   },
   {
    "duration": 14,
    "start_time": "2023-03-27T19:06:36.861Z"
   },
   {
    "duration": 15,
    "start_time": "2023-03-27T19:06:36.878Z"
   },
   {
    "duration": 11,
    "start_time": "2023-03-27T19:06:36.895Z"
   },
   {
    "duration": 4,
    "start_time": "2023-03-27T19:06:36.907Z"
   },
   {
    "duration": 15,
    "start_time": "2023-03-27T19:06:36.913Z"
   },
   {
    "duration": 16,
    "start_time": "2023-03-27T19:06:36.934Z"
   },
   {
    "duration": 10,
    "start_time": "2023-03-27T19:06:36.951Z"
   },
   {
    "duration": 13,
    "start_time": "2023-03-27T19:06:36.963Z"
   },
   {
    "duration": 9,
    "start_time": "2023-03-27T19:06:36.977Z"
   },
   {
    "duration": 6,
    "start_time": "2023-03-27T19:06:36.987Z"
   },
   {
    "duration": 9,
    "start_time": "2023-03-27T19:06:36.995Z"
   },
   {
    "duration": 9,
    "start_time": "2023-03-27T19:06:37.006Z"
   },
   {
    "duration": 9,
    "start_time": "2023-03-27T19:06:37.017Z"
   },
   {
    "duration": 101,
    "start_time": "2023-03-27T19:06:37.027Z"
   },
   {
    "duration": 0,
    "start_time": "2023-03-27T19:06:37.130Z"
   },
   {
    "duration": 17,
    "start_time": "2023-03-27T19:06:49.827Z"
   },
   {
    "duration": 12,
    "start_time": "2023-03-27T19:07:02.429Z"
   },
   {
    "duration": 5,
    "start_time": "2023-03-27T19:07:33.392Z"
   },
   {
    "duration": 3,
    "start_time": "2023-03-27T19:07:54.555Z"
   },
   {
    "duration": 9,
    "start_time": "2023-03-27T19:07:54.690Z"
   },
   {
    "duration": 11,
    "start_time": "2023-03-27T19:08:09.263Z"
   },
   {
    "duration": 12,
    "start_time": "2023-03-27T19:09:29.094Z"
   },
   {
    "duration": 5,
    "start_time": "2023-03-27T19:10:32.301Z"
   },
   {
    "duration": 4,
    "start_time": "2023-03-27T19:10:32.405Z"
   },
   {
    "duration": 11,
    "start_time": "2023-03-27T19:10:56.436Z"
   },
   {
    "duration": 1162,
    "start_time": "2023-03-27T19:13:07.917Z"
   },
   {
    "duration": 769,
    "start_time": "2023-03-27T19:13:09.081Z"
   },
   {
    "duration": 27,
    "start_time": "2023-03-27T19:13:09.852Z"
   },
   {
    "duration": 22,
    "start_time": "2023-03-27T19:13:09.880Z"
   },
   {
    "duration": 37,
    "start_time": "2023-03-27T19:13:09.904Z"
   },
   {
    "duration": 24,
    "start_time": "2023-03-27T19:13:09.946Z"
   },
   {
    "duration": 13,
    "start_time": "2023-03-27T19:13:09.971Z"
   },
   {
    "duration": 16,
    "start_time": "2023-03-27T19:13:09.986Z"
   },
   {
    "duration": 151,
    "start_time": "2023-03-27T19:13:10.003Z"
   },
   {
    "duration": 21,
    "start_time": "2023-03-27T19:13:10.156Z"
   },
   {
    "duration": 120,
    "start_time": "2023-03-27T19:13:10.179Z"
   },
   {
    "duration": 9,
    "start_time": "2023-03-27T19:13:10.300Z"
   },
   {
    "duration": 34,
    "start_time": "2023-03-27T19:13:10.310Z"
   },
   {
    "duration": 11,
    "start_time": "2023-03-27T19:13:10.347Z"
   },
   {
    "duration": 13,
    "start_time": "2023-03-27T19:13:10.359Z"
   },
   {
    "duration": 5,
    "start_time": "2023-03-27T19:13:10.373Z"
   },
   {
    "duration": 12,
    "start_time": "2023-03-27T19:13:10.379Z"
   },
   {
    "duration": 8,
    "start_time": "2023-03-27T19:13:10.392Z"
   },
   {
    "duration": 6,
    "start_time": "2023-03-27T19:13:10.402Z"
   },
   {
    "duration": 22,
    "start_time": "2023-03-27T19:13:10.435Z"
   },
   {
    "duration": 9,
    "start_time": "2023-03-27T19:13:10.459Z"
   },
   {
    "duration": 16,
    "start_time": "2023-03-27T19:13:10.469Z"
   },
   {
    "duration": 13,
    "start_time": "2023-03-27T19:13:10.487Z"
   },
   {
    "duration": 23,
    "start_time": "2023-03-27T19:13:10.502Z"
   },
   {
    "duration": 24,
    "start_time": "2023-03-27T19:13:10.527Z"
   },
   {
    "duration": 12,
    "start_time": "2023-03-27T19:13:10.553Z"
   },
   {
    "duration": 36,
    "start_time": "2023-03-27T19:13:10.566Z"
   },
   {
    "duration": 115,
    "start_time": "2023-03-27T19:13:10.604Z"
   },
   {
    "duration": 0,
    "start_time": "2023-03-27T19:13:10.721Z"
   },
   {
    "duration": 15,
    "start_time": "2023-03-27T19:13:56.590Z"
   },
   {
    "duration": 22,
    "start_time": "2023-03-27T19:14:10.586Z"
   },
   {
    "duration": 1147,
    "start_time": "2023-03-27T19:30:30.354Z"
   },
   {
    "duration": 717,
    "start_time": "2023-03-27T19:30:31.503Z"
   },
   {
    "duration": 41,
    "start_time": "2023-03-27T19:30:32.221Z"
   },
   {
    "duration": 26,
    "start_time": "2023-03-27T19:30:32.263Z"
   },
   {
    "duration": 35,
    "start_time": "2023-03-27T19:30:32.291Z"
   },
   {
    "duration": 39,
    "start_time": "2023-03-27T19:30:32.328Z"
   },
   {
    "duration": 22,
    "start_time": "2023-03-27T19:30:32.368Z"
   },
   {
    "duration": 28,
    "start_time": "2023-03-27T19:30:32.391Z"
   },
   {
    "duration": 123,
    "start_time": "2023-03-27T19:30:32.420Z"
   },
   {
    "duration": 21,
    "start_time": "2023-03-27T19:30:32.544Z"
   },
   {
    "duration": 109,
    "start_time": "2023-03-27T19:30:32.567Z"
   },
   {
    "duration": 8,
    "start_time": "2023-03-27T19:30:32.678Z"
   },
   {
    "duration": 9,
    "start_time": "2023-03-27T19:30:32.688Z"
   },
   {
    "duration": 9,
    "start_time": "2023-03-27T19:30:32.699Z"
   },
   {
    "duration": 40,
    "start_time": "2023-03-27T19:30:32.710Z"
   },
   {
    "duration": 10,
    "start_time": "2023-03-27T19:30:32.752Z"
   },
   {
    "duration": 16,
    "start_time": "2023-03-27T19:30:32.763Z"
   },
   {
    "duration": 9,
    "start_time": "2023-03-27T19:30:32.781Z"
   },
   {
    "duration": 5,
    "start_time": "2023-03-27T19:30:32.791Z"
   },
   {
    "duration": 9,
    "start_time": "2023-03-27T19:30:32.797Z"
   },
   {
    "duration": 9,
    "start_time": "2023-03-27T19:30:32.808Z"
   },
   {
    "duration": 16,
    "start_time": "2023-03-27T19:30:32.819Z"
   },
   {
    "duration": 16,
    "start_time": "2023-03-27T19:30:32.836Z"
   },
   {
    "duration": 20,
    "start_time": "2023-03-27T19:30:32.854Z"
   },
   {
    "duration": 13,
    "start_time": "2023-03-27T19:30:32.875Z"
   },
   {
    "duration": 9,
    "start_time": "2023-03-27T19:30:32.889Z"
   },
   {
    "duration": 10,
    "start_time": "2023-03-27T19:30:32.900Z"
   },
   {
    "duration": 18,
    "start_time": "2023-03-27T19:30:32.911Z"
   },
   {
    "duration": 25,
    "start_time": "2023-03-27T19:30:32.931Z"
   },
   {
    "duration": 1135,
    "start_time": "2023-03-27T19:32:43.244Z"
   },
   {
    "duration": 797,
    "start_time": "2023-03-27T19:32:44.382Z"
   },
   {
    "duration": 30,
    "start_time": "2023-03-27T19:32:45.182Z"
   },
   {
    "duration": 38,
    "start_time": "2023-03-27T19:32:45.214Z"
   },
   {
    "duration": 26,
    "start_time": "2023-03-27T19:32:45.254Z"
   },
   {
    "duration": 23,
    "start_time": "2023-03-27T19:32:45.282Z"
   },
   {
    "duration": 32,
    "start_time": "2023-03-27T19:32:45.307Z"
   },
   {
    "duration": 19,
    "start_time": "2023-03-27T19:32:45.343Z"
   },
   {
    "duration": 133,
    "start_time": "2023-03-27T19:32:45.364Z"
   },
   {
    "duration": 21,
    "start_time": "2023-03-27T19:32:45.498Z"
   },
   {
    "duration": 116,
    "start_time": "2023-03-27T19:32:45.521Z"
   },
   {
    "duration": 13,
    "start_time": "2023-03-27T19:32:45.639Z"
   },
   {
    "duration": 7,
    "start_time": "2023-03-27T19:32:45.653Z"
   },
   {
    "duration": 11,
    "start_time": "2023-03-27T19:32:45.663Z"
   },
   {
    "duration": 116,
    "start_time": "2023-03-27T19:32:45.675Z"
   },
   {
    "duration": 0,
    "start_time": "2023-03-27T19:32:45.793Z"
   },
   {
    "duration": 1,
    "start_time": "2023-03-27T19:32:45.794Z"
   },
   {
    "duration": 0,
    "start_time": "2023-03-27T19:32:45.796Z"
   },
   {
    "duration": 0,
    "start_time": "2023-03-27T19:32:45.797Z"
   },
   {
    "duration": 0,
    "start_time": "2023-03-27T19:32:45.798Z"
   },
   {
    "duration": 0,
    "start_time": "2023-03-27T19:32:45.800Z"
   },
   {
    "duration": 0,
    "start_time": "2023-03-27T19:32:45.801Z"
   },
   {
    "duration": 0,
    "start_time": "2023-03-27T19:32:45.802Z"
   },
   {
    "duration": 0,
    "start_time": "2023-03-27T19:32:45.803Z"
   },
   {
    "duration": 0,
    "start_time": "2023-03-27T19:32:45.805Z"
   },
   {
    "duration": 0,
    "start_time": "2023-03-27T19:32:45.806Z"
   },
   {
    "duration": 1,
    "start_time": "2023-03-27T19:32:45.834Z"
   },
   {
    "duration": 0,
    "start_time": "2023-03-27T19:32:45.835Z"
   },
   {
    "duration": 105,
    "start_time": "2023-03-27T19:33:03.202Z"
   },
   {
    "duration": 18,
    "start_time": "2023-03-27T19:36:48.082Z"
   },
   {
    "duration": 1150,
    "start_time": "2023-03-27T19:41:48.200Z"
   },
   {
    "duration": 771,
    "start_time": "2023-03-27T19:41:49.352Z"
   },
   {
    "duration": 46,
    "start_time": "2023-03-27T19:41:50.124Z"
   },
   {
    "duration": 23,
    "start_time": "2023-03-27T19:41:50.172Z"
   },
   {
    "duration": 51,
    "start_time": "2023-03-27T19:41:50.197Z"
   },
   {
    "duration": 23,
    "start_time": "2023-03-27T19:41:50.251Z"
   },
   {
    "duration": 13,
    "start_time": "2023-03-27T19:41:50.276Z"
   },
   {
    "duration": 20,
    "start_time": "2023-03-27T19:41:50.291Z"
   },
   {
    "duration": 155,
    "start_time": "2023-03-27T19:41:50.312Z"
   },
   {
    "duration": 22,
    "start_time": "2023-03-27T19:41:50.469Z"
   },
   {
    "duration": 122,
    "start_time": "2023-03-27T19:41:50.493Z"
   },
   {
    "duration": 32,
    "start_time": "2023-03-27T19:41:50.617Z"
   },
   {
    "duration": 7,
    "start_time": "2023-03-27T19:41:50.651Z"
   },
   {
    "duration": 10,
    "start_time": "2023-03-27T19:41:50.661Z"
   },
   {
    "duration": 9,
    "start_time": "2023-03-27T19:41:50.672Z"
   },
   {
    "duration": 7,
    "start_time": "2023-03-27T19:41:50.682Z"
   },
   {
    "duration": 5,
    "start_time": "2023-03-27T19:41:50.690Z"
   },
   {
    "duration": 5,
    "start_time": "2023-03-27T19:41:50.696Z"
   },
   {
    "duration": 33,
    "start_time": "2023-03-27T19:41:50.703Z"
   },
   {
    "duration": 11,
    "start_time": "2023-03-27T19:41:50.741Z"
   },
   {
    "duration": 10,
    "start_time": "2023-03-27T19:41:50.753Z"
   },
   {
    "duration": 15,
    "start_time": "2023-03-27T19:41:50.764Z"
   },
   {
    "duration": 18,
    "start_time": "2023-03-27T19:41:50.781Z"
   },
   {
    "duration": 8,
    "start_time": "2023-03-27T19:41:50.801Z"
   },
   {
    "duration": 10,
    "start_time": "2023-03-27T19:41:50.811Z"
   },
   {
    "duration": 24,
    "start_time": "2023-03-27T19:41:50.822Z"
   },
   {
    "duration": 24,
    "start_time": "2023-03-27T19:41:50.848Z"
   },
   {
    "duration": 134,
    "start_time": "2023-03-27T19:41:50.874Z"
   },
   {
    "duration": 97,
    "start_time": "2023-03-27T19:42:21.309Z"
   },
   {
    "duration": 88,
    "start_time": "2023-03-27T19:42:36.605Z"
   },
   {
    "duration": 13,
    "start_time": "2023-03-27T19:42:45.532Z"
   },
   {
    "duration": 120,
    "start_time": "2023-03-27T19:45:52.977Z"
   },
   {
    "duration": 10,
    "start_time": "2023-03-27T19:46:06.892Z"
   },
   {
    "duration": 4268,
    "start_time": "2023-03-27T19:46:39.195Z"
   },
   {
    "duration": 7,
    "start_time": "2023-03-27T19:47:03.106Z"
   },
   {
    "duration": 1127,
    "start_time": "2023-03-27T19:47:18.162Z"
   },
   {
    "duration": 756,
    "start_time": "2023-03-27T19:47:19.290Z"
   },
   {
    "duration": 30,
    "start_time": "2023-03-27T19:47:20.048Z"
   },
   {
    "duration": 22,
    "start_time": "2023-03-27T19:47:20.079Z"
   },
   {
    "duration": 42,
    "start_time": "2023-03-27T19:47:20.103Z"
   },
   {
    "duration": 36,
    "start_time": "2023-03-27T19:47:20.147Z"
   },
   {
    "duration": 16,
    "start_time": "2023-03-27T19:47:20.185Z"
   },
   {
    "duration": 19,
    "start_time": "2023-03-27T19:47:20.202Z"
   },
   {
    "duration": 150,
    "start_time": "2023-03-27T19:47:20.222Z"
   },
   {
    "duration": 22,
    "start_time": "2023-03-27T19:47:20.373Z"
   },
   {
    "duration": 117,
    "start_time": "2023-03-27T19:47:20.396Z"
   },
   {
    "duration": 9,
    "start_time": "2023-03-27T19:47:20.515Z"
   },
   {
    "duration": 14,
    "start_time": "2023-03-27T19:47:20.536Z"
   },
   {
    "duration": 17,
    "start_time": "2023-03-27T19:47:20.553Z"
   },
   {
    "duration": 14,
    "start_time": "2023-03-27T19:47:20.571Z"
   },
   {
    "duration": 7,
    "start_time": "2023-03-27T19:47:20.587Z"
   },
   {
    "duration": 4,
    "start_time": "2023-03-27T19:47:20.596Z"
   },
   {
    "duration": 19,
    "start_time": "2023-03-27T19:47:20.602Z"
   },
   {
    "duration": 32,
    "start_time": "2023-03-27T19:47:20.622Z"
   },
   {
    "duration": 21,
    "start_time": "2023-03-27T19:47:20.656Z"
   },
   {
    "duration": 6,
    "start_time": "2023-03-27T19:47:20.679Z"
   },
   {
    "duration": 11,
    "start_time": "2023-03-27T19:47:20.687Z"
   },
   {
    "duration": 15,
    "start_time": "2023-03-27T19:47:20.700Z"
   },
   {
    "duration": 9,
    "start_time": "2023-03-27T19:47:20.717Z"
   },
   {
    "duration": 18,
    "start_time": "2023-03-27T19:47:20.728Z"
   },
   {
    "duration": 24,
    "start_time": "2023-03-27T19:47:20.747Z"
   },
   {
    "duration": 31,
    "start_time": "2023-03-27T19:47:20.773Z"
   },
   {
    "duration": 12,
    "start_time": "2023-03-27T19:47:20.806Z"
   },
   {
    "duration": 4537,
    "start_time": "2023-03-27T19:47:20.819Z"
   },
   {
    "duration": 142,
    "start_time": "2023-03-27T19:47:25.358Z"
   },
   {
    "duration": 6,
    "start_time": "2023-03-27T19:48:44.560Z"
   },
   {
    "duration": 9,
    "start_time": "2023-03-27T19:48:44.690Z"
   },
   {
    "duration": 6,
    "start_time": "2023-03-27T19:48:44.900Z"
   },
   {
    "duration": 8,
    "start_time": "2023-03-27T19:49:08.814Z"
   },
   {
    "duration": 8,
    "start_time": "2023-03-27T19:49:19.864Z"
   },
   {
    "duration": 1131,
    "start_time": "2023-03-27T19:49:36.854Z"
   },
   {
    "duration": 784,
    "start_time": "2023-03-27T19:49:37.987Z"
   },
   {
    "duration": 27,
    "start_time": "2023-03-27T19:49:38.773Z"
   },
   {
    "duration": 38,
    "start_time": "2023-03-27T19:49:38.801Z"
   },
   {
    "duration": 38,
    "start_time": "2023-03-27T19:49:38.841Z"
   },
   {
    "duration": 23,
    "start_time": "2023-03-27T19:49:38.881Z"
   },
   {
    "duration": 11,
    "start_time": "2023-03-27T19:49:38.906Z"
   },
   {
    "duration": 19,
    "start_time": "2023-03-27T19:49:38.918Z"
   },
   {
    "duration": 136,
    "start_time": "2023-03-27T19:49:38.938Z"
   },
   {
    "duration": 18,
    "start_time": "2023-03-27T19:49:39.076Z"
   },
   {
    "duration": 116,
    "start_time": "2023-03-27T19:49:39.095Z"
   },
   {
    "duration": 8,
    "start_time": "2023-03-27T19:49:39.212Z"
   },
   {
    "duration": 27,
    "start_time": "2023-03-27T19:49:39.222Z"
   },
   {
    "duration": 25,
    "start_time": "2023-03-27T19:49:39.257Z"
   },
   {
    "duration": 10,
    "start_time": "2023-03-27T19:49:39.283Z"
   },
   {
    "duration": 11,
    "start_time": "2023-03-27T19:49:39.294Z"
   },
   {
    "duration": 14,
    "start_time": "2023-03-27T19:49:39.306Z"
   },
   {
    "duration": 47,
    "start_time": "2023-03-27T19:49:39.321Z"
   },
   {
    "duration": 6,
    "start_time": "2023-03-27T19:49:39.369Z"
   },
   {
    "duration": 17,
    "start_time": "2023-03-27T19:49:39.377Z"
   },
   {
    "duration": 8,
    "start_time": "2023-03-27T19:49:39.396Z"
   },
   {
    "duration": 15,
    "start_time": "2023-03-27T19:49:39.406Z"
   },
   {
    "duration": 50,
    "start_time": "2023-03-27T19:49:39.423Z"
   },
   {
    "duration": 14,
    "start_time": "2023-03-27T19:49:39.474Z"
   },
   {
    "duration": 9,
    "start_time": "2023-03-27T19:49:39.489Z"
   },
   {
    "duration": 31,
    "start_time": "2023-03-27T19:49:39.500Z"
   },
   {
    "duration": 46,
    "start_time": "2023-03-27T19:49:39.533Z"
   },
   {
    "duration": 18,
    "start_time": "2023-03-27T19:49:39.581Z"
   },
   {
    "duration": 258,
    "start_time": "2023-03-27T19:49:39.600Z"
   },
   {
    "duration": 4099,
    "start_time": "2023-03-27T19:49:39.863Z"
   },
   {
    "duration": 205,
    "start_time": "2023-03-27T19:49:43.965Z"
   },
   {
    "duration": 103,
    "start_time": "2023-03-27T19:49:44.172Z"
   },
   {
    "duration": 8,
    "start_time": "2023-03-27T19:50:42.518Z"
   },
   {
    "duration": 9,
    "start_time": "2023-03-27T19:51:42.493Z"
   },
   {
    "duration": 11,
    "start_time": "2023-03-27T19:52:10.999Z"
   },
   {
    "duration": 1196,
    "start_time": "2023-03-27T19:53:03.914Z"
   },
   {
    "duration": 748,
    "start_time": "2023-03-27T19:53:05.112Z"
   },
   {
    "duration": 29,
    "start_time": "2023-03-27T19:53:05.861Z"
   },
   {
    "duration": 22,
    "start_time": "2023-03-27T19:53:05.892Z"
   },
   {
    "duration": 29,
    "start_time": "2023-03-27T19:53:05.935Z"
   },
   {
    "duration": 22,
    "start_time": "2023-03-27T19:53:05.965Z"
   },
   {
    "duration": 29,
    "start_time": "2023-03-27T19:53:05.988Z"
   },
   {
    "duration": 29,
    "start_time": "2023-03-27T19:53:06.019Z"
   },
   {
    "duration": 168,
    "start_time": "2023-03-27T19:53:06.049Z"
   },
   {
    "duration": 32,
    "start_time": "2023-03-27T19:53:06.219Z"
   },
   {
    "duration": 112,
    "start_time": "2023-03-27T19:53:06.253Z"
   },
   {
    "duration": 9,
    "start_time": "2023-03-27T19:53:06.367Z"
   },
   {
    "duration": 39,
    "start_time": "2023-03-27T19:53:06.377Z"
   },
   {
    "duration": 40,
    "start_time": "2023-03-27T19:53:06.419Z"
   },
   {
    "duration": 23,
    "start_time": "2023-03-27T19:53:06.461Z"
   },
   {
    "duration": 24,
    "start_time": "2023-03-27T19:53:06.486Z"
   },
   {
    "duration": 6,
    "start_time": "2023-03-27T19:53:06.512Z"
   },
   {
    "duration": 9,
    "start_time": "2023-03-27T19:53:06.520Z"
   },
   {
    "duration": 21,
    "start_time": "2023-03-27T19:53:06.530Z"
   },
   {
    "duration": 15,
    "start_time": "2023-03-27T19:53:06.552Z"
   },
   {
    "duration": 6,
    "start_time": "2023-03-27T19:53:06.569Z"
   },
   {
    "duration": 16,
    "start_time": "2023-03-27T19:53:06.577Z"
   },
   {
    "duration": 24,
    "start_time": "2023-03-27T19:53:06.595Z"
   },
   {
    "duration": 8,
    "start_time": "2023-03-27T19:53:06.620Z"
   },
   {
    "duration": 27,
    "start_time": "2023-03-27T19:53:06.629Z"
   },
   {
    "duration": 22,
    "start_time": "2023-03-27T19:53:06.657Z"
   },
   {
    "duration": 19,
    "start_time": "2023-03-27T19:53:06.681Z"
   },
   {
    "duration": 24,
    "start_time": "2023-03-27T19:53:06.702Z"
   },
   {
    "duration": 311,
    "start_time": "2023-03-27T19:53:06.728Z"
   },
   {
    "duration": 3705,
    "start_time": "2023-03-27T19:53:07.052Z"
   },
   {
    "duration": 301,
    "start_time": "2023-03-27T19:53:10.759Z"
   },
   {
    "duration": 123,
    "start_time": "2023-03-27T19:53:11.063Z"
   },
   {
    "duration": 10,
    "start_time": "2023-03-27T19:55:56.498Z"
   },
   {
    "duration": 7,
    "start_time": "2023-03-27T19:58:10.921Z"
   },
   {
    "duration": 1154,
    "start_time": "2023-03-27T20:05:46.551Z"
   },
   {
    "duration": 810,
    "start_time": "2023-03-27T20:05:47.707Z"
   },
   {
    "duration": 43,
    "start_time": "2023-03-27T20:05:48.519Z"
   },
   {
    "duration": 35,
    "start_time": "2023-03-27T20:05:48.563Z"
   },
   {
    "duration": 20,
    "start_time": "2023-03-27T20:05:48.601Z"
   },
   {
    "duration": 94,
    "start_time": "2023-03-27T20:05:48.622Z"
   },
   {
    "duration": 0,
    "start_time": "2023-03-27T20:05:48.718Z"
   },
   {
    "duration": 0,
    "start_time": "2023-03-27T20:05:48.719Z"
   },
   {
    "duration": 0,
    "start_time": "2023-03-27T20:05:48.721Z"
   },
   {
    "duration": 0,
    "start_time": "2023-03-27T20:05:48.722Z"
   },
   {
    "duration": 0,
    "start_time": "2023-03-27T20:05:48.724Z"
   },
   {
    "duration": 0,
    "start_time": "2023-03-27T20:05:48.725Z"
   },
   {
    "duration": 0,
    "start_time": "2023-03-27T20:05:48.726Z"
   },
   {
    "duration": 0,
    "start_time": "2023-03-27T20:05:48.727Z"
   },
   {
    "duration": 0,
    "start_time": "2023-03-27T20:05:48.728Z"
   },
   {
    "duration": 0,
    "start_time": "2023-03-27T20:05:48.729Z"
   },
   {
    "duration": 0,
    "start_time": "2023-03-27T20:05:48.731Z"
   },
   {
    "duration": 0,
    "start_time": "2023-03-27T20:05:48.732Z"
   },
   {
    "duration": 0,
    "start_time": "2023-03-27T20:05:48.733Z"
   },
   {
    "duration": 0,
    "start_time": "2023-03-27T20:05:48.735Z"
   },
   {
    "duration": 0,
    "start_time": "2023-03-27T20:05:48.736Z"
   },
   {
    "duration": 0,
    "start_time": "2023-03-27T20:05:48.737Z"
   },
   {
    "duration": 0,
    "start_time": "2023-03-27T20:05:48.739Z"
   },
   {
    "duration": 0,
    "start_time": "2023-03-27T20:05:48.740Z"
   },
   {
    "duration": 0,
    "start_time": "2023-03-27T20:05:48.741Z"
   },
   {
    "duration": 0,
    "start_time": "2023-03-27T20:05:48.742Z"
   },
   {
    "duration": 0,
    "start_time": "2023-03-27T20:05:48.743Z"
   },
   {
    "duration": 0,
    "start_time": "2023-03-27T20:05:48.744Z"
   },
   {
    "duration": 0,
    "start_time": "2023-03-27T20:05:48.745Z"
   },
   {
    "duration": 0,
    "start_time": "2023-03-27T20:05:48.746Z"
   },
   {
    "duration": 0,
    "start_time": "2023-03-27T20:05:48.747Z"
   },
   {
    "duration": 0,
    "start_time": "2023-03-27T20:05:48.748Z"
   },
   {
    "duration": 0,
    "start_time": "2023-03-27T20:05:48.753Z"
   },
   {
    "duration": 0,
    "start_time": "2023-03-27T20:05:48.755Z"
   },
   {
    "duration": 99,
    "start_time": "2023-03-27T20:09:38.920Z"
   },
   {
    "duration": 4,
    "start_time": "2023-03-27T20:11:03.388Z"
   },
   {
    "duration": 107,
    "start_time": "2023-03-27T20:13:32.826Z"
   },
   {
    "duration": 1421,
    "start_time": "2023-03-27T20:13:39.798Z"
   },
   {
    "duration": 3,
    "start_time": "2023-03-27T20:14:30.748Z"
   },
   {
    "duration": 7,
    "start_time": "2023-03-27T20:14:31.648Z"
   },
   {
    "duration": 5,
    "start_time": "2023-03-27T20:14:52.948Z"
   },
   {
    "duration": 1067,
    "start_time": "2023-03-27T20:20:40.886Z"
   },
   {
    "duration": 705,
    "start_time": "2023-03-27T20:20:41.957Z"
   },
   {
    "duration": 39,
    "start_time": "2023-03-27T20:20:42.664Z"
   },
   {
    "duration": 42,
    "start_time": "2023-03-27T20:20:42.706Z"
   },
   {
    "duration": 32,
    "start_time": "2023-03-27T20:20:42.754Z"
   },
   {
    "duration": 12,
    "start_time": "2023-03-27T20:20:42.788Z"
   },
   {
    "duration": 7,
    "start_time": "2023-03-27T20:20:42.802Z"
   },
   {
    "duration": 18,
    "start_time": "2023-03-27T20:20:42.811Z"
   },
   {
    "duration": 8,
    "start_time": "2023-03-27T20:20:42.832Z"
   },
   {
    "duration": 113,
    "start_time": "2023-03-27T20:20:42.842Z"
   },
   {
    "duration": 0,
    "start_time": "2023-03-27T20:20:42.959Z"
   },
   {
    "duration": 0,
    "start_time": "2023-03-27T20:20:42.961Z"
   },
   {
    "duration": 0,
    "start_time": "2023-03-27T20:20:42.962Z"
   },
   {
    "duration": 0,
    "start_time": "2023-03-27T20:20:42.963Z"
   },
   {
    "duration": 0,
    "start_time": "2023-03-27T20:20:42.965Z"
   },
   {
    "duration": 0,
    "start_time": "2023-03-27T20:20:42.966Z"
   },
   {
    "duration": 0,
    "start_time": "2023-03-27T20:20:42.968Z"
   },
   {
    "duration": 0,
    "start_time": "2023-03-27T20:20:42.970Z"
   },
   {
    "duration": 0,
    "start_time": "2023-03-27T20:20:42.971Z"
   },
   {
    "duration": 0,
    "start_time": "2023-03-27T20:20:42.972Z"
   },
   {
    "duration": 0,
    "start_time": "2023-03-27T20:20:42.973Z"
   },
   {
    "duration": 0,
    "start_time": "2023-03-27T20:20:42.975Z"
   },
   {
    "duration": 0,
    "start_time": "2023-03-27T20:20:42.976Z"
   },
   {
    "duration": 0,
    "start_time": "2023-03-27T20:20:42.977Z"
   },
   {
    "duration": 0,
    "start_time": "2023-03-27T20:20:42.978Z"
   },
   {
    "duration": 0,
    "start_time": "2023-03-27T20:20:42.980Z"
   },
   {
    "duration": 0,
    "start_time": "2023-03-27T20:20:42.981Z"
   },
   {
    "duration": 0,
    "start_time": "2023-03-27T20:20:42.982Z"
   },
   {
    "duration": 0,
    "start_time": "2023-03-27T20:20:42.983Z"
   },
   {
    "duration": 0,
    "start_time": "2023-03-27T20:20:42.985Z"
   },
   {
    "duration": 0,
    "start_time": "2023-03-27T20:20:42.986Z"
   },
   {
    "duration": 0,
    "start_time": "2023-03-27T20:20:42.987Z"
   },
   {
    "duration": 0,
    "start_time": "2023-03-27T20:20:42.989Z"
   },
   {
    "duration": 0,
    "start_time": "2023-03-27T20:20:43.034Z"
   },
   {
    "duration": 0,
    "start_time": "2023-03-27T20:20:43.035Z"
   },
   {
    "duration": 0,
    "start_time": "2023-03-27T20:20:43.036Z"
   },
   {
    "duration": 0,
    "start_time": "2023-03-27T20:20:43.037Z"
   },
   {
    "duration": 0,
    "start_time": "2023-03-27T20:20:43.037Z"
   },
   {
    "duration": 1102,
    "start_time": "2023-03-27T20:21:09.686Z"
   },
   {
    "duration": 777,
    "start_time": "2023-03-27T20:21:10.790Z"
   },
   {
    "duration": 27,
    "start_time": "2023-03-27T20:21:11.568Z"
   },
   {
    "duration": 20,
    "start_time": "2023-03-27T20:21:11.597Z"
   },
   {
    "duration": 40,
    "start_time": "2023-03-27T20:21:11.618Z"
   },
   {
    "duration": 14,
    "start_time": "2023-03-27T20:21:11.659Z"
   },
   {
    "duration": 9,
    "start_time": "2023-03-27T20:21:11.675Z"
   },
   {
    "duration": 10,
    "start_time": "2023-03-27T20:21:11.686Z"
   },
   {
    "duration": 9,
    "start_time": "2023-03-27T20:21:11.697Z"
   },
   {
    "duration": 107,
    "start_time": "2023-03-27T20:21:11.709Z"
   },
   {
    "duration": 0,
    "start_time": "2023-03-27T20:21:11.817Z"
   },
   {
    "duration": 0,
    "start_time": "2023-03-27T20:21:11.819Z"
   },
   {
    "duration": 0,
    "start_time": "2023-03-27T20:21:11.821Z"
   },
   {
    "duration": 0,
    "start_time": "2023-03-27T20:21:11.822Z"
   },
   {
    "duration": 0,
    "start_time": "2023-03-27T20:21:11.823Z"
   },
   {
    "duration": 0,
    "start_time": "2023-03-27T20:21:11.836Z"
   },
   {
    "duration": 0,
    "start_time": "2023-03-27T20:21:11.837Z"
   },
   {
    "duration": 0,
    "start_time": "2023-03-27T20:21:11.837Z"
   },
   {
    "duration": 0,
    "start_time": "2023-03-27T20:21:11.838Z"
   },
   {
    "duration": 0,
    "start_time": "2023-03-27T20:21:11.839Z"
   },
   {
    "duration": 0,
    "start_time": "2023-03-27T20:21:11.840Z"
   },
   {
    "duration": 0,
    "start_time": "2023-03-27T20:21:11.840Z"
   },
   {
    "duration": 0,
    "start_time": "2023-03-27T20:21:11.841Z"
   },
   {
    "duration": 0,
    "start_time": "2023-03-27T20:21:11.842Z"
   },
   {
    "duration": 0,
    "start_time": "2023-03-27T20:21:11.842Z"
   },
   {
    "duration": 0,
    "start_time": "2023-03-27T20:21:11.843Z"
   },
   {
    "duration": 0,
    "start_time": "2023-03-27T20:21:11.844Z"
   },
   {
    "duration": 1,
    "start_time": "2023-03-27T20:21:11.844Z"
   },
   {
    "duration": 0,
    "start_time": "2023-03-27T20:21:11.845Z"
   },
   {
    "duration": 0,
    "start_time": "2023-03-27T20:21:11.846Z"
   },
   {
    "duration": 0,
    "start_time": "2023-03-27T20:21:11.847Z"
   },
   {
    "duration": 0,
    "start_time": "2023-03-27T20:21:11.847Z"
   },
   {
    "duration": 0,
    "start_time": "2023-03-27T20:21:11.848Z"
   },
   {
    "duration": 0,
    "start_time": "2023-03-27T20:21:11.849Z"
   },
   {
    "duration": 0,
    "start_time": "2023-03-27T20:21:11.849Z"
   },
   {
    "duration": 0,
    "start_time": "2023-03-27T20:21:11.852Z"
   },
   {
    "duration": 0,
    "start_time": "2023-03-27T20:21:11.856Z"
   },
   {
    "duration": 0,
    "start_time": "2023-03-27T20:21:11.859Z"
   },
   {
    "duration": 4,
    "start_time": "2023-03-27T20:21:50.478Z"
   },
   {
    "duration": 5,
    "start_time": "2023-03-27T20:21:51.571Z"
   },
   {
    "duration": 3,
    "start_time": "2023-03-27T20:26:10.987Z"
   },
   {
    "duration": 4,
    "start_time": "2023-03-27T20:26:11.112Z"
   },
   {
    "duration": 5,
    "start_time": "2023-03-27T20:26:11.301Z"
   },
   {
    "duration": 4,
    "start_time": "2023-03-27T20:26:13.595Z"
   },
   {
    "duration": 3,
    "start_time": "2023-03-27T20:26:14.329Z"
   },
   {
    "duration": 5,
    "start_time": "2023-03-27T20:26:41.049Z"
   },
   {
    "duration": 5,
    "start_time": "2023-03-27T20:26:41.262Z"
   },
   {
    "duration": 4,
    "start_time": "2023-03-27T20:26:43.945Z"
   },
   {
    "duration": 3,
    "start_time": "2023-03-27T20:26:44.153Z"
   },
   {
    "duration": 1167,
    "start_time": "2023-03-27T20:33:06.563Z"
   },
   {
    "duration": 723,
    "start_time": "2023-03-27T20:33:07.732Z"
   },
   {
    "duration": 27,
    "start_time": "2023-03-27T20:33:08.457Z"
   },
   {
    "duration": 50,
    "start_time": "2023-03-27T20:33:08.486Z"
   },
   {
    "duration": 30,
    "start_time": "2023-03-27T20:33:08.543Z"
   },
   {
    "duration": 19,
    "start_time": "2023-03-27T20:33:08.575Z"
   },
   {
    "duration": 16,
    "start_time": "2023-03-27T20:33:08.596Z"
   },
   {
    "duration": 15,
    "start_time": "2023-03-27T20:33:08.614Z"
   },
   {
    "duration": 31,
    "start_time": "2023-03-27T20:33:08.631Z"
   },
   {
    "duration": 13,
    "start_time": "2023-03-27T20:33:08.665Z"
   },
   {
    "duration": 46,
    "start_time": "2023-03-27T20:33:08.680Z"
   },
   {
    "duration": 55,
    "start_time": "2023-03-27T20:33:08.729Z"
   },
   {
    "duration": 20,
    "start_time": "2023-03-27T20:33:08.786Z"
   },
   {
    "duration": 17,
    "start_time": "2023-03-27T20:33:08.807Z"
   },
   {
    "duration": 130,
    "start_time": "2023-03-27T20:33:08.825Z"
   },
   {
    "duration": 21,
    "start_time": "2023-03-27T20:33:08.956Z"
   },
   {
    "duration": 105,
    "start_time": "2023-03-27T20:33:08.979Z"
   },
   {
    "duration": 8,
    "start_time": "2023-03-27T20:33:09.085Z"
   },
   {
    "duration": 60,
    "start_time": "2023-03-27T20:33:09.095Z"
   },
   {
    "duration": 16,
    "start_time": "2023-03-27T20:33:09.157Z"
   },
   {
    "duration": 8,
    "start_time": "2023-03-27T20:33:09.175Z"
   },
   {
    "duration": 11,
    "start_time": "2023-03-27T20:33:09.185Z"
   },
   {
    "duration": 5,
    "start_time": "2023-03-27T20:33:09.197Z"
   },
   {
    "duration": 17,
    "start_time": "2023-03-27T20:33:09.203Z"
   },
   {
    "duration": 43,
    "start_time": "2023-03-27T20:33:09.222Z"
   },
   {
    "duration": 8,
    "start_time": "2023-03-27T20:33:09.267Z"
   },
   {
    "duration": 15,
    "start_time": "2023-03-27T20:33:09.277Z"
   },
   {
    "duration": 17,
    "start_time": "2023-03-27T20:33:09.295Z"
   },
   {
    "duration": 13,
    "start_time": "2023-03-27T20:33:09.314Z"
   },
   {
    "duration": 29,
    "start_time": "2023-03-27T20:33:09.328Z"
   },
   {
    "duration": 11,
    "start_time": "2023-03-27T20:33:09.360Z"
   },
   {
    "duration": 24,
    "start_time": "2023-03-27T20:33:09.373Z"
   },
   {
    "duration": 28,
    "start_time": "2023-03-27T20:33:09.399Z"
   },
   {
    "duration": 57,
    "start_time": "2023-03-27T20:33:09.430Z"
   },
   {
    "duration": 428,
    "start_time": "2023-03-27T20:33:09.489Z"
   },
   {
    "duration": 0,
    "start_time": "2023-03-27T20:33:09.918Z"
   },
   {
    "duration": 0,
    "start_time": "2023-03-27T20:33:09.920Z"
   },
   {
    "duration": 0,
    "start_time": "2023-03-27T20:33:09.921Z"
   },
   {
    "duration": 1168,
    "start_time": "2023-03-27T20:42:22.517Z"
   },
   {
    "duration": 768,
    "start_time": "2023-03-27T20:42:23.687Z"
   },
   {
    "duration": 29,
    "start_time": "2023-03-27T20:42:24.456Z"
   },
   {
    "duration": 20,
    "start_time": "2023-03-27T20:42:24.488Z"
   },
   {
    "duration": 45,
    "start_time": "2023-03-27T20:42:24.510Z"
   },
   {
    "duration": 5,
    "start_time": "2023-03-27T20:42:24.556Z"
   },
   {
    "duration": 16,
    "start_time": "2023-03-27T20:42:24.562Z"
   },
   {
    "duration": 10,
    "start_time": "2023-03-27T20:42:24.580Z"
   },
   {
    "duration": 11,
    "start_time": "2023-03-27T20:42:24.591Z"
   },
   {
    "duration": 16,
    "start_time": "2023-03-27T20:42:24.606Z"
   },
   {
    "duration": 25,
    "start_time": "2023-03-27T20:42:24.625Z"
   },
   {
    "duration": 38,
    "start_time": "2023-03-27T20:42:24.652Z"
   },
   {
    "duration": 20,
    "start_time": "2023-03-27T20:42:24.692Z"
   },
   {
    "duration": 50,
    "start_time": "2023-03-27T20:42:24.714Z"
   },
   {
    "duration": 195,
    "start_time": "2023-03-27T20:42:24.766Z"
   },
   {
    "duration": 19,
    "start_time": "2023-03-27T20:42:24.963Z"
   },
   {
    "duration": 116,
    "start_time": "2023-03-27T20:42:24.983Z"
   },
   {
    "duration": 8,
    "start_time": "2023-03-27T20:42:25.101Z"
   },
   {
    "duration": 9,
    "start_time": "2023-03-27T20:42:25.110Z"
   },
   {
    "duration": 26,
    "start_time": "2023-03-27T20:42:25.134Z"
   },
   {
    "duration": 8,
    "start_time": "2023-03-27T20:42:25.162Z"
   },
   {
    "duration": 12,
    "start_time": "2023-03-27T20:42:25.171Z"
   },
   {
    "duration": 3,
    "start_time": "2023-03-27T20:42:25.185Z"
   },
   {
    "duration": 9,
    "start_time": "2023-03-27T20:42:25.190Z"
   },
   {
    "duration": 6,
    "start_time": "2023-03-27T20:42:25.200Z"
   },
   {
    "duration": 6,
    "start_time": "2023-03-27T20:42:25.207Z"
   },
   {
    "duration": 20,
    "start_time": "2023-03-27T20:42:25.215Z"
   },
   {
    "duration": 9,
    "start_time": "2023-03-27T20:42:25.248Z"
   },
   {
    "duration": 11,
    "start_time": "2023-03-27T20:42:25.259Z"
   },
   {
    "duration": 9,
    "start_time": "2023-03-27T20:42:25.272Z"
   },
   {
    "duration": 13,
    "start_time": "2023-03-27T20:42:25.282Z"
   },
   {
    "duration": 21,
    "start_time": "2023-03-27T20:42:25.297Z"
   },
   {
    "duration": 33,
    "start_time": "2023-03-27T20:42:25.319Z"
   },
   {
    "duration": 21,
    "start_time": "2023-03-27T20:42:25.354Z"
   },
   {
    "duration": 385,
    "start_time": "2023-03-27T20:42:25.378Z"
   },
   {
    "duration": 0,
    "start_time": "2023-03-27T20:42:25.765Z"
   },
   {
    "duration": 0,
    "start_time": "2023-03-27T20:42:25.766Z"
   },
   {
    "duration": 0,
    "start_time": "2023-03-27T20:42:25.767Z"
   },
   {
    "duration": 318,
    "start_time": "2023-03-27T20:42:56.048Z"
   },
   {
    "duration": 3650,
    "start_time": "2023-03-27T20:42:56.368Z"
   },
   {
    "duration": 331,
    "start_time": "2023-03-27T20:43:00.020Z"
   },
   {
    "duration": 6,
    "start_time": "2023-03-27T20:43:00.353Z"
   },
   {
    "duration": 29,
    "start_time": "2023-03-27T20:43:32.419Z"
   },
   {
    "duration": 24,
    "start_time": "2023-03-27T20:46:41.755Z"
   },
   {
    "duration": 12,
    "start_time": "2023-03-27T20:46:55.253Z"
   },
   {
    "duration": 7,
    "start_time": "2023-03-27T20:46:58.819Z"
   },
   {
    "duration": 18,
    "start_time": "2023-03-27T20:47:00.061Z"
   },
   {
    "duration": 3979,
    "start_time": "2023-03-27T20:47:48.808Z"
   },
   {
    "duration": 7,
    "start_time": "2023-03-27T20:47:52.789Z"
   },
   {
    "duration": 13,
    "start_time": "2023-03-27T20:47:52.798Z"
   },
   {
    "duration": 30,
    "start_time": "2023-03-27T20:47:52.813Z"
   },
   {
    "duration": 16,
    "start_time": "2023-03-27T20:48:02.299Z"
   },
   {
    "duration": 26,
    "start_time": "2023-03-27T20:48:13.822Z"
   },
   {
    "duration": 4003,
    "start_time": "2023-03-27T20:48:15.713Z"
   },
   {
    "duration": 28,
    "start_time": "2023-03-27T20:48:19.718Z"
   },
   {
    "duration": 10,
    "start_time": "2023-03-27T20:48:19.748Z"
   },
   {
    "duration": 20,
    "start_time": "2023-03-27T20:48:19.759Z"
   },
   {
    "duration": 13,
    "start_time": "2023-03-27T20:48:39.055Z"
   },
   {
    "duration": 3762,
    "start_time": "2023-03-27T20:48:40.309Z"
   },
   {
    "duration": 8,
    "start_time": "2023-03-27T20:48:44.073Z"
   },
   {
    "duration": 7,
    "start_time": "2023-03-27T20:48:44.083Z"
   },
   {
    "duration": 28,
    "start_time": "2023-03-27T20:48:44.092Z"
   },
   {
    "duration": 18,
    "start_time": "2023-03-27T20:50:23.222Z"
   },
   {
    "duration": 3784,
    "start_time": "2023-03-27T20:50:24.033Z"
   },
   {
    "duration": 8,
    "start_time": "2023-03-27T20:50:27.818Z"
   },
   {
    "duration": 22,
    "start_time": "2023-03-27T20:50:27.827Z"
   },
   {
    "duration": 25,
    "start_time": "2023-03-27T20:50:27.852Z"
   },
   {
    "duration": 18,
    "start_time": "2023-03-27T20:50:32.378Z"
   },
   {
    "duration": 30,
    "start_time": "2023-03-27T20:52:06.454Z"
   },
   {
    "duration": 1096,
    "start_time": "2023-03-27T20:53:31.683Z"
   },
   {
    "duration": 742,
    "start_time": "2023-03-27T20:53:32.781Z"
   },
   {
    "duration": 36,
    "start_time": "2023-03-27T20:53:33.525Z"
   },
   {
    "duration": 31,
    "start_time": "2023-03-27T20:53:33.563Z"
   },
   {
    "duration": 42,
    "start_time": "2023-03-27T20:53:33.598Z"
   },
   {
    "duration": 21,
    "start_time": "2023-03-27T20:53:33.642Z"
   },
   {
    "duration": 6,
    "start_time": "2023-03-27T20:53:33.665Z"
   },
   {
    "duration": 8,
    "start_time": "2023-03-27T20:53:33.672Z"
   },
   {
    "duration": 7,
    "start_time": "2023-03-27T20:53:33.681Z"
   },
   {
    "duration": 11,
    "start_time": "2023-03-27T20:53:33.689Z"
   },
   {
    "duration": 11,
    "start_time": "2023-03-27T20:53:33.702Z"
   },
   {
    "duration": 36,
    "start_time": "2023-03-27T20:53:33.715Z"
   },
   {
    "duration": 16,
    "start_time": "2023-03-27T20:53:33.752Z"
   },
   {
    "duration": 16,
    "start_time": "2023-03-27T20:53:33.771Z"
   },
   {
    "duration": 136,
    "start_time": "2023-03-27T20:53:33.788Z"
   },
   {
    "duration": 33,
    "start_time": "2023-03-27T20:53:33.926Z"
   },
   {
    "duration": 105,
    "start_time": "2023-03-27T20:53:33.961Z"
   },
   {
    "duration": 9,
    "start_time": "2023-03-27T20:53:34.067Z"
   },
   {
    "duration": 19,
    "start_time": "2023-03-27T20:53:34.077Z"
   },
   {
    "duration": 44,
    "start_time": "2023-03-27T20:53:34.097Z"
   },
   {
    "duration": 24,
    "start_time": "2023-03-27T20:53:34.151Z"
   },
   {
    "duration": 11,
    "start_time": "2023-03-27T20:53:34.177Z"
   },
   {
    "duration": 30,
    "start_time": "2023-03-27T20:53:34.190Z"
   },
   {
    "duration": 34,
    "start_time": "2023-03-27T20:53:34.222Z"
   },
   {
    "duration": 19,
    "start_time": "2023-03-27T20:53:34.257Z"
   },
   {
    "duration": 27,
    "start_time": "2023-03-27T20:53:34.278Z"
   },
   {
    "duration": 23,
    "start_time": "2023-03-27T20:53:34.307Z"
   },
   {
    "duration": 27,
    "start_time": "2023-03-27T20:53:34.331Z"
   },
   {
    "duration": 52,
    "start_time": "2023-03-27T20:53:34.359Z"
   },
   {
    "duration": 26,
    "start_time": "2023-03-27T20:53:34.412Z"
   },
   {
    "duration": 29,
    "start_time": "2023-03-27T20:53:34.448Z"
   },
   {
    "duration": 24,
    "start_time": "2023-03-27T20:53:34.478Z"
   },
   {
    "duration": 22,
    "start_time": "2023-03-27T20:53:34.503Z"
   },
   {
    "duration": 21,
    "start_time": "2023-03-27T20:53:34.526Z"
   },
   {
    "duration": 31,
    "start_time": "2023-03-27T20:53:34.551Z"
   },
   {
    "duration": 512,
    "start_time": "2023-03-27T20:53:34.584Z"
   },
   {
    "duration": 3831,
    "start_time": "2023-03-27T20:53:35.098Z"
   },
   {
    "duration": 236,
    "start_time": "2023-03-27T20:53:38.931Z"
   },
   {
    "duration": 110,
    "start_time": "2023-03-27T20:53:39.168Z"
   },
   {
    "duration": 0,
    "start_time": "2023-03-27T20:53:39.283Z"
   },
   {
    "duration": 3841,
    "start_time": "2023-03-27T20:54:59.191Z"
   },
   {
    "duration": 9,
    "start_time": "2023-03-27T20:55:19.752Z"
   },
   {
    "duration": 7,
    "start_time": "2023-03-27T20:55:27.184Z"
   },
   {
    "duration": 7,
    "start_time": "2023-03-27T20:55:48.270Z"
   },
   {
    "duration": 2,
    "start_time": "2023-03-27T20:57:14.850Z"
   },
   {
    "duration": 1202,
    "start_time": "2023-03-27T21:09:19.936Z"
   },
   {
    "duration": 804,
    "start_time": "2023-03-27T21:09:21.151Z"
   },
   {
    "duration": 27,
    "start_time": "2023-03-27T21:09:21.957Z"
   },
   {
    "duration": 31,
    "start_time": "2023-03-27T21:09:21.986Z"
   },
   {
    "duration": 38,
    "start_time": "2023-03-27T21:09:22.020Z"
   },
   {
    "duration": 9,
    "start_time": "2023-03-27T21:09:22.059Z"
   },
   {
    "duration": 7,
    "start_time": "2023-03-27T21:09:22.069Z"
   },
   {
    "duration": 10,
    "start_time": "2023-03-27T21:09:22.077Z"
   },
   {
    "duration": 8,
    "start_time": "2023-03-27T21:09:22.089Z"
   },
   {
    "duration": 18,
    "start_time": "2023-03-27T21:09:22.098Z"
   },
   {
    "duration": 13,
    "start_time": "2023-03-27T21:09:22.117Z"
   },
   {
    "duration": 36,
    "start_time": "2023-03-27T21:09:22.131Z"
   },
   {
    "duration": 12,
    "start_time": "2023-03-27T21:09:22.169Z"
   },
   {
    "duration": 17,
    "start_time": "2023-03-27T21:09:22.183Z"
   },
   {
    "duration": 133,
    "start_time": "2023-03-27T21:09:22.202Z"
   },
   {
    "duration": 36,
    "start_time": "2023-03-27T21:09:22.339Z"
   },
   {
    "duration": 127,
    "start_time": "2023-03-27T21:09:22.377Z"
   },
   {
    "duration": 9,
    "start_time": "2023-03-27T21:09:22.505Z"
   },
   {
    "duration": 19,
    "start_time": "2023-03-27T21:09:22.515Z"
   },
   {
    "duration": 32,
    "start_time": "2023-03-27T21:09:22.542Z"
   },
   {
    "duration": 5,
    "start_time": "2023-03-27T21:09:22.575Z"
   },
   {
    "duration": 15,
    "start_time": "2023-03-27T21:09:22.581Z"
   },
   {
    "duration": 21,
    "start_time": "2023-03-27T21:09:22.598Z"
   },
   {
    "duration": 29,
    "start_time": "2023-03-27T21:09:22.621Z"
   },
   {
    "duration": 8,
    "start_time": "2023-03-27T21:09:22.651Z"
   },
   {
    "duration": 14,
    "start_time": "2023-03-27T21:09:22.661Z"
   },
   {
    "duration": 9,
    "start_time": "2023-03-27T21:09:22.677Z"
   },
   {
    "duration": 5,
    "start_time": "2023-03-27T21:09:22.688Z"
   },
   {
    "duration": 9,
    "start_time": "2023-03-27T21:09:22.695Z"
   },
   {
    "duration": 15,
    "start_time": "2023-03-27T21:09:22.706Z"
   },
   {
    "duration": 28,
    "start_time": "2023-03-27T21:09:22.722Z"
   },
   {
    "duration": 16,
    "start_time": "2023-03-27T21:09:22.752Z"
   },
   {
    "duration": 21,
    "start_time": "2023-03-27T21:09:22.769Z"
   },
   {
    "duration": 401,
    "start_time": "2023-03-27T21:09:22.791Z"
   },
   {
    "duration": 3886,
    "start_time": "2023-03-27T21:09:23.193Z"
   },
   {
    "duration": 7,
    "start_time": "2023-03-27T21:09:27.081Z"
   },
   {
    "duration": 12,
    "start_time": "2023-03-27T21:09:27.090Z"
   },
   {
    "duration": 1178,
    "start_time": "2023-03-28T11:22:28.279Z"
   },
   {
    "duration": 3283,
    "start_time": "2023-03-28T11:22:29.459Z"
   },
   {
    "duration": 28,
    "start_time": "2023-03-28T11:22:32.743Z"
   },
   {
    "duration": 19,
    "start_time": "2023-03-28T11:22:32.772Z"
   },
   {
    "duration": 37,
    "start_time": "2023-03-28T11:22:32.793Z"
   },
   {
    "duration": 13,
    "start_time": "2023-03-28T11:22:32.832Z"
   },
   {
    "duration": 41,
    "start_time": "2023-03-28T11:22:32.847Z"
   },
   {
    "duration": 30,
    "start_time": "2023-03-28T11:22:32.889Z"
   },
   {
    "duration": 29,
    "start_time": "2023-03-28T11:22:32.920Z"
   },
   {
    "duration": 23,
    "start_time": "2023-03-28T11:22:32.950Z"
   },
   {
    "duration": 7,
    "start_time": "2023-03-28T11:22:32.975Z"
   },
   {
    "duration": 21,
    "start_time": "2023-03-28T11:22:32.983Z"
   },
   {
    "duration": 15,
    "start_time": "2023-03-28T11:22:33.005Z"
   },
   {
    "duration": 17,
    "start_time": "2023-03-28T11:22:33.023Z"
   },
   {
    "duration": 137,
    "start_time": "2023-03-28T11:22:33.041Z"
   },
   {
    "duration": 22,
    "start_time": "2023-03-28T11:22:33.184Z"
   },
   {
    "duration": 108,
    "start_time": "2023-03-28T11:22:33.208Z"
   },
   {
    "duration": 9,
    "start_time": "2023-03-28T11:22:33.317Z"
   },
   {
    "duration": 19,
    "start_time": "2023-03-28T11:22:33.329Z"
   },
   {
    "duration": 22,
    "start_time": "2023-03-28T11:22:33.350Z"
   },
   {
    "duration": 7,
    "start_time": "2023-03-28T11:22:33.373Z"
   },
   {
    "duration": 4,
    "start_time": "2023-03-28T11:22:33.383Z"
   },
   {
    "duration": 7,
    "start_time": "2023-03-28T11:22:33.389Z"
   },
   {
    "duration": 52,
    "start_time": "2023-03-28T11:22:33.398Z"
   },
   {
    "duration": 35,
    "start_time": "2023-03-28T11:22:33.452Z"
   },
   {
    "duration": 46,
    "start_time": "2023-03-28T11:22:33.489Z"
   },
   {
    "duration": 19,
    "start_time": "2023-03-28T11:22:33.538Z"
   },
   {
    "duration": 12,
    "start_time": "2023-03-28T11:22:33.559Z"
   },
   {
    "duration": 21,
    "start_time": "2023-03-28T11:22:33.572Z"
   },
   {
    "duration": 16,
    "start_time": "2023-03-28T11:22:33.594Z"
   },
   {
    "duration": 22,
    "start_time": "2023-03-28T11:22:33.611Z"
   },
   {
    "duration": 39,
    "start_time": "2023-03-28T11:22:33.635Z"
   },
   {
    "duration": 23,
    "start_time": "2023-03-28T11:22:33.676Z"
   },
   {
    "duration": 237,
    "start_time": "2023-03-28T11:22:33.700Z"
   },
   {
    "duration": 0,
    "start_time": "2023-03-28T11:22:33.939Z"
   },
   {
    "duration": 1,
    "start_time": "2023-03-28T11:22:33.940Z"
   },
   {
    "duration": 0,
    "start_time": "2023-03-28T11:22:33.942Z"
   },
   {
    "duration": 0,
    "start_time": "2023-03-28T11:22:33.943Z"
   },
   {
    "duration": 18,
    "start_time": "2023-03-28T11:23:45.039Z"
   },
   {
    "duration": 1092,
    "start_time": "2023-03-28T11:24:02.905Z"
   },
   {
    "duration": 716,
    "start_time": "2023-03-28T11:24:03.999Z"
   },
   {
    "duration": 31,
    "start_time": "2023-03-28T11:24:04.717Z"
   },
   {
    "duration": 38,
    "start_time": "2023-03-28T11:24:04.751Z"
   },
   {
    "duration": 23,
    "start_time": "2023-03-28T11:24:04.792Z"
   },
   {
    "duration": 13,
    "start_time": "2023-03-28T11:24:04.816Z"
   },
   {
    "duration": 8,
    "start_time": "2023-03-28T11:24:04.831Z"
   },
   {
    "duration": 12,
    "start_time": "2023-03-28T11:24:04.841Z"
   },
   {
    "duration": 6,
    "start_time": "2023-03-28T11:24:04.855Z"
   },
   {
    "duration": 20,
    "start_time": "2023-03-28T11:24:04.862Z"
   },
   {
    "duration": 9,
    "start_time": "2023-03-28T11:24:04.884Z"
   },
   {
    "duration": 25,
    "start_time": "2023-03-28T11:24:04.895Z"
   },
   {
    "duration": 15,
    "start_time": "2023-03-28T11:24:04.923Z"
   },
   {
    "duration": 29,
    "start_time": "2023-03-28T11:24:04.942Z"
   },
   {
    "duration": 160,
    "start_time": "2023-03-28T11:24:04.973Z"
   },
   {
    "duration": 22,
    "start_time": "2023-03-28T11:24:05.135Z"
   },
   {
    "duration": 115,
    "start_time": "2023-03-28T11:24:05.159Z"
   },
   {
    "duration": 12,
    "start_time": "2023-03-28T11:24:05.276Z"
   },
   {
    "duration": 6,
    "start_time": "2023-03-28T11:24:05.290Z"
   },
   {
    "duration": 11,
    "start_time": "2023-03-28T11:24:05.297Z"
   },
   {
    "duration": 3,
    "start_time": "2023-03-28T11:24:05.310Z"
   },
   {
    "duration": 15,
    "start_time": "2023-03-28T11:24:05.314Z"
   },
   {
    "duration": 17,
    "start_time": "2023-03-28T11:24:05.330Z"
   },
   {
    "duration": 13,
    "start_time": "2023-03-28T11:24:05.348Z"
   },
   {
    "duration": 10,
    "start_time": "2023-03-28T11:24:05.362Z"
   },
   {
    "duration": 16,
    "start_time": "2023-03-28T11:24:05.373Z"
   },
   {
    "duration": 16,
    "start_time": "2023-03-28T11:24:05.391Z"
   },
   {
    "duration": 18,
    "start_time": "2023-03-28T11:24:05.408Z"
   },
   {
    "duration": 19,
    "start_time": "2023-03-28T11:24:05.427Z"
   },
   {
    "duration": 21,
    "start_time": "2023-03-28T11:24:05.448Z"
   },
   {
    "duration": 26,
    "start_time": "2023-03-28T11:24:05.470Z"
   },
   {
    "duration": 31,
    "start_time": "2023-03-28T11:24:05.498Z"
   },
   {
    "duration": 20,
    "start_time": "2023-03-28T11:24:05.531Z"
   },
   {
    "duration": 78,
    "start_time": "2023-03-28T11:24:05.553Z"
   },
   {
    "duration": 0,
    "start_time": "2023-03-28T11:24:05.632Z"
   },
   {
    "duration": 0,
    "start_time": "2023-03-28T11:24:05.633Z"
   },
   {
    "duration": 0,
    "start_time": "2023-03-28T11:24:05.634Z"
   },
   {
    "duration": 0,
    "start_time": "2023-03-28T11:24:05.636Z"
   },
   {
    "duration": 0,
    "start_time": "2023-03-28T11:24:05.637Z"
   },
   {
    "duration": 18504,
    "start_time": "2023-03-28T11:24:19.681Z"
   },
   {
    "duration": 239,
    "start_time": "2023-03-28T11:24:38.187Z"
   },
   {
    "duration": 3907,
    "start_time": "2023-03-28T11:24:38.428Z"
   },
   {
    "duration": 5,
    "start_time": "2023-03-28T11:24:42.337Z"
   },
   {
    "duration": 9,
    "start_time": "2023-03-28T11:24:42.344Z"
   },
   {
    "duration": 5,
    "start_time": "2023-03-28T11:25:00.261Z"
   },
   {
    "duration": 1088,
    "start_time": "2023-03-28T11:33:21.601Z"
   },
   {
    "duration": 681,
    "start_time": "2023-03-28T11:33:22.691Z"
   },
   {
    "duration": 30,
    "start_time": "2023-03-28T11:33:23.374Z"
   },
   {
    "duration": 74,
    "start_time": "2023-03-28T11:33:23.405Z"
   },
   {
    "duration": 23,
    "start_time": "2023-03-28T11:33:23.482Z"
   },
   {
    "duration": 9,
    "start_time": "2023-03-28T11:33:23.507Z"
   },
   {
    "duration": 5,
    "start_time": "2023-03-28T11:33:23.517Z"
   },
   {
    "duration": 9,
    "start_time": "2023-03-28T11:33:23.524Z"
   },
   {
    "duration": 5,
    "start_time": "2023-03-28T11:33:23.534Z"
   },
   {
    "duration": 5,
    "start_time": "2023-03-28T11:33:23.541Z"
   },
   {
    "duration": 12,
    "start_time": "2023-03-28T11:33:23.547Z"
   },
   {
    "duration": 37,
    "start_time": "2023-03-28T11:33:23.561Z"
   },
   {
    "duration": 12,
    "start_time": "2023-03-28T11:33:23.600Z"
   },
   {
    "duration": 16,
    "start_time": "2023-03-28T11:33:23.615Z"
   },
   {
    "duration": 150,
    "start_time": "2023-03-28T11:33:23.633Z"
   },
   {
    "duration": 23,
    "start_time": "2023-03-28T11:33:23.785Z"
   },
   {
    "duration": 110,
    "start_time": "2023-03-28T11:33:23.810Z"
   },
   {
    "duration": 9,
    "start_time": "2023-03-28T11:33:23.921Z"
   },
   {
    "duration": 9,
    "start_time": "2023-03-28T11:33:23.931Z"
   },
   {
    "duration": 14,
    "start_time": "2023-03-28T11:33:23.942Z"
   },
   {
    "duration": 133,
    "start_time": "2023-03-28T11:33:23.958Z"
   },
   {
    "duration": 28,
    "start_time": "2023-03-28T11:33:24.092Z"
   },
   {
    "duration": 42,
    "start_time": "2023-03-28T11:33:24.121Z"
   },
   {
    "duration": 38,
    "start_time": "2023-03-28T11:33:24.164Z"
   },
   {
    "duration": 33,
    "start_time": "2023-03-28T11:33:24.203Z"
   },
   {
    "duration": 22,
    "start_time": "2023-03-28T11:33:24.238Z"
   },
   {
    "duration": 44,
    "start_time": "2023-03-28T11:33:24.262Z"
   },
   {
    "duration": 20,
    "start_time": "2023-03-28T11:33:24.307Z"
   },
   {
    "duration": 79,
    "start_time": "2023-03-28T11:33:24.328Z"
   },
   {
    "duration": 51,
    "start_time": "2023-03-28T11:33:24.408Z"
   },
   {
    "duration": 43,
    "start_time": "2023-03-28T11:33:24.461Z"
   },
   {
    "duration": 46,
    "start_time": "2023-03-28T11:33:24.505Z"
   },
   {
    "duration": 29,
    "start_time": "2023-03-28T11:33:24.553Z"
   },
   {
    "duration": 17613,
    "start_time": "2023-03-28T11:33:24.584Z"
   },
   {
    "duration": 227,
    "start_time": "2023-03-28T11:33:42.198Z"
   },
   {
    "duration": 3773,
    "start_time": "2023-03-28T11:33:42.426Z"
   },
   {
    "duration": 6,
    "start_time": "2023-03-28T11:33:46.201Z"
   },
   {
    "duration": 21,
    "start_time": "2023-03-28T11:33:46.208Z"
   },
   {
    "duration": 24,
    "start_time": "2023-03-28T11:33:46.231Z"
   },
   {
    "duration": 8,
    "start_time": "2023-03-28T11:33:46.257Z"
   },
   {
    "duration": 19,
    "start_time": "2023-03-28T11:33:46.270Z"
   },
   {
    "duration": 33,
    "start_time": "2023-03-28T11:33:46.291Z"
   },
   {
    "duration": 6,
    "start_time": "2023-03-28T11:34:25.337Z"
   },
   {
    "duration": 2189,
    "start_time": "2023-03-28T11:35:24.116Z"
   },
   {
    "duration": 7,
    "start_time": "2023-03-28T11:35:50.134Z"
   },
   {
    "duration": 5,
    "start_time": "2023-03-28T11:36:50.033Z"
   },
   {
    "duration": 5,
    "start_time": "2023-03-28T11:37:07.315Z"
   },
   {
    "duration": 5,
    "start_time": "2023-03-28T11:37:07.470Z"
   },
   {
    "duration": 7,
    "start_time": "2023-03-28T11:37:24.330Z"
   },
   {
    "duration": 8,
    "start_time": "2023-03-28T11:37:39.721Z"
   },
   {
    "duration": 7,
    "start_time": "2023-03-28T11:38:13.611Z"
   },
   {
    "duration": 1233,
    "start_time": "2023-03-28T11:41:10.462Z"
   },
   {
    "duration": 758,
    "start_time": "2023-03-28T11:41:11.698Z"
   },
   {
    "duration": 38,
    "start_time": "2023-03-28T11:41:12.458Z"
   },
   {
    "duration": 28,
    "start_time": "2023-03-28T11:41:12.499Z"
   },
   {
    "duration": 30,
    "start_time": "2023-03-28T11:41:12.529Z"
   },
   {
    "duration": 11,
    "start_time": "2023-03-28T11:41:12.561Z"
   },
   {
    "duration": 6,
    "start_time": "2023-03-28T11:41:12.583Z"
   },
   {
    "duration": 19,
    "start_time": "2023-03-28T11:41:12.590Z"
   },
   {
    "duration": 6,
    "start_time": "2023-03-28T11:41:12.610Z"
   },
   {
    "duration": 22,
    "start_time": "2023-03-28T11:41:12.619Z"
   },
   {
    "duration": 40,
    "start_time": "2023-03-28T11:41:12.642Z"
   },
   {
    "duration": 36,
    "start_time": "2023-03-28T11:41:12.683Z"
   },
   {
    "duration": 14,
    "start_time": "2023-03-28T11:41:12.720Z"
   },
   {
    "duration": 35,
    "start_time": "2023-03-28T11:41:12.735Z"
   },
   {
    "duration": 134,
    "start_time": "2023-03-28T11:41:12.772Z"
   },
   {
    "duration": 19,
    "start_time": "2023-03-28T11:41:12.908Z"
   },
   {
    "duration": 115,
    "start_time": "2023-03-28T11:41:12.929Z"
   },
   {
    "duration": 10,
    "start_time": "2023-03-28T11:41:13.046Z"
   },
   {
    "duration": 12,
    "start_time": "2023-03-28T11:41:13.058Z"
   },
   {
    "duration": 18,
    "start_time": "2023-03-28T11:41:13.072Z"
   },
   {
    "duration": 18,
    "start_time": "2023-03-28T11:41:13.092Z"
   },
   {
    "duration": 15,
    "start_time": "2023-03-28T11:41:13.111Z"
   },
   {
    "duration": 22,
    "start_time": "2023-03-28T11:41:13.128Z"
   },
   {
    "duration": 16,
    "start_time": "2023-03-28T11:41:13.152Z"
   },
   {
    "duration": 21,
    "start_time": "2023-03-28T11:41:13.170Z"
   },
   {
    "duration": 17,
    "start_time": "2023-03-28T11:41:13.193Z"
   },
   {
    "duration": 21,
    "start_time": "2023-03-28T11:41:13.212Z"
   },
   {
    "duration": 9,
    "start_time": "2023-03-28T11:41:13.238Z"
   },
   {
    "duration": 14,
    "start_time": "2023-03-28T11:41:13.251Z"
   },
   {
    "duration": 30,
    "start_time": "2023-03-28T11:41:13.267Z"
   },
   {
    "duration": 28,
    "start_time": "2023-03-28T11:41:13.298Z"
   },
   {
    "duration": 22,
    "start_time": "2023-03-28T11:41:13.328Z"
   },
   {
    "duration": 20,
    "start_time": "2023-03-28T11:41:13.352Z"
   },
   {
    "duration": 22098,
    "start_time": "2023-03-28T11:41:13.374Z"
   },
   {
    "duration": 253,
    "start_time": "2023-03-28T11:41:35.475Z"
   },
   {
    "duration": 3896,
    "start_time": "2023-03-28T11:41:35.730Z"
   },
   {
    "duration": 6,
    "start_time": "2023-03-28T11:41:39.628Z"
   },
   {
    "duration": 10,
    "start_time": "2023-03-28T11:41:39.635Z"
   },
   {
    "duration": 4,
    "start_time": "2023-03-28T11:41:39.647Z"
   },
   {
    "duration": 31,
    "start_time": "2023-03-28T11:41:39.653Z"
   },
   {
    "duration": 10,
    "start_time": "2023-03-28T11:41:39.686Z"
   },
   {
    "duration": 12,
    "start_time": "2023-03-28T11:41:39.698Z"
   },
   {
    "duration": 702,
    "start_time": "2023-03-28T11:46:00.662Z"
   },
   {
    "duration": 1322,
    "start_time": "2023-03-28T11:46:35.826Z"
   },
   {
    "duration": 715,
    "start_time": "2023-03-28T11:46:37.151Z"
   },
   {
    "duration": 30,
    "start_time": "2023-03-28T11:46:37.868Z"
   },
   {
    "duration": 23,
    "start_time": "2023-03-28T11:46:37.900Z"
   },
   {
    "duration": 24,
    "start_time": "2023-03-28T11:46:37.925Z"
   },
   {
    "duration": 15,
    "start_time": "2023-03-28T11:46:37.950Z"
   },
   {
    "duration": 3,
    "start_time": "2023-03-28T11:46:37.983Z"
   },
   {
    "duration": 15,
    "start_time": "2023-03-28T11:46:37.989Z"
   },
   {
    "duration": 11,
    "start_time": "2023-03-28T11:46:38.006Z"
   },
   {
    "duration": 10,
    "start_time": "2023-03-28T11:46:38.019Z"
   },
   {
    "duration": 11,
    "start_time": "2023-03-28T11:46:38.031Z"
   },
   {
    "duration": 40,
    "start_time": "2023-03-28T11:46:38.044Z"
   },
   {
    "duration": 13,
    "start_time": "2023-03-28T11:46:38.086Z"
   },
   {
    "duration": 43,
    "start_time": "2023-03-28T11:46:38.102Z"
   },
   {
    "duration": 143,
    "start_time": "2023-03-28T11:46:38.147Z"
   },
   {
    "duration": 23,
    "start_time": "2023-03-28T11:46:38.291Z"
   },
   {
    "duration": 112,
    "start_time": "2023-03-28T11:46:38.316Z"
   },
   {
    "duration": 9,
    "start_time": "2023-03-28T11:46:38.429Z"
   },
   {
    "duration": 23,
    "start_time": "2023-03-28T11:46:38.440Z"
   },
   {
    "duration": 16,
    "start_time": "2023-03-28T11:46:38.464Z"
   },
   {
    "duration": 8,
    "start_time": "2023-03-28T11:46:38.484Z"
   },
   {
    "duration": 8,
    "start_time": "2023-03-28T11:46:38.493Z"
   },
   {
    "duration": 11,
    "start_time": "2023-03-28T11:46:38.503Z"
   },
   {
    "duration": 10,
    "start_time": "2023-03-28T11:46:38.516Z"
   },
   {
    "duration": 12,
    "start_time": "2023-03-28T11:46:38.530Z"
   },
   {
    "duration": 10,
    "start_time": "2023-03-28T11:46:38.543Z"
   },
   {
    "duration": 14,
    "start_time": "2023-03-28T11:46:38.554Z"
   },
   {
    "duration": 7,
    "start_time": "2023-03-28T11:46:38.569Z"
   },
   {
    "duration": 8,
    "start_time": "2023-03-28T11:46:38.583Z"
   },
   {
    "duration": 18,
    "start_time": "2023-03-28T11:46:38.593Z"
   },
   {
    "duration": 20,
    "start_time": "2023-03-28T11:46:38.613Z"
   },
   {
    "duration": 12,
    "start_time": "2023-03-28T11:46:38.635Z"
   },
   {
    "duration": 39,
    "start_time": "2023-03-28T11:46:38.649Z"
   },
   {
    "duration": 19884,
    "start_time": "2023-03-28T11:46:38.689Z"
   },
   {
    "duration": 239,
    "start_time": "2023-03-28T11:46:58.574Z"
   },
   {
    "duration": 3823,
    "start_time": "2023-03-28T11:46:58.815Z"
   },
   {
    "duration": 7,
    "start_time": "2023-03-28T11:47:02.640Z"
   },
   {
    "duration": 27,
    "start_time": "2023-03-28T11:47:02.649Z"
   },
   {
    "duration": 24,
    "start_time": "2023-03-28T11:47:02.678Z"
   },
   {
    "duration": 29,
    "start_time": "2023-03-28T11:47:02.703Z"
   },
   {
    "duration": 18,
    "start_time": "2023-03-28T11:47:02.735Z"
   },
   {
    "duration": 11,
    "start_time": "2023-03-28T11:47:02.755Z"
   },
   {
    "duration": 187,
    "start_time": "2023-03-28T11:47:02.768Z"
   },
   {
    "duration": 140,
    "start_time": "2023-03-28T11:47:20.393Z"
   },
   {
    "duration": 75,
    "start_time": "2023-03-28T11:48:27.924Z"
   },
   {
    "duration": 149,
    "start_time": "2023-03-28T11:48:38.459Z"
   },
   {
    "duration": 8,
    "start_time": "2023-03-28T11:49:56.522Z"
   },
   {
    "duration": 8,
    "start_time": "2023-03-28T11:49:56.643Z"
   },
   {
    "duration": 9,
    "start_time": "2023-03-28T11:49:56.759Z"
   },
   {
    "duration": 151,
    "start_time": "2023-03-28T11:49:56.904Z"
   },
   {
    "duration": 121,
    "start_time": "2023-03-28T11:50:44.849Z"
   },
   {
    "duration": 250,
    "start_time": "2023-03-28T11:51:57.564Z"
   },
   {
    "duration": 8,
    "start_time": "2023-03-28T11:53:37.750Z"
   },
   {
    "duration": 7,
    "start_time": "2023-03-28T11:53:37.880Z"
   },
   {
    "duration": 8,
    "start_time": "2023-03-28T11:53:38.015Z"
   },
   {
    "duration": 191,
    "start_time": "2023-03-28T11:53:38.175Z"
   },
   {
    "duration": 197,
    "start_time": "2023-03-28T11:54:18.238Z"
   },
   {
    "duration": 195,
    "start_time": "2023-03-28T11:56:26.875Z"
   },
   {
    "duration": 226,
    "start_time": "2023-03-28T11:56:48.574Z"
   },
   {
    "duration": 252,
    "start_time": "2023-03-28T11:57:34.531Z"
   },
   {
    "duration": 118,
    "start_time": "2023-03-28T12:08:27.104Z"
   },
   {
    "duration": 1544,
    "start_time": "2023-03-28T12:08:58.848Z"
   },
   {
    "duration": 751,
    "start_time": "2023-03-28T12:09:00.395Z"
   },
   {
    "duration": 35,
    "start_time": "2023-03-28T12:09:01.147Z"
   },
   {
    "duration": 105,
    "start_time": "2023-03-28T12:09:01.185Z"
   },
   {
    "duration": 89,
    "start_time": "2023-03-28T12:09:01.292Z"
   },
   {
    "duration": 71,
    "start_time": "2023-03-28T12:09:01.383Z"
   },
   {
    "duration": 87,
    "start_time": "2023-03-28T12:09:01.456Z"
   },
   {
    "duration": 84,
    "start_time": "2023-03-28T12:09:01.545Z"
   },
   {
    "duration": 147,
    "start_time": "2023-03-28T12:09:01.631Z"
   },
   {
    "duration": 59,
    "start_time": "2023-03-28T12:09:01.781Z"
   },
   {
    "duration": 84,
    "start_time": "2023-03-28T12:09:01.842Z"
   },
   {
    "duration": 121,
    "start_time": "2023-03-28T12:09:01.928Z"
   },
   {
    "duration": 53,
    "start_time": "2023-03-28T12:09:02.051Z"
   },
   {
    "duration": 41,
    "start_time": "2023-03-28T12:09:02.106Z"
   },
   {
    "duration": 136,
    "start_time": "2023-03-28T12:09:02.149Z"
   },
   {
    "duration": 25,
    "start_time": "2023-03-28T12:09:02.287Z"
   },
   {
    "duration": 114,
    "start_time": "2023-03-28T12:09:02.314Z"
   },
   {
    "duration": 9,
    "start_time": "2023-03-28T12:09:02.430Z"
   },
   {
    "duration": 35,
    "start_time": "2023-03-28T12:09:02.440Z"
   },
   {
    "duration": 35,
    "start_time": "2023-03-28T12:09:02.476Z"
   },
   {
    "duration": 14,
    "start_time": "2023-03-28T12:09:02.513Z"
   },
   {
    "duration": 88,
    "start_time": "2023-03-28T12:09:02.529Z"
   },
   {
    "duration": 38,
    "start_time": "2023-03-28T12:09:02.619Z"
   },
   {
    "duration": 67,
    "start_time": "2023-03-28T12:09:02.659Z"
   },
   {
    "duration": 20,
    "start_time": "2023-03-28T12:09:02.728Z"
   },
   {
    "duration": 28,
    "start_time": "2023-03-28T12:09:02.750Z"
   },
   {
    "duration": 53,
    "start_time": "2023-03-28T12:09:02.780Z"
   },
   {
    "duration": 25,
    "start_time": "2023-03-28T12:09:02.837Z"
   },
   {
    "duration": 53,
    "start_time": "2023-03-28T12:09:02.864Z"
   },
   {
    "duration": 47,
    "start_time": "2023-03-28T12:09:02.919Z"
   },
   {
    "duration": 48,
    "start_time": "2023-03-28T12:09:02.967Z"
   },
   {
    "duration": 33,
    "start_time": "2023-03-28T12:09:03.017Z"
   },
   {
    "duration": 54,
    "start_time": "2023-03-28T12:09:03.052Z"
   },
   {
    "duration": 23485,
    "start_time": "2023-03-28T12:09:03.107Z"
   },
   {
    "duration": 320,
    "start_time": "2023-03-28T12:09:26.594Z"
   },
   {
    "duration": 3868,
    "start_time": "2023-03-28T12:09:26.916Z"
   },
   {
    "duration": 6,
    "start_time": "2023-03-28T12:09:30.786Z"
   },
   {
    "duration": 68,
    "start_time": "2023-03-28T12:09:30.794Z"
   },
   {
    "duration": 35,
    "start_time": "2023-03-28T12:09:30.864Z"
   },
   {
    "duration": 37,
    "start_time": "2023-03-28T12:09:30.901Z"
   },
   {
    "duration": 35,
    "start_time": "2023-03-28T12:09:30.939Z"
   },
   {
    "duration": 35,
    "start_time": "2023-03-28T12:09:30.976Z"
   },
   {
    "duration": 314,
    "start_time": "2023-03-28T12:09:31.013Z"
   },
   {
    "duration": 7,
    "start_time": "2023-03-28T12:09:31.329Z"
   },
   {
    "duration": 192,
    "start_time": "2023-03-28T12:09:31.338Z"
   },
   {
    "duration": 203,
    "start_time": "2023-03-28T12:09:53.792Z"
   },
   {
    "duration": 149,
    "start_time": "2023-03-28T12:10:35.260Z"
   },
   {
    "duration": 139,
    "start_time": "2023-03-28T12:11:50.860Z"
   },
   {
    "duration": 110,
    "start_time": "2023-03-28T12:11:51.001Z"
   },
   {
    "duration": 151,
    "start_time": "2023-03-28T12:12:02.374Z"
   },
   {
    "duration": 231,
    "start_time": "2023-03-28T12:15:04.429Z"
   },
   {
    "duration": 171,
    "start_time": "2023-03-28T12:15:39.719Z"
   },
   {
    "duration": 169,
    "start_time": "2023-03-28T12:15:46.664Z"
   },
   {
    "duration": 156,
    "start_time": "2023-03-28T12:16:11.219Z"
   },
   {
    "duration": 1478,
    "start_time": "2023-03-28T12:29:33.988Z"
   },
   {
    "duration": 701,
    "start_time": "2023-03-28T12:29:35.469Z"
   },
   {
    "duration": 26,
    "start_time": "2023-03-28T12:29:36.172Z"
   },
   {
    "duration": 21,
    "start_time": "2023-03-28T12:29:36.200Z"
   },
   {
    "duration": 33,
    "start_time": "2023-03-28T12:29:36.222Z"
   },
   {
    "duration": 17,
    "start_time": "2023-03-28T12:29:36.257Z"
   },
   {
    "duration": 16,
    "start_time": "2023-03-28T12:29:36.276Z"
   },
   {
    "duration": 27,
    "start_time": "2023-03-28T12:29:36.293Z"
   },
   {
    "duration": 13,
    "start_time": "2023-03-28T12:29:36.322Z"
   },
   {
    "duration": 27,
    "start_time": "2023-03-28T12:29:36.337Z"
   },
   {
    "duration": 37,
    "start_time": "2023-03-28T12:29:36.366Z"
   },
   {
    "duration": 33,
    "start_time": "2023-03-28T12:29:36.405Z"
   },
   {
    "duration": 34,
    "start_time": "2023-03-28T12:29:36.440Z"
   },
   {
    "duration": 18,
    "start_time": "2023-03-28T12:29:36.476Z"
   },
   {
    "duration": 122,
    "start_time": "2023-03-28T12:29:36.496Z"
   },
   {
    "duration": 22,
    "start_time": "2023-03-28T12:29:36.619Z"
   },
   {
    "duration": 117,
    "start_time": "2023-03-28T12:29:36.642Z"
   },
   {
    "duration": 8,
    "start_time": "2023-03-28T12:29:36.761Z"
   },
   {
    "duration": 16,
    "start_time": "2023-03-28T12:29:36.772Z"
   },
   {
    "duration": 13,
    "start_time": "2023-03-28T12:29:36.789Z"
   },
   {
    "duration": 4,
    "start_time": "2023-03-28T12:29:36.804Z"
   },
   {
    "duration": 15,
    "start_time": "2023-03-28T12:29:36.810Z"
   },
   {
    "duration": 17,
    "start_time": "2023-03-28T12:29:36.827Z"
   },
   {
    "duration": 11,
    "start_time": "2023-03-28T12:29:36.846Z"
   },
   {
    "duration": 15,
    "start_time": "2023-03-28T12:29:36.859Z"
   },
   {
    "duration": 14,
    "start_time": "2023-03-28T12:29:36.876Z"
   },
   {
    "duration": 23,
    "start_time": "2023-03-28T12:29:36.891Z"
   },
   {
    "duration": 6,
    "start_time": "2023-03-28T12:29:36.918Z"
   },
   {
    "duration": 15,
    "start_time": "2023-03-28T12:29:36.926Z"
   },
   {
    "duration": 20,
    "start_time": "2023-03-28T12:29:36.942Z"
   },
   {
    "duration": 26,
    "start_time": "2023-03-28T12:29:36.963Z"
   },
   {
    "duration": 23,
    "start_time": "2023-03-28T12:29:36.991Z"
   },
   {
    "duration": 21,
    "start_time": "2023-03-28T12:29:37.016Z"
   },
   {
    "duration": 16107,
    "start_time": "2023-03-28T12:29:37.039Z"
   },
   {
    "duration": 271,
    "start_time": "2023-03-28T12:29:53.148Z"
   },
   {
    "duration": 3740,
    "start_time": "2023-03-28T12:29:53.420Z"
   },
   {
    "duration": 6,
    "start_time": "2023-03-28T12:29:57.161Z"
   },
   {
    "duration": 23,
    "start_time": "2023-03-28T12:29:57.168Z"
   },
   {
    "duration": 11,
    "start_time": "2023-03-28T12:29:57.193Z"
   },
   {
    "duration": 17,
    "start_time": "2023-03-28T12:29:57.206Z"
   },
   {
    "duration": 11,
    "start_time": "2023-03-28T12:29:57.224Z"
   },
   {
    "duration": 9,
    "start_time": "2023-03-28T12:29:57.237Z"
   },
   {
    "duration": 234,
    "start_time": "2023-03-28T12:29:57.247Z"
   },
   {
    "duration": 6,
    "start_time": "2023-03-28T12:29:57.484Z"
   },
   {
    "duration": 161,
    "start_time": "2023-03-28T12:29:57.491Z"
   },
   {
    "duration": 243,
    "start_time": "2023-03-28T12:29:57.654Z"
   },
   {
    "duration": 6,
    "start_time": "2023-03-28T12:29:57.899Z"
   },
   {
    "duration": 8,
    "start_time": "2023-03-28T12:30:58.928Z"
   },
   {
    "duration": 9,
    "start_time": "2023-03-28T12:31:21.940Z"
   },
   {
    "duration": 101,
    "start_time": "2023-03-28T12:32:57.026Z"
   },
   {
    "duration": 72,
    "start_time": "2023-03-28T12:33:05.417Z"
   },
   {
    "duration": 115,
    "start_time": "2023-03-28T12:34:29.053Z"
   },
   {
    "duration": 12,
    "start_time": "2023-03-28T12:35:09.968Z"
   },
   {
    "duration": 4,
    "start_time": "2023-03-28T12:35:45.118Z"
   },
   {
    "duration": 7,
    "start_time": "2023-03-28T12:35:45.234Z"
   },
   {
    "duration": 7,
    "start_time": "2023-03-28T12:35:57.767Z"
   },
   {
    "duration": 15,
    "start_time": "2023-03-28T12:38:12.977Z"
   },
   {
    "duration": 5,
    "start_time": "2023-03-28T12:39:17.156Z"
   },
   {
    "duration": 6,
    "start_time": "2023-03-28T12:39:17.775Z"
   },
   {
    "duration": 1442,
    "start_time": "2023-03-28T12:46:09.906Z"
   },
   {
    "duration": 741,
    "start_time": "2023-03-28T12:46:11.350Z"
   },
   {
    "duration": 25,
    "start_time": "2023-03-28T12:46:12.092Z"
   },
   {
    "duration": 41,
    "start_time": "2023-03-28T12:46:12.119Z"
   },
   {
    "duration": 34,
    "start_time": "2023-03-28T12:46:12.162Z"
   },
   {
    "duration": 27,
    "start_time": "2023-03-28T12:46:12.198Z"
   },
   {
    "duration": 52,
    "start_time": "2023-03-28T12:46:12.226Z"
   },
   {
    "duration": 32,
    "start_time": "2023-03-28T12:46:12.279Z"
   },
   {
    "duration": 21,
    "start_time": "2023-03-28T12:46:12.314Z"
   },
   {
    "duration": 35,
    "start_time": "2023-03-28T12:46:12.338Z"
   },
   {
    "duration": 24,
    "start_time": "2023-03-28T12:46:12.375Z"
   },
   {
    "duration": 42,
    "start_time": "2023-03-28T12:46:12.401Z"
   },
   {
    "duration": 22,
    "start_time": "2023-03-28T12:46:12.445Z"
   },
   {
    "duration": 34,
    "start_time": "2023-03-28T12:46:12.468Z"
   },
   {
    "duration": 130,
    "start_time": "2023-03-28T12:46:12.504Z"
   },
   {
    "duration": 22,
    "start_time": "2023-03-28T12:46:12.636Z"
   },
   {
    "duration": 110,
    "start_time": "2023-03-28T12:46:12.660Z"
   },
   {
    "duration": 16,
    "start_time": "2023-03-28T12:46:12.772Z"
   },
   {
    "duration": 59,
    "start_time": "2023-03-28T12:46:12.789Z"
   },
   {
    "duration": 31,
    "start_time": "2023-03-28T12:46:12.851Z"
   },
   {
    "duration": 18,
    "start_time": "2023-03-28T12:46:12.884Z"
   },
   {
    "duration": 28,
    "start_time": "2023-03-28T12:46:12.903Z"
   },
   {
    "duration": 49,
    "start_time": "2023-03-28T12:46:12.933Z"
   },
   {
    "duration": 26,
    "start_time": "2023-03-28T12:46:12.984Z"
   },
   {
    "duration": 51,
    "start_time": "2023-03-28T12:46:13.012Z"
   },
   {
    "duration": 27,
    "start_time": "2023-03-28T12:46:13.065Z"
   },
   {
    "duration": 31,
    "start_time": "2023-03-28T12:46:13.094Z"
   },
   {
    "duration": 45,
    "start_time": "2023-03-28T12:46:13.130Z"
   },
   {
    "duration": 49,
    "start_time": "2023-03-28T12:46:13.176Z"
   },
   {
    "duration": 47,
    "start_time": "2023-03-28T12:46:13.227Z"
   },
   {
    "duration": 93,
    "start_time": "2023-03-28T12:46:13.276Z"
   },
   {
    "duration": 60,
    "start_time": "2023-03-28T12:46:13.371Z"
   },
   {
    "duration": 43,
    "start_time": "2023-03-28T12:46:13.432Z"
   },
   {
    "duration": 16501,
    "start_time": "2023-03-28T12:46:13.476Z"
   },
   {
    "duration": 240,
    "start_time": "2023-03-28T12:46:29.979Z"
   },
   {
    "duration": 3804,
    "start_time": "2023-03-28T12:46:30.221Z"
   },
   {
    "duration": 6,
    "start_time": "2023-03-28T12:46:34.027Z"
   },
   {
    "duration": 20,
    "start_time": "2023-03-28T12:46:34.034Z"
   },
   {
    "duration": 7,
    "start_time": "2023-03-28T12:46:34.055Z"
   },
   {
    "duration": 22,
    "start_time": "2023-03-28T12:46:34.064Z"
   },
   {
    "duration": 12,
    "start_time": "2023-03-28T12:46:34.088Z"
   },
   {
    "duration": 21,
    "start_time": "2023-03-28T12:46:34.101Z"
   },
   {
    "duration": 247,
    "start_time": "2023-03-28T12:46:34.123Z"
   },
   {
    "duration": 6,
    "start_time": "2023-03-28T12:46:34.372Z"
   },
   {
    "duration": 168,
    "start_time": "2023-03-28T12:46:34.382Z"
   },
   {
    "duration": 246,
    "start_time": "2023-03-28T12:46:34.552Z"
   },
   {
    "duration": 7,
    "start_time": "2023-03-28T12:46:34.800Z"
   },
   {
    "duration": 6,
    "start_time": "2023-03-28T12:46:34.809Z"
   },
   {
    "duration": 19,
    "start_time": "2023-03-28T12:46:34.817Z"
   },
   {
    "duration": 7,
    "start_time": "2023-03-28T12:46:34.839Z"
   },
   {
    "duration": 19,
    "start_time": "2023-03-28T12:46:34.849Z"
   },
   {
    "duration": 26,
    "start_time": "2023-03-28T12:46:34.869Z"
   },
   {
    "duration": 18,
    "start_time": "2023-03-28T12:46:34.897Z"
   },
   {
    "duration": 684,
    "start_time": "2023-03-28T12:50:08.616Z"
   },
   {
    "duration": 3,
    "start_time": "2023-03-28T12:50:44.406Z"
   },
   {
    "duration": 7,
    "start_time": "2023-03-28T12:50:44.516Z"
   },
   {
    "duration": 8,
    "start_time": "2023-03-28T12:50:44.678Z"
   },
   {
    "duration": 11,
    "start_time": "2023-03-28T12:50:46.591Z"
   },
   {
    "duration": 13,
    "start_time": "2023-03-28T12:50:46.729Z"
   },
   {
    "duration": 11,
    "start_time": "2023-03-28T12:50:46.952Z"
   },
   {
    "duration": 757,
    "start_time": "2023-03-28T12:50:47.094Z"
   },
   {
    "duration": 258,
    "start_time": "2023-03-28T12:51:17.256Z"
   },
   {
    "duration": 865,
    "start_time": "2023-03-28T12:56:11.088Z"
   },
   {
    "duration": 284,
    "start_time": "2023-03-28T12:57:10.539Z"
   },
   {
    "duration": 146,
    "start_time": "2023-03-28T12:57:26.006Z"
   },
   {
    "duration": 839,
    "start_time": "2023-03-28T13:00:11.542Z"
   },
   {
    "duration": 153,
    "start_time": "2023-03-28T13:03:44.672Z"
   },
   {
    "duration": 1378,
    "start_time": "2023-03-28T13:04:28.036Z"
   },
   {
    "duration": 793,
    "start_time": "2023-03-28T13:04:29.416Z"
   },
   {
    "duration": 26,
    "start_time": "2023-03-28T13:04:30.211Z"
   },
   {
    "duration": 137,
    "start_time": "2023-03-28T13:04:30.239Z"
   },
   {
    "duration": 194,
    "start_time": "2023-03-28T13:04:30.377Z"
   },
   {
    "duration": 84,
    "start_time": "2023-03-28T13:04:30.573Z"
   },
   {
    "duration": 40,
    "start_time": "2023-03-28T13:04:30.659Z"
   },
   {
    "duration": 78,
    "start_time": "2023-03-28T13:04:30.701Z"
   },
   {
    "duration": 133,
    "start_time": "2023-03-28T13:04:30.781Z"
   },
   {
    "duration": 91,
    "start_time": "2023-03-28T13:04:30.917Z"
   },
   {
    "duration": 38,
    "start_time": "2023-03-28T13:04:31.010Z"
   },
   {
    "duration": 49,
    "start_time": "2023-03-28T13:04:31.049Z"
   },
   {
    "duration": 46,
    "start_time": "2023-03-28T13:04:31.100Z"
   },
   {
    "duration": 54,
    "start_time": "2023-03-28T13:04:31.148Z"
   },
   {
    "duration": 155,
    "start_time": "2023-03-28T13:04:31.204Z"
   },
   {
    "duration": 31,
    "start_time": "2023-03-28T13:04:31.361Z"
   },
   {
    "duration": 168,
    "start_time": "2023-03-28T13:04:31.394Z"
   },
   {
    "duration": 20,
    "start_time": "2023-03-28T13:04:31.564Z"
   },
   {
    "duration": 20,
    "start_time": "2023-03-28T13:04:31.586Z"
   },
   {
    "duration": 46,
    "start_time": "2023-03-28T13:04:31.607Z"
   },
   {
    "duration": 22,
    "start_time": "2023-03-28T13:04:31.654Z"
   },
   {
    "duration": 38,
    "start_time": "2023-03-28T13:04:31.678Z"
   },
   {
    "duration": 51,
    "start_time": "2023-03-28T13:04:31.718Z"
   },
   {
    "duration": 36,
    "start_time": "2023-03-28T13:04:31.771Z"
   },
   {
    "duration": 36,
    "start_time": "2023-03-28T13:04:31.808Z"
   },
   {
    "duration": 36,
    "start_time": "2023-03-28T13:04:31.846Z"
   },
   {
    "duration": 88,
    "start_time": "2023-03-28T13:04:31.884Z"
   },
   {
    "duration": 25,
    "start_time": "2023-03-28T13:04:31.975Z"
   },
   {
    "duration": 32,
    "start_time": "2023-03-28T13:04:32.002Z"
   },
   {
    "duration": 37,
    "start_time": "2023-03-28T13:04:32.037Z"
   },
   {
    "duration": 49,
    "start_time": "2023-03-28T13:04:32.076Z"
   },
   {
    "duration": 55,
    "start_time": "2023-03-28T13:04:32.127Z"
   },
   {
    "duration": 54,
    "start_time": "2023-03-28T13:04:32.184Z"
   },
   {
    "duration": 20706,
    "start_time": "2023-03-28T13:04:32.239Z"
   },
   {
    "duration": 273,
    "start_time": "2023-03-28T13:04:52.946Z"
   },
   {
    "duration": 3791,
    "start_time": "2023-03-28T13:04:53.221Z"
   },
   {
    "duration": 6,
    "start_time": "2023-03-28T13:04:57.013Z"
   },
   {
    "duration": 11,
    "start_time": "2023-03-28T13:04:57.020Z"
   },
   {
    "duration": 20,
    "start_time": "2023-03-28T13:04:57.033Z"
   },
   {
    "duration": 36,
    "start_time": "2023-03-28T13:04:57.055Z"
   },
   {
    "duration": 28,
    "start_time": "2023-03-28T13:04:57.093Z"
   },
   {
    "duration": 23,
    "start_time": "2023-03-28T13:04:57.123Z"
   },
   {
    "duration": 274,
    "start_time": "2023-03-28T13:04:57.148Z"
   },
   {
    "duration": 6,
    "start_time": "2023-03-28T13:04:57.424Z"
   },
   {
    "duration": 175,
    "start_time": "2023-03-28T13:04:57.431Z"
   },
   {
    "duration": 251,
    "start_time": "2023-03-28T13:04:57.608Z"
   },
   {
    "duration": 4,
    "start_time": "2023-03-28T13:04:57.861Z"
   },
   {
    "duration": 13,
    "start_time": "2023-03-28T13:04:57.867Z"
   },
   {
    "duration": 40,
    "start_time": "2023-03-28T13:04:57.882Z"
   },
   {
    "duration": 7,
    "start_time": "2023-03-28T13:04:57.924Z"
   },
   {
    "duration": 16,
    "start_time": "2023-03-28T13:04:57.932Z"
   },
   {
    "duration": 14,
    "start_time": "2023-03-28T13:04:57.950Z"
   },
   {
    "duration": 27,
    "start_time": "2023-03-28T13:04:57.965Z"
   },
   {
    "duration": 590,
    "start_time": "2023-03-28T13:04:57.994Z"
   },
   {
    "duration": 570,
    "start_time": "2023-03-28T13:07:24.029Z"
   },
   {
    "duration": 556,
    "start_time": "2023-03-28T13:07:58.849Z"
   },
   {
    "duration": 725,
    "start_time": "2023-03-28T13:08:10.935Z"
   },
   {
    "duration": 657,
    "start_time": "2023-03-28T13:08:34.550Z"
   },
   {
    "duration": 563,
    "start_time": "2023-03-28T13:08:42.484Z"
   },
   {
    "duration": 562,
    "start_time": "2023-03-28T13:08:53.732Z"
   },
   {
    "duration": 749,
    "start_time": "2023-03-28T13:09:18.614Z"
   },
   {
    "duration": 641,
    "start_time": "2023-03-28T13:11:59.502Z"
   },
   {
    "duration": 56,
    "start_time": "2023-03-28T18:37:32.199Z"
   },
   {
    "duration": 1624,
    "start_time": "2023-03-28T18:37:37.363Z"
   },
   {
    "duration": 3034,
    "start_time": "2023-03-28T18:37:38.989Z"
   },
   {
    "duration": 24,
    "start_time": "2023-03-28T18:37:42.024Z"
   },
   {
    "duration": 19,
    "start_time": "2023-03-28T18:37:42.049Z"
   },
   {
    "duration": 20,
    "start_time": "2023-03-28T18:37:42.071Z"
   },
   {
    "duration": 5,
    "start_time": "2023-03-28T18:37:42.093Z"
   },
   {
    "duration": 5,
    "start_time": "2023-03-28T18:37:42.100Z"
   },
   {
    "duration": 34,
    "start_time": "2023-03-28T18:37:42.106Z"
   },
   {
    "duration": 7,
    "start_time": "2023-03-28T18:37:42.141Z"
   },
   {
    "duration": 6,
    "start_time": "2023-03-28T18:37:42.151Z"
   },
   {
    "duration": 7,
    "start_time": "2023-03-28T18:37:42.158Z"
   },
   {
    "duration": 26,
    "start_time": "2023-03-28T18:37:42.167Z"
   },
   {
    "duration": 11,
    "start_time": "2023-03-28T18:37:42.194Z"
   },
   {
    "duration": 17,
    "start_time": "2023-03-28T18:37:42.234Z"
   },
   {
    "duration": 129,
    "start_time": "2023-03-28T18:37:42.253Z"
   },
   {
    "duration": 20,
    "start_time": "2023-03-28T18:37:42.384Z"
   },
   {
    "duration": 104,
    "start_time": "2023-03-28T18:37:42.405Z"
   },
   {
    "duration": 9,
    "start_time": "2023-03-28T18:37:42.511Z"
   },
   {
    "duration": 31,
    "start_time": "2023-03-28T18:37:42.521Z"
   },
   {
    "duration": 14,
    "start_time": "2023-03-28T18:37:42.553Z"
   },
   {
    "duration": 4,
    "start_time": "2023-03-28T18:37:42.569Z"
   },
   {
    "duration": 11,
    "start_time": "2023-03-28T18:37:42.574Z"
   },
   {
    "duration": 17,
    "start_time": "2023-03-28T18:37:42.586Z"
   },
   {
    "duration": 24,
    "start_time": "2023-03-28T18:37:42.604Z"
   },
   {
    "duration": 17,
    "start_time": "2023-03-28T18:37:42.630Z"
   },
   {
    "duration": 30,
    "start_time": "2023-03-28T18:37:42.648Z"
   },
   {
    "duration": 19,
    "start_time": "2023-03-28T18:37:42.679Z"
   },
   {
    "duration": 8,
    "start_time": "2023-03-28T18:37:42.699Z"
   },
   {
    "duration": 21,
    "start_time": "2023-03-28T18:37:42.709Z"
   },
   {
    "duration": 26,
    "start_time": "2023-03-28T18:37:42.732Z"
   },
   {
    "duration": 20,
    "start_time": "2023-03-28T18:37:42.759Z"
   },
   {
    "duration": 19,
    "start_time": "2023-03-28T18:37:42.780Z"
   },
   {
    "duration": 17,
    "start_time": "2023-03-28T18:37:42.801Z"
   },
   {
    "duration": 21389,
    "start_time": "2023-03-28T18:37:42.820Z"
   },
   {
    "duration": 261,
    "start_time": "2023-03-28T18:38:04.211Z"
   },
   {
    "duration": 3748,
    "start_time": "2023-03-28T18:38:04.474Z"
   },
   {
    "duration": 11,
    "start_time": "2023-03-28T18:38:08.224Z"
   },
   {
    "duration": 7,
    "start_time": "2023-03-28T18:38:08.236Z"
   },
   {
    "duration": 6,
    "start_time": "2023-03-28T18:38:08.244Z"
   },
   {
    "duration": 13,
    "start_time": "2023-03-28T18:38:08.252Z"
   },
   {
    "duration": 7,
    "start_time": "2023-03-28T18:38:08.269Z"
   },
   {
    "duration": 8,
    "start_time": "2023-03-28T18:38:08.277Z"
   },
   {
    "duration": 301,
    "start_time": "2023-03-28T18:38:08.287Z"
   },
   {
    "duration": 7,
    "start_time": "2023-03-28T18:38:08.590Z"
   },
   {
    "duration": 171,
    "start_time": "2023-03-28T18:38:08.598Z"
   },
   {
    "duration": 248,
    "start_time": "2023-03-28T18:38:08.771Z"
   },
   {
    "duration": 4,
    "start_time": "2023-03-28T18:38:09.020Z"
   },
   {
    "duration": 10,
    "start_time": "2023-03-28T18:38:09.026Z"
   },
   {
    "duration": 11,
    "start_time": "2023-03-28T18:38:09.037Z"
   },
   {
    "duration": 10,
    "start_time": "2023-03-28T18:38:09.049Z"
   },
   {
    "duration": 13,
    "start_time": "2023-03-28T18:38:09.060Z"
   },
   {
    "duration": 13,
    "start_time": "2023-03-28T18:38:09.074Z"
   },
   {
    "duration": 10,
    "start_time": "2023-03-28T18:38:09.088Z"
   },
   {
    "duration": 580,
    "start_time": "2023-03-28T18:38:09.099Z"
   },
   {
    "duration": 1543,
    "start_time": "2023-03-28T18:50:09.439Z"
   },
   {
    "duration": 796,
    "start_time": "2023-03-28T18:50:10.985Z"
   },
   {
    "duration": 29,
    "start_time": "2023-03-28T18:50:11.783Z"
   },
   {
    "duration": 45,
    "start_time": "2023-03-28T18:50:11.814Z"
   },
   {
    "duration": 22,
    "start_time": "2023-03-28T18:50:11.863Z"
   },
   {
    "duration": 8,
    "start_time": "2023-03-28T18:50:11.886Z"
   },
   {
    "duration": 14,
    "start_time": "2023-03-28T18:50:11.895Z"
   },
   {
    "duration": 8,
    "start_time": "2023-03-28T18:50:11.911Z"
   },
   {
    "duration": 17,
    "start_time": "2023-03-28T18:50:11.933Z"
   },
   {
    "duration": 15,
    "start_time": "2023-03-28T18:50:11.955Z"
   },
   {
    "duration": 7,
    "start_time": "2023-03-28T18:50:11.971Z"
   },
   {
    "duration": 22,
    "start_time": "2023-03-28T18:50:11.979Z"
   },
   {
    "duration": 19,
    "start_time": "2023-03-28T18:50:12.003Z"
   },
   {
    "duration": 32,
    "start_time": "2023-03-28T18:50:12.035Z"
   },
   {
    "duration": 142,
    "start_time": "2023-03-28T18:50:12.068Z"
   },
   {
    "duration": 35,
    "start_time": "2023-03-28T18:50:12.212Z"
   },
   {
    "duration": 119,
    "start_time": "2023-03-28T18:50:12.249Z"
   },
   {
    "duration": 8,
    "start_time": "2023-03-28T18:50:12.369Z"
   },
   {
    "duration": 6,
    "start_time": "2023-03-28T18:50:12.378Z"
   },
   {
    "duration": 9,
    "start_time": "2023-03-28T18:50:12.385Z"
   },
   {
    "duration": 3,
    "start_time": "2023-03-28T18:50:12.396Z"
   },
   {
    "duration": 34,
    "start_time": "2023-03-28T18:50:12.401Z"
   },
   {
    "duration": 8,
    "start_time": "2023-03-28T18:50:12.437Z"
   },
   {
    "duration": 12,
    "start_time": "2023-03-28T18:50:12.447Z"
   },
   {
    "duration": 6,
    "start_time": "2023-03-28T18:50:12.461Z"
   },
   {
    "duration": 11,
    "start_time": "2023-03-28T18:50:12.468Z"
   },
   {
    "duration": 13,
    "start_time": "2023-03-28T18:50:12.480Z"
   },
   {
    "duration": 8,
    "start_time": "2023-03-28T18:50:12.495Z"
   },
   {
    "duration": 13,
    "start_time": "2023-03-28T18:50:12.505Z"
   },
   {
    "duration": 28,
    "start_time": "2023-03-28T18:50:12.520Z"
   },
   {
    "duration": 26,
    "start_time": "2023-03-28T18:50:12.550Z"
   },
   {
    "duration": 19,
    "start_time": "2023-03-28T18:50:12.578Z"
   },
   {
    "duration": 19,
    "start_time": "2023-03-28T18:50:12.598Z"
   },
   {
    "duration": 29466,
    "start_time": "2023-03-28T18:50:12.619Z"
   },
   {
    "duration": 289,
    "start_time": "2023-03-28T18:50:42.087Z"
   },
   {
    "duration": 4132,
    "start_time": "2023-03-28T18:50:42.378Z"
   },
   {
    "duration": 6,
    "start_time": "2023-03-28T18:50:46.511Z"
   },
   {
    "duration": 19,
    "start_time": "2023-03-28T18:50:46.518Z"
   },
   {
    "duration": 21,
    "start_time": "2023-03-28T18:50:46.539Z"
   },
   {
    "duration": 30,
    "start_time": "2023-03-28T18:50:46.561Z"
   },
   {
    "duration": 11,
    "start_time": "2023-03-28T18:50:46.595Z"
   },
   {
    "duration": 9,
    "start_time": "2023-03-28T18:50:46.608Z"
   },
   {
    "duration": 288,
    "start_time": "2023-03-28T18:50:46.619Z"
   },
   {
    "duration": 7,
    "start_time": "2023-03-28T18:50:46.908Z"
   },
   {
    "duration": 172,
    "start_time": "2023-03-28T18:50:46.917Z"
   },
   {
    "duration": 265,
    "start_time": "2023-03-28T18:50:47.091Z"
   },
   {
    "duration": 7,
    "start_time": "2023-03-28T18:50:47.358Z"
   },
   {
    "duration": 12,
    "start_time": "2023-03-28T18:50:47.369Z"
   },
   {
    "duration": 22,
    "start_time": "2023-03-28T18:50:47.382Z"
   },
   {
    "duration": 9,
    "start_time": "2023-03-28T18:50:47.405Z"
   },
   {
    "duration": 29,
    "start_time": "2023-03-28T18:50:47.415Z"
   },
   {
    "duration": 24,
    "start_time": "2023-03-28T18:50:47.451Z"
   },
   {
    "duration": 17,
    "start_time": "2023-03-28T18:50:47.477Z"
   },
   {
    "duration": 757,
    "start_time": "2023-03-28T18:50:47.496Z"
   },
   {
    "duration": 63,
    "start_time": "2023-03-28T18:50:48.258Z"
   },
   {
    "duration": 649,
    "start_time": "2023-03-28T18:51:16.561Z"
   },
   {
    "duration": 794,
    "start_time": "2023-03-28T18:51:27.427Z"
   },
   {
    "duration": 738,
    "start_time": "2023-03-28T18:51:35.458Z"
   },
   {
    "duration": 562,
    "start_time": "2023-03-28T18:52:39.546Z"
   },
   {
    "duration": 144,
    "start_time": "2023-03-28T18:54:19.367Z"
   },
   {
    "duration": 820,
    "start_time": "2023-03-28T18:54:27.762Z"
   },
   {
    "duration": 625,
    "start_time": "2023-03-28T18:54:40.360Z"
   },
   {
    "duration": 627,
    "start_time": "2023-03-28T18:55:27.027Z"
   },
   {
    "duration": 827,
    "start_time": "2023-03-28T18:55:34.332Z"
   },
   {
    "duration": 894,
    "start_time": "2023-03-28T18:55:39.084Z"
   },
   {
    "duration": 1037,
    "start_time": "2023-03-28T18:55:52.740Z"
   },
   {
    "duration": 1312,
    "start_time": "2023-03-28T18:56:54.100Z"
   },
   {
    "duration": 1134,
    "start_time": "2023-03-28T18:57:00.747Z"
   },
   {
    "duration": 1170,
    "start_time": "2023-03-28T18:57:15.533Z"
   },
   {
    "duration": 108,
    "start_time": "2023-03-28T19:00:06.828Z"
   },
   {
    "duration": 1417,
    "start_time": "2023-03-28T19:04:49.754Z"
   },
   {
    "duration": 668,
    "start_time": "2023-03-28T19:04:51.173Z"
   },
   {
    "duration": 24,
    "start_time": "2023-03-28T19:04:51.843Z"
   },
   {
    "duration": 43,
    "start_time": "2023-03-28T19:04:51.869Z"
   },
   {
    "duration": 30,
    "start_time": "2023-03-28T19:04:51.915Z"
   },
   {
    "duration": 32,
    "start_time": "2023-03-28T19:04:51.947Z"
   },
   {
    "duration": 18,
    "start_time": "2023-03-28T19:04:51.981Z"
   },
   {
    "duration": 21,
    "start_time": "2023-03-28T19:04:52.001Z"
   },
   {
    "duration": 14,
    "start_time": "2023-03-28T19:04:52.024Z"
   },
   {
    "duration": 22,
    "start_time": "2023-03-28T19:04:52.041Z"
   },
   {
    "duration": 41,
    "start_time": "2023-03-28T19:04:52.065Z"
   },
   {
    "duration": 77,
    "start_time": "2023-03-28T19:04:52.108Z"
   },
   {
    "duration": 25,
    "start_time": "2023-03-28T19:04:52.187Z"
   },
   {
    "duration": 34,
    "start_time": "2023-03-28T19:04:52.215Z"
   },
   {
    "duration": 123,
    "start_time": "2023-03-28T19:04:52.251Z"
   },
   {
    "duration": 19,
    "start_time": "2023-03-28T19:04:52.376Z"
   },
   {
    "duration": 116,
    "start_time": "2023-03-28T19:04:52.396Z"
   },
   {
    "duration": 8,
    "start_time": "2023-03-28T19:04:52.513Z"
   },
   {
    "duration": 28,
    "start_time": "2023-03-28T19:04:52.523Z"
   },
   {
    "duration": 36,
    "start_time": "2023-03-28T19:04:52.553Z"
   },
   {
    "duration": 7,
    "start_time": "2023-03-28T19:04:52.590Z"
   },
   {
    "duration": 31,
    "start_time": "2023-03-28T19:04:52.599Z"
   },
   {
    "duration": 11,
    "start_time": "2023-03-28T19:04:52.631Z"
   },
   {
    "duration": 8,
    "start_time": "2023-03-28T19:04:52.644Z"
   },
   {
    "duration": 30,
    "start_time": "2023-03-28T19:04:52.653Z"
   },
   {
    "duration": 32,
    "start_time": "2023-03-28T19:04:52.685Z"
   },
   {
    "duration": 67,
    "start_time": "2023-03-28T19:04:52.718Z"
   },
   {
    "duration": 27,
    "start_time": "2023-03-28T19:04:52.787Z"
   },
   {
    "duration": 20,
    "start_time": "2023-03-28T19:04:52.816Z"
   },
   {
    "duration": 54,
    "start_time": "2023-03-28T19:04:52.838Z"
   },
   {
    "duration": 39,
    "start_time": "2023-03-28T19:04:52.894Z"
   },
   {
    "duration": 29,
    "start_time": "2023-03-28T19:04:52.934Z"
   },
   {
    "duration": 21,
    "start_time": "2023-03-28T19:04:52.965Z"
   },
   {
    "duration": 22807,
    "start_time": "2023-03-28T19:04:52.988Z"
   },
   {
    "duration": 369,
    "start_time": "2023-03-28T19:05:15.797Z"
   },
   {
    "duration": 3696,
    "start_time": "2023-03-28T19:05:16.167Z"
   },
   {
    "duration": 7,
    "start_time": "2023-03-28T19:05:19.864Z"
   },
   {
    "duration": 16,
    "start_time": "2023-03-28T19:05:19.873Z"
   },
   {
    "duration": 7,
    "start_time": "2023-03-28T19:05:19.891Z"
   },
   {
    "duration": 35,
    "start_time": "2023-03-28T19:05:19.900Z"
   },
   {
    "duration": 10,
    "start_time": "2023-03-28T19:05:19.941Z"
   },
   {
    "duration": 11,
    "start_time": "2023-03-28T19:05:19.953Z"
   },
   {
    "duration": 279,
    "start_time": "2023-03-28T19:05:19.966Z"
   },
   {
    "duration": 5,
    "start_time": "2023-03-28T19:05:20.247Z"
   },
   {
    "duration": 157,
    "start_time": "2023-03-28T19:05:20.254Z"
   },
   {
    "duration": 238,
    "start_time": "2023-03-28T19:05:20.413Z"
   },
   {
    "duration": 4,
    "start_time": "2023-03-28T19:05:20.653Z"
   },
   {
    "duration": 10,
    "start_time": "2023-03-28T19:05:20.659Z"
   },
   {
    "duration": 9,
    "start_time": "2023-03-28T19:05:20.671Z"
   },
   {
    "duration": 11,
    "start_time": "2023-03-28T19:05:20.682Z"
   },
   {
    "duration": 14,
    "start_time": "2023-03-28T19:05:20.695Z"
   },
   {
    "duration": 12,
    "start_time": "2023-03-28T19:05:20.734Z"
   },
   {
    "duration": 16,
    "start_time": "2023-03-28T19:05:20.748Z"
   },
   {
    "duration": 973,
    "start_time": "2023-03-28T19:05:20.766Z"
   },
   {
    "duration": 86,
    "start_time": "2023-03-28T19:05:21.741Z"
   },
   {
    "duration": 139,
    "start_time": "2023-03-28T19:07:30.830Z"
   },
   {
    "duration": 1389,
    "start_time": "2023-03-28T19:11:08.415Z"
   },
   {
    "duration": 676,
    "start_time": "2023-03-28T19:11:09.806Z"
   },
   {
    "duration": 25,
    "start_time": "2023-03-28T19:11:10.483Z"
   },
   {
    "duration": 37,
    "start_time": "2023-03-28T19:11:10.510Z"
   },
   {
    "duration": 32,
    "start_time": "2023-03-28T19:11:10.549Z"
   },
   {
    "duration": 5,
    "start_time": "2023-03-28T19:11:10.582Z"
   },
   {
    "duration": 9,
    "start_time": "2023-03-28T19:11:10.589Z"
   },
   {
    "duration": 9,
    "start_time": "2023-03-28T19:11:10.599Z"
   },
   {
    "duration": 7,
    "start_time": "2023-03-28T19:11:10.609Z"
   },
   {
    "duration": 9,
    "start_time": "2023-03-28T19:11:10.636Z"
   },
   {
    "duration": 16,
    "start_time": "2023-03-28T19:11:10.646Z"
   },
   {
    "duration": 19,
    "start_time": "2023-03-28T19:11:10.664Z"
   },
   {
    "duration": 12,
    "start_time": "2023-03-28T19:11:10.685Z"
   },
   {
    "duration": 19,
    "start_time": "2023-03-28T19:11:10.699Z"
   },
   {
    "duration": 129,
    "start_time": "2023-03-28T19:11:10.720Z"
   },
   {
    "duration": 21,
    "start_time": "2023-03-28T19:11:10.851Z"
   },
   {
    "duration": 104,
    "start_time": "2023-03-28T19:11:10.873Z"
   },
   {
    "duration": 8,
    "start_time": "2023-03-28T19:11:10.978Z"
   },
   {
    "duration": 17,
    "start_time": "2023-03-28T19:11:10.988Z"
   },
   {
    "duration": 28,
    "start_time": "2023-03-28T19:11:11.006Z"
   },
   {
    "duration": 7,
    "start_time": "2023-03-28T19:11:11.037Z"
   },
   {
    "duration": 5,
    "start_time": "2023-03-28T19:11:11.045Z"
   },
   {
    "duration": 5,
    "start_time": "2023-03-28T19:11:11.052Z"
   },
   {
    "duration": 5,
    "start_time": "2023-03-28T19:11:11.059Z"
   },
   {
    "duration": 7,
    "start_time": "2023-03-28T19:11:11.065Z"
   },
   {
    "duration": 12,
    "start_time": "2023-03-28T19:11:11.073Z"
   },
   {
    "duration": 8,
    "start_time": "2023-03-28T19:11:11.086Z"
   },
   {
    "duration": 4,
    "start_time": "2023-03-28T19:11:11.097Z"
   },
   {
    "duration": 9,
    "start_time": "2023-03-28T19:11:11.103Z"
   },
   {
    "duration": 12,
    "start_time": "2023-03-28T19:11:11.135Z"
   },
   {
    "duration": 28,
    "start_time": "2023-03-28T19:11:11.148Z"
   },
   {
    "duration": 14,
    "start_time": "2023-03-28T19:11:11.178Z"
   },
   {
    "duration": 19,
    "start_time": "2023-03-28T19:11:11.193Z"
   },
   {
    "duration": 20567,
    "start_time": "2023-03-28T19:11:11.214Z"
   },
   {
    "duration": 285,
    "start_time": "2023-03-28T19:11:31.783Z"
   },
   {
    "duration": 4009,
    "start_time": "2023-03-28T19:11:32.070Z"
   },
   {
    "duration": 6,
    "start_time": "2023-03-28T19:11:36.081Z"
   },
   {
    "duration": 18,
    "start_time": "2023-03-28T19:11:36.088Z"
   },
   {
    "duration": 20,
    "start_time": "2023-03-28T19:11:36.107Z"
   },
   {
    "duration": 18,
    "start_time": "2023-03-28T19:11:36.129Z"
   },
   {
    "duration": 35,
    "start_time": "2023-03-28T19:11:36.149Z"
   },
   {
    "duration": 18,
    "start_time": "2023-03-28T19:11:36.186Z"
   },
   {
    "duration": 306,
    "start_time": "2023-03-28T19:11:36.207Z"
   },
   {
    "duration": 6,
    "start_time": "2023-03-28T19:11:36.515Z"
   },
   {
    "duration": 147,
    "start_time": "2023-03-28T19:11:36.535Z"
   },
   {
    "duration": 227,
    "start_time": "2023-03-28T19:11:36.683Z"
   },
   {
    "duration": 4,
    "start_time": "2023-03-28T19:11:36.911Z"
   },
   {
    "duration": 21,
    "start_time": "2023-03-28T19:11:36.917Z"
   },
   {
    "duration": 25,
    "start_time": "2023-03-28T19:11:36.939Z"
   },
   {
    "duration": 22,
    "start_time": "2023-03-28T19:11:36.965Z"
   },
   {
    "duration": 10,
    "start_time": "2023-03-28T19:11:36.989Z"
   },
   {
    "duration": 22,
    "start_time": "2023-03-28T19:11:37.000Z"
   },
   {
    "duration": 107,
    "start_time": "2023-03-28T19:11:37.024Z"
   },
   {
    "duration": 0,
    "start_time": "2023-03-28T19:11:37.132Z"
   },
   {
    "duration": 21,
    "start_time": "2023-03-28T19:12:07.143Z"
   },
   {
    "duration": 12,
    "start_time": "2023-03-28T19:12:41.690Z"
   },
   {
    "duration": 13,
    "start_time": "2023-03-28T19:13:17.740Z"
   },
   {
    "duration": 11,
    "start_time": "2023-03-28T19:13:23.684Z"
   },
   {
    "duration": 16,
    "start_time": "2023-03-28T19:13:46.851Z"
   },
   {
    "duration": 1373,
    "start_time": "2023-03-28T19:14:18.640Z"
   },
   {
    "duration": 700,
    "start_time": "2023-03-28T19:14:20.015Z"
   },
   {
    "duration": 32,
    "start_time": "2023-03-28T19:14:20.717Z"
   },
   {
    "duration": 19,
    "start_time": "2023-03-28T19:14:20.752Z"
   },
   {
    "duration": 41,
    "start_time": "2023-03-28T19:14:20.773Z"
   },
   {
    "duration": 4,
    "start_time": "2023-03-28T19:14:20.816Z"
   },
   {
    "duration": 14,
    "start_time": "2023-03-28T19:14:20.822Z"
   },
   {
    "duration": 10,
    "start_time": "2023-03-28T19:14:20.838Z"
   },
   {
    "duration": 6,
    "start_time": "2023-03-28T19:14:20.850Z"
   },
   {
    "duration": 8,
    "start_time": "2023-03-28T19:14:20.858Z"
   },
   {
    "duration": 9,
    "start_time": "2023-03-28T19:14:20.868Z"
   },
   {
    "duration": 27,
    "start_time": "2023-03-28T19:14:20.879Z"
   },
   {
    "duration": 13,
    "start_time": "2023-03-28T19:14:20.935Z"
   },
   {
    "duration": 24,
    "start_time": "2023-03-28T19:14:20.951Z"
   },
   {
    "duration": 140,
    "start_time": "2023-03-28T19:14:20.977Z"
   },
   {
    "duration": 28,
    "start_time": "2023-03-28T19:14:21.118Z"
   },
   {
    "duration": 97,
    "start_time": "2023-03-28T19:14:21.148Z"
   },
   {
    "duration": 8,
    "start_time": "2023-03-28T19:14:21.247Z"
   },
   {
    "duration": 13,
    "start_time": "2023-03-28T19:14:21.256Z"
   },
   {
    "duration": 11,
    "start_time": "2023-03-28T19:14:21.271Z"
   },
   {
    "duration": 7,
    "start_time": "2023-03-28T19:14:21.284Z"
   },
   {
    "duration": 10,
    "start_time": "2023-03-28T19:14:21.293Z"
   },
   {
    "duration": 36,
    "start_time": "2023-03-28T19:14:21.305Z"
   },
   {
    "duration": 6,
    "start_time": "2023-03-28T19:14:21.342Z"
   },
   {
    "duration": 11,
    "start_time": "2023-03-28T19:14:21.350Z"
   },
   {
    "duration": 14,
    "start_time": "2023-03-28T19:14:21.363Z"
   },
   {
    "duration": 10,
    "start_time": "2023-03-28T19:14:21.380Z"
   },
   {
    "duration": 9,
    "start_time": "2023-03-28T19:14:21.395Z"
   },
   {
    "duration": 9,
    "start_time": "2023-03-28T19:14:21.406Z"
   },
   {
    "duration": 37,
    "start_time": "2023-03-28T19:14:21.416Z"
   },
   {
    "duration": 37,
    "start_time": "2023-03-28T19:14:21.455Z"
   },
   {
    "duration": 14,
    "start_time": "2023-03-28T19:14:21.494Z"
   },
   {
    "duration": 21,
    "start_time": "2023-03-28T19:14:21.510Z"
   },
   {
    "duration": 21291,
    "start_time": "2023-03-28T19:14:21.532Z"
   },
   {
    "duration": 249,
    "start_time": "2023-03-28T19:14:42.825Z"
   },
   {
    "duration": 3823,
    "start_time": "2023-03-28T19:14:43.075Z"
   },
   {
    "duration": 5,
    "start_time": "2023-03-28T19:14:46.900Z"
   },
   {
    "duration": 8,
    "start_time": "2023-03-28T19:14:46.907Z"
   },
   {
    "duration": 21,
    "start_time": "2023-03-28T19:14:46.916Z"
   },
   {
    "duration": 19,
    "start_time": "2023-03-28T19:14:46.938Z"
   },
   {
    "duration": 6,
    "start_time": "2023-03-28T19:14:46.959Z"
   },
   {
    "duration": 11,
    "start_time": "2023-03-28T19:14:46.967Z"
   },
   {
    "duration": 244,
    "start_time": "2023-03-28T19:14:46.979Z"
   },
   {
    "duration": 12,
    "start_time": "2023-03-28T19:14:47.226Z"
   },
   {
    "duration": 158,
    "start_time": "2023-03-28T19:14:47.240Z"
   },
   {
    "duration": 239,
    "start_time": "2023-03-28T19:14:47.400Z"
   },
   {
    "duration": 5,
    "start_time": "2023-03-28T19:14:47.641Z"
   },
   {
    "duration": 24,
    "start_time": "2023-03-28T19:14:47.647Z"
   },
   {
    "duration": 40,
    "start_time": "2023-03-28T19:14:47.672Z"
   },
   {
    "duration": 123,
    "start_time": "2023-03-28T19:14:47.713Z"
   },
   {
    "duration": 0,
    "start_time": "2023-03-28T19:14:47.838Z"
   },
   {
    "duration": 0,
    "start_time": "2023-03-28T19:14:47.840Z"
   },
   {
    "duration": 0,
    "start_time": "2023-03-28T19:14:47.843Z"
   },
   {
    "duration": 0,
    "start_time": "2023-03-28T19:14:47.844Z"
   },
   {
    "duration": 16,
    "start_time": "2023-03-28T19:15:14.861Z"
   },
   {
    "duration": 19,
    "start_time": "2023-03-28T19:15:45.698Z"
   },
   {
    "duration": 11,
    "start_time": "2023-03-28T19:16:40.525Z"
   },
   {
    "duration": 19,
    "start_time": "2023-03-28T19:16:42.357Z"
   },
   {
    "duration": 12,
    "start_time": "2023-03-28T19:16:48.093Z"
   },
   {
    "duration": 11,
    "start_time": "2023-03-28T19:16:55.761Z"
   },
   {
    "duration": 5,
    "start_time": "2023-03-28T19:17:03.863Z"
   },
   {
    "duration": 29,
    "start_time": "2023-03-28T19:17:04.320Z"
   },
   {
    "duration": 12,
    "start_time": "2023-03-28T19:17:31.998Z"
   },
   {
    "duration": 13,
    "start_time": "2023-03-28T19:18:06.603Z"
   },
   {
    "duration": 5,
    "start_time": "2023-03-28T19:18:36.120Z"
   },
   {
    "duration": 34,
    "start_time": "2023-03-28T19:18:37.386Z"
   },
   {
    "duration": 7,
    "start_time": "2023-03-28T19:18:54.380Z"
   },
   {
    "duration": 24,
    "start_time": "2023-03-28T19:18:55.449Z"
   },
   {
    "duration": 14,
    "start_time": "2023-03-28T19:19:06.062Z"
   },
   {
    "duration": 1593,
    "start_time": "2023-03-28T19:19:29.543Z"
   },
   {
    "duration": 718,
    "start_time": "2023-03-28T19:19:31.139Z"
   },
   {
    "duration": 28,
    "start_time": "2023-03-28T19:19:31.859Z"
   },
   {
    "duration": 20,
    "start_time": "2023-03-28T19:19:31.888Z"
   },
   {
    "duration": 45,
    "start_time": "2023-03-28T19:19:31.910Z"
   },
   {
    "duration": 12,
    "start_time": "2023-03-28T19:19:31.957Z"
   },
   {
    "duration": 6,
    "start_time": "2023-03-28T19:19:31.971Z"
   },
   {
    "duration": 12,
    "start_time": "2023-03-28T19:19:31.979Z"
   },
   {
    "duration": 26,
    "start_time": "2023-03-28T19:19:31.993Z"
   },
   {
    "duration": 37,
    "start_time": "2023-03-28T19:19:32.021Z"
   },
   {
    "duration": 15,
    "start_time": "2023-03-28T19:19:32.060Z"
   },
   {
    "duration": 37,
    "start_time": "2023-03-28T19:19:32.077Z"
   },
   {
    "duration": 14,
    "start_time": "2023-03-28T19:19:32.116Z"
   },
   {
    "duration": 25,
    "start_time": "2023-03-28T19:19:32.135Z"
   },
   {
    "duration": 146,
    "start_time": "2023-03-28T19:19:32.162Z"
   },
   {
    "duration": 33,
    "start_time": "2023-03-28T19:19:32.309Z"
   },
   {
    "duration": 120,
    "start_time": "2023-03-28T19:19:32.344Z"
   },
   {
    "duration": 10,
    "start_time": "2023-03-28T19:19:32.466Z"
   },
   {
    "duration": 15,
    "start_time": "2023-03-28T19:19:32.477Z"
   },
   {
    "duration": 27,
    "start_time": "2023-03-28T19:19:32.494Z"
   },
   {
    "duration": 9,
    "start_time": "2023-03-28T19:19:32.534Z"
   },
   {
    "duration": 8,
    "start_time": "2023-03-28T19:19:32.547Z"
   },
   {
    "duration": 37,
    "start_time": "2023-03-28T19:19:32.557Z"
   },
   {
    "duration": 9,
    "start_time": "2023-03-28T19:19:32.596Z"
   },
   {
    "duration": 17,
    "start_time": "2023-03-28T19:19:32.607Z"
   },
   {
    "duration": 33,
    "start_time": "2023-03-28T19:19:32.626Z"
   },
   {
    "duration": 17,
    "start_time": "2023-03-28T19:19:32.661Z"
   },
   {
    "duration": 12,
    "start_time": "2023-03-28T19:19:32.680Z"
   },
   {
    "duration": 17,
    "start_time": "2023-03-28T19:19:32.693Z"
   },
   {
    "duration": 24,
    "start_time": "2023-03-28T19:19:32.713Z"
   },
   {
    "duration": 29,
    "start_time": "2023-03-28T19:19:32.740Z"
   },
   {
    "duration": 26,
    "start_time": "2023-03-28T19:19:32.771Z"
   },
   {
    "duration": 35,
    "start_time": "2023-03-28T19:19:32.798Z"
   },
   {
    "duration": 32564,
    "start_time": "2023-03-28T19:19:32.840Z"
   },
   {
    "duration": 273,
    "start_time": "2023-03-28T19:20:05.407Z"
   },
   {
    "duration": 4198,
    "start_time": "2023-03-28T19:20:05.682Z"
   },
   {
    "duration": 8,
    "start_time": "2023-03-28T19:20:09.882Z"
   },
   {
    "duration": 9,
    "start_time": "2023-03-28T19:20:09.893Z"
   },
   {
    "duration": 5,
    "start_time": "2023-03-28T19:20:09.904Z"
   },
   {
    "duration": 17,
    "start_time": "2023-03-28T19:20:09.939Z"
   },
   {
    "duration": 10,
    "start_time": "2023-03-28T19:20:09.960Z"
   },
   {
    "duration": 17,
    "start_time": "2023-03-28T19:20:09.971Z"
   },
   {
    "duration": 272,
    "start_time": "2023-03-28T19:20:09.990Z"
   },
   {
    "duration": 7,
    "start_time": "2023-03-28T19:20:10.263Z"
   },
   {
    "duration": 182,
    "start_time": "2023-03-28T19:20:10.271Z"
   },
   {
    "duration": 257,
    "start_time": "2023-03-28T19:20:10.455Z"
   },
   {
    "duration": 4,
    "start_time": "2023-03-28T19:20:10.714Z"
   },
   {
    "duration": 46,
    "start_time": "2023-03-28T19:20:10.720Z"
   },
   {
    "duration": 32,
    "start_time": "2023-03-28T19:20:10.768Z"
   },
   {
    "duration": 127,
    "start_time": "2023-03-28T19:20:10.803Z"
   },
   {
    "duration": 0,
    "start_time": "2023-03-28T19:20:10.934Z"
   },
   {
    "duration": 0,
    "start_time": "2023-03-28T19:20:10.938Z"
   },
   {
    "duration": 0,
    "start_time": "2023-03-28T19:20:10.945Z"
   },
   {
    "duration": 0,
    "start_time": "2023-03-28T19:20:10.950Z"
   },
   {
    "duration": 4,
    "start_time": "2023-03-28T19:23:00.733Z"
   },
   {
    "duration": 19,
    "start_time": "2023-03-28T19:23:00.893Z"
   },
   {
    "duration": 1368,
    "start_time": "2023-03-28T19:23:08.341Z"
   },
   {
    "duration": 705,
    "start_time": "2023-03-28T19:23:09.710Z"
   },
   {
    "duration": 27,
    "start_time": "2023-03-28T19:23:10.417Z"
   },
   {
    "duration": 23,
    "start_time": "2023-03-28T19:23:10.445Z"
   },
   {
    "duration": 19,
    "start_time": "2023-03-28T19:23:10.471Z"
   },
   {
    "duration": 9,
    "start_time": "2023-03-28T19:23:10.491Z"
   },
   {
    "duration": 6,
    "start_time": "2023-03-28T19:23:10.502Z"
   },
   {
    "duration": 31,
    "start_time": "2023-03-28T19:23:10.509Z"
   },
   {
    "duration": 6,
    "start_time": "2023-03-28T19:23:10.541Z"
   },
   {
    "duration": 9,
    "start_time": "2023-03-28T19:23:10.549Z"
   },
   {
    "duration": 11,
    "start_time": "2023-03-28T19:23:10.560Z"
   },
   {
    "duration": 36,
    "start_time": "2023-03-28T19:23:10.573Z"
   },
   {
    "duration": 25,
    "start_time": "2023-03-28T19:23:10.611Z"
   },
   {
    "duration": 19,
    "start_time": "2023-03-28T19:23:10.640Z"
   },
   {
    "duration": 137,
    "start_time": "2023-03-28T19:23:10.661Z"
   },
   {
    "duration": 28,
    "start_time": "2023-03-28T19:23:10.800Z"
   },
   {
    "duration": 106,
    "start_time": "2023-03-28T19:23:10.829Z"
   },
   {
    "duration": 8,
    "start_time": "2023-03-28T19:23:10.937Z"
   },
   {
    "duration": 9,
    "start_time": "2023-03-28T19:23:10.947Z"
   },
   {
    "duration": 13,
    "start_time": "2023-03-28T19:23:10.958Z"
   },
   {
    "duration": 10,
    "start_time": "2023-03-28T19:23:10.972Z"
   },
   {
    "duration": 14,
    "start_time": "2023-03-28T19:23:10.983Z"
   },
   {
    "duration": 38,
    "start_time": "2023-03-28T19:23:10.998Z"
   },
   {
    "duration": 10,
    "start_time": "2023-03-28T19:23:11.038Z"
   },
   {
    "duration": 8,
    "start_time": "2023-03-28T19:23:11.049Z"
   },
   {
    "duration": 11,
    "start_time": "2023-03-28T19:23:11.058Z"
   },
   {
    "duration": 10,
    "start_time": "2023-03-28T19:23:11.071Z"
   },
   {
    "duration": 6,
    "start_time": "2023-03-28T19:23:11.083Z"
   },
   {
    "duration": 15,
    "start_time": "2023-03-28T19:23:11.091Z"
   },
   {
    "duration": 27,
    "start_time": "2023-03-28T19:23:11.107Z"
   },
   {
    "duration": 29,
    "start_time": "2023-03-28T19:23:11.136Z"
   },
   {
    "duration": 16,
    "start_time": "2023-03-28T19:23:11.167Z"
   },
   {
    "duration": 30,
    "start_time": "2023-03-28T19:23:11.186Z"
   },
   {
    "duration": 24854,
    "start_time": "2023-03-28T19:23:11.234Z"
   },
   {
    "duration": 386,
    "start_time": "2023-03-28T19:23:36.090Z"
   },
   {
    "duration": 3721,
    "start_time": "2023-03-28T19:23:36.478Z"
   },
   {
    "duration": 7,
    "start_time": "2023-03-28T19:23:40.200Z"
   },
   {
    "duration": 14,
    "start_time": "2023-03-28T19:23:40.208Z"
   },
   {
    "duration": 13,
    "start_time": "2023-03-28T19:23:40.223Z"
   },
   {
    "duration": 12,
    "start_time": "2023-03-28T19:23:40.237Z"
   },
   {
    "duration": 8,
    "start_time": "2023-03-28T19:23:40.254Z"
   },
   {
    "duration": 8,
    "start_time": "2023-03-28T19:23:40.263Z"
   },
   {
    "duration": 261,
    "start_time": "2023-03-28T19:23:40.273Z"
   },
   {
    "duration": 7,
    "start_time": "2023-03-28T19:23:40.536Z"
   },
   {
    "duration": 158,
    "start_time": "2023-03-28T19:23:40.544Z"
   },
   {
    "duration": 230,
    "start_time": "2023-03-28T19:23:40.704Z"
   },
   {
    "duration": 5,
    "start_time": "2023-03-28T19:23:40.936Z"
   },
   {
    "duration": 8,
    "start_time": "2023-03-28T19:23:40.942Z"
   },
   {
    "duration": 34,
    "start_time": "2023-03-28T19:23:40.952Z"
   },
   {
    "duration": 8,
    "start_time": "2023-03-28T19:23:40.988Z"
   },
   {
    "duration": 137,
    "start_time": "2023-03-28T19:23:40.998Z"
   },
   {
    "duration": 0,
    "start_time": "2023-03-28T19:23:41.136Z"
   },
   {
    "duration": 0,
    "start_time": "2023-03-28T19:23:41.138Z"
   },
   {
    "duration": 0,
    "start_time": "2023-03-28T19:23:41.139Z"
   },
   {
    "duration": 0,
    "start_time": "2023-03-28T19:23:41.140Z"
   },
   {
    "duration": 13,
    "start_time": "2023-03-28T19:28:22.381Z"
   },
   {
    "duration": 19,
    "start_time": "2023-03-28T19:30:25.528Z"
   },
   {
    "duration": 4,
    "start_time": "2023-03-28T19:31:46.952Z"
   },
   {
    "duration": 19,
    "start_time": "2023-03-28T19:31:56.031Z"
   },
   {
    "duration": 16,
    "start_time": "2023-03-28T19:32:46.970Z"
   },
   {
    "duration": 1527,
    "start_time": "2023-03-28T19:34:54.602Z"
   },
   {
    "duration": 778,
    "start_time": "2023-03-28T19:34:56.131Z"
   },
   {
    "duration": 36,
    "start_time": "2023-03-28T19:34:56.910Z"
   },
   {
    "duration": 25,
    "start_time": "2023-03-28T19:34:56.948Z"
   },
   {
    "duration": 50,
    "start_time": "2023-03-28T19:34:56.975Z"
   },
   {
    "duration": 16,
    "start_time": "2023-03-28T19:34:57.026Z"
   },
   {
    "duration": 15,
    "start_time": "2023-03-28T19:34:57.050Z"
   },
   {
    "duration": 21,
    "start_time": "2023-03-28T19:34:57.066Z"
   },
   {
    "duration": 9,
    "start_time": "2023-03-28T19:34:57.088Z"
   },
   {
    "duration": 6,
    "start_time": "2023-03-28T19:34:57.100Z"
   },
   {
    "duration": 11,
    "start_time": "2023-03-28T19:34:57.108Z"
   },
   {
    "duration": 29,
    "start_time": "2023-03-28T19:34:57.120Z"
   },
   {
    "duration": 18,
    "start_time": "2023-03-28T19:34:57.152Z"
   },
   {
    "duration": 20,
    "start_time": "2023-03-28T19:34:57.172Z"
   },
   {
    "duration": 149,
    "start_time": "2023-03-28T19:34:57.194Z"
   },
   {
    "duration": 31,
    "start_time": "2023-03-28T19:34:57.346Z"
   },
   {
    "duration": 105,
    "start_time": "2023-03-28T19:34:57.379Z"
   },
   {
    "duration": 10,
    "start_time": "2023-03-28T19:34:57.486Z"
   },
   {
    "duration": 14,
    "start_time": "2023-03-28T19:34:57.498Z"
   },
   {
    "duration": 31,
    "start_time": "2023-03-28T19:34:57.514Z"
   },
   {
    "duration": 21,
    "start_time": "2023-03-28T19:34:57.547Z"
   },
   {
    "duration": 7,
    "start_time": "2023-03-28T19:34:57.570Z"
   },
   {
    "duration": 5,
    "start_time": "2023-03-28T19:34:57.579Z"
   },
   {
    "duration": 11,
    "start_time": "2023-03-28T19:34:57.586Z"
   },
   {
    "duration": 9,
    "start_time": "2023-03-28T19:34:57.599Z"
   },
   {
    "duration": 17,
    "start_time": "2023-03-28T19:34:57.610Z"
   },
   {
    "duration": 18,
    "start_time": "2023-03-28T19:34:57.629Z"
   },
   {
    "duration": 22,
    "start_time": "2023-03-28T19:34:57.651Z"
   },
   {
    "duration": 19,
    "start_time": "2023-03-28T19:34:57.675Z"
   },
   {
    "duration": 20,
    "start_time": "2023-03-28T19:34:57.696Z"
   },
   {
    "duration": 27,
    "start_time": "2023-03-28T19:34:57.718Z"
   },
   {
    "duration": 21,
    "start_time": "2023-03-28T19:34:57.752Z"
   },
   {
    "duration": 28611,
    "start_time": "2023-03-28T19:34:57.775Z"
   },
   {
    "duration": 291,
    "start_time": "2023-03-28T19:35:26.388Z"
   },
   {
    "duration": 202,
    "start_time": "2023-03-28T19:35:26.681Z"
   },
   {
    "duration": 0,
    "start_time": "2023-03-28T19:35:26.885Z"
   },
   {
    "duration": 0,
    "start_time": "2023-03-28T19:35:26.887Z"
   },
   {
    "duration": 0,
    "start_time": "2023-03-28T19:35:26.888Z"
   },
   {
    "duration": 0,
    "start_time": "2023-03-28T19:35:26.889Z"
   },
   {
    "duration": 0,
    "start_time": "2023-03-28T19:35:26.890Z"
   },
   {
    "duration": 0,
    "start_time": "2023-03-28T19:35:26.891Z"
   },
   {
    "duration": 0,
    "start_time": "2023-03-28T19:35:26.893Z"
   },
   {
    "duration": 0,
    "start_time": "2023-03-28T19:35:26.894Z"
   },
   {
    "duration": 0,
    "start_time": "2023-03-28T19:35:26.895Z"
   },
   {
    "duration": 0,
    "start_time": "2023-03-28T19:35:26.896Z"
   },
   {
    "duration": 0,
    "start_time": "2023-03-28T19:35:26.897Z"
   },
   {
    "duration": 0,
    "start_time": "2023-03-28T19:35:26.898Z"
   },
   {
    "duration": 0,
    "start_time": "2023-03-28T19:35:26.899Z"
   },
   {
    "duration": 1,
    "start_time": "2023-03-28T19:35:26.899Z"
   },
   {
    "duration": 0,
    "start_time": "2023-03-28T19:35:26.901Z"
   },
   {
    "duration": 0,
    "start_time": "2023-03-28T19:35:26.902Z"
   },
   {
    "duration": 0,
    "start_time": "2023-03-28T19:35:26.903Z"
   },
   {
    "duration": 0,
    "start_time": "2023-03-28T19:35:26.935Z"
   },
   {
    "duration": 0,
    "start_time": "2023-03-28T19:35:26.936Z"
   },
   {
    "duration": 0,
    "start_time": "2023-03-28T19:35:26.939Z"
   },
   {
    "duration": 93,
    "start_time": "2023-03-28T19:36:32.902Z"
   },
   {
    "duration": 6,
    "start_time": "2023-03-28T19:36:38.421Z"
   },
   {
    "duration": 1412,
    "start_time": "2023-03-28T19:36:42.111Z"
   },
   {
    "duration": 719,
    "start_time": "2023-03-28T19:36:43.525Z"
   },
   {
    "duration": 25,
    "start_time": "2023-03-28T19:36:44.250Z"
   },
   {
    "duration": 23,
    "start_time": "2023-03-28T19:36:44.278Z"
   },
   {
    "duration": 40,
    "start_time": "2023-03-28T19:36:44.303Z"
   },
   {
    "duration": 15,
    "start_time": "2023-03-28T19:36:44.349Z"
   },
   {
    "duration": 22,
    "start_time": "2023-03-28T19:36:44.366Z"
   },
   {
    "duration": 17,
    "start_time": "2023-03-28T19:36:44.389Z"
   },
   {
    "duration": 18,
    "start_time": "2023-03-28T19:36:44.407Z"
   },
   {
    "duration": 19,
    "start_time": "2023-03-28T19:36:44.427Z"
   },
   {
    "duration": 11,
    "start_time": "2023-03-28T19:36:44.449Z"
   },
   {
    "duration": 22,
    "start_time": "2023-03-28T19:36:44.461Z"
   },
   {
    "duration": 12,
    "start_time": "2023-03-28T19:36:44.484Z"
   },
   {
    "duration": 27,
    "start_time": "2023-03-28T19:36:44.498Z"
   },
   {
    "duration": 131,
    "start_time": "2023-03-28T19:36:44.527Z"
   },
   {
    "duration": 35,
    "start_time": "2023-03-28T19:36:44.661Z"
   },
   {
    "duration": 132,
    "start_time": "2023-03-28T19:36:44.699Z"
   },
   {
    "duration": 11,
    "start_time": "2023-03-28T19:36:44.833Z"
   },
   {
    "duration": 29,
    "start_time": "2023-03-28T19:36:44.845Z"
   },
   {
    "duration": 20,
    "start_time": "2023-03-28T19:36:44.876Z"
   },
   {
    "duration": 8,
    "start_time": "2023-03-28T19:36:44.899Z"
   },
   {
    "duration": 16,
    "start_time": "2023-03-28T19:36:44.909Z"
   },
   {
    "duration": 12,
    "start_time": "2023-03-28T19:36:44.927Z"
   },
   {
    "duration": 17,
    "start_time": "2023-03-28T19:36:44.943Z"
   },
   {
    "duration": 9,
    "start_time": "2023-03-28T19:36:44.962Z"
   },
   {
    "duration": 12,
    "start_time": "2023-03-28T19:36:44.973Z"
   },
   {
    "duration": 7,
    "start_time": "2023-03-28T19:36:44.986Z"
   },
   {
    "duration": 9,
    "start_time": "2023-03-28T19:36:44.997Z"
   },
   {
    "duration": 47,
    "start_time": "2023-03-28T19:36:45.008Z"
   },
   {
    "duration": 28,
    "start_time": "2023-03-28T19:36:45.057Z"
   },
   {
    "duration": 26,
    "start_time": "2023-03-28T19:36:45.086Z"
   },
   {
    "duration": 29,
    "start_time": "2023-03-28T19:36:45.114Z"
   },
   {
    "duration": 34,
    "start_time": "2023-03-28T19:36:45.145Z"
   },
   {
    "duration": 25694,
    "start_time": "2023-03-28T19:36:45.180Z"
   },
   {
    "duration": 393,
    "start_time": "2023-03-28T19:37:10.875Z"
   },
   {
    "duration": 11287,
    "start_time": "2023-03-28T19:37:11.270Z"
   },
   {
    "duration": 7,
    "start_time": "2023-03-28T19:37:22.559Z"
   },
   {
    "duration": 36,
    "start_time": "2023-03-28T19:37:22.567Z"
   },
   {
    "duration": 18,
    "start_time": "2023-03-28T19:37:22.604Z"
   },
   {
    "duration": 42,
    "start_time": "2023-03-28T19:37:22.623Z"
   },
   {
    "duration": 34,
    "start_time": "2023-03-28T19:37:22.667Z"
   },
   {
    "duration": 38,
    "start_time": "2023-03-28T19:37:22.703Z"
   },
   {
    "duration": 304,
    "start_time": "2023-03-28T19:37:22.742Z"
   },
   {
    "duration": 7,
    "start_time": "2023-03-28T19:37:23.047Z"
   },
   {
    "duration": 223,
    "start_time": "2023-03-28T19:37:23.056Z"
   },
   {
    "duration": 277,
    "start_time": "2023-03-28T19:37:23.281Z"
   },
   {
    "duration": 6,
    "start_time": "2023-03-28T19:37:23.560Z"
   },
   {
    "duration": 19,
    "start_time": "2023-03-28T19:37:23.568Z"
   },
   {
    "duration": 80,
    "start_time": "2023-03-28T19:37:23.589Z"
   },
   {
    "duration": 39,
    "start_time": "2023-03-28T19:37:23.670Z"
   },
   {
    "duration": 41,
    "start_time": "2023-03-28T19:37:23.710Z"
   },
   {
    "duration": 55,
    "start_time": "2023-03-28T19:37:23.752Z"
   },
   {
    "duration": 85,
    "start_time": "2023-03-28T19:37:23.810Z"
   },
   {
    "duration": 12,
    "start_time": "2023-03-28T19:37:23.897Z"
   },
   {
    "duration": 148,
    "start_time": "2023-03-28T19:37:23.911Z"
   },
   {
    "duration": 0,
    "start_time": "2023-03-28T19:37:24.060Z"
   },
   {
    "duration": 5,
    "start_time": "2023-03-28T19:37:46.990Z"
   },
   {
    "duration": 9,
    "start_time": "2023-03-28T19:38:10.906Z"
   },
   {
    "duration": 8,
    "start_time": "2023-03-28T19:38:11.049Z"
   },
   {
    "duration": 6,
    "start_time": "2023-03-28T19:38:11.226Z"
   },
   {
    "duration": 12,
    "start_time": "2023-03-28T19:38:11.371Z"
   },
   {
    "duration": 22,
    "start_time": "2023-03-28T19:38:45.281Z"
   },
   {
    "duration": 289,
    "start_time": "2023-03-28T19:39:15.599Z"
   },
   {
    "duration": 286,
    "start_time": "2023-03-28T19:39:44.305Z"
   },
   {
    "duration": 327,
    "start_time": "2023-03-28T19:40:21.830Z"
   },
   {
    "duration": 4444,
    "start_time": "2023-03-28T19:40:47.111Z"
   },
   {
    "duration": 1876,
    "start_time": "2023-03-28T19:41:04.296Z"
   },
   {
    "duration": 1701,
    "start_time": "2023-03-28T19:42:10.707Z"
   },
   {
    "duration": 2232,
    "start_time": "2023-03-28T19:42:57.452Z"
   },
   {
    "duration": 92,
    "start_time": "2023-03-28T19:44:06.058Z"
   },
   {
    "duration": 1486,
    "start_time": "2023-03-28T19:44:17.991Z"
   },
   {
    "duration": 15,
    "start_time": "2023-03-28T19:45:52.189Z"
   },
   {
    "duration": 189160,
    "start_time": "2023-03-28T19:46:57.962Z"
   },
   {
    "duration": 0,
    "start_time": "2023-03-28T19:50:07.124Z"
   },
   {
    "duration": 1578,
    "start_time": "2023-03-28T19:51:22.812Z"
   },
   {
    "duration": 753,
    "start_time": "2023-03-28T19:51:24.393Z"
   },
   {
    "duration": 30,
    "start_time": "2023-03-28T19:51:25.148Z"
   },
   {
    "duration": 25,
    "start_time": "2023-03-28T19:51:25.180Z"
   },
   {
    "duration": 45,
    "start_time": "2023-03-28T19:51:25.208Z"
   },
   {
    "duration": 27,
    "start_time": "2023-03-28T19:51:25.256Z"
   },
   {
    "duration": 12,
    "start_time": "2023-03-28T19:51:25.285Z"
   },
   {
    "duration": 11,
    "start_time": "2023-03-28T19:51:25.299Z"
   },
   {
    "duration": 10,
    "start_time": "2023-03-28T19:51:25.312Z"
   },
   {
    "duration": 8,
    "start_time": "2023-03-28T19:51:25.324Z"
   },
   {
    "duration": 16,
    "start_time": "2023-03-28T19:51:25.334Z"
   },
   {
    "duration": 29,
    "start_time": "2023-03-28T19:51:25.353Z"
   },
   {
    "duration": 19,
    "start_time": "2023-03-28T19:51:25.385Z"
   },
   {
    "duration": 22,
    "start_time": "2023-03-28T19:51:25.407Z"
   },
   {
    "duration": 156,
    "start_time": "2023-03-28T19:51:25.434Z"
   },
   {
    "duration": 22,
    "start_time": "2023-03-28T19:51:25.591Z"
   },
   {
    "duration": 107,
    "start_time": "2023-03-28T19:51:25.614Z"
   },
   {
    "duration": 27,
    "start_time": "2023-03-28T19:51:25.722Z"
   },
   {
    "duration": 16,
    "start_time": "2023-03-28T19:51:25.750Z"
   },
   {
    "duration": 10,
    "start_time": "2023-03-28T19:51:25.768Z"
   },
   {
    "duration": 5,
    "start_time": "2023-03-28T19:51:25.779Z"
   },
   {
    "duration": 6,
    "start_time": "2023-03-28T19:51:25.785Z"
   },
   {
    "duration": 6,
    "start_time": "2023-03-28T19:51:25.793Z"
   },
   {
    "duration": 5,
    "start_time": "2023-03-28T19:51:25.801Z"
   },
   {
    "duration": 47,
    "start_time": "2023-03-28T19:51:25.808Z"
   },
   {
    "duration": 16,
    "start_time": "2023-03-28T19:51:25.857Z"
   },
   {
    "duration": 9,
    "start_time": "2023-03-28T19:51:25.875Z"
   },
   {
    "duration": 5,
    "start_time": "2023-03-28T19:51:25.886Z"
   },
   {
    "duration": 14,
    "start_time": "2023-03-28T19:51:25.893Z"
   },
   {
    "duration": 17,
    "start_time": "2023-03-28T19:51:25.908Z"
   },
   {
    "duration": 29,
    "start_time": "2023-03-28T19:51:25.927Z"
   },
   {
    "duration": 12,
    "start_time": "2023-03-28T19:51:25.958Z"
   },
   {
    "duration": 20,
    "start_time": "2023-03-28T19:51:25.972Z"
   },
   {
    "duration": 22901,
    "start_time": "2023-03-28T19:51:25.994Z"
   },
   {
    "duration": 389,
    "start_time": "2023-03-28T19:51:48.897Z"
   },
   {
    "duration": 11656,
    "start_time": "2023-03-28T19:51:49.288Z"
   },
   {
    "duration": 11,
    "start_time": "2023-03-28T19:52:00.950Z"
   },
   {
    "duration": 50,
    "start_time": "2023-03-28T19:52:00.963Z"
   },
   {
    "duration": 58,
    "start_time": "2023-03-28T19:52:01.015Z"
   },
   {
    "duration": 43,
    "start_time": "2023-03-28T19:52:01.075Z"
   },
   {
    "duration": 63,
    "start_time": "2023-03-28T19:52:01.122Z"
   },
   {
    "duration": 72,
    "start_time": "2023-03-28T19:52:01.186Z"
   },
   {
    "duration": 344,
    "start_time": "2023-03-28T19:52:01.260Z"
   },
   {
    "duration": 6,
    "start_time": "2023-03-28T19:52:01.605Z"
   },
   {
    "duration": 207,
    "start_time": "2023-03-28T19:52:01.613Z"
   },
   {
    "duration": 249,
    "start_time": "2023-03-28T19:52:01.821Z"
   },
   {
    "duration": 6,
    "start_time": "2023-03-28T19:52:02.072Z"
   },
   {
    "duration": 25,
    "start_time": "2023-03-28T19:52:02.080Z"
   },
   {
    "duration": 38,
    "start_time": "2023-03-28T19:52:02.108Z"
   },
   {
    "duration": 74,
    "start_time": "2023-03-28T19:52:02.147Z"
   },
   {
    "duration": 64,
    "start_time": "2023-03-28T19:52:02.223Z"
   },
   {
    "duration": 49,
    "start_time": "2023-03-28T19:52:02.289Z"
   },
   {
    "duration": 173,
    "start_time": "2023-03-28T19:52:02.343Z"
   },
   {
    "duration": 0,
    "start_time": "2023-03-28T19:55:18.148Z"
   },
   {
    "duration": 1669,
    "start_time": "2023-03-28T19:56:21.977Z"
   },
   {
    "duration": 939,
    "start_time": "2023-03-28T19:56:23.653Z"
   },
   {
    "duration": 27,
    "start_time": "2023-03-28T19:56:24.594Z"
   },
   {
    "duration": 41,
    "start_time": "2023-03-28T19:56:24.622Z"
   },
   {
    "duration": 30,
    "start_time": "2023-03-28T19:56:24.665Z"
   },
   {
    "duration": 8,
    "start_time": "2023-03-28T19:56:24.698Z"
   },
   {
    "duration": 32,
    "start_time": "2023-03-28T19:56:24.708Z"
   },
   {
    "duration": 28,
    "start_time": "2023-03-28T19:56:24.742Z"
   },
   {
    "duration": 7,
    "start_time": "2023-03-28T19:56:24.772Z"
   },
   {
    "duration": 6,
    "start_time": "2023-03-28T19:56:24.781Z"
   },
   {
    "duration": 18,
    "start_time": "2023-03-28T19:56:24.788Z"
   },
   {
    "duration": 23,
    "start_time": "2023-03-28T19:56:24.808Z"
   },
   {
    "duration": 23,
    "start_time": "2023-03-28T19:56:24.832Z"
   },
   {
    "duration": 34,
    "start_time": "2023-03-28T19:56:24.859Z"
   },
   {
    "duration": 176,
    "start_time": "2023-03-28T19:56:24.896Z"
   },
   {
    "duration": 33,
    "start_time": "2023-03-28T19:56:25.075Z"
   },
   {
    "duration": 140,
    "start_time": "2023-03-28T19:56:25.111Z"
   },
   {
    "duration": 18,
    "start_time": "2023-03-28T19:56:25.253Z"
   },
   {
    "duration": 47,
    "start_time": "2023-03-28T19:56:25.273Z"
   },
   {
    "duration": 58,
    "start_time": "2023-03-28T19:56:25.322Z"
   },
   {
    "duration": 27,
    "start_time": "2023-03-28T19:56:25.382Z"
   },
   {
    "duration": 14,
    "start_time": "2023-03-28T19:56:25.412Z"
   },
   {
    "duration": 21,
    "start_time": "2023-03-28T19:56:25.428Z"
   },
   {
    "duration": 39,
    "start_time": "2023-03-28T19:56:25.452Z"
   },
   {
    "duration": 17,
    "start_time": "2023-03-28T19:56:25.495Z"
   },
   {
    "duration": 29,
    "start_time": "2023-03-28T19:56:25.514Z"
   },
   {
    "duration": 43,
    "start_time": "2023-03-28T19:56:25.549Z"
   },
   {
    "duration": 11,
    "start_time": "2023-03-28T19:56:25.594Z"
   },
   {
    "duration": 11,
    "start_time": "2023-03-28T19:56:25.606Z"
   },
   {
    "duration": 14,
    "start_time": "2023-03-28T19:56:25.620Z"
   },
   {
    "duration": 29,
    "start_time": "2023-03-28T19:56:25.635Z"
   },
   {
    "duration": 18,
    "start_time": "2023-03-28T19:56:25.666Z"
   },
   {
    "duration": 19,
    "start_time": "2023-03-28T19:56:25.685Z"
   },
   {
    "duration": 27665,
    "start_time": "2023-03-28T19:56:25.706Z"
   },
   {
    "duration": 408,
    "start_time": "2023-03-28T19:56:53.373Z"
   },
   {
    "duration": 16089,
    "start_time": "2023-03-28T19:56:53.783Z"
   },
   {
    "duration": 6,
    "start_time": "2023-03-28T19:57:09.874Z"
   },
   {
    "duration": 19,
    "start_time": "2023-03-28T19:57:09.882Z"
   },
   {
    "duration": 9,
    "start_time": "2023-03-28T19:57:09.903Z"
   },
   {
    "duration": 26,
    "start_time": "2023-03-28T19:57:09.914Z"
   },
   {
    "duration": 8,
    "start_time": "2023-03-28T19:57:09.945Z"
   },
   {
    "duration": 13,
    "start_time": "2023-03-28T19:57:09.955Z"
   },
   {
    "duration": 405,
    "start_time": "2023-03-28T19:57:09.970Z"
   },
   {
    "duration": 13,
    "start_time": "2023-03-28T19:57:10.377Z"
   },
   {
    "duration": 230,
    "start_time": "2023-03-28T19:57:10.392Z"
   },
   {
    "duration": 345,
    "start_time": "2023-03-28T19:57:10.624Z"
   },
   {
    "duration": 6,
    "start_time": "2023-03-28T19:57:10.971Z"
   },
   {
    "duration": 34,
    "start_time": "2023-03-28T19:57:10.979Z"
   },
   {
    "duration": 17,
    "start_time": "2023-03-28T19:57:11.015Z"
   },
   {
    "duration": 19,
    "start_time": "2023-03-28T19:57:11.034Z"
   },
   {
    "duration": 26,
    "start_time": "2023-03-28T19:57:11.055Z"
   },
   {
    "duration": 41,
    "start_time": "2023-03-28T19:57:11.083Z"
   },
   {
    "duration": 113,
    "start_time": "2023-03-28T19:57:11.125Z"
   },
   {
    "duration": 0,
    "start_time": "2023-03-28T19:57:11.240Z"
   },
   {
    "duration": 88,
    "start_time": "2023-03-28T19:57:32.079Z"
   },
   {
    "duration": 243,
    "start_time": "2023-03-28T19:57:49.504Z"
   },
   {
    "duration": 222,
    "start_time": "2023-03-28T19:58:00.905Z"
   },
   {
    "duration": 207,
    "start_time": "2023-03-28T19:58:07.247Z"
   },
   {
    "duration": 202,
    "start_time": "2023-03-28T19:58:19.563Z"
   },
   {
    "duration": 221,
    "start_time": "2023-03-28T19:58:39.209Z"
   },
   {
    "duration": 367,
    "start_time": "2023-03-28T19:58:56.057Z"
   },
   {
    "duration": 338,
    "start_time": "2023-03-28T19:59:18.473Z"
   },
   {
    "duration": 460,
    "start_time": "2023-03-28T19:59:29.472Z"
   },
   {
    "duration": 22,
    "start_time": "2023-03-28T19:59:39.739Z"
   },
   {
    "duration": 411,
    "start_time": "2023-03-28T20:00:01.872Z"
   },
   {
    "duration": 1036,
    "start_time": "2023-03-28T20:00:11.257Z"
   },
   {
    "duration": 28,
    "start_time": "2023-03-28T20:00:25.465Z"
   },
   {
    "duration": 4,
    "start_time": "2023-03-28T20:04:31.128Z"
   },
   {
    "duration": 16,
    "start_time": "2023-03-28T20:05:22.854Z"
   },
   {
    "duration": 22,
    "start_time": "2023-03-28T20:06:08.781Z"
   },
   {
    "duration": 7,
    "start_time": "2023-03-28T20:07:39.119Z"
   },
   {
    "duration": 8,
    "start_time": "2023-03-28T20:22:41.936Z"
   },
   {
    "duration": 8,
    "start_time": "2023-03-28T20:23:11.230Z"
   },
   {
    "duration": 1398,
    "start_time": "2023-03-28T20:31:51.137Z"
   },
   {
    "duration": 689,
    "start_time": "2023-03-28T20:31:52.537Z"
   },
   {
    "duration": 27,
    "start_time": "2023-03-28T20:31:53.227Z"
   },
   {
    "duration": 27,
    "start_time": "2023-03-28T20:31:53.256Z"
   },
   {
    "duration": 24,
    "start_time": "2023-03-28T20:31:53.285Z"
   },
   {
    "duration": 29,
    "start_time": "2023-03-28T20:31:53.311Z"
   },
   {
    "duration": 6,
    "start_time": "2023-03-28T20:31:53.341Z"
   },
   {
    "duration": 9,
    "start_time": "2023-03-28T20:31:53.349Z"
   },
   {
    "duration": 12,
    "start_time": "2023-03-28T20:31:53.360Z"
   },
   {
    "duration": 10,
    "start_time": "2023-03-28T20:31:53.373Z"
   },
   {
    "duration": 7,
    "start_time": "2023-03-28T20:31:53.384Z"
   },
   {
    "duration": 20,
    "start_time": "2023-03-28T20:31:53.392Z"
   },
   {
    "duration": 33,
    "start_time": "2023-03-28T20:31:53.415Z"
   },
   {
    "duration": 24,
    "start_time": "2023-03-28T20:31:53.451Z"
   },
   {
    "duration": 144,
    "start_time": "2023-03-28T20:31:53.477Z"
   },
   {
    "duration": 36,
    "start_time": "2023-03-28T20:31:53.623Z"
   },
   {
    "duration": 101,
    "start_time": "2023-03-28T20:31:53.661Z"
   },
   {
    "duration": 9,
    "start_time": "2023-03-28T20:31:53.763Z"
   },
   {
    "duration": 8,
    "start_time": "2023-03-28T20:31:53.774Z"
   },
   {
    "duration": 9,
    "start_time": "2023-03-28T20:31:53.784Z"
   },
   {
    "duration": 12,
    "start_time": "2023-03-28T20:31:53.794Z"
   },
   {
    "duration": 31,
    "start_time": "2023-03-28T20:31:53.807Z"
   },
   {
    "duration": 22,
    "start_time": "2023-03-28T20:31:53.840Z"
   },
   {
    "duration": 6,
    "start_time": "2023-03-28T20:31:53.864Z"
   },
   {
    "duration": 7,
    "start_time": "2023-03-28T20:31:53.871Z"
   },
   {
    "duration": 12,
    "start_time": "2023-03-28T20:31:53.879Z"
   },
   {
    "duration": 9,
    "start_time": "2023-03-28T20:31:53.893Z"
   },
   {
    "duration": 8,
    "start_time": "2023-03-28T20:31:53.903Z"
   },
   {
    "duration": 15,
    "start_time": "2023-03-28T20:31:53.913Z"
   },
   {
    "duration": 16,
    "start_time": "2023-03-28T20:31:53.930Z"
   },
   {
    "duration": 37,
    "start_time": "2023-03-28T20:31:53.947Z"
   },
   {
    "duration": 13,
    "start_time": "2023-03-28T20:31:53.986Z"
   },
   {
    "duration": 24,
    "start_time": "2023-03-28T20:31:54.001Z"
   },
   {
    "duration": 21228,
    "start_time": "2023-03-28T20:31:54.027Z"
   },
   {
    "duration": 321,
    "start_time": "2023-03-28T20:32:15.257Z"
   },
   {
    "duration": 10480,
    "start_time": "2023-03-28T20:32:15.580Z"
   },
   {
    "duration": 6,
    "start_time": "2023-03-28T20:32:26.062Z"
   },
   {
    "duration": 18,
    "start_time": "2023-03-28T20:32:26.070Z"
   },
   {
    "duration": 4,
    "start_time": "2023-03-28T20:32:26.090Z"
   },
   {
    "duration": 13,
    "start_time": "2023-03-28T20:32:26.096Z"
   },
   {
    "duration": 24,
    "start_time": "2023-03-28T20:32:26.114Z"
   },
   {
    "duration": 8,
    "start_time": "2023-03-28T20:32:26.140Z"
   },
   {
    "duration": 272,
    "start_time": "2023-03-28T20:32:26.149Z"
   },
   {
    "duration": 13,
    "start_time": "2023-03-28T20:32:26.423Z"
   },
   {
    "duration": 167,
    "start_time": "2023-03-28T20:32:26.437Z"
   },
   {
    "duration": 244,
    "start_time": "2023-03-28T20:32:26.605Z"
   },
   {
    "duration": 4,
    "start_time": "2023-03-28T20:32:26.850Z"
   },
   {
    "duration": 11,
    "start_time": "2023-03-28T20:32:26.856Z"
   },
   {
    "duration": 10,
    "start_time": "2023-03-28T20:32:26.869Z"
   },
   {
    "duration": 9,
    "start_time": "2023-03-28T20:32:26.881Z"
   },
   {
    "duration": 11,
    "start_time": "2023-03-28T20:32:26.892Z"
   },
   {
    "duration": 61,
    "start_time": "2023-03-28T20:32:26.904Z"
   },
   {
    "duration": 280,
    "start_time": "2023-03-28T20:32:26.967Z"
   },
   {
    "duration": 288,
    "start_time": "2023-03-28T20:32:27.249Z"
   },
   {
    "duration": 529,
    "start_time": "2023-03-28T20:32:27.539Z"
   },
   {
    "duration": 21,
    "start_time": "2023-03-28T20:32:28.069Z"
   },
   {
    "duration": 6,
    "start_time": "2023-03-28T20:32:28.092Z"
   },
   {
    "duration": 12,
    "start_time": "2023-03-28T20:32:28.099Z"
   },
   {
    "duration": 23,
    "start_time": "2023-03-28T20:32:28.112Z"
   },
   {
    "duration": 305,
    "start_time": "2023-03-28T20:32:28.136Z"
   },
   {
    "duration": 0,
    "start_time": "2023-03-28T20:32:28.443Z"
   },
   {
    "duration": 0,
    "start_time": "2023-03-28T20:32:28.444Z"
   },
   {
    "duration": 0,
    "start_time": "2023-03-28T20:32:28.445Z"
   },
   {
    "duration": 1599,
    "start_time": "2023-03-29T12:08:13.690Z"
   },
   {
    "duration": 1850,
    "start_time": "2023-03-29T12:08:15.292Z"
   },
   {
    "duration": 25,
    "start_time": "2023-03-29T12:08:17.144Z"
   },
   {
    "duration": 19,
    "start_time": "2023-03-29T12:08:17.171Z"
   },
   {
    "duration": 30,
    "start_time": "2023-03-29T12:08:17.192Z"
   },
   {
    "duration": 11,
    "start_time": "2023-03-29T12:08:17.223Z"
   },
   {
    "duration": 50,
    "start_time": "2023-03-29T12:08:17.235Z"
   },
   {
    "duration": 10,
    "start_time": "2023-03-29T12:08:17.287Z"
   },
   {
    "duration": 8,
    "start_time": "2023-03-29T12:08:17.299Z"
   },
   {
    "duration": 6,
    "start_time": "2023-03-29T12:08:17.311Z"
   },
   {
    "duration": 6,
    "start_time": "2023-03-29T12:08:17.318Z"
   },
   {
    "duration": 24,
    "start_time": "2023-03-29T12:08:17.326Z"
   },
   {
    "duration": 13,
    "start_time": "2023-03-29T12:08:17.352Z"
   },
   {
    "duration": 40,
    "start_time": "2023-03-29T12:08:17.368Z"
   },
   {
    "duration": 132,
    "start_time": "2023-03-29T12:08:17.410Z"
   },
   {
    "duration": 23,
    "start_time": "2023-03-29T12:08:17.545Z"
   },
   {
    "duration": 121,
    "start_time": "2023-03-29T12:08:17.570Z"
   },
   {
    "duration": 10,
    "start_time": "2023-03-29T12:08:17.693Z"
   },
   {
    "duration": 13,
    "start_time": "2023-03-29T12:08:17.705Z"
   },
   {
    "duration": 12,
    "start_time": "2023-03-29T12:08:17.720Z"
   },
   {
    "duration": 3,
    "start_time": "2023-03-29T12:08:17.734Z"
   },
   {
    "duration": 8,
    "start_time": "2023-03-29T12:08:17.739Z"
   },
   {
    "duration": 42,
    "start_time": "2023-03-29T12:08:17.749Z"
   },
   {
    "duration": 7,
    "start_time": "2023-03-29T12:08:17.793Z"
   },
   {
    "duration": 10,
    "start_time": "2023-03-29T12:08:17.803Z"
   },
   {
    "duration": 15,
    "start_time": "2023-03-29T12:08:17.815Z"
   },
   {
    "duration": 8,
    "start_time": "2023-03-29T12:08:17.833Z"
   },
   {
    "duration": 4,
    "start_time": "2023-03-29T12:08:17.846Z"
   },
   {
    "duration": 36,
    "start_time": "2023-03-29T12:08:17.853Z"
   },
   {
    "duration": 13,
    "start_time": "2023-03-29T12:08:17.892Z"
   },
   {
    "duration": 23,
    "start_time": "2023-03-29T12:08:17.907Z"
   },
   {
    "duration": 32,
    "start_time": "2023-03-29T12:08:17.932Z"
   },
   {
    "duration": 30,
    "start_time": "2023-03-29T12:08:17.965Z"
   },
   {
    "duration": 32514,
    "start_time": "2023-03-29T12:08:17.997Z"
   },
   {
    "duration": 314,
    "start_time": "2023-03-29T12:08:50.513Z"
   },
   {
    "duration": 15426,
    "start_time": "2023-03-29T12:08:50.829Z"
   },
   {
    "duration": 6,
    "start_time": "2023-03-29T12:09:06.257Z"
   },
   {
    "duration": 25,
    "start_time": "2023-03-29T12:09:06.265Z"
   },
   {
    "duration": 34,
    "start_time": "2023-03-29T12:09:06.291Z"
   },
   {
    "duration": 20,
    "start_time": "2023-03-29T12:09:06.326Z"
   },
   {
    "duration": 20,
    "start_time": "2023-03-29T12:09:06.347Z"
   },
   {
    "duration": 18,
    "start_time": "2023-03-29T12:09:06.368Z"
   },
   {
    "duration": 266,
    "start_time": "2023-03-29T12:09:06.388Z"
   },
   {
    "duration": 6,
    "start_time": "2023-03-29T12:09:06.656Z"
   },
   {
    "duration": 250,
    "start_time": "2023-03-29T12:09:06.663Z"
   },
   {
    "duration": 177,
    "start_time": "2023-03-29T12:09:06.914Z"
   },
   {
    "duration": 5,
    "start_time": "2023-03-29T12:09:07.093Z"
   },
   {
    "duration": 21,
    "start_time": "2023-03-29T12:09:07.100Z"
   },
   {
    "duration": 25,
    "start_time": "2023-03-29T12:09:07.123Z"
   },
   {
    "duration": 11,
    "start_time": "2023-03-29T12:09:07.150Z"
   },
   {
    "duration": 12,
    "start_time": "2023-03-29T12:09:07.162Z"
   },
   {
    "duration": 38,
    "start_time": "2023-03-29T12:09:07.176Z"
   },
   {
    "duration": 290,
    "start_time": "2023-03-29T12:09:07.217Z"
   },
   {
    "duration": 279,
    "start_time": "2023-03-29T12:09:07.510Z"
   },
   {
    "duration": 522,
    "start_time": "2023-03-29T12:09:07.791Z"
   },
   {
    "duration": 19,
    "start_time": "2023-03-29T12:09:08.315Z"
   },
   {
    "duration": 6,
    "start_time": "2023-03-29T12:09:08.336Z"
   },
   {
    "duration": 22,
    "start_time": "2023-03-29T12:09:08.343Z"
   },
   {
    "duration": 17,
    "start_time": "2023-03-29T12:09:08.367Z"
   },
   {
    "duration": 3103,
    "start_time": "2023-03-29T12:09:08.386Z"
   },
   {
    "duration": 156,
    "start_time": "2023-03-29T12:09:11.491Z"
   },
   {
    "duration": 0,
    "start_time": "2023-03-29T12:09:11.649Z"
   },
   {
    "duration": 0,
    "start_time": "2023-03-29T12:09:11.650Z"
   },
   {
    "duration": 2882,
    "start_time": "2023-03-29T12:15:09.908Z"
   },
   {
    "duration": 1584,
    "start_time": "2023-03-29T12:16:06.256Z"
   },
   {
    "duration": 698,
    "start_time": "2023-03-29T12:16:07.842Z"
   },
   {
    "duration": 26,
    "start_time": "2023-03-29T12:16:08.542Z"
   },
   {
    "duration": 34,
    "start_time": "2023-03-29T12:16:08.569Z"
   },
   {
    "duration": 34,
    "start_time": "2023-03-29T12:16:08.605Z"
   },
   {
    "duration": 6,
    "start_time": "2023-03-29T12:16:08.642Z"
   },
   {
    "duration": 19,
    "start_time": "2023-03-29T12:16:08.650Z"
   },
   {
    "duration": 22,
    "start_time": "2023-03-29T12:16:08.671Z"
   },
   {
    "duration": 7,
    "start_time": "2023-03-29T12:16:08.695Z"
   },
   {
    "duration": 5,
    "start_time": "2023-03-29T12:16:08.703Z"
   },
   {
    "duration": 8,
    "start_time": "2023-03-29T12:16:08.710Z"
   },
   {
    "duration": 43,
    "start_time": "2023-03-29T12:16:08.720Z"
   },
   {
    "duration": 32,
    "start_time": "2023-03-29T12:16:08.766Z"
   },
   {
    "duration": 26,
    "start_time": "2023-03-29T12:16:08.803Z"
   },
   {
    "duration": 141,
    "start_time": "2023-03-29T12:16:08.831Z"
   },
   {
    "duration": 30,
    "start_time": "2023-03-29T12:16:08.973Z"
   },
   {
    "duration": 127,
    "start_time": "2023-03-29T12:16:09.005Z"
   },
   {
    "duration": 10,
    "start_time": "2023-03-29T12:16:09.134Z"
   },
   {
    "duration": 7,
    "start_time": "2023-03-29T12:16:09.145Z"
   },
   {
    "duration": 36,
    "start_time": "2023-03-29T12:16:09.154Z"
   },
   {
    "duration": 4,
    "start_time": "2023-03-29T12:16:09.192Z"
   },
   {
    "duration": 12,
    "start_time": "2023-03-29T12:16:09.199Z"
   },
   {
    "duration": 5,
    "start_time": "2023-03-29T12:16:09.214Z"
   },
   {
    "duration": 13,
    "start_time": "2023-03-29T12:16:09.222Z"
   },
   {
    "duration": 27,
    "start_time": "2023-03-29T12:16:09.238Z"
   },
   {
    "duration": 14,
    "start_time": "2023-03-29T12:16:09.267Z"
   },
   {
    "duration": 11,
    "start_time": "2023-03-29T12:16:09.283Z"
   },
   {
    "duration": 9,
    "start_time": "2023-03-29T12:16:09.296Z"
   },
   {
    "duration": 17,
    "start_time": "2023-03-29T12:16:09.307Z"
   },
   {
    "duration": 12,
    "start_time": "2023-03-29T12:16:09.326Z"
   },
   {
    "duration": 20,
    "start_time": "2023-03-29T12:16:09.340Z"
   },
   {
    "duration": 28,
    "start_time": "2023-03-29T12:16:09.362Z"
   },
   {
    "duration": 30,
    "start_time": "2023-03-29T12:16:09.391Z"
   },
   {
    "duration": 32801,
    "start_time": "2023-03-29T12:16:09.423Z"
   },
   {
    "duration": 416,
    "start_time": "2023-03-29T12:16:42.226Z"
   },
   {
    "duration": 19003,
    "start_time": "2023-03-29T12:16:42.644Z"
   },
   {
    "duration": 6,
    "start_time": "2023-03-29T12:17:01.649Z"
   },
   {
    "duration": 106,
    "start_time": "2023-03-29T12:17:01.657Z"
   },
   {
    "duration": 48,
    "start_time": "2023-03-29T12:17:01.764Z"
   },
   {
    "duration": 73,
    "start_time": "2023-03-29T12:17:01.813Z"
   },
   {
    "duration": 90,
    "start_time": "2023-03-29T12:17:01.890Z"
   },
   {
    "duration": 94,
    "start_time": "2023-03-29T12:17:01.981Z"
   },
   {
    "duration": 324,
    "start_time": "2023-03-29T12:17:02.076Z"
   },
   {
    "duration": 7,
    "start_time": "2023-03-29T12:17:02.401Z"
   },
   {
    "duration": 180,
    "start_time": "2023-03-29T12:17:02.409Z"
   },
   {
    "duration": 252,
    "start_time": "2023-03-29T12:17:02.591Z"
   },
   {
    "duration": 5,
    "start_time": "2023-03-29T12:17:02.845Z"
   },
   {
    "duration": 52,
    "start_time": "2023-03-29T12:17:02.851Z"
   },
   {
    "duration": 49,
    "start_time": "2023-03-29T12:17:02.905Z"
   },
   {
    "duration": 29,
    "start_time": "2023-03-29T12:17:02.956Z"
   },
   {
    "duration": 52,
    "start_time": "2023-03-29T12:17:02.988Z"
   },
   {
    "duration": 28,
    "start_time": "2023-03-29T12:17:03.042Z"
   },
   {
    "duration": 285,
    "start_time": "2023-03-29T12:17:03.071Z"
   },
   {
    "duration": 259,
    "start_time": "2023-03-29T12:17:03.358Z"
   },
   {
    "duration": 539,
    "start_time": "2023-03-29T12:17:03.619Z"
   },
   {
    "duration": 29,
    "start_time": "2023-03-29T12:17:04.160Z"
   },
   {
    "duration": 11,
    "start_time": "2023-03-29T12:17:04.191Z"
   },
   {
    "duration": 69,
    "start_time": "2023-03-29T12:17:04.204Z"
   },
   {
    "duration": 55,
    "start_time": "2023-03-29T12:17:04.275Z"
   },
   {
    "duration": 2967,
    "start_time": "2023-03-29T12:17:04.331Z"
   },
   {
    "duration": 1452,
    "start_time": "2023-03-29T12:20:04.419Z"
   },
   {
    "duration": 688,
    "start_time": "2023-03-29T12:20:05.873Z"
   },
   {
    "duration": 29,
    "start_time": "2023-03-29T12:20:06.563Z"
   },
   {
    "duration": 21,
    "start_time": "2023-03-29T12:20:06.593Z"
   },
   {
    "duration": 29,
    "start_time": "2023-03-29T12:20:06.616Z"
   },
   {
    "duration": 14,
    "start_time": "2023-03-29T12:20:06.647Z"
   },
   {
    "duration": 8,
    "start_time": "2023-03-29T12:20:06.662Z"
   },
   {
    "duration": 50,
    "start_time": "2023-03-29T12:20:06.672Z"
   },
   {
    "duration": 17,
    "start_time": "2023-03-29T12:20:06.723Z"
   },
   {
    "duration": 8,
    "start_time": "2023-03-29T12:20:06.741Z"
   },
   {
    "duration": 18,
    "start_time": "2023-03-29T12:20:06.751Z"
   },
   {
    "duration": 39,
    "start_time": "2023-03-29T12:20:06.770Z"
   },
   {
    "duration": 13,
    "start_time": "2023-03-29T12:20:06.811Z"
   },
   {
    "duration": 21,
    "start_time": "2023-03-29T12:20:06.827Z"
   },
   {
    "duration": 134,
    "start_time": "2023-03-29T12:20:06.850Z"
   },
   {
    "duration": 23,
    "start_time": "2023-03-29T12:20:06.989Z"
   },
   {
    "duration": 121,
    "start_time": "2023-03-29T12:20:07.014Z"
   },
   {
    "duration": 10,
    "start_time": "2023-03-29T12:20:07.137Z"
   },
   {
    "duration": 26,
    "start_time": "2023-03-29T12:20:07.149Z"
   },
   {
    "duration": 32,
    "start_time": "2023-03-29T12:20:07.177Z"
   },
   {
    "duration": 19,
    "start_time": "2023-03-29T12:20:07.211Z"
   },
   {
    "duration": 30,
    "start_time": "2023-03-29T12:20:07.232Z"
   },
   {
    "duration": 24,
    "start_time": "2023-03-29T12:20:07.264Z"
   },
   {
    "duration": 14,
    "start_time": "2023-03-29T12:20:07.290Z"
   },
   {
    "duration": 20,
    "start_time": "2023-03-29T12:20:07.306Z"
   },
   {
    "duration": 23,
    "start_time": "2023-03-29T12:20:07.328Z"
   },
   {
    "duration": 13,
    "start_time": "2023-03-29T12:20:07.352Z"
   },
   {
    "duration": 7,
    "start_time": "2023-03-29T12:20:07.367Z"
   },
   {
    "duration": 19,
    "start_time": "2023-03-29T12:20:07.376Z"
   },
   {
    "duration": 17,
    "start_time": "2023-03-29T12:20:07.397Z"
   },
   {
    "duration": 39,
    "start_time": "2023-03-29T12:20:07.415Z"
   },
   {
    "duration": 20,
    "start_time": "2023-03-29T12:20:07.456Z"
   },
   {
    "duration": 22,
    "start_time": "2023-03-29T12:20:07.478Z"
   },
   {
    "duration": 33204,
    "start_time": "2023-03-29T12:20:07.502Z"
   },
   {
    "duration": 225,
    "start_time": "2023-03-29T12:20:40.708Z"
   },
   {
    "duration": 21086,
    "start_time": "2023-03-29T12:20:40.935Z"
   },
   {
    "duration": 6,
    "start_time": "2023-03-29T12:21:02.023Z"
   },
   {
    "duration": 56,
    "start_time": "2023-03-29T12:21:02.030Z"
   },
   {
    "duration": 65,
    "start_time": "2023-03-29T12:21:02.088Z"
   },
   {
    "duration": 28,
    "start_time": "2023-03-29T12:21:02.155Z"
   },
   {
    "duration": 18,
    "start_time": "2023-03-29T12:21:02.187Z"
   },
   {
    "duration": 62,
    "start_time": "2023-03-29T12:21:02.207Z"
   },
   {
    "duration": 285,
    "start_time": "2023-03-29T12:21:02.270Z"
   },
   {
    "duration": 6,
    "start_time": "2023-03-29T12:21:02.556Z"
   },
   {
    "duration": 179,
    "start_time": "2023-03-29T12:21:02.563Z"
   },
   {
    "duration": 265,
    "start_time": "2023-03-29T12:21:02.743Z"
   },
   {
    "duration": 5,
    "start_time": "2023-03-29T12:21:03.010Z"
   },
   {
    "duration": 12,
    "start_time": "2023-03-29T12:21:03.017Z"
   },
   {
    "duration": 30,
    "start_time": "2023-03-29T12:21:03.031Z"
   },
   {
    "duration": 29,
    "start_time": "2023-03-29T12:21:03.062Z"
   },
   {
    "duration": 9,
    "start_time": "2023-03-29T12:21:03.093Z"
   },
   {
    "duration": 29,
    "start_time": "2023-03-29T12:21:03.104Z"
   },
   {
    "duration": 292,
    "start_time": "2023-03-29T12:21:03.135Z"
   },
   {
    "duration": 267,
    "start_time": "2023-03-29T12:21:03.428Z"
   },
   {
    "duration": 522,
    "start_time": "2023-03-29T12:21:03.697Z"
   },
   {
    "duration": 19,
    "start_time": "2023-03-29T12:21:04.221Z"
   },
   {
    "duration": 22,
    "start_time": "2023-03-29T12:21:04.242Z"
   },
   {
    "duration": 34,
    "start_time": "2023-03-29T12:21:04.265Z"
   },
   {
    "duration": 10,
    "start_time": "2023-03-29T12:21:04.301Z"
   },
   {
    "duration": 3084,
    "start_time": "2023-03-29T12:21:04.313Z"
   },
   {
    "duration": 191817,
    "start_time": "2023-03-29T12:21:07.406Z"
   },
   {
    "duration": 0,
    "start_time": "2023-03-29T12:24:19.225Z"
   },
   {
    "duration": 0,
    "start_time": "2023-03-29T12:24:19.227Z"
   },
   {
    "duration": 0,
    "start_time": "2023-03-29T12:24:19.228Z"
   },
   {
    "duration": 0,
    "start_time": "2023-03-29T12:24:19.229Z"
   },
   {
    "duration": 8956,
    "start_time": "2023-03-29T12:24:22.517Z"
   },
   {
    "duration": 3214,
    "start_time": "2023-03-29T12:24:31.475Z"
   },
   {
    "duration": 10174,
    "start_time": "2023-03-29T12:24:34.692Z"
   },
   {
    "duration": 1358,
    "start_time": "2023-03-29T12:27:34.606Z"
   },
   {
    "duration": 671,
    "start_time": "2023-03-29T12:27:35.966Z"
   },
   {
    "duration": 25,
    "start_time": "2023-03-29T12:27:36.639Z"
   },
   {
    "duration": 34,
    "start_time": "2023-03-29T12:27:36.666Z"
   },
   {
    "duration": 40,
    "start_time": "2023-03-29T12:27:36.702Z"
   },
   {
    "duration": 16,
    "start_time": "2023-03-29T12:27:36.744Z"
   },
   {
    "duration": 24,
    "start_time": "2023-03-29T12:27:36.762Z"
   },
   {
    "duration": 8,
    "start_time": "2023-03-29T12:27:36.788Z"
   },
   {
    "duration": 21,
    "start_time": "2023-03-29T12:27:36.798Z"
   },
   {
    "duration": 6,
    "start_time": "2023-03-29T12:27:36.821Z"
   },
   {
    "duration": 6,
    "start_time": "2023-03-29T12:27:36.828Z"
   },
   {
    "duration": 44,
    "start_time": "2023-03-29T12:27:36.835Z"
   },
   {
    "duration": 11,
    "start_time": "2023-03-29T12:27:36.881Z"
   },
   {
    "duration": 17,
    "start_time": "2023-03-29T12:27:36.895Z"
   },
   {
    "duration": 123,
    "start_time": "2023-03-29T12:27:36.914Z"
   },
   {
    "duration": 20,
    "start_time": "2023-03-29T12:27:37.038Z"
   },
   {
    "duration": 100,
    "start_time": "2023-03-29T12:27:37.059Z"
   },
   {
    "duration": 8,
    "start_time": "2023-03-29T12:27:37.160Z"
   },
   {
    "duration": 21,
    "start_time": "2023-03-29T12:27:37.169Z"
   },
   {
    "duration": 9,
    "start_time": "2023-03-29T12:27:37.191Z"
   },
   {
    "duration": 9,
    "start_time": "2023-03-29T12:27:37.201Z"
   },
   {
    "duration": 12,
    "start_time": "2023-03-29T12:27:37.212Z"
   },
   {
    "duration": 7,
    "start_time": "2023-03-29T12:27:37.225Z"
   },
   {
    "duration": 11,
    "start_time": "2023-03-29T12:27:37.233Z"
   },
   {
    "duration": 8,
    "start_time": "2023-03-29T12:27:37.245Z"
   },
   {
    "duration": 20,
    "start_time": "2023-03-29T12:27:37.255Z"
   },
   {
    "duration": 6,
    "start_time": "2023-03-29T12:27:37.277Z"
   },
   {
    "duration": 16,
    "start_time": "2023-03-29T12:27:37.284Z"
   },
   {
    "duration": 10,
    "start_time": "2023-03-29T12:27:37.301Z"
   },
   {
    "duration": 28,
    "start_time": "2023-03-29T12:27:37.313Z"
   },
   {
    "duration": 18,
    "start_time": "2023-03-29T12:27:37.343Z"
   },
   {
    "duration": 12,
    "start_time": "2023-03-29T12:27:37.363Z"
   },
   {
    "duration": 20,
    "start_time": "2023-03-29T12:27:37.376Z"
   },
   {
    "duration": 28619,
    "start_time": "2023-03-29T12:27:37.397Z"
   },
   {
    "duration": 303,
    "start_time": "2023-03-29T12:28:06.018Z"
   },
   {
    "duration": 13374,
    "start_time": "2023-03-29T12:28:06.322Z"
   },
   {
    "duration": 7,
    "start_time": "2023-03-29T12:28:19.698Z"
   },
   {
    "duration": 10,
    "start_time": "2023-03-29T12:28:19.706Z"
   },
   {
    "duration": 5,
    "start_time": "2023-03-29T12:28:19.717Z"
   },
   {
    "duration": 10,
    "start_time": "2023-03-29T12:28:19.723Z"
   },
   {
    "duration": 6,
    "start_time": "2023-03-29T12:28:19.737Z"
   },
   {
    "duration": 25,
    "start_time": "2023-03-29T12:28:19.745Z"
   },
   {
    "duration": 274,
    "start_time": "2023-03-29T12:28:19.789Z"
   },
   {
    "duration": 6,
    "start_time": "2023-03-29T12:28:20.065Z"
   },
   {
    "duration": 166,
    "start_time": "2023-03-29T12:28:20.073Z"
   },
   {
    "duration": 249,
    "start_time": "2023-03-29T12:28:20.241Z"
   },
   {
    "duration": 5,
    "start_time": "2023-03-29T12:28:20.492Z"
   },
   {
    "duration": 29,
    "start_time": "2023-03-29T12:28:20.499Z"
   },
   {
    "duration": 11,
    "start_time": "2023-03-29T12:28:20.530Z"
   },
   {
    "duration": 25,
    "start_time": "2023-03-29T12:28:20.543Z"
   },
   {
    "duration": 34,
    "start_time": "2023-03-29T12:28:20.570Z"
   },
   {
    "duration": 42,
    "start_time": "2023-03-29T12:28:20.606Z"
   },
   {
    "duration": 255,
    "start_time": "2023-03-29T12:28:20.649Z"
   },
   {
    "duration": 246,
    "start_time": "2023-03-29T12:28:20.906Z"
   },
   {
    "duration": 515,
    "start_time": "2023-03-29T12:28:21.154Z"
   },
   {
    "duration": 27,
    "start_time": "2023-03-29T12:28:21.671Z"
   },
   {
    "duration": 7,
    "start_time": "2023-03-29T12:28:21.701Z"
   },
   {
    "duration": 11,
    "start_time": "2023-03-29T12:28:21.710Z"
   },
   {
    "duration": 14,
    "start_time": "2023-03-29T12:28:21.723Z"
   },
   {
    "duration": 3658,
    "start_time": "2023-03-29T12:28:21.739Z"
   },
   {
    "duration": 231370,
    "start_time": "2023-03-29T12:28:25.399Z"
   },
   {
    "duration": 0,
    "start_time": "2023-03-29T12:32:16.770Z"
   },
   {
    "duration": 0,
    "start_time": "2023-03-29T12:32:16.772Z"
   },
   {
    "duration": 0,
    "start_time": "2023-03-29T12:32:16.773Z"
   },
   {
    "duration": 0,
    "start_time": "2023-03-29T12:32:16.774Z"
   },
   {
    "duration": 0,
    "start_time": "2023-03-29T12:32:16.775Z"
   },
   {
    "duration": 19,
    "start_time": "2023-03-29T12:32:22.380Z"
   },
   {
    "duration": 110971,
    "start_time": "2023-03-29T12:32:51.987Z"
   },
   {
    "duration": 0,
    "start_time": "2023-03-29T12:34:42.961Z"
   },
   {
    "duration": 9650,
    "start_time": "2023-03-29T12:36:46.402Z"
   },
   {
    "duration": 8423,
    "start_time": "2023-03-29T12:37:01.261Z"
   },
   {
    "duration": 3103,
    "start_time": "2023-03-29T12:37:09.690Z"
   },
   {
    "duration": 12,
    "start_time": "2023-03-29T12:48:33.706Z"
   },
   {
    "duration": 4,
    "start_time": "2023-03-29T12:48:47.810Z"
   },
   {
    "duration": 11,
    "start_time": "2023-03-29T12:50:14.259Z"
   },
   {
    "duration": 1581,
    "start_time": "2023-03-29T12:56:32.984Z"
   },
   {
    "duration": 757,
    "start_time": "2023-03-29T12:56:34.567Z"
   },
   {
    "duration": 26,
    "start_time": "2023-03-29T12:56:35.326Z"
   },
   {
    "duration": 37,
    "start_time": "2023-03-29T12:56:35.354Z"
   },
   {
    "duration": 22,
    "start_time": "2023-03-29T12:56:35.394Z"
   },
   {
    "duration": 7,
    "start_time": "2023-03-29T12:56:35.418Z"
   },
   {
    "duration": 9,
    "start_time": "2023-03-29T12:56:35.427Z"
   },
   {
    "duration": 9,
    "start_time": "2023-03-29T12:56:35.438Z"
   },
   {
    "duration": 7,
    "start_time": "2023-03-29T12:56:35.449Z"
   },
   {
    "duration": 34,
    "start_time": "2023-03-29T12:56:35.457Z"
   },
   {
    "duration": 5,
    "start_time": "2023-03-29T12:56:35.493Z"
   },
   {
    "duration": 20,
    "start_time": "2023-03-29T12:56:35.499Z"
   },
   {
    "duration": 13,
    "start_time": "2023-03-29T12:56:35.520Z"
   },
   {
    "duration": 52,
    "start_time": "2023-03-29T12:56:35.537Z"
   },
   {
    "duration": 147,
    "start_time": "2023-03-29T12:56:35.591Z"
   },
   {
    "duration": 22,
    "start_time": "2023-03-29T12:56:35.740Z"
   },
   {
    "duration": 158,
    "start_time": "2023-03-29T12:56:35.764Z"
   },
   {
    "duration": 13,
    "start_time": "2023-03-29T12:56:35.925Z"
   },
   {
    "duration": 9,
    "start_time": "2023-03-29T12:56:35.940Z"
   },
   {
    "duration": 42,
    "start_time": "2023-03-29T12:56:35.951Z"
   },
   {
    "duration": 5,
    "start_time": "2023-03-29T12:56:35.995Z"
   },
   {
    "duration": 8,
    "start_time": "2023-03-29T12:56:36.002Z"
   },
   {
    "duration": 9,
    "start_time": "2023-03-29T12:56:36.013Z"
   },
   {
    "duration": 8,
    "start_time": "2023-03-29T12:56:36.023Z"
   },
   {
    "duration": 23,
    "start_time": "2023-03-29T12:56:36.033Z"
   },
   {
    "duration": 9,
    "start_time": "2023-03-29T12:56:36.059Z"
   },
   {
    "duration": 19,
    "start_time": "2023-03-29T12:56:36.070Z"
   },
   {
    "duration": 14,
    "start_time": "2023-03-29T12:56:36.091Z"
   },
   {
    "duration": 19,
    "start_time": "2023-03-29T12:56:36.107Z"
   },
   {
    "duration": 27,
    "start_time": "2023-03-29T12:56:36.128Z"
   },
   {
    "duration": 36,
    "start_time": "2023-03-29T12:56:36.158Z"
   },
   {
    "duration": 16,
    "start_time": "2023-03-29T12:56:36.196Z"
   },
   {
    "duration": 20,
    "start_time": "2023-03-29T12:56:36.214Z"
   },
   {
    "duration": 33164,
    "start_time": "2023-03-29T12:56:36.236Z"
   },
   {
    "duration": 238,
    "start_time": "2023-03-29T12:57:09.402Z"
   },
   {
    "duration": 20209,
    "start_time": "2023-03-29T12:57:09.642Z"
   },
   {
    "duration": 9,
    "start_time": "2023-03-29T12:57:29.853Z"
   },
   {
    "duration": 27,
    "start_time": "2023-03-29T12:57:29.865Z"
   },
   {
    "duration": 7,
    "start_time": "2023-03-29T12:57:29.894Z"
   },
   {
    "duration": 11,
    "start_time": "2023-03-29T12:57:29.903Z"
   },
   {
    "duration": 8,
    "start_time": "2023-03-29T12:57:29.918Z"
   },
   {
    "duration": 9,
    "start_time": "2023-03-29T12:57:29.927Z"
   },
   {
    "duration": 419,
    "start_time": "2023-03-29T12:57:29.938Z"
   },
   {
    "duration": 8,
    "start_time": "2023-03-29T12:57:30.359Z"
   },
   {
    "duration": 301,
    "start_time": "2023-03-29T12:57:30.369Z"
   },
   {
    "duration": 282,
    "start_time": "2023-03-29T12:57:30.672Z"
   },
   {
    "duration": 6,
    "start_time": "2023-03-29T12:57:30.955Z"
   },
   {
    "duration": 74,
    "start_time": "2023-03-29T12:57:30.963Z"
   },
   {
    "duration": 76,
    "start_time": "2023-03-29T12:57:31.039Z"
   },
   {
    "duration": 92,
    "start_time": "2023-03-29T12:57:31.117Z"
   },
   {
    "duration": 50,
    "start_time": "2023-03-29T12:57:31.212Z"
   },
   {
    "duration": 109,
    "start_time": "2023-03-29T12:57:31.265Z"
   },
   {
    "duration": 380,
    "start_time": "2023-03-29T12:57:31.376Z"
   },
   {
    "duration": 312,
    "start_time": "2023-03-29T12:57:31.759Z"
   },
   {
    "duration": 573,
    "start_time": "2023-03-29T12:57:32.073Z"
   },
   {
    "duration": 21,
    "start_time": "2023-03-29T12:57:32.648Z"
   },
   {
    "duration": 20,
    "start_time": "2023-03-29T12:57:32.672Z"
   },
   {
    "duration": 17,
    "start_time": "2023-03-29T12:57:32.695Z"
   },
   {
    "duration": 53,
    "start_time": "2023-03-29T12:57:32.714Z"
   },
   {
    "duration": 5367,
    "start_time": "2023-03-29T12:57:32.769Z"
   },
   {
    "duration": 9476,
    "start_time": "2023-03-29T12:57:38.144Z"
   },
   {
    "duration": 3779,
    "start_time": "2023-03-29T12:57:47.623Z"
   },
   {
    "duration": 10442,
    "start_time": "2023-03-29T12:57:51.404Z"
   },
   {
    "duration": 155,
    "start_time": "2023-03-29T12:58:01.847Z"
   },
   {
    "duration": 0,
    "start_time": "2023-03-29T12:58:02.005Z"
   },
   {
    "duration": 0,
    "start_time": "2023-03-29T12:58:02.013Z"
   },
   {
    "duration": 0,
    "start_time": "2023-03-29T12:58:02.015Z"
   },
   {
    "duration": 0,
    "start_time": "2023-03-29T12:58:02.016Z"
   },
   {
    "duration": 0,
    "start_time": "2023-03-29T12:58:02.017Z"
   },
   {
    "duration": 1635,
    "start_time": "2023-03-29T13:07:15.267Z"
   },
   {
    "duration": 701,
    "start_time": "2023-03-29T13:07:16.903Z"
   },
   {
    "duration": 25,
    "start_time": "2023-03-29T13:07:17.606Z"
   },
   {
    "duration": 23,
    "start_time": "2023-03-29T13:07:17.632Z"
   },
   {
    "duration": 42,
    "start_time": "2023-03-29T13:07:17.657Z"
   },
   {
    "duration": 5,
    "start_time": "2023-03-29T13:07:17.701Z"
   },
   {
    "duration": 6,
    "start_time": "2023-03-29T13:07:17.708Z"
   },
   {
    "duration": 16,
    "start_time": "2023-03-29T13:07:17.716Z"
   },
   {
    "duration": 7,
    "start_time": "2023-03-29T13:07:17.734Z"
   },
   {
    "duration": 25,
    "start_time": "2023-03-29T13:07:17.743Z"
   },
   {
    "duration": 6,
    "start_time": "2023-03-29T13:07:17.770Z"
   },
   {
    "duration": 22,
    "start_time": "2023-03-29T13:07:17.778Z"
   },
   {
    "duration": 16,
    "start_time": "2023-03-29T13:07:17.802Z"
   },
   {
    "duration": 18,
    "start_time": "2023-03-29T13:07:17.821Z"
   },
   {
    "duration": 142,
    "start_time": "2023-03-29T13:07:17.841Z"
   },
   {
    "duration": 22,
    "start_time": "2023-03-29T13:07:17.985Z"
   },
   {
    "duration": 102,
    "start_time": "2023-03-29T13:07:18.009Z"
   },
   {
    "duration": 10,
    "start_time": "2023-03-29T13:07:18.113Z"
   },
   {
    "duration": 8,
    "start_time": "2023-03-29T13:07:18.124Z"
   },
   {
    "duration": 12,
    "start_time": "2023-03-29T13:07:18.134Z"
   },
   {
    "duration": 4,
    "start_time": "2023-03-29T13:07:18.148Z"
   },
   {
    "duration": 36,
    "start_time": "2023-03-29T13:07:18.154Z"
   },
   {
    "duration": 38,
    "start_time": "2023-03-29T13:07:18.192Z"
   },
   {
    "duration": 7,
    "start_time": "2023-03-29T13:07:18.231Z"
   },
   {
    "duration": 6,
    "start_time": "2023-03-29T13:07:18.239Z"
   },
   {
    "duration": 9,
    "start_time": "2023-03-29T13:07:18.247Z"
   },
   {
    "duration": 8,
    "start_time": "2023-03-29T13:07:18.258Z"
   },
   {
    "duration": 6,
    "start_time": "2023-03-29T13:07:18.268Z"
   },
   {
    "duration": 9,
    "start_time": "2023-03-29T13:07:18.275Z"
   },
   {
    "duration": 13,
    "start_time": "2023-03-29T13:07:18.290Z"
   },
   {
    "duration": 23,
    "start_time": "2023-03-29T13:07:18.304Z"
   },
   {
    "duration": 16,
    "start_time": "2023-03-29T13:07:18.328Z"
   },
   {
    "duration": 22,
    "start_time": "2023-03-29T13:07:18.345Z"
   },
   {
    "duration": 25709,
    "start_time": "2023-03-29T13:07:18.389Z"
   },
   {
    "duration": 229,
    "start_time": "2023-03-29T13:07:44.099Z"
   },
   {
    "duration": 15528,
    "start_time": "2023-03-29T13:07:44.330Z"
   },
   {
    "duration": 6,
    "start_time": "2023-03-29T13:07:59.860Z"
   },
   {
    "duration": 23,
    "start_time": "2023-03-29T13:07:59.867Z"
   },
   {
    "duration": 5,
    "start_time": "2023-03-29T13:07:59.891Z"
   },
   {
    "duration": 7,
    "start_time": "2023-03-29T13:07:59.897Z"
   },
   {
    "duration": 6,
    "start_time": "2023-03-29T13:07:59.908Z"
   },
   {
    "duration": 9,
    "start_time": "2023-03-29T13:07:59.916Z"
   },
   {
    "duration": 287,
    "start_time": "2023-03-29T13:07:59.926Z"
   },
   {
    "duration": 6,
    "start_time": "2023-03-29T13:08:00.215Z"
   },
   {
    "duration": 174,
    "start_time": "2023-03-29T13:08:00.222Z"
   },
   {
    "duration": 262,
    "start_time": "2023-03-29T13:08:00.398Z"
   },
   {
    "duration": 5,
    "start_time": "2023-03-29T13:08:00.661Z"
   },
   {
    "duration": 27,
    "start_time": "2023-03-29T13:08:00.668Z"
   },
   {
    "duration": 34,
    "start_time": "2023-03-29T13:08:00.698Z"
   },
   {
    "duration": 20,
    "start_time": "2023-03-29T13:08:00.734Z"
   },
   {
    "duration": 26,
    "start_time": "2023-03-29T13:08:00.755Z"
   },
   {
    "duration": 61,
    "start_time": "2023-03-29T13:08:00.782Z"
   },
   {
    "duration": 249,
    "start_time": "2023-03-29T13:08:00.844Z"
   },
   {
    "duration": 259,
    "start_time": "2023-03-29T13:08:01.095Z"
   },
   {
    "duration": 524,
    "start_time": "2023-03-29T13:08:01.356Z"
   },
   {
    "duration": 18,
    "start_time": "2023-03-29T13:08:01.889Z"
   },
   {
    "duration": 24,
    "start_time": "2023-03-29T13:08:01.908Z"
   },
   {
    "duration": 28,
    "start_time": "2023-03-29T13:08:01.933Z"
   },
   {
    "duration": 25,
    "start_time": "2023-03-29T13:08:01.963Z"
   },
   {
    "duration": 3100,
    "start_time": "2023-03-29T13:08:01.990Z"
   },
   {
    "duration": 8388,
    "start_time": "2023-03-29T13:08:05.092Z"
   },
   {
    "duration": 291,
    "start_time": "2023-03-29T13:40:03.605Z"
   },
   {
    "duration": 894,
    "start_time": "2023-03-29T13:41:05.298Z"
   },
   {
    "duration": 3989,
    "start_time": "2023-03-29T13:41:19.803Z"
   },
   {
    "duration": 5284,
    "start_time": "2023-03-29T13:41:38.814Z"
   },
   {
    "duration": 14,
    "start_time": "2023-03-29T13:41:47.126Z"
   },
   {
    "duration": 14,
    "start_time": "2023-03-29T13:42:03.746Z"
   },
   {
    "duration": 4,
    "start_time": "2023-03-29T13:42:26.458Z"
   },
   {
    "duration": 197,
    "start_time": "2023-03-29T13:43:47.301Z"
   },
   {
    "duration": 5,
    "start_time": "2023-03-29T13:43:48.942Z"
   },
   {
    "duration": 5,
    "start_time": "2023-03-29T13:44:43.321Z"
   },
   {
    "duration": 469,
    "start_time": "2023-03-29T13:44:46.726Z"
   },
   {
    "duration": 4,
    "start_time": "2023-03-29T13:45:19.859Z"
   },
   {
    "duration": 3,
    "start_time": "2023-03-29T13:46:08.646Z"
   },
   {
    "duration": 5,
    "start_time": "2023-03-29T13:46:18.929Z"
   },
   {
    "duration": 1496,
    "start_time": "2023-03-29T13:46:53.976Z"
   },
   {
    "duration": 687,
    "start_time": "2023-03-29T13:46:55.475Z"
   },
   {
    "duration": 49,
    "start_time": "2023-03-29T13:46:56.163Z"
   },
   {
    "duration": 28,
    "start_time": "2023-03-29T13:46:56.214Z"
   },
   {
    "duration": 61,
    "start_time": "2023-03-29T13:46:56.246Z"
   },
   {
    "duration": 7,
    "start_time": "2023-03-29T13:46:56.309Z"
   },
   {
    "duration": 6,
    "start_time": "2023-03-29T13:46:56.318Z"
   },
   {
    "duration": 8,
    "start_time": "2023-03-29T13:46:56.326Z"
   },
   {
    "duration": 6,
    "start_time": "2023-03-29T13:46:56.336Z"
   },
   {
    "duration": 10,
    "start_time": "2023-03-29T13:46:56.344Z"
   },
   {
    "duration": 36,
    "start_time": "2023-03-29T13:46:56.355Z"
   },
   {
    "duration": 28,
    "start_time": "2023-03-29T13:46:56.393Z"
   },
   {
    "duration": 15,
    "start_time": "2023-03-29T13:46:56.423Z"
   },
   {
    "duration": 30,
    "start_time": "2023-03-29T13:46:56.441Z"
   },
   {
    "duration": 146,
    "start_time": "2023-03-29T13:46:56.473Z"
   },
   {
    "duration": 23,
    "start_time": "2023-03-29T13:46:56.621Z"
   },
   {
    "duration": 114,
    "start_time": "2023-03-29T13:46:56.646Z"
   },
   {
    "duration": 8,
    "start_time": "2023-03-29T13:46:56.762Z"
   },
   {
    "duration": 21,
    "start_time": "2023-03-29T13:46:56.772Z"
   },
   {
    "duration": 10,
    "start_time": "2023-03-29T13:46:56.795Z"
   },
   {
    "duration": 10,
    "start_time": "2023-03-29T13:46:56.807Z"
   },
   {
    "duration": 15,
    "start_time": "2023-03-29T13:46:56.819Z"
   },
   {
    "duration": 5,
    "start_time": "2023-03-29T13:46:56.835Z"
   },
   {
    "duration": 3,
    "start_time": "2023-03-29T13:46:56.842Z"
   },
   {
    "duration": 5,
    "start_time": "2023-03-29T13:46:56.847Z"
   },
   {
    "duration": 39,
    "start_time": "2023-03-29T13:46:56.853Z"
   },
   {
    "duration": 7,
    "start_time": "2023-03-29T13:46:56.895Z"
   },
   {
    "duration": 7,
    "start_time": "2023-03-29T13:46:56.905Z"
   },
   {
    "duration": 17,
    "start_time": "2023-03-29T13:46:56.914Z"
   },
   {
    "duration": 27,
    "start_time": "2023-03-29T13:46:56.933Z"
   },
   {
    "duration": 51,
    "start_time": "2023-03-29T13:46:56.963Z"
   },
   {
    "duration": 16,
    "start_time": "2023-03-29T13:46:57.016Z"
   },
   {
    "duration": 34,
    "start_time": "2023-03-29T13:46:57.035Z"
   },
   {
    "duration": 30035,
    "start_time": "2023-03-29T13:46:57.090Z"
   },
   {
    "duration": 208,
    "start_time": "2023-03-29T13:47:27.127Z"
   },
   {
    "duration": 13792,
    "start_time": "2023-03-29T13:47:27.338Z"
   },
   {
    "duration": 6,
    "start_time": "2023-03-29T13:47:41.132Z"
   },
   {
    "duration": 33,
    "start_time": "2023-03-29T13:47:41.139Z"
   },
   {
    "duration": 32,
    "start_time": "2023-03-29T13:47:41.173Z"
   },
   {
    "duration": 22,
    "start_time": "2023-03-29T13:47:41.206Z"
   },
   {
    "duration": 30,
    "start_time": "2023-03-29T13:47:41.233Z"
   },
   {
    "duration": 29,
    "start_time": "2023-03-29T13:47:41.265Z"
   },
   {
    "duration": 263,
    "start_time": "2023-03-29T13:47:41.296Z"
   },
   {
    "duration": 8,
    "start_time": "2023-03-29T13:47:41.561Z"
   },
   {
    "duration": 177,
    "start_time": "2023-03-29T13:47:41.570Z"
   },
   {
    "duration": 260,
    "start_time": "2023-03-29T13:47:41.750Z"
   },
   {
    "duration": 6,
    "start_time": "2023-03-29T13:47:42.012Z"
   },
   {
    "duration": 6,
    "start_time": "2023-03-29T13:47:42.020Z"
   },
   {
    "duration": 10,
    "start_time": "2023-03-29T13:47:42.028Z"
   },
   {
    "duration": 9,
    "start_time": "2023-03-29T13:47:42.040Z"
   },
   {
    "duration": 39,
    "start_time": "2023-03-29T13:47:42.052Z"
   },
   {
    "duration": 41,
    "start_time": "2023-03-29T13:47:42.094Z"
   },
   {
    "duration": 270,
    "start_time": "2023-03-29T13:47:42.138Z"
   },
   {
    "duration": 281,
    "start_time": "2023-03-29T13:47:42.410Z"
   },
   {
    "duration": 665,
    "start_time": "2023-03-29T13:47:42.694Z"
   },
   {
    "duration": 28,
    "start_time": "2023-03-29T13:47:43.361Z"
   },
   {
    "duration": 7,
    "start_time": "2023-03-29T13:47:43.392Z"
   },
   {
    "duration": 12,
    "start_time": "2023-03-29T13:47:43.401Z"
   },
   {
    "duration": 8,
    "start_time": "2023-03-29T13:47:43.415Z"
   },
   {
    "duration": 6178,
    "start_time": "2023-03-29T13:47:43.424Z"
   },
   {
    "duration": 92,
    "start_time": "2023-03-29T13:47:49.604Z"
   },
   {
    "duration": 8,
    "start_time": "2023-03-29T13:47:49.698Z"
   },
   {
    "duration": 86,
    "start_time": "2023-03-29T13:47:49.709Z"
   },
   {
    "duration": 9196,
    "start_time": "2023-03-29T13:47:49.797Z"
   },
   {
    "duration": 129,
    "start_time": "2023-03-29T13:47:58.994Z"
   },
   {
    "duration": 0,
    "start_time": "2023-03-29T13:47:59.125Z"
   },
   {
    "duration": 0,
    "start_time": "2023-03-29T13:47:59.126Z"
   },
   {
    "duration": 0,
    "start_time": "2023-03-29T13:47:59.127Z"
   },
   {
    "duration": 0,
    "start_time": "2023-03-29T13:47:59.128Z"
   },
   {
    "duration": 0,
    "start_time": "2023-03-29T13:47:59.129Z"
   },
   {
    "duration": 0,
    "start_time": "2023-03-29T13:47:59.130Z"
   },
   {
    "duration": 0,
    "start_time": "2023-03-29T13:47:59.131Z"
   },
   {
    "duration": 3606,
    "start_time": "2023-03-29T13:57:26.243Z"
   },
   {
    "duration": 3216,
    "start_time": "2023-03-29T13:58:15.880Z"
   },
   {
    "duration": 8663,
    "start_time": "2023-03-29T13:59:40.026Z"
   },
   {
    "duration": 8598,
    "start_time": "2023-03-29T14:01:30.241Z"
   },
   {
    "duration": 8498,
    "start_time": "2023-03-29T14:02:45.528Z"
   },
   {
    "duration": 3270,
    "start_time": "2023-03-29T14:04:11.920Z"
   },
   {
    "duration": 1156,
    "start_time": "2023-03-29T14:05:48.840Z"
   },
   {
    "duration": 10193,
    "start_time": "2023-03-29T14:05:57.343Z"
   },
   {
    "duration": 20,
    "start_time": "2023-03-29T14:08:13.108Z"
   },
   {
    "duration": 10,
    "start_time": "2023-03-29T14:10:25.701Z"
   },
   {
    "duration": 4,
    "start_time": "2023-03-29T14:11:50.573Z"
   },
   {
    "duration": 1646,
    "start_time": "2023-03-29T14:16:27.431Z"
   },
   {
    "duration": 713,
    "start_time": "2023-03-29T14:16:29.078Z"
   },
   {
    "duration": 41,
    "start_time": "2023-03-29T14:16:29.793Z"
   },
   {
    "duration": 23,
    "start_time": "2023-03-29T14:16:29.836Z"
   },
   {
    "duration": 54,
    "start_time": "2023-03-29T14:16:29.862Z"
   },
   {
    "duration": 5,
    "start_time": "2023-03-29T14:16:29.919Z"
   },
   {
    "duration": 4,
    "start_time": "2023-03-29T14:16:29.926Z"
   },
   {
    "duration": 9,
    "start_time": "2023-03-29T14:16:29.932Z"
   },
   {
    "duration": 6,
    "start_time": "2023-03-29T14:16:29.942Z"
   },
   {
    "duration": 4,
    "start_time": "2023-03-29T14:16:29.950Z"
   },
   {
    "duration": 4,
    "start_time": "2023-03-29T14:16:29.990Z"
   },
   {
    "duration": 20,
    "start_time": "2023-03-29T14:16:29.996Z"
   },
   {
    "duration": 15,
    "start_time": "2023-03-29T14:16:30.018Z"
   },
   {
    "duration": 22,
    "start_time": "2023-03-29T14:16:30.037Z"
   },
   {
    "duration": 153,
    "start_time": "2023-03-29T14:16:30.061Z"
   },
   {
    "duration": 22,
    "start_time": "2023-03-29T14:16:30.216Z"
   },
   {
    "duration": 129,
    "start_time": "2023-03-29T14:16:30.240Z"
   },
   {
    "duration": 19,
    "start_time": "2023-03-29T14:16:30.371Z"
   },
   {
    "duration": 31,
    "start_time": "2023-03-29T14:16:30.392Z"
   },
   {
    "duration": 55,
    "start_time": "2023-03-29T14:16:30.425Z"
   },
   {
    "duration": 28,
    "start_time": "2023-03-29T14:16:30.481Z"
   },
   {
    "duration": 63,
    "start_time": "2023-03-29T14:16:30.511Z"
   },
   {
    "duration": 38,
    "start_time": "2023-03-29T14:16:30.576Z"
   },
   {
    "duration": 50,
    "start_time": "2023-03-29T14:16:30.615Z"
   },
   {
    "duration": 48,
    "start_time": "2023-03-29T14:16:30.667Z"
   },
   {
    "duration": 42,
    "start_time": "2023-03-29T14:16:30.716Z"
   },
   {
    "duration": 29,
    "start_time": "2023-03-29T14:16:30.760Z"
   },
   {
    "duration": 47,
    "start_time": "2023-03-29T14:16:30.791Z"
   },
   {
    "duration": 41,
    "start_time": "2023-03-29T14:16:30.839Z"
   },
   {
    "duration": 61,
    "start_time": "2023-03-29T14:16:30.881Z"
   },
   {
    "duration": 84,
    "start_time": "2023-03-29T14:16:30.943Z"
   },
   {
    "duration": 62,
    "start_time": "2023-03-29T14:16:31.029Z"
   },
   {
    "duration": 28,
    "start_time": "2023-03-29T14:16:31.093Z"
   },
   {
    "duration": 31693,
    "start_time": "2023-03-29T14:16:31.122Z"
   },
   {
    "duration": 206,
    "start_time": "2023-03-29T14:17:02.817Z"
   },
   {
    "duration": 15163,
    "start_time": "2023-03-29T14:17:03.024Z"
   },
   {
    "duration": 6,
    "start_time": "2023-03-29T14:17:18.190Z"
   },
   {
    "duration": 16,
    "start_time": "2023-03-29T14:17:18.198Z"
   },
   {
    "duration": 5,
    "start_time": "2023-03-29T14:17:18.216Z"
   },
   {
    "duration": 15,
    "start_time": "2023-03-29T14:17:18.222Z"
   },
   {
    "duration": 41,
    "start_time": "2023-03-29T14:17:18.241Z"
   },
   {
    "duration": 43,
    "start_time": "2023-03-29T14:17:18.284Z"
   },
   {
    "duration": 255,
    "start_time": "2023-03-29T14:17:18.329Z"
   },
   {
    "duration": 7,
    "start_time": "2023-03-29T14:17:18.587Z"
   },
   {
    "duration": 170,
    "start_time": "2023-03-29T14:17:18.595Z"
   },
   {
    "duration": 269,
    "start_time": "2023-03-29T14:17:18.767Z"
   },
   {
    "duration": 5,
    "start_time": "2023-03-29T14:17:19.038Z"
   },
   {
    "duration": 8,
    "start_time": "2023-03-29T14:17:19.044Z"
   },
   {
    "duration": 12,
    "start_time": "2023-03-29T14:17:19.054Z"
   },
   {
    "duration": 26,
    "start_time": "2023-03-29T14:17:19.067Z"
   },
   {
    "duration": 9,
    "start_time": "2023-03-29T14:17:19.095Z"
   },
   {
    "duration": 28,
    "start_time": "2023-03-29T14:17:19.106Z"
   },
   {
    "duration": 283,
    "start_time": "2023-03-29T14:17:19.136Z"
   },
   {
    "duration": 280,
    "start_time": "2023-03-29T14:17:19.421Z"
   },
   {
    "duration": 519,
    "start_time": "2023-03-29T14:17:19.703Z"
   },
   {
    "duration": 19,
    "start_time": "2023-03-29T14:17:20.224Z"
   },
   {
    "duration": 24,
    "start_time": "2023-03-29T14:17:20.245Z"
   },
   {
    "duration": 71,
    "start_time": "2023-03-29T14:17:20.271Z"
   },
   {
    "duration": 39,
    "start_time": "2023-03-29T14:17:20.344Z"
   },
   {
    "duration": 3310,
    "start_time": "2023-03-29T14:17:20.385Z"
   },
   {
    "duration": 8663,
    "start_time": "2023-03-29T14:17:23.697Z"
   },
   {
    "duration": 4536,
    "start_time": "2023-03-29T14:17:32.362Z"
   },
   {
    "duration": 5,
    "start_time": "2023-03-29T14:17:36.900Z"
   },
   {
    "duration": 10637,
    "start_time": "2023-03-29T14:17:36.906Z"
   },
   {
    "duration": 21,
    "start_time": "2023-03-29T14:17:47.545Z"
   },
   {
    "duration": 28,
    "start_time": "2023-03-29T14:17:47.568Z"
   },
   {
    "duration": 122,
    "start_time": "2023-03-29T14:17:47.603Z"
   },
   {
    "duration": 0,
    "start_time": "2023-03-29T14:17:47.726Z"
   },
   {
    "duration": 0,
    "start_time": "2023-03-29T14:17:47.728Z"
   },
   {
    "duration": 0,
    "start_time": "2023-03-29T14:17:47.729Z"
   },
   {
    "duration": 0,
    "start_time": "2023-03-29T14:17:47.731Z"
   },
   {
    "duration": 55,
    "start_time": "2023-03-29T19:43:49.332Z"
   },
   {
    "duration": 1758,
    "start_time": "2023-03-29T19:43:54.776Z"
   },
   {
    "duration": 3250,
    "start_time": "2023-03-29T19:43:56.536Z"
   },
   {
    "duration": 42,
    "start_time": "2023-03-29T19:43:59.788Z"
   },
   {
    "duration": 46,
    "start_time": "2023-03-29T19:43:59.832Z"
   },
   {
    "duration": 21,
    "start_time": "2023-03-29T19:43:59.880Z"
   },
   {
    "duration": 5,
    "start_time": "2023-03-29T19:43:59.903Z"
   },
   {
    "duration": 4,
    "start_time": "2023-03-29T19:43:59.910Z"
   },
   {
    "duration": 7,
    "start_time": "2023-03-29T19:43:59.916Z"
   },
   {
    "duration": 7,
    "start_time": "2023-03-29T19:43:59.925Z"
   },
   {
    "duration": 5,
    "start_time": "2023-03-29T19:43:59.949Z"
   },
   {
    "duration": 12,
    "start_time": "2023-03-29T19:43:59.956Z"
   },
   {
    "duration": 23,
    "start_time": "2023-03-29T19:43:59.969Z"
   },
   {
    "duration": 14,
    "start_time": "2023-03-29T19:43:59.994Z"
   },
   {
    "duration": 47,
    "start_time": "2023-03-29T19:44:00.012Z"
   },
   {
    "duration": 141,
    "start_time": "2023-03-29T19:44:00.061Z"
   },
   {
    "duration": 23,
    "start_time": "2023-03-29T19:44:00.203Z"
   },
   {
    "duration": 122,
    "start_time": "2023-03-29T19:44:00.228Z"
   },
   {
    "duration": 10,
    "start_time": "2023-03-29T19:44:00.352Z"
   },
   {
    "duration": 25,
    "start_time": "2023-03-29T19:44:00.363Z"
   },
   {
    "duration": 27,
    "start_time": "2023-03-29T19:44:00.389Z"
   },
   {
    "duration": 22,
    "start_time": "2023-03-29T19:44:00.417Z"
   },
   {
    "duration": 22,
    "start_time": "2023-03-29T19:44:00.440Z"
   },
   {
    "duration": 26,
    "start_time": "2023-03-29T19:44:00.464Z"
   },
   {
    "duration": 33,
    "start_time": "2023-03-29T19:44:00.493Z"
   },
   {
    "duration": 36,
    "start_time": "2023-03-29T19:44:00.528Z"
   },
   {
    "duration": 36,
    "start_time": "2023-03-29T19:44:00.566Z"
   },
   {
    "duration": 38,
    "start_time": "2023-03-29T19:44:00.604Z"
   },
   {
    "duration": 24,
    "start_time": "2023-03-29T19:44:00.644Z"
   },
   {
    "duration": 32,
    "start_time": "2023-03-29T19:44:00.671Z"
   },
   {
    "duration": 48,
    "start_time": "2023-03-29T19:44:00.706Z"
   },
   {
    "duration": 57,
    "start_time": "2023-03-29T19:44:00.757Z"
   },
   {
    "duration": 39,
    "start_time": "2023-03-29T19:44:00.816Z"
   },
   {
    "duration": 35,
    "start_time": "2023-03-29T19:44:00.858Z"
   },
   {
    "duration": 12836,
    "start_time": "2023-03-29T19:44:00.895Z"
   },
   {
    "duration": 236,
    "start_time": "2023-03-29T19:44:13.733Z"
   },
   {
    "duration": 7977,
    "start_time": "2023-03-29T19:44:13.970Z"
   },
   {
    "duration": 7,
    "start_time": "2023-03-29T19:44:21.949Z"
   },
   {
    "duration": 11,
    "start_time": "2023-03-29T19:44:21.958Z"
   },
   {
    "duration": 6,
    "start_time": "2023-03-29T19:44:21.972Z"
   },
   {
    "duration": 20,
    "start_time": "2023-03-29T19:44:21.979Z"
   },
   {
    "duration": 17,
    "start_time": "2023-03-29T19:44:22.003Z"
   },
   {
    "duration": 9,
    "start_time": "2023-03-29T19:44:22.022Z"
   },
   {
    "duration": 237,
    "start_time": "2023-03-29T19:44:22.032Z"
   },
   {
    "duration": 6,
    "start_time": "2023-03-29T19:44:22.271Z"
   },
   {
    "duration": 243,
    "start_time": "2023-03-29T19:44:22.279Z"
   },
   {
    "duration": 160,
    "start_time": "2023-03-29T19:44:22.523Z"
   },
   {
    "duration": 5,
    "start_time": "2023-03-29T19:44:22.685Z"
   },
   {
    "duration": 10,
    "start_time": "2023-03-29T19:44:22.691Z"
   },
   {
    "duration": 17,
    "start_time": "2023-03-29T19:44:22.703Z"
   },
   {
    "duration": 11,
    "start_time": "2023-03-29T19:44:22.722Z"
   },
   {
    "duration": 17,
    "start_time": "2023-03-29T19:44:22.735Z"
   },
   {
    "duration": 21,
    "start_time": "2023-03-29T19:44:22.753Z"
   },
   {
    "duration": 219,
    "start_time": "2023-03-29T19:44:22.775Z"
   },
   {
    "duration": 221,
    "start_time": "2023-03-29T19:44:22.996Z"
   },
   {
    "duration": 420,
    "start_time": "2023-03-29T19:44:23.219Z"
   },
   {
    "duration": 22,
    "start_time": "2023-03-29T19:44:23.641Z"
   },
   {
    "duration": 5,
    "start_time": "2023-03-29T19:44:23.665Z"
   },
   {
    "duration": 15,
    "start_time": "2023-03-29T19:44:23.672Z"
   },
   {
    "duration": 12,
    "start_time": "2023-03-29T19:44:23.689Z"
   },
   {
    "duration": 2556,
    "start_time": "2023-03-29T19:44:23.702Z"
   },
   {
    "duration": 0,
    "start_time": "2023-03-29T19:44:26.260Z"
   },
   {
    "duration": 0,
    "start_time": "2023-03-29T19:44:26.261Z"
   },
   {
    "duration": 0,
    "start_time": "2023-03-29T19:44:26.263Z"
   },
   {
    "duration": 0,
    "start_time": "2023-03-29T19:44:26.264Z"
   },
   {
    "duration": 0,
    "start_time": "2023-03-29T19:44:26.265Z"
   },
   {
    "duration": 0,
    "start_time": "2023-03-29T19:44:26.266Z"
   },
   {
    "duration": 0,
    "start_time": "2023-03-29T19:44:26.267Z"
   },
   {
    "duration": 0,
    "start_time": "2023-03-29T19:44:26.269Z"
   },
   {
    "duration": 0,
    "start_time": "2023-03-29T19:44:26.270Z"
   },
   {
    "duration": 0,
    "start_time": "2023-03-29T19:44:26.272Z"
   },
   {
    "duration": 0,
    "start_time": "2023-03-29T19:44:26.273Z"
   },
   {
    "duration": 0,
    "start_time": "2023-03-29T19:44:26.274Z"
   },
   {
    "duration": 2795,
    "start_time": "2023-03-29T19:45:49.861Z"
   },
   {
    "duration": 2627,
    "start_time": "2023-03-29T19:46:11.424Z"
   },
   {
    "duration": 9,
    "start_time": "2023-03-29T19:46:15.668Z"
   },
   {
    "duration": 12,
    "start_time": "2023-03-29T19:46:44.017Z"
   },
   {
    "duration": 15,
    "start_time": "2023-03-29T19:46:51.604Z"
   },
   {
    "duration": 293,
    "start_time": "2023-03-29T19:47:17.952Z"
   },
   {
    "duration": 1408,
    "start_time": "2023-03-29T19:51:03.728Z"
   },
   {
    "duration": 628,
    "start_time": "2023-03-29T19:51:05.138Z"
   },
   {
    "duration": 21,
    "start_time": "2023-03-29T19:51:05.767Z"
   },
   {
    "duration": 18,
    "start_time": "2023-03-29T19:51:05.790Z"
   },
   {
    "duration": 20,
    "start_time": "2023-03-29T19:51:05.810Z"
   },
   {
    "duration": 19,
    "start_time": "2023-03-29T19:51:05.831Z"
   },
   {
    "duration": 20,
    "start_time": "2023-03-29T19:51:05.851Z"
   },
   {
    "duration": 23,
    "start_time": "2023-03-29T19:51:05.873Z"
   },
   {
    "duration": 8,
    "start_time": "2023-03-29T19:51:05.898Z"
   },
   {
    "duration": 11,
    "start_time": "2023-03-29T19:51:05.908Z"
   },
   {
    "duration": 5,
    "start_time": "2023-03-29T19:51:05.920Z"
   },
   {
    "duration": 28,
    "start_time": "2023-03-29T19:51:05.927Z"
   },
   {
    "duration": 14,
    "start_time": "2023-03-29T19:51:05.957Z"
   },
   {
    "duration": 16,
    "start_time": "2023-03-29T19:51:05.972Z"
   },
   {
    "duration": 120,
    "start_time": "2023-03-29T19:51:05.990Z"
   },
   {
    "duration": 19,
    "start_time": "2023-03-29T19:51:06.112Z"
   },
   {
    "duration": 95,
    "start_time": "2023-03-29T19:51:06.133Z"
   },
   {
    "duration": 8,
    "start_time": "2023-03-29T19:51:06.229Z"
   },
   {
    "duration": 5,
    "start_time": "2023-03-29T19:51:06.249Z"
   },
   {
    "duration": 8,
    "start_time": "2023-03-29T19:51:06.256Z"
   },
   {
    "duration": 3,
    "start_time": "2023-03-29T19:51:06.265Z"
   },
   {
    "duration": 5,
    "start_time": "2023-03-29T19:51:06.270Z"
   },
   {
    "duration": 5,
    "start_time": "2023-03-29T19:51:06.277Z"
   },
   {
    "duration": 5,
    "start_time": "2023-03-29T19:51:06.283Z"
   },
   {
    "duration": 7,
    "start_time": "2023-03-29T19:51:06.289Z"
   },
   {
    "duration": 9,
    "start_time": "2023-03-29T19:51:06.298Z"
   },
   {
    "duration": 6,
    "start_time": "2023-03-29T19:51:06.308Z"
   },
   {
    "duration": 4,
    "start_time": "2023-03-29T19:51:06.348Z"
   },
   {
    "duration": 8,
    "start_time": "2023-03-29T19:51:06.353Z"
   },
   {
    "duration": 13,
    "start_time": "2023-03-29T19:51:06.363Z"
   },
   {
    "duration": 18,
    "start_time": "2023-03-29T19:51:06.377Z"
   },
   {
    "duration": 16,
    "start_time": "2023-03-29T19:51:06.397Z"
   },
   {
    "duration": 35,
    "start_time": "2023-03-29T19:51:06.415Z"
   },
   {
    "duration": 12237,
    "start_time": "2023-03-29T19:51:06.452Z"
   },
   {
    "duration": 296,
    "start_time": "2023-03-29T19:51:18.690Z"
   },
   {
    "duration": 16399,
    "start_time": "2023-03-29T19:51:18.988Z"
   },
   {
    "duration": 5,
    "start_time": "2023-03-29T19:51:35.389Z"
   },
   {
    "duration": 21,
    "start_time": "2023-03-29T19:51:35.396Z"
   },
   {
    "duration": 5,
    "start_time": "2023-03-29T19:51:35.418Z"
   },
   {
    "duration": 26,
    "start_time": "2023-03-29T19:51:35.424Z"
   },
   {
    "duration": 29,
    "start_time": "2023-03-29T19:51:35.452Z"
   },
   {
    "duration": 45,
    "start_time": "2023-03-29T19:51:35.482Z"
   },
   {
    "duration": 273,
    "start_time": "2023-03-29T19:51:35.529Z"
   },
   {
    "duration": 6,
    "start_time": "2023-03-29T19:51:35.804Z"
   },
   {
    "duration": 195,
    "start_time": "2023-03-29T19:51:35.812Z"
   },
   {
    "duration": 256,
    "start_time": "2023-03-29T19:51:36.010Z"
   },
   {
    "duration": 5,
    "start_time": "2023-03-29T19:51:36.269Z"
   },
   {
    "duration": 11,
    "start_time": "2023-03-29T19:51:36.276Z"
   },
   {
    "duration": 11,
    "start_time": "2023-03-29T19:51:36.289Z"
   },
   {
    "duration": 9,
    "start_time": "2023-03-29T19:51:36.302Z"
   },
   {
    "duration": 13,
    "start_time": "2023-03-29T19:51:36.312Z"
   },
   {
    "duration": 27,
    "start_time": "2023-03-29T19:51:36.350Z"
   },
   {
    "duration": 255,
    "start_time": "2023-03-29T19:51:36.379Z"
   },
   {
    "duration": 255,
    "start_time": "2023-03-29T19:51:36.636Z"
   },
   {
    "duration": 489,
    "start_time": "2023-03-29T19:51:36.893Z"
   },
   {
    "duration": 21,
    "start_time": "2023-03-29T19:51:37.383Z"
   },
   {
    "duration": 7,
    "start_time": "2023-03-29T19:51:37.405Z"
   },
   {
    "duration": 5,
    "start_time": "2023-03-29T19:51:37.414Z"
   },
   {
    "duration": 9,
    "start_time": "2023-03-29T19:51:37.420Z"
   },
   {
    "duration": 2604,
    "start_time": "2023-03-29T19:51:37.450Z"
   },
   {
    "duration": 614,
    "start_time": "2023-03-29T19:51:40.057Z"
   },
   {
    "duration": 0,
    "start_time": "2023-03-29T19:51:40.673Z"
   },
   {
    "duration": 0,
    "start_time": "2023-03-29T19:51:40.674Z"
   },
   {
    "duration": 0,
    "start_time": "2023-03-29T19:51:40.675Z"
   },
   {
    "duration": 0,
    "start_time": "2023-03-29T19:51:40.676Z"
   },
   {
    "duration": 0,
    "start_time": "2023-03-29T19:51:40.677Z"
   },
   {
    "duration": 0,
    "start_time": "2023-03-29T19:51:40.678Z"
   },
   {
    "duration": 0,
    "start_time": "2023-03-29T19:51:40.679Z"
   },
   {
    "duration": 0,
    "start_time": "2023-03-29T19:51:40.680Z"
   },
   {
    "duration": 0,
    "start_time": "2023-03-29T19:51:40.681Z"
   },
   {
    "duration": 0,
    "start_time": "2023-03-29T19:51:40.682Z"
   },
   {
    "duration": 0,
    "start_time": "2023-03-29T19:51:40.683Z"
   },
   {
    "duration": 0,
    "start_time": "2023-03-29T19:51:40.684Z"
   },
   {
    "duration": 0,
    "start_time": "2023-03-29T19:51:40.685Z"
   },
   {
    "duration": 0,
    "start_time": "2023-03-29T19:51:40.685Z"
   },
   {
    "duration": 0,
    "start_time": "2023-03-29T19:51:40.686Z"
   },
   {
    "duration": 2307,
    "start_time": "2023-03-29T19:54:00.372Z"
   },
   {
    "duration": 82,
    "start_time": "2023-03-29T19:59:33.895Z"
   },
   {
    "duration": 0,
    "start_time": "2023-03-29T19:59:33.979Z"
   },
   {
    "duration": 0,
    "start_time": "2023-03-29T19:59:33.981Z"
   },
   {
    "duration": 0,
    "start_time": "2023-03-29T19:59:33.982Z"
   },
   {
    "duration": 0,
    "start_time": "2023-03-29T19:59:33.983Z"
   },
   {
    "duration": 0,
    "start_time": "2023-03-29T19:59:33.984Z"
   },
   {
    "duration": 0,
    "start_time": "2023-03-29T19:59:33.985Z"
   },
   {
    "duration": 0,
    "start_time": "2023-03-29T19:59:33.987Z"
   },
   {
    "duration": 0,
    "start_time": "2023-03-29T19:59:33.988Z"
   },
   {
    "duration": 0,
    "start_time": "2023-03-29T19:59:33.989Z"
   },
   {
    "duration": 0,
    "start_time": "2023-03-29T19:59:33.990Z"
   },
   {
    "duration": 0,
    "start_time": "2023-03-29T19:59:33.991Z"
   },
   {
    "duration": 0,
    "start_time": "2023-03-29T19:59:33.994Z"
   },
   {
    "duration": 0,
    "start_time": "2023-03-29T19:59:33.995Z"
   },
   {
    "duration": 0,
    "start_time": "2023-03-29T19:59:33.997Z"
   },
   {
    "duration": 0,
    "start_time": "2023-03-29T19:59:33.997Z"
   },
   {
    "duration": 0,
    "start_time": "2023-03-29T19:59:33.998Z"
   },
   {
    "duration": 0,
    "start_time": "2023-03-29T19:59:34.000Z"
   },
   {
    "duration": 0,
    "start_time": "2023-03-29T19:59:34.001Z"
   },
   {
    "duration": 1,
    "start_time": "2023-03-29T19:59:34.001Z"
   },
   {
    "duration": 0,
    "start_time": "2023-03-29T19:59:34.002Z"
   },
   {
    "duration": 0,
    "start_time": "2023-03-29T19:59:34.003Z"
   },
   {
    "duration": 0,
    "start_time": "2023-03-29T19:59:34.004Z"
   },
   {
    "duration": 0,
    "start_time": "2023-03-29T19:59:34.005Z"
   },
   {
    "duration": 0,
    "start_time": "2023-03-29T19:59:34.006Z"
   },
   {
    "duration": 0,
    "start_time": "2023-03-29T19:59:34.007Z"
   },
   {
    "duration": 0,
    "start_time": "2023-03-29T19:59:34.007Z"
   },
   {
    "duration": 166,
    "start_time": "2023-03-29T19:59:34.009Z"
   },
   {
    "duration": 0,
    "start_time": "2023-03-29T19:59:34.179Z"
   },
   {
    "duration": 0,
    "start_time": "2023-03-29T19:59:34.180Z"
   },
   {
    "duration": 1,
    "start_time": "2023-03-29T19:59:34.181Z"
   },
   {
    "duration": 0,
    "start_time": "2023-03-29T19:59:34.183Z"
   },
   {
    "duration": 0,
    "start_time": "2023-03-29T19:59:34.185Z"
   },
   {
    "duration": 0,
    "start_time": "2023-03-29T19:59:34.186Z"
   },
   {
    "duration": 0,
    "start_time": "2023-03-29T19:59:34.187Z"
   },
   {
    "duration": 0,
    "start_time": "2023-03-29T19:59:34.188Z"
   },
   {
    "duration": 0,
    "start_time": "2023-03-29T19:59:34.188Z"
   },
   {
    "duration": 0,
    "start_time": "2023-03-29T19:59:34.189Z"
   },
   {
    "duration": 0,
    "start_time": "2023-03-29T19:59:34.190Z"
   },
   {
    "duration": 0,
    "start_time": "2023-03-29T19:59:34.203Z"
   },
   {
    "duration": 0,
    "start_time": "2023-03-29T19:59:34.204Z"
   },
   {
    "duration": 0,
    "start_time": "2023-03-29T19:59:34.206Z"
   },
   {
    "duration": 0,
    "start_time": "2023-03-29T19:59:34.208Z"
   },
   {
    "duration": 0,
    "start_time": "2023-03-29T19:59:34.209Z"
   },
   {
    "duration": 0,
    "start_time": "2023-03-29T19:59:34.210Z"
   },
   {
    "duration": 0,
    "start_time": "2023-03-29T19:59:34.212Z"
   },
   {
    "duration": 0,
    "start_time": "2023-03-29T19:59:34.213Z"
   },
   {
    "duration": 0,
    "start_time": "2023-03-29T19:59:34.214Z"
   },
   {
    "duration": 0,
    "start_time": "2023-03-29T19:59:34.215Z"
   },
   {
    "duration": 0,
    "start_time": "2023-03-29T19:59:34.216Z"
   },
   {
    "duration": 0,
    "start_time": "2023-03-29T19:59:34.216Z"
   },
   {
    "duration": 0,
    "start_time": "2023-03-29T19:59:34.217Z"
   },
   {
    "duration": 0,
    "start_time": "2023-03-29T19:59:34.217Z"
   },
   {
    "duration": 0,
    "start_time": "2023-03-29T19:59:34.218Z"
   },
   {
    "duration": 0,
    "start_time": "2023-03-29T19:59:34.218Z"
   },
   {
    "duration": 0,
    "start_time": "2023-03-29T19:59:34.249Z"
   },
   {
    "duration": 0,
    "start_time": "2023-03-29T19:59:34.250Z"
   },
   {
    "duration": 0,
    "start_time": "2023-03-29T19:59:34.250Z"
   },
   {
    "duration": 0,
    "start_time": "2023-03-29T19:59:34.252Z"
   },
   {
    "duration": 0,
    "start_time": "2023-03-29T19:59:34.253Z"
   },
   {
    "duration": 0,
    "start_time": "2023-03-29T19:59:34.254Z"
   },
   {
    "duration": 0,
    "start_time": "2023-03-29T19:59:34.254Z"
   },
   {
    "duration": 0,
    "start_time": "2023-03-29T19:59:34.255Z"
   },
   {
    "duration": 0,
    "start_time": "2023-03-29T19:59:34.256Z"
   },
   {
    "duration": 0,
    "start_time": "2023-03-29T19:59:34.257Z"
   },
   {
    "duration": 0,
    "start_time": "2023-03-29T19:59:34.258Z"
   },
   {
    "duration": 0,
    "start_time": "2023-03-29T19:59:34.258Z"
   },
   {
    "duration": 0,
    "start_time": "2023-03-29T19:59:34.261Z"
   },
   {
    "duration": 0,
    "start_time": "2023-03-29T19:59:34.262Z"
   },
   {
    "duration": 0,
    "start_time": "2023-03-29T19:59:34.263Z"
   },
   {
    "duration": 0,
    "start_time": "2023-03-29T19:59:34.264Z"
   },
   {
    "duration": 0,
    "start_time": "2023-03-29T19:59:34.265Z"
   },
   {
    "duration": 79,
    "start_time": "2023-03-29T20:03:12.367Z"
   },
   {
    "duration": 0,
    "start_time": "2023-03-29T20:03:12.448Z"
   },
   {
    "duration": 0,
    "start_time": "2023-03-29T20:03:12.450Z"
   },
   {
    "duration": 0,
    "start_time": "2023-03-29T20:03:12.451Z"
   },
   {
    "duration": 0,
    "start_time": "2023-03-29T20:03:12.452Z"
   },
   {
    "duration": 0,
    "start_time": "2023-03-29T20:03:12.453Z"
   },
   {
    "duration": 0,
    "start_time": "2023-03-29T20:03:12.454Z"
   },
   {
    "duration": 0,
    "start_time": "2023-03-29T20:03:12.458Z"
   },
   {
    "duration": 0,
    "start_time": "2023-03-29T20:03:12.459Z"
   },
   {
    "duration": 0,
    "start_time": "2023-03-29T20:03:12.460Z"
   },
   {
    "duration": 0,
    "start_time": "2023-03-29T20:03:12.461Z"
   },
   {
    "duration": 0,
    "start_time": "2023-03-29T20:03:12.463Z"
   },
   {
    "duration": 0,
    "start_time": "2023-03-29T20:03:12.464Z"
   },
   {
    "duration": 0,
    "start_time": "2023-03-29T20:03:12.465Z"
   },
   {
    "duration": 0,
    "start_time": "2023-03-29T20:03:12.466Z"
   },
   {
    "duration": 0,
    "start_time": "2023-03-29T20:03:12.467Z"
   },
   {
    "duration": 0,
    "start_time": "2023-03-29T20:03:12.468Z"
   },
   {
    "duration": 0,
    "start_time": "2023-03-29T20:03:12.469Z"
   },
   {
    "duration": 0,
    "start_time": "2023-03-29T20:03:12.473Z"
   },
   {
    "duration": 0,
    "start_time": "2023-03-29T20:03:12.474Z"
   },
   {
    "duration": 0,
    "start_time": "2023-03-29T20:03:12.477Z"
   },
   {
    "duration": 0,
    "start_time": "2023-03-29T20:03:12.478Z"
   },
   {
    "duration": 0,
    "start_time": "2023-03-29T20:03:12.480Z"
   },
   {
    "duration": 0,
    "start_time": "2023-03-29T20:03:12.481Z"
   },
   {
    "duration": 0,
    "start_time": "2023-03-29T20:03:12.482Z"
   },
   {
    "duration": 0,
    "start_time": "2023-03-29T20:03:12.483Z"
   },
   {
    "duration": 0,
    "start_time": "2023-03-29T20:03:12.484Z"
   },
   {
    "duration": 116,
    "start_time": "2023-03-29T20:03:12.510Z"
   },
   {
    "duration": 0,
    "start_time": "2023-03-29T20:03:12.650Z"
   },
   {
    "duration": 0,
    "start_time": "2023-03-29T20:03:12.651Z"
   },
   {
    "duration": 0,
    "start_time": "2023-03-29T20:03:12.652Z"
   },
   {
    "duration": 0,
    "start_time": "2023-03-29T20:03:12.654Z"
   },
   {
    "duration": 0,
    "start_time": "2023-03-29T20:03:12.655Z"
   },
   {
    "duration": 0,
    "start_time": "2023-03-29T20:03:12.656Z"
   },
   {
    "duration": 0,
    "start_time": "2023-03-29T20:03:12.657Z"
   },
   {
    "duration": 0,
    "start_time": "2023-03-29T20:03:12.658Z"
   },
   {
    "duration": 0,
    "start_time": "2023-03-29T20:03:12.659Z"
   },
   {
    "duration": 0,
    "start_time": "2023-03-29T20:03:12.661Z"
   },
   {
    "duration": 0,
    "start_time": "2023-03-29T20:03:12.662Z"
   },
   {
    "duration": 0,
    "start_time": "2023-03-29T20:03:12.663Z"
   },
   {
    "duration": 0,
    "start_time": "2023-03-29T20:03:12.664Z"
   },
   {
    "duration": 0,
    "start_time": "2023-03-29T20:03:12.665Z"
   },
   {
    "duration": 0,
    "start_time": "2023-03-29T20:03:12.666Z"
   },
   {
    "duration": 0,
    "start_time": "2023-03-29T20:03:12.667Z"
   },
   {
    "duration": 0,
    "start_time": "2023-03-29T20:03:12.668Z"
   },
   {
    "duration": 0,
    "start_time": "2023-03-29T20:03:12.670Z"
   },
   {
    "duration": 0,
    "start_time": "2023-03-29T20:03:12.671Z"
   },
   {
    "duration": 0,
    "start_time": "2023-03-29T20:03:12.672Z"
   },
   {
    "duration": 0,
    "start_time": "2023-03-29T20:03:12.675Z"
   },
   {
    "duration": 0,
    "start_time": "2023-03-29T20:03:12.676Z"
   },
   {
    "duration": 0,
    "start_time": "2023-03-29T20:03:12.678Z"
   },
   {
    "duration": 0,
    "start_time": "2023-03-29T20:03:12.679Z"
   },
   {
    "duration": 0,
    "start_time": "2023-03-29T20:03:12.681Z"
   },
   {
    "duration": 0,
    "start_time": "2023-03-29T20:03:12.681Z"
   },
   {
    "duration": 0,
    "start_time": "2023-03-29T20:03:12.682Z"
   },
   {
    "duration": 0,
    "start_time": "2023-03-29T20:03:12.683Z"
   },
   {
    "duration": 0,
    "start_time": "2023-03-29T20:03:12.685Z"
   },
   {
    "duration": 0,
    "start_time": "2023-03-29T20:03:12.686Z"
   },
   {
    "duration": 0,
    "start_time": "2023-03-29T20:03:12.687Z"
   },
   {
    "duration": 0,
    "start_time": "2023-03-29T20:03:12.688Z"
   },
   {
    "duration": 0,
    "start_time": "2023-03-29T20:03:12.689Z"
   },
   {
    "duration": 0,
    "start_time": "2023-03-29T20:03:12.690Z"
   },
   {
    "duration": 0,
    "start_time": "2023-03-29T20:03:12.691Z"
   },
   {
    "duration": 0,
    "start_time": "2023-03-29T20:03:12.692Z"
   },
   {
    "duration": 0,
    "start_time": "2023-03-29T20:03:12.693Z"
   },
   {
    "duration": 0,
    "start_time": "2023-03-29T20:03:12.694Z"
   },
   {
    "duration": 0,
    "start_time": "2023-03-29T20:03:12.749Z"
   },
   {
    "duration": 0,
    "start_time": "2023-03-29T20:03:12.750Z"
   },
   {
    "duration": 0,
    "start_time": "2023-03-29T20:03:12.751Z"
   },
   {
    "duration": 0,
    "start_time": "2023-03-29T20:03:12.752Z"
   },
   {
    "duration": 1,
    "start_time": "2023-03-29T20:03:12.753Z"
   },
   {
    "duration": 0,
    "start_time": "2023-03-29T20:03:12.757Z"
   },
   {
    "duration": 0,
    "start_time": "2023-03-29T20:03:12.759Z"
   },
   {
    "duration": 1696,
    "start_time": "2023-03-29T20:04:14.668Z"
   },
   {
    "duration": 800,
    "start_time": "2023-03-29T20:04:16.366Z"
   },
   {
    "duration": 26,
    "start_time": "2023-03-29T20:04:17.168Z"
   },
   {
    "duration": 51,
    "start_time": "2023-03-29T20:04:17.198Z"
   },
   {
    "duration": 30,
    "start_time": "2023-03-29T20:04:17.251Z"
   },
   {
    "duration": 6,
    "start_time": "2023-03-29T20:04:17.283Z"
   },
   {
    "duration": 7,
    "start_time": "2023-03-29T20:04:17.291Z"
   },
   {
    "duration": 13,
    "start_time": "2023-03-29T20:04:17.300Z"
   },
   {
    "duration": 14,
    "start_time": "2023-03-29T20:04:17.315Z"
   },
   {
    "duration": 5,
    "start_time": "2023-03-29T20:04:17.349Z"
   },
   {
    "duration": 21,
    "start_time": "2023-03-29T20:04:17.356Z"
   },
   {
    "duration": 23,
    "start_time": "2023-03-29T20:04:17.379Z"
   },
   {
    "duration": 15,
    "start_time": "2023-03-29T20:04:17.404Z"
   },
   {
    "duration": 43,
    "start_time": "2023-03-29T20:04:17.421Z"
   },
   {
    "duration": 158,
    "start_time": "2023-03-29T20:04:17.468Z"
   },
   {
    "duration": 31,
    "start_time": "2023-03-29T20:04:17.628Z"
   },
   {
    "duration": 121,
    "start_time": "2023-03-29T20:04:17.661Z"
   },
   {
    "duration": 10,
    "start_time": "2023-03-29T20:04:17.784Z"
   },
   {
    "duration": 8,
    "start_time": "2023-03-29T20:04:17.796Z"
   },
   {
    "duration": 14,
    "start_time": "2023-03-29T20:04:17.806Z"
   },
   {
    "duration": 4,
    "start_time": "2023-03-29T20:04:17.821Z"
   },
   {
    "duration": 26,
    "start_time": "2023-03-29T20:04:17.827Z"
   },
   {
    "duration": 20,
    "start_time": "2023-03-29T20:04:17.855Z"
   },
   {
    "duration": 6,
    "start_time": "2023-03-29T20:04:17.877Z"
   },
   {
    "duration": 10,
    "start_time": "2023-03-29T20:04:17.885Z"
   },
   {
    "duration": 19,
    "start_time": "2023-03-29T20:04:17.897Z"
   },
   {
    "duration": 12,
    "start_time": "2023-03-29T20:04:17.918Z"
   },
   {
    "duration": 17,
    "start_time": "2023-03-29T20:04:17.935Z"
   },
   {
    "duration": 30,
    "start_time": "2023-03-29T20:04:17.954Z"
   },
   {
    "duration": 17,
    "start_time": "2023-03-29T20:04:17.986Z"
   },
   {
    "duration": 29,
    "start_time": "2023-03-29T20:04:18.005Z"
   },
   {
    "duration": 29,
    "start_time": "2023-03-29T20:04:18.036Z"
   },
   {
    "duration": 22,
    "start_time": "2023-03-29T20:04:18.068Z"
   },
   {
    "duration": 33798,
    "start_time": "2023-03-29T20:04:18.092Z"
   },
   {
    "duration": 322,
    "start_time": "2023-03-29T20:04:51.893Z"
   },
   {
    "duration": 21895,
    "start_time": "2023-03-29T20:04:52.217Z"
   },
   {
    "duration": 7,
    "start_time": "2023-03-29T20:05:14.114Z"
   },
   {
    "duration": 32,
    "start_time": "2023-03-29T20:05:14.123Z"
   },
   {
    "duration": 8,
    "start_time": "2023-03-29T20:05:14.157Z"
   },
   {
    "duration": 30,
    "start_time": "2023-03-29T20:05:14.167Z"
   },
   {
    "duration": 9,
    "start_time": "2023-03-29T20:05:14.200Z"
   },
   {
    "duration": 17,
    "start_time": "2023-03-29T20:05:14.211Z"
   },
   {
    "duration": 326,
    "start_time": "2023-03-29T20:05:14.229Z"
   },
   {
    "duration": 13,
    "start_time": "2023-03-29T20:05:14.557Z"
   },
   {
    "duration": 234,
    "start_time": "2023-03-29T20:05:14.572Z"
   },
   {
    "duration": 307,
    "start_time": "2023-03-29T20:05:14.808Z"
   },
   {
    "duration": 5,
    "start_time": "2023-03-29T20:05:15.117Z"
   },
   {
    "duration": 7,
    "start_time": "2023-03-29T20:05:15.124Z"
   },
   {
    "duration": 22,
    "start_time": "2023-03-29T20:05:15.133Z"
   },
   {
    "duration": 15,
    "start_time": "2023-03-29T20:05:15.157Z"
   },
   {
    "duration": 24,
    "start_time": "2023-03-29T20:05:15.174Z"
   },
   {
    "duration": 28,
    "start_time": "2023-03-29T20:05:15.199Z"
   },
   {
    "duration": 281,
    "start_time": "2023-03-29T20:05:15.229Z"
   },
   {
    "duration": 281,
    "start_time": "2023-03-29T20:05:15.512Z"
   },
   {
    "duration": 552,
    "start_time": "2023-03-29T20:05:15.794Z"
   },
   {
    "duration": 28,
    "start_time": "2023-03-29T20:05:16.356Z"
   },
   {
    "duration": 22,
    "start_time": "2023-03-29T20:05:16.386Z"
   },
   {
    "duration": 28,
    "start_time": "2023-03-29T20:05:16.410Z"
   },
   {
    "duration": 114,
    "start_time": "2023-03-29T20:05:16.441Z"
   },
   {
    "duration": 0,
    "start_time": "2023-03-29T20:05:16.557Z"
   },
   {
    "duration": 0,
    "start_time": "2023-03-29T20:05:16.559Z"
   },
   {
    "duration": 0,
    "start_time": "2023-03-29T20:05:16.560Z"
   },
   {
    "duration": 0,
    "start_time": "2023-03-29T20:05:16.561Z"
   },
   {
    "duration": 0,
    "start_time": "2023-03-29T20:05:16.563Z"
   },
   {
    "duration": 0,
    "start_time": "2023-03-29T20:05:16.564Z"
   },
   {
    "duration": 0,
    "start_time": "2023-03-29T20:05:16.568Z"
   },
   {
    "duration": 0,
    "start_time": "2023-03-29T20:05:16.569Z"
   },
   {
    "duration": 0,
    "start_time": "2023-03-29T20:05:16.570Z"
   },
   {
    "duration": 0,
    "start_time": "2023-03-29T20:05:16.570Z"
   },
   {
    "duration": 0,
    "start_time": "2023-03-29T20:05:16.572Z"
   },
   {
    "duration": 0,
    "start_time": "2023-03-29T20:05:16.573Z"
   },
   {
    "duration": 0,
    "start_time": "2023-03-29T20:05:16.574Z"
   },
   {
    "duration": 0,
    "start_time": "2023-03-29T20:05:16.575Z"
   },
   {
    "duration": 122,
    "start_time": "2023-03-29T20:05:42.133Z"
   },
   {
    "duration": 10,
    "start_time": "2023-03-29T20:07:05.370Z"
   },
   {
    "duration": 7,
    "start_time": "2023-03-29T20:07:06.757Z"
   },
   {
    "duration": 5739,
    "start_time": "2023-03-29T20:07:13.137Z"
   },
   {
    "duration": 4436,
    "start_time": "2023-03-29T20:07:19.727Z"
   },
   {
    "duration": 7670,
    "start_time": "2023-03-29T20:07:54.544Z"
   },
   {
    "duration": 115,
    "start_time": "2023-03-29T20:08:02.216Z"
   },
   {
    "duration": 120,
    "start_time": "2023-03-29T20:08:10.244Z"
   },
   {
    "duration": 8,
    "start_time": "2023-03-29T20:11:47.413Z"
   },
   {
    "duration": 25,
    "start_time": "2023-03-29T20:13:52.426Z"
   },
   {
    "duration": 3,
    "start_time": "2023-03-29T20:14:27.666Z"
   },
   {
    "duration": 14,
    "start_time": "2023-03-29T20:14:42.645Z"
   },
   {
    "duration": 2008,
    "start_time": "2023-03-29T20:16:57.206Z"
   },
   {
    "duration": 4249,
    "start_time": "2023-03-29T20:17:42.359Z"
   },
   {
    "duration": 9,
    "start_time": "2023-03-29T20:19:22.013Z"
   },
   {
    "duration": 6360,
    "start_time": "2023-03-29T20:19:28.337Z"
   },
   {
    "duration": 67,
    "start_time": "2023-03-29T20:19:34.700Z"
   },
   {
    "duration": 0,
    "start_time": "2023-03-29T20:19:34.769Z"
   },
   {
    "duration": 9,
    "start_time": "2023-03-29T20:20:08.018Z"
   },
   {
    "duration": 30,
    "start_time": "2023-03-29T20:20:35.349Z"
   },
   {
    "duration": 9,
    "start_time": "2023-03-29T20:21:03.510Z"
   },
   {
    "duration": 9,
    "start_time": "2023-03-29T20:21:32.081Z"
   },
   {
    "duration": 22,
    "start_time": "2023-03-29T20:21:47.841Z"
   },
   {
    "duration": 1546,
    "start_time": "2023-03-29T20:21:52.825Z"
   },
   {
    "duration": 800,
    "start_time": "2023-03-29T20:21:54.378Z"
   },
   {
    "duration": 36,
    "start_time": "2023-03-29T20:21:55.179Z"
   },
   {
    "duration": 20,
    "start_time": "2023-03-29T20:21:55.218Z"
   },
   {
    "duration": 30,
    "start_time": "2023-03-29T20:21:55.240Z"
   },
   {
    "duration": 25,
    "start_time": "2023-03-29T20:21:55.271Z"
   },
   {
    "duration": 7,
    "start_time": "2023-03-29T20:21:55.298Z"
   },
   {
    "duration": 10,
    "start_time": "2023-03-29T20:21:55.307Z"
   },
   {
    "duration": 5,
    "start_time": "2023-03-29T20:21:55.319Z"
   },
   {
    "duration": 6,
    "start_time": "2023-03-29T20:21:55.326Z"
   },
   {
    "duration": 51,
    "start_time": "2023-03-29T20:21:55.334Z"
   },
   {
    "duration": 22,
    "start_time": "2023-03-29T20:21:55.387Z"
   },
   {
    "duration": 10,
    "start_time": "2023-03-29T20:21:55.411Z"
   },
   {
    "duration": 16,
    "start_time": "2023-03-29T20:21:55.423Z"
   },
   {
    "duration": 127,
    "start_time": "2023-03-29T20:21:55.440Z"
   },
   {
    "duration": 28,
    "start_time": "2023-03-29T20:21:55.575Z"
   },
   {
    "duration": 91,
    "start_time": "2023-03-29T20:21:55.604Z"
   },
   {
    "duration": 11,
    "start_time": "2023-03-29T20:21:55.697Z"
   },
   {
    "duration": 8,
    "start_time": "2023-03-29T20:21:55.709Z"
   },
   {
    "duration": 45,
    "start_time": "2023-03-29T20:21:55.719Z"
   },
   {
    "duration": 6,
    "start_time": "2023-03-29T20:21:55.766Z"
   },
   {
    "duration": 17,
    "start_time": "2023-03-29T20:21:55.773Z"
   },
   {
    "duration": 4,
    "start_time": "2023-03-29T20:21:55.792Z"
   },
   {
    "duration": 6,
    "start_time": "2023-03-29T20:21:55.798Z"
   },
   {
    "duration": 6,
    "start_time": "2023-03-29T20:21:55.805Z"
   },
   {
    "duration": 11,
    "start_time": "2023-03-29T20:21:55.812Z"
   },
   {
    "duration": 19,
    "start_time": "2023-03-29T20:21:55.824Z"
   },
   {
    "duration": 43,
    "start_time": "2023-03-29T20:21:55.846Z"
   },
   {
    "duration": 10,
    "start_time": "2023-03-29T20:21:55.891Z"
   },
   {
    "duration": 25,
    "start_time": "2023-03-29T20:21:55.903Z"
   },
   {
    "duration": 51,
    "start_time": "2023-03-29T20:21:55.929Z"
   },
   {
    "duration": 15,
    "start_time": "2023-03-29T20:21:55.981Z"
   },
   {
    "duration": 35,
    "start_time": "2023-03-29T20:21:55.998Z"
   },
   {
    "duration": 16354,
    "start_time": "2023-03-29T20:21:56.034Z"
   },
   {
    "duration": 197,
    "start_time": "2023-03-29T20:22:12.389Z"
   },
   {
    "duration": 8820,
    "start_time": "2023-03-29T20:22:12.588Z"
   },
   {
    "duration": 6,
    "start_time": "2023-03-29T20:22:21.410Z"
   },
   {
    "duration": 15,
    "start_time": "2023-03-29T20:22:21.417Z"
   },
   {
    "duration": 58,
    "start_time": "2023-03-29T20:22:21.433Z"
   },
   {
    "duration": 21,
    "start_time": "2023-03-29T20:22:21.493Z"
   },
   {
    "duration": 21,
    "start_time": "2023-03-29T20:22:21.515Z"
   },
   {
    "duration": 52,
    "start_time": "2023-03-29T20:22:21.537Z"
   },
   {
    "duration": 280,
    "start_time": "2023-03-29T20:22:21.591Z"
   },
   {
    "duration": 6,
    "start_time": "2023-03-29T20:22:21.884Z"
   },
   {
    "duration": 171,
    "start_time": "2023-03-29T20:22:21.891Z"
   },
   {
    "duration": 234,
    "start_time": "2023-03-29T20:22:22.069Z"
   },
   {
    "duration": 6,
    "start_time": "2023-03-29T20:22:22.304Z"
   },
   {
    "duration": 24,
    "start_time": "2023-03-29T20:22:22.312Z"
   },
   {
    "duration": 65,
    "start_time": "2023-03-29T20:22:22.337Z"
   },
   {
    "duration": 33,
    "start_time": "2023-03-29T20:22:22.403Z"
   },
   {
    "duration": 50,
    "start_time": "2023-03-29T20:22:22.437Z"
   },
   {
    "duration": 46,
    "start_time": "2023-03-29T20:22:22.488Z"
   },
   {
    "duration": 265,
    "start_time": "2023-03-29T20:22:22.536Z"
   },
   {
    "duration": 239,
    "start_time": "2023-03-29T20:22:22.803Z"
   },
   {
    "duration": 489,
    "start_time": "2023-03-29T20:22:23.044Z"
   },
   {
    "duration": 49,
    "start_time": "2023-03-29T20:22:23.534Z"
   },
   {
    "duration": 14,
    "start_time": "2023-03-29T20:22:23.585Z"
   },
   {
    "duration": 29,
    "start_time": "2023-03-29T20:22:23.600Z"
   },
   {
    "duration": 49,
    "start_time": "2023-03-29T20:22:23.630Z"
   },
   {
    "duration": 23,
    "start_time": "2023-03-29T20:22:23.681Z"
   },
   {
    "duration": 6272,
    "start_time": "2023-03-29T20:22:23.705Z"
   },
   {
    "duration": 8021,
    "start_time": "2023-03-29T20:22:29.985Z"
   },
   {
    "duration": 4972,
    "start_time": "2023-03-29T20:22:38.008Z"
   },
   {
    "duration": 12,
    "start_time": "2023-03-29T20:22:42.983Z"
   },
   {
    "duration": 10835,
    "start_time": "2023-03-29T20:22:42.997Z"
   },
   {
    "duration": 175,
    "start_time": "2023-03-29T20:22:53.834Z"
   },
   {
    "duration": 0,
    "start_time": "2023-03-29T20:22:54.011Z"
   },
   {
    "duration": 0,
    "start_time": "2023-03-29T20:22:54.013Z"
   },
   {
    "duration": 1,
    "start_time": "2023-03-29T20:22:54.014Z"
   },
   {
    "duration": 0,
    "start_time": "2023-03-29T20:22:54.016Z"
   },
   {
    "duration": 0,
    "start_time": "2023-03-29T20:22:54.017Z"
   },
   {
    "duration": 0,
    "start_time": "2023-03-29T20:22:54.018Z"
   },
   {
    "duration": 0,
    "start_time": "2023-03-29T20:22:54.020Z"
   },
   {
    "duration": 0,
    "start_time": "2023-03-29T20:22:54.021Z"
   },
   {
    "duration": 5,
    "start_time": "2023-03-29T20:23:11.499Z"
   },
   {
    "duration": 29,
    "start_time": "2023-03-29T20:26:49.775Z"
   },
   {
    "duration": 12,
    "start_time": "2023-03-29T20:26:49.864Z"
   },
   {
    "duration": 3,
    "start_time": "2023-03-29T20:26:50.033Z"
   },
   {
    "duration": 9,
    "start_time": "2023-03-29T20:26:50.183Z"
   },
   {
    "duration": 3413,
    "start_time": "2023-03-29T20:26:50.420Z"
   },
   {
    "duration": 6,
    "start_time": "2023-03-29T20:27:02.305Z"
   },
   {
    "duration": 6,
    "start_time": "2023-03-29T20:27:18.541Z"
   },
   {
    "duration": 3303,
    "start_time": "2023-03-29T20:27:25.038Z"
   },
   {
    "duration": 3880,
    "start_time": "2023-03-29T20:27:29.579Z"
   },
   {
    "duration": 3278,
    "start_time": "2023-03-29T20:29:07.687Z"
   },
   {
    "duration": 0,
    "start_time": "2023-03-29T20:29:10.966Z"
   },
   {
    "duration": 3230,
    "start_time": "2023-03-29T20:29:26.379Z"
   },
   {
    "duration": 3944,
    "start_time": "2023-03-29T20:29:31.784Z"
   },
   {
    "duration": 10,
    "start_time": "2023-03-29T20:29:39.182Z"
   },
   {
    "duration": 4,
    "start_time": "2023-03-29T20:29:49.439Z"
   },
   {
    "duration": 7881,
    "start_time": "2023-03-29T20:33:12.180Z"
   },
   {
    "duration": 10864,
    "start_time": "2023-03-29T20:33:57.334Z"
   },
   {
    "duration": 4,
    "start_time": "2023-03-29T20:34:17.113Z"
   },
   {
    "duration": 8,
    "start_time": "2023-03-31T05:47:58.554Z"
   },
   {
    "duration": 226,
    "start_time": "2023-03-31T05:48:08.113Z"
   },
   {
    "duration": 1102,
    "start_time": "2023-03-31T05:48:29.207Z"
   },
   {
    "duration": 800,
    "start_time": "2023-03-31T05:48:30.311Z"
   },
   {
    "duration": 26,
    "start_time": "2023-03-31T05:48:31.113Z"
   },
   {
    "duration": 59,
    "start_time": "2023-03-31T05:48:31.141Z"
   },
   {
    "duration": 45,
    "start_time": "2023-03-31T05:48:31.201Z"
   },
   {
    "duration": 44,
    "start_time": "2023-03-31T05:48:31.248Z"
   },
   {
    "duration": 42,
    "start_time": "2023-03-31T05:48:31.294Z"
   },
   {
    "duration": 29,
    "start_time": "2023-03-31T05:48:31.338Z"
   },
   {
    "duration": 36,
    "start_time": "2023-03-31T05:48:31.369Z"
   },
   {
    "duration": 33,
    "start_time": "2023-03-31T05:48:31.407Z"
   },
   {
    "duration": 30,
    "start_time": "2023-03-31T05:48:31.442Z"
   },
   {
    "duration": 37,
    "start_time": "2023-03-31T05:48:31.474Z"
   },
   {
    "duration": 34,
    "start_time": "2023-03-31T05:48:31.512Z"
   },
   {
    "duration": 42,
    "start_time": "2023-03-31T05:48:31.548Z"
   },
   {
    "duration": 145,
    "start_time": "2023-03-31T05:48:31.591Z"
   },
   {
    "duration": 25,
    "start_time": "2023-03-31T05:48:31.737Z"
   },
   {
    "duration": 111,
    "start_time": "2023-03-31T05:48:31.763Z"
   },
   {
    "duration": 15,
    "start_time": "2023-03-31T05:48:31.875Z"
   },
   {
    "duration": 12,
    "start_time": "2023-03-31T05:48:31.892Z"
   },
   {
    "duration": 12,
    "start_time": "2023-03-31T05:48:31.906Z"
   },
   {
    "duration": 10,
    "start_time": "2023-03-31T05:48:31.919Z"
   },
   {
    "duration": 8,
    "start_time": "2023-03-31T05:48:31.930Z"
   },
   {
    "duration": 22,
    "start_time": "2023-03-31T05:48:31.939Z"
   },
   {
    "duration": 2,
    "start_time": "2023-03-31T05:48:32.132Z"
   },
   {
    "duration": 4,
    "start_time": "2023-03-31T05:48:32.219Z"
   },
   {
    "duration": 8,
    "start_time": "2023-03-31T05:48:32.554Z"
   },
   {
    "duration": 4,
    "start_time": "2023-03-31T05:48:32.719Z"
   },
   {
    "duration": 4,
    "start_time": "2023-03-31T05:48:32.800Z"
   },
   {
    "duration": 8,
    "start_time": "2023-03-31T05:48:32.883Z"
   },
   {
    "duration": 12,
    "start_time": "2023-03-31T05:48:32.974Z"
   },
   {
    "duration": 21,
    "start_time": "2023-03-31T05:48:33.137Z"
   },
   {
    "duration": 13,
    "start_time": "2023-03-31T05:48:33.224Z"
   },
   {
    "duration": 20,
    "start_time": "2023-03-31T05:48:33.304Z"
   },
   {
    "duration": 20001,
    "start_time": "2023-03-31T05:48:33.557Z"
   },
   {
    "duration": 369,
    "start_time": "2023-03-31T05:48:53.560Z"
   },
   {
    "duration": 11185,
    "start_time": "2023-03-31T05:48:53.930Z"
   },
   {
    "duration": 6,
    "start_time": "2023-03-31T05:49:05.116Z"
   },
   {
    "duration": 11,
    "start_time": "2023-03-31T05:49:05.123Z"
   },
   {
    "duration": 4,
    "start_time": "2023-03-31T05:49:05.136Z"
   },
   {
    "duration": 15,
    "start_time": "2023-03-31T05:49:05.141Z"
   },
   {
    "duration": 9,
    "start_time": "2023-03-31T05:49:05.157Z"
   },
   {
    "duration": 24,
    "start_time": "2023-03-31T05:49:05.168Z"
   },
   {
    "duration": 257,
    "start_time": "2023-03-31T05:49:05.194Z"
   },
   {
    "duration": 6,
    "start_time": "2023-03-31T05:49:05.453Z"
   },
   {
    "duration": 175,
    "start_time": "2023-03-31T05:49:05.460Z"
   },
   {
    "duration": 167,
    "start_time": "2023-03-31T05:49:05.636Z"
   },
   {
    "duration": 5,
    "start_time": "2023-03-31T05:49:05.804Z"
   },
   {
    "duration": 7,
    "start_time": "2023-03-31T05:49:05.810Z"
   },
   {
    "duration": 10,
    "start_time": "2023-03-31T05:49:05.819Z"
   },
   {
    "duration": 9,
    "start_time": "2023-03-31T05:49:05.831Z"
   },
   {
    "duration": 15,
    "start_time": "2023-03-31T05:49:05.841Z"
   },
   {
    "duration": 50,
    "start_time": "2023-03-31T05:49:05.857Z"
   },
   {
    "duration": 332,
    "start_time": "2023-03-31T05:49:05.909Z"
   },
   {
    "duration": 257,
    "start_time": "2023-03-31T05:49:06.243Z"
   },
   {
    "duration": 520,
    "start_time": "2023-03-31T05:49:06.502Z"
   },
   {
    "duration": 18,
    "start_time": "2023-03-31T05:49:07.024Z"
   },
   {
    "duration": 6,
    "start_time": "2023-03-31T05:49:07.044Z"
   },
   {
    "duration": 14,
    "start_time": "2023-03-31T05:49:07.051Z"
   },
   {
    "duration": 7,
    "start_time": "2023-03-31T05:49:07.066Z"
   },
   {
    "duration": 14,
    "start_time": "2023-03-31T05:49:07.075Z"
   },
   {
    "duration": 29,
    "start_time": "2023-03-31T05:49:15.777Z"
   },
   {
    "duration": 2021,
    "start_time": "2023-03-31T05:50:04.570Z"
   },
   {
    "duration": 3,
    "start_time": "2023-03-31T05:50:59.590Z"
   },
   {
    "duration": 3,
    "start_time": "2023-03-31T05:51:24.524Z"
   },
   {
    "duration": 2642,
    "start_time": "2023-03-31T05:51:28.649Z"
   },
   {
    "duration": 4,
    "start_time": "2023-03-31T05:51:46.680Z"
   },
   {
    "duration": 1678,
    "start_time": "2023-03-31T09:21:43.959Z"
   },
   {
    "duration": 3473,
    "start_time": "2023-03-31T09:21:45.639Z"
   },
   {
    "duration": 26,
    "start_time": "2023-03-31T09:21:49.114Z"
   },
   {
    "duration": 20,
    "start_time": "2023-03-31T09:21:49.142Z"
   },
   {
    "duration": 23,
    "start_time": "2023-03-31T09:21:49.164Z"
   },
   {
    "duration": 32,
    "start_time": "2023-03-31T09:21:49.189Z"
   },
   {
    "duration": 8,
    "start_time": "2023-03-31T09:21:49.223Z"
   },
   {
    "duration": 10,
    "start_time": "2023-03-31T09:21:49.232Z"
   },
   {
    "duration": 7,
    "start_time": "2023-03-31T09:21:49.244Z"
   },
   {
    "duration": 6,
    "start_time": "2023-03-31T09:21:49.252Z"
   },
   {
    "duration": 7,
    "start_time": "2023-03-31T09:21:49.260Z"
   },
   {
    "duration": 50,
    "start_time": "2023-03-31T09:21:49.269Z"
   },
   {
    "duration": 14,
    "start_time": "2023-03-31T09:21:49.321Z"
   },
   {
    "duration": 28,
    "start_time": "2023-03-31T09:21:49.340Z"
   },
   {
    "duration": 157,
    "start_time": "2023-03-31T09:21:49.371Z"
   },
   {
    "duration": 24,
    "start_time": "2023-03-31T09:21:49.529Z"
   },
   {
    "duration": 122,
    "start_time": "2023-03-31T09:21:49.555Z"
   },
   {
    "duration": 10,
    "start_time": "2023-03-31T09:21:49.680Z"
   },
   {
    "duration": 27,
    "start_time": "2023-03-31T09:21:49.692Z"
   },
   {
    "duration": 12,
    "start_time": "2023-03-31T09:21:49.721Z"
   },
   {
    "duration": 16,
    "start_time": "2023-03-31T09:21:49.735Z"
   },
   {
    "duration": 20,
    "start_time": "2023-03-31T09:21:49.753Z"
   },
   {
    "duration": 11,
    "start_time": "2023-03-31T09:21:49.775Z"
   },
   {
    "duration": 10,
    "start_time": "2023-03-31T09:21:49.788Z"
   },
   {
    "duration": 7,
    "start_time": "2023-03-31T09:21:49.800Z"
   },
   {
    "duration": 15,
    "start_time": "2023-03-31T09:21:49.809Z"
   },
   {
    "duration": 10,
    "start_time": "2023-03-31T09:21:49.826Z"
   },
   {
    "duration": 9,
    "start_time": "2023-03-31T09:21:49.838Z"
   },
   {
    "duration": 18,
    "start_time": "2023-03-31T09:21:49.849Z"
   },
   {
    "duration": 22,
    "start_time": "2023-03-31T09:21:49.869Z"
   },
   {
    "duration": 52,
    "start_time": "2023-03-31T09:21:49.893Z"
   },
   {
    "duration": 36,
    "start_time": "2023-03-31T09:21:49.947Z"
   },
   {
    "duration": 67,
    "start_time": "2023-03-31T09:21:49.986Z"
   },
   {
    "duration": 34299,
    "start_time": "2023-03-31T09:21:50.056Z"
   },
   {
    "duration": 416,
    "start_time": "2023-03-31T09:22:24.357Z"
   },
   {
    "duration": 21843,
    "start_time": "2023-03-31T09:22:24.775Z"
   },
   {
    "duration": 7,
    "start_time": "2023-03-31T09:22:46.620Z"
   },
   {
    "duration": 16,
    "start_time": "2023-03-31T09:22:46.629Z"
   },
   {
    "duration": 9,
    "start_time": "2023-03-31T09:22:46.647Z"
   },
   {
    "duration": 11,
    "start_time": "2023-03-31T09:22:46.658Z"
   },
   {
    "duration": 9,
    "start_time": "2023-03-31T09:22:46.675Z"
   },
   {
    "duration": 33,
    "start_time": "2023-03-31T09:22:46.686Z"
   },
   {
    "duration": 380,
    "start_time": "2023-03-31T09:22:46.721Z"
   },
   {
    "duration": 0,
    "start_time": "2023-03-31T09:22:47.103Z"
   },
   {
    "duration": 0,
    "start_time": "2023-03-31T09:22:47.104Z"
   },
   {
    "duration": 0,
    "start_time": "2023-03-31T09:22:47.106Z"
   },
   {
    "duration": 0,
    "start_time": "2023-03-31T09:22:47.118Z"
   },
   {
    "duration": 0,
    "start_time": "2023-03-31T09:22:47.119Z"
   },
   {
    "duration": 0,
    "start_time": "2023-03-31T09:22:47.122Z"
   },
   {
    "duration": 0,
    "start_time": "2023-03-31T09:22:47.124Z"
   },
   {
    "duration": 0,
    "start_time": "2023-03-31T09:22:47.125Z"
   },
   {
    "duration": 0,
    "start_time": "2023-03-31T09:22:47.127Z"
   },
   {
    "duration": 0,
    "start_time": "2023-03-31T09:22:47.129Z"
   },
   {
    "duration": 0,
    "start_time": "2023-03-31T09:22:47.131Z"
   },
   {
    "duration": 0,
    "start_time": "2023-03-31T09:22:47.132Z"
   },
   {
    "duration": 0,
    "start_time": "2023-03-31T09:22:47.133Z"
   },
   {
    "duration": 0,
    "start_time": "2023-03-31T09:22:47.135Z"
   },
   {
    "duration": 0,
    "start_time": "2023-03-31T09:22:47.137Z"
   },
   {
    "duration": 0,
    "start_time": "2023-03-31T09:22:47.138Z"
   },
   {
    "duration": 0,
    "start_time": "2023-03-31T09:22:47.140Z"
   },
   {
    "duration": 0,
    "start_time": "2023-03-31T09:22:47.142Z"
   },
   {
    "duration": 0,
    "start_time": "2023-03-31T09:22:47.143Z"
   },
   {
    "duration": 0,
    "start_time": "2023-03-31T09:22:47.145Z"
   },
   {
    "duration": 0,
    "start_time": "2023-03-31T09:22:47.146Z"
   },
   {
    "duration": 0,
    "start_time": "2023-03-31T09:22:47.148Z"
   },
   {
    "duration": 0,
    "start_time": "2023-03-31T09:22:47.150Z"
   },
   {
    "duration": 0,
    "start_time": "2023-03-31T09:22:47.151Z"
   },
   {
    "duration": 0,
    "start_time": "2023-03-31T09:22:47.153Z"
   },
   {
    "duration": 0,
    "start_time": "2023-03-31T09:22:47.154Z"
   },
   {
    "duration": 0,
    "start_time": "2023-03-31T09:22:47.156Z"
   },
   {
    "duration": 0,
    "start_time": "2023-03-31T09:22:47.289Z"
   },
   {
    "duration": 0,
    "start_time": "2023-03-31T09:22:47.291Z"
   },
   {
    "duration": 0,
    "start_time": "2023-03-31T09:22:47.292Z"
   },
   {
    "duration": 0,
    "start_time": "2023-03-31T09:22:47.293Z"
   },
   {
    "duration": 0,
    "start_time": "2023-03-31T09:22:47.294Z"
   },
   {
    "duration": 0,
    "start_time": "2023-03-31T09:22:47.319Z"
   },
   {
    "duration": 0,
    "start_time": "2023-03-31T09:22:47.320Z"
   },
   {
    "duration": 268,
    "start_time": "2023-03-31T09:23:40.559Z"
   },
   {
    "duration": 1609,
    "start_time": "2023-03-31T09:26:54.784Z"
   },
   {
    "duration": 743,
    "start_time": "2023-03-31T09:26:56.395Z"
   },
   {
    "duration": 30,
    "start_time": "2023-03-31T09:26:57.140Z"
   },
   {
    "duration": 30,
    "start_time": "2023-03-31T09:26:57.174Z"
   },
   {
    "duration": 41,
    "start_time": "2023-03-31T09:26:57.225Z"
   },
   {
    "duration": 20,
    "start_time": "2023-03-31T09:26:57.268Z"
   },
   {
    "duration": 14,
    "start_time": "2023-03-31T09:26:57.290Z"
   },
   {
    "duration": 37,
    "start_time": "2023-03-31T09:26:57.306Z"
   },
   {
    "duration": 17,
    "start_time": "2023-03-31T09:26:57.345Z"
   },
   {
    "duration": 9,
    "start_time": "2023-03-31T09:26:57.365Z"
   },
   {
    "duration": 30,
    "start_time": "2023-03-31T09:26:57.376Z"
   },
   {
    "duration": 43,
    "start_time": "2023-03-31T09:26:57.408Z"
   },
   {
    "duration": 12,
    "start_time": "2023-03-31T09:26:57.453Z"
   },
   {
    "duration": 19,
    "start_time": "2023-03-31T09:26:57.468Z"
   },
   {
    "duration": 146,
    "start_time": "2023-03-31T09:26:57.489Z"
   },
   {
    "duration": 22,
    "start_time": "2023-03-31T09:26:57.637Z"
   },
   {
    "duration": 127,
    "start_time": "2023-03-31T09:26:57.661Z"
   },
   {
    "duration": 11,
    "start_time": "2023-03-31T09:26:57.790Z"
   },
   {
    "duration": 28,
    "start_time": "2023-03-31T09:26:57.803Z"
   },
   {
    "duration": 38,
    "start_time": "2023-03-31T09:26:57.833Z"
   },
   {
    "duration": 5,
    "start_time": "2023-03-31T09:26:57.873Z"
   },
   {
    "duration": 22,
    "start_time": "2023-03-31T09:26:57.880Z"
   },
   {
    "duration": 23,
    "start_time": "2023-03-31T09:26:57.904Z"
   },
   {
    "duration": 37,
    "start_time": "2023-03-31T09:26:57.928Z"
   },
   {
    "duration": 23,
    "start_time": "2023-03-31T09:26:57.967Z"
   },
   {
    "duration": 32,
    "start_time": "2023-03-31T09:26:57.992Z"
   },
   {
    "duration": 35,
    "start_time": "2023-03-31T09:26:58.025Z"
   },
   {
    "duration": 14,
    "start_time": "2023-03-31T09:26:58.062Z"
   },
   {
    "duration": 17,
    "start_time": "2023-03-31T09:26:58.077Z"
   },
   {
    "duration": 30,
    "start_time": "2023-03-31T09:26:58.096Z"
   },
   {
    "duration": 44,
    "start_time": "2023-03-31T09:26:58.127Z"
   },
   {
    "duration": 20,
    "start_time": "2023-03-31T09:26:58.173Z"
   },
   {
    "duration": 41,
    "start_time": "2023-03-31T09:26:58.195Z"
   },
   {
    "duration": 38127,
    "start_time": "2023-03-31T09:26:58.238Z"
   },
   {
    "duration": 423,
    "start_time": "2023-03-31T09:27:36.367Z"
   },
   {
    "duration": 23114,
    "start_time": "2023-03-31T09:27:36.792Z"
   },
   {
    "duration": 13,
    "start_time": "2023-03-31T09:27:59.908Z"
   },
   {
    "duration": 12,
    "start_time": "2023-03-31T09:27:59.923Z"
   },
   {
    "duration": 13,
    "start_time": "2023-03-31T09:27:59.937Z"
   },
   {
    "duration": 23,
    "start_time": "2023-03-31T09:27:59.953Z"
   },
   {
    "duration": 33,
    "start_time": "2023-03-31T09:27:59.981Z"
   },
   {
    "duration": 244,
    "start_time": "2023-03-31T09:28:00.016Z"
   },
   {
    "duration": 247,
    "start_time": "2023-03-31T09:28:00.262Z"
   },
   {
    "duration": 7,
    "start_time": "2023-03-31T09:28:00.519Z"
   },
   {
    "duration": 34,
    "start_time": "2023-03-31T09:28:00.528Z"
   },
   {
    "duration": 62,
    "start_time": "2023-03-31T09:28:00.564Z"
   },
   {
    "duration": 80,
    "start_time": "2023-03-31T09:28:00.628Z"
   },
   {
    "duration": 65,
    "start_time": "2023-03-31T09:28:00.710Z"
   },
   {
    "duration": 116,
    "start_time": "2023-03-31T09:28:00.778Z"
   },
   {
    "duration": 459,
    "start_time": "2023-03-31T09:28:00.896Z"
   },
   {
    "duration": 423,
    "start_time": "2023-03-31T09:28:01.357Z"
   },
   {
    "duration": 697,
    "start_time": "2023-03-31T09:28:01.783Z"
   },
   {
    "duration": 35,
    "start_time": "2023-03-31T09:28:02.483Z"
   },
   {
    "duration": 10,
    "start_time": "2023-03-31T09:28:02.520Z"
   },
   {
    "duration": 59,
    "start_time": "2023-03-31T09:28:02.532Z"
   },
   {
    "duration": 49,
    "start_time": "2023-03-31T09:28:02.594Z"
   },
   {
    "duration": 121,
    "start_time": "2023-03-31T09:28:02.646Z"
   },
   {
    "duration": 2668,
    "start_time": "2023-03-31T09:28:02.770Z"
   },
   {
    "duration": 10048,
    "start_time": "2023-03-31T09:28:05.520Z"
   },
   {
    "duration": 4661,
    "start_time": "2023-03-31T09:28:15.570Z"
   },
   {
    "duration": 7,
    "start_time": "2023-03-31T09:28:20.234Z"
   },
   {
    "duration": 12694,
    "start_time": "2023-03-31T09:28:20.243Z"
   },
   {
    "duration": 7,
    "start_time": "2023-03-31T09:28:32.945Z"
   },
   {
    "duration": 44,
    "start_time": "2023-03-31T09:28:32.954Z"
   },
   {
    "duration": 44,
    "start_time": "2023-03-31T09:28:33.001Z"
   },
   {
    "duration": 56,
    "start_time": "2023-03-31T09:28:33.048Z"
   },
   {
    "duration": 92,
    "start_time": "2023-03-31T09:28:33.108Z"
   },
   {
    "duration": 49,
    "start_time": "2023-03-31T09:28:33.204Z"
   },
   {
    "duration": 4375,
    "start_time": "2023-03-31T09:28:33.255Z"
   },
   {
    "duration": 5271,
    "start_time": "2023-03-31T09:28:37.632Z"
   },
   {
    "duration": 4,
    "start_time": "2023-03-31T09:28:42.905Z"
   },
   {
    "duration": 5923,
    "start_time": "2023-03-31T09:28:42.918Z"
   },
   {
    "duration": 12100,
    "start_time": "2023-03-31T09:28:48.918Z"
   },
   {
    "duration": 10,
    "start_time": "2023-03-31T09:29:01.028Z"
   },
   {
    "duration": 154,
    "start_time": "2023-03-31T09:29:01.051Z"
   },
   {
    "duration": 240,
    "start_time": "2023-03-31T09:29:21.086Z"
   },
   {
    "duration": 1216,
    "start_time": "2023-03-31T09:31:02.933Z"
   },
   {
    "duration": 1103,
    "start_time": "2023-03-31T09:31:27.205Z"
   },
   {
    "duration": 1610,
    "start_time": "2023-03-31T09:45:08.887Z"
   },
   {
    "duration": 819,
    "start_time": "2023-03-31T09:45:10.500Z"
   },
   {
    "duration": 31,
    "start_time": "2023-03-31T09:45:11.324Z"
   },
   {
    "duration": 24,
    "start_time": "2023-03-31T09:45:11.358Z"
   },
   {
    "duration": 39,
    "start_time": "2023-03-31T09:45:11.384Z"
   },
   {
    "duration": 22,
    "start_time": "2023-03-31T09:45:11.427Z"
   },
   {
    "duration": 18,
    "start_time": "2023-03-31T09:45:11.451Z"
   },
   {
    "duration": 12,
    "start_time": "2023-03-31T09:45:11.472Z"
   },
   {
    "duration": 25,
    "start_time": "2023-03-31T09:45:11.486Z"
   },
   {
    "duration": 27,
    "start_time": "2023-03-31T09:45:11.513Z"
   },
   {
    "duration": 13,
    "start_time": "2023-03-31T09:45:11.542Z"
   },
   {
    "duration": 27,
    "start_time": "2023-03-31T09:45:11.557Z"
   },
   {
    "duration": 14,
    "start_time": "2023-03-31T09:45:11.587Z"
   },
   {
    "duration": 29,
    "start_time": "2023-03-31T09:45:11.602Z"
   },
   {
    "duration": 134,
    "start_time": "2023-03-31T09:45:11.639Z"
   },
   {
    "duration": 22,
    "start_time": "2023-03-31T09:45:11.775Z"
   },
   {
    "duration": 131,
    "start_time": "2023-03-31T09:45:11.823Z"
   },
   {
    "duration": 14,
    "start_time": "2023-03-31T09:45:11.956Z"
   },
   {
    "duration": 8,
    "start_time": "2023-03-31T09:45:11.972Z"
   },
   {
    "duration": 39,
    "start_time": "2023-03-31T09:45:11.982Z"
   },
   {
    "duration": 8,
    "start_time": "2023-03-31T09:45:12.024Z"
   },
   {
    "duration": 22,
    "start_time": "2023-03-31T09:45:12.034Z"
   },
   {
    "duration": 15,
    "start_time": "2023-03-31T09:45:12.058Z"
   },
   {
    "duration": 9,
    "start_time": "2023-03-31T09:45:12.076Z"
   },
   {
    "duration": 19,
    "start_time": "2023-03-31T09:45:12.087Z"
   },
   {
    "duration": 43,
    "start_time": "2023-03-31T09:45:12.108Z"
   },
   {
    "duration": 18,
    "start_time": "2023-03-31T09:45:12.154Z"
   },
   {
    "duration": 7,
    "start_time": "2023-03-31T09:45:12.180Z"
   },
   {
    "duration": 14,
    "start_time": "2023-03-31T09:45:12.190Z"
   },
   {
    "duration": 39,
    "start_time": "2023-03-31T09:45:12.206Z"
   },
   {
    "duration": 35,
    "start_time": "2023-03-31T09:45:12.246Z"
   },
   {
    "duration": 21,
    "start_time": "2023-03-31T09:45:12.283Z"
   },
   {
    "duration": 30,
    "start_time": "2023-03-31T09:45:12.306Z"
   },
   {
    "duration": 35864,
    "start_time": "2023-03-31T09:45:12.338Z"
   },
   {
    "duration": 368,
    "start_time": "2023-03-31T09:45:48.204Z"
   },
   {
    "duration": 18546,
    "start_time": "2023-03-31T09:45:48.573Z"
   },
   {
    "duration": 13,
    "start_time": "2023-03-31T09:46:07.126Z"
   },
   {
    "duration": 26,
    "start_time": "2023-03-31T09:46:07.141Z"
   },
   {
    "duration": 7,
    "start_time": "2023-03-31T09:46:07.170Z"
   },
   {
    "duration": 1059,
    "start_time": "2023-03-31T09:46:07.180Z"
   },
   {
    "duration": 6,
    "start_time": "2023-03-31T09:46:08.241Z"
   },
   {
    "duration": 194,
    "start_time": "2023-03-31T09:46:08.249Z"
   },
   {
    "duration": 198,
    "start_time": "2023-03-31T09:46:08.444Z"
   },
   {
    "duration": 7,
    "start_time": "2023-03-31T09:46:08.644Z"
   },
   {
    "duration": 19,
    "start_time": "2023-03-31T09:46:08.653Z"
   },
   {
    "duration": 12,
    "start_time": "2023-03-31T09:46:08.674Z"
   },
   {
    "duration": 27,
    "start_time": "2023-03-31T09:46:08.688Z"
   },
   {
    "duration": 21,
    "start_time": "2023-03-31T09:46:08.717Z"
   },
   {
    "duration": 31,
    "start_time": "2023-03-31T09:46:08.741Z"
   },
   {
    "duration": 296,
    "start_time": "2023-03-31T09:46:08.773Z"
   },
   {
    "duration": 307,
    "start_time": "2023-03-31T09:46:09.071Z"
   },
   {
    "duration": 731,
    "start_time": "2023-03-31T09:46:09.379Z"
   },
   {
    "duration": 21,
    "start_time": "2023-03-31T09:46:10.112Z"
   },
   {
    "duration": 17,
    "start_time": "2023-03-31T09:46:10.140Z"
   },
   {
    "duration": 46,
    "start_time": "2023-03-31T09:46:10.159Z"
   },
   {
    "duration": 34,
    "start_time": "2023-03-31T09:46:10.207Z"
   },
   {
    "duration": 26,
    "start_time": "2023-03-31T09:46:10.242Z"
   },
   {
    "duration": 4351,
    "start_time": "2023-03-31T09:46:10.270Z"
   },
   {
    "duration": 8846,
    "start_time": "2023-03-31T09:46:14.624Z"
   },
   {
    "duration": 4151,
    "start_time": "2023-03-31T09:46:23.472Z"
   },
   {
    "duration": 6,
    "start_time": "2023-03-31T09:46:27.626Z"
   },
   {
    "duration": 10204,
    "start_time": "2023-03-31T09:46:27.639Z"
   },
   {
    "duration": 4,
    "start_time": "2023-03-31T09:46:37.845Z"
   },
   {
    "duration": 42,
    "start_time": "2023-03-31T09:46:37.851Z"
   },
   {
    "duration": 9,
    "start_time": "2023-03-31T09:46:37.895Z"
   },
   {
    "duration": 40,
    "start_time": "2023-03-31T09:46:37.906Z"
   },
   {
    "duration": 24,
    "start_time": "2023-03-31T09:46:37.948Z"
   },
   {
    "duration": 15,
    "start_time": "2023-03-31T09:46:37.974Z"
   },
   {
    "duration": 3625,
    "start_time": "2023-03-31T09:46:37.991Z"
   },
   {
    "duration": 4316,
    "start_time": "2023-03-31T09:46:41.620Z"
   },
   {
    "duration": 6,
    "start_time": "2023-03-31T09:46:45.938Z"
   },
   {
    "duration": 5600,
    "start_time": "2023-03-31T09:46:45.946Z"
   },
   {
    "duration": 10353,
    "start_time": "2023-03-31T09:46:51.548Z"
   },
   {
    "duration": 6,
    "start_time": "2023-03-31T09:47:01.904Z"
   },
   {
    "duration": 839,
    "start_time": "2023-03-31T09:47:08.804Z"
   },
   {
    "duration": 1584,
    "start_time": "2023-03-31T10:17:45.367Z"
   },
   {
    "duration": 748,
    "start_time": "2023-03-31T10:17:46.953Z"
   },
   {
    "duration": 38,
    "start_time": "2023-03-31T10:17:47.703Z"
   },
   {
    "duration": 99,
    "start_time": "2023-03-31T10:17:47.744Z"
   },
   {
    "duration": 28,
    "start_time": "2023-03-31T10:17:47.845Z"
   },
   {
    "duration": 19,
    "start_time": "2023-03-31T10:17:47.875Z"
   },
   {
    "duration": 19,
    "start_time": "2023-03-31T10:17:47.895Z"
   },
   {
    "duration": 24,
    "start_time": "2023-03-31T10:17:47.916Z"
   },
   {
    "duration": 8,
    "start_time": "2023-03-31T10:17:47.942Z"
   },
   {
    "duration": 4,
    "start_time": "2023-03-31T10:17:47.954Z"
   },
   {
    "duration": 7,
    "start_time": "2023-03-31T10:17:47.960Z"
   },
   {
    "duration": 20,
    "start_time": "2023-03-31T10:17:47.969Z"
   },
   {
    "duration": 13,
    "start_time": "2023-03-31T10:17:47.990Z"
   },
   {
    "duration": 37,
    "start_time": "2023-03-31T10:17:48.004Z"
   },
   {
    "duration": 135,
    "start_time": "2023-03-31T10:17:48.043Z"
   },
   {
    "duration": 22,
    "start_time": "2023-03-31T10:17:48.180Z"
   },
   {
    "duration": 113,
    "start_time": "2023-03-31T10:17:48.223Z"
   },
   {
    "duration": 10,
    "start_time": "2023-03-31T10:17:48.338Z"
   },
   {
    "duration": 10,
    "start_time": "2023-03-31T10:17:48.350Z"
   },
   {
    "duration": 16,
    "start_time": "2023-03-31T10:17:48.362Z"
   },
   {
    "duration": 4,
    "start_time": "2023-03-31T10:17:48.380Z"
   },
   {
    "duration": 9,
    "start_time": "2023-03-31T10:17:48.386Z"
   },
   {
    "duration": 10,
    "start_time": "2023-03-31T10:17:48.422Z"
   },
   {
    "duration": 8,
    "start_time": "2023-03-31T10:17:48.434Z"
   },
   {
    "duration": 6,
    "start_time": "2023-03-31T10:17:48.444Z"
   },
   {
    "duration": 12,
    "start_time": "2023-03-31T10:17:48.452Z"
   },
   {
    "duration": 7,
    "start_time": "2023-03-31T10:17:48.466Z"
   },
   {
    "duration": 8,
    "start_time": "2023-03-31T10:17:48.477Z"
   },
   {
    "duration": 11,
    "start_time": "2023-03-31T10:17:48.486Z"
   },
   {
    "duration": 50,
    "start_time": "2023-03-31T10:17:48.498Z"
   },
   {
    "duration": 22,
    "start_time": "2023-03-31T10:17:48.549Z"
   },
   {
    "duration": 13,
    "start_time": "2023-03-31T10:17:48.573Z"
   },
   {
    "duration": 20,
    "start_time": "2023-03-31T10:17:48.588Z"
   },
   {
    "duration": 36568,
    "start_time": "2023-03-31T10:17:48.617Z"
   },
   {
    "duration": 281,
    "start_time": "2023-03-31T10:18:25.187Z"
   },
   {
    "duration": 21731,
    "start_time": "2023-03-31T10:18:25.469Z"
   },
   {
    "duration": 20,
    "start_time": "2023-03-31T10:18:47.203Z"
   },
   {
    "duration": 14,
    "start_time": "2023-03-31T10:18:47.225Z"
   },
   {
    "duration": 9,
    "start_time": "2023-03-31T10:18:47.241Z"
   },
   {
    "duration": 898,
    "start_time": "2023-03-31T10:18:47.252Z"
   },
   {
    "duration": 8,
    "start_time": "2023-03-31T10:18:48.152Z"
   },
   {
    "duration": 191,
    "start_time": "2023-03-31T10:18:48.162Z"
   },
   {
    "duration": 172,
    "start_time": "2023-03-31T10:18:48.355Z"
   },
   {
    "duration": 7,
    "start_time": "2023-03-31T10:18:48.528Z"
   },
   {
    "duration": 12,
    "start_time": "2023-03-31T10:18:48.537Z"
   },
   {
    "duration": 21,
    "start_time": "2023-03-31T10:18:48.551Z"
   },
   {
    "duration": 11,
    "start_time": "2023-03-31T10:18:48.574Z"
   },
   {
    "duration": 29,
    "start_time": "2023-03-31T10:18:48.588Z"
   },
   {
    "duration": 27,
    "start_time": "2023-03-31T10:18:48.619Z"
   },
   {
    "duration": 268,
    "start_time": "2023-03-31T10:18:48.649Z"
   },
   {
    "duration": 246,
    "start_time": "2023-03-31T10:18:48.919Z"
   },
   {
    "duration": 701,
    "start_time": "2023-03-31T10:18:49.167Z"
   },
   {
    "duration": 23,
    "start_time": "2023-03-31T10:18:49.870Z"
   },
   {
    "duration": 22,
    "start_time": "2023-03-31T10:18:49.896Z"
   },
   {
    "duration": 19,
    "start_time": "2023-03-31T10:18:49.920Z"
   },
   {
    "duration": 11,
    "start_time": "2023-03-31T10:18:49.941Z"
   },
   {
    "duration": 23,
    "start_time": "2023-03-31T10:18:49.954Z"
   },
   {
    "duration": 2544,
    "start_time": "2023-03-31T10:18:49.979Z"
   },
   {
    "duration": 8010,
    "start_time": "2023-03-31T10:18:52.525Z"
   },
   {
    "duration": 2579,
    "start_time": "2023-03-31T10:19:00.537Z"
   },
   {
    "duration": 4,
    "start_time": "2023-03-31T10:19:03.119Z"
   },
   {
    "duration": 9648,
    "start_time": "2023-03-31T10:19:03.125Z"
   },
   {
    "duration": 3,
    "start_time": "2023-03-31T10:19:12.775Z"
   },
   {
    "duration": 66,
    "start_time": "2023-03-31T10:19:12.780Z"
   },
   {
    "duration": 8,
    "start_time": "2023-03-31T10:19:12.848Z"
   },
   {
    "duration": 15,
    "start_time": "2023-03-31T10:19:12.858Z"
   },
   {
    "duration": 24,
    "start_time": "2023-03-31T10:19:12.874Z"
   },
   {
    "duration": 11,
    "start_time": "2023-03-31T10:19:12.900Z"
   },
   {
    "duration": 3262,
    "start_time": "2023-03-31T10:19:12.913Z"
   },
   {
    "duration": 3873,
    "start_time": "2023-03-31T10:19:16.178Z"
   },
   {
    "duration": 4,
    "start_time": "2023-03-31T10:19:20.053Z"
   },
   {
    "duration": 2262,
    "start_time": "2023-03-31T10:19:20.059Z"
   },
   {
    "duration": 9883,
    "start_time": "2023-03-31T10:19:22.324Z"
   },
   {
    "duration": 8,
    "start_time": "2023-03-31T10:19:32.209Z"
   },
   {
    "duration": 837,
    "start_time": "2023-03-31T10:19:45.402Z"
   },
   {
    "duration": 1074,
    "start_time": "2023-03-31T10:21:56.235Z"
   },
   {
    "duration": 1661,
    "start_time": "2023-03-31T10:27:03.956Z"
   },
   {
    "duration": 821,
    "start_time": "2023-03-31T10:27:05.628Z"
   },
   {
    "duration": 29,
    "start_time": "2023-03-31T10:27:06.451Z"
   },
   {
    "duration": 67,
    "start_time": "2023-03-31T10:27:06.481Z"
   },
   {
    "duration": 32,
    "start_time": "2023-03-31T10:27:06.552Z"
   },
   {
    "duration": 24,
    "start_time": "2023-03-31T10:27:06.586Z"
   },
   {
    "duration": 73,
    "start_time": "2023-03-31T10:27:06.612Z"
   },
   {
    "duration": 58,
    "start_time": "2023-03-31T10:27:06.687Z"
   },
   {
    "duration": 29,
    "start_time": "2023-03-31T10:27:06.751Z"
   },
   {
    "duration": 25,
    "start_time": "2023-03-31T10:27:06.781Z"
   },
   {
    "duration": 49,
    "start_time": "2023-03-31T10:27:06.808Z"
   },
   {
    "duration": 44,
    "start_time": "2023-03-31T10:27:06.859Z"
   },
   {
    "duration": 38,
    "start_time": "2023-03-31T10:27:06.905Z"
   },
   {
    "duration": 73,
    "start_time": "2023-03-31T10:27:06.951Z"
   },
   {
    "duration": 162,
    "start_time": "2023-03-31T10:27:07.031Z"
   },
   {
    "duration": 42,
    "start_time": "2023-03-31T10:27:07.194Z"
   },
   {
    "duration": 133,
    "start_time": "2023-03-31T10:27:07.239Z"
   },
   {
    "duration": 9,
    "start_time": "2023-03-31T10:27:07.374Z"
   },
   {
    "duration": 20,
    "start_time": "2023-03-31T10:27:07.384Z"
   },
   {
    "duration": 48,
    "start_time": "2023-03-31T10:27:07.406Z"
   },
   {
    "duration": 6,
    "start_time": "2023-03-31T10:27:07.455Z"
   },
   {
    "duration": 21,
    "start_time": "2023-03-31T10:27:07.462Z"
   },
   {
    "duration": 31,
    "start_time": "2023-03-31T10:27:07.484Z"
   },
   {
    "duration": 23,
    "start_time": "2023-03-31T10:27:07.516Z"
   },
   {
    "duration": 33,
    "start_time": "2023-03-31T10:27:07.541Z"
   },
   {
    "duration": 23,
    "start_time": "2023-03-31T10:27:07.576Z"
   },
   {
    "duration": 27,
    "start_time": "2023-03-31T10:27:07.601Z"
   },
   {
    "duration": 34,
    "start_time": "2023-03-31T10:27:07.629Z"
   },
   {
    "duration": 45,
    "start_time": "2023-03-31T10:27:07.664Z"
   },
   {
    "duration": 54,
    "start_time": "2023-03-31T10:27:07.711Z"
   },
   {
    "duration": 39,
    "start_time": "2023-03-31T10:27:07.766Z"
   },
   {
    "duration": 64,
    "start_time": "2023-03-31T10:27:07.806Z"
   },
   {
    "duration": 34,
    "start_time": "2023-03-31T10:27:07.872Z"
   },
   {
    "duration": 35886,
    "start_time": "2023-03-31T10:27:07.907Z"
   },
   {
    "duration": 277,
    "start_time": "2023-03-31T10:27:43.794Z"
   },
   {
    "duration": 14139,
    "start_time": "2023-03-31T10:27:44.073Z"
   },
   {
    "duration": 37,
    "start_time": "2023-03-31T10:27:58.213Z"
   },
   {
    "duration": 23,
    "start_time": "2023-03-31T10:27:58.254Z"
   },
   {
    "duration": 10,
    "start_time": "2023-03-31T10:27:58.279Z"
   },
   {
    "duration": 1234,
    "start_time": "2023-03-31T10:27:58.290Z"
   },
   {
    "duration": 1014,
    "start_time": "2023-03-31T10:27:59.539Z"
   },
   {
    "duration": 1123,
    "start_time": "2023-03-31T10:28:00.555Z"
   },
   {
    "duration": 7,
    "start_time": "2023-03-31T10:28:01.681Z"
   },
   {
    "duration": 281,
    "start_time": "2023-03-31T10:28:01.690Z"
   },
   {
    "duration": 212,
    "start_time": "2023-03-31T10:28:01.973Z"
   },
   {
    "duration": 6,
    "start_time": "2023-03-31T10:28:02.187Z"
   },
   {
    "duration": 13,
    "start_time": "2023-03-31T10:28:02.195Z"
   },
   {
    "duration": 45,
    "start_time": "2023-03-31T10:28:02.211Z"
   },
   {
    "duration": 16,
    "start_time": "2023-03-31T10:28:02.258Z"
   },
   {
    "duration": 14,
    "start_time": "2023-03-31T10:28:02.276Z"
   },
   {
    "duration": 55,
    "start_time": "2023-03-31T10:28:02.292Z"
   },
   {
    "duration": 331,
    "start_time": "2023-03-31T10:28:02.350Z"
   },
   {
    "duration": 360,
    "start_time": "2023-03-31T10:28:02.683Z"
   },
   {
    "duration": 723,
    "start_time": "2023-03-31T10:28:03.045Z"
   },
   {
    "duration": 20,
    "start_time": "2023-03-31T10:28:03.770Z"
   },
   {
    "duration": 12,
    "start_time": "2023-03-31T10:28:03.791Z"
   },
   {
    "duration": 56,
    "start_time": "2023-03-31T10:28:03.804Z"
   },
   {
    "duration": 28,
    "start_time": "2023-03-31T10:28:03.862Z"
   },
   {
    "duration": 48,
    "start_time": "2023-03-31T10:28:03.892Z"
   },
   {
    "duration": 6699,
    "start_time": "2023-03-31T10:28:03.943Z"
   },
   {
    "duration": 9330,
    "start_time": "2023-03-31T10:28:10.644Z"
   },
   {
    "duration": 8864,
    "start_time": "2023-03-31T10:28:19.976Z"
   },
   {
    "duration": 80,
    "start_time": "2023-03-31T10:28:28.844Z"
   },
   {
    "duration": 10563,
    "start_time": "2023-03-31T10:28:28.936Z"
   },
   {
    "duration": 3,
    "start_time": "2023-03-31T10:28:39.502Z"
   },
   {
    "duration": 66,
    "start_time": "2023-03-31T10:28:39.507Z"
   },
   {
    "duration": 24,
    "start_time": "2023-03-31T10:28:39.575Z"
   },
   {
    "duration": 14,
    "start_time": "2023-03-31T10:28:39.601Z"
   },
   {
    "duration": 46,
    "start_time": "2023-03-31T10:28:39.617Z"
   },
   {
    "duration": 43,
    "start_time": "2023-03-31T10:28:39.665Z"
   },
   {
    "duration": 3731,
    "start_time": "2023-03-31T10:28:39.710Z"
   },
   {
    "duration": 4065,
    "start_time": "2023-03-31T10:28:43.445Z"
   },
   {
    "duration": 25,
    "start_time": "2023-03-31T10:28:47.513Z"
   },
   {
    "duration": 7419,
    "start_time": "2023-03-31T10:28:47.540Z"
   },
   {
    "duration": 10323,
    "start_time": "2023-03-31T10:28:54.961Z"
   },
   {
    "duration": 8,
    "start_time": "2023-03-31T10:29:05.288Z"
   },
   {
    "duration": 1915,
    "start_time": "2023-03-31T10:42:08.139Z"
   },
   {
    "duration": 730,
    "start_time": "2023-03-31T10:42:10.057Z"
   },
   {
    "duration": 34,
    "start_time": "2023-03-31T10:42:10.789Z"
   },
   {
    "duration": 32,
    "start_time": "2023-03-31T10:42:10.825Z"
   },
   {
    "duration": 56,
    "start_time": "2023-03-31T10:42:10.862Z"
   },
   {
    "duration": 6,
    "start_time": "2023-03-31T10:42:10.920Z"
   },
   {
    "duration": 22,
    "start_time": "2023-03-31T10:42:10.928Z"
   },
   {
    "duration": 13,
    "start_time": "2023-03-31T10:42:10.953Z"
   },
   {
    "duration": 10,
    "start_time": "2023-03-31T10:42:10.968Z"
   },
   {
    "duration": 13,
    "start_time": "2023-03-31T10:42:10.980Z"
   },
   {
    "duration": 13,
    "start_time": "2023-03-31T10:42:10.995Z"
   },
   {
    "duration": 33,
    "start_time": "2023-03-31T10:42:11.010Z"
   },
   {
    "duration": 19,
    "start_time": "2023-03-31T10:42:11.045Z"
   },
   {
    "duration": 28,
    "start_time": "2023-03-31T10:42:11.068Z"
   },
   {
    "duration": 183,
    "start_time": "2023-03-31T10:42:11.098Z"
   },
   {
    "duration": 27,
    "start_time": "2023-03-31T10:42:11.284Z"
   },
   {
    "duration": 105,
    "start_time": "2023-03-31T10:42:11.318Z"
   },
   {
    "duration": 9,
    "start_time": "2023-03-31T10:42:11.425Z"
   },
   {
    "duration": 8,
    "start_time": "2023-03-31T10:42:11.436Z"
   },
   {
    "duration": 11,
    "start_time": "2023-03-31T10:42:11.446Z"
   },
   {
    "duration": 5,
    "start_time": "2023-03-31T10:42:11.459Z"
   },
   {
    "duration": 6,
    "start_time": "2023-03-31T10:42:11.466Z"
   },
   {
    "duration": 47,
    "start_time": "2023-03-31T10:42:11.474Z"
   },
   {
    "duration": 12,
    "start_time": "2023-03-31T10:42:11.524Z"
   },
   {
    "duration": 20,
    "start_time": "2023-03-31T10:42:11.539Z"
   },
   {
    "duration": 13,
    "start_time": "2023-03-31T10:42:11.561Z"
   },
   {
    "duration": 9,
    "start_time": "2023-03-31T10:42:11.576Z"
   },
   {
    "duration": 11,
    "start_time": "2023-03-31T10:42:11.587Z"
   },
   {
    "duration": 20,
    "start_time": "2023-03-31T10:42:11.600Z"
   },
   {
    "duration": 17,
    "start_time": "2023-03-31T10:42:11.622Z"
   },
   {
    "duration": 31,
    "start_time": "2023-03-31T10:42:11.641Z"
   },
   {
    "duration": 19,
    "start_time": "2023-03-31T10:42:11.675Z"
   },
   {
    "duration": 49,
    "start_time": "2023-03-31T10:42:11.696Z"
   },
   {
    "duration": 34459,
    "start_time": "2023-03-31T10:42:11.748Z"
   },
   {
    "duration": 372,
    "start_time": "2023-03-31T10:42:46.209Z"
   },
   {
    "duration": 22593,
    "start_time": "2023-03-31T10:42:46.619Z"
   },
   {
    "duration": 9,
    "start_time": "2023-03-31T10:43:09.214Z"
   },
   {
    "duration": 19,
    "start_time": "2023-03-31T10:43:09.225Z"
   },
   {
    "duration": 6,
    "start_time": "2023-03-31T10:43:09.246Z"
   },
   {
    "duration": 1012,
    "start_time": "2023-03-31T10:43:09.253Z"
   },
   {
    "duration": 895,
    "start_time": "2023-03-31T10:43:10.270Z"
   },
   {
    "duration": 1071,
    "start_time": "2023-03-31T10:43:11.167Z"
   },
   {
    "duration": 7,
    "start_time": "2023-03-31T10:43:12.240Z"
   },
   {
    "duration": 212,
    "start_time": "2023-03-31T10:43:12.249Z"
   },
   {
    "duration": 251,
    "start_time": "2023-03-31T10:43:12.463Z"
   },
   {
    "duration": 6,
    "start_time": "2023-03-31T10:43:12.720Z"
   },
   {
    "duration": 22,
    "start_time": "2023-03-31T10:43:12.729Z"
   },
   {
    "duration": 28,
    "start_time": "2023-03-31T10:43:12.753Z"
   },
   {
    "duration": 11,
    "start_time": "2023-03-31T10:43:12.783Z"
   },
   {
    "duration": 9,
    "start_time": "2023-03-31T10:43:12.796Z"
   },
   {
    "duration": 38,
    "start_time": "2023-03-31T10:43:12.807Z"
   },
   {
    "duration": 303,
    "start_time": "2023-03-31T10:43:12.847Z"
   },
   {
    "duration": 276,
    "start_time": "2023-03-31T10:43:13.151Z"
   },
   {
    "duration": 671,
    "start_time": "2023-03-31T10:43:13.429Z"
   },
   {
    "duration": 28,
    "start_time": "2023-03-31T10:43:14.102Z"
   },
   {
    "duration": 7,
    "start_time": "2023-03-31T10:43:14.132Z"
   },
   {
    "duration": 14,
    "start_time": "2023-03-31T10:43:14.141Z"
   },
   {
    "duration": 10,
    "start_time": "2023-03-31T10:43:14.157Z"
   },
   {
    "duration": 32,
    "start_time": "2023-03-31T10:43:14.168Z"
   },
   {
    "duration": 3022,
    "start_time": "2023-03-31T10:43:14.202Z"
   },
   {
    "duration": 8226,
    "start_time": "2023-03-31T10:43:17.226Z"
   },
   {
    "duration": 9166,
    "start_time": "2023-03-31T10:43:25.454Z"
   },
   {
    "duration": 6,
    "start_time": "2023-03-31T10:43:34.625Z"
   },
   {
    "duration": 10625,
    "start_time": "2023-03-31T10:43:34.639Z"
   },
   {
    "duration": 4,
    "start_time": "2023-03-31T10:43:45.267Z"
   },
   {
    "duration": 38,
    "start_time": "2023-03-31T10:43:45.273Z"
   },
   {
    "duration": 23,
    "start_time": "2023-03-31T10:43:45.314Z"
   },
   {
    "duration": 10,
    "start_time": "2023-03-31T10:43:45.339Z"
   },
   {
    "duration": 13,
    "start_time": "2023-03-31T10:43:45.351Z"
   },
   {
    "duration": 10,
    "start_time": "2023-03-31T10:43:45.366Z"
   },
   {
    "duration": 3591,
    "start_time": "2023-03-31T10:43:45.377Z"
   },
   {
    "duration": 4276,
    "start_time": "2023-03-31T10:43:48.970Z"
   },
   {
    "duration": 3,
    "start_time": "2023-03-31T10:43:53.248Z"
   },
   {
    "duration": 4381,
    "start_time": "2023-03-31T10:43:53.253Z"
   },
   {
    "duration": 10510,
    "start_time": "2023-03-31T10:43:57.637Z"
   },
   {
    "duration": 4,
    "start_time": "2023-03-31T10:44:08.149Z"
   },
   {
    "duration": 1685,
    "start_time": "2023-03-31T10:51:48.852Z"
   },
   {
    "duration": 899,
    "start_time": "2023-03-31T10:51:50.539Z"
   },
   {
    "duration": 35,
    "start_time": "2023-03-31T10:51:51.440Z"
   },
   {
    "duration": 24,
    "start_time": "2023-03-31T10:51:51.477Z"
   },
   {
    "duration": 51,
    "start_time": "2023-03-31T10:51:51.504Z"
   },
   {
    "duration": 99,
    "start_time": "2023-03-31T10:51:51.558Z"
   },
   {
    "duration": 23,
    "start_time": "2023-03-31T10:51:51.659Z"
   },
   {
    "duration": 72,
    "start_time": "2023-03-31T10:51:51.683Z"
   },
   {
    "duration": 15,
    "start_time": "2023-03-31T10:51:51.757Z"
   },
   {
    "duration": 12,
    "start_time": "2023-03-31T10:51:51.774Z"
   },
   {
    "duration": 10,
    "start_time": "2023-03-31T10:51:51.788Z"
   },
   {
    "duration": 38,
    "start_time": "2023-03-31T10:51:51.800Z"
   },
   {
    "duration": 51,
    "start_time": "2023-03-31T10:51:51.840Z"
   },
   {
    "duration": 64,
    "start_time": "2023-03-31T10:51:51.895Z"
   },
   {
    "duration": 202,
    "start_time": "2023-03-31T10:51:51.968Z"
   },
   {
    "duration": 24,
    "start_time": "2023-03-31T10:51:52.172Z"
   },
   {
    "duration": 144,
    "start_time": "2023-03-31T10:51:52.198Z"
   },
   {
    "duration": 14,
    "start_time": "2023-03-31T10:51:52.344Z"
   },
   {
    "duration": 11,
    "start_time": "2023-03-31T10:51:52.360Z"
   },
   {
    "duration": 20,
    "start_time": "2023-03-31T10:51:52.373Z"
   },
   {
    "duration": 4,
    "start_time": "2023-03-31T10:51:52.395Z"
   },
   {
    "duration": 12,
    "start_time": "2023-03-31T10:51:52.401Z"
   },
   {
    "duration": 57,
    "start_time": "2023-03-31T10:51:52.415Z"
   },
   {
    "duration": 14,
    "start_time": "2023-03-31T10:51:52.474Z"
   },
   {
    "duration": 16,
    "start_time": "2023-03-31T10:51:52.491Z"
   },
   {
    "duration": 57,
    "start_time": "2023-03-31T10:51:52.509Z"
   },
   {
    "duration": 24,
    "start_time": "2023-03-31T10:51:52.567Z"
   },
   {
    "duration": 33,
    "start_time": "2023-03-31T10:51:52.593Z"
   },
   {
    "duration": 57,
    "start_time": "2023-03-31T10:51:52.628Z"
   },
   {
    "duration": 51,
    "start_time": "2023-03-31T10:51:52.689Z"
   },
   {
    "duration": 56,
    "start_time": "2023-03-31T10:51:52.742Z"
   },
   {
    "duration": 36,
    "start_time": "2023-03-31T10:51:52.800Z"
   },
   {
    "duration": 40,
    "start_time": "2023-03-31T10:51:52.847Z"
   },
   {
    "duration": 37867,
    "start_time": "2023-03-31T10:51:52.889Z"
   },
   {
    "duration": 443,
    "start_time": "2023-03-31T10:52:30.760Z"
   },
   {
    "duration": 25160,
    "start_time": "2023-03-31T10:52:31.206Z"
   },
   {
    "duration": 8,
    "start_time": "2023-03-31T10:52:56.370Z"
   },
   {
    "duration": 23,
    "start_time": "2023-03-31T10:52:56.380Z"
   },
   {
    "duration": 57,
    "start_time": "2023-03-31T10:52:56.405Z"
   },
   {
    "duration": 2091,
    "start_time": "2023-03-31T10:52:56.464Z"
   },
   {
    "duration": 1481,
    "start_time": "2023-03-31T10:52:58.564Z"
   },
   {
    "duration": 1128,
    "start_time": "2023-03-31T10:53:00.048Z"
   },
   {
    "duration": 17,
    "start_time": "2023-03-31T10:53:01.178Z"
   },
   {
    "duration": 349,
    "start_time": "2023-03-31T10:53:01.197Z"
   },
   {
    "duration": 382,
    "start_time": "2023-03-31T10:53:01.548Z"
   },
   {
    "duration": 10,
    "start_time": "2023-03-31T10:53:01.934Z"
   },
   {
    "duration": 124,
    "start_time": "2023-03-31T10:53:01.947Z"
   },
   {
    "duration": 49,
    "start_time": "2023-03-31T10:53:02.075Z"
   },
   {
    "duration": 50,
    "start_time": "2023-03-31T10:53:02.126Z"
   },
   {
    "duration": 26,
    "start_time": "2023-03-31T10:53:02.178Z"
   },
   {
    "duration": 51,
    "start_time": "2023-03-31T10:53:02.206Z"
   },
   {
    "duration": 431,
    "start_time": "2023-03-31T10:53:02.260Z"
   },
   {
    "duration": 464,
    "start_time": "2023-03-31T10:53:02.693Z"
   },
   {
    "duration": 719,
    "start_time": "2023-03-31T10:53:03.160Z"
   },
   {
    "duration": 22,
    "start_time": "2023-03-31T10:53:03.881Z"
   },
   {
    "duration": 25,
    "start_time": "2023-03-31T10:53:03.904Z"
   },
   {
    "duration": 46,
    "start_time": "2023-03-31T10:53:03.931Z"
   },
   {
    "duration": 23,
    "start_time": "2023-03-31T10:53:03.979Z"
   },
   {
    "duration": 59,
    "start_time": "2023-03-31T10:53:04.004Z"
   },
   {
    "duration": 7064,
    "start_time": "2023-03-31T10:53:04.065Z"
   },
   {
    "duration": 9378,
    "start_time": "2023-03-31T10:53:11.137Z"
   },
   {
    "duration": 6533,
    "start_time": "2023-03-31T10:53:20.518Z"
   },
   {
    "duration": 65,
    "start_time": "2023-03-31T10:53:27.061Z"
   },
   {
    "duration": 2393,
    "start_time": "2023-03-31T10:53:32.613Z"
   },
   {
    "duration": 1032,
    "start_time": "2023-03-31T10:53:35.010Z"
   },
   {
    "duration": 32,
    "start_time": "2023-03-31T10:53:36.044Z"
   },
   {
    "duration": 55,
    "start_time": "2023-03-31T10:53:36.079Z"
   },
   {
    "duration": 39,
    "start_time": "2023-03-31T10:53:36.136Z"
   },
   {
    "duration": 31,
    "start_time": "2023-03-31T10:53:36.178Z"
   },
   {
    "duration": 41,
    "start_time": "2023-03-31T10:53:36.213Z"
   },
   {
    "duration": 31,
    "start_time": "2023-03-31T10:53:36.257Z"
   },
   {
    "duration": 13,
    "start_time": "2023-03-31T10:53:36.290Z"
   },
   {
    "duration": 48,
    "start_time": "2023-03-31T10:53:36.304Z"
   },
   {
    "duration": 27,
    "start_time": "2023-03-31T10:53:36.354Z"
   },
   {
    "duration": 57,
    "start_time": "2023-03-31T10:53:36.383Z"
   },
   {
    "duration": 21,
    "start_time": "2023-03-31T10:53:36.446Z"
   },
   {
    "duration": 38,
    "start_time": "2023-03-31T10:53:36.472Z"
   },
   {
    "duration": 210,
    "start_time": "2023-03-31T10:53:36.512Z"
   },
   {
    "duration": 41,
    "start_time": "2023-03-31T10:53:36.731Z"
   },
   {
    "duration": 139,
    "start_time": "2023-03-31T10:53:36.774Z"
   },
   {
    "duration": 15,
    "start_time": "2023-03-31T10:53:36.916Z"
   },
   {
    "duration": 49,
    "start_time": "2023-03-31T10:53:36.933Z"
   },
   {
    "duration": 31,
    "start_time": "2023-03-31T10:53:36.983Z"
   },
   {
    "duration": 51,
    "start_time": "2023-03-31T10:53:37.016Z"
   },
   {
    "duration": 11,
    "start_time": "2023-03-31T10:53:37.070Z"
   },
   {
    "duration": 14,
    "start_time": "2023-03-31T10:53:37.083Z"
   },
   {
    "duration": 11,
    "start_time": "2023-03-31T10:53:37.100Z"
   },
   {
    "duration": 56,
    "start_time": "2023-03-31T10:53:37.113Z"
   },
   {
    "duration": 45,
    "start_time": "2023-03-31T10:53:37.172Z"
   },
   {
    "duration": 55,
    "start_time": "2023-03-31T10:53:37.219Z"
   },
   {
    "duration": 10,
    "start_time": "2023-03-31T10:53:37.277Z"
   },
   {
    "duration": 79,
    "start_time": "2023-03-31T10:53:37.289Z"
   },
   {
    "duration": 34,
    "start_time": "2023-03-31T10:53:37.371Z"
   },
   {
    "duration": 80,
    "start_time": "2023-03-31T10:53:37.408Z"
   },
   {
    "duration": 70,
    "start_time": "2023-03-31T10:53:37.490Z"
   },
   {
    "duration": 47,
    "start_time": "2023-03-31T10:53:37.564Z"
   },
   {
    "duration": 39660,
    "start_time": "2023-03-31T10:53:37.613Z"
   },
   {
    "duration": 391,
    "start_time": "2023-03-31T10:54:17.275Z"
   },
   {
    "duration": 25535,
    "start_time": "2023-03-31T10:54:17.668Z"
   },
   {
    "duration": 29,
    "start_time": "2023-03-31T10:54:43.205Z"
   },
   {
    "duration": 52,
    "start_time": "2023-03-31T10:54:43.235Z"
   },
   {
    "duration": 8,
    "start_time": "2023-03-31T10:54:43.289Z"
   },
   {
    "duration": 1935,
    "start_time": "2023-03-31T10:54:43.299Z"
   },
   {
    "duration": 1934,
    "start_time": "2023-03-31T10:54:45.253Z"
   },
   {
    "duration": 1980,
    "start_time": "2023-03-31T10:54:47.190Z"
   },
   {
    "duration": 7,
    "start_time": "2023-03-31T10:54:49.172Z"
   },
   {
    "duration": 226,
    "start_time": "2023-03-31T10:54:49.182Z"
   },
   {
    "duration": 275,
    "start_time": "2023-03-31T10:54:49.411Z"
   },
   {
    "duration": 6,
    "start_time": "2023-03-31T10:54:49.688Z"
   },
   {
    "duration": 32,
    "start_time": "2023-03-31T10:54:49.696Z"
   },
   {
    "duration": 49,
    "start_time": "2023-03-31T10:54:49.729Z"
   },
   {
    "duration": 23,
    "start_time": "2023-03-31T10:54:49.781Z"
   },
   {
    "duration": 24,
    "start_time": "2023-03-31T10:54:49.806Z"
   },
   {
    "duration": 52,
    "start_time": "2023-03-31T10:54:49.843Z"
   },
   {
    "duration": 464,
    "start_time": "2023-03-31T10:54:49.897Z"
   },
   {
    "duration": 320,
    "start_time": "2023-03-31T10:54:50.363Z"
   },
   {
    "duration": 632,
    "start_time": "2023-03-31T10:54:50.685Z"
   },
   {
    "duration": 27,
    "start_time": "2023-03-31T10:54:51.325Z"
   },
   {
    "duration": 36,
    "start_time": "2023-03-31T10:54:51.359Z"
   },
   {
    "duration": 65,
    "start_time": "2023-03-31T10:54:51.397Z"
   },
   {
    "duration": 28,
    "start_time": "2023-03-31T10:54:51.464Z"
   },
   {
    "duration": 16,
    "start_time": "2023-03-31T10:54:51.495Z"
   },
   {
    "duration": 9823,
    "start_time": "2023-03-31T10:54:51.513Z"
   },
   {
    "duration": 9625,
    "start_time": "2023-03-31T10:55:01.343Z"
   },
   {
    "duration": 10441,
    "start_time": "2023-03-31T10:55:10.977Z"
   },
   {
    "duration": 8,
    "start_time": "2023-03-31T10:55:21.421Z"
   },
   {
    "duration": 11529,
    "start_time": "2023-03-31T10:55:21.435Z"
   },
   {
    "duration": 9,
    "start_time": "2023-03-31T10:55:32.967Z"
   },
   {
    "duration": 97,
    "start_time": "2023-03-31T10:55:32.979Z"
   },
   {
    "duration": 32,
    "start_time": "2023-03-31T10:55:33.079Z"
   },
   {
    "duration": 54,
    "start_time": "2023-03-31T10:55:33.113Z"
   },
   {
    "duration": 19,
    "start_time": "2023-03-31T10:55:33.169Z"
   },
   {
    "duration": 20,
    "start_time": "2023-03-31T10:55:33.189Z"
   },
   {
    "duration": 4289,
    "start_time": "2023-03-31T10:55:33.211Z"
   },
   {
    "duration": 4488,
    "start_time": "2023-03-31T10:55:37.501Z"
   },
   {
    "duration": 4,
    "start_time": "2023-03-31T10:55:41.991Z"
   },
   {
    "duration": 8325,
    "start_time": "2023-03-31T10:55:41.998Z"
   },
   {
    "duration": 11133,
    "start_time": "2023-03-31T10:55:50.325Z"
   },
   {
    "duration": 9,
    "start_time": "2023-03-31T10:56:01.460Z"
   },
   {
    "duration": 128,
    "start_time": "2023-03-31T10:58:32.902Z"
   },
   {
    "duration": 1848,
    "start_time": "2023-03-31T11:04:15.679Z"
   },
   {
    "duration": 818,
    "start_time": "2023-03-31T11:04:17.528Z"
   },
   {
    "duration": 30,
    "start_time": "2023-03-31T11:04:18.347Z"
   },
   {
    "duration": 81,
    "start_time": "2023-03-31T11:04:18.379Z"
   },
   {
    "duration": 38,
    "start_time": "2023-03-31T11:04:18.464Z"
   },
   {
    "duration": 66,
    "start_time": "2023-03-31T11:04:18.504Z"
   },
   {
    "duration": 26,
    "start_time": "2023-03-31T11:04:18.572Z"
   },
   {
    "duration": 53,
    "start_time": "2023-03-31T11:04:18.600Z"
   },
   {
    "duration": 20,
    "start_time": "2023-03-31T11:04:18.655Z"
   },
   {
    "duration": 10,
    "start_time": "2023-03-31T11:04:18.679Z"
   },
   {
    "duration": 15,
    "start_time": "2023-03-31T11:04:18.690Z"
   },
   {
    "duration": 61,
    "start_time": "2023-03-31T11:04:18.707Z"
   },
   {
    "duration": 17,
    "start_time": "2023-03-31T11:04:18.787Z"
   },
   {
    "duration": 44,
    "start_time": "2023-03-31T11:04:18.806Z"
   },
   {
    "duration": 152,
    "start_time": "2023-03-31T11:04:18.862Z"
   },
   {
    "duration": 47,
    "start_time": "2023-03-31T11:04:19.017Z"
   },
   {
    "duration": 144,
    "start_time": "2023-03-31T11:04:19.066Z"
   },
   {
    "duration": 31,
    "start_time": "2023-03-31T11:04:19.212Z"
   },
   {
    "duration": 25,
    "start_time": "2023-03-31T11:04:19.251Z"
   },
   {
    "duration": 14,
    "start_time": "2023-03-31T11:04:19.278Z"
   },
   {
    "duration": 6,
    "start_time": "2023-03-31T11:04:19.294Z"
   },
   {
    "duration": 6,
    "start_time": "2023-03-31T11:04:19.302Z"
   },
   {
    "duration": 43,
    "start_time": "2023-03-31T11:04:19.310Z"
   },
   {
    "duration": 10,
    "start_time": "2023-03-31T11:04:19.357Z"
   },
   {
    "duration": 12,
    "start_time": "2023-03-31T11:04:19.369Z"
   },
   {
    "duration": 23,
    "start_time": "2023-03-31T11:04:19.383Z"
   },
   {
    "duration": 11,
    "start_time": "2023-03-31T11:04:19.408Z"
   },
   {
    "duration": 42,
    "start_time": "2023-03-31T11:04:19.434Z"
   },
   {
    "duration": 34,
    "start_time": "2023-03-31T11:04:19.478Z"
   },
   {
    "duration": 81,
    "start_time": "2023-03-31T11:04:19.514Z"
   },
   {
    "duration": 43,
    "start_time": "2023-03-31T11:04:19.597Z"
   },
   {
    "duration": 59,
    "start_time": "2023-03-31T11:04:19.641Z"
   },
   {
    "duration": 64,
    "start_time": "2023-03-31T11:04:19.702Z"
   },
   {
    "duration": 38410,
    "start_time": "2023-03-31T11:04:19.768Z"
   },
   {
    "duration": 292,
    "start_time": "2023-03-31T11:04:58.181Z"
   },
   {
    "duration": 16780,
    "start_time": "2023-03-31T11:04:58.475Z"
   },
   {
    "duration": 7,
    "start_time": "2023-03-31T11:05:15.261Z"
   },
   {
    "duration": 11,
    "start_time": "2023-03-31T11:05:15.270Z"
   },
   {
    "duration": 4,
    "start_time": "2023-03-31T11:05:15.283Z"
   },
   {
    "duration": 1852,
    "start_time": "2023-03-31T11:05:15.289Z"
   },
   {
    "duration": 1888,
    "start_time": "2023-03-31T11:05:17.150Z"
   },
   {
    "duration": 1927,
    "start_time": "2023-03-31T11:05:19.039Z"
   },
   {
    "duration": 7,
    "start_time": "2023-03-31T11:05:20.968Z"
   },
   {
    "duration": 181,
    "start_time": "2023-03-31T11:05:20.977Z"
   },
   {
    "duration": 0,
    "start_time": "2023-03-31T11:05:21.161Z"
   },
   {
    "duration": 0,
    "start_time": "2023-03-31T11:05:21.163Z"
   },
   {
    "duration": 0,
    "start_time": "2023-03-31T11:05:21.167Z"
   },
   {
    "duration": 0,
    "start_time": "2023-03-31T11:05:21.168Z"
   },
   {
    "duration": 0,
    "start_time": "2023-03-31T11:05:21.168Z"
   },
   {
    "duration": 0,
    "start_time": "2023-03-31T11:05:21.169Z"
   },
   {
    "duration": 0,
    "start_time": "2023-03-31T11:05:21.170Z"
   },
   {
    "duration": 0,
    "start_time": "2023-03-31T11:05:21.170Z"
   },
   {
    "duration": 0,
    "start_time": "2023-03-31T11:05:21.171Z"
   },
   {
    "duration": 0,
    "start_time": "2023-03-31T11:05:21.173Z"
   },
   {
    "duration": 0,
    "start_time": "2023-03-31T11:05:21.177Z"
   },
   {
    "duration": 0,
    "start_time": "2023-03-31T11:05:21.178Z"
   },
   {
    "duration": 0,
    "start_time": "2023-03-31T11:05:21.179Z"
   },
   {
    "duration": 0,
    "start_time": "2023-03-31T11:05:21.181Z"
   },
   {
    "duration": 0,
    "start_time": "2023-03-31T11:05:21.182Z"
   },
   {
    "duration": 0,
    "start_time": "2023-03-31T11:05:21.184Z"
   },
   {
    "duration": 0,
    "start_time": "2023-03-31T11:05:21.186Z"
   },
   {
    "duration": 0,
    "start_time": "2023-03-31T11:05:21.187Z"
   },
   {
    "duration": 0,
    "start_time": "2023-03-31T11:05:21.188Z"
   },
   {
    "duration": 0,
    "start_time": "2023-03-31T11:05:21.190Z"
   },
   {
    "duration": 0,
    "start_time": "2023-03-31T11:05:21.191Z"
   },
   {
    "duration": 0,
    "start_time": "2023-03-31T11:05:21.220Z"
   },
   {
    "duration": 0,
    "start_time": "2023-03-31T11:05:21.221Z"
   },
   {
    "duration": 0,
    "start_time": "2023-03-31T11:05:21.225Z"
   },
   {
    "duration": 0,
    "start_time": "2023-03-31T11:05:21.225Z"
   },
   {
    "duration": 0,
    "start_time": "2023-03-31T11:05:21.226Z"
   },
   {
    "duration": 0,
    "start_time": "2023-03-31T11:05:21.227Z"
   },
   {
    "duration": 0,
    "start_time": "2023-03-31T11:05:21.228Z"
   },
   {
    "duration": 0,
    "start_time": "2023-03-31T11:05:21.229Z"
   },
   {
    "duration": 0,
    "start_time": "2023-03-31T11:05:21.230Z"
   },
   {
    "duration": 0,
    "start_time": "2023-03-31T11:05:21.231Z"
   },
   {
    "duration": 0,
    "start_time": "2023-03-31T11:05:21.232Z"
   },
   {
    "duration": 163,
    "start_time": "2023-03-31T11:06:21.551Z"
   },
   {
    "duration": 375,
    "start_time": "2023-03-31T11:06:35.055Z"
   },
   {
    "duration": 1956,
    "start_time": "2023-03-31T11:10:15.499Z"
   },
   {
    "duration": 773,
    "start_time": "2023-03-31T11:10:17.457Z"
   },
   {
    "duration": 28,
    "start_time": "2023-03-31T11:10:18.239Z"
   },
   {
    "duration": 52,
    "start_time": "2023-03-31T11:10:18.269Z"
   },
   {
    "duration": 72,
    "start_time": "2023-03-31T11:10:18.322Z"
   },
   {
    "duration": 58,
    "start_time": "2023-03-31T11:10:18.395Z"
   },
   {
    "duration": 25,
    "start_time": "2023-03-31T11:10:18.455Z"
   },
   {
    "duration": 32,
    "start_time": "2023-03-31T11:10:18.481Z"
   },
   {
    "duration": 58,
    "start_time": "2023-03-31T11:10:18.514Z"
   },
   {
    "duration": 18,
    "start_time": "2023-03-31T11:10:18.575Z"
   },
   {
    "duration": 19,
    "start_time": "2023-03-31T11:10:18.595Z"
   },
   {
    "duration": 92,
    "start_time": "2023-03-31T11:10:18.617Z"
   },
   {
    "duration": 29,
    "start_time": "2023-03-31T11:10:18.711Z"
   },
   {
    "duration": 30,
    "start_time": "2023-03-31T11:10:18.742Z"
   },
   {
    "duration": 146,
    "start_time": "2023-03-31T11:10:18.774Z"
   },
   {
    "duration": 38,
    "start_time": "2023-03-31T11:10:18.922Z"
   },
   {
    "duration": 118,
    "start_time": "2023-03-31T11:10:18.965Z"
   },
   {
    "duration": 9,
    "start_time": "2023-03-31T11:10:19.084Z"
   },
   {
    "duration": 10,
    "start_time": "2023-03-31T11:10:19.095Z"
   },
   {
    "duration": 55,
    "start_time": "2023-03-31T11:10:19.107Z"
   },
   {
    "duration": 4,
    "start_time": "2023-03-31T11:10:19.164Z"
   },
   {
    "duration": 24,
    "start_time": "2023-03-31T11:10:19.170Z"
   },
   {
    "duration": 18,
    "start_time": "2023-03-31T11:10:19.196Z"
   },
   {
    "duration": 36,
    "start_time": "2023-03-31T11:10:19.215Z"
   },
   {
    "duration": 15,
    "start_time": "2023-03-31T11:10:19.253Z"
   },
   {
    "duration": 21,
    "start_time": "2023-03-31T11:10:19.269Z"
   },
   {
    "duration": 11,
    "start_time": "2023-03-31T11:10:19.292Z"
   },
   {
    "duration": 46,
    "start_time": "2023-03-31T11:10:19.307Z"
   },
   {
    "duration": 25,
    "start_time": "2023-03-31T11:10:19.355Z"
   },
   {
    "duration": 32,
    "start_time": "2023-03-31T11:10:19.382Z"
   },
   {
    "duration": 34,
    "start_time": "2023-03-31T11:10:19.415Z"
   },
   {
    "duration": 28,
    "start_time": "2023-03-31T11:10:19.452Z"
   },
   {
    "duration": 22,
    "start_time": "2023-03-31T11:10:19.482Z"
   },
   {
    "duration": 38888,
    "start_time": "2023-03-31T11:10:19.506Z"
   },
   {
    "duration": 385,
    "start_time": "2023-03-31T11:10:58.396Z"
   },
   {
    "duration": 15827,
    "start_time": "2023-03-31T11:10:58.783Z"
   },
   {
    "duration": 17,
    "start_time": "2023-03-31T11:11:14.611Z"
   },
   {
    "duration": 34,
    "start_time": "2023-03-31T11:11:14.631Z"
   },
   {
    "duration": 7,
    "start_time": "2023-03-31T11:11:14.667Z"
   },
   {
    "duration": 1688,
    "start_time": "2023-03-31T11:11:14.676Z"
   },
   {
    "duration": 1796,
    "start_time": "2023-03-31T11:11:16.366Z"
   },
   {
    "duration": 1832,
    "start_time": "2023-03-31T11:11:18.164Z"
   },
   {
    "duration": 6,
    "start_time": "2023-03-31T11:11:19.998Z"
   },
   {
    "duration": 201,
    "start_time": "2023-03-31T11:11:20.006Z"
   },
   {
    "duration": 182,
    "start_time": "2023-03-31T11:11:20.208Z"
   },
   {
    "duration": 5,
    "start_time": "2023-03-31T11:11:20.392Z"
   },
   {
    "duration": 67,
    "start_time": "2023-03-31T11:11:20.399Z"
   },
   {
    "duration": 17,
    "start_time": "2023-03-31T11:11:20.468Z"
   },
   {
    "duration": 13,
    "start_time": "2023-03-31T11:11:20.487Z"
   },
   {
    "duration": 51,
    "start_time": "2023-03-31T11:11:20.502Z"
   },
   {
    "duration": 29,
    "start_time": "2023-03-31T11:11:20.555Z"
   },
   {
    "duration": 425,
    "start_time": "2023-03-31T11:11:20.586Z"
   },
   {
    "duration": 338,
    "start_time": "2023-03-31T11:11:21.013Z"
   },
   {
    "duration": 651,
    "start_time": "2023-03-31T11:11:21.354Z"
   },
   {
    "duration": 37,
    "start_time": "2023-03-31T11:11:22.007Z"
   },
   {
    "duration": 30,
    "start_time": "2023-03-31T11:11:22.046Z"
   },
   {
    "duration": 17,
    "start_time": "2023-03-31T11:11:22.079Z"
   },
   {
    "duration": 48,
    "start_time": "2023-03-31T11:11:22.099Z"
   },
   {
    "duration": 11,
    "start_time": "2023-03-31T11:11:22.150Z"
   },
   {
    "duration": 8466,
    "start_time": "2023-03-31T11:11:22.163Z"
   },
   {
    "duration": 9065,
    "start_time": "2023-03-31T11:11:30.632Z"
   },
   {
    "duration": 8934,
    "start_time": "2023-03-31T11:11:39.698Z"
   },
   {
    "duration": 9,
    "start_time": "2023-03-31T11:11:48.640Z"
   },
   {
    "duration": 10442,
    "start_time": "2023-03-31T11:11:48.654Z"
   },
   {
    "duration": 3,
    "start_time": "2023-03-31T11:11:59.098Z"
   },
   {
    "duration": 45,
    "start_time": "2023-03-31T11:11:59.103Z"
   },
   {
    "duration": 11,
    "start_time": "2023-03-31T11:11:59.150Z"
   },
   {
    "duration": 9,
    "start_time": "2023-03-31T11:11:59.163Z"
   },
   {
    "duration": 10,
    "start_time": "2023-03-31T11:11:59.175Z"
   },
   {
    "duration": 95,
    "start_time": "2023-03-31T11:11:59.187Z"
   },
   {
    "duration": 3591,
    "start_time": "2023-03-31T11:11:59.283Z"
   },
   {
    "duration": 4127,
    "start_time": "2023-03-31T11:12:02.877Z"
   },
   {
    "duration": 3,
    "start_time": "2023-03-31T11:12:07.006Z"
   },
   {
    "duration": 7733,
    "start_time": "2023-03-31T11:12:07.019Z"
   },
   {
    "duration": 10753,
    "start_time": "2023-03-31T11:12:14.754Z"
   },
   {
    "duration": 4,
    "start_time": "2023-03-31T11:12:25.509Z"
   },
   {
    "duration": 132,
    "start_time": "2023-03-31T11:16:09.948Z"
   },
   {
    "duration": 1992,
    "start_time": "2023-03-31T11:17:32.810Z"
   },
   {
    "duration": 2107,
    "start_time": "2023-03-31T11:19:41.179Z"
   },
   {
    "duration": 2546,
    "start_time": "2023-03-31T11:20:15.848Z"
   },
   {
    "duration": 1720,
    "start_time": "2023-03-31T11:20:36.088Z"
   },
   {
    "duration": 797,
    "start_time": "2023-03-31T11:20:37.810Z"
   },
   {
    "duration": 42,
    "start_time": "2023-03-31T11:20:38.609Z"
   },
   {
    "duration": 23,
    "start_time": "2023-03-31T11:20:38.653Z"
   },
   {
    "duration": 25,
    "start_time": "2023-03-31T11:20:38.678Z"
   },
   {
    "duration": 32,
    "start_time": "2023-03-31T11:20:38.704Z"
   },
   {
    "duration": 22,
    "start_time": "2023-03-31T11:20:38.738Z"
   },
   {
    "duration": 15,
    "start_time": "2023-03-31T11:20:38.762Z"
   },
   {
    "duration": 9,
    "start_time": "2023-03-31T11:20:38.778Z"
   },
   {
    "duration": 10,
    "start_time": "2023-03-31T11:20:38.789Z"
   },
   {
    "duration": 16,
    "start_time": "2023-03-31T11:20:38.800Z"
   },
   {
    "duration": 49,
    "start_time": "2023-03-31T11:20:38.817Z"
   },
   {
    "duration": 12,
    "start_time": "2023-03-31T11:20:38.868Z"
   },
   {
    "duration": 18,
    "start_time": "2023-03-31T11:20:38.884Z"
   },
   {
    "duration": 152,
    "start_time": "2023-03-31T11:20:38.903Z"
   },
   {
    "duration": 23,
    "start_time": "2023-03-31T11:20:39.057Z"
   },
   {
    "duration": 130,
    "start_time": "2023-03-31T11:20:39.081Z"
   },
   {
    "duration": 35,
    "start_time": "2023-03-31T11:20:39.212Z"
   },
   {
    "duration": 27,
    "start_time": "2023-03-31T11:20:39.251Z"
   },
   {
    "duration": 35,
    "start_time": "2023-03-31T11:20:39.280Z"
   },
   {
    "duration": 40,
    "start_time": "2023-03-31T11:20:39.317Z"
   },
   {
    "duration": 25,
    "start_time": "2023-03-31T11:20:39.358Z"
   },
   {
    "duration": 27,
    "start_time": "2023-03-31T11:20:39.384Z"
   },
   {
    "duration": 61,
    "start_time": "2023-03-31T11:20:39.413Z"
   },
   {
    "duration": 10,
    "start_time": "2023-03-31T11:20:39.475Z"
   },
   {
    "duration": 25,
    "start_time": "2023-03-31T11:20:39.487Z"
   },
   {
    "duration": 38,
    "start_time": "2023-03-31T11:20:39.513Z"
   },
   {
    "duration": 15,
    "start_time": "2023-03-31T11:20:39.553Z"
   },
   {
    "duration": 38,
    "start_time": "2023-03-31T11:20:39.570Z"
   },
   {
    "duration": 54,
    "start_time": "2023-03-31T11:20:39.610Z"
   },
   {
    "duration": 39,
    "start_time": "2023-03-31T11:20:39.666Z"
   },
   {
    "duration": 25,
    "start_time": "2023-03-31T11:20:39.707Z"
   },
   {
    "duration": 44,
    "start_time": "2023-03-31T11:20:39.743Z"
   },
   {
    "duration": 36824,
    "start_time": "2023-03-31T11:20:39.789Z"
   },
   {
    "duration": 369,
    "start_time": "2023-03-31T11:21:16.617Z"
   },
   {
    "duration": 12860,
    "start_time": "2023-03-31T11:21:16.988Z"
   },
   {
    "duration": 6,
    "start_time": "2023-03-31T11:21:29.850Z"
   },
   {
    "duration": 30,
    "start_time": "2023-03-31T11:21:29.857Z"
   },
   {
    "duration": 24,
    "start_time": "2023-03-31T11:21:29.889Z"
   },
   {
    "duration": 1757,
    "start_time": "2023-03-31T11:21:29.915Z"
   },
   {
    "duration": 1931,
    "start_time": "2023-03-31T11:21:31.676Z"
   },
   {
    "duration": 2013,
    "start_time": "2023-03-31T11:21:33.609Z"
   },
   {
    "duration": 17,
    "start_time": "2023-03-31T11:21:35.625Z"
   },
   {
    "duration": 227,
    "start_time": "2023-03-31T11:21:35.645Z"
   },
   {
    "duration": 207,
    "start_time": "2023-03-31T11:21:35.873Z"
   },
   {
    "duration": 4,
    "start_time": "2023-03-31T11:21:36.082Z"
   },
   {
    "duration": 61,
    "start_time": "2023-03-31T11:21:36.088Z"
   },
   {
    "duration": 32,
    "start_time": "2023-03-31T11:21:36.151Z"
   },
   {
    "duration": 17,
    "start_time": "2023-03-31T11:21:36.185Z"
   },
   {
    "duration": 57,
    "start_time": "2023-03-31T11:21:36.204Z"
   },
   {
    "duration": 46,
    "start_time": "2023-03-31T11:21:36.263Z"
   },
   {
    "duration": 1470,
    "start_time": "2023-03-31T11:21:36.311Z"
   },
   {
    "duration": 385,
    "start_time": "2023-03-31T11:21:37.783Z"
   },
   {
    "duration": 426,
    "start_time": "2023-03-31T11:21:38.170Z"
   },
   {
    "duration": 298,
    "start_time": "2023-03-31T11:21:38.597Z"
   },
   {
    "duration": 349,
    "start_time": "2023-03-31T11:21:38.896Z"
   },
   {
    "duration": 24,
    "start_time": "2023-03-31T11:21:39.250Z"
   },
   {
    "duration": 8,
    "start_time": "2023-03-31T11:21:39.277Z"
   },
   {
    "duration": 14,
    "start_time": "2023-03-31T11:21:39.286Z"
   },
   {
    "duration": 8,
    "start_time": "2023-03-31T11:21:39.302Z"
   },
   {
    "duration": 7,
    "start_time": "2023-03-31T11:21:39.312Z"
   },
   {
    "duration": 7713,
    "start_time": "2023-03-31T11:21:39.321Z"
   },
   {
    "duration": 8965,
    "start_time": "2023-03-31T11:21:47.043Z"
   },
   {
    "duration": 7632,
    "start_time": "2023-03-31T11:21:56.010Z"
   },
   {
    "duration": 14,
    "start_time": "2023-03-31T11:22:03.644Z"
   },
   {
    "duration": 11009,
    "start_time": "2023-03-31T11:22:03.660Z"
   },
   {
    "duration": 4,
    "start_time": "2023-03-31T11:22:14.671Z"
   },
   {
    "duration": 40,
    "start_time": "2023-03-31T11:22:14.676Z"
   },
   {
    "duration": 69,
    "start_time": "2023-03-31T11:22:14.717Z"
   },
   {
    "duration": 23,
    "start_time": "2023-03-31T11:22:14.787Z"
   },
   {
    "duration": 64,
    "start_time": "2023-03-31T11:22:14.812Z"
   },
   {
    "duration": 23,
    "start_time": "2023-03-31T11:22:14.878Z"
   },
   {
    "duration": 3631,
    "start_time": "2023-03-31T11:22:14.902Z"
   },
   {
    "duration": 4367,
    "start_time": "2023-03-31T11:22:18.535Z"
   },
   {
    "duration": 4,
    "start_time": "2023-03-31T11:22:22.904Z"
   },
   {
    "duration": 6112,
    "start_time": "2023-03-31T11:22:22.928Z"
   },
   {
    "duration": 11073,
    "start_time": "2023-03-31T11:22:29.046Z"
   },
   {
    "duration": 10,
    "start_time": "2023-03-31T11:22:40.122Z"
   },
   {
    "duration": 1837,
    "start_time": "2023-03-31T11:22:52.349Z"
   },
   {
    "duration": 1523,
    "start_time": "2023-03-31T11:22:59.293Z"
   },
   {
    "duration": 837,
    "start_time": "2023-03-31T11:23:00.826Z"
   },
   {
    "duration": 26,
    "start_time": "2023-03-31T11:23:01.668Z"
   },
   {
    "duration": 54,
    "start_time": "2023-03-31T11:23:01.696Z"
   },
   {
    "duration": 41,
    "start_time": "2023-03-31T11:23:01.754Z"
   },
   {
    "duration": 47,
    "start_time": "2023-03-31T11:23:01.797Z"
   },
   {
    "duration": 50,
    "start_time": "2023-03-31T11:23:01.845Z"
   },
   {
    "duration": 82,
    "start_time": "2023-03-31T11:23:01.897Z"
   },
   {
    "duration": 32,
    "start_time": "2023-03-31T11:23:01.981Z"
   },
   {
    "duration": 48,
    "start_time": "2023-03-31T11:23:02.014Z"
   },
   {
    "duration": 22,
    "start_time": "2023-03-31T11:23:02.063Z"
   },
   {
    "duration": 55,
    "start_time": "2023-03-31T11:23:02.087Z"
   },
   {
    "duration": 27,
    "start_time": "2023-03-31T11:23:02.143Z"
   },
   {
    "duration": 17,
    "start_time": "2023-03-31T11:23:02.173Z"
   },
   {
    "duration": 144,
    "start_time": "2023-03-31T11:23:02.192Z"
   },
   {
    "duration": 26,
    "start_time": "2023-03-31T11:23:02.339Z"
   },
   {
    "duration": 118,
    "start_time": "2023-03-31T11:23:02.367Z"
   },
   {
    "duration": 9,
    "start_time": "2023-03-31T11:23:02.486Z"
   },
   {
    "duration": 23,
    "start_time": "2023-03-31T11:23:02.496Z"
   },
   {
    "duration": 38,
    "start_time": "2023-03-31T11:23:02.527Z"
   },
   {
    "duration": 29,
    "start_time": "2023-03-31T11:23:02.567Z"
   },
   {
    "duration": 49,
    "start_time": "2023-03-31T11:23:02.598Z"
   },
   {
    "duration": 35,
    "start_time": "2023-03-31T11:23:02.650Z"
   },
   {
    "duration": 33,
    "start_time": "2023-03-31T11:23:02.687Z"
   },
   {
    "duration": 46,
    "start_time": "2023-03-31T11:23:02.726Z"
   },
   {
    "duration": 38,
    "start_time": "2023-03-31T11:23:02.775Z"
   },
   {
    "duration": 56,
    "start_time": "2023-03-31T11:23:02.815Z"
   },
   {
    "duration": 46,
    "start_time": "2023-03-31T11:23:02.873Z"
   },
   {
    "duration": 48,
    "start_time": "2023-03-31T11:23:02.924Z"
   },
   {
    "duration": 36,
    "start_time": "2023-03-31T11:23:02.975Z"
   },
   {
    "duration": 67,
    "start_time": "2023-03-31T11:23:03.012Z"
   },
   {
    "duration": 29,
    "start_time": "2023-03-31T11:23:03.081Z"
   },
   {
    "duration": 54,
    "start_time": "2023-03-31T11:23:03.112Z"
   },
   {
    "duration": 26513,
    "start_time": "2023-03-31T11:23:03.168Z"
   },
   {
    "duration": 399,
    "start_time": "2023-03-31T11:23:29.682Z"
   },
   {
    "duration": 16144,
    "start_time": "2023-03-31T11:23:30.082Z"
   },
   {
    "duration": 9,
    "start_time": "2023-03-31T11:23:46.230Z"
   },
   {
    "duration": 33,
    "start_time": "2023-03-31T11:23:46.240Z"
   },
   {
    "duration": 6,
    "start_time": "2023-03-31T11:23:46.275Z"
   },
   {
    "duration": 1877,
    "start_time": "2023-03-31T11:23:46.283Z"
   },
   {
    "duration": 1869,
    "start_time": "2023-03-31T11:23:48.165Z"
   },
   {
    "duration": 2005,
    "start_time": "2023-03-31T11:23:50.037Z"
   },
   {
    "duration": 7,
    "start_time": "2023-03-31T11:23:52.053Z"
   },
   {
    "duration": 319,
    "start_time": "2023-03-31T11:23:52.062Z"
   },
   {
    "duration": 198,
    "start_time": "2023-03-31T11:23:52.383Z"
   },
   {
    "duration": 6,
    "start_time": "2023-03-31T11:23:52.583Z"
   },
   {
    "duration": 72,
    "start_time": "2023-03-31T11:23:52.591Z"
   },
   {
    "duration": 32,
    "start_time": "2023-03-31T11:23:52.665Z"
   },
   {
    "duration": 67,
    "start_time": "2023-03-31T11:23:52.699Z"
   },
   {
    "duration": 90,
    "start_time": "2023-03-31T11:23:52.768Z"
   },
   {
    "duration": 46,
    "start_time": "2023-03-31T11:23:52.860Z"
   },
   {
    "duration": 1841,
    "start_time": "2023-03-31T11:23:52.908Z"
   },
   {
    "duration": 397,
    "start_time": "2023-03-31T11:23:54.751Z"
   },
   {
    "duration": 313,
    "start_time": "2023-03-31T11:23:55.150Z"
   },
   {
    "duration": 308,
    "start_time": "2023-03-31T11:23:55.465Z"
   },
   {
    "duration": 312,
    "start_time": "2023-03-31T11:23:55.775Z"
   },
   {
    "duration": 30,
    "start_time": "2023-03-31T11:23:56.089Z"
   },
   {
    "duration": 32,
    "start_time": "2023-03-31T11:23:56.122Z"
   },
   {
    "duration": 27,
    "start_time": "2023-03-31T11:23:56.156Z"
   },
   {
    "duration": 73,
    "start_time": "2023-03-31T11:23:56.185Z"
   },
   {
    "duration": 37,
    "start_time": "2023-03-31T11:23:56.259Z"
   },
   {
    "duration": 7956,
    "start_time": "2023-03-31T11:23:56.298Z"
   },
   {
    "duration": 8915,
    "start_time": "2023-03-31T11:24:04.258Z"
   },
   {
    "duration": 10165,
    "start_time": "2023-03-31T11:24:13.175Z"
   },
   {
    "duration": 15,
    "start_time": "2023-03-31T11:24:23.345Z"
   },
   {
    "duration": 10427,
    "start_time": "2023-03-31T11:24:23.366Z"
   },
   {
    "duration": 4,
    "start_time": "2023-03-31T11:24:33.795Z"
   },
   {
    "duration": 80,
    "start_time": "2023-03-31T11:24:33.800Z"
   },
   {
    "duration": 18,
    "start_time": "2023-03-31T11:24:33.881Z"
   },
   {
    "duration": 57,
    "start_time": "2023-03-31T11:24:33.900Z"
   },
   {
    "duration": 12,
    "start_time": "2023-03-31T11:24:33.959Z"
   },
   {
    "duration": 16,
    "start_time": "2023-03-31T11:24:33.973Z"
   },
   {
    "duration": 3662,
    "start_time": "2023-03-31T11:24:33.991Z"
   },
   {
    "duration": 4309,
    "start_time": "2023-03-31T11:24:37.655Z"
   },
   {
    "duration": 5,
    "start_time": "2023-03-31T11:24:41.966Z"
   },
   {
    "duration": 6288,
    "start_time": "2023-03-31T11:24:41.974Z"
   },
   {
    "duration": 10975,
    "start_time": "2023-03-31T11:24:48.264Z"
   },
   {
    "duration": 16,
    "start_time": "2023-03-31T11:24:59.241Z"
   },
   {
    "duration": 1691,
    "start_time": "2023-03-31T11:26:16.264Z"
   },
   {
    "duration": 904,
    "start_time": "2023-03-31T11:26:17.958Z"
   },
   {
    "duration": 28,
    "start_time": "2023-03-31T11:26:18.865Z"
   },
   {
    "duration": 32,
    "start_time": "2023-03-31T11:26:18.895Z"
   },
   {
    "duration": 52,
    "start_time": "2023-03-31T11:26:18.934Z"
   },
   {
    "duration": 6,
    "start_time": "2023-03-31T11:26:18.988Z"
   },
   {
    "duration": 7,
    "start_time": "2023-03-31T11:26:18.995Z"
   },
   {
    "duration": 12,
    "start_time": "2023-03-31T11:26:19.004Z"
   },
   {
    "duration": 54,
    "start_time": "2023-03-31T11:26:19.018Z"
   },
   {
    "duration": 8,
    "start_time": "2023-03-31T11:26:19.076Z"
   },
   {
    "duration": 8,
    "start_time": "2023-03-31T11:26:19.086Z"
   },
   {
    "duration": 36,
    "start_time": "2023-03-31T11:26:19.096Z"
   },
   {
    "duration": 25,
    "start_time": "2023-03-31T11:26:19.134Z"
   },
   {
    "duration": 36,
    "start_time": "2023-03-31T11:26:19.161Z"
   },
   {
    "duration": 162,
    "start_time": "2023-03-31T11:26:19.201Z"
   },
   {
    "duration": 32,
    "start_time": "2023-03-31T11:26:19.364Z"
   },
   {
    "duration": 155,
    "start_time": "2023-03-31T11:26:19.398Z"
   },
   {
    "duration": 15,
    "start_time": "2023-03-31T11:26:19.555Z"
   },
   {
    "duration": 11,
    "start_time": "2023-03-31T11:26:19.572Z"
   },
   {
    "duration": 15,
    "start_time": "2023-03-31T11:26:19.586Z"
   },
   {
    "duration": 35,
    "start_time": "2023-03-31T11:26:19.603Z"
   },
   {
    "duration": 25,
    "start_time": "2023-03-31T11:26:19.648Z"
   },
   {
    "duration": 7,
    "start_time": "2023-03-31T11:26:19.675Z"
   },
   {
    "duration": 10,
    "start_time": "2023-03-31T11:26:19.684Z"
   },
   {
    "duration": 9,
    "start_time": "2023-03-31T11:26:19.695Z"
   },
   {
    "duration": 27,
    "start_time": "2023-03-31T11:26:19.706Z"
   },
   {
    "duration": 33,
    "start_time": "2023-03-31T11:26:19.739Z"
   },
   {
    "duration": 12,
    "start_time": "2023-03-31T11:26:19.777Z"
   },
   {
    "duration": 26,
    "start_time": "2023-03-31T11:26:19.791Z"
   },
   {
    "duration": 65,
    "start_time": "2023-03-31T11:26:19.822Z"
   },
   {
    "duration": 51,
    "start_time": "2023-03-31T11:26:19.889Z"
   },
   {
    "duration": 51,
    "start_time": "2023-03-31T11:26:19.942Z"
   },
   {
    "duration": 43,
    "start_time": "2023-03-31T11:26:19.996Z"
   },
   {
    "duration": 43213,
    "start_time": "2023-03-31T11:26:20.041Z"
   },
   {
    "duration": 326,
    "start_time": "2023-03-31T11:27:03.257Z"
   },
   {
    "duration": 28021,
    "start_time": "2023-03-31T11:27:03.585Z"
   },
   {
    "duration": 16,
    "start_time": "2023-03-31T11:27:31.609Z"
   },
   {
    "duration": 175,
    "start_time": "2023-03-31T11:27:31.627Z"
   },
   {
    "duration": 119,
    "start_time": "2023-03-31T11:27:31.805Z"
   },
   {
    "duration": 2400,
    "start_time": "2023-03-31T11:27:31.930Z"
   },
   {
    "duration": 3075,
    "start_time": "2023-03-31T11:27:34.333Z"
   },
   {
    "duration": 2133,
    "start_time": "2023-03-31T11:27:37.410Z"
   },
   {
    "duration": 8,
    "start_time": "2023-03-31T11:27:39.545Z"
   },
   {
    "duration": 34,
    "start_time": "2023-03-31T11:27:39.555Z"
   },
   {
    "duration": 236,
    "start_time": "2023-03-31T11:27:39.591Z"
   },
   {
    "duration": 175,
    "start_time": "2023-03-31T11:27:39.830Z"
   },
   {
    "duration": 442,
    "start_time": "2023-03-31T11:27:40.007Z"
   },
   {
    "duration": 197,
    "start_time": "2023-03-31T11:27:40.459Z"
   },
   {
    "duration": 8,
    "start_time": "2023-03-31T11:27:40.657Z"
   },
   {
    "duration": 42,
    "start_time": "2023-03-31T11:27:40.671Z"
   },
   {
    "duration": 74,
    "start_time": "2023-03-31T11:27:40.715Z"
   },
   {
    "duration": 25,
    "start_time": "2023-03-31T11:27:40.791Z"
   },
   {
    "duration": 25,
    "start_time": "2023-03-31T11:27:40.822Z"
   },
   {
    "duration": 101,
    "start_time": "2023-03-31T11:27:40.850Z"
   },
   {
    "duration": 2214,
    "start_time": "2023-03-31T11:27:40.956Z"
   },
   {
    "duration": 460,
    "start_time": "2023-03-31T11:27:43.175Z"
   },
   {
    "duration": 329,
    "start_time": "2023-03-31T11:27:43.637Z"
   },
   {
    "duration": 318,
    "start_time": "2023-03-31T11:27:43.968Z"
   },
   {
    "duration": 389,
    "start_time": "2023-03-31T11:27:44.288Z"
   },
   {
    "duration": 23,
    "start_time": "2023-03-31T11:27:44.679Z"
   },
   {
    "duration": 58,
    "start_time": "2023-03-31T11:27:44.705Z"
   },
   {
    "duration": 20,
    "start_time": "2023-03-31T11:27:44.766Z"
   },
   {
    "duration": 12,
    "start_time": "2023-03-31T11:27:44.788Z"
   },
   {
    "duration": 79,
    "start_time": "2023-03-31T11:27:44.802Z"
   },
   {
    "duration": 8941,
    "start_time": "2023-03-31T11:27:44.883Z"
   },
   {
    "duration": 9706,
    "start_time": "2023-03-31T11:27:53.826Z"
   },
   {
    "duration": 9082,
    "start_time": "2023-03-31T11:28:03.539Z"
   },
   {
    "duration": 5,
    "start_time": "2023-03-31T11:28:12.623Z"
   },
   {
    "duration": 10895,
    "start_time": "2023-03-31T11:28:12.630Z"
   },
   {
    "duration": 6,
    "start_time": "2023-03-31T11:28:23.527Z"
   },
   {
    "duration": 62,
    "start_time": "2023-03-31T11:28:23.535Z"
   },
   {
    "duration": 6,
    "start_time": "2023-03-31T11:28:23.600Z"
   },
   {
    "duration": 8,
    "start_time": "2023-03-31T11:28:23.609Z"
   },
   {
    "duration": 54,
    "start_time": "2023-03-31T11:28:23.618Z"
   },
   {
    "duration": 16,
    "start_time": "2023-03-31T11:28:23.673Z"
   },
   {
    "duration": 3836,
    "start_time": "2023-03-31T11:28:23.691Z"
   },
   {
    "duration": 4579,
    "start_time": "2023-03-31T11:28:27.529Z"
   },
   {
    "duration": 13,
    "start_time": "2023-03-31T11:28:32.117Z"
   },
   {
    "duration": 12234,
    "start_time": "2023-03-31T11:28:32.141Z"
   },
   {
    "duration": 12325,
    "start_time": "2023-03-31T11:28:44.443Z"
   },
   {
    "duration": 3,
    "start_time": "2023-03-31T11:28:56.773Z"
   },
   {
    "duration": 248,
    "start_time": "2023-03-31T11:34:51.866Z"
   },
   {
    "duration": 2007,
    "start_time": "2023-03-31T11:39:04.647Z"
   },
   {
    "duration": 1903,
    "start_time": "2023-03-31T11:39:13.356Z"
   },
   {
    "duration": 859,
    "start_time": "2023-03-31T11:39:15.264Z"
   },
   {
    "duration": 43,
    "start_time": "2023-03-31T11:39:16.129Z"
   },
   {
    "duration": 75,
    "start_time": "2023-03-31T11:39:16.178Z"
   },
   {
    "duration": 38,
    "start_time": "2023-03-31T11:39:16.256Z"
   },
   {
    "duration": 16,
    "start_time": "2023-03-31T11:39:16.296Z"
   },
   {
    "duration": 57,
    "start_time": "2023-03-31T11:39:16.315Z"
   },
   {
    "duration": 16,
    "start_time": "2023-03-31T11:39:16.375Z"
   },
   {
    "duration": 20,
    "start_time": "2023-03-31T11:39:16.393Z"
   },
   {
    "duration": 46,
    "start_time": "2023-03-31T11:39:16.416Z"
   },
   {
    "duration": 14,
    "start_time": "2023-03-31T11:39:16.464Z"
   },
   {
    "duration": 35,
    "start_time": "2023-03-31T11:39:16.480Z"
   },
   {
    "duration": 54,
    "start_time": "2023-03-31T11:39:16.520Z"
   },
   {
    "duration": 29,
    "start_time": "2023-03-31T11:39:16.577Z"
   },
   {
    "duration": 164,
    "start_time": "2023-03-31T11:39:16.608Z"
   },
   {
    "duration": 57,
    "start_time": "2023-03-31T11:39:16.774Z"
   },
   {
    "duration": 125,
    "start_time": "2023-03-31T11:39:16.843Z"
   },
   {
    "duration": 12,
    "start_time": "2023-03-31T11:39:16.971Z"
   },
   {
    "duration": 12,
    "start_time": "2023-03-31T11:39:16.986Z"
   },
   {
    "duration": 35,
    "start_time": "2023-03-31T11:39:17.000Z"
   },
   {
    "duration": 36,
    "start_time": "2023-03-31T11:39:17.036Z"
   },
   {
    "duration": 15,
    "start_time": "2023-03-31T11:39:17.075Z"
   },
   {
    "duration": 11,
    "start_time": "2023-03-31T11:39:17.092Z"
   },
   {
    "duration": 22,
    "start_time": "2023-03-31T11:39:17.105Z"
   },
   {
    "duration": 59,
    "start_time": "2023-03-31T11:39:17.131Z"
   },
   {
    "duration": 41,
    "start_time": "2023-03-31T11:39:17.197Z"
   },
   {
    "duration": 40,
    "start_time": "2023-03-31T11:39:17.239Z"
   },
   {
    "duration": 16,
    "start_time": "2023-03-31T11:39:17.284Z"
   },
   {
    "duration": 21,
    "start_time": "2023-03-31T11:39:17.302Z"
   },
   {
    "duration": 65,
    "start_time": "2023-03-31T11:39:17.326Z"
   },
   {
    "duration": 37,
    "start_time": "2023-03-31T11:39:17.393Z"
   },
   {
    "duration": 42,
    "start_time": "2023-03-31T11:39:17.432Z"
   },
   {
    "duration": 29,
    "start_time": "2023-03-31T11:39:17.476Z"
   },
   {
    "duration": 43677,
    "start_time": "2023-03-31T11:39:17.507Z"
   },
   {
    "duration": 397,
    "start_time": "2023-03-31T11:40:01.188Z"
   },
   {
    "duration": 17959,
    "start_time": "2023-03-31T11:40:01.586Z"
   },
   {
    "duration": 8,
    "start_time": "2023-03-31T11:40:19.551Z"
   },
   {
    "duration": 11,
    "start_time": "2023-03-31T11:40:19.561Z"
   },
   {
    "duration": 4,
    "start_time": "2023-03-31T11:40:19.574Z"
   },
   {
    "duration": 1848,
    "start_time": "2023-03-31T11:40:19.580Z"
   },
   {
    "duration": 2075,
    "start_time": "2023-03-31T11:40:21.440Z"
   },
   {
    "duration": 1926,
    "start_time": "2023-03-31T11:40:23.517Z"
   },
   {
    "duration": 9,
    "start_time": "2023-03-31T11:40:25.445Z"
   },
   {
    "duration": 29,
    "start_time": "2023-03-31T11:40:25.456Z"
   },
   {
    "duration": 284,
    "start_time": "2023-03-31T11:40:25.488Z"
   },
   {
    "duration": 209,
    "start_time": "2023-03-31T11:40:25.774Z"
   },
   {
    "duration": 315,
    "start_time": "2023-03-31T11:40:25.985Z"
   },
   {
    "duration": 238,
    "start_time": "2023-03-31T11:40:26.302Z"
   },
   {
    "duration": 10,
    "start_time": "2023-03-31T11:40:26.543Z"
   },
   {
    "duration": 54,
    "start_time": "2023-03-31T11:40:26.557Z"
   },
   {
    "duration": 87,
    "start_time": "2023-03-31T11:40:26.613Z"
   },
   {
    "duration": 59,
    "start_time": "2023-03-31T11:40:26.702Z"
   },
   {
    "duration": 48,
    "start_time": "2023-03-31T11:40:26.763Z"
   },
   {
    "duration": 110,
    "start_time": "2023-03-31T11:40:26.813Z"
   },
   {
    "duration": 2012,
    "start_time": "2023-03-31T11:40:26.927Z"
   },
   {
    "duration": 26,
    "start_time": "2023-03-31T11:40:28.944Z"
   },
   {
    "duration": 84,
    "start_time": "2023-03-31T11:40:28.972Z"
   },
   {
    "duration": 108,
    "start_time": "2023-03-31T11:40:29.058Z"
   },
   {
    "duration": 75,
    "start_time": "2023-03-31T11:40:29.168Z"
   },
   {
    "duration": 151,
    "start_time": "2023-03-31T11:40:29.245Z"
   },
   {
    "duration": 6557,
    "start_time": "2023-03-31T11:40:29.398Z"
   },
   {
    "duration": 8953,
    "start_time": "2023-03-31T11:40:35.957Z"
   },
   {
    "duration": 5731,
    "start_time": "2023-03-31T11:40:44.915Z"
   },
   {
    "duration": 6,
    "start_time": "2023-03-31T11:40:50.648Z"
   },
   {
    "duration": 10966,
    "start_time": "2023-03-31T11:40:50.656Z"
   },
   {
    "duration": 13,
    "start_time": "2023-03-31T11:41:01.630Z"
   },
   {
    "duration": 66,
    "start_time": "2023-03-31T11:41:01.646Z"
   },
   {
    "duration": 77,
    "start_time": "2023-03-31T11:41:01.714Z"
   },
   {
    "duration": 21,
    "start_time": "2023-03-31T11:41:01.793Z"
   },
   {
    "duration": 89,
    "start_time": "2023-03-31T11:41:01.815Z"
   },
   {
    "duration": 79,
    "start_time": "2023-03-31T11:41:01.907Z"
   },
   {
    "duration": 3703,
    "start_time": "2023-03-31T11:41:01.991Z"
   },
   {
    "duration": 4301,
    "start_time": "2023-03-31T11:41:05.695Z"
   },
   {
    "duration": 3,
    "start_time": "2023-03-31T11:41:09.999Z"
   },
   {
    "duration": 7228,
    "start_time": "2023-03-31T11:41:10.004Z"
   },
   {
    "duration": 10477,
    "start_time": "2023-03-31T11:41:17.233Z"
   },
   {
    "duration": 18,
    "start_time": "2023-03-31T11:41:27.711Z"
   },
   {
    "duration": 1679,
    "start_time": "2023-03-31T11:49:06.903Z"
   },
   {
    "duration": 1066,
    "start_time": "2023-03-31T11:49:08.584Z"
   },
   {
    "duration": 27,
    "start_time": "2023-03-31T11:49:09.652Z"
   },
   {
    "duration": 23,
    "start_time": "2023-03-31T11:49:09.681Z"
   },
   {
    "duration": 39,
    "start_time": "2023-03-31T11:49:09.706Z"
   },
   {
    "duration": 25,
    "start_time": "2023-03-31T11:49:09.747Z"
   },
   {
    "duration": 14,
    "start_time": "2023-03-31T11:49:09.773Z"
   },
   {
    "duration": 16,
    "start_time": "2023-03-31T11:49:09.789Z"
   },
   {
    "duration": 13,
    "start_time": "2023-03-31T11:49:09.807Z"
   },
   {
    "duration": 39,
    "start_time": "2023-03-31T11:49:09.821Z"
   },
   {
    "duration": 8,
    "start_time": "2023-03-31T11:49:09.863Z"
   },
   {
    "duration": 22,
    "start_time": "2023-03-31T11:49:09.873Z"
   },
   {
    "duration": 14,
    "start_time": "2023-03-31T11:49:09.897Z"
   },
   {
    "duration": 24,
    "start_time": "2023-03-31T11:49:09.915Z"
   },
   {
    "duration": 153,
    "start_time": "2023-03-31T11:49:09.943Z"
   },
   {
    "duration": 29,
    "start_time": "2023-03-31T11:49:10.097Z"
   },
   {
    "duration": 113,
    "start_time": "2023-03-31T11:49:10.127Z"
   },
   {
    "duration": 16,
    "start_time": "2023-03-31T11:49:10.244Z"
   },
   {
    "duration": 24,
    "start_time": "2023-03-31T11:49:10.262Z"
   },
   {
    "duration": 27,
    "start_time": "2023-03-31T11:49:10.288Z"
   },
   {
    "duration": 48,
    "start_time": "2023-03-31T11:49:10.317Z"
   },
   {
    "duration": 24,
    "start_time": "2023-03-31T11:49:10.367Z"
   },
   {
    "duration": 64,
    "start_time": "2023-03-31T11:49:10.392Z"
   },
   {
    "duration": 31,
    "start_time": "2023-03-31T11:49:10.457Z"
   },
   {
    "duration": 59,
    "start_time": "2023-03-31T11:49:10.490Z"
   },
   {
    "duration": 39,
    "start_time": "2023-03-31T11:49:10.551Z"
   },
   {
    "duration": 32,
    "start_time": "2023-03-31T11:49:10.592Z"
   },
   {
    "duration": 46,
    "start_time": "2023-03-31T11:49:10.625Z"
   },
   {
    "duration": 21,
    "start_time": "2023-03-31T11:49:10.673Z"
   },
   {
    "duration": 80,
    "start_time": "2023-03-31T11:49:10.695Z"
   },
   {
    "duration": 56,
    "start_time": "2023-03-31T11:49:10.777Z"
   },
   {
    "duration": 44,
    "start_time": "2023-03-31T11:49:10.835Z"
   },
   {
    "duration": 63,
    "start_time": "2023-03-31T11:49:10.881Z"
   },
   {
    "duration": 32497,
    "start_time": "2023-03-31T11:49:10.946Z"
   },
   {
    "duration": 374,
    "start_time": "2023-03-31T11:49:43.444Z"
   },
   {
    "duration": 20233,
    "start_time": "2023-03-31T11:49:43.822Z"
   },
   {
    "duration": 6,
    "start_time": "2023-03-31T11:50:04.056Z"
   },
   {
    "duration": 22,
    "start_time": "2023-03-31T11:50:04.064Z"
   },
   {
    "duration": 7,
    "start_time": "2023-03-31T11:50:04.088Z"
   },
   {
    "duration": 1800,
    "start_time": "2023-03-31T11:50:04.097Z"
   },
   {
    "duration": 1589,
    "start_time": "2023-03-31T11:58:50.511Z"
   },
   {
    "duration": 917,
    "start_time": "2023-03-31T11:58:52.102Z"
   },
   {
    "duration": 32,
    "start_time": "2023-03-31T11:58:53.024Z"
   },
   {
    "duration": 33,
    "start_time": "2023-03-31T11:58:53.059Z"
   },
   {
    "duration": 37,
    "start_time": "2023-03-31T11:58:53.094Z"
   },
   {
    "duration": 25,
    "start_time": "2023-03-31T11:58:53.139Z"
   },
   {
    "duration": 21,
    "start_time": "2023-03-31T11:58:53.165Z"
   },
   {
    "duration": 27,
    "start_time": "2023-03-31T11:58:53.188Z"
   },
   {
    "duration": 43,
    "start_time": "2023-03-31T11:58:53.217Z"
   },
   {
    "duration": 26,
    "start_time": "2023-03-31T11:58:53.263Z"
   },
   {
    "duration": 21,
    "start_time": "2023-03-31T11:58:53.290Z"
   },
   {
    "duration": 66,
    "start_time": "2023-03-31T11:58:53.312Z"
   },
   {
    "duration": 28,
    "start_time": "2023-03-31T11:58:53.380Z"
   },
   {
    "duration": 56,
    "start_time": "2023-03-31T11:58:53.409Z"
   },
   {
    "duration": 129,
    "start_time": "2023-03-31T11:58:53.467Z"
   },
   {
    "duration": 38,
    "start_time": "2023-03-31T11:58:53.598Z"
   },
   {
    "duration": 107,
    "start_time": "2023-03-31T11:58:53.644Z"
   },
   {
    "duration": 9,
    "start_time": "2023-03-31T11:58:53.753Z"
   },
   {
    "duration": 16,
    "start_time": "2023-03-31T11:58:53.763Z"
   },
   {
    "duration": 21,
    "start_time": "2023-03-31T11:58:53.780Z"
   },
   {
    "duration": 17,
    "start_time": "2023-03-31T11:58:53.802Z"
   },
   {
    "duration": 45,
    "start_time": "2023-03-31T11:58:53.821Z"
   },
   {
    "duration": 43,
    "start_time": "2023-03-31T11:58:53.867Z"
   },
   {
    "duration": 43,
    "start_time": "2023-03-31T11:58:53.912Z"
   },
   {
    "duration": 16,
    "start_time": "2023-03-31T11:58:53.957Z"
   },
   {
    "duration": 28,
    "start_time": "2023-03-31T11:58:53.975Z"
   },
   {
    "duration": 12,
    "start_time": "2023-03-31T11:58:54.004Z"
   },
   {
    "duration": 33,
    "start_time": "2023-03-31T11:58:54.024Z"
   },
   {
    "duration": 31,
    "start_time": "2023-03-31T11:58:54.059Z"
   },
   {
    "duration": 33,
    "start_time": "2023-03-31T11:58:54.092Z"
   },
   {
    "duration": 43,
    "start_time": "2023-03-31T11:58:54.127Z"
   },
   {
    "duration": 28,
    "start_time": "2023-03-31T11:58:54.171Z"
   },
   {
    "duration": 24,
    "start_time": "2023-03-31T11:58:54.200Z"
   },
   {
    "duration": 26348,
    "start_time": "2023-03-31T11:58:54.225Z"
   },
   {
    "duration": 406,
    "start_time": "2023-03-31T11:59:20.575Z"
   },
   {
    "duration": 16678,
    "start_time": "2023-03-31T11:59:20.984Z"
   },
   {
    "duration": 7,
    "start_time": "2023-03-31T11:59:37.664Z"
   },
   {
    "duration": 13,
    "start_time": "2023-03-31T11:59:37.672Z"
   },
   {
    "duration": 14,
    "start_time": "2023-03-31T11:59:37.687Z"
   },
   {
    "duration": 1800,
    "start_time": "2023-03-31T11:59:37.703Z"
   },
   {
    "duration": 1961,
    "start_time": "2023-03-31T11:59:39.505Z"
   },
   {
    "duration": 2060,
    "start_time": "2023-03-31T11:59:41.525Z"
   },
   {
    "duration": 8,
    "start_time": "2023-03-31T11:59:43.587Z"
   },
   {
    "duration": 27,
    "start_time": "2023-03-31T11:59:43.596Z"
   },
   {
    "duration": 205,
    "start_time": "2023-03-31T11:59:43.629Z"
   },
   {
    "duration": 165,
    "start_time": "2023-03-31T11:59:43.839Z"
   },
   {
    "duration": 302,
    "start_time": "2023-03-31T11:59:44.006Z"
   },
   {
    "duration": 174,
    "start_time": "2023-03-31T11:59:44.310Z"
   },
   {
    "duration": 5,
    "start_time": "2023-03-31T11:59:44.485Z"
   },
   {
    "duration": 15,
    "start_time": "2023-03-31T11:59:44.491Z"
   },
   {
    "duration": 52,
    "start_time": "2023-03-31T11:59:44.507Z"
   },
   {
    "duration": 38,
    "start_time": "2023-03-31T11:59:44.561Z"
   },
   {
    "duration": 52,
    "start_time": "2023-03-31T11:59:44.601Z"
   },
   {
    "duration": 37,
    "start_time": "2023-03-31T11:59:44.655Z"
   },
   {
    "duration": 1721,
    "start_time": "2023-03-31T11:59:44.695Z"
   },
   {
    "duration": 26,
    "start_time": "2023-03-31T11:59:46.424Z"
   },
   {
    "duration": 18,
    "start_time": "2023-03-31T11:59:46.452Z"
   },
   {
    "duration": 14,
    "start_time": "2023-03-31T11:59:46.471Z"
   },
   {
    "duration": 25,
    "start_time": "2023-03-31T11:59:46.487Z"
   },
   {
    "duration": 49,
    "start_time": "2023-03-31T11:59:46.514Z"
   },
   {
    "duration": 6060,
    "start_time": "2023-03-31T11:59:46.566Z"
   },
   {
    "duration": 9101,
    "start_time": "2023-03-31T11:59:52.628Z"
   },
   {
    "duration": 7219,
    "start_time": "2023-03-31T12:00:01.732Z"
   },
   {
    "duration": 11,
    "start_time": "2023-03-31T12:00:09.023Z"
   },
   {
    "duration": 10238,
    "start_time": "2023-03-31T12:00:09.037Z"
   },
   {
    "duration": 5,
    "start_time": "2023-03-31T12:00:19.277Z"
   },
   {
    "duration": 62,
    "start_time": "2023-03-31T12:00:19.283Z"
   },
   {
    "duration": 19,
    "start_time": "2023-03-31T12:00:19.351Z"
   },
   {
    "duration": 11,
    "start_time": "2023-03-31T12:00:19.372Z"
   },
   {
    "duration": 17,
    "start_time": "2023-03-31T12:00:19.385Z"
   },
   {
    "duration": 42,
    "start_time": "2023-03-31T12:00:19.404Z"
   },
   {
    "duration": 3642,
    "start_time": "2023-03-31T12:00:19.449Z"
   },
   {
    "duration": 4314,
    "start_time": "2023-03-31T12:00:23.093Z"
   },
   {
    "duration": 24,
    "start_time": "2023-03-31T12:00:27.409Z"
   },
   {
    "duration": 6800,
    "start_time": "2023-03-31T12:00:27.437Z"
   },
   {
    "duration": 10617,
    "start_time": "2023-03-31T12:00:34.247Z"
   },
   {
    "duration": 4,
    "start_time": "2023-03-31T12:00:44.869Z"
   },
   {
    "duration": 5091,
    "start_time": "2023-03-31T12:02:20.544Z"
   },
   {
    "duration": 8571,
    "start_time": "2023-03-31T12:02:25.718Z"
   },
   {
    "duration": 1557,
    "start_time": "2023-03-31T12:04:56.337Z"
   },
   {
    "duration": 803,
    "start_time": "2023-03-31T12:04:57.896Z"
   },
   {
    "duration": 38,
    "start_time": "2023-03-31T12:04:58.701Z"
   },
   {
    "duration": 20,
    "start_time": "2023-03-31T12:04:58.741Z"
   },
   {
    "duration": 29,
    "start_time": "2023-03-31T12:04:58.763Z"
   },
   {
    "duration": 11,
    "start_time": "2023-03-31T12:04:58.794Z"
   },
   {
    "duration": 25,
    "start_time": "2023-03-31T12:04:58.807Z"
   },
   {
    "duration": 10,
    "start_time": "2023-03-31T12:04:58.834Z"
   },
   {
    "duration": 15,
    "start_time": "2023-03-31T12:04:58.847Z"
   },
   {
    "duration": 12,
    "start_time": "2023-03-31T12:04:58.864Z"
   },
   {
    "duration": 11,
    "start_time": "2023-03-31T12:04:58.878Z"
   },
   {
    "duration": 34,
    "start_time": "2023-03-31T12:04:58.890Z"
   },
   {
    "duration": 20,
    "start_time": "2023-03-31T12:04:58.926Z"
   },
   {
    "duration": 22,
    "start_time": "2023-03-31T12:04:58.950Z"
   },
   {
    "duration": 141,
    "start_time": "2023-03-31T12:04:58.974Z"
   },
   {
    "duration": 28,
    "start_time": "2023-03-31T12:04:59.117Z"
   },
   {
    "duration": 137,
    "start_time": "2023-03-31T12:04:59.147Z"
   },
   {
    "duration": 9,
    "start_time": "2023-03-31T12:04:59.285Z"
   },
   {
    "duration": 13,
    "start_time": "2023-03-31T12:04:59.296Z"
   },
   {
    "duration": 15,
    "start_time": "2023-03-31T12:04:59.320Z"
   },
   {
    "duration": 7,
    "start_time": "2023-03-31T12:04:59.337Z"
   },
   {
    "duration": 7,
    "start_time": "2023-03-31T12:04:59.345Z"
   },
   {
    "duration": 9,
    "start_time": "2023-03-31T12:04:59.354Z"
   },
   {
    "duration": 12,
    "start_time": "2023-03-31T12:04:59.365Z"
   },
   {
    "duration": 9,
    "start_time": "2023-03-31T12:04:59.379Z"
   },
   {
    "duration": 26,
    "start_time": "2023-03-31T12:04:59.390Z"
   },
   {
    "duration": 20,
    "start_time": "2023-03-31T12:04:59.420Z"
   },
   {
    "duration": 9,
    "start_time": "2023-03-31T12:04:59.442Z"
   },
   {
    "duration": 18,
    "start_time": "2023-03-31T12:04:59.453Z"
   },
   {
    "duration": 28,
    "start_time": "2023-03-31T12:04:59.473Z"
   },
   {
    "duration": 34,
    "start_time": "2023-03-31T12:04:59.503Z"
   },
   {
    "duration": 28,
    "start_time": "2023-03-31T12:04:59.539Z"
   },
   {
    "duration": 68,
    "start_time": "2023-03-31T12:04:59.569Z"
   },
   {
    "duration": 35810,
    "start_time": "2023-03-31T12:04:59.639Z"
   },
   {
    "duration": 372,
    "start_time": "2023-03-31T12:05:35.451Z"
   },
   {
    "duration": 14571,
    "start_time": "2023-03-31T12:05:35.825Z"
   },
   {
    "duration": 9,
    "start_time": "2023-03-31T12:05:50.398Z"
   },
   {
    "duration": 57,
    "start_time": "2023-03-31T12:05:50.408Z"
   },
   {
    "duration": 7,
    "start_time": "2023-03-31T12:05:50.466Z"
   },
   {
    "duration": 1893,
    "start_time": "2023-03-31T12:05:50.476Z"
   },
   {
    "duration": 1850,
    "start_time": "2023-03-31T12:05:52.374Z"
   },
   {
    "duration": 1773,
    "start_time": "2023-03-31T12:05:54.226Z"
   },
   {
    "duration": 22,
    "start_time": "2023-03-31T12:05:56.001Z"
   },
   {
    "duration": 34,
    "start_time": "2023-03-31T12:05:56.024Z"
   },
   {
    "duration": 219,
    "start_time": "2023-03-31T12:05:56.060Z"
   },
   {
    "duration": 191,
    "start_time": "2023-03-31T12:05:56.282Z"
   },
   {
    "duration": 303,
    "start_time": "2023-03-31T12:05:56.475Z"
   },
   {
    "duration": 183,
    "start_time": "2023-03-31T12:05:56.780Z"
   },
   {
    "duration": 5,
    "start_time": "2023-03-31T12:05:56.965Z"
   },
   {
    "duration": 11,
    "start_time": "2023-03-31T12:05:56.971Z"
   },
   {
    "duration": 12,
    "start_time": "2023-03-31T12:05:56.983Z"
   },
   {
    "duration": 36,
    "start_time": "2023-03-31T12:05:56.997Z"
   },
   {
    "duration": 14,
    "start_time": "2023-03-31T12:05:57.038Z"
   },
   {
    "duration": 93,
    "start_time": "2023-03-31T12:05:57.054Z"
   },
   {
    "duration": 1707,
    "start_time": "2023-03-31T12:05:57.150Z"
   },
   {
    "duration": 24,
    "start_time": "2023-03-31T12:05:58.859Z"
   },
   {
    "duration": 7,
    "start_time": "2023-03-31T12:05:58.885Z"
   },
   {
    "duration": 15,
    "start_time": "2023-03-31T12:05:58.893Z"
   },
   {
    "duration": 3,
    "start_time": "2023-03-31T12:05:58.918Z"
   },
   {
    "duration": 32,
    "start_time": "2023-03-31T12:05:58.922Z"
   },
   {
    "duration": 6988,
    "start_time": "2023-03-31T12:05:58.956Z"
   },
   {
    "duration": 8561,
    "start_time": "2023-03-31T12:06:05.946Z"
   },
   {
    "duration": 5510,
    "start_time": "2023-03-31T12:06:14.509Z"
   },
   {
    "duration": 9,
    "start_time": "2023-03-31T12:06:20.025Z"
   },
   {
    "duration": 10757,
    "start_time": "2023-03-31T12:06:20.035Z"
   },
   {
    "duration": 4,
    "start_time": "2023-03-31T12:06:30.794Z"
   },
   {
    "duration": 132,
    "start_time": "2023-03-31T12:06:30.803Z"
   },
   {
    "duration": 115,
    "start_time": "2023-03-31T12:06:30.937Z"
   },
   {
    "duration": 91,
    "start_time": "2023-03-31T12:06:31.055Z"
   },
   {
    "duration": 53,
    "start_time": "2023-03-31T12:06:31.149Z"
   },
   {
    "duration": 155,
    "start_time": "2023-03-31T12:06:31.204Z"
   },
   {
    "duration": 3893,
    "start_time": "2023-03-31T12:06:31.361Z"
   },
   {
    "duration": 4304,
    "start_time": "2023-03-31T12:06:35.256Z"
   },
   {
    "duration": 3,
    "start_time": "2023-03-31T12:06:39.562Z"
   },
   {
    "duration": 9287,
    "start_time": "2023-03-31T12:06:39.568Z"
   },
   {
    "duration": 10553,
    "start_time": "2023-03-31T12:06:48.858Z"
   },
   {
    "duration": 10,
    "start_time": "2023-03-31T12:06:59.412Z"
   },
   {
    "duration": 8294,
    "start_time": "2023-03-31T12:08:19.748Z"
   },
   {
    "duration": 5393,
    "start_time": "2023-03-31T12:10:11.642Z"
   },
   {
    "duration": 6920,
    "start_time": "2023-03-31T12:10:58.137Z"
   },
   {
    "duration": 9209,
    "start_time": "2023-03-31T12:11:35.284Z"
   },
   {
    "duration": 10732,
    "start_time": "2023-03-31T12:11:50.107Z"
   },
   {
    "duration": 8745,
    "start_time": "2023-03-31T12:12:07.512Z"
   },
   {
    "duration": 8308,
    "start_time": "2023-03-31T12:14:46.717Z"
   },
   {
    "duration": 8,
    "start_time": "2023-03-31T12:14:55.026Z"
   },
   {
    "duration": 5,
    "start_time": "2023-03-31T12:15:13.110Z"
   },
   {
    "duration": 1557,
    "start_time": "2023-03-31T12:17:27.278Z"
   },
   {
    "duration": 771,
    "start_time": "2023-03-31T12:17:28.837Z"
   },
   {
    "duration": 38,
    "start_time": "2023-03-31T12:17:29.610Z"
   },
   {
    "duration": 40,
    "start_time": "2023-03-31T12:17:29.649Z"
   },
   {
    "duration": 70,
    "start_time": "2023-03-31T12:17:29.692Z"
   },
   {
    "duration": 33,
    "start_time": "2023-03-31T12:17:29.764Z"
   },
   {
    "duration": 56,
    "start_time": "2023-03-31T12:17:29.799Z"
   },
   {
    "duration": 58,
    "start_time": "2023-03-31T12:17:29.857Z"
   },
   {
    "duration": 78,
    "start_time": "2023-03-31T12:17:29.921Z"
   },
   {
    "duration": 156,
    "start_time": "2023-03-31T12:17:30.001Z"
   },
   {
    "duration": 68,
    "start_time": "2023-03-31T12:17:30.159Z"
   },
   {
    "duration": 56,
    "start_time": "2023-03-31T12:17:30.230Z"
   },
   {
    "duration": 122,
    "start_time": "2023-03-31T12:17:30.288Z"
   },
   {
    "duration": 88,
    "start_time": "2023-03-31T12:17:30.413Z"
   },
   {
    "duration": 179,
    "start_time": "2023-03-31T12:17:30.503Z"
   },
   {
    "duration": 23,
    "start_time": "2023-03-31T12:17:30.683Z"
   },
   {
    "duration": 167,
    "start_time": "2023-03-31T12:17:30.708Z"
   },
   {
    "duration": 9,
    "start_time": "2023-03-31T12:17:30.876Z"
   },
   {
    "duration": 83,
    "start_time": "2023-03-31T12:17:30.887Z"
   },
   {
    "duration": 71,
    "start_time": "2023-03-31T12:17:30.972Z"
   },
   {
    "duration": 100,
    "start_time": "2023-03-31T12:17:31.046Z"
   },
   {
    "duration": 97,
    "start_time": "2023-03-31T12:17:31.148Z"
   },
   {
    "duration": 60,
    "start_time": "2023-03-31T12:17:31.247Z"
   },
   {
    "duration": 69,
    "start_time": "2023-03-31T12:17:31.309Z"
   },
   {
    "duration": 131,
    "start_time": "2023-03-31T12:17:31.381Z"
   },
   {
    "duration": 124,
    "start_time": "2023-03-31T12:17:31.514Z"
   },
   {
    "duration": 50,
    "start_time": "2023-03-31T12:17:31.640Z"
   },
   {
    "duration": 120,
    "start_time": "2023-03-31T12:17:31.692Z"
   },
   {
    "duration": 102,
    "start_time": "2023-03-31T12:17:31.814Z"
   },
   {
    "duration": 94,
    "start_time": "2023-03-31T12:17:31.918Z"
   },
   {
    "duration": 79,
    "start_time": "2023-03-31T12:17:32.014Z"
   },
   {
    "duration": 66,
    "start_time": "2023-03-31T12:17:32.095Z"
   },
   {
    "duration": 72,
    "start_time": "2023-03-31T12:17:32.163Z"
   },
   {
    "duration": 34346,
    "start_time": "2023-03-31T12:17:32.236Z"
   },
   {
    "duration": 272,
    "start_time": "2023-03-31T12:18:06.584Z"
   },
   {
    "duration": 11884,
    "start_time": "2023-03-31T12:18:06.857Z"
   },
   {
    "duration": 6,
    "start_time": "2023-03-31T12:18:18.742Z"
   },
   {
    "duration": 24,
    "start_time": "2023-03-31T12:18:18.750Z"
   },
   {
    "duration": 11,
    "start_time": "2023-03-31T12:18:18.776Z"
   },
   {
    "duration": 1816,
    "start_time": "2023-03-31T12:18:18.789Z"
   },
   {
    "duration": 2130,
    "start_time": "2023-03-31T12:18:20.609Z"
   },
   {
    "duration": 1808,
    "start_time": "2023-03-31T12:18:22.741Z"
   },
   {
    "duration": 7,
    "start_time": "2023-03-31T12:18:24.551Z"
   },
   {
    "duration": 77,
    "start_time": "2023-03-31T12:18:24.559Z"
   },
   {
    "duration": 364,
    "start_time": "2023-03-31T12:18:24.638Z"
   },
   {
    "duration": 187,
    "start_time": "2023-03-31T12:18:25.004Z"
   },
   {
    "duration": 172,
    "start_time": "2023-03-31T12:18:25.193Z"
   },
   {
    "duration": 176,
    "start_time": "2023-03-31T12:18:25.366Z"
   },
   {
    "duration": 5,
    "start_time": "2023-03-31T12:18:25.544Z"
   },
   {
    "duration": 45,
    "start_time": "2023-03-31T12:18:25.551Z"
   },
   {
    "duration": 42,
    "start_time": "2023-03-31T12:18:25.599Z"
   },
   {
    "duration": 35,
    "start_time": "2023-03-31T12:18:25.643Z"
   },
   {
    "duration": 41,
    "start_time": "2023-03-31T12:18:25.680Z"
   },
   {
    "duration": 60,
    "start_time": "2023-03-31T12:18:25.732Z"
   },
   {
    "duration": 1742,
    "start_time": "2023-03-31T12:18:25.793Z"
   },
   {
    "duration": 23,
    "start_time": "2023-03-31T12:18:27.537Z"
   },
   {
    "duration": 9,
    "start_time": "2023-03-31T12:18:27.562Z"
   },
   {
    "duration": 44,
    "start_time": "2023-03-31T12:18:27.572Z"
   },
   {
    "duration": 42,
    "start_time": "2023-03-31T12:18:27.617Z"
   },
   {
    "duration": 28,
    "start_time": "2023-03-31T12:18:27.662Z"
   },
   {
    "duration": 4827,
    "start_time": "2023-03-31T12:18:27.692Z"
   },
   {
    "duration": 8517,
    "start_time": "2023-03-31T12:18:32.521Z"
   },
   {
    "duration": 4186,
    "start_time": "2023-03-31T12:18:41.040Z"
   },
   {
    "duration": 84,
    "start_time": "2023-03-31T12:18:45.242Z"
   },
   {
    "duration": 10314,
    "start_time": "2023-03-31T12:18:45.335Z"
   },
   {
    "duration": 3,
    "start_time": "2023-03-31T12:18:55.651Z"
   },
   {
    "duration": 50,
    "start_time": "2023-03-31T12:18:55.656Z"
   },
   {
    "duration": 7,
    "start_time": "2023-03-31T12:18:55.708Z"
   },
   {
    "duration": 35,
    "start_time": "2023-03-31T12:18:55.717Z"
   },
   {
    "duration": 27,
    "start_time": "2023-03-31T12:18:55.754Z"
   },
   {
    "duration": 15,
    "start_time": "2023-03-31T12:18:55.783Z"
   },
   {
    "duration": 3268,
    "start_time": "2023-03-31T12:18:55.800Z"
   },
   {
    "duration": 3955,
    "start_time": "2023-03-31T12:18:59.070Z"
   },
   {
    "duration": 3,
    "start_time": "2023-03-31T12:19:03.026Z"
   },
   {
    "duration": 5691,
    "start_time": "2023-03-31T12:19:03.031Z"
   },
   {
    "duration": 9674,
    "start_time": "2023-03-31T12:19:08.727Z"
   },
   {
    "duration": 5,
    "start_time": "2023-03-31T12:19:18.402Z"
   },
   {
    "duration": 1757,
    "start_time": "2023-03-31T12:30:41.697Z"
   },
   {
    "duration": 803,
    "start_time": "2023-03-31T12:30:43.456Z"
   },
   {
    "duration": 26,
    "start_time": "2023-03-31T12:30:44.261Z"
   },
   {
    "duration": 41,
    "start_time": "2023-03-31T12:30:44.289Z"
   },
   {
    "duration": 38,
    "start_time": "2023-03-31T12:30:44.332Z"
   },
   {
    "duration": 22,
    "start_time": "2023-03-31T12:30:44.371Z"
   },
   {
    "duration": 25,
    "start_time": "2023-03-31T12:30:44.395Z"
   },
   {
    "duration": 37,
    "start_time": "2023-03-31T12:30:44.423Z"
   },
   {
    "duration": 20,
    "start_time": "2023-03-31T12:30:44.462Z"
   },
   {
    "duration": 29,
    "start_time": "2023-03-31T12:30:44.484Z"
   },
   {
    "duration": 53,
    "start_time": "2023-03-31T12:30:44.515Z"
   },
   {
    "duration": 45,
    "start_time": "2023-03-31T12:30:44.570Z"
   },
   {
    "duration": 22,
    "start_time": "2023-03-31T12:30:44.617Z"
   },
   {
    "duration": 39,
    "start_time": "2023-03-31T12:30:44.642Z"
   },
   {
    "duration": 131,
    "start_time": "2023-03-31T12:30:44.683Z"
   },
   {
    "duration": 36,
    "start_time": "2023-03-31T12:30:44.816Z"
   },
   {
    "duration": 101,
    "start_time": "2023-03-31T12:30:44.854Z"
   },
   {
    "duration": 9,
    "start_time": "2023-03-31T12:30:44.957Z"
   },
   {
    "duration": 8,
    "start_time": "2023-03-31T12:30:44.967Z"
   },
   {
    "duration": 27,
    "start_time": "2023-03-31T12:30:44.977Z"
   },
   {
    "duration": 20,
    "start_time": "2023-03-31T12:30:45.006Z"
   },
   {
    "duration": 20,
    "start_time": "2023-03-31T12:30:45.028Z"
   },
   {
    "duration": 15,
    "start_time": "2023-03-31T12:30:45.050Z"
   },
   {
    "duration": 17,
    "start_time": "2023-03-31T12:30:45.066Z"
   },
   {
    "duration": 14,
    "start_time": "2023-03-31T12:30:45.085Z"
   },
   {
    "duration": 44,
    "start_time": "2023-03-31T12:30:45.101Z"
   },
   {
    "duration": 21,
    "start_time": "2023-03-31T12:30:45.147Z"
   },
   {
    "duration": 15,
    "start_time": "2023-03-31T12:30:45.169Z"
   },
   {
    "duration": 31,
    "start_time": "2023-03-31T12:30:45.185Z"
   },
   {
    "duration": 29,
    "start_time": "2023-03-31T12:30:45.218Z"
   },
   {
    "duration": 26,
    "start_time": "2023-03-31T12:30:45.249Z"
   },
   {
    "duration": 28,
    "start_time": "2023-03-31T12:30:45.276Z"
   },
   {
    "duration": 44,
    "start_time": "2023-03-31T12:30:45.306Z"
   },
   {
    "duration": 30654,
    "start_time": "2023-03-31T12:30:45.352Z"
   },
   {
    "duration": 256,
    "start_time": "2023-03-31T12:31:16.008Z"
   },
   {
    "duration": 14985,
    "start_time": "2023-03-31T12:31:16.265Z"
   },
   {
    "duration": 6,
    "start_time": "2023-03-31T12:31:31.252Z"
   },
   {
    "duration": 92,
    "start_time": "2023-03-31T12:31:31.259Z"
   },
   {
    "duration": 57,
    "start_time": "2023-03-31T12:31:31.353Z"
   },
   {
    "duration": 1977,
    "start_time": "2023-03-31T12:31:31.411Z"
   },
   {
    "duration": 1878,
    "start_time": "2023-03-31T12:31:33.395Z"
   },
   {
    "duration": 1769,
    "start_time": "2023-03-31T12:31:35.275Z"
   },
   {
    "duration": 7,
    "start_time": "2023-03-31T12:31:37.045Z"
   },
   {
    "duration": 11,
    "start_time": "2023-03-31T12:31:37.053Z"
   },
   {
    "duration": 306,
    "start_time": "2023-03-31T12:31:37.066Z"
   },
   {
    "duration": 166,
    "start_time": "2023-03-31T12:31:37.374Z"
   },
   {
    "duration": 161,
    "start_time": "2023-03-31T12:31:37.542Z"
   },
   {
    "duration": 181,
    "start_time": "2023-03-31T12:31:37.705Z"
   },
   {
    "duration": 6,
    "start_time": "2023-03-31T12:31:37.888Z"
   },
   {
    "duration": 9,
    "start_time": "2023-03-31T12:31:37.896Z"
   },
   {
    "duration": 22,
    "start_time": "2023-03-31T12:31:37.907Z"
   },
   {
    "duration": 14,
    "start_time": "2023-03-31T12:31:37.931Z"
   },
   {
    "duration": 9,
    "start_time": "2023-03-31T12:31:37.947Z"
   },
   {
    "duration": 39,
    "start_time": "2023-03-31T12:31:37.958Z"
   },
   {
    "duration": 1654,
    "start_time": "2023-03-31T12:31:37.999Z"
   },
   {
    "duration": 24,
    "start_time": "2023-03-31T12:31:39.656Z"
   },
   {
    "duration": 6,
    "start_time": "2023-03-31T12:31:39.682Z"
   },
   {
    "duration": 46,
    "start_time": "2023-03-31T12:31:39.690Z"
   },
   {
    "duration": 16,
    "start_time": "2023-03-31T12:31:39.738Z"
   },
   {
    "duration": 28,
    "start_time": "2023-03-31T12:31:39.756Z"
   },
   {
    "duration": 4150,
    "start_time": "2023-03-31T12:31:39.786Z"
   },
   {
    "duration": 185,
    "start_time": "2023-03-31T12:31:43.938Z"
   },
   {
    "duration": 0,
    "start_time": "2023-03-31T12:31:44.125Z"
   },
   {
    "duration": 0,
    "start_time": "2023-03-31T12:31:44.127Z"
   },
   {
    "duration": 0,
    "start_time": "2023-03-31T12:31:44.128Z"
   },
   {
    "duration": 0,
    "start_time": "2023-03-31T12:31:44.129Z"
   },
   {
    "duration": 0,
    "start_time": "2023-03-31T12:31:44.132Z"
   },
   {
    "duration": 0,
    "start_time": "2023-03-31T12:31:44.133Z"
   },
   {
    "duration": 0,
    "start_time": "2023-03-31T12:31:44.135Z"
   },
   {
    "duration": 0,
    "start_time": "2023-03-31T12:31:44.137Z"
   },
   {
    "duration": 0,
    "start_time": "2023-03-31T12:31:44.139Z"
   },
   {
    "duration": 0,
    "start_time": "2023-03-31T12:31:44.139Z"
   },
   {
    "duration": 0,
    "start_time": "2023-03-31T12:31:44.141Z"
   },
   {
    "duration": 0,
    "start_time": "2023-03-31T12:31:44.142Z"
   },
   {
    "duration": 0,
    "start_time": "2023-03-31T12:31:44.143Z"
   },
   {
    "duration": 0,
    "start_time": "2023-03-31T12:31:44.144Z"
   },
   {
    "duration": 0,
    "start_time": "2023-03-31T12:31:44.145Z"
   },
   {
    "duration": 0,
    "start_time": "2023-03-31T12:31:44.147Z"
   },
   {
    "duration": 879,
    "start_time": "2023-03-31T12:32:18.737Z"
   },
   {
    "duration": 346542,
    "start_time": "2023-03-31T12:32:45.034Z"
   },
   {
    "duration": 1819,
    "start_time": "2023-03-31T18:50:56.088Z"
   },
   {
    "duration": 3439,
    "start_time": "2023-03-31T18:50:57.909Z"
   },
   {
    "duration": 29,
    "start_time": "2023-03-31T18:51:01.350Z"
   },
   {
    "duration": 41,
    "start_time": "2023-03-31T18:51:01.382Z"
   },
   {
    "duration": 53,
    "start_time": "2023-03-31T18:51:01.425Z"
   },
   {
    "duration": 45,
    "start_time": "2023-03-31T18:51:01.480Z"
   },
   {
    "duration": 41,
    "start_time": "2023-03-31T18:51:01.527Z"
   },
   {
    "duration": 66,
    "start_time": "2023-03-31T18:51:01.571Z"
   },
   {
    "duration": 38,
    "start_time": "2023-03-31T18:51:01.639Z"
   },
   {
    "duration": 37,
    "start_time": "2023-03-31T18:51:01.679Z"
   },
   {
    "duration": 54,
    "start_time": "2023-03-31T18:51:01.718Z"
   },
   {
    "duration": 47,
    "start_time": "2023-03-31T18:51:01.774Z"
   },
   {
    "duration": 21,
    "start_time": "2023-03-31T18:51:01.823Z"
   },
   {
    "duration": 55,
    "start_time": "2023-03-31T18:51:01.846Z"
   },
   {
    "duration": 142,
    "start_time": "2023-03-31T18:51:01.903Z"
   },
   {
    "duration": 23,
    "start_time": "2023-03-31T18:51:02.047Z"
   },
   {
    "duration": 121,
    "start_time": "2023-03-31T18:51:02.071Z"
   },
   {
    "duration": 12,
    "start_time": "2023-03-31T18:51:02.194Z"
   },
   {
    "duration": 25,
    "start_time": "2023-03-31T18:51:02.207Z"
   },
   {
    "duration": 11,
    "start_time": "2023-03-31T18:51:02.234Z"
   },
   {
    "duration": 17,
    "start_time": "2023-03-31T18:51:02.247Z"
   },
   {
    "duration": 15,
    "start_time": "2023-03-31T18:51:02.266Z"
   },
   {
    "duration": 29,
    "start_time": "2023-03-31T18:51:02.283Z"
   },
   {
    "duration": 13,
    "start_time": "2023-03-31T18:51:02.314Z"
   },
   {
    "duration": 8,
    "start_time": "2023-03-31T18:51:02.329Z"
   },
   {
    "duration": 19,
    "start_time": "2023-03-31T18:51:02.339Z"
   },
   {
    "duration": 12,
    "start_time": "2023-03-31T18:51:02.359Z"
   },
   {
    "duration": 7,
    "start_time": "2023-03-31T18:51:02.376Z"
   },
   {
    "duration": 29,
    "start_time": "2023-03-31T18:51:02.384Z"
   },
   {
    "duration": 17,
    "start_time": "2023-03-31T18:51:02.415Z"
   },
   {
    "duration": 26,
    "start_time": "2023-03-31T18:51:02.434Z"
   },
   {
    "duration": 36,
    "start_time": "2023-03-31T18:51:02.462Z"
   },
   {
    "duration": 23,
    "start_time": "2023-03-31T18:51:02.500Z"
   },
   {
    "duration": 31730,
    "start_time": "2023-03-31T18:51:02.525Z"
   },
   {
    "duration": 286,
    "start_time": "2023-03-31T18:51:34.257Z"
   },
   {
    "duration": 11621,
    "start_time": "2023-03-31T18:51:34.545Z"
   },
   {
    "duration": 5,
    "start_time": "2023-03-31T18:51:46.168Z"
   },
   {
    "duration": 37,
    "start_time": "2023-03-31T18:51:46.175Z"
   },
   {
    "duration": 5,
    "start_time": "2023-03-31T18:51:46.214Z"
   },
   {
    "duration": 1707,
    "start_time": "2023-03-31T18:51:46.221Z"
   },
   {
    "duration": 1687,
    "start_time": "2023-03-31T18:51:47.930Z"
   },
   {
    "duration": 1741,
    "start_time": "2023-03-31T18:51:49.619Z"
   },
   {
    "duration": 6,
    "start_time": "2023-03-31T18:51:51.362Z"
   },
   {
    "duration": 29,
    "start_time": "2023-03-31T18:51:51.370Z"
   },
   {
    "duration": 285,
    "start_time": "2023-03-31T18:51:51.401Z"
   },
   {
    "duration": 164,
    "start_time": "2023-03-31T18:51:51.689Z"
   },
   {
    "duration": 158,
    "start_time": "2023-03-31T18:51:51.855Z"
   },
   {
    "duration": 157,
    "start_time": "2023-03-31T18:51:52.014Z"
   },
   {
    "duration": 6,
    "start_time": "2023-03-31T18:51:52.173Z"
   },
   {
    "duration": 16,
    "start_time": "2023-03-31T18:51:52.187Z"
   },
   {
    "duration": 12,
    "start_time": "2023-03-31T18:51:52.204Z"
   },
   {
    "duration": 10,
    "start_time": "2023-03-31T18:51:52.218Z"
   },
   {
    "duration": 11,
    "start_time": "2023-03-31T18:51:52.230Z"
   },
   {
    "duration": 56,
    "start_time": "2023-03-31T18:51:52.243Z"
   },
   {
    "duration": 1627,
    "start_time": "2023-03-31T18:51:52.301Z"
   },
   {
    "duration": 24,
    "start_time": "2023-03-31T18:51:53.930Z"
   },
   {
    "duration": 6,
    "start_time": "2023-03-31T18:51:53.956Z"
   },
   {
    "duration": 9,
    "start_time": "2023-03-31T18:51:53.964Z"
   },
   {
    "duration": 29,
    "start_time": "2023-03-31T18:51:53.975Z"
   },
   {
    "duration": 10,
    "start_time": "2023-03-31T18:51:54.006Z"
   },
   {
    "duration": 3896,
    "start_time": "2023-03-31T18:51:54.017Z"
   },
   {
    "duration": 87168,
    "start_time": "2023-03-31T18:51:57.994Z"
   },
   {
    "duration": 0,
    "start_time": "2023-03-31T18:53:25.165Z"
   },
   {
    "duration": 0,
    "start_time": "2023-03-31T18:53:25.166Z"
   },
   {
    "duration": 0,
    "start_time": "2023-03-31T18:53:25.167Z"
   },
   {
    "duration": 0,
    "start_time": "2023-03-31T18:53:25.168Z"
   },
   {
    "duration": 0,
    "start_time": "2023-03-31T18:53:25.169Z"
   },
   {
    "duration": 0,
    "start_time": "2023-03-31T18:53:25.170Z"
   },
   {
    "duration": 0,
    "start_time": "2023-03-31T18:53:25.171Z"
   },
   {
    "duration": 0,
    "start_time": "2023-03-31T18:53:25.173Z"
   },
   {
    "duration": 0,
    "start_time": "2023-03-31T18:53:25.187Z"
   },
   {
    "duration": 0,
    "start_time": "2023-03-31T18:53:25.188Z"
   },
   {
    "duration": 0,
    "start_time": "2023-03-31T18:53:25.189Z"
   },
   {
    "duration": 0,
    "start_time": "2023-03-31T18:53:25.190Z"
   },
   {
    "duration": 0,
    "start_time": "2023-03-31T18:53:25.191Z"
   },
   {
    "duration": 0,
    "start_time": "2023-03-31T18:53:25.191Z"
   },
   {
    "duration": 0,
    "start_time": "2023-03-31T18:53:25.193Z"
   },
   {
    "duration": 0,
    "start_time": "2023-03-31T18:53:25.194Z"
   },
   {
    "duration": 6,
    "start_time": "2023-03-31T18:53:39.526Z"
   },
   {
    "duration": 87689,
    "start_time": "2023-03-31T18:53:46.086Z"
   },
   {
    "duration": 2117,
    "start_time": "2023-03-31T18:55:13.778Z"
   },
   {
    "duration": 3306,
    "start_time": "2023-03-31T18:55:15.896Z"
   },
   {
    "duration": 5158,
    "start_time": "2023-03-31T18:55:19.204Z"
   },
   {
    "duration": 4,
    "start_time": "2023-03-31T18:55:24.363Z"
   },
   {
    "duration": 1913,
    "start_time": "2023-03-31T18:56:05.976Z"
   },
   {
    "duration": 91000,
    "start_time": "2023-03-31T18:56:24.162Z"
   },
   {
    "duration": 92206,
    "start_time": "2023-03-31T18:59:17.551Z"
   },
   {
    "duration": 6821,
    "start_time": "2023-03-31T19:05:42.951Z"
   },
   {
    "duration": 1819,
    "start_time": "2023-03-31T19:10:29.804Z"
   },
   {
    "duration": 918,
    "start_time": "2023-03-31T19:10:31.625Z"
   },
   {
    "duration": 28,
    "start_time": "2023-03-31T19:10:32.544Z"
   },
   {
    "duration": 43,
    "start_time": "2023-03-31T19:10:32.574Z"
   },
   {
    "duration": 22,
    "start_time": "2023-03-31T19:10:32.620Z"
   },
   {
    "duration": 10,
    "start_time": "2023-03-31T19:10:32.644Z"
   },
   {
    "duration": 11,
    "start_time": "2023-03-31T19:10:32.656Z"
   },
   {
    "duration": 17,
    "start_time": "2023-03-31T19:10:32.668Z"
   },
   {
    "duration": 37,
    "start_time": "2023-03-31T19:10:32.689Z"
   },
   {
    "duration": 9,
    "start_time": "2023-03-31T19:10:32.728Z"
   },
   {
    "duration": 7,
    "start_time": "2023-03-31T19:10:32.739Z"
   },
   {
    "duration": 37,
    "start_time": "2023-03-31T19:10:32.747Z"
   },
   {
    "duration": 33,
    "start_time": "2023-03-31T19:10:32.793Z"
   },
   {
    "duration": 21,
    "start_time": "2023-03-31T19:10:32.829Z"
   },
   {
    "duration": 154,
    "start_time": "2023-03-31T19:10:32.852Z"
   },
   {
    "duration": 24,
    "start_time": "2023-03-31T19:10:33.011Z"
   },
   {
    "duration": 114,
    "start_time": "2023-03-31T19:10:33.037Z"
   },
   {
    "duration": 9,
    "start_time": "2023-03-31T19:10:33.152Z"
   },
   {
    "duration": 6,
    "start_time": "2023-03-31T19:10:33.163Z"
   },
   {
    "duration": 39,
    "start_time": "2023-03-31T19:10:33.171Z"
   },
   {
    "duration": 5,
    "start_time": "2023-03-31T19:10:33.214Z"
   },
   {
    "duration": 8,
    "start_time": "2023-03-31T19:10:33.220Z"
   },
   {
    "duration": 6,
    "start_time": "2023-03-31T19:10:33.230Z"
   },
   {
    "duration": 6,
    "start_time": "2023-03-31T19:10:33.237Z"
   },
   {
    "duration": 20,
    "start_time": "2023-03-31T19:10:33.244Z"
   },
   {
    "duration": 15,
    "start_time": "2023-03-31T19:10:33.265Z"
   },
   {
    "duration": 33,
    "start_time": "2023-03-31T19:10:33.282Z"
   },
   {
    "duration": 14,
    "start_time": "2023-03-31T19:10:33.317Z"
   },
   {
    "duration": 13,
    "start_time": "2023-03-31T19:10:33.334Z"
   },
   {
    "duration": 17,
    "start_time": "2023-03-31T19:10:33.348Z"
   },
   {
    "duration": 39,
    "start_time": "2023-03-31T19:10:33.367Z"
   },
   {
    "duration": 23,
    "start_time": "2023-03-31T19:10:33.409Z"
   },
   {
    "duration": 20,
    "start_time": "2023-03-31T19:10:33.434Z"
   },
   {
    "duration": 36243,
    "start_time": "2023-03-31T19:10:33.456Z"
   },
   {
    "duration": 235,
    "start_time": "2023-03-31T19:11:09.701Z"
   },
   {
    "duration": 12813,
    "start_time": "2023-03-31T19:11:09.938Z"
   },
   {
    "duration": 6,
    "start_time": "2023-03-31T19:11:22.753Z"
   },
   {
    "duration": 8,
    "start_time": "2023-03-31T19:11:22.761Z"
   },
   {
    "duration": 23,
    "start_time": "2023-03-31T19:11:22.771Z"
   },
   {
    "duration": 1794,
    "start_time": "2023-03-31T19:11:22.799Z"
   },
   {
    "duration": 1744,
    "start_time": "2023-03-31T19:11:24.605Z"
   },
   {
    "duration": 1779,
    "start_time": "2023-03-31T19:11:26.351Z"
   },
   {
    "duration": 6,
    "start_time": "2023-03-31T19:11:28.132Z"
   },
   {
    "duration": 10,
    "start_time": "2023-03-31T19:11:28.139Z"
   },
   {
    "duration": 302,
    "start_time": "2023-03-31T19:11:28.150Z"
   },
   {
    "duration": 178,
    "start_time": "2023-03-31T19:11:28.454Z"
   },
   {
    "duration": 185,
    "start_time": "2023-03-31T19:11:28.633Z"
   },
   {
    "duration": 155,
    "start_time": "2023-03-31T19:11:28.820Z"
   },
   {
    "duration": 18,
    "start_time": "2023-03-31T19:11:28.977Z"
   },
   {
    "duration": 31,
    "start_time": "2023-03-31T19:11:28.996Z"
   },
   {
    "duration": 12,
    "start_time": "2023-03-31T19:11:29.029Z"
   },
   {
    "duration": 10,
    "start_time": "2023-03-31T19:11:29.043Z"
   },
   {
    "duration": 9,
    "start_time": "2023-03-31T19:11:29.055Z"
   },
   {
    "duration": 29,
    "start_time": "2023-03-31T19:11:29.066Z"
   },
   {
    "duration": 1841,
    "start_time": "2023-03-31T19:11:29.097Z"
   },
   {
    "duration": 24,
    "start_time": "2023-03-31T19:11:30.939Z"
   },
   {
    "duration": 19,
    "start_time": "2023-03-31T19:11:30.965Z"
   },
   {
    "duration": 72,
    "start_time": "2023-03-31T19:11:30.987Z"
   },
   {
    "duration": 58,
    "start_time": "2023-03-31T19:11:31.061Z"
   },
   {
    "duration": 62,
    "start_time": "2023-03-31T19:11:31.120Z"
   },
   {
    "duration": 4437,
    "start_time": "2023-03-31T19:11:31.184Z"
   },
   {
    "duration": 474,
    "start_time": "2023-03-31T19:11:35.623Z"
   },
   {
    "duration": 0,
    "start_time": "2023-03-31T19:11:36.105Z"
   },
   {
    "duration": 0,
    "start_time": "2023-03-31T19:11:36.106Z"
   },
   {
    "duration": 0,
    "start_time": "2023-03-31T19:11:36.107Z"
   },
   {
    "duration": 0,
    "start_time": "2023-03-31T19:11:36.108Z"
   },
   {
    "duration": 0,
    "start_time": "2023-03-31T19:11:36.109Z"
   },
   {
    "duration": 0,
    "start_time": "2023-03-31T19:11:36.110Z"
   },
   {
    "duration": 0,
    "start_time": "2023-03-31T19:11:36.110Z"
   },
   {
    "duration": 0,
    "start_time": "2023-03-31T19:11:36.113Z"
   },
   {
    "duration": 0,
    "start_time": "2023-03-31T19:11:36.114Z"
   },
   {
    "duration": 0,
    "start_time": "2023-03-31T19:11:36.116Z"
   },
   {
    "duration": 0,
    "start_time": "2023-03-31T19:11:36.117Z"
   },
   {
    "duration": 0,
    "start_time": "2023-03-31T19:11:36.119Z"
   },
   {
    "duration": 0,
    "start_time": "2023-03-31T19:11:36.120Z"
   },
   {
    "duration": 0,
    "start_time": "2023-03-31T19:11:36.122Z"
   },
   {
    "duration": 0,
    "start_time": "2023-03-31T19:11:36.123Z"
   },
   {
    "duration": 0,
    "start_time": "2023-03-31T19:11:36.125Z"
   },
   {
    "duration": 202,
    "start_time": "2023-03-31T19:11:58.015Z"
   },
   {
    "duration": 220,
    "start_time": "2023-03-31T19:13:12.727Z"
   },
   {
    "duration": 6646,
    "start_time": "2023-03-31T19:13:29.437Z"
   },
   {
    "duration": 214898,
    "start_time": "2023-03-31T19:13:41.572Z"
   },
   {
    "duration": 0,
    "start_time": "2023-03-31T19:17:29.912Z"
   },
   {
    "duration": 87525,
    "start_time": "2023-03-31T19:17:32.714Z"
   },
   {
    "duration": 0,
    "start_time": "2023-03-31T19:21:39.387Z"
   },
   {
    "duration": 216253,
    "start_time": "2023-03-31T19:21:48.656Z"
   },
   {
    "duration": 30280,
    "start_time": "2023-03-31T19:26:46.087Z"
   },
   {
    "duration": 226041,
    "start_time": "2023-03-31T19:27:19.157Z"
   },
   {
    "duration": 3896157,
    "start_time": "2023-03-31T19:31:44.575Z"
   },
   {
    "duration": 0,
    "start_time": "2023-03-31T20:36:40.735Z"
   },
   {
    "duration": 2802,
    "start_time": "2023-03-31T20:36:52.203Z"
   },
   {
    "duration": 4,
    "start_time": "2023-03-31T20:36:58.651Z"
   },
   {
    "duration": 93250,
    "start_time": "2023-03-31T20:37:03.616Z"
   },
   {
    "duration": 10,
    "start_time": "2023-03-31T20:38:42.473Z"
   },
   {
    "duration": 14,
    "start_time": "2023-03-31T20:39:17.301Z"
   },
   {
    "duration": 4,
    "start_time": "2023-03-31T20:39:32.921Z"
   },
   {
    "duration": 140946,
    "start_time": "2023-03-31T20:39:50.283Z"
   },
   {
    "duration": 0,
    "start_time": "2023-03-31T20:42:11.231Z"
   },
   {
    "duration": 12518,
    "start_time": "2023-03-31T20:42:23.609Z"
   },
   {
    "duration": 109389,
    "start_time": "2023-03-31T20:42:49.855Z"
   },
   {
    "duration": 0,
    "start_time": "2023-03-31T20:44:39.246Z"
   },
   {
    "duration": 261148,
    "start_time": "2023-03-31T20:44:40.274Z"
   },
   {
    "duration": 0,
    "start_time": "2023-03-31T20:49:01.424Z"
   },
   {
    "duration": 929,
    "start_time": "2023-03-31T20:49:10.173Z"
   },
   {
    "duration": 11922,
    "start_time": "2023-03-31T20:49:25.739Z"
   },
   {
    "duration": 370855,
    "start_time": "2023-03-31T20:49:52.226Z"
   },
   {
    "duration": 5,
    "start_time": "2023-03-31T20:56:40.402Z"
   },
   {
    "duration": 12757,
    "start_time": "2023-03-31T20:57:09.070Z"
   },
   {
    "duration": 428470,
    "start_time": "2023-03-31T20:57:22.748Z"
   },
   {
    "duration": 396012,
    "start_time": "2023-03-31T21:04:35.159Z"
   },
   {
    "duration": 10,
    "start_time": "2023-03-31T21:11:17.503Z"
   },
   {
    "duration": 96847,
    "start_time": "2023-03-31T21:12:25.427Z"
   },
   {
    "duration": 389197,
    "start_time": "2023-03-31T21:14:09.173Z"
   },
   {
    "duration": 7,
    "start_time": "2023-03-31T21:21:11.985Z"
   },
   {
    "duration": 26,
    "start_time": "2023-03-31T21:21:57.417Z"
   },
   {
    "duration": 3,
    "start_time": "2023-03-31T21:21:58.745Z"
   },
   {
    "duration": 2,
    "start_time": "2023-03-31T21:22:01.843Z"
   },
   {
    "duration": 5,
    "start_time": "2023-03-31T21:22:02.622Z"
   },
   {
    "duration": 5,
    "start_time": "2023-03-31T21:22:02.835Z"
   },
   {
    "duration": 160,
    "start_time": "2023-03-31T21:26:42.829Z"
   },
   {
    "duration": 136,
    "start_time": "2023-03-31T21:27:05.850Z"
   },
   {
    "duration": 151,
    "start_time": "2023-03-31T21:27:15.644Z"
   },
   {
    "duration": 132,
    "start_time": "2023-03-31T21:27:32.959Z"
   },
   {
    "duration": 27637,
    "start_time": "2023-03-31T21:29:37.199Z"
   },
   {
    "duration": 27568,
    "start_time": "2023-03-31T21:30:04.838Z"
   },
   {
    "duration": 1620,
    "start_time": "2023-03-31T21:31:11.772Z"
   },
   {
    "duration": 4486,
    "start_time": "2023-03-31T21:31:13.395Z"
   },
   {
    "duration": 4,
    "start_time": "2023-03-31T21:31:21.833Z"
   },
   {
    "duration": 1306,
    "start_time": "2023-03-31T21:32:26.891Z"
   },
   {
    "duration": 4052,
    "start_time": "2023-03-31T21:33:29.520Z"
   },
   {
    "duration": 10,
    "start_time": "2023-03-31T21:33:56.805Z"
   },
   {
    "duration": 4,
    "start_time": "2023-03-31T21:34:09.337Z"
   },
   {
    "duration": 25817,
    "start_time": "2023-03-31T21:34:31.059Z"
   },
   {
    "duration": 28318,
    "start_time": "2023-03-31T21:34:56.878Z"
   },
   {
    "duration": 9,
    "start_time": "2023-03-31T21:35:25.199Z"
   },
   {
    "duration": 12661,
    "start_time": "2023-03-31T21:36:05.435Z"
   },
   {
    "duration": 26454,
    "start_time": "2023-03-31T21:36:24.641Z"
   },
   {
    "duration": 26234,
    "start_time": "2023-03-31T21:37:50.927Z"
   },
   {
    "duration": 4,
    "start_time": "2023-03-31T21:38:48.603Z"
   },
   {
    "duration": 6,
    "start_time": "2023-03-31T21:38:57.787Z"
   },
   {
    "duration": 26343,
    "start_time": "2023-03-31T21:40:58.500Z"
   },
   {
    "duration": 3,
    "start_time": "2023-03-31T21:41:24.845Z"
   },
   {
    "duration": 26286,
    "start_time": "2023-03-31T21:42:27.122Z"
   },
   {
    "duration": 6,
    "start_time": "2023-03-31T21:43:26.646Z"
   },
   {
    "duration": 7,
    "start_time": "2023-03-31T21:43:26.771Z"
   },
   {
    "duration": 6,
    "start_time": "2023-03-31T21:44:34.899Z"
   },
   {
    "duration": 17,
    "start_time": "2023-03-31T21:44:47.127Z"
   },
   {
    "duration": 26411,
    "start_time": "2023-03-31T21:45:25.819Z"
   },
   {
    "duration": 17,
    "start_time": "2023-03-31T21:45:52.232Z"
   },
   {
    "duration": 18,
    "start_time": "2023-03-31T21:45:52.251Z"
   },
   {
    "duration": 5,
    "start_time": "2023-03-31T21:46:13.145Z"
   },
   {
    "duration": 23,
    "start_time": "2023-03-31T21:56:36.388Z"
   },
   {
    "duration": 27294,
    "start_time": "2023-03-31T21:56:50.411Z"
   },
   {
    "duration": 537,
    "start_time": "2023-03-31T21:57:55.535Z"
   },
   {
    "duration": 29808,
    "start_time": "2023-03-31T21:58:19.521Z"
   },
   {
    "duration": 30590,
    "start_time": "2023-03-31T21:58:53.722Z"
   },
   {
    "duration": 47,
    "start_time": "2023-03-31T21:59:24.315Z"
   },
   {
    "duration": 27,
    "start_time": "2023-03-31T22:00:03.421Z"
   },
   {
    "duration": 1529,
    "start_time": "2023-03-31T22:08:22.430Z"
   },
   {
    "duration": 812,
    "start_time": "2023-03-31T22:08:23.962Z"
   },
   {
    "duration": 36,
    "start_time": "2023-03-31T22:08:24.775Z"
   },
   {
    "duration": 23,
    "start_time": "2023-03-31T22:08:24.813Z"
   },
   {
    "duration": 24,
    "start_time": "2023-03-31T22:08:24.838Z"
   },
   {
    "duration": 30,
    "start_time": "2023-03-31T22:08:24.863Z"
   },
   {
    "duration": 7,
    "start_time": "2023-03-31T22:08:24.895Z"
   },
   {
    "duration": 14,
    "start_time": "2023-03-31T22:08:24.903Z"
   },
   {
    "duration": 16,
    "start_time": "2023-03-31T22:08:24.919Z"
   },
   {
    "duration": 8,
    "start_time": "2023-03-31T22:08:24.937Z"
   },
   {
    "duration": 6,
    "start_time": "2023-03-31T22:08:24.946Z"
   },
   {
    "duration": 23,
    "start_time": "2023-03-31T22:08:24.953Z"
   },
   {
    "duration": 23,
    "start_time": "2023-03-31T22:08:24.978Z"
   },
   {
    "duration": 32,
    "start_time": "2023-03-31T22:08:25.006Z"
   },
   {
    "duration": 133,
    "start_time": "2023-03-31T22:08:25.040Z"
   },
   {
    "duration": 34,
    "start_time": "2023-03-31T22:08:25.174Z"
   },
   {
    "duration": 114,
    "start_time": "2023-03-31T22:08:25.209Z"
   },
   {
    "duration": 10,
    "start_time": "2023-03-31T22:08:25.325Z"
   },
   {
    "duration": 8,
    "start_time": "2023-03-31T22:08:25.337Z"
   },
   {
    "duration": 23,
    "start_time": "2023-03-31T22:08:25.346Z"
   },
   {
    "duration": 5,
    "start_time": "2023-03-31T22:08:25.371Z"
   },
   {
    "duration": 23,
    "start_time": "2023-03-31T22:08:25.377Z"
   },
   {
    "duration": 7,
    "start_time": "2023-03-31T22:08:25.402Z"
   },
   {
    "duration": 9,
    "start_time": "2023-03-31T22:08:25.410Z"
   },
   {
    "duration": 15,
    "start_time": "2023-03-31T22:08:25.420Z"
   },
   {
    "duration": 18,
    "start_time": "2023-03-31T22:08:25.437Z"
   },
   {
    "duration": 46,
    "start_time": "2023-03-31T22:08:25.457Z"
   },
   {
    "duration": 6,
    "start_time": "2023-03-31T22:08:25.505Z"
   },
   {
    "duration": 12,
    "start_time": "2023-03-31T22:08:25.513Z"
   },
   {
    "duration": 17,
    "start_time": "2023-03-31T22:08:25.527Z"
   },
   {
    "duration": 22,
    "start_time": "2023-03-31T22:08:25.546Z"
   },
   {
    "duration": 32,
    "start_time": "2023-03-31T22:08:25.570Z"
   },
   {
    "duration": 44,
    "start_time": "2023-03-31T22:08:25.604Z"
   },
   {
    "duration": 29364,
    "start_time": "2023-03-31T22:08:25.650Z"
   },
   {
    "duration": 309,
    "start_time": "2023-03-31T22:08:55.016Z"
   },
   {
    "duration": 13435,
    "start_time": "2023-03-31T22:08:55.327Z"
   },
   {
    "duration": 7,
    "start_time": "2023-03-31T22:09:08.764Z"
   },
   {
    "duration": 26,
    "start_time": "2023-03-31T22:09:08.773Z"
   },
   {
    "duration": 6,
    "start_time": "2023-03-31T22:09:08.800Z"
   },
   {
    "duration": 1770,
    "start_time": "2023-03-31T22:09:08.807Z"
   },
   {
    "duration": 1744,
    "start_time": "2023-03-31T22:09:10.582Z"
   },
   {
    "duration": 1736,
    "start_time": "2023-03-31T22:09:12.328Z"
   },
   {
    "duration": 7,
    "start_time": "2023-03-31T22:09:14.066Z"
   },
   {
    "duration": 33,
    "start_time": "2023-03-31T22:09:14.074Z"
   },
   {
    "duration": 289,
    "start_time": "2023-03-31T22:09:14.109Z"
   },
   {
    "duration": 155,
    "start_time": "2023-03-31T22:09:14.401Z"
   },
   {
    "duration": 166,
    "start_time": "2023-03-31T22:09:14.558Z"
   },
   {
    "duration": 178,
    "start_time": "2023-03-31T22:09:14.726Z"
   },
   {
    "duration": 6,
    "start_time": "2023-03-31T22:09:14.906Z"
   },
   {
    "duration": 10,
    "start_time": "2023-03-31T22:09:14.914Z"
   },
   {
    "duration": 17,
    "start_time": "2023-03-31T22:09:14.925Z"
   },
   {
    "duration": 11,
    "start_time": "2023-03-31T22:09:14.944Z"
   },
   {
    "duration": 9,
    "start_time": "2023-03-31T22:09:14.956Z"
   },
   {
    "duration": 45,
    "start_time": "2023-03-31T22:09:14.967Z"
   },
   {
    "duration": 1660,
    "start_time": "2023-03-31T22:09:15.014Z"
   },
   {
    "duration": 30,
    "start_time": "2023-03-31T22:09:16.676Z"
   },
   {
    "duration": 6,
    "start_time": "2023-03-31T22:09:16.708Z"
   },
   {
    "duration": 13,
    "start_time": "2023-03-31T22:09:16.716Z"
   },
   {
    "duration": 13,
    "start_time": "2023-03-31T22:09:16.730Z"
   },
   {
    "duration": 10,
    "start_time": "2023-03-31T22:09:16.744Z"
   },
   {
    "duration": 1153,
    "start_time": "2023-03-31T22:09:16.755Z"
   },
   {
    "duration": 13189,
    "start_time": "2023-03-31T22:09:17.988Z"
   },
   {
    "duration": 1599,
    "start_time": "2023-04-01T07:05:56.256Z"
   },
   {
    "duration": 2960,
    "start_time": "2023-04-01T07:05:57.857Z"
   },
   {
    "duration": 22,
    "start_time": "2023-04-01T07:06:00.819Z"
   },
   {
    "duration": 31,
    "start_time": "2023-04-01T07:06:00.842Z"
   },
   {
    "duration": 40,
    "start_time": "2023-04-01T07:06:00.875Z"
   },
   {
    "duration": 30,
    "start_time": "2023-04-01T07:06:00.916Z"
   },
   {
    "duration": 30,
    "start_time": "2023-04-01T07:06:00.947Z"
   },
   {
    "duration": 34,
    "start_time": "2023-04-01T07:06:00.979Z"
   },
   {
    "duration": 33,
    "start_time": "2023-04-01T07:06:01.014Z"
   },
   {
    "duration": 63,
    "start_time": "2023-04-01T07:06:01.049Z"
   },
   {
    "duration": 31,
    "start_time": "2023-04-01T07:06:01.113Z"
   },
   {
    "duration": 57,
    "start_time": "2023-04-01T07:06:01.146Z"
   },
   {
    "duration": 36,
    "start_time": "2023-04-01T07:06:01.205Z"
   },
   {
    "duration": 55,
    "start_time": "2023-04-01T07:06:01.244Z"
   },
   {
    "duration": 136,
    "start_time": "2023-04-01T07:06:01.301Z"
   },
   {
    "duration": 25,
    "start_time": "2023-04-01T07:06:01.438Z"
   },
   {
    "duration": 93,
    "start_time": "2023-04-01T07:06:01.464Z"
   },
   {
    "duration": 7,
    "start_time": "2023-04-01T07:06:01.559Z"
   },
   {
    "duration": 28,
    "start_time": "2023-04-01T07:06:01.567Z"
   },
   {
    "duration": 61,
    "start_time": "2023-04-01T07:06:01.596Z"
   },
   {
    "duration": 21,
    "start_time": "2023-04-01T07:06:01.659Z"
   },
   {
    "duration": 29,
    "start_time": "2023-04-01T07:06:01.682Z"
   },
   {
    "duration": 21,
    "start_time": "2023-04-01T07:06:01.712Z"
   },
   {
    "duration": 23,
    "start_time": "2023-04-01T07:06:01.734Z"
   },
   {
    "duration": 40,
    "start_time": "2023-04-01T07:06:01.759Z"
   },
   {
    "duration": 55,
    "start_time": "2023-04-01T07:06:01.801Z"
   },
   {
    "duration": 46,
    "start_time": "2023-04-01T07:06:01.858Z"
   },
   {
    "duration": 48,
    "start_time": "2023-04-01T07:06:01.906Z"
   },
   {
    "duration": 41,
    "start_time": "2023-04-01T07:06:01.955Z"
   },
   {
    "duration": 36,
    "start_time": "2023-04-01T07:06:01.997Z"
   },
   {
    "duration": 39,
    "start_time": "2023-04-01T07:06:02.035Z"
   },
   {
    "duration": 48,
    "start_time": "2023-04-01T07:06:02.076Z"
   },
   {
    "duration": 30,
    "start_time": "2023-04-01T07:06:02.125Z"
   },
   {
    "duration": 11537,
    "start_time": "2023-04-01T07:06:02.156Z"
   },
   {
    "duration": 181,
    "start_time": "2023-04-01T07:06:13.694Z"
   },
   {
    "duration": 7497,
    "start_time": "2023-04-01T07:06:13.877Z"
   },
   {
    "duration": 5,
    "start_time": "2023-04-01T07:06:21.376Z"
   },
   {
    "duration": 17,
    "start_time": "2023-04-01T07:06:21.382Z"
   },
   {
    "duration": 8,
    "start_time": "2023-04-01T07:06:21.400Z"
   },
   {
    "duration": 1211,
    "start_time": "2023-04-01T07:06:21.409Z"
   },
   {
    "duration": 1223,
    "start_time": "2023-04-01T07:06:22.624Z"
   },
   {
    "duration": 1250,
    "start_time": "2023-04-01T07:06:23.849Z"
   },
   {
    "duration": 6,
    "start_time": "2023-04-01T07:06:25.100Z"
   },
   {
    "duration": 18,
    "start_time": "2023-04-01T07:06:25.107Z"
   },
   {
    "duration": 213,
    "start_time": "2023-04-01T07:06:25.126Z"
   },
   {
    "duration": 141,
    "start_time": "2023-04-01T07:06:25.341Z"
   },
   {
    "duration": 132,
    "start_time": "2023-04-01T07:06:25.483Z"
   },
   {
    "duration": 134,
    "start_time": "2023-04-01T07:06:25.617Z"
   },
   {
    "duration": 4,
    "start_time": "2023-04-01T07:06:25.753Z"
   },
   {
    "duration": 10,
    "start_time": "2023-04-01T07:06:25.759Z"
   },
   {
    "duration": 13,
    "start_time": "2023-04-01T07:06:25.771Z"
   },
   {
    "duration": 9,
    "start_time": "2023-04-01T07:06:25.786Z"
   },
   {
    "duration": 8,
    "start_time": "2023-04-01T07:06:25.796Z"
   },
   {
    "duration": 49,
    "start_time": "2023-04-01T07:06:25.805Z"
   },
   {
    "duration": 1213,
    "start_time": "2023-04-01T07:06:25.856Z"
   },
   {
    "duration": 17,
    "start_time": "2023-04-01T07:06:27.070Z"
   },
   {
    "duration": 6,
    "start_time": "2023-04-01T07:06:27.088Z"
   },
   {
    "duration": 18,
    "start_time": "2023-04-01T07:06:27.095Z"
   },
   {
    "duration": 15,
    "start_time": "2023-04-01T07:06:27.115Z"
   },
   {
    "duration": 21,
    "start_time": "2023-04-01T07:06:27.131Z"
   },
   {
    "duration": 695,
    "start_time": "2023-04-01T07:06:27.154Z"
   },
   {
    "duration": 11073,
    "start_time": "2023-04-01T07:06:27.850Z"
   },
   {
    "duration": 335655,
    "start_time": "2023-04-01T07:06:38.925Z"
   },
   {
    "duration": 777,
    "start_time": "2023-04-01T07:12:14.582Z"
   },
   {
    "duration": 88,
    "start_time": "2023-04-01T07:12:15.362Z"
   },
   {
    "duration": 10763,
    "start_time": "2023-04-01T07:12:15.451Z"
   },
   {
    "duration": 3,
    "start_time": "2023-04-01T07:12:26.216Z"
   },
   {
    "duration": 351740,
    "start_time": "2023-04-01T07:12:26.220Z"
   },
   {
    "duration": 4,
    "start_time": "2023-04-01T07:18:17.962Z"
   },
   {
    "duration": 28,
    "start_time": "2023-04-01T07:18:17.968Z"
   },
   {
    "duration": 5,
    "start_time": "2023-04-01T07:18:17.998Z"
   },
   {
    "duration": 7,
    "start_time": "2023-04-01T07:18:18.005Z"
   },
   {
    "duration": 19,
    "start_time": "2023-04-01T07:18:18.013Z"
   },
   {
    "duration": 5,
    "start_time": "2023-04-01T07:18:18.034Z"
   },
   {
    "duration": 22,
    "start_time": "2023-04-01T07:18:18.040Z"
   },
   {
    "duration": 23697,
    "start_time": "2023-04-01T07:18:18.063Z"
   },
   {
    "duration": 15,
    "start_time": "2023-04-01T07:18:41.762Z"
   },
   {
    "duration": 3,
    "start_time": "2023-04-01T07:18:41.779Z"
   },
   {
    "duration": 6,
    "start_time": "2023-04-01T07:18:41.783Z"
   },
   {
    "duration": 25884,
    "start_time": "2023-04-01T07:18:41.790Z"
   },
   {
    "duration": 130,
    "start_time": "2023-04-01T07:19:07.676Z"
   },
   {
    "duration": 0,
    "start_time": "2023-04-01T07:19:07.807Z"
   },
   {
    "duration": 0,
    "start_time": "2023-04-01T07:19:07.808Z"
   },
   {
    "duration": 0,
    "start_time": "2023-04-01T07:19:07.809Z"
   },
   {
    "duration": 125002,
    "start_time": "2023-04-01T08:28:11.496Z"
   },
   {
    "duration": 638,
    "start_time": "2023-04-01T08:31:08.711Z"
   },
   {
    "duration": 3,
    "start_time": "2023-04-01T08:31:10.001Z"
   },
   {
    "duration": 11494,
    "start_time": "2023-04-01T08:31:11.495Z"
   },
   {
    "duration": 3,
    "start_time": "2023-04-01T08:31:46.701Z"
   },
   {
    "duration": 2524,
    "start_time": "2023-04-01T08:33:55.415Z"
   },
   {
    "duration": 0,
    "start_time": "2023-04-01T08:33:57.941Z"
   },
   {
    "duration": 126196,
    "start_time": "2023-04-01T08:34:04.052Z"
   },
   {
    "duration": 3,
    "start_time": "2023-04-01T08:36:29.356Z"
   },
   {
    "duration": 18,
    "start_time": "2023-04-01T08:36:52.160Z"
   },
   {
    "duration": 2,
    "start_time": "2023-04-01T08:36:52.354Z"
   },
   {
    "duration": 3,
    "start_time": "2023-04-01T08:36:52.561Z"
   },
   {
    "duration": 5,
    "start_time": "2023-04-01T08:36:52.689Z"
   },
   {
    "duration": 6,
    "start_time": "2023-04-01T08:36:56.711Z"
   },
   {
    "duration": 18,
    "start_time": "2023-04-01T08:36:56.894Z"
   },
   {
    "duration": 938,
    "start_time": "2023-04-01T08:36:57.232Z"
   },
   {
    "duration": 1462,
    "start_time": "2023-04-01T08:38:41.587Z"
   },
   {
    "duration": 1373,
    "start_time": "2023-04-01T09:16:46.109Z"
   },
   {
    "duration": 597,
    "start_time": "2023-04-01T09:16:47.484Z"
   },
   {
    "duration": 20,
    "start_time": "2023-04-01T09:16:48.082Z"
   },
   {
    "duration": 15,
    "start_time": "2023-04-01T09:16:48.104Z"
   },
   {
    "duration": 39,
    "start_time": "2023-04-01T09:16:48.121Z"
   },
   {
    "duration": 5,
    "start_time": "2023-04-01T09:16:48.162Z"
   },
   {
    "duration": 12,
    "start_time": "2023-04-01T09:16:48.169Z"
   },
   {
    "duration": 9,
    "start_time": "2023-04-01T09:16:48.183Z"
   },
   {
    "duration": 9,
    "start_time": "2023-04-01T09:16:48.193Z"
   },
   {
    "duration": 14,
    "start_time": "2023-04-01T09:16:48.203Z"
   },
   {
    "duration": 4,
    "start_time": "2023-04-01T09:16:48.219Z"
   },
   {
    "duration": 20,
    "start_time": "2023-04-01T09:16:48.225Z"
   },
   {
    "duration": 13,
    "start_time": "2023-04-01T09:16:48.246Z"
   },
   {
    "duration": 20,
    "start_time": "2023-04-01T09:16:48.263Z"
   },
   {
    "duration": 126,
    "start_time": "2023-04-01T09:16:48.285Z"
   },
   {
    "duration": 19,
    "start_time": "2023-04-01T09:16:48.412Z"
   },
   {
    "duration": 90,
    "start_time": "2023-04-01T09:16:48.432Z"
   },
   {
    "duration": 8,
    "start_time": "2023-04-01T09:16:48.523Z"
   },
   {
    "duration": 18,
    "start_time": "2023-04-01T09:16:48.532Z"
   },
   {
    "duration": 10,
    "start_time": "2023-04-01T09:16:48.551Z"
   },
   {
    "duration": 13,
    "start_time": "2023-04-01T09:16:48.562Z"
   },
   {
    "duration": 15,
    "start_time": "2023-04-01T09:16:48.576Z"
   },
   {
    "duration": 11,
    "start_time": "2023-04-01T09:16:48.592Z"
   },
   {
    "duration": 20,
    "start_time": "2023-04-01T09:16:48.605Z"
   },
   {
    "duration": 11,
    "start_time": "2023-04-01T09:16:48.627Z"
   },
   {
    "duration": 19,
    "start_time": "2023-04-01T09:16:48.640Z"
   },
   {
    "duration": 19,
    "start_time": "2023-04-01T09:16:48.661Z"
   },
   {
    "duration": 12,
    "start_time": "2023-04-01T09:16:48.681Z"
   },
   {
    "duration": 17,
    "start_time": "2023-04-01T09:16:48.695Z"
   },
   {
    "duration": 18,
    "start_time": "2023-04-01T09:16:48.714Z"
   },
   {
    "duration": 32,
    "start_time": "2023-04-01T09:16:48.733Z"
   },
   {
    "duration": 14,
    "start_time": "2023-04-01T09:16:48.767Z"
   },
   {
    "duration": 20,
    "start_time": "2023-04-01T09:16:48.783Z"
   },
   {
    "duration": 11836,
    "start_time": "2023-04-01T09:16:48.805Z"
   },
   {
    "duration": 226,
    "start_time": "2023-04-01T09:17:00.642Z"
   },
   {
    "duration": 7728,
    "start_time": "2023-04-01T09:17:00.870Z"
   },
   {
    "duration": 6,
    "start_time": "2023-04-01T09:17:08.600Z"
   },
   {
    "duration": 18,
    "start_time": "2023-04-01T09:17:08.607Z"
   },
   {
    "duration": 4,
    "start_time": "2023-04-01T09:17:08.627Z"
   },
   {
    "duration": 1292,
    "start_time": "2023-04-01T09:17:08.632Z"
   },
   {
    "duration": 1239,
    "start_time": "2023-04-01T09:17:09.927Z"
   },
   {
    "duration": 1230,
    "start_time": "2023-04-01T09:17:11.167Z"
   },
   {
    "duration": 5,
    "start_time": "2023-04-01T09:17:12.398Z"
   },
   {
    "duration": 8,
    "start_time": "2023-04-01T09:17:12.404Z"
   },
   {
    "duration": 226,
    "start_time": "2023-04-01T09:17:12.413Z"
   },
   {
    "duration": 138,
    "start_time": "2023-04-01T09:17:12.640Z"
   },
   {
    "duration": 149,
    "start_time": "2023-04-01T09:17:12.780Z"
   },
   {
    "duration": 152,
    "start_time": "2023-04-01T09:17:12.930Z"
   },
   {
    "duration": 4,
    "start_time": "2023-04-01T09:17:13.083Z"
   },
   {
    "duration": 14,
    "start_time": "2023-04-01T09:17:13.089Z"
   },
   {
    "duration": 8,
    "start_time": "2023-04-01T09:17:13.104Z"
   },
   {
    "duration": 8,
    "start_time": "2023-04-01T09:17:13.114Z"
   },
   {
    "duration": 8,
    "start_time": "2023-04-01T09:17:13.124Z"
   },
   {
    "duration": 28,
    "start_time": "2023-04-01T09:17:13.148Z"
   },
   {
    "duration": 1208,
    "start_time": "2023-04-01T09:17:13.177Z"
   },
   {
    "duration": 20,
    "start_time": "2023-04-01T09:17:14.386Z"
   },
   {
    "duration": 10,
    "start_time": "2023-04-01T09:17:14.408Z"
   },
   {
    "duration": 34,
    "start_time": "2023-04-01T09:17:14.419Z"
   },
   {
    "duration": 15,
    "start_time": "2023-04-01T09:17:14.456Z"
   },
   {
    "duration": 40,
    "start_time": "2023-04-01T09:17:14.474Z"
   },
   {
    "duration": 833,
    "start_time": "2023-04-01T09:17:14.516Z"
   },
   {
    "duration": 12144,
    "start_time": "2023-04-01T09:17:15.351Z"
   },
   {
    "duration": 125756,
    "start_time": "2023-04-01T09:17:27.496Z"
   },
   {
    "duration": 698,
    "start_time": "2023-04-01T09:19:33.253Z"
   },
   {
    "duration": 4,
    "start_time": "2023-04-01T09:19:33.953Z"
   },
   {
    "duration": 10892,
    "start_time": "2023-04-01T09:19:33.958Z"
   },
   {
    "duration": 3,
    "start_time": "2023-04-01T09:19:44.852Z"
   },
   {
    "duration": 127246,
    "start_time": "2023-04-01T09:19:44.857Z"
   },
   {
    "duration": 2,
    "start_time": "2023-04-01T09:21:52.105Z"
   },
   {
    "duration": 34,
    "start_time": "2023-04-01T09:21:52.108Z"
   },
   {
    "duration": 22,
    "start_time": "2023-04-01T09:21:52.143Z"
   },
   {
    "duration": 21,
    "start_time": "2023-04-01T09:21:52.166Z"
   },
   {
    "duration": 26,
    "start_time": "2023-04-01T09:21:52.188Z"
   },
   {
    "duration": 11,
    "start_time": "2023-04-01T09:21:52.215Z"
   },
   {
    "duration": 38,
    "start_time": "2023-04-01T09:21:52.227Z"
   },
   {
    "duration": 119,
    "start_time": "2023-04-01T09:21:52.267Z"
   },
   {
    "duration": 0,
    "start_time": "2023-04-01T09:21:52.388Z"
   },
   {
    "duration": 0,
    "start_time": "2023-04-01T09:21:52.390Z"
   },
   {
    "duration": 0,
    "start_time": "2023-04-01T09:21:52.390Z"
   },
   {
    "duration": 0,
    "start_time": "2023-04-01T09:21:52.391Z"
   },
   {
    "duration": 0,
    "start_time": "2023-04-01T09:21:52.392Z"
   },
   {
    "duration": 0,
    "start_time": "2023-04-01T09:21:52.393Z"
   },
   {
    "duration": 0,
    "start_time": "2023-04-01T09:21:52.394Z"
   },
   {
    "duration": 0,
    "start_time": "2023-04-01T09:21:52.395Z"
   },
   {
    "duration": 0,
    "start_time": "2023-04-01T09:21:52.397Z"
   },
   {
    "duration": 10,
    "start_time": "2023-04-01T09:25:59.246Z"
   },
   {
    "duration": 10,
    "start_time": "2023-04-01T09:26:38.658Z"
   },
   {
    "duration": 14,
    "start_time": "2023-04-01T09:27:21.020Z"
   },
   {
    "duration": 11,
    "start_time": "2023-04-01T09:28:06.021Z"
   },
   {
    "duration": 24639,
    "start_time": "2023-04-01T09:28:49.053Z"
   },
   {
    "duration": 25505,
    "start_time": "2023-04-01T09:32:09.048Z"
   },
   {
    "duration": 6,
    "start_time": "2023-04-01T09:32:59.925Z"
   },
   {
    "duration": 4,
    "start_time": "2023-04-01T09:33:00.193Z"
   },
   {
    "duration": 24017,
    "start_time": "2023-04-01T09:34:17.315Z"
   },
   {
    "duration": 0,
    "start_time": "2023-04-01T09:35:07.070Z"
   },
   {
    "duration": 0,
    "start_time": "2023-04-01T09:35:07.072Z"
   },
   {
    "duration": 27311,
    "start_time": "2023-04-01T09:35:13.206Z"
   },
   {
    "duration": 0,
    "start_time": "2023-04-01T09:35:40.518Z"
   },
   {
    "duration": 19015,
    "start_time": "2023-04-01T09:36:49.689Z"
   },
   {
    "duration": 19898,
    "start_time": "2023-04-01T09:37:30.419Z"
   },
   {
    "duration": 19199,
    "start_time": "2023-04-01T09:38:08.272Z"
   },
   {
    "duration": 9,
    "start_time": "2023-04-01T09:38:42.298Z"
   },
   {
    "duration": 4,
    "start_time": "2023-04-01T09:38:51.050Z"
   },
   {
    "duration": 10,
    "start_time": "2023-04-01T09:40:27.690Z"
   },
   {
    "duration": 6,
    "start_time": "2023-04-01T09:40:43.179Z"
   },
   {
    "duration": 6,
    "start_time": "2023-04-01T09:41:45.263Z"
   },
   {
    "duration": 7,
    "start_time": "2023-04-01T09:42:02.798Z"
   },
   {
    "duration": 7,
    "start_time": "2023-04-01T09:42:02.940Z"
   },
   {
    "duration": 4,
    "start_time": "2023-04-01T09:42:25.472Z"
   },
   {
    "duration": 6,
    "start_time": "2023-04-01T09:44:01.229Z"
   },
   {
    "duration": 5,
    "start_time": "2023-04-01T09:44:02.221Z"
   },
   {
    "duration": 4,
    "start_time": "2023-04-01T09:44:05.332Z"
   },
   {
    "duration": 5,
    "start_time": "2023-04-01T09:44:29.335Z"
   },
   {
    "duration": 5,
    "start_time": "2023-04-01T09:44:30.300Z"
   },
   {
    "duration": 3,
    "start_time": "2023-04-01T09:44:53.216Z"
   },
   {
    "duration": 4,
    "start_time": "2023-04-01T09:45:38.210Z"
   },
   {
    "duration": 6,
    "start_time": "2023-04-01T09:45:38.948Z"
   },
   {
    "duration": 5,
    "start_time": "2023-04-01T09:45:59.372Z"
   },
   {
    "duration": 5,
    "start_time": "2023-04-01T09:45:59.496Z"
   },
   {
    "duration": 5,
    "start_time": "2023-04-01T09:46:08.796Z"
   },
   {
    "duration": 6,
    "start_time": "2023-04-01T09:46:08.870Z"
   },
   {
    "duration": 20106,
    "start_time": "2023-04-01T09:47:47.200Z"
   },
   {
    "duration": 6,
    "start_time": "2023-04-01T09:49:26.404Z"
   },
   {
    "duration": 5,
    "start_time": "2023-04-01T09:49:30.233Z"
   },
   {
    "duration": 6,
    "start_time": "2023-04-01T09:49:30.507Z"
   },
   {
    "duration": 3,
    "start_time": "2023-04-01T09:49:33.018Z"
   },
   {
    "duration": 6,
    "start_time": "2023-04-01T09:49:50.860Z"
   },
   {
    "duration": 5,
    "start_time": "2023-04-01T09:49:50.993Z"
   },
   {
    "duration": 3,
    "start_time": "2023-04-01T09:49:52.410Z"
   },
   {
    "duration": 7,
    "start_time": "2023-04-01T09:51:14.654Z"
   },
   {
    "duration": 6,
    "start_time": "2023-04-01T09:51:14.790Z"
   },
   {
    "duration": 3,
    "start_time": "2023-04-01T09:51:16.311Z"
   },
   {
    "duration": 78,
    "start_time": "2023-04-01T09:53:19.613Z"
   },
   {
    "duration": 6,
    "start_time": "2023-04-01T09:53:28.532Z"
   },
   {
    "duration": 5,
    "start_time": "2023-04-01T09:53:41.785Z"
   },
   {
    "duration": 3,
    "start_time": "2023-04-01T09:54:00.081Z"
   },
   {
    "duration": 1265,
    "start_time": "2023-04-01T09:55:04.688Z"
   },
   {
    "duration": 636,
    "start_time": "2023-04-01T09:55:05.955Z"
   },
   {
    "duration": 25,
    "start_time": "2023-04-01T09:55:06.592Z"
   },
   {
    "duration": 35,
    "start_time": "2023-04-01T09:55:06.620Z"
   },
   {
    "duration": 22,
    "start_time": "2023-04-01T09:55:06.657Z"
   },
   {
    "duration": 7,
    "start_time": "2023-04-01T09:55:06.680Z"
   },
   {
    "duration": 7,
    "start_time": "2023-04-01T09:55:06.689Z"
   },
   {
    "duration": 16,
    "start_time": "2023-04-01T09:55:06.697Z"
   },
   {
    "duration": 12,
    "start_time": "2023-04-01T09:55:06.714Z"
   },
   {
    "duration": 21,
    "start_time": "2023-04-01T09:55:06.728Z"
   },
   {
    "duration": 9,
    "start_time": "2023-04-01T09:55:06.751Z"
   },
   {
    "duration": 29,
    "start_time": "2023-04-01T09:55:06.762Z"
   },
   {
    "duration": 13,
    "start_time": "2023-04-01T09:55:06.793Z"
   },
   {
    "duration": 26,
    "start_time": "2023-04-01T09:55:06.808Z"
   },
   {
    "duration": 135,
    "start_time": "2023-04-01T09:55:06.835Z"
   },
   {
    "duration": 21,
    "start_time": "2023-04-01T09:55:06.972Z"
   },
   {
    "duration": 111,
    "start_time": "2023-04-01T09:55:06.994Z"
   },
   {
    "duration": 10,
    "start_time": "2023-04-01T09:55:07.107Z"
   },
   {
    "duration": 6,
    "start_time": "2023-04-01T09:55:07.119Z"
   },
   {
    "duration": 30,
    "start_time": "2023-04-01T09:55:07.126Z"
   },
   {
    "duration": 3,
    "start_time": "2023-04-01T09:55:07.158Z"
   },
   {
    "duration": 7,
    "start_time": "2023-04-01T09:55:07.162Z"
   },
   {
    "duration": 5,
    "start_time": "2023-04-01T09:55:07.170Z"
   },
   {
    "duration": 6,
    "start_time": "2023-04-01T09:55:07.177Z"
   },
   {
    "duration": 8,
    "start_time": "2023-04-01T09:55:07.185Z"
   },
   {
    "duration": 13,
    "start_time": "2023-04-01T09:55:07.195Z"
   },
   {
    "duration": 8,
    "start_time": "2023-04-01T09:55:07.210Z"
   },
   {
    "duration": 33,
    "start_time": "2023-04-01T09:55:07.222Z"
   },
   {
    "duration": 12,
    "start_time": "2023-04-01T09:55:07.257Z"
   },
   {
    "duration": 14,
    "start_time": "2023-04-01T09:55:07.270Z"
   },
   {
    "duration": 16,
    "start_time": "2023-04-01T09:55:07.286Z"
   },
   {
    "duration": 10,
    "start_time": "2023-04-01T09:55:07.304Z"
   },
   {
    "duration": 42,
    "start_time": "2023-04-01T09:55:07.316Z"
   },
   {
    "duration": 11645,
    "start_time": "2023-04-01T09:55:07.359Z"
   },
   {
    "duration": 375,
    "start_time": "2023-04-01T09:55:19.006Z"
   },
   {
    "duration": 8811,
    "start_time": "2023-04-01T09:55:19.382Z"
   },
   {
    "duration": 6,
    "start_time": "2023-04-01T09:55:28.194Z"
   },
   {
    "duration": 18,
    "start_time": "2023-04-01T09:55:28.201Z"
   },
   {
    "duration": 20,
    "start_time": "2023-04-01T09:55:28.221Z"
   },
   {
    "duration": 1209,
    "start_time": "2023-04-01T09:55:28.243Z"
   },
   {
    "duration": 1255,
    "start_time": "2023-04-01T09:55:29.454Z"
   },
   {
    "duration": 1292,
    "start_time": "2023-04-01T09:55:30.711Z"
   },
   {
    "duration": 5,
    "start_time": "2023-04-01T09:55:32.004Z"
   },
   {
    "duration": 30,
    "start_time": "2023-04-01T09:55:32.011Z"
   },
   {
    "duration": 170,
    "start_time": "2023-04-01T09:55:32.042Z"
   },
   {
    "duration": 134,
    "start_time": "2023-04-01T09:55:32.213Z"
   },
   {
    "duration": 215,
    "start_time": "2023-04-01T09:55:32.349Z"
   },
   {
    "duration": 131,
    "start_time": "2023-04-01T09:55:32.566Z"
   },
   {
    "duration": 4,
    "start_time": "2023-04-01T09:55:32.698Z"
   },
   {
    "duration": 33,
    "start_time": "2023-04-01T09:55:32.703Z"
   },
   {
    "duration": 24,
    "start_time": "2023-04-01T09:55:32.738Z"
   },
   {
    "duration": 15,
    "start_time": "2023-04-01T09:55:32.764Z"
   },
   {
    "duration": 8,
    "start_time": "2023-04-01T09:55:32.780Z"
   },
   {
    "duration": 33,
    "start_time": "2023-04-01T09:55:32.790Z"
   },
   {
    "duration": 1204,
    "start_time": "2023-04-01T09:55:32.824Z"
   },
   {
    "duration": 27,
    "start_time": "2023-04-01T09:55:34.030Z"
   },
   {
    "duration": 5,
    "start_time": "2023-04-01T09:55:34.058Z"
   },
   {
    "duration": 7,
    "start_time": "2023-04-01T09:55:34.065Z"
   },
   {
    "duration": 6,
    "start_time": "2023-04-01T09:55:34.073Z"
   },
   {
    "duration": 8,
    "start_time": "2023-04-01T09:55:34.080Z"
   },
   {
    "duration": 667,
    "start_time": "2023-04-01T09:55:34.089Z"
   },
   {
    "duration": 10650,
    "start_time": "2023-04-01T09:55:34.758Z"
   },
   {
    "duration": 124738,
    "start_time": "2023-04-01T09:55:45.409Z"
   },
   {
    "duration": 603,
    "start_time": "2023-04-01T09:57:50.149Z"
   },
   {
    "duration": 3,
    "start_time": "2023-04-01T09:57:50.753Z"
   },
   {
    "duration": 11293,
    "start_time": "2023-04-01T09:57:50.757Z"
   },
   {
    "duration": 3,
    "start_time": "2023-04-01T09:58:02.051Z"
   },
   {
    "duration": 1315,
    "start_time": "2023-04-01T10:01:37.565Z"
   },
   {
    "duration": 588,
    "start_time": "2023-04-01T10:01:38.881Z"
   },
   {
    "duration": 20,
    "start_time": "2023-04-01T10:01:39.470Z"
   },
   {
    "duration": 15,
    "start_time": "2023-04-01T10:01:39.492Z"
   },
   {
    "duration": 34,
    "start_time": "2023-04-01T10:01:39.508Z"
   },
   {
    "duration": 17,
    "start_time": "2023-04-01T10:01:39.543Z"
   },
   {
    "duration": 32,
    "start_time": "2023-04-01T10:01:39.561Z"
   },
   {
    "duration": 25,
    "start_time": "2023-04-01T10:01:39.594Z"
   },
   {
    "duration": 21,
    "start_time": "2023-04-01T10:01:39.620Z"
   },
   {
    "duration": 13,
    "start_time": "2023-04-01T10:01:39.644Z"
   },
   {
    "duration": 31,
    "start_time": "2023-04-01T10:01:39.658Z"
   },
   {
    "duration": 38,
    "start_time": "2023-04-01T10:01:39.691Z"
   },
   {
    "duration": 40,
    "start_time": "2023-04-01T10:01:39.730Z"
   },
   {
    "duration": 62,
    "start_time": "2023-04-01T10:01:39.772Z"
   },
   {
    "duration": 122,
    "start_time": "2023-04-01T10:01:39.836Z"
   },
   {
    "duration": 18,
    "start_time": "2023-04-01T10:01:39.960Z"
   },
   {
    "duration": 88,
    "start_time": "2023-04-01T10:01:39.980Z"
   },
   {
    "duration": 8,
    "start_time": "2023-04-01T10:01:40.070Z"
   },
   {
    "duration": 21,
    "start_time": "2023-04-01T10:01:40.079Z"
   },
   {
    "duration": 7,
    "start_time": "2023-04-01T10:01:40.102Z"
   },
   {
    "duration": 3,
    "start_time": "2023-04-01T10:01:40.111Z"
   },
   {
    "duration": 23,
    "start_time": "2023-04-01T10:01:40.115Z"
   },
   {
    "duration": 15,
    "start_time": "2023-04-01T10:01:40.139Z"
   },
   {
    "duration": 5,
    "start_time": "2023-04-01T10:01:40.155Z"
   },
   {
    "duration": 20,
    "start_time": "2023-04-01T10:01:40.161Z"
   },
   {
    "duration": 33,
    "start_time": "2023-04-01T10:01:40.182Z"
   },
   {
    "duration": 30,
    "start_time": "2023-04-01T10:01:40.217Z"
   },
   {
    "duration": 4,
    "start_time": "2023-04-01T10:01:40.250Z"
   },
   {
    "duration": 10,
    "start_time": "2023-04-01T10:01:40.255Z"
   },
   {
    "duration": 22,
    "start_time": "2023-04-01T10:01:40.266Z"
   },
   {
    "duration": 28,
    "start_time": "2023-04-01T10:01:40.289Z"
   },
   {
    "duration": 27,
    "start_time": "2023-04-01T10:01:40.318Z"
   },
   {
    "duration": 27,
    "start_time": "2023-04-01T10:01:40.347Z"
   },
   {
    "duration": 12361,
    "start_time": "2023-04-01T10:01:40.375Z"
   },
   {
    "duration": 246,
    "start_time": "2023-04-01T10:01:52.739Z"
   },
   {
    "duration": 7998,
    "start_time": "2023-04-01T10:01:52.986Z"
   },
   {
    "duration": 5,
    "start_time": "2023-04-01T10:02:00.985Z"
   },
   {
    "duration": 25,
    "start_time": "2023-04-01T10:02:00.992Z"
   },
   {
    "duration": 31,
    "start_time": "2023-04-01T10:02:01.018Z"
   },
   {
    "duration": 1193,
    "start_time": "2023-04-01T10:02:01.050Z"
   },
   {
    "duration": 1202,
    "start_time": "2023-04-01T10:02:02.244Z"
   },
   {
    "duration": 1208,
    "start_time": "2023-04-01T10:02:03.447Z"
   },
   {
    "duration": 5,
    "start_time": "2023-04-01T10:02:04.657Z"
   },
   {
    "duration": 6,
    "start_time": "2023-04-01T10:02:04.663Z"
   },
   {
    "duration": 170,
    "start_time": "2023-04-01T10:02:04.670Z"
   },
   {
    "duration": 159,
    "start_time": "2023-04-01T10:02:04.842Z"
   },
   {
    "duration": 243,
    "start_time": "2023-04-01T10:02:05.002Z"
   },
   {
    "duration": 137,
    "start_time": "2023-04-01T10:02:05.249Z"
   },
   {
    "duration": 4,
    "start_time": "2023-04-01T10:02:05.387Z"
   },
   {
    "duration": 21,
    "start_time": "2023-04-01T10:02:05.393Z"
   },
   {
    "duration": 42,
    "start_time": "2023-04-01T10:02:05.415Z"
   },
   {
    "duration": 11,
    "start_time": "2023-04-01T10:02:05.459Z"
   },
   {
    "duration": 24,
    "start_time": "2023-04-01T10:02:05.471Z"
   },
   {
    "duration": 35,
    "start_time": "2023-04-01T10:02:05.497Z"
   },
   {
    "duration": 1175,
    "start_time": "2023-04-01T10:02:05.533Z"
   },
   {
    "duration": 19,
    "start_time": "2023-04-01T10:02:06.710Z"
   },
   {
    "duration": 5,
    "start_time": "2023-04-01T10:02:06.731Z"
   },
   {
    "duration": 3,
    "start_time": "2023-04-01T10:02:06.748Z"
   },
   {
    "duration": 5,
    "start_time": "2023-04-01T10:02:06.752Z"
   },
   {
    "duration": 12,
    "start_time": "2023-04-01T10:02:06.758Z"
   },
   {
    "duration": 585,
    "start_time": "2023-04-01T10:02:06.772Z"
   },
   {
    "duration": 10583,
    "start_time": "2023-04-01T10:02:07.358Z"
   },
   {
    "duration": 125299,
    "start_time": "2023-04-01T10:02:17.943Z"
   },
   {
    "duration": 708,
    "start_time": "2023-04-01T10:04:23.243Z"
   },
   {
    "duration": 4,
    "start_time": "2023-04-01T10:04:23.953Z"
   },
   {
    "duration": 10918,
    "start_time": "2023-04-01T10:04:23.959Z"
   },
   {
    "duration": 3,
    "start_time": "2023-04-01T10:04:34.878Z"
   },
   {
    "duration": 1291,
    "start_time": "2023-04-01T10:08:27.892Z"
   },
   {
    "duration": 597,
    "start_time": "2023-04-01T10:08:29.185Z"
   },
   {
    "duration": 27,
    "start_time": "2023-04-01T10:08:29.784Z"
   },
   {
    "duration": 24,
    "start_time": "2023-04-01T10:08:29.815Z"
   },
   {
    "duration": 21,
    "start_time": "2023-04-01T10:08:29.841Z"
   },
   {
    "duration": 6,
    "start_time": "2023-04-01T10:08:29.863Z"
   },
   {
    "duration": 22,
    "start_time": "2023-04-01T10:08:29.870Z"
   },
   {
    "duration": 14,
    "start_time": "2023-04-01T10:08:29.893Z"
   },
   {
    "duration": 5,
    "start_time": "2023-04-01T10:08:29.909Z"
   },
   {
    "duration": 8,
    "start_time": "2023-04-01T10:08:29.915Z"
   },
   {
    "duration": 10,
    "start_time": "2023-04-01T10:08:29.924Z"
   },
   {
    "duration": 24,
    "start_time": "2023-04-01T10:08:29.935Z"
   },
   {
    "duration": 11,
    "start_time": "2023-04-01T10:08:29.960Z"
   },
   {
    "duration": 19,
    "start_time": "2023-04-01T10:08:29.973Z"
   },
   {
    "duration": 122,
    "start_time": "2023-04-01T10:08:29.993Z"
   },
   {
    "duration": 19,
    "start_time": "2023-04-01T10:08:30.116Z"
   },
   {
    "duration": 92,
    "start_time": "2023-04-01T10:08:30.136Z"
   },
   {
    "duration": 19,
    "start_time": "2023-04-01T10:08:30.230Z"
   },
   {
    "duration": 10,
    "start_time": "2023-04-01T10:08:30.251Z"
   },
   {
    "duration": 36,
    "start_time": "2023-04-01T10:08:30.262Z"
   },
   {
    "duration": 15,
    "start_time": "2023-04-01T10:08:30.299Z"
   },
   {
    "duration": 24,
    "start_time": "2023-04-01T10:08:30.316Z"
   },
   {
    "duration": 32,
    "start_time": "2023-04-01T10:08:30.341Z"
   },
   {
    "duration": 27,
    "start_time": "2023-04-01T10:08:30.375Z"
   },
   {
    "duration": 37,
    "start_time": "2023-04-01T10:08:30.403Z"
   },
   {
    "duration": 34,
    "start_time": "2023-04-01T10:08:30.441Z"
   },
   {
    "duration": 57,
    "start_time": "2023-04-01T10:08:30.476Z"
   },
   {
    "duration": 35,
    "start_time": "2023-04-01T10:08:30.535Z"
   },
   {
    "duration": 38,
    "start_time": "2023-04-01T10:08:30.572Z"
   },
   {
    "duration": 25,
    "start_time": "2023-04-01T10:08:30.612Z"
   },
   {
    "duration": 53,
    "start_time": "2023-04-01T10:08:30.638Z"
   },
   {
    "duration": 69,
    "start_time": "2023-04-01T10:08:30.693Z"
   },
   {
    "duration": 65,
    "start_time": "2023-04-01T10:08:30.763Z"
   },
   {
    "duration": 11960,
    "start_time": "2023-04-01T10:08:30.830Z"
   },
   {
    "duration": 188,
    "start_time": "2023-04-01T10:08:42.791Z"
   },
   {
    "duration": 7668,
    "start_time": "2023-04-01T10:08:42.981Z"
   },
   {
    "duration": 5,
    "start_time": "2023-04-01T10:08:50.650Z"
   },
   {
    "duration": 14,
    "start_time": "2023-04-01T10:08:50.657Z"
   },
   {
    "duration": 9,
    "start_time": "2023-04-01T10:08:50.672Z"
   },
   {
    "duration": 1212,
    "start_time": "2023-04-01T10:08:50.682Z"
   },
   {
    "duration": 1246,
    "start_time": "2023-04-01T10:08:51.898Z"
   },
   {
    "duration": 1357,
    "start_time": "2023-04-01T10:08:53.145Z"
   },
   {
    "duration": 7,
    "start_time": "2023-04-01T10:08:54.505Z"
   },
   {
    "duration": 11,
    "start_time": "2023-04-01T10:08:54.514Z"
   },
   {
    "duration": 287,
    "start_time": "2023-04-01T10:08:54.529Z"
   },
   {
    "duration": 171,
    "start_time": "2023-04-01T10:08:54.817Z"
   },
   {
    "duration": 137,
    "start_time": "2023-04-01T10:08:54.989Z"
   },
   {
    "duration": 138,
    "start_time": "2023-04-01T10:08:55.128Z"
   },
   {
    "duration": 4,
    "start_time": "2023-04-01T10:08:55.268Z"
   },
   {
    "duration": 13,
    "start_time": "2023-04-01T10:08:55.274Z"
   },
   {
    "duration": 13,
    "start_time": "2023-04-01T10:08:55.288Z"
   },
   {
    "duration": 11,
    "start_time": "2023-04-01T10:08:55.303Z"
   },
   {
    "duration": 21,
    "start_time": "2023-04-01T10:08:55.316Z"
   },
   {
    "duration": 32,
    "start_time": "2023-04-01T10:08:55.339Z"
   },
   {
    "duration": 1234,
    "start_time": "2023-04-01T10:08:55.372Z"
   },
   {
    "duration": 18,
    "start_time": "2023-04-01T10:08:56.608Z"
   },
   {
    "duration": 5,
    "start_time": "2023-04-01T10:08:56.628Z"
   },
   {
    "duration": 16,
    "start_time": "2023-04-01T10:08:56.634Z"
   },
   {
    "duration": 6,
    "start_time": "2023-04-01T10:08:56.651Z"
   },
   {
    "duration": 8,
    "start_time": "2023-04-01T10:08:56.658Z"
   },
   {
    "duration": 582,
    "start_time": "2023-04-01T10:08:56.667Z"
   },
   {
    "duration": 10668,
    "start_time": "2023-04-01T10:08:57.252Z"
   },
   {
    "duration": 124992,
    "start_time": "2023-04-01T10:09:07.922Z"
   },
   {
    "duration": 541,
    "start_time": "2023-04-01T10:11:12.916Z"
   },
   {
    "duration": 91,
    "start_time": "2023-04-01T10:11:13.459Z"
   },
   {
    "duration": 12270,
    "start_time": "2023-04-01T10:11:13.552Z"
   },
   {
    "duration": 3,
    "start_time": "2023-04-01T10:11:25.824Z"
   },
   {
    "duration": 3,
    "start_time": "2023-04-01T10:13:32.523Z"
   },
   {
    "duration": 46,
    "start_time": "2023-04-01T10:13:32.528Z"
   },
   {
    "duration": 5,
    "start_time": "2023-04-01T10:13:32.575Z"
   },
   {
    "duration": 10,
    "start_time": "2023-04-01T10:13:32.581Z"
   },
   {
    "duration": 21,
    "start_time": "2023-04-01T10:13:32.592Z"
   },
   {
    "duration": 9,
    "start_time": "2023-04-01T10:13:32.614Z"
   },
   {
    "duration": 27,
    "start_time": "2023-04-01T10:13:32.624Z"
   },
   {
    "duration": 19039,
    "start_time": "2023-04-01T10:13:32.653Z"
   },
   {
    "duration": 20322,
    "start_time": "2023-04-01T10:13:51.693Z"
   },
   {
    "duration": 3,
    "start_time": "2023-04-01T10:14:12.017Z"
   },
   {
    "duration": 8,
    "start_time": "2023-04-01T10:14:12.021Z"
   },
   {
    "duration": 10,
    "start_time": "2023-04-01T10:14:12.030Z"
   },
   {
    "duration": 15,
    "start_time": "2023-04-01T10:14:12.040Z"
   },
   {
    "duration": 3615,
    "start_time": "2023-04-01T10:14:56.103Z"
   },
   {
    "duration": 126843,
    "start_time": "2023-04-01T10:15:05.311Z"
   },
   {
    "duration": 2,
    "start_time": "2023-04-01T10:17:52.308Z"
   },
   {
    "duration": 16,
    "start_time": "2023-04-01T10:18:34.165Z"
   },
   {
    "duration": 3,
    "start_time": "2023-04-01T10:18:34.490Z"
   },
   {
    "duration": 3,
    "start_time": "2023-04-01T10:18:34.556Z"
   },
   {
    "duration": 5,
    "start_time": "2023-04-01T10:18:34.845Z"
   },
   {
    "duration": 5,
    "start_time": "2023-04-01T10:18:35.073Z"
   },
   {
    "duration": 21,
    "start_time": "2023-04-01T10:18:35.296Z"
   },
   {
    "duration": 19037,
    "start_time": "2023-04-01T10:18:39.982Z"
   },
   {
    "duration": 19232,
    "start_time": "2023-04-01T10:18:59.021Z"
   },
   {
    "duration": 3,
    "start_time": "2023-04-01T10:19:18.254Z"
   },
   {
    "duration": 6,
    "start_time": "2023-04-01T10:19:38.866Z"
   },
   {
    "duration": 5,
    "start_time": "2023-04-01T10:19:39.011Z"
   },
   {
    "duration": 2,
    "start_time": "2023-04-01T10:19:39.169Z"
   },
   {
    "duration": 1610,
    "start_time": "2023-04-02T11:08:44.210Z"
   },
   {
    "duration": 2072,
    "start_time": "2023-04-02T11:08:45.822Z"
   },
   {
    "duration": 28,
    "start_time": "2023-04-02T11:08:47.896Z"
   },
   {
    "duration": 27,
    "start_time": "2023-04-02T11:08:47.926Z"
   },
   {
    "duration": 29,
    "start_time": "2023-04-02T11:08:47.955Z"
   },
   {
    "duration": 4,
    "start_time": "2023-04-02T11:08:47.986Z"
   },
   {
    "duration": 8,
    "start_time": "2023-04-02T11:08:47.992Z"
   },
   {
    "duration": 11,
    "start_time": "2023-04-02T11:08:48.001Z"
   },
   {
    "duration": 6,
    "start_time": "2023-04-02T11:08:48.013Z"
   },
   {
    "duration": 13,
    "start_time": "2023-04-02T11:08:48.021Z"
   },
   {
    "duration": 18,
    "start_time": "2023-04-02T11:08:48.035Z"
   },
   {
    "duration": 36,
    "start_time": "2023-04-02T11:08:48.063Z"
   },
   {
    "duration": 17,
    "start_time": "2023-04-02T11:08:48.101Z"
   },
   {
    "duration": 18,
    "start_time": "2023-04-02T11:08:48.121Z"
   },
   {
    "duration": 148,
    "start_time": "2023-04-02T11:08:48.141Z"
   },
   {
    "duration": 21,
    "start_time": "2023-04-02T11:08:48.291Z"
   },
   {
    "duration": 125,
    "start_time": "2023-04-02T11:08:48.314Z"
   },
   {
    "duration": 8,
    "start_time": "2023-04-02T11:08:48.441Z"
   },
   {
    "duration": 25,
    "start_time": "2023-04-02T11:08:48.451Z"
   },
   {
    "duration": 24,
    "start_time": "2023-04-02T11:08:48.481Z"
   },
   {
    "duration": 4,
    "start_time": "2023-04-02T11:08:48.507Z"
   },
   {
    "duration": 41,
    "start_time": "2023-04-02T11:08:48.513Z"
   },
   {
    "duration": 38,
    "start_time": "2023-04-02T11:08:48.556Z"
   },
   {
    "duration": 6,
    "start_time": "2023-04-02T11:08:48.596Z"
   },
   {
    "duration": 30,
    "start_time": "2023-04-02T11:08:48.604Z"
   },
   {
    "duration": 36,
    "start_time": "2023-04-02T11:08:48.636Z"
   },
   {
    "duration": 24,
    "start_time": "2023-04-02T11:08:48.676Z"
   },
   {
    "duration": 11,
    "start_time": "2023-04-02T11:08:48.703Z"
   },
   {
    "duration": 29,
    "start_time": "2023-04-02T11:08:48.716Z"
   },
   {
    "duration": 42,
    "start_time": "2023-04-02T11:08:48.748Z"
   },
   {
    "duration": 38,
    "start_time": "2023-04-02T11:08:48.792Z"
   },
   {
    "duration": 52,
    "start_time": "2023-04-02T11:08:48.831Z"
   },
   {
    "duration": 33,
    "start_time": "2023-04-02T11:08:48.885Z"
   },
   {
    "duration": 33394,
    "start_time": "2023-04-02T11:08:48.920Z"
   },
   {
    "duration": 310,
    "start_time": "2023-04-02T11:09:22.316Z"
   },
   {
    "duration": 18946,
    "start_time": "2023-04-02T11:09:22.628Z"
   },
   {
    "duration": 8,
    "start_time": "2023-04-02T11:09:41.575Z"
   },
   {
    "duration": 7,
    "start_time": "2023-04-02T11:09:41.585Z"
   },
   {
    "duration": 4,
    "start_time": "2023-04-02T11:09:41.594Z"
   },
   {
    "duration": 1787,
    "start_time": "2023-04-02T11:09:41.599Z"
   },
   {
    "duration": 1850,
    "start_time": "2023-04-02T11:09:43.393Z"
   },
   {
    "duration": 1686,
    "start_time": "2023-04-02T11:09:45.245Z"
   },
   {
    "duration": 6,
    "start_time": "2023-04-02T11:09:46.933Z"
   },
   {
    "duration": 24,
    "start_time": "2023-04-02T11:09:46.941Z"
   },
   {
    "duration": 291,
    "start_time": "2023-04-02T11:09:46.966Z"
   },
   {
    "duration": 181,
    "start_time": "2023-04-02T11:09:47.259Z"
   },
   {
    "duration": 165,
    "start_time": "2023-04-02T11:09:47.442Z"
   },
   {
    "duration": 156,
    "start_time": "2023-04-02T11:09:47.609Z"
   },
   {
    "duration": 11,
    "start_time": "2023-04-02T11:09:47.767Z"
   },
   {
    "duration": 6,
    "start_time": "2023-04-02T11:09:47.779Z"
   },
   {
    "duration": 9,
    "start_time": "2023-04-02T11:09:47.787Z"
   },
   {
    "duration": 9,
    "start_time": "2023-04-02T11:09:47.798Z"
   },
   {
    "duration": 9,
    "start_time": "2023-04-02T11:09:47.809Z"
   },
   {
    "duration": 63,
    "start_time": "2023-04-02T11:09:47.820Z"
   },
   {
    "duration": 1658,
    "start_time": "2023-04-02T11:09:47.885Z"
   },
   {
    "duration": 36,
    "start_time": "2023-04-02T11:09:49.545Z"
   },
   {
    "duration": 6,
    "start_time": "2023-04-02T11:09:49.583Z"
   },
   {
    "duration": 8,
    "start_time": "2023-04-02T11:09:49.591Z"
   },
   {
    "duration": 4,
    "start_time": "2023-04-02T11:09:49.601Z"
   },
   {
    "duration": 7,
    "start_time": "2023-04-02T11:09:49.607Z"
   },
   {
    "duration": 1450,
    "start_time": "2023-04-02T11:09:49.615Z"
   },
   {
    "duration": 11770,
    "start_time": "2023-04-02T11:09:51.073Z"
   },
   {
    "duration": 26311,
    "start_time": "2023-04-02T11:10:02.845Z"
   },
   {
    "duration": 0,
    "start_time": "2023-04-02T11:10:29.159Z"
   },
   {
    "duration": 0,
    "start_time": "2023-04-02T11:10:29.161Z"
   },
   {
    "duration": 0,
    "start_time": "2023-04-02T11:10:29.161Z"
   },
   {
    "duration": 0,
    "start_time": "2023-04-02T11:10:29.162Z"
   },
   {
    "duration": 0,
    "start_time": "2023-04-02T11:10:29.163Z"
   },
   {
    "duration": 0,
    "start_time": "2023-04-02T11:10:29.163Z"
   },
   {
    "duration": 0,
    "start_time": "2023-04-02T11:10:29.164Z"
   },
   {
    "duration": 0,
    "start_time": "2023-04-02T11:10:29.165Z"
   },
   {
    "duration": 0,
    "start_time": "2023-04-02T11:10:29.168Z"
   },
   {
    "duration": 0,
    "start_time": "2023-04-02T11:10:29.172Z"
   },
   {
    "duration": 0,
    "start_time": "2023-04-02T11:10:29.172Z"
   },
   {
    "duration": 0,
    "start_time": "2023-04-02T11:10:29.173Z"
   },
   {
    "duration": 0,
    "start_time": "2023-04-02T11:10:29.174Z"
   },
   {
    "duration": 0,
    "start_time": "2023-04-02T11:10:29.174Z"
   },
   {
    "duration": 0,
    "start_time": "2023-04-02T11:10:29.175Z"
   },
   {
    "duration": 0,
    "start_time": "2023-04-02T11:10:29.176Z"
   },
   {
    "duration": 0,
    "start_time": "2023-04-02T11:10:29.177Z"
   },
   {
    "duration": 0,
    "start_time": "2023-04-02T11:10:29.178Z"
   },
   {
    "duration": 222,
    "start_time": "2023-04-02T11:10:57.215Z"
   },
   {
    "duration": 199,
    "start_time": "2023-04-02T11:11:32.816Z"
   },
   {
    "duration": 274,
    "start_time": "2023-04-02T11:11:55.030Z"
   },
   {
    "duration": 205,
    "start_time": "2023-04-02T11:12:29.845Z"
   },
   {
    "duration": 189,
    "start_time": "2023-04-02T11:16:20.438Z"
   },
   {
    "duration": 254,
    "start_time": "2023-04-02T11:20:05.159Z"
   },
   {
    "duration": 223,
    "start_time": "2023-04-02T11:20:39.009Z"
   },
   {
    "duration": 227,
    "start_time": "2023-04-02T11:21:02.696Z"
   },
   {
    "duration": 228,
    "start_time": "2023-04-02T11:21:26.926Z"
   },
   {
    "duration": 226,
    "start_time": "2023-04-02T11:22:01.191Z"
   },
   {
    "duration": 224,
    "start_time": "2023-04-02T11:22:08.491Z"
   },
   {
    "duration": 239,
    "start_time": "2023-04-02T11:23:04.998Z"
   },
   {
    "duration": 3,
    "start_time": "2023-04-02T11:23:34.306Z"
   },
   {
    "duration": 242,
    "start_time": "2023-04-02T11:25:12.255Z"
   },
   {
    "duration": 217,
    "start_time": "2023-04-02T11:25:39.837Z"
   },
   {
    "duration": 221,
    "start_time": "2023-04-02T11:28:29.637Z"
   },
   {
    "duration": 203,
    "start_time": "2023-04-02T11:29:10.426Z"
   },
   {
    "duration": 13291,
    "start_time": "2023-04-02T11:29:21.326Z"
   },
   {
    "duration": 13119,
    "start_time": "2023-04-02T11:31:06.551Z"
   },
   {
    "duration": 13151,
    "start_time": "2023-04-02T11:32:33.492Z"
   },
   {
    "duration": 13575,
    "start_time": "2023-04-02T11:33:14.006Z"
   },
   {
    "duration": 14106,
    "start_time": "2023-04-02T11:34:30.154Z"
   },
   {
    "duration": 12465,
    "start_time": "2023-04-02T11:37:38.697Z"
   },
   {
    "duration": 12314,
    "start_time": "2023-04-02T11:38:33.174Z"
   },
   {
    "duration": 208,
    "start_time": "2023-04-02T11:39:05.393Z"
   },
   {
    "duration": 6,
    "start_time": "2023-04-02T11:39:30.137Z"
   },
   {
    "duration": 12364,
    "start_time": "2023-04-02T11:39:39.309Z"
   },
   {
    "duration": 12242,
    "start_time": "2023-04-02T11:41:06.197Z"
   },
   {
    "duration": 12215,
    "start_time": "2023-04-02T11:41:37.622Z"
   },
   {
    "duration": 11982,
    "start_time": "2023-04-02T11:42:05.306Z"
   },
   {
    "duration": 12841,
    "start_time": "2023-04-02T11:42:48.964Z"
   },
   {
    "duration": 12481,
    "start_time": "2023-04-02T11:43:10.834Z"
   },
   {
    "duration": 12065,
    "start_time": "2023-04-02T11:43:52.054Z"
   },
   {
    "duration": 12809,
    "start_time": "2023-04-02T11:44:23.401Z"
   },
   {
    "duration": 12853,
    "start_time": "2023-04-02T11:45:30.101Z"
   },
   {
    "duration": 200,
    "start_time": "2023-04-02T11:46:58.454Z"
   },
   {
    "duration": 12352,
    "start_time": "2023-04-02T11:47:03.705Z"
   },
   {
    "duration": 12118,
    "start_time": "2023-04-02T11:47:57.605Z"
   },
   {
    "duration": 48,
    "start_time": "2023-04-02T11:49:46.944Z"
   },
   {
    "duration": 12078,
    "start_time": "2023-04-02T11:50:14.097Z"
   },
   {
    "duration": 12388,
    "start_time": "2023-04-02T11:51:37.297Z"
   },
   {
    "duration": 12206,
    "start_time": "2023-04-02T11:53:11.297Z"
   },
   {
    "duration": 12226,
    "start_time": "2023-04-02T11:53:35.295Z"
   },
   {
    "duration": 12060,
    "start_time": "2023-04-02T11:55:22.123Z"
   },
   {
    "duration": 12099,
    "start_time": "2023-04-02T11:55:43.155Z"
   },
   {
    "duration": 1017,
    "start_time": "2023-04-02T11:57:59.747Z"
   },
   {
    "duration": 1496,
    "start_time": "2023-04-02T12:02:16.612Z"
   },
   {
    "duration": 746,
    "start_time": "2023-04-02T12:02:18.110Z"
   },
   {
    "duration": 33,
    "start_time": "2023-04-02T12:02:18.857Z"
   },
   {
    "duration": 24,
    "start_time": "2023-04-02T12:02:18.892Z"
   },
   {
    "duration": 45,
    "start_time": "2023-04-02T12:02:18.919Z"
   },
   {
    "duration": 7,
    "start_time": "2023-04-02T12:02:18.966Z"
   },
   {
    "duration": 17,
    "start_time": "2023-04-02T12:02:18.975Z"
   },
   {
    "duration": 8,
    "start_time": "2023-04-02T12:02:18.994Z"
   },
   {
    "duration": 7,
    "start_time": "2023-04-02T12:02:19.004Z"
   },
   {
    "duration": 21,
    "start_time": "2023-04-02T12:02:19.012Z"
   },
   {
    "duration": 20,
    "start_time": "2023-04-02T12:02:19.034Z"
   },
   {
    "duration": 33,
    "start_time": "2023-04-02T12:02:19.055Z"
   },
   {
    "duration": 27,
    "start_time": "2023-04-02T12:02:19.090Z"
   },
   {
    "duration": 23,
    "start_time": "2023-04-02T12:02:19.121Z"
   },
   {
    "duration": 131,
    "start_time": "2023-04-02T12:02:19.146Z"
   },
   {
    "duration": 23,
    "start_time": "2023-04-02T12:02:19.279Z"
   },
   {
    "duration": 120,
    "start_time": "2023-04-02T12:02:19.303Z"
   },
   {
    "duration": 8,
    "start_time": "2023-04-02T12:02:19.425Z"
   },
   {
    "duration": 25,
    "start_time": "2023-04-02T12:02:19.435Z"
   },
   {
    "duration": 23,
    "start_time": "2023-04-02T12:02:19.462Z"
   },
   {
    "duration": 14,
    "start_time": "2023-04-02T12:02:19.487Z"
   },
   {
    "duration": 19,
    "start_time": "2023-04-02T12:02:19.502Z"
   },
   {
    "duration": 10,
    "start_time": "2023-04-02T12:02:19.522Z"
   },
   {
    "duration": 24,
    "start_time": "2023-04-02T12:02:19.534Z"
   },
   {
    "duration": 9,
    "start_time": "2023-04-02T12:02:19.560Z"
   },
   {
    "duration": 11,
    "start_time": "2023-04-02T12:02:19.571Z"
   },
   {
    "duration": 21,
    "start_time": "2023-04-02T12:02:19.584Z"
   },
   {
    "duration": 30,
    "start_time": "2023-04-02T12:02:19.606Z"
   },
   {
    "duration": 25,
    "start_time": "2023-04-02T12:02:19.637Z"
   },
   {
    "duration": 27,
    "start_time": "2023-04-02T12:02:19.664Z"
   },
   {
    "duration": 20,
    "start_time": "2023-04-02T12:02:19.693Z"
   },
   {
    "duration": 14,
    "start_time": "2023-04-02T12:02:19.714Z"
   },
   {
    "duration": 18,
    "start_time": "2023-04-02T12:02:19.729Z"
   },
   {
    "duration": 32568,
    "start_time": "2023-04-02T12:02:19.761Z"
   },
   {
    "duration": 377,
    "start_time": "2023-04-02T12:02:52.330Z"
   },
   {
    "duration": 15440,
    "start_time": "2023-04-02T12:02:52.708Z"
   },
   {
    "duration": 13,
    "start_time": "2023-04-02T12:03:08.150Z"
   },
   {
    "duration": 11,
    "start_time": "2023-04-02T12:03:08.165Z"
   },
   {
    "duration": 6,
    "start_time": "2023-04-02T12:03:08.178Z"
   },
   {
    "duration": 1712,
    "start_time": "2023-04-02T12:03:08.186Z"
   },
   {
    "duration": 1658,
    "start_time": "2023-04-02T12:03:09.902Z"
   },
   {
    "duration": 1695,
    "start_time": "2023-04-02T12:03:11.563Z"
   },
   {
    "duration": 9,
    "start_time": "2023-04-02T12:03:13.260Z"
   },
   {
    "duration": 7,
    "start_time": "2023-04-02T12:03:13.271Z"
   },
   {
    "duration": 289,
    "start_time": "2023-04-02T12:03:13.280Z"
   },
   {
    "duration": 164,
    "start_time": "2023-04-02T12:03:13.571Z"
   },
   {
    "duration": 164,
    "start_time": "2023-04-02T12:03:13.737Z"
   },
   {
    "duration": 194,
    "start_time": "2023-04-02T12:03:13.902Z"
   },
   {
    "duration": 6,
    "start_time": "2023-04-02T12:03:14.100Z"
   },
   {
    "duration": 15,
    "start_time": "2023-04-02T12:03:14.108Z"
   },
   {
    "duration": 12,
    "start_time": "2023-04-02T12:03:14.125Z"
   },
   {
    "duration": 24,
    "start_time": "2023-04-02T12:03:14.139Z"
   },
   {
    "duration": 11,
    "start_time": "2023-04-02T12:03:14.166Z"
   },
   {
    "duration": 34,
    "start_time": "2023-04-02T12:03:14.179Z"
   },
   {
    "duration": 1721,
    "start_time": "2023-04-02T12:03:14.215Z"
   },
   {
    "duration": 28,
    "start_time": "2023-04-02T12:03:15.938Z"
   },
   {
    "duration": 8,
    "start_time": "2023-04-02T12:03:15.969Z"
   },
   {
    "duration": 8,
    "start_time": "2023-04-02T12:03:15.979Z"
   },
   {
    "duration": 4,
    "start_time": "2023-04-02T12:03:15.988Z"
   },
   {
    "duration": 6,
    "start_time": "2023-04-02T12:03:15.994Z"
   },
   {
    "duration": 767,
    "start_time": "2023-04-02T12:03:16.001Z"
   },
   {
    "duration": 12277,
    "start_time": "2023-04-02T12:03:16.770Z"
   },
   {
    "duration": 43233,
    "start_time": "2023-04-02T12:03:29.049Z"
   },
   {
    "duration": 0,
    "start_time": "2023-04-02T12:04:12.284Z"
   },
   {
    "duration": 0,
    "start_time": "2023-04-02T12:04:12.285Z"
   },
   {
    "duration": 0,
    "start_time": "2023-04-02T12:04:12.286Z"
   },
   {
    "duration": 0,
    "start_time": "2023-04-02T12:04:12.288Z"
   },
   {
    "duration": 0,
    "start_time": "2023-04-02T12:04:12.289Z"
   },
   {
    "duration": 0,
    "start_time": "2023-04-02T12:04:12.290Z"
   },
   {
    "duration": 0,
    "start_time": "2023-04-02T12:04:12.291Z"
   },
   {
    "duration": 0,
    "start_time": "2023-04-02T12:04:12.292Z"
   },
   {
    "duration": 0,
    "start_time": "2023-04-02T12:04:12.293Z"
   },
   {
    "duration": 0,
    "start_time": "2023-04-02T12:04:12.294Z"
   },
   {
    "duration": 0,
    "start_time": "2023-04-02T12:04:12.295Z"
   },
   {
    "duration": 0,
    "start_time": "2023-04-02T12:04:12.296Z"
   },
   {
    "duration": 0,
    "start_time": "2023-04-02T12:04:12.297Z"
   },
   {
    "duration": 1,
    "start_time": "2023-04-02T12:04:12.298Z"
   },
   {
    "duration": 0,
    "start_time": "2023-04-02T12:04:12.299Z"
   },
   {
    "duration": 0,
    "start_time": "2023-04-02T12:04:12.301Z"
   },
   {
    "duration": 0,
    "start_time": "2023-04-02T12:04:12.302Z"
   },
   {
    "duration": 0,
    "start_time": "2023-04-02T12:04:12.304Z"
   },
   {
    "duration": 0,
    "start_time": "2023-04-02T12:04:12.305Z"
   },
   {
    "duration": 11641,
    "start_time": "2023-04-02T12:04:16.136Z"
   },
   {
    "duration": 1283,
    "start_time": "2023-04-02T12:04:59.186Z"
   },
   {
    "duration": 8,
    "start_time": "2023-04-02T12:05:00.472Z"
   },
   {
    "duration": 11940,
    "start_time": "2023-04-02T12:05:11.053Z"
   },
   {
    "duration": 11828,
    "start_time": "2023-04-02T12:05:42.617Z"
   },
   {
    "duration": 867,
    "start_time": "2023-04-02T12:06:17.300Z"
   },
   {
    "duration": 3,
    "start_time": "2023-04-02T12:06:19.398Z"
   },
   {
    "duration": 12606,
    "start_time": "2023-04-02T12:06:23.895Z"
   },
   {
    "duration": 1587,
    "start_time": "2023-04-02T12:09:22.602Z"
   },
   {
    "duration": 820,
    "start_time": "2023-04-02T12:09:24.192Z"
   },
   {
    "duration": 27,
    "start_time": "2023-04-02T12:09:25.013Z"
   },
   {
    "duration": 35,
    "start_time": "2023-04-02T12:09:25.042Z"
   },
   {
    "duration": 22,
    "start_time": "2023-04-02T12:09:25.079Z"
   },
   {
    "duration": 5,
    "start_time": "2023-04-02T12:09:25.103Z"
   },
   {
    "duration": 7,
    "start_time": "2023-04-02T12:09:25.109Z"
   },
   {
    "duration": 6,
    "start_time": "2023-04-02T12:09:25.118Z"
   },
   {
    "duration": 6,
    "start_time": "2023-04-02T12:09:25.126Z"
   },
   {
    "duration": 39,
    "start_time": "2023-04-02T12:09:25.134Z"
   },
   {
    "duration": 4,
    "start_time": "2023-04-02T12:09:25.175Z"
   },
   {
    "duration": 24,
    "start_time": "2023-04-02T12:09:25.181Z"
   },
   {
    "duration": 14,
    "start_time": "2023-04-02T12:09:25.207Z"
   },
   {
    "duration": 52,
    "start_time": "2023-04-02T12:09:25.223Z"
   },
   {
    "duration": 133,
    "start_time": "2023-04-02T12:09:25.277Z"
   },
   {
    "duration": 25,
    "start_time": "2023-04-02T12:09:25.411Z"
   },
   {
    "duration": 116,
    "start_time": "2023-04-02T12:09:25.438Z"
   },
   {
    "duration": 18,
    "start_time": "2023-04-02T12:09:25.556Z"
   },
   {
    "duration": 8,
    "start_time": "2023-04-02T12:09:25.577Z"
   },
   {
    "duration": 11,
    "start_time": "2023-04-02T12:09:25.586Z"
   },
   {
    "duration": 3,
    "start_time": "2023-04-02T12:09:25.598Z"
   },
   {
    "duration": 4,
    "start_time": "2023-04-02T12:09:25.603Z"
   },
   {
    "duration": 4,
    "start_time": "2023-04-02T12:09:25.609Z"
   },
   {
    "duration": 5,
    "start_time": "2023-04-02T12:09:25.615Z"
   },
   {
    "duration": 47,
    "start_time": "2023-04-02T12:09:25.621Z"
   },
   {
    "duration": 9,
    "start_time": "2023-04-02T12:09:25.670Z"
   },
   {
    "duration": 7,
    "start_time": "2023-04-02T12:09:25.681Z"
   },
   {
    "duration": 4,
    "start_time": "2023-04-02T12:09:25.692Z"
   },
   {
    "duration": 9,
    "start_time": "2023-04-02T12:09:25.697Z"
   },
   {
    "duration": 13,
    "start_time": "2023-04-02T12:09:25.707Z"
   },
   {
    "duration": 51,
    "start_time": "2023-04-02T12:09:25.722Z"
   },
   {
    "duration": 15,
    "start_time": "2023-04-02T12:09:25.777Z"
   },
   {
    "duration": 20,
    "start_time": "2023-04-02T12:09:25.794Z"
   },
   {
    "duration": 29591,
    "start_time": "2023-04-02T12:09:25.816Z"
   },
   {
    "duration": 290,
    "start_time": "2023-04-02T12:09:55.409Z"
   },
   {
    "duration": 13157,
    "start_time": "2023-04-02T12:09:55.701Z"
   },
   {
    "duration": 5,
    "start_time": "2023-04-02T12:10:08.860Z"
   },
   {
    "duration": 11,
    "start_time": "2023-04-02T12:10:08.866Z"
   },
   {
    "duration": 4,
    "start_time": "2023-04-02T12:10:08.879Z"
   },
   {
    "duration": 1549,
    "start_time": "2023-04-02T12:10:08.884Z"
   },
   {
    "duration": 1659,
    "start_time": "2023-04-02T12:10:10.435Z"
   },
   {
    "duration": 1614,
    "start_time": "2023-04-02T12:10:12.095Z"
   },
   {
    "duration": 6,
    "start_time": "2023-04-02T12:10:13.710Z"
   },
   {
    "duration": 7,
    "start_time": "2023-04-02T12:10:13.717Z"
   },
   {
    "duration": 160,
    "start_time": "2023-04-02T12:10:13.726Z"
   },
   {
    "duration": 186,
    "start_time": "2023-04-02T12:10:13.888Z"
   },
   {
    "duration": 305,
    "start_time": "2023-04-02T12:10:14.076Z"
   },
   {
    "duration": 143,
    "start_time": "2023-04-02T12:10:14.382Z"
   },
   {
    "duration": 5,
    "start_time": "2023-04-02T12:10:14.526Z"
   },
   {
    "duration": 9,
    "start_time": "2023-04-02T12:10:14.532Z"
   },
   {
    "duration": 25,
    "start_time": "2023-04-02T12:10:14.543Z"
   },
   {
    "duration": 9,
    "start_time": "2023-04-02T12:10:14.570Z"
   },
   {
    "duration": 11,
    "start_time": "2023-04-02T12:10:14.580Z"
   },
   {
    "duration": 27,
    "start_time": "2023-04-02T12:10:14.592Z"
   },
   {
    "duration": 1635,
    "start_time": "2023-04-02T12:10:14.621Z"
   },
   {
    "duration": 25,
    "start_time": "2023-04-02T12:10:16.257Z"
   },
   {
    "duration": 7,
    "start_time": "2023-04-02T12:10:16.283Z"
   },
   {
    "duration": 12,
    "start_time": "2023-04-02T12:10:16.292Z"
   },
   {
    "duration": 3,
    "start_time": "2023-04-02T12:10:16.306Z"
   },
   {
    "duration": 24,
    "start_time": "2023-04-02T12:10:16.311Z"
   },
   {
    "duration": 632,
    "start_time": "2023-04-02T12:10:16.337Z"
   },
   {
    "duration": 11405,
    "start_time": "2023-04-02T12:10:16.971Z"
   },
   {
    "duration": 21391,
    "start_time": "2023-04-02T12:10:28.378Z"
   },
   {
    "duration": 0,
    "start_time": "2023-04-02T12:10:49.771Z"
   },
   {
    "duration": 0,
    "start_time": "2023-04-02T12:10:49.772Z"
   },
   {
    "duration": 0,
    "start_time": "2023-04-02T12:10:49.773Z"
   },
   {
    "duration": 0,
    "start_time": "2023-04-02T12:10:49.774Z"
   },
   {
    "duration": 0,
    "start_time": "2023-04-02T12:10:49.776Z"
   },
   {
    "duration": 0,
    "start_time": "2023-04-02T12:10:49.777Z"
   },
   {
    "duration": 0,
    "start_time": "2023-04-02T12:10:49.778Z"
   },
   {
    "duration": 0,
    "start_time": "2023-04-02T12:10:49.779Z"
   },
   {
    "duration": 0,
    "start_time": "2023-04-02T12:10:49.780Z"
   },
   {
    "duration": 0,
    "start_time": "2023-04-02T12:10:49.781Z"
   },
   {
    "duration": 0,
    "start_time": "2023-04-02T12:10:49.782Z"
   },
   {
    "duration": 0,
    "start_time": "2023-04-02T12:10:49.783Z"
   },
   {
    "duration": 0,
    "start_time": "2023-04-02T12:10:49.785Z"
   },
   {
    "duration": 0,
    "start_time": "2023-04-02T12:10:49.786Z"
   },
   {
    "duration": 0,
    "start_time": "2023-04-02T12:10:49.787Z"
   },
   {
    "duration": 0,
    "start_time": "2023-04-02T12:10:49.788Z"
   },
   {
    "duration": 0,
    "start_time": "2023-04-02T12:10:49.789Z"
   },
   {
    "duration": 0,
    "start_time": "2023-04-02T12:10:49.790Z"
   },
   {
    "duration": 1590,
    "start_time": "2023-04-02T12:16:26.121Z"
   },
   {
    "duration": 784,
    "start_time": "2023-04-02T12:16:27.714Z"
   },
   {
    "duration": 25,
    "start_time": "2023-04-02T12:16:28.500Z"
   },
   {
    "duration": 21,
    "start_time": "2023-04-02T12:16:28.526Z"
   },
   {
    "duration": 26,
    "start_time": "2023-04-02T12:16:28.575Z"
   },
   {
    "duration": 9,
    "start_time": "2023-04-02T12:16:28.603Z"
   },
   {
    "duration": 7,
    "start_time": "2023-04-02T12:16:28.614Z"
   },
   {
    "duration": 7,
    "start_time": "2023-04-02T12:16:28.623Z"
   },
   {
    "duration": 23,
    "start_time": "2023-04-02T12:16:28.631Z"
   },
   {
    "duration": 20,
    "start_time": "2023-04-02T12:16:28.656Z"
   },
   {
    "duration": 4,
    "start_time": "2023-04-02T12:16:28.678Z"
   },
   {
    "duration": 30,
    "start_time": "2023-04-02T12:16:28.684Z"
   },
   {
    "duration": 13,
    "start_time": "2023-04-02T12:16:28.716Z"
   },
   {
    "duration": 18,
    "start_time": "2023-04-02T12:16:28.731Z"
   },
   {
    "duration": 151,
    "start_time": "2023-04-02T12:16:28.751Z"
   },
   {
    "duration": 34,
    "start_time": "2023-04-02T12:16:28.904Z"
   },
   {
    "duration": 147,
    "start_time": "2023-04-02T12:16:28.941Z"
   },
   {
    "duration": 11,
    "start_time": "2023-04-02T12:16:29.091Z"
   },
   {
    "duration": 13,
    "start_time": "2023-04-02T12:16:29.104Z"
   },
   {
    "duration": 12,
    "start_time": "2023-04-02T12:16:29.118Z"
   },
   {
    "duration": 5,
    "start_time": "2023-04-02T12:16:29.132Z"
   },
   {
    "duration": 37,
    "start_time": "2023-04-02T12:16:29.139Z"
   },
   {
    "duration": 5,
    "start_time": "2023-04-02T12:16:29.178Z"
   },
   {
    "duration": 10,
    "start_time": "2023-04-02T12:16:29.185Z"
   },
   {
    "duration": 14,
    "start_time": "2023-04-02T12:16:29.196Z"
   },
   {
    "duration": 13,
    "start_time": "2023-04-02T12:16:29.212Z"
   },
   {
    "duration": 17,
    "start_time": "2023-04-02T12:16:29.226Z"
   },
   {
    "duration": 40,
    "start_time": "2023-04-02T12:16:29.245Z"
   },
   {
    "duration": 13,
    "start_time": "2023-04-02T12:16:29.287Z"
   },
   {
    "duration": 13,
    "start_time": "2023-04-02T12:16:29.301Z"
   },
   {
    "duration": 22,
    "start_time": "2023-04-02T12:16:29.316Z"
   },
   {
    "duration": 15,
    "start_time": "2023-04-02T12:16:29.340Z"
   },
   {
    "duration": 33,
    "start_time": "2023-04-02T12:16:29.357Z"
   },
   {
    "duration": 33398,
    "start_time": "2023-04-02T12:16:29.392Z"
   },
   {
    "duration": 310,
    "start_time": "2023-04-02T12:17:02.791Z"
   },
   {
    "duration": 16110,
    "start_time": "2023-04-02T12:17:03.102Z"
   },
   {
    "duration": 6,
    "start_time": "2023-04-02T12:17:19.213Z"
   },
   {
    "duration": 13,
    "start_time": "2023-04-02T12:17:19.221Z"
   },
   {
    "duration": 4,
    "start_time": "2023-04-02T12:17:19.236Z"
   },
   {
    "duration": 1646,
    "start_time": "2023-04-02T12:17:19.242Z"
   },
   {
    "duration": 1706,
    "start_time": "2023-04-02T12:17:20.893Z"
   },
   {
    "duration": 1867,
    "start_time": "2023-04-02T12:17:22.601Z"
   },
   {
    "duration": 9,
    "start_time": "2023-04-02T12:17:24.470Z"
   },
   {
    "duration": 8,
    "start_time": "2023-04-02T12:17:24.481Z"
   },
   {
    "duration": 299,
    "start_time": "2023-04-02T12:17:24.491Z"
   },
   {
    "duration": 185,
    "start_time": "2023-04-02T12:17:24.791Z"
   },
   {
    "duration": 161,
    "start_time": "2023-04-02T12:17:24.978Z"
   },
   {
    "duration": 167,
    "start_time": "2023-04-02T12:17:25.141Z"
   },
   {
    "duration": 5,
    "start_time": "2023-04-02T12:17:25.309Z"
   },
   {
    "duration": 10,
    "start_time": "2023-04-02T12:17:25.315Z"
   },
   {
    "duration": 32,
    "start_time": "2023-04-02T12:17:25.326Z"
   },
   {
    "duration": 14,
    "start_time": "2023-04-02T12:17:25.360Z"
   },
   {
    "duration": 16,
    "start_time": "2023-04-02T12:17:25.376Z"
   },
   {
    "duration": 31,
    "start_time": "2023-04-02T12:17:25.394Z"
   },
   {
    "duration": 1802,
    "start_time": "2023-04-02T12:17:25.427Z"
   },
   {
    "duration": 32,
    "start_time": "2023-04-02T12:17:27.232Z"
   },
   {
    "duration": 18,
    "start_time": "2023-04-02T12:17:27.266Z"
   },
   {
    "duration": 7,
    "start_time": "2023-04-02T12:17:27.286Z"
   },
   {
    "duration": 7,
    "start_time": "2023-04-02T12:17:27.295Z"
   },
   {
    "duration": 10,
    "start_time": "2023-04-02T12:17:27.304Z"
   },
   {
    "duration": 1159,
    "start_time": "2023-04-02T12:17:27.316Z"
   },
   {
    "duration": 11980,
    "start_time": "2023-04-02T12:17:28.478Z"
   },
   {
    "duration": 137330,
    "start_time": "2023-04-02T12:17:40.464Z"
   },
   {
    "duration": 1476,
    "start_time": "2023-04-02T12:19:57.796Z"
   },
   {
    "duration": 12,
    "start_time": "2023-04-02T12:19:59.275Z"
   },
   {
    "duration": 12256,
    "start_time": "2023-04-02T12:19:59.288Z"
   },
   {
    "duration": 3,
    "start_time": "2023-04-02T12:20:11.546Z"
   },
   {
    "duration": 21135,
    "start_time": "2023-04-02T12:22:31.924Z"
   },
   {
    "duration": 21872,
    "start_time": "2023-04-02T12:22:53.061Z"
   },
   {
    "duration": 3,
    "start_time": "2023-04-02T12:23:14.935Z"
   },
   {
    "duration": 7,
    "start_time": "2023-04-02T12:23:14.940Z"
   },
   {
    "duration": 24,
    "start_time": "2023-04-02T12:23:14.949Z"
   },
   {
    "duration": 3,
    "start_time": "2023-04-02T12:23:14.975Z"
   },
   {
    "duration": 142666,
    "start_time": "2023-04-02T12:30:42.948Z"
   },
   {
    "duration": 1461,
    "start_time": "2023-04-02T12:33:21.723Z"
   },
   {
    "duration": 799,
    "start_time": "2023-04-02T12:33:23.186Z"
   },
   {
    "duration": 33,
    "start_time": "2023-04-02T12:33:23.989Z"
   },
   {
    "duration": 25,
    "start_time": "2023-04-02T12:33:24.024Z"
   },
   {
    "duration": 45,
    "start_time": "2023-04-02T12:33:24.052Z"
   },
   {
    "duration": 6,
    "start_time": "2023-04-02T12:33:24.101Z"
   },
   {
    "duration": 17,
    "start_time": "2023-04-02T12:33:24.109Z"
   },
   {
    "duration": 15,
    "start_time": "2023-04-02T12:33:24.128Z"
   },
   {
    "duration": 9,
    "start_time": "2023-04-02T12:33:24.145Z"
   },
   {
    "duration": 25,
    "start_time": "2023-04-02T12:33:24.156Z"
   },
   {
    "duration": 5,
    "start_time": "2023-04-02T12:33:24.183Z"
   },
   {
    "duration": 26,
    "start_time": "2023-04-02T12:33:24.190Z"
   },
   {
    "duration": 18,
    "start_time": "2023-04-02T12:33:24.218Z"
   },
   {
    "duration": 47,
    "start_time": "2023-04-02T12:33:24.240Z"
   },
   {
    "duration": 153,
    "start_time": "2023-04-02T12:33:24.289Z"
   },
   {
    "duration": 32,
    "start_time": "2023-04-02T12:33:24.444Z"
   },
   {
    "duration": 123,
    "start_time": "2023-04-02T12:33:24.478Z"
   },
   {
    "duration": 10,
    "start_time": "2023-04-02T12:33:24.603Z"
   },
   {
    "duration": 8,
    "start_time": "2023-04-02T12:33:24.615Z"
   },
   {
    "duration": 11,
    "start_time": "2023-04-02T12:33:24.624Z"
   },
   {
    "duration": 37,
    "start_time": "2023-04-02T12:33:24.637Z"
   },
   {
    "duration": 5,
    "start_time": "2023-04-02T12:33:24.677Z"
   },
   {
    "duration": 7,
    "start_time": "2023-04-02T12:33:24.683Z"
   },
   {
    "duration": 3,
    "start_time": "2023-04-02T12:33:24.692Z"
   },
   {
    "duration": 6,
    "start_time": "2023-04-02T12:33:24.697Z"
   },
   {
    "duration": 10,
    "start_time": "2023-04-02T12:33:24.709Z"
   },
   {
    "duration": 4,
    "start_time": "2023-04-02T12:33:24.720Z"
   },
   {
    "duration": 8,
    "start_time": "2023-04-02T12:33:24.726Z"
   },
   {
    "duration": 17,
    "start_time": "2023-04-02T12:33:24.772Z"
   },
   {
    "duration": 13,
    "start_time": "2023-04-02T12:33:24.791Z"
   },
   {
    "duration": 26,
    "start_time": "2023-04-02T12:33:24.806Z"
   },
   {
    "duration": 15,
    "start_time": "2023-04-02T12:33:24.833Z"
   },
   {
    "duration": 28,
    "start_time": "2023-04-02T12:33:24.869Z"
   },
   {
    "duration": 35573,
    "start_time": "2023-04-02T12:33:24.899Z"
   },
   {
    "duration": 253,
    "start_time": "2023-04-02T12:34:00.474Z"
   },
   {
    "duration": 19598,
    "start_time": "2023-04-02T12:34:00.729Z"
   },
   {
    "duration": 6,
    "start_time": "2023-04-02T12:34:20.329Z"
   },
   {
    "duration": 19,
    "start_time": "2023-04-02T12:34:20.337Z"
   },
   {
    "duration": 16,
    "start_time": "2023-04-02T12:34:20.358Z"
   },
   {
    "duration": 1776,
    "start_time": "2023-04-02T12:34:20.376Z"
   },
   {
    "duration": 1927,
    "start_time": "2023-04-02T12:34:22.157Z"
   },
   {
    "duration": 1994,
    "start_time": "2023-04-02T12:34:24.087Z"
   },
   {
    "duration": 6,
    "start_time": "2023-04-02T12:34:26.082Z"
   },
   {
    "duration": 8,
    "start_time": "2023-04-02T12:34:26.090Z"
   },
   {
    "duration": 311,
    "start_time": "2023-04-02T12:34:26.099Z"
   },
   {
    "duration": 173,
    "start_time": "2023-04-02T12:34:26.412Z"
   },
   {
    "duration": 159,
    "start_time": "2023-04-02T12:34:26.586Z"
   },
   {
    "duration": 171,
    "start_time": "2023-04-02T12:34:26.747Z"
   },
   {
    "duration": 7,
    "start_time": "2023-04-02T12:34:26.920Z"
   },
   {
    "duration": 16,
    "start_time": "2023-04-02T12:34:26.928Z"
   },
   {
    "duration": 28,
    "start_time": "2023-04-02T12:34:26.946Z"
   },
   {
    "duration": 10,
    "start_time": "2023-04-02T12:34:26.977Z"
   },
   {
    "duration": 9,
    "start_time": "2023-04-02T12:34:26.988Z"
   },
   {
    "duration": 28,
    "start_time": "2023-04-02T12:34:26.999Z"
   },
   {
    "duration": 1814,
    "start_time": "2023-04-02T12:34:27.029Z"
   },
   {
    "duration": 36,
    "start_time": "2023-04-02T12:34:28.844Z"
   },
   {
    "duration": 6,
    "start_time": "2023-04-02T12:34:28.882Z"
   },
   {
    "duration": 28,
    "start_time": "2023-04-02T12:34:28.890Z"
   },
   {
    "duration": 5,
    "start_time": "2023-04-02T12:34:28.920Z"
   },
   {
    "duration": 15,
    "start_time": "2023-04-02T12:34:28.927Z"
   },
   {
    "duration": 926,
    "start_time": "2023-04-02T12:34:28.943Z"
   },
   {
    "duration": 12630,
    "start_time": "2023-04-02T12:34:29.871Z"
   },
   {
    "duration": 144589,
    "start_time": "2023-04-02T12:34:42.502Z"
   },
   {
    "duration": 2688,
    "start_time": "2023-04-02T12:37:07.092Z"
   },
   {
    "duration": 6,
    "start_time": "2023-04-02T12:37:09.782Z"
   },
   {
    "duration": 12635,
    "start_time": "2023-04-02T12:37:09.866Z"
   },
   {
    "duration": 4,
    "start_time": "2023-04-02T12:37:22.503Z"
   },
   {
    "duration": 4879,
    "start_time": "2023-04-02T12:39:52.506Z"
   },
   {
    "duration": 0,
    "start_time": "2023-04-02T12:39:57.387Z"
   },
   {
    "duration": 0,
    "start_time": "2023-04-02T12:39:57.388Z"
   },
   {
    "duration": 0,
    "start_time": "2023-04-02T12:39:57.390Z"
   },
   {
    "duration": 0,
    "start_time": "2023-04-02T12:39:57.391Z"
   },
   {
    "duration": 0,
    "start_time": "2023-04-02T12:39:57.392Z"
   },
   {
    "duration": 0,
    "start_time": "2023-04-02T12:39:57.396Z"
   },
   {
    "duration": 151368,
    "start_time": "2023-04-02T12:40:01.512Z"
   },
   {
    "duration": 3,
    "start_time": "2023-04-02T12:43:08.345Z"
   },
   {
    "duration": 24,
    "start_time": "2023-04-02T12:43:52.580Z"
   },
   {
    "duration": 4,
    "start_time": "2023-04-02T12:43:52.633Z"
   },
   {
    "duration": 3,
    "start_time": "2023-04-02T12:43:54.021Z"
   },
   {
    "duration": 6,
    "start_time": "2023-04-02T12:43:56.505Z"
   },
   {
    "duration": 12,
    "start_time": "2023-04-02T12:43:56.667Z"
   },
   {
    "duration": 24,
    "start_time": "2023-04-02T12:43:56.913Z"
   },
   {
    "duration": 2240,
    "start_time": "2023-04-02T12:44:04.815Z"
   },
   {
    "duration": 2160,
    "start_time": "2023-04-02T12:44:12.629Z"
   },
   {
    "duration": 22521,
    "start_time": "2023-04-02T12:45:05.020Z"
   },
   {
    "duration": 4,
    "start_time": "2023-04-02T12:45:37.811Z"
   },
   {
    "duration": 7,
    "start_time": "2023-04-02T12:45:39.252Z"
   },
   {
    "duration": 8,
    "start_time": "2023-04-02T12:45:39.391Z"
   },
   {
    "duration": 5,
    "start_time": "2023-04-02T12:45:39.577Z"
   },
   {
    "duration": 46246,
    "start_time": "2023-04-02T12:46:25.295Z"
   },
   {
    "duration": 1658,
    "start_time": "2023-04-02T12:47:26.086Z"
   },
   {
    "duration": 875,
    "start_time": "2023-04-02T12:47:27.746Z"
   },
   {
    "duration": 26,
    "start_time": "2023-04-02T12:47:28.622Z"
   },
   {
    "duration": 33,
    "start_time": "2023-04-02T12:47:28.650Z"
   },
   {
    "duration": 21,
    "start_time": "2023-04-02T12:47:28.686Z"
   },
   {
    "duration": 5,
    "start_time": "2023-04-02T12:47:28.709Z"
   },
   {
    "duration": 4,
    "start_time": "2023-04-02T12:47:28.715Z"
   },
   {
    "duration": 51,
    "start_time": "2023-04-02T12:47:28.721Z"
   },
   {
    "duration": 8,
    "start_time": "2023-04-02T12:47:28.775Z"
   },
   {
    "duration": 5,
    "start_time": "2023-04-02T12:47:28.784Z"
   },
   {
    "duration": 5,
    "start_time": "2023-04-02T12:47:28.791Z"
   },
   {
    "duration": 20,
    "start_time": "2023-04-02T12:47:28.797Z"
   },
   {
    "duration": 13,
    "start_time": "2023-04-02T12:47:28.818Z"
   },
   {
    "duration": 25,
    "start_time": "2023-04-02T12:47:28.872Z"
   },
   {
    "duration": 149,
    "start_time": "2023-04-02T12:47:28.899Z"
   },
   {
    "duration": 37,
    "start_time": "2023-04-02T12:47:29.050Z"
   },
   {
    "duration": 121,
    "start_time": "2023-04-02T12:47:29.089Z"
   },
   {
    "duration": 9,
    "start_time": "2023-04-02T12:47:29.213Z"
   },
   {
    "duration": 6,
    "start_time": "2023-04-02T12:47:29.224Z"
   },
   {
    "duration": 9,
    "start_time": "2023-04-02T12:47:29.232Z"
   },
   {
    "duration": 34,
    "start_time": "2023-04-02T12:47:29.243Z"
   },
   {
    "duration": 5,
    "start_time": "2023-04-02T12:47:29.279Z"
   },
   {
    "duration": 5,
    "start_time": "2023-04-02T12:47:29.286Z"
   },
   {
    "duration": 4,
    "start_time": "2023-04-02T12:47:29.292Z"
   },
   {
    "duration": 8,
    "start_time": "2023-04-02T12:47:29.297Z"
   },
   {
    "duration": 9,
    "start_time": "2023-04-02T12:47:29.306Z"
   },
   {
    "duration": 7,
    "start_time": "2023-04-02T12:47:29.317Z"
   },
   {
    "duration": 5,
    "start_time": "2023-04-02T12:47:29.326Z"
   },
   {
    "duration": 45,
    "start_time": "2023-04-02T12:47:29.332Z"
   },
   {
    "duration": 14,
    "start_time": "2023-04-02T12:47:29.380Z"
   },
   {
    "duration": 29,
    "start_time": "2023-04-02T12:47:29.396Z"
   },
   {
    "duration": 46,
    "start_time": "2023-04-02T12:47:29.428Z"
   },
   {
    "duration": 26,
    "start_time": "2023-04-02T12:47:29.476Z"
   },
   {
    "duration": 35190,
    "start_time": "2023-04-02T12:47:29.503Z"
   },
   {
    "duration": 226,
    "start_time": "2023-04-02T12:48:04.694Z"
   },
   {
    "duration": 22691,
    "start_time": "2023-04-02T12:48:04.921Z"
   },
   {
    "duration": 6,
    "start_time": "2023-04-02T12:48:27.614Z"
   },
   {
    "duration": 10,
    "start_time": "2023-04-02T12:48:27.622Z"
   },
   {
    "duration": 5,
    "start_time": "2023-04-02T12:48:27.633Z"
   },
   {
    "duration": 1820,
    "start_time": "2023-04-02T12:48:27.639Z"
   },
   {
    "duration": 1928,
    "start_time": "2023-04-02T12:48:29.473Z"
   },
   {
    "duration": 1954,
    "start_time": "2023-04-02T12:48:31.404Z"
   },
   {
    "duration": 21,
    "start_time": "2023-04-02T12:48:33.360Z"
   },
   {
    "duration": 8,
    "start_time": "2023-04-02T12:48:33.382Z"
   },
   {
    "duration": 331,
    "start_time": "2023-04-02T12:48:33.392Z"
   },
   {
    "duration": 210,
    "start_time": "2023-04-02T12:48:33.725Z"
   },
   {
    "duration": 220,
    "start_time": "2023-04-02T12:48:33.937Z"
   },
   {
    "duration": 228,
    "start_time": "2023-04-02T12:48:34.160Z"
   },
   {
    "duration": 6,
    "start_time": "2023-04-02T12:48:34.390Z"
   },
   {
    "duration": 25,
    "start_time": "2023-04-02T12:48:34.398Z"
   },
   {
    "duration": 19,
    "start_time": "2023-04-02T12:48:34.426Z"
   },
   {
    "duration": 11,
    "start_time": "2023-04-02T12:48:34.447Z"
   },
   {
    "duration": 26,
    "start_time": "2023-04-02T12:48:34.460Z"
   },
   {
    "duration": 29,
    "start_time": "2023-04-02T12:48:34.488Z"
   },
   {
    "duration": 1862,
    "start_time": "2023-04-02T12:48:34.518Z"
   },
   {
    "duration": 23,
    "start_time": "2023-04-02T12:48:36.382Z"
   },
   {
    "duration": 6,
    "start_time": "2023-04-02T12:48:36.407Z"
   },
   {
    "duration": 6,
    "start_time": "2023-04-02T12:48:36.415Z"
   },
   {
    "duration": 4,
    "start_time": "2023-04-02T12:48:36.423Z"
   },
   {
    "duration": 7,
    "start_time": "2023-04-02T12:48:36.429Z"
   },
   {
    "duration": 858,
    "start_time": "2023-04-02T12:48:36.438Z"
   },
   {
    "duration": 12358,
    "start_time": "2023-04-02T12:48:37.299Z"
   },
   {
    "duration": 146487,
    "start_time": "2023-04-02T12:48:49.669Z"
   },
   {
    "duration": 1730,
    "start_time": "2023-04-02T12:51:16.157Z"
   },
   {
    "duration": 74,
    "start_time": "2023-04-02T12:51:17.890Z"
   },
   {
    "duration": 13566,
    "start_time": "2023-04-02T12:51:17.974Z"
   },
   {
    "duration": 5,
    "start_time": "2023-04-02T12:51:31.542Z"
   },
   {
    "duration": 142498,
    "start_time": "2023-04-02T12:59:59.726Z"
   },
   {
    "duration": 4,
    "start_time": "2023-04-02T13:02:48.130Z"
   },
   {
    "duration": 31,
    "start_time": "2023-04-02T13:03:11.972Z"
   },
   {
    "duration": 3,
    "start_time": "2023-04-02T13:03:12.110Z"
   },
   {
    "duration": 4,
    "start_time": "2023-04-02T13:03:12.377Z"
   },
   {
    "duration": 8,
    "start_time": "2023-04-02T13:03:12.482Z"
   },
   {
    "duration": 7,
    "start_time": "2023-04-02T13:03:12.579Z"
   },
   {
    "duration": 21,
    "start_time": "2023-04-02T13:03:12.713Z"
   },
   {
    "duration": 1968,
    "start_time": "2023-04-02T13:03:13.579Z"
   },
   {
    "duration": 0,
    "start_time": "2023-04-02T13:05:17.901Z"
   },
   {
    "duration": 0,
    "start_time": "2023-04-02T13:05:17.902Z"
   },
   {
    "duration": 21542,
    "start_time": "2023-04-02T13:05:22.084Z"
   },
   {
    "duration": 4,
    "start_time": "2023-04-02T13:05:49.578Z"
   },
   {
    "duration": 7,
    "start_time": "2023-04-02T13:05:53.125Z"
   },
   {
    "duration": 9,
    "start_time": "2023-04-02T13:05:56.274Z"
   },
   {
    "duration": 7,
    "start_time": "2023-04-02T13:05:56.373Z"
   }
  ],
  "kernelspec": {
   "display_name": "Python 3 (ipykernel)",
   "language": "python",
   "name": "python3"
  },
  "language_info": {
   "codemirror_mode": {
    "name": "ipython",
    "version": 3
   },
   "file_extension": ".py",
   "mimetype": "text/x-python",
   "name": "python",
   "nbconvert_exporter": "python",
   "pygments_lexer": "ipython3",
   "version": "3.9.13"
  },
  "toc": {
   "base_numbering": 1,
   "nav_menu": {},
   "number_sections": true,
   "sideBar": true,
   "skip_h1_title": true,
   "title_cell": "Содержание",
   "title_sidebar": "Contents",
   "toc_cell": true,
   "toc_position": {
    "height": "calc(100% - 180px)",
    "left": "10px",
    "top": "150px",
    "width": "166.59375px"
   },
   "toc_section_display": true,
   "toc_window_display": true
  }
 },
 "nbformat": 4,
 "nbformat_minor": 2
}
