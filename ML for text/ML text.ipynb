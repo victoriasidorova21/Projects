{
 "cells": [
  {
   "cell_type": "markdown",
   "metadata": {
    "toc": true
   },
   "source": [
    "<h1>Содержание<span class=\"tocSkip\"></span></h1>\n",
    "<div class=\"toc\"><ul class=\"toc-item\"><li><span><a href=\"#Подготовка\" data-toc-modified-id=\"Подготовка-1\"><span class=\"toc-item-num\">1&nbsp;&nbsp;</span>Подготовка</a></span></li><li><span><a href=\"#Обучение\" data-toc-modified-id=\"Обучение-2\"><span class=\"toc-item-num\">2&nbsp;&nbsp;</span>Обучение</a></span></li><li><span><a href=\"#Выводы\" data-toc-modified-id=\"Выводы-3\"><span class=\"toc-item-num\">3&nbsp;&nbsp;</span>Выводы</a></span></li><li><span><a href=\"#Чек-лист-проверки\" data-toc-modified-id=\"Чек-лист-проверки-4\"><span class=\"toc-item-num\">4&nbsp;&nbsp;</span>Чек-лист проверки</a></span></li></ul></div>"
   ]
  },
  {
   "cell_type": "markdown",
   "metadata": {},
   "source": [
    "# Проект для «Викишоп»"
   ]
  },
  {
   "cell_type": "markdown",
   "metadata": {},
   "source": [
    "Интернет-магазин «Викишоп» запускает новый сервис. Теперь пользователи могут редактировать и дополнять описания товаров, как в вики-сообществах. То есть клиенты предлагают свои правки и комментируют изменения других. Магазину нужен инструмент, который будет искать токсичные комментарии и отправлять их на модерацию. \n",
    "\n",
    "Обучите модель классифицировать комментарии на позитивные и негативные. В вашем распоряжении набор данных с разметкой о токсичности правок.\n",
    "\n",
    "Постройте модель со значением метрики качества *F1* не меньше 0.75. \n",
    "\n",
    "**Инструкция по выполнению проекта**\n",
    "\n",
    "1. Загрузите и подготовьте данные.\n",
    "2. Обучите разные модели. \n",
    "3. Сделайте выводы.\n",
    "\n",
    "\n",
    "**Описание данных**\n",
    "\n",
    "Данные находятся в файле `toxic_comments.csv`. Столбец *text* в нём содержит текст комментария, а *toxic* — целевой признак."
   ]
  },
  {
   "cell_type": "markdown",
   "metadata": {},
   "source": [
    "## Подготовка"
   ]
  },
  {
   "cell_type": "code",
   "execution_count": 1,
   "metadata": {},
   "outputs": [
    {
     "name": "stderr",
     "output_type": "stream",
     "text": [
      "[nltk_data] Downloading package stopwords to /home/jovyan/nltk_data...\n",
      "[nltk_data]   Package stopwords is already up-to-date!\n",
      "[nltk_data] Downloading package punkt to /home/jovyan/nltk_data...\n",
      "[nltk_data]   Package punkt is already up-to-date!\n"
     ]
    }
   ],
   "source": [
    "#подключим необходимые библиотеки\n",
    "import numpy as np\n",
    "import pandas as pd\n",
    "import nltk\n",
    "from nltk.corpus import stopwords\n",
    "import nltk\n",
    "nltk.download('stopwords')\n",
    "from nltk.corpus import stopwords as nltk_stopwords\n",
    "from sklearn.feature_extraction.text import TfidfVectorizer\n",
    "from sklearn.linear_model import LogisticRegression\n",
    "from sklearn.metrics import f1_score\n",
    "from sklearn.model_selection import train_test_split\n",
    "import warnings\n",
    "warnings.filterwarnings('ignore')\n",
    "from sklearn.feature_extraction.text import CountVectorizer \n",
    "import nltk\n",
    "nltk.download('punkt')\n",
    "from nltk.tokenize import word_tokenize\n",
    "from nltk.stem import WordNetLemmatizer\n",
    "from sklearn.metrics import f1_score\n",
    "from sklearn.ensemble import RandomForestClassifier\n",
    "from sklearn.naive_bayes import MultinomialNB\n",
    "from sklearn.model_selection import GridSearchCV\n",
    "from sklearn.tree import DecisionTreeClassifier\n",
    "from sklearn.ensemble import GradientBoostingClassifier\n",
    "from sklearn.model_selection import TimeSeriesSplit, cross_val_score\n",
    "from catboost import CatBoostClassifier"
   ]
  },
  {
   "cell_type": "code",
   "execution_count": 2,
   "metadata": {},
   "outputs": [],
   "source": [
    "#загрузим данные\n",
    "df = pd.read_csv('/datasets/toxic_comments.csv')"
   ]
  },
  {
   "cell_type": "code",
   "execution_count": 3,
   "metadata": {},
   "outputs": [
    {
     "data": {
      "text/html": [
       "<div>\n",
       "<style scoped>\n",
       "    .dataframe tbody tr th:only-of-type {\n",
       "        vertical-align: middle;\n",
       "    }\n",
       "\n",
       "    .dataframe tbody tr th {\n",
       "        vertical-align: top;\n",
       "    }\n",
       "\n",
       "    .dataframe thead th {\n",
       "        text-align: right;\n",
       "    }\n",
       "</style>\n",
       "<table border=\"1\" class=\"dataframe\">\n",
       "  <thead>\n",
       "    <tr style=\"text-align: right;\">\n",
       "      <th></th>\n",
       "      <th>Unnamed: 0</th>\n",
       "      <th>text</th>\n",
       "      <th>toxic</th>\n",
       "    </tr>\n",
       "  </thead>\n",
       "  <tbody>\n",
       "    <tr>\n",
       "      <th>0</th>\n",
       "      <td>0</td>\n",
       "      <td>Explanation\\nWhy the edits made under my usern...</td>\n",
       "      <td>0</td>\n",
       "    </tr>\n",
       "    <tr>\n",
       "      <th>1</th>\n",
       "      <td>1</td>\n",
       "      <td>D'aww! He matches this background colour I'm s...</td>\n",
       "      <td>0</td>\n",
       "    </tr>\n",
       "    <tr>\n",
       "      <th>2</th>\n",
       "      <td>2</td>\n",
       "      <td>Hey man, I'm really not trying to edit war. It...</td>\n",
       "      <td>0</td>\n",
       "    </tr>\n",
       "    <tr>\n",
       "      <th>3</th>\n",
       "      <td>3</td>\n",
       "      <td>\"\\nMore\\nI can't make any real suggestions on ...</td>\n",
       "      <td>0</td>\n",
       "    </tr>\n",
       "    <tr>\n",
       "      <th>4</th>\n",
       "      <td>4</td>\n",
       "      <td>You, sir, are my hero. Any chance you remember...</td>\n",
       "      <td>0</td>\n",
       "    </tr>\n",
       "  </tbody>\n",
       "</table>\n",
       "</div>"
      ],
      "text/plain": [
       "   Unnamed: 0                                               text  toxic\n",
       "0           0  Explanation\\nWhy the edits made under my usern...      0\n",
       "1           1  D'aww! He matches this background colour I'm s...      0\n",
       "2           2  Hey man, I'm really not trying to edit war. It...      0\n",
       "3           3  \"\\nMore\\nI can't make any real suggestions on ...      0\n",
       "4           4  You, sir, are my hero. Any chance you remember...      0"
      ]
     },
     "execution_count": 3,
     "metadata": {},
     "output_type": "execute_result"
    }
   ],
   "source": [
    "#посмотрим первые пять строк датасета\n",
    "df.head(5)"
   ]
  },
  {
   "cell_type": "code",
   "execution_count": 4,
   "metadata": {},
   "outputs": [
    {
     "name": "stdout",
     "output_type": "stream",
     "text": [
      "<class 'pandas.core.frame.DataFrame'>\n",
      "RangeIndex: 159292 entries, 0 to 159291\n",
      "Data columns (total 3 columns):\n",
      " #   Column      Non-Null Count   Dtype \n",
      "---  ------      --------------   ----- \n",
      " 0   Unnamed: 0  159292 non-null  int64 \n",
      " 1   text        159292 non-null  object\n",
      " 2   toxic       159292 non-null  int64 \n",
      "dtypes: int64(2), object(1)\n",
      "memory usage: 3.6+ MB\n"
     ]
    }
   ],
   "source": [
    "#посмотрим общую информацию о данных\n",
    "df.info()"
   ]
  },
  {
   "cell_type": "code",
   "execution_count": 5,
   "metadata": {},
   "outputs": [
    {
     "data": {
      "text/plain": [
       "0"
      ]
     },
     "execution_count": 5,
     "metadata": {},
     "output_type": "execute_result"
    }
   ],
   "source": [
    "#поиск явных дубликатов\n",
    "df.duplicated().sum()"
   ]
  },
  {
   "cell_type": "code",
   "execution_count": 6,
   "metadata": {},
   "outputs": [
    {
     "data": {
      "text/plain": [
       "Unnamed: 0    0\n",
       "text          0\n",
       "toxic         0\n",
       "dtype: int64"
      ]
     },
     "execution_count": 6,
     "metadata": {},
     "output_type": "execute_result"
    }
   ],
   "source": [
    "#посмотрим сколько суммарно имеется прощенных значений по каждому столбцу\n",
    "df.isna().sum()"
   ]
  },
  {
   "cell_type": "code",
   "execution_count": 7,
   "metadata": {},
   "outputs": [
    {
     "data": {
      "text/plain": [
       "(159292, 3)"
      ]
     },
     "execution_count": 7,
     "metadata": {},
     "output_type": "execute_result"
    }
   ],
   "source": [
    "#посмотрим размер датасета\n",
    "df.shape"
   ]
  },
  {
   "cell_type": "code",
   "execution_count": 8,
   "metadata": {},
   "outputs": [
    {
     "name": "stdout",
     "output_type": "stream",
     "text": [
      "0    143106\n",
      "1     16186\n",
      "Name: toxic, dtype: int64\n"
     ]
    }
   ],
   "source": [
    "class_counts = df['toxic'].value_counts()\n",
    "print(class_counts)"
   ]
  },
  {
   "cell_type": "code",
   "execution_count": 9,
   "metadata": {},
   "outputs": [
    {
     "data": {
      "text/html": [
       "<div>\n",
       "<style scoped>\n",
       "    .dataframe tbody tr th:only-of-type {\n",
       "        vertical-align: middle;\n",
       "    }\n",
       "\n",
       "    .dataframe tbody tr th {\n",
       "        vertical-align: top;\n",
       "    }\n",
       "\n",
       "    .dataframe thead th {\n",
       "        text-align: right;\n",
       "    }\n",
       "</style>\n",
       "<table border=\"1\" class=\"dataframe\">\n",
       "  <thead>\n",
       "    <tr style=\"text-align: right;\">\n",
       "      <th></th>\n",
       "      <th>Unnamed: 0</th>\n",
       "      <th>text</th>\n",
       "      <th>toxic</th>\n",
       "    </tr>\n",
       "  </thead>\n",
       "  <tbody>\n",
       "    <tr>\n",
       "      <th>0</th>\n",
       "      <td>0</td>\n",
       "      <td>Explanation\\nWhy the edits made under my usern...</td>\n",
       "      <td>0</td>\n",
       "    </tr>\n",
       "    <tr>\n",
       "      <th>1</th>\n",
       "      <td>1</td>\n",
       "      <td>D'aww! He matches this background colour I'm s...</td>\n",
       "      <td>0</td>\n",
       "    </tr>\n",
       "    <tr>\n",
       "      <th>2</th>\n",
       "      <td>2</td>\n",
       "      <td>Hey man, I'm really not trying to edit war. It...</td>\n",
       "      <td>0</td>\n",
       "    </tr>\n",
       "    <tr>\n",
       "      <th>3</th>\n",
       "      <td>3</td>\n",
       "      <td>\"\\nMore\\nI can't make any real suggestions on ...</td>\n",
       "      <td>0</td>\n",
       "    </tr>\n",
       "    <tr>\n",
       "      <th>4</th>\n",
       "      <td>4</td>\n",
       "      <td>You, sir, are my hero. Any chance you remember...</td>\n",
       "      <td>0</td>\n",
       "    </tr>\n",
       "  </tbody>\n",
       "</table>\n",
       "</div>"
      ],
      "text/plain": [
       "   Unnamed: 0                                               text  toxic\n",
       "0           0  Explanation\\nWhy the edits made under my usern...      0\n",
       "1           1  D'aww! He matches this background colour I'm s...      0\n",
       "2           2  Hey man, I'm really not trying to edit war. It...      0\n",
       "3           3  \"\\nMore\\nI can't make any real suggestions on ...      0\n",
       "4           4  You, sir, are my hero. Any chance you remember...      0"
      ]
     },
     "execution_count": 9,
     "metadata": {},
     "output_type": "execute_result"
    }
   ],
   "source": [
    "df.head()"
   ]
  },
  {
   "cell_type": "code",
   "execution_count": 10,
   "metadata": {},
   "outputs": [],
   "source": [
    "#переведем текст в нижний регистр\n",
    "df['text'] = df['text'].apply(lambda x: x.lower())"
   ]
  },
  {
   "cell_type": "code",
   "execution_count": 11,
   "metadata": {},
   "outputs": [],
   "source": [
    "#уберем из датасета лишние символы\n",
    "import re\n",
    "corpus = list(df['text'])\n",
    "\n",
    "def clear_text(text):\n",
    "    text=re.sub(r'[^a-zA-Z ]', ' ', text) \n",
    "    text = re.sub(r'\\s+', ' ', text)  # Замена последовательностей пробелов на один пробел\n",
    "    text = text.strip()\n",
    "    text=\" \".join(text.split())\n",
    "    return text"
   ]
  },
  {
   "cell_type": "code",
   "execution_count": 13,
   "metadata": {},
   "outputs": [],
   "source": [
    "df['clear_text'] = df['text'].apply(clear_text)"
   ]
  },
  {
   "cell_type": "code",
   "execution_count": 14,
   "metadata": {},
   "outputs": [
    {
     "name": "stderr",
     "output_type": "stream",
     "text": [
      "[nltk_data] Downloading package averaged_perceptron_tagger to\n",
      "[nltk_data]     /home/jovyan/nltk_data...\n",
      "[nltk_data]   Package averaged_perceptron_tagger is already up-to-\n",
      "[nltk_data]       date!\n",
      "[nltk_data] Downloading package wordnet to /home/jovyan/nltk_data...\n",
      "[nltk_data]   Package wordnet is already up-to-date!\n"
     ]
    }
   ],
   "source": [
    "from tqdm.notebook import tqdm\n",
    "tqdm.pandas()\n",
    "# Устанавливаем необходимые компоненты NLTK\n",
    "nltk.download('averaged_perceptron_tagger')\n",
    "nltk.download('wordnet')\n",
    "from nltk import pos_tag"
   ]
  },
  {
   "cell_type": "code",
   "execution_count": 15,
   "metadata": {},
   "outputs": [],
   "source": [
    "wnl = WordNetLemmatizer()\n",
    "\n",
    "def penn2morphy(penntag):\n",
    "    \"\"\" Converts Penn Treebank tags to WordNet. \"\"\"\n",
    "    morphy_tag = {'NN':'n', 'JJ':'a', 'VB':'v', 'RB':'r'}\n",
    "    try:\n",
    "        return morphy_tag[penntag[:2]]\n",
    "    except:\n",
    "        return 'n' "
   ]
  },
  {
   "cell_type": "code",
   "execution_count": 16,
   "metadata": {},
   "outputs": [
    {
     "name": "stderr",
     "output_type": "stream",
     "text": [
      "[nltk_data] Downloading package averaged_perceptron_tagger to\n",
      "[nltk_data]     /home/jovyan/nltk_data...\n",
      "[nltk_data]   Package averaged_perceptron_tagger is already up-to-\n",
      "[nltk_data]       date!\n"
     ]
    },
    {
     "data": {
      "text/plain": [
       "True"
      ]
     },
     "execution_count": 16,
     "metadata": {},
     "output_type": "execute_result"
    }
   ],
   "source": [
    "from nltk import pos_tag, word_tokenize\n",
    "nltk.download('averaged_perceptron_tagger')"
   ]
  },
  {
   "cell_type": "code",
   "execution_count": 21,
   "metadata": {},
   "outputs": [
    {
     "name": "stdout",
     "output_type": "stream",
     "text": [
      "CPU times: user 8min 58s, sys: 5.29 s, total: 9min 4s\n",
      "Wall time: 9min 4s\n"
     ]
    }
   ],
   "source": [
    "%%time\n",
    "def lemmatize_sent(text): \n",
    "    # Text input is string, returns lowercased strings.\n",
    "    return [wnl.lemmatize(word.lower(), pos=penn2morphy(tag)) \n",
    "            for word, tag in pos_tag(word_tokenize(text))]\n",
    "\n",
    "# Применяем функцию lemmatize_sent к столбцу с текстом в вашем датасете\n",
    "df['lemmatized_text'] = df['clear_text'].apply(lemmatize_sent)"
   ]
  },
  {
   "cell_type": "code",
   "execution_count": 22,
   "metadata": {},
   "outputs": [
    {
     "name": "stdout",
     "output_type": "stream",
     "text": [
      "Original Text: explanation\n",
      "why the edits made under my username hardcore metallica fan were reverted? they weren't vandalisms, just closure on some gas after i voted at new york dolls fac. and please don't remove the template from the talk page since i'm retired now.89.205.38.27\n",
      "Lemmatized Text: ['explanation', 'why', 'the', 'edits', 'make', 'under', 'my', 'username', 'hardcore', 'metallica', 'fan', 'be', 'revert', 'they', 'weren', 't', 'vandalism', 'just', 'closure', 'on', 'some', 'gas', 'after', 'i', 'vote', 'at', 'new', 'york', 'doll', 'fac', 'and', 'please', 'don', 't', 'remove', 'the', 'template', 'from', 'the', 'talk', 'page', 'since', 'i', 'm', 'retire', 'now']\n",
      "---\n",
      "Original Text: d'aww! he matches this background colour i'm seemingly stuck with. thanks.  (talk) 21:51, january 11, 2016 (utc)\n",
      "Lemmatized Text: ['d', 'aww', 'he', 'match', 'this', 'background', 'colour', 'i', 'm', 'seemingly', 'stick', 'with', 'thanks', 'talk', 'january', 'utc']\n",
      "---\n",
      "Original Text: hey man, i'm really not trying to edit war. it's just that this guy is constantly removing relevant information and talking to me through edits instead of my talk page. he seems to care more about the formatting than the actual info.\n",
      "Lemmatized Text: ['hey', 'man', 'i', 'm', 'really', 'not', 'try', 'to', 'edit', 'war', 'it', 's', 'just', 'that', 'this', 'guy', 'be', 'constantly', 'remove', 'relevant', 'information', 'and', 'talk', 'to', 'me', 'through', 'edits', 'instead', 'of', 'my', 'talk', 'page', 'he', 'seem', 'to', 'care', 'more', 'about', 'the', 'formatting', 'than', 'the', 'actual', 'info']\n",
      "---\n",
      "Original Text: \"\n",
      "more\n",
      "i can't make any real suggestions on improvement - i wondered if the section statistics should be later on, or a subsection of \"\"types of accidents\"\"  -i think the references may need tidying so that they are all in the exact same format ie date format etc. i can do that later on, if no-one else does first - if you have any preferences for formatting style on references or want to do it yourself please let me know.\n",
      "\n",
      "there appears to be a backlog on articles for review so i guess there may be a delay until a reviewer turns up. it's listed in the relevant form eg wikipedia:good_article_nominations#transport  \"\n",
      "Lemmatized Text: ['more', 'i', 'can', 't', 'make', 'any', 'real', 'suggestion', 'on', 'improvement', 'i', 'wonder', 'if', 'the', 'section', 'statistic', 'should', 'be', 'later', 'on', 'or', 'a', 'subsection', 'of', 'type', 'of', 'accident', 'i', 'think', 'the', 'reference', 'may', 'need', 'tidy', 'so', 'that', 'they', 'be', 'all', 'in', 'the', 'exact', 'same', 'format', 'ie', 'date', 'format', 'etc', 'i', 'can', 'do', 'that', 'later', 'on', 'if', 'no', 'one', 'else', 'do', 'first', 'if', 'you', 'have', 'any', 'preference', 'for', 'format', 'style', 'on', 'reference', 'or', 'want', 'to', 'do', 'it', 'yourself', 'please', 'let', 'me', 'know', 'there', 'appear', 'to', 'be', 'a', 'backlog', 'on', 'article', 'for', 'review', 'so', 'i', 'guess', 'there', 'may', 'be', 'a', 'delay', 'until', 'a', 'reviewer', 'turn', 'up', 'it', 's', 'list', 'in', 'the', 'relevant', 'form', 'eg', 'wikipedia', 'good', 'article', 'nomination', 'transport']\n",
      "---\n",
      "Original Text: you, sir, are my hero. any chance you remember what page that's on?\n",
      "Lemmatized Text: ['you', 'sir', 'be', 'my', 'hero', 'any', 'chance', 'you', 'remember', 'what', 'page', 'that', 's', 'on']\n",
      "---\n"
     ]
    }
   ],
   "source": [
    "# Выводим примеры лемматизированных текстовых данных\n",
    "for i in range(5):\n",
    "    print('Original Text:', df['text'][i])\n",
    "    print('Lemmatized Text:', df['lemmatized_text'][i])\n",
    "    print('---')"
   ]
  },
  {
   "cell_type": "code",
   "execution_count": 23,
   "metadata": {},
   "outputs": [
    {
     "data": {
      "text/html": [
       "<div>\n",
       "<style scoped>\n",
       "    .dataframe tbody tr th:only-of-type {\n",
       "        vertical-align: middle;\n",
       "    }\n",
       "\n",
       "    .dataframe tbody tr th {\n",
       "        vertical-align: top;\n",
       "    }\n",
       "\n",
       "    .dataframe thead th {\n",
       "        text-align: right;\n",
       "    }\n",
       "</style>\n",
       "<table border=\"1\" class=\"dataframe\">\n",
       "  <thead>\n",
       "    <tr style=\"text-align: right;\">\n",
       "      <th></th>\n",
       "      <th>Unnamed: 0</th>\n",
       "      <th>text</th>\n",
       "      <th>toxic</th>\n",
       "      <th>clear_text</th>\n",
       "      <th>lemmatized_text</th>\n",
       "    </tr>\n",
       "  </thead>\n",
       "  <tbody>\n",
       "    <tr>\n",
       "      <th>0</th>\n",
       "      <td>0</td>\n",
       "      <td>explanation\\nwhy the edits made under my usern...</td>\n",
       "      <td>0</td>\n",
       "      <td>explanation why the edits made under my userna...</td>\n",
       "      <td>[explanation, why, the, edits, make, under, my...</td>\n",
       "    </tr>\n",
       "    <tr>\n",
       "      <th>1</th>\n",
       "      <td>1</td>\n",
       "      <td>d'aww! he matches this background colour i'm s...</td>\n",
       "      <td>0</td>\n",
       "      <td>d aww he matches this background colour i m se...</td>\n",
       "      <td>[d, aww, he, match, this, background, colour, ...</td>\n",
       "    </tr>\n",
       "    <tr>\n",
       "      <th>2</th>\n",
       "      <td>2</td>\n",
       "      <td>hey man, i'm really not trying to edit war. it...</td>\n",
       "      <td>0</td>\n",
       "      <td>hey man i m really not trying to edit war it s...</td>\n",
       "      <td>[hey, man, i, m, really, not, try, to, edit, w...</td>\n",
       "    </tr>\n",
       "    <tr>\n",
       "      <th>3</th>\n",
       "      <td>3</td>\n",
       "      <td>\"\\nmore\\ni can't make any real suggestions on ...</td>\n",
       "      <td>0</td>\n",
       "      <td>more i can t make any real suggestions on impr...</td>\n",
       "      <td>[more, i, can, t, make, any, real, suggestion,...</td>\n",
       "    </tr>\n",
       "    <tr>\n",
       "      <th>4</th>\n",
       "      <td>4</td>\n",
       "      <td>you, sir, are my hero. any chance you remember...</td>\n",
       "      <td>0</td>\n",
       "      <td>you sir are my hero any chance you remember wh...</td>\n",
       "      <td>[you, sir, be, my, hero, any, chance, you, rem...</td>\n",
       "    </tr>\n",
       "  </tbody>\n",
       "</table>\n",
       "</div>"
      ],
      "text/plain": [
       "   Unnamed: 0                                               text  toxic  \\\n",
       "0           0  explanation\\nwhy the edits made under my usern...      0   \n",
       "1           1  d'aww! he matches this background colour i'm s...      0   \n",
       "2           2  hey man, i'm really not trying to edit war. it...      0   \n",
       "3           3  \"\\nmore\\ni can't make any real suggestions on ...      0   \n",
       "4           4  you, sir, are my hero. any chance you remember...      0   \n",
       "\n",
       "                                          clear_text  \\\n",
       "0  explanation why the edits made under my userna...   \n",
       "1  d aww he matches this background colour i m se...   \n",
       "2  hey man i m really not trying to edit war it s...   \n",
       "3  more i can t make any real suggestions on impr...   \n",
       "4  you sir are my hero any chance you remember wh...   \n",
       "\n",
       "                                     lemmatized_text  \n",
       "0  [explanation, why, the, edits, make, under, my...  \n",
       "1  [d, aww, he, match, this, background, colour, ...  \n",
       "2  [hey, man, i, m, really, not, try, to, edit, w...  \n",
       "3  [more, i, can, t, make, any, real, suggestion,...  \n",
       "4  [you, sir, be, my, hero, any, chance, you, rem...  "
      ]
     },
     "execution_count": 23,
     "metadata": {},
     "output_type": "execute_result"
    }
   ],
   "source": [
    "df.head()"
   ]
  },
  {
   "cell_type": "code",
   "execution_count": 24,
   "metadata": {},
   "outputs": [
    {
     "data": {
      "text/html": [
       "<div>\n",
       "<style scoped>\n",
       "    .dataframe tbody tr th:only-of-type {\n",
       "        vertical-align: middle;\n",
       "    }\n",
       "\n",
       "    .dataframe tbody tr th {\n",
       "        vertical-align: top;\n",
       "    }\n",
       "\n",
       "    .dataframe thead th {\n",
       "        text-align: right;\n",
       "    }\n",
       "</style>\n",
       "<table border=\"1\" class=\"dataframe\">\n",
       "  <thead>\n",
       "    <tr style=\"text-align: right;\">\n",
       "      <th></th>\n",
       "      <th>Unnamed: 0</th>\n",
       "      <th>text</th>\n",
       "      <th>toxic</th>\n",
       "      <th>clear_text</th>\n",
       "      <th>lemmatized_text</th>\n",
       "    </tr>\n",
       "  </thead>\n",
       "  <tbody>\n",
       "    <tr>\n",
       "      <th>0</th>\n",
       "      <td>0</td>\n",
       "      <td>explanation\\nwhy the edits made under my usern...</td>\n",
       "      <td>0</td>\n",
       "      <td>explanation why the edits made under my userna...</td>\n",
       "      <td>[explanation, why, the, edits, make, under, my...</td>\n",
       "    </tr>\n",
       "    <tr>\n",
       "      <th>1</th>\n",
       "      <td>1</td>\n",
       "      <td>d'aww! he matches this background colour i'm s...</td>\n",
       "      <td>0</td>\n",
       "      <td>d aww he matches this background colour i m se...</td>\n",
       "      <td>[d, aww, he, match, this, background, colour, ...</td>\n",
       "    </tr>\n",
       "    <tr>\n",
       "      <th>2</th>\n",
       "      <td>2</td>\n",
       "      <td>hey man, i'm really not trying to edit war. it...</td>\n",
       "      <td>0</td>\n",
       "      <td>hey man i m really not trying to edit war it s...</td>\n",
       "      <td>[hey, man, i, m, really, not, try, to, edit, w...</td>\n",
       "    </tr>\n",
       "    <tr>\n",
       "      <th>3</th>\n",
       "      <td>3</td>\n",
       "      <td>\"\\nmore\\ni can't make any real suggestions on ...</td>\n",
       "      <td>0</td>\n",
       "      <td>more i can t make any real suggestions on impr...</td>\n",
       "      <td>[more, i, can, t, make, any, real, suggestion,...</td>\n",
       "    </tr>\n",
       "    <tr>\n",
       "      <th>4</th>\n",
       "      <td>4</td>\n",
       "      <td>you, sir, are my hero. any chance you remember...</td>\n",
       "      <td>0</td>\n",
       "      <td>you sir are my hero any chance you remember wh...</td>\n",
       "      <td>[you, sir, be, my, hero, any, chance, you, rem...</td>\n",
       "    </tr>\n",
       "  </tbody>\n",
       "</table>\n",
       "</div>"
      ],
      "text/plain": [
       "   Unnamed: 0                                               text  toxic  \\\n",
       "0           0  explanation\\nwhy the edits made under my usern...      0   \n",
       "1           1  d'aww! he matches this background colour i'm s...      0   \n",
       "2           2  hey man, i'm really not trying to edit war. it...      0   \n",
       "3           3  \"\\nmore\\ni can't make any real suggestions on ...      0   \n",
       "4           4  you, sir, are my hero. any chance you remember...      0   \n",
       "\n",
       "                                          clear_text  \\\n",
       "0  explanation why the edits made under my userna...   \n",
       "1  d aww he matches this background colour i m se...   \n",
       "2  hey man i m really not trying to edit war it s...   \n",
       "3  more i can t make any real suggestions on impr...   \n",
       "4  you sir are my hero any chance you remember wh...   \n",
       "\n",
       "                                     lemmatized_text  \n",
       "0  [explanation, why, the, edits, make, under, my...  \n",
       "1  [d, aww, he, match, this, background, colour, ...  \n",
       "2  [hey, man, i, m, really, not, try, to, edit, w...  \n",
       "3  [more, i, can, t, make, any, real, suggestion,...  \n",
       "4  [you, sir, be, my, hero, any, chance, you, rem...  "
      ]
     },
     "execution_count": 24,
     "metadata": {},
     "output_type": "execute_result"
    }
   ],
   "source": [
    "df.head()"
   ]
  },
  {
   "cell_type": "code",
   "execution_count": 25,
   "metadata": {},
   "outputs": [],
   "source": [
    "df=df.drop('Unnamed: 0',axis=1)"
   ]
  },
  {
   "cell_type": "markdown",
   "metadata": {},
   "source": [
    "Вывод \n",
    "\n",
    "Датасет имеет 159 292 строк и 3 столбца.\n",
    "\n",
    "Пропуски в данных отсутствуют. Форматы данных корректные.\n",
    "\n",
    "Дубликатов не имеется.\n",
    "\n",
    "Проведена лемматизация и очиста текстовых данных от символов\n",
    "\n",
    "Удален не информативный столбец Unnamed: 0\n"
   ]
  },
  {
   "cell_type": "markdown",
   "metadata": {},
   "source": [
    "## Обучение"
   ]
  },
  {
   "cell_type": "code",
   "execution_count": 47,
   "metadata": {},
   "outputs": [
    {
     "data": {
      "text/html": [
       "<div>\n",
       "<style scoped>\n",
       "    .dataframe tbody tr th:only-of-type {\n",
       "        vertical-align: middle;\n",
       "    }\n",
       "\n",
       "    .dataframe tbody tr th {\n",
       "        vertical-align: top;\n",
       "    }\n",
       "\n",
       "    .dataframe thead th {\n",
       "        text-align: right;\n",
       "    }\n",
       "</style>\n",
       "<table border=\"1\" class=\"dataframe\">\n",
       "  <thead>\n",
       "    <tr style=\"text-align: right;\">\n",
       "      <th></th>\n",
       "      <th>text</th>\n",
       "      <th>toxic</th>\n",
       "      <th>clear_text</th>\n",
       "      <th>lemmatized_text</th>\n",
       "    </tr>\n",
       "  </thead>\n",
       "  <tbody>\n",
       "    <tr>\n",
       "      <th>0</th>\n",
       "      <td>explanation\\nwhy the edits made under my usern...</td>\n",
       "      <td>0</td>\n",
       "      <td>explanation why the edits made under my userna...</td>\n",
       "      <td>[explanation, why, the, edits, make, under, my...</td>\n",
       "    </tr>\n",
       "    <tr>\n",
       "      <th>1</th>\n",
       "      <td>d'aww! he matches this background colour i'm s...</td>\n",
       "      <td>0</td>\n",
       "      <td>d aww he matches this background colour i m se...</td>\n",
       "      <td>[d, aww, he, match, this, background, colour, ...</td>\n",
       "    </tr>\n",
       "    <tr>\n",
       "      <th>2</th>\n",
       "      <td>hey man, i'm really not trying to edit war. it...</td>\n",
       "      <td>0</td>\n",
       "      <td>hey man i m really not trying to edit war it s...</td>\n",
       "      <td>[hey, man, i, m, really, not, try, to, edit, w...</td>\n",
       "    </tr>\n",
       "    <tr>\n",
       "      <th>3</th>\n",
       "      <td>\"\\nmore\\ni can't make any real suggestions on ...</td>\n",
       "      <td>0</td>\n",
       "      <td>more i can t make any real suggestions on impr...</td>\n",
       "      <td>[more, i, can, t, make, any, real, suggestion,...</td>\n",
       "    </tr>\n",
       "    <tr>\n",
       "      <th>4</th>\n",
       "      <td>you, sir, are my hero. any chance you remember...</td>\n",
       "      <td>0</td>\n",
       "      <td>you sir are my hero any chance you remember wh...</td>\n",
       "      <td>[you, sir, be, my, hero, any, chance, you, rem...</td>\n",
       "    </tr>\n",
       "  </tbody>\n",
       "</table>\n",
       "</div>"
      ],
      "text/plain": [
       "                                                text  toxic  \\\n",
       "0  explanation\\nwhy the edits made under my usern...      0   \n",
       "1  d'aww! he matches this background colour i'm s...      0   \n",
       "2  hey man, i'm really not trying to edit war. it...      0   \n",
       "3  \"\\nmore\\ni can't make any real suggestions on ...      0   \n",
       "4  you, sir, are my hero. any chance you remember...      0   \n",
       "\n",
       "                                          clear_text  \\\n",
       "0  explanation why the edits made under my userna...   \n",
       "1  d aww he matches this background colour i m se...   \n",
       "2  hey man i m really not trying to edit war it s...   \n",
       "3  more i can t make any real suggestions on impr...   \n",
       "4  you sir are my hero any chance you remember wh...   \n",
       "\n",
       "                                     lemmatized_text  \n",
       "0  [explanation, why, the, edits, make, under, my...  \n",
       "1  [d, aww, he, match, this, background, colour, ...  \n",
       "2  [hey, man, i, m, really, not, try, to, edit, w...  \n",
       "3  [more, i, can, t, make, any, real, suggestion,...  \n",
       "4  [you, sir, be, my, hero, any, chance, you, rem...  "
      ]
     },
     "execution_count": 47,
     "metadata": {},
     "output_type": "execute_result"
    }
   ],
   "source": [
    "df.head()"
   ]
  },
  {
   "cell_type": "code",
   "execution_count": 48,
   "metadata": {},
   "outputs": [],
   "source": [
    "#разделим датасет\n",
    "train_data, test_valid_data = train_test_split(df, test_size=0.5, random_state=42)\n",
    "valid_data, test_data = train_test_split(test_valid_data, test_size=0.5, random_state=42)"
   ]
  },
  {
   "cell_type": "code",
   "execution_count": 49,
   "metadata": {},
   "outputs": [
    {
     "data": {
      "text/html": [
       "<div>\n",
       "<style scoped>\n",
       "    .dataframe tbody tr th:only-of-type {\n",
       "        vertical-align: middle;\n",
       "    }\n",
       "\n",
       "    .dataframe tbody tr th {\n",
       "        vertical-align: top;\n",
       "    }\n",
       "\n",
       "    .dataframe thead th {\n",
       "        text-align: right;\n",
       "    }\n",
       "</style>\n",
       "<table border=\"1\" class=\"dataframe\">\n",
       "  <thead>\n",
       "    <tr style=\"text-align: right;\">\n",
       "      <th></th>\n",
       "      <th>text</th>\n",
       "      <th>toxic</th>\n",
       "      <th>clear_text</th>\n",
       "      <th>lemmatized_text</th>\n",
       "    </tr>\n",
       "  </thead>\n",
       "  <tbody>\n",
       "    <tr>\n",
       "      <th>58623</th>\n",
       "      <td>january 2009 \\n\\nfine then. i'll stop.</td>\n",
       "      <td>0</td>\n",
       "      <td>january fine then i ll stop</td>\n",
       "      <td>[january, fine, then, i, ll, stop]</td>\n",
       "    </tr>\n",
       "    <tr>\n",
       "      <th>147333</th>\n",
       "      <td>noteable under point 5 of the academic notabil...</td>\n",
       "      <td>0</td>\n",
       "      <td>noteable under point of the academic notabilit...</td>\n",
       "      <td>[noteable, under, point, of, the, academic, no...</td>\n",
       "    </tr>\n",
       "    <tr>\n",
       "      <th>69872</th>\n",
       "      <td>\"here is the only thing i can find regarding u...</td>\n",
       "      <td>0</td>\n",
       "      <td>here is the only thing i can find regarding us...</td>\n",
       "      <td>[here, be, the, only, thing, i, can, find, reg...</td>\n",
       "    </tr>\n",
       "    <tr>\n",
       "      <th>1552</th>\n",
       "      <td>\" 2005 (utc)\\n\\nthe npov tag has been restored...</td>\n",
       "      <td>0</td>\n",
       "      <td>utc the npov tag has been restored because of ...</td>\n",
       "      <td>[utc, the, npov, tag, have, be, restore, becau...</td>\n",
       "    </tr>\n",
       "    <tr>\n",
       "      <th>29797</th>\n",
       "      <td>i dont, however gun powder ma, would you mind ...</td>\n",
       "      <td>0</td>\n",
       "      <td>i dont however gun powder ma would you mind st...</td>\n",
       "      <td>[i, dont, however, gun, powder, ma, would, you...</td>\n",
       "    </tr>\n",
       "  </tbody>\n",
       "</table>\n",
       "</div>"
      ],
      "text/plain": [
       "                                                     text  toxic  \\\n",
       "58623              january 2009 \\n\\nfine then. i'll stop.      0   \n",
       "147333  noteable under point 5 of the academic notabil...      0   \n",
       "69872   \"here is the only thing i can find regarding u...      0   \n",
       "1552    \" 2005 (utc)\\n\\nthe npov tag has been restored...      0   \n",
       "29797   i dont, however gun powder ma, would you mind ...      0   \n",
       "\n",
       "                                               clear_text  \\\n",
       "58623                         january fine then i ll stop   \n",
       "147333  noteable under point of the academic notabilit...   \n",
       "69872   here is the only thing i can find regarding us...   \n",
       "1552    utc the npov tag has been restored because of ...   \n",
       "29797   i dont however gun powder ma would you mind st...   \n",
       "\n",
       "                                          lemmatized_text  \n",
       "58623                  [january, fine, then, i, ll, stop]  \n",
       "147333  [noteable, under, point, of, the, academic, no...  \n",
       "69872   [here, be, the, only, thing, i, can, find, reg...  \n",
       "1552    [utc, the, npov, tag, have, be, restore, becau...  \n",
       "29797   [i, dont, however, gun, powder, ma, would, you...  "
      ]
     },
     "execution_count": 49,
     "metadata": {},
     "output_type": "execute_result"
    }
   ],
   "source": [
    "train_data.head()"
   ]
  },
  {
   "cell_type": "code",
   "execution_count": 50,
   "metadata": {
    "scrolled": true
   },
   "outputs": [],
   "source": [
    "# Объединяем список лемматизированных слов в строку\n",
    "train_data['lemmatized_text'] = train_data['lemmatized_text'].apply(lambda x: ' '.join(x))\n",
    "\n",
    "# Создаем векторизатор\n",
    "vectorizer = TfidfVectorizer(stop_words=set(nltk_stopwords.words('english')))\n",
    "\n",
    "# Обучаем векторизатор и преобразуем тексты в числовые векторы\n",
    "X_train = vectorizer.fit_transform(train_data['lemmatized_text'])\n",
    "y_train = train_data['toxic']"
   ]
  },
  {
   "cell_type": "code",
   "execution_count": 51,
   "metadata": {},
   "outputs": [],
   "source": [
    "test_data['lemmatized_text'] = test_data['lemmatized_text'].apply(lambda x: ' '.join(x))\n",
    "\n",
    "# Преобразуем тексты в векторы числовых значений\n",
    "X_test = vectorizer.transform(test_data['lemmatized_text'])\n",
    "y_test = test_data['toxic']"
   ]
  },
  {
   "cell_type": "code",
   "execution_count": 52,
   "metadata": {},
   "outputs": [],
   "source": [
    "valid_data['lemmatized_text'] = valid_data['lemmatized_text'].apply(lambda x: ' '.join(x))\n",
    "\n",
    "# Преобразуем тексты в векторы числовых значений\n",
    "X_valid = vectorizer.transform(valid_data['lemmatized_text'])\n",
    "y_valid = valid_data['toxic']"
   ]
  },
  {
   "cell_type": "markdown",
   "metadata": {},
   "source": [
    "Логистическая регресиия"
   ]
  },
  {
   "cell_type": "code",
   "execution_count": 58,
   "metadata": {},
   "outputs": [
    {
     "name": "stdout",
     "output_type": "stream",
     "text": [
      "Best C: 15\n",
      "Best Score: 0.7517730496453899\n"
     ]
    }
   ],
   "source": [
    "c_values = [5, 15]\n",
    "best_c = None\n",
    "best_score = 0.0\n",
    "\n",
    "for c in c_values:\n",
    "    model_lr = LogisticRegression(C=c, class_weight='balanced', random_state=42)\n",
    "    model_lr.fit(X_train, y_train)\n",
    "    y_pred = model_lr.predict(X_valid)\n",
    "    score = f1_score(y_valid, y_pred)\n",
    "    \n",
    "    if score > best_score:\n",
    "        best_score = score\n",
    "        best_c = c\n",
    "\n",
    "print(\"Best C:\", best_c)\n",
    "print(\"Best Score:\", best_score)"
   ]
  },
  {
   "cell_type": "markdown",
   "metadata": {},
   "source": [
    "DecisionTreeClassifier"
   ]
  },
  {
   "cell_type": "code",
   "execution_count": 55,
   "metadata": {},
   "outputs": [
    {
     "name": "stdout",
     "output_type": "stream",
     "text": [
      "F1 наилучшей модели на валидационной выборке: 0.7089103371100853\n",
      "Глубина: 101\n",
      "CPU times: user 3min 2s, sys: 141 ms, total: 3min 2s\n",
      "Wall time: 3min 2s\n"
     ]
    }
   ],
   "source": [
    "%%time\n",
    "#найдем наилучшую модели\n",
    "best_model = None\n",
    "best_result = 0\n",
    "best_depth = 0\n",
    "for depth in range(100, 105):\n",
    "\tmodel = DecisionTreeClassifier(random_state=12345, max_depth=depth) # обучим модель с заданной глубиной дерева\n",
    "\tmodel.fit(X_train, y_train) \n",
    "\tpredicted_valid = model.predict(X_valid) # получим предсказания модели\n",
    "    #расчитаем качество на валидационной выборке\n",
    "\tresult =  f1_score(y_valid, predicted_valid) # посчитаем качество модели\n",
    "\tif result > best_result:\n",
    "\t\tbest_model = model\n",
    "\t\tbest_result = result\n",
    "\t\tbest_depth = depth\n",
    "      \n",
    "print(\"F1 наилучшей модели на валидационной выборке:\", best_result)\n",
    "print(\"Глубина:\", best_depth)"
   ]
  },
  {
   "cell_type": "markdown",
   "metadata": {},
   "source": [
    "Catboost"
   ]
  },
  {
   "cell_type": "code",
   "execution_count": 66,
   "metadata": {},
   "outputs": [
    {
     "name": "stderr",
     "output_type": "stream",
     "text": [
      "Custom logger is already specified. Specify more than one logger at same time is not thread safe."
     ]
    },
    {
     "name": "stdout",
     "output_type": "stream",
     "text": [
      "Learning rate set to 0.5\n",
      "0:\tlearn: 0.3395394\ttotal: 2.07s\tremaining: 49.6s\n",
      "1:\tlearn: 0.2567778\ttotal: 4.26s\tremaining: 49s\n",
      "2:\tlearn: 0.2340780\ttotal: 6.43s\tremaining: 47.2s\n",
      "3:\tlearn: 0.2191258\ttotal: 8.61s\tremaining: 45.2s\n",
      "4:\tlearn: 0.2115982\ttotal: 10.8s\tremaining: 43.3s\n",
      "5:\tlearn: 0.2053518\ttotal: 13.2s\tremaining: 41.7s\n",
      "6:\tlearn: 0.1995245\ttotal: 15.4s\tremaining: 39.6s\n",
      "7:\tlearn: 0.1952661\ttotal: 17.6s\tremaining: 37.5s\n",
      "8:\tlearn: 0.1915371\ttotal: 20.1s\tremaining: 35.7s\n",
      "9:\tlearn: 0.1885124\ttotal: 22.5s\tremaining: 33.7s\n",
      "10:\tlearn: 0.1843611\ttotal: 24.8s\tremaining: 31.6s\n",
      "11:\tlearn: 0.1813306\ttotal: 27s\tremaining: 29.2s\n",
      "12:\tlearn: 0.1769573\ttotal: 29.2s\tremaining: 26.9s\n",
      "13:\tlearn: 0.1753038\ttotal: 31.4s\tremaining: 24.6s\n",
      "14:\tlearn: 0.1737402\ttotal: 33.5s\tremaining: 22.3s\n",
      "15:\tlearn: 0.1719130\ttotal: 35.7s\tremaining: 20.1s\n",
      "16:\tlearn: 0.1701668\ttotal: 37.8s\tremaining: 17.8s\n",
      "17:\tlearn: 0.1686278\ttotal: 39.8s\tremaining: 15.5s\n",
      "18:\tlearn: 0.1671408\ttotal: 41.9s\tremaining: 13.2s\n",
      "19:\tlearn: 0.1652802\ttotal: 43.9s\tremaining: 11s\n",
      "20:\tlearn: 0.1636843\ttotal: 46.1s\tremaining: 8.79s\n",
      "21:\tlearn: 0.1622175\ttotal: 48.2s\tremaining: 6.57s\n",
      "22:\tlearn: 0.1608293\ttotal: 50.3s\tremaining: 4.37s\n",
      "23:\tlearn: 0.1595406\ttotal: 52.4s\tremaining: 2.19s\n",
      "24:\tlearn: 0.1579717\ttotal: 54.5s\tremaining: 0us\n",
      "F1 CatBoost на валидационной выборке: 0.6801787424194065\n",
      "CPU times: user 58 s, sys: 14.3 s, total: 1min 12s\n",
      "Wall time: 1min 13s\n"
     ]
    }
   ],
   "source": [
    "%%time\n",
    "\n",
    "# Создаем объект модели\n",
    "model_cat=CatBoostClassifier(loss_function=\"Logloss\", iterations=25)\n",
    "\n",
    "# Обучаем модель на тренировочных данных\n",
    "model_cat.fit(X_train, y_train)\n",
    "\n",
    "# Делаем предсказания на тестовых данных\n",
    "y_pred = model_cat.predict(X_valid)\n",
    "\n",
    "f1 = f1_score(y_valid, y_pred)\n",
    "      \n",
    "print(\"F1 CatBoost на валидационной выборке:\", f1)"
   ]
  },
  {
   "cell_type": "markdown",
   "metadata": {},
   "source": [
    "Проверка на тесте"
   ]
  },
  {
   "cell_type": "code",
   "execution_count": 61,
   "metadata": {},
   "outputs": [
    {
     "name": "stdout",
     "output_type": "stream",
     "text": [
      "F1 score: 0.7531689329338557\n"
     ]
    }
   ],
   "source": [
    "y_pred = model_lr.predict(X_test)\n",
    "# вычисляем метрики качества на тестовых данных\n",
    "f1 = f1_score(y_test, y_pred)\n",
    "print(\"F1 score:\", f1)"
   ]
  },
  {
   "cell_type": "markdown",
   "metadata": {},
   "source": [
    "Проведена векторизация данных, тексты преобразованы в векторы числовых значений.\n",
    "\n",
    "Датасет разделен на обучающуюся и тестовую выборки.\n",
    "\n",
    "Модели обучены, наилучшая - модель линейной регрессии"
   ]
  },
  {
   "cell_type": "markdown",
   "metadata": {},
   "source": [
    "## Выводы"
   ]
  },
  {
   "cell_type": "markdown",
   "metadata": {},
   "source": [
    "Датасет имеет 159 292 строк и 3 столбца.\n",
    "\n",
    "Пропуски в данных отсутствуют. Форматы данных корректные.\n",
    "\n",
    "Дубликатов не имеется.\n",
    "\n",
    "Проведена лемматизация и очиста текстовых данных от символов\n",
    "\n",
    "Удален не информативный столбец Unnamed: 0\n",
    "\n",
    "Проведена векторизация данных, тексты преобразованы в векторы числовых значений.\n",
    "\n",
    "Датасет разделен на обучающуюся и тестовую выборки.\n",
    "\n",
    "Модели обучены на\n",
    "\n",
    "LogisticRegression = 0.75\n",
    "\n",
    "DecisionTreeClassifier = 0.71\n",
    "\n",
    "CatBoostClassifier = 0.68\n",
    "\n",
    "На тестовой выборке результат = 0.75"
   ]
  }
 ],
 "metadata": {
  "ExecuteTimeLog": [
   {
    "duration": 12803,
    "start_time": "2023-05-16T12:56:50.547Z"
   },
   {
    "duration": 1208,
    "start_time": "2023-05-16T12:57:11.948Z"
   },
   {
    "duration": 11823,
    "start_time": "2023-05-16T12:57:50.547Z"
   },
   {
    "duration": 5093,
    "start_time": "2023-05-16T12:58:18.053Z"
   },
   {
    "duration": 15,
    "start_time": "2023-05-16T12:58:27.047Z"
   },
   {
    "duration": 201,
    "start_time": "2023-05-16T12:58:55.946Z"
   },
   {
    "duration": 1593,
    "start_time": "2023-05-16T12:59:33.754Z"
   },
   {
    "duration": 113,
    "start_time": "2023-05-16T12:59:50.849Z"
   },
   {
    "duration": 6,
    "start_time": "2023-05-16T13:00:00.246Z"
   },
   {
    "duration": 13410,
    "start_time": "2023-05-16T13:15:26.946Z"
   },
   {
    "duration": 6587,
    "start_time": "2023-05-16T13:15:40.359Z"
   },
   {
    "duration": 104,
    "start_time": "2023-05-16T13:15:46.949Z"
   },
   {
    "duration": 200,
    "start_time": "2023-05-16T13:15:47.056Z"
   },
   {
    "duration": 1414,
    "start_time": "2023-05-16T13:15:47.345Z"
   },
   {
    "duration": 202,
    "start_time": "2023-05-16T13:15:48.761Z"
   },
   {
    "duration": 288,
    "start_time": "2023-05-16T13:15:48.966Z"
   },
   {
    "duration": 4458,
    "start_time": "2023-05-16T13:15:49.256Z"
   },
   {
    "duration": 7,
    "start_time": "2023-05-16T13:16:12.475Z"
   },
   {
    "duration": 2414,
    "start_time": "2023-05-16T13:16:12.652Z"
   },
   {
    "duration": 8,
    "start_time": "2023-05-16T13:16:15.068Z"
   },
   {
    "duration": 73,
    "start_time": "2023-05-16T13:16:15.078Z"
   },
   {
    "duration": 291,
    "start_time": "2023-05-16T13:16:15.154Z"
   },
   {
    "duration": 28,
    "start_time": "2023-05-16T13:16:15.447Z"
   },
   {
    "duration": 77,
    "start_time": "2023-05-16T13:16:15.477Z"
   },
   {
    "duration": 64,
    "start_time": "2023-05-16T13:16:22.577Z"
   },
   {
    "duration": 2640,
    "start_time": "2023-05-16T13:16:34.225Z"
   },
   {
    "duration": 2503,
    "start_time": "2023-05-16T13:16:36.868Z"
   },
   {
    "duration": 17,
    "start_time": "2023-05-16T13:16:39.373Z"
   },
   {
    "duration": 44,
    "start_time": "2023-05-16T13:16:39.392Z"
   },
   {
    "duration": 249,
    "start_time": "2023-05-16T13:16:39.439Z"
   },
   {
    "duration": 28,
    "start_time": "2023-05-16T13:16:39.690Z"
   },
   {
    "duration": 9,
    "start_time": "2023-05-16T13:16:39.720Z"
   },
   {
    "duration": 3419,
    "start_time": "2023-05-16T13:16:39.731Z"
   },
   {
    "duration": 311,
    "start_time": "2023-05-16T13:20:36.953Z"
   },
   {
    "duration": 2309,
    "start_time": "2023-05-16T13:20:38.755Z"
   },
   {
    "duration": 9,
    "start_time": "2023-05-16T13:20:41.066Z"
   },
   {
    "duration": 52,
    "start_time": "2023-05-16T13:20:41.078Z"
   },
   {
    "duration": 247,
    "start_time": "2023-05-16T13:20:41.133Z"
   },
   {
    "duration": 27,
    "start_time": "2023-05-16T13:20:41.492Z"
   },
   {
    "duration": 5,
    "start_time": "2023-05-16T13:20:42.824Z"
   },
   {
    "duration": 11,
    "start_time": "2023-05-16T13:24:44.690Z"
   },
   {
    "duration": 2783,
    "start_time": "2023-05-16T13:24:48.212Z"
   },
   {
    "duration": 2544,
    "start_time": "2023-05-16T13:24:50.999Z"
   },
   {
    "duration": 16,
    "start_time": "2023-05-16T13:24:53.545Z"
   },
   {
    "duration": 94,
    "start_time": "2023-05-16T13:24:53.563Z"
   },
   {
    "duration": 282,
    "start_time": "2023-05-16T13:24:53.660Z"
   },
   {
    "duration": 28,
    "start_time": "2023-05-16T13:24:53.947Z"
   },
   {
    "duration": 38,
    "start_time": "2023-05-16T13:24:53.977Z"
   },
   {
    "duration": 2314,
    "start_time": "2023-05-16T13:24:54.017Z"
   },
   {
    "duration": 3314,
    "start_time": "2023-05-16T13:27:36.870Z"
   },
   {
    "duration": 1058,
    "start_time": "2023-05-16T13:27:40.187Z"
   },
   {
    "duration": 20,
    "start_time": "2023-05-16T13:27:41.248Z"
   },
   {
    "duration": 60,
    "start_time": "2023-05-16T13:27:41.270Z"
   },
   {
    "duration": 347,
    "start_time": "2023-05-16T13:27:41.332Z"
   },
   {
    "duration": 33,
    "start_time": "2023-05-16T13:27:41.681Z"
   },
   {
    "duration": 5,
    "start_time": "2023-05-16T13:27:41.717Z"
   },
   {
    "duration": 2400,
    "start_time": "2023-05-16T13:27:41.724Z"
   },
   {
    "duration": 3247,
    "start_time": "2023-05-16T13:29:04.975Z"
   },
   {
    "duration": 990,
    "start_time": "2023-05-16T13:29:08.225Z"
   },
   {
    "duration": 14,
    "start_time": "2023-05-16T13:29:09.217Z"
   },
   {
    "duration": 57,
    "start_time": "2023-05-16T13:29:09.232Z"
   },
   {
    "duration": 311,
    "start_time": "2023-05-16T13:29:09.291Z"
   },
   {
    "duration": 29,
    "start_time": "2023-05-16T13:29:09.604Z"
   },
   {
    "duration": 20,
    "start_time": "2023-05-16T13:29:09.635Z"
   },
   {
    "duration": 4082,
    "start_time": "2023-05-16T13:29:09.663Z"
   },
   {
    "duration": 67,
    "start_time": "2023-05-16T13:32:51.893Z"
   },
   {
    "duration": 2708,
    "start_time": "2023-05-16T13:32:57.370Z"
   },
   {
    "duration": 2424,
    "start_time": "2023-05-16T13:33:00.080Z"
   },
   {
    "duration": 18,
    "start_time": "2023-05-16T13:33:02.506Z"
   },
   {
    "duration": 91,
    "start_time": "2023-05-16T13:33:02.527Z"
   },
   {
    "duration": 315,
    "start_time": "2023-05-16T13:33:02.621Z"
   },
   {
    "duration": 33,
    "start_time": "2023-05-16T13:33:02.938Z"
   },
   {
    "duration": 56,
    "start_time": "2023-05-16T13:33:02.974Z"
   },
   {
    "duration": 4052,
    "start_time": "2023-05-16T13:33:03.032Z"
   },
   {
    "duration": 3024,
    "start_time": "2023-05-16T13:33:21.252Z"
   },
   {
    "duration": 2357,
    "start_time": "2023-05-16T13:33:24.279Z"
   },
   {
    "duration": 15,
    "start_time": "2023-05-16T13:33:26.638Z"
   },
   {
    "duration": 46,
    "start_time": "2023-05-16T13:33:26.655Z"
   },
   {
    "duration": 267,
    "start_time": "2023-05-16T13:33:26.703Z"
   },
   {
    "duration": 27,
    "start_time": "2023-05-16T13:33:26.972Z"
   },
   {
    "duration": 12,
    "start_time": "2023-05-16T13:33:27.001Z"
   },
   {
    "duration": 3953,
    "start_time": "2023-05-16T13:33:27.015Z"
   },
   {
    "duration": 1193,
    "start_time": "2023-05-16T18:52:14.495Z"
   },
   {
    "duration": 3545,
    "start_time": "2023-05-16T18:52:17.753Z"
   },
   {
    "duration": 14,
    "start_time": "2023-05-16T18:52:24.499Z"
   },
   {
    "duration": 29,
    "start_time": "2023-05-16T18:52:27.048Z"
   },
   {
    "duration": 216,
    "start_time": "2023-05-16T18:52:32.403Z"
   },
   {
    "duration": 30,
    "start_time": "2023-05-16T18:52:32.621Z"
   },
   {
    "duration": 4,
    "start_time": "2023-05-16T18:52:32.735Z"
   },
   {
    "duration": 109,
    "start_time": "2023-05-16T19:15:11.908Z"
   },
   {
    "duration": 17,
    "start_time": "2023-05-16T19:15:43.619Z"
   },
   {
    "duration": 2900,
    "start_time": "2023-05-16T19:16:54.621Z"
   },
   {
    "duration": 30,
    "start_time": "2023-05-16T19:18:31.278Z"
   },
   {
    "duration": 175,
    "start_time": "2023-05-16T19:19:11.222Z"
   },
   {
    "duration": 775,
    "start_time": "2023-05-16T19:19:31.368Z"
   },
   {
    "duration": 844,
    "start_time": "2023-05-16T19:20:39.293Z"
   },
   {
    "duration": 770,
    "start_time": "2023-05-16T19:20:43.188Z"
   },
   {
    "duration": 16,
    "start_time": "2023-05-16T19:21:31.560Z"
   },
   {
    "duration": 278,
    "start_time": "2023-05-16T19:21:46.481Z"
   },
   {
    "duration": 807,
    "start_time": "2023-05-16T19:21:48.703Z"
   },
   {
    "duration": 10,
    "start_time": "2023-05-16T19:21:49.513Z"
   },
   {
    "duration": 55,
    "start_time": "2023-05-16T19:21:49.526Z"
   },
   {
    "duration": 272,
    "start_time": "2023-05-16T19:21:49.583Z"
   },
   {
    "duration": 32,
    "start_time": "2023-05-16T19:21:49.863Z"
   },
   {
    "duration": 3,
    "start_time": "2023-05-16T19:21:49.898Z"
   },
   {
    "duration": 798,
    "start_time": "2023-05-16T19:21:49.903Z"
   },
   {
    "duration": 786,
    "start_time": "2023-05-16T19:21:51.188Z"
   },
   {
    "duration": 28042,
    "start_time": "2023-05-16T19:21:53.234Z"
   },
   {
    "duration": 829,
    "start_time": "2023-05-16T19:22:58.592Z"
   },
   {
    "duration": 7,
    "start_time": "2023-05-16T19:23:39.606Z"
   },
   {
    "duration": 1660,
    "start_time": "2023-05-16T19:27:12.561Z"
   },
   {
    "duration": 986,
    "start_time": "2023-05-16T19:27:14.224Z"
   },
   {
    "duration": 16,
    "start_time": "2023-05-16T19:27:15.212Z"
   },
   {
    "duration": 55,
    "start_time": "2023-05-16T19:27:15.230Z"
   },
   {
    "duration": 297,
    "start_time": "2023-05-16T19:27:15.288Z"
   },
   {
    "duration": 33,
    "start_time": "2023-05-16T19:27:15.587Z"
   },
   {
    "duration": 5,
    "start_time": "2023-05-16T19:27:15.623Z"
   },
   {
    "duration": 808,
    "start_time": "2023-05-16T19:27:15.631Z"
   },
   {
    "duration": 223,
    "start_time": "2023-05-16T19:27:16.442Z"
   },
   {
    "duration": 0,
    "start_time": "2023-05-16T19:27:16.672Z"
   },
   {
    "duration": 0,
    "start_time": "2023-05-16T19:27:16.673Z"
   },
   {
    "duration": 0,
    "start_time": "2023-05-16T19:27:16.675Z"
   },
   {
    "duration": 0,
    "start_time": "2023-05-16T19:27:16.676Z"
   },
   {
    "duration": 0,
    "start_time": "2023-05-16T19:27:16.678Z"
   },
   {
    "duration": 860,
    "start_time": "2023-05-16T19:28:09.468Z"
   },
   {
    "duration": 787,
    "start_time": "2023-05-16T19:28:48.609Z"
   },
   {
    "duration": 1482,
    "start_time": "2023-05-16T19:29:39.301Z"
   },
   {
    "duration": 845,
    "start_time": "2023-05-16T19:29:40.785Z"
   },
   {
    "duration": 36,
    "start_time": "2023-05-16T19:29:41.632Z"
   },
   {
    "duration": 34,
    "start_time": "2023-05-16T19:29:41.671Z"
   },
   {
    "duration": 246,
    "start_time": "2023-05-16T19:29:41.707Z"
   },
   {
    "duration": 31,
    "start_time": "2023-05-16T19:29:41.955Z"
   },
   {
    "duration": 5,
    "start_time": "2023-05-16T19:29:41.987Z"
   },
   {
    "duration": 1498,
    "start_time": "2023-05-16T19:29:41.994Z"
   },
   {
    "duration": 838,
    "start_time": "2023-05-16T19:29:43.494Z"
   },
   {
    "duration": 16,
    "start_time": "2023-05-16T19:29:44.335Z"
   },
   {
    "duration": 9661,
    "start_time": "2023-05-16T19:29:44.353Z"
   },
   {
    "duration": 6070,
    "start_time": "2023-05-16T19:29:54.016Z"
   },
   {
    "duration": 2409,
    "start_time": "2023-05-16T19:30:00.088Z"
   },
   {
    "duration": 0,
    "start_time": "2023-05-16T19:30:02.499Z"
   },
   {
    "duration": 9,
    "start_time": "2023-05-16T19:30:27.618Z"
   },
   {
    "duration": 190,
    "start_time": "2023-05-16T19:30:57.320Z"
   },
   {
    "duration": 11,
    "start_time": "2023-05-16T19:30:58.313Z"
   },
   {
    "duration": 8920,
    "start_time": "2023-05-16T19:30:58.720Z"
   },
   {
    "duration": 1847,
    "start_time": "2023-05-16T19:31:21.584Z"
   },
   {
    "duration": 1677,
    "start_time": "2023-05-16T19:42:16.629Z"
   },
   {
    "duration": 764,
    "start_time": "2023-05-16T19:42:46.139Z"
   },
   {
    "duration": 10,
    "start_time": "2023-05-16T19:42:48.322Z"
   },
   {
    "duration": 732,
    "start_time": "2023-05-16T19:43:06.050Z"
   },
   {
    "duration": 9,
    "start_time": "2023-05-16T19:43:07.988Z"
   },
   {
    "duration": 1368,
    "start_time": "2023-05-16T19:43:28.998Z"
   },
   {
    "duration": 796,
    "start_time": "2023-05-16T19:43:30.368Z"
   },
   {
    "duration": 14,
    "start_time": "2023-05-16T19:43:31.165Z"
   },
   {
    "duration": 35,
    "start_time": "2023-05-16T19:43:31.181Z"
   },
   {
    "duration": 247,
    "start_time": "2023-05-16T19:43:31.219Z"
   },
   {
    "duration": 28,
    "start_time": "2023-05-16T19:43:31.468Z"
   },
   {
    "duration": 24,
    "start_time": "2023-05-16T19:43:31.498Z"
   },
   {
    "duration": 826,
    "start_time": "2023-05-16T19:43:31.524Z"
   },
   {
    "duration": 0,
    "start_time": "2023-05-16T19:43:32.351Z"
   },
   {
    "duration": 0,
    "start_time": "2023-05-16T19:43:32.353Z"
   },
   {
    "duration": 0,
    "start_time": "2023-05-16T19:43:32.355Z"
   },
   {
    "duration": 0,
    "start_time": "2023-05-16T19:43:32.357Z"
   },
   {
    "duration": 1,
    "start_time": "2023-05-16T19:43:32.358Z"
   },
   {
    "duration": 0,
    "start_time": "2023-05-16T19:43:32.360Z"
   },
   {
    "duration": 0,
    "start_time": "2023-05-16T19:43:32.361Z"
   },
   {
    "duration": 9,
    "start_time": "2023-05-16T19:54:53.464Z"
   },
   {
    "duration": 238,
    "start_time": "2023-05-16T19:55:01.481Z"
   },
   {
    "duration": 1391,
    "start_time": "2023-05-16T19:55:05.532Z"
   },
   {
    "duration": 9,
    "start_time": "2023-05-16T19:55:21.989Z"
   },
   {
    "duration": 9,
    "start_time": "2023-05-16T19:58:51.893Z"
   },
   {
    "duration": 1395,
    "start_time": "2023-05-16T19:59:03.389Z"
   },
   {
    "duration": 8,
    "start_time": "2023-05-16T19:59:06.133Z"
   },
   {
    "duration": 659,
    "start_time": "2023-05-16T19:59:08.673Z"
   },
   {
    "duration": 10,
    "start_time": "2023-05-16T19:59:10.594Z"
   },
   {
    "duration": 1418,
    "start_time": "2023-05-16T19:59:14.979Z"
   },
   {
    "duration": 777,
    "start_time": "2023-05-16T19:59:16.399Z"
   },
   {
    "duration": 13,
    "start_time": "2023-05-16T19:59:17.178Z"
   },
   {
    "duration": 32,
    "start_time": "2023-05-16T19:59:17.193Z"
   },
   {
    "duration": 234,
    "start_time": "2023-05-16T19:59:17.227Z"
   },
   {
    "duration": 25,
    "start_time": "2023-05-16T19:59:17.463Z"
   },
   {
    "duration": 3,
    "start_time": "2023-05-16T19:59:17.490Z"
   },
   {
    "duration": 234,
    "start_time": "2023-05-16T19:59:17.495Z"
   },
   {
    "duration": 1341,
    "start_time": "2023-05-16T19:59:17.731Z"
   },
   {
    "duration": 8,
    "start_time": "2023-05-16T19:59:19.074Z"
   },
   {
    "duration": 675,
    "start_time": "2023-05-16T19:59:19.084Z"
   },
   {
    "duration": 8,
    "start_time": "2023-05-16T19:59:19.761Z"
   },
   {
    "duration": 783,
    "start_time": "2023-05-16T19:59:19.770Z"
   },
   {
    "duration": 0,
    "start_time": "2023-05-16T19:59:20.554Z"
   },
   {
    "duration": 0,
    "start_time": "2023-05-16T19:59:20.555Z"
   },
   {
    "duration": 0,
    "start_time": "2023-05-16T19:59:20.557Z"
   },
   {
    "duration": 0,
    "start_time": "2023-05-16T19:59:20.558Z"
   },
   {
    "duration": 623,
    "start_time": "2023-05-16T19:59:36.921Z"
   },
   {
    "duration": 1593,
    "start_time": "2023-05-17T07:48:13.084Z"
   },
   {
    "duration": 4063,
    "start_time": "2023-05-17T07:48:14.679Z"
   },
   {
    "duration": 17,
    "start_time": "2023-05-17T07:48:18.743Z"
   },
   {
    "duration": 33,
    "start_time": "2023-05-17T07:48:18.762Z"
   },
   {
    "duration": 267,
    "start_time": "2023-05-17T07:48:18.797Z"
   },
   {
    "duration": 24,
    "start_time": "2023-05-17T07:48:19.065Z"
   },
   {
    "duration": 3,
    "start_time": "2023-05-17T07:48:19.091Z"
   },
   {
    "duration": 258,
    "start_time": "2023-05-17T07:48:19.113Z"
   },
   {
    "duration": 124,
    "start_time": "2023-05-17T07:48:19.373Z"
   },
   {
    "duration": 0,
    "start_time": "2023-05-17T07:48:19.499Z"
   },
   {
    "duration": 0,
    "start_time": "2023-05-17T07:48:19.500Z"
   },
   {
    "duration": 0,
    "start_time": "2023-05-17T07:48:19.501Z"
   },
   {
    "duration": 0,
    "start_time": "2023-05-17T07:48:19.501Z"
   },
   {
    "duration": 0,
    "start_time": "2023-05-17T07:48:19.502Z"
   },
   {
    "duration": 0,
    "start_time": "2023-05-17T07:48:19.502Z"
   },
   {
    "duration": 0,
    "start_time": "2023-05-17T07:48:19.502Z"
   },
   {
    "duration": 0,
    "start_time": "2023-05-17T07:48:19.503Z"
   },
   {
    "duration": 0,
    "start_time": "2023-05-17T07:48:19.505Z"
   },
   {
    "duration": 1144,
    "start_time": "2023-05-17T07:49:45.031Z"
   },
   {
    "duration": 9,
    "start_time": "2023-05-17T07:50:38.038Z"
   },
   {
    "duration": 705,
    "start_time": "2023-05-17T07:50:44.834Z"
   },
   {
    "duration": 739,
    "start_time": "2023-05-17T07:51:11.456Z"
   },
   {
    "duration": 10,
    "start_time": "2023-05-17T07:51:18.227Z"
   },
   {
    "duration": 13,
    "start_time": "2023-05-17T07:51:27.958Z"
   },
   {
    "duration": 904,
    "start_time": "2023-05-17T07:51:33.030Z"
   },
   {
    "duration": 23876,
    "start_time": "2023-05-17T07:52:26.963Z"
   },
   {
    "duration": 11053,
    "start_time": "2023-05-17T07:52:56.158Z"
   },
   {
    "duration": 8958,
    "start_time": "2023-05-17T07:53:20.428Z"
   },
   {
    "duration": 10092,
    "start_time": "2023-05-17T07:53:58.329Z"
   },
   {
    "duration": 8692,
    "start_time": "2023-05-17T07:55:35.829Z"
   },
   {
    "duration": 9479,
    "start_time": "2023-05-17T07:56:23.221Z"
   },
   {
    "duration": 17397,
    "start_time": "2023-05-17T07:57:22.819Z"
   },
   {
    "duration": 8,
    "start_time": "2023-05-17T07:58:11.318Z"
   },
   {
    "duration": 42,
    "start_time": "2023-05-17T08:00:55.135Z"
   },
   {
    "duration": 1328,
    "start_time": "2023-05-17T08:01:26.008Z"
   },
   {
    "duration": 11,
    "start_time": "2023-05-17T08:01:40.184Z"
   },
   {
    "duration": 1432,
    "start_time": "2023-05-17T08:01:50.379Z"
   },
   {
    "duration": 3197,
    "start_time": "2023-05-17T08:01:51.813Z"
   },
   {
    "duration": 12,
    "start_time": "2023-05-17T08:01:55.011Z"
   },
   {
    "duration": 33,
    "start_time": "2023-05-17T08:01:55.025Z"
   },
   {
    "duration": 226,
    "start_time": "2023-05-17T08:01:55.060Z"
   },
   {
    "duration": 32,
    "start_time": "2023-05-17T08:01:55.287Z"
   },
   {
    "duration": 9,
    "start_time": "2023-05-17T08:01:55.320Z"
   },
   {
    "duration": 227,
    "start_time": "2023-05-17T08:01:55.330Z"
   },
   {
    "duration": 116,
    "start_time": "2023-05-17T08:01:55.559Z"
   },
   {
    "duration": 0,
    "start_time": "2023-05-17T08:01:55.676Z"
   },
   {
    "duration": 0,
    "start_time": "2023-05-17T08:01:55.678Z"
   },
   {
    "duration": 1,
    "start_time": "2023-05-17T08:01:55.678Z"
   },
   {
    "duration": 0,
    "start_time": "2023-05-17T08:01:55.679Z"
   },
   {
    "duration": 0,
    "start_time": "2023-05-17T08:01:55.680Z"
   },
   {
    "duration": 0,
    "start_time": "2023-05-17T08:01:55.681Z"
   },
   {
    "duration": 0,
    "start_time": "2023-05-17T08:01:55.682Z"
   },
   {
    "duration": 0,
    "start_time": "2023-05-17T08:01:55.683Z"
   },
   {
    "duration": 0,
    "start_time": "2023-05-17T08:01:55.684Z"
   },
   {
    "duration": 14,
    "start_time": "2023-05-17T08:02:52.908Z"
   },
   {
    "duration": 102040,
    "start_time": "2023-05-17T08:03:07.581Z"
   },
   {
    "duration": 1416,
    "start_time": "2023-05-17T08:07:28.673Z"
   },
   {
    "duration": 767,
    "start_time": "2023-05-17T08:07:30.092Z"
   },
   {
    "duration": 14,
    "start_time": "2023-05-17T08:07:30.861Z"
   },
   {
    "duration": 85,
    "start_time": "2023-05-17T08:07:30.876Z"
   },
   {
    "duration": 231,
    "start_time": "2023-05-17T08:07:30.963Z"
   },
   {
    "duration": 30,
    "start_time": "2023-05-17T08:07:31.195Z"
   },
   {
    "duration": 25,
    "start_time": "2023-05-17T08:07:31.226Z"
   },
   {
    "duration": 236,
    "start_time": "2023-05-17T08:07:31.252Z"
   },
   {
    "duration": 106330,
    "start_time": "2023-05-17T08:07:31.490Z"
   },
   {
    "duration": 54,
    "start_time": "2023-05-17T08:09:17.822Z"
   },
   {
    "duration": 0,
    "start_time": "2023-05-17T08:09:17.878Z"
   },
   {
    "duration": 0,
    "start_time": "2023-05-17T08:09:17.880Z"
   },
   {
    "duration": 0,
    "start_time": "2023-05-17T08:09:17.881Z"
   },
   {
    "duration": 0,
    "start_time": "2023-05-17T08:09:17.882Z"
   },
   {
    "duration": 0,
    "start_time": "2023-05-17T08:09:17.884Z"
   },
   {
    "duration": 0,
    "start_time": "2023-05-17T08:09:17.885Z"
   },
   {
    "duration": 131,
    "start_time": "2023-05-17T08:09:57.820Z"
   },
   {
    "duration": 47,
    "start_time": "2023-05-17T08:10:21.482Z"
   },
   {
    "duration": 37,
    "start_time": "2023-05-17T08:10:34.343Z"
   },
   {
    "duration": 30,
    "start_time": "2023-05-17T08:10:49.556Z"
   },
   {
    "duration": 33,
    "start_time": "2023-05-17T08:10:56.392Z"
   },
   {
    "duration": 8,
    "start_time": "2023-05-17T08:10:56.645Z"
   },
   {
    "duration": 8,
    "start_time": "2023-05-17T08:13:10.136Z"
   },
   {
    "duration": 1466,
    "start_time": "2023-05-17T08:13:33.518Z"
   },
   {
    "duration": 10,
    "start_time": "2023-05-17T08:13:39.606Z"
   },
   {
    "duration": 33,
    "start_time": "2023-05-17T08:14:01.408Z"
   },
   {
    "duration": 1449,
    "start_time": "2023-05-17T08:14:03.076Z"
   },
   {
    "duration": 10,
    "start_time": "2023-05-17T08:14:05.429Z"
   },
   {
    "duration": 3,
    "start_time": "2023-05-17T08:14:21.649Z"
   },
   {
    "duration": 1370,
    "start_time": "2023-05-17T08:14:22.619Z"
   },
   {
    "duration": 7,
    "start_time": "2023-05-17T08:14:24.678Z"
   },
   {
    "duration": 3,
    "start_time": "2023-05-17T08:14:52.495Z"
   },
   {
    "duration": 1683,
    "start_time": "2023-05-17T08:14:53.698Z"
   },
   {
    "duration": 8,
    "start_time": "2023-05-17T08:15:01.182Z"
   },
   {
    "duration": 53,
    "start_time": "2023-05-17T08:15:53.902Z"
   },
   {
    "duration": 43,
    "start_time": "2023-05-17T08:16:02.431Z"
   },
   {
    "duration": 3,
    "start_time": "2023-05-17T08:16:12.834Z"
   },
   {
    "duration": 241,
    "start_time": "2023-05-17T08:16:14.997Z"
   },
   {
    "duration": 55,
    "start_time": "2023-05-17T08:16:43.785Z"
   },
   {
    "duration": 3,
    "start_time": "2023-05-17T08:16:50.393Z"
   },
   {
    "duration": 1773,
    "start_time": "2023-05-17T08:16:51.109Z"
   },
   {
    "duration": 9,
    "start_time": "2023-05-17T08:16:53.698Z"
   },
   {
    "duration": 3,
    "start_time": "2023-05-17T08:17:28.784Z"
   },
   {
    "duration": 1714,
    "start_time": "2023-05-17T08:17:29.578Z"
   },
   {
    "duration": 13,
    "start_time": "2023-05-17T08:17:31.294Z"
   },
   {
    "duration": 37,
    "start_time": "2023-05-17T08:17:50.681Z"
   },
   {
    "duration": 1156,
    "start_time": "2023-05-17T08:17:51.427Z"
   },
   {
    "duration": 7,
    "start_time": "2023-05-17T08:17:54.113Z"
   },
   {
    "duration": 30,
    "start_time": "2023-05-17T08:23:56.964Z"
   },
   {
    "duration": 2591,
    "start_time": "2023-05-17T08:23:57.829Z"
   },
   {
    "duration": 7,
    "start_time": "2023-05-17T08:24:01.190Z"
   },
   {
    "duration": 16168,
    "start_time": "2023-05-17T08:24:17.392Z"
   },
   {
    "duration": 24986,
    "start_time": "2023-05-17T08:24:33.562Z"
   },
   {
    "duration": 12032,
    "start_time": "2023-05-17T08:24:58.550Z"
   },
   {
    "duration": 8,
    "start_time": "2023-05-17T08:25:10.584Z"
   },
   {
    "duration": 0,
    "start_time": "2023-05-17T08:25:10.594Z"
   },
   {
    "duration": 20,
    "start_time": "2023-05-17T08:25:53.505Z"
   },
   {
    "duration": 1007,
    "start_time": "2023-05-17T08:37:19.275Z"
   },
   {
    "duration": 1517,
    "start_time": "2023-05-17T08:37:34.331Z"
   },
   {
    "duration": 3326,
    "start_time": "2023-05-17T08:37:35.850Z"
   },
   {
    "duration": 13,
    "start_time": "2023-05-17T08:37:39.177Z"
   },
   {
    "duration": 33,
    "start_time": "2023-05-17T08:37:39.192Z"
   },
   {
    "duration": 203,
    "start_time": "2023-05-17T08:37:39.226Z"
   },
   {
    "duration": 22,
    "start_time": "2023-05-17T08:37:39.431Z"
   },
   {
    "duration": 7,
    "start_time": "2023-05-17T08:37:39.454Z"
   },
   {
    "duration": 213,
    "start_time": "2023-05-17T08:37:39.462Z"
   },
   {
    "duration": 105451,
    "start_time": "2023-05-17T08:37:39.677Z"
   },
   {
    "duration": 27,
    "start_time": "2023-05-17T08:39:25.130Z"
   },
   {
    "duration": 2367,
    "start_time": "2023-05-17T08:39:25.159Z"
   },
   {
    "duration": 8,
    "start_time": "2023-05-17T08:39:27.528Z"
   },
   {
    "duration": 14120,
    "start_time": "2023-05-17T08:39:27.537Z"
   },
   {
    "duration": 22996,
    "start_time": "2023-05-17T08:39:41.659Z"
   },
   {
    "duration": 61,
    "start_time": "2023-05-17T08:46:32.207Z"
   },
   {
    "duration": 1929,
    "start_time": "2023-05-17T08:46:46.776Z"
   },
   {
    "duration": 4462,
    "start_time": "2023-05-17T08:46:48.708Z"
   },
   {
    "duration": 13,
    "start_time": "2023-05-17T08:46:53.172Z"
   },
   {
    "duration": 41,
    "start_time": "2023-05-17T08:46:53.187Z"
   },
   {
    "duration": 221,
    "start_time": "2023-05-17T08:46:53.236Z"
   },
   {
    "duration": 25,
    "start_time": "2023-05-17T08:46:53.459Z"
   },
   {
    "duration": 47,
    "start_time": "2023-05-17T08:46:53.486Z"
   },
   {
    "duration": 260,
    "start_time": "2023-05-17T08:46:53.536Z"
   },
   {
    "duration": 1934,
    "start_time": "2023-05-17T08:48:23.890Z"
   },
   {
    "duration": 821,
    "start_time": "2023-05-17T08:48:25.830Z"
   },
   {
    "duration": 25,
    "start_time": "2023-05-17T08:48:26.653Z"
   },
   {
    "duration": 56,
    "start_time": "2023-05-17T08:48:26.682Z"
   },
   {
    "duration": 240,
    "start_time": "2023-05-17T08:48:26.745Z"
   },
   {
    "duration": 45,
    "start_time": "2023-05-17T08:48:26.988Z"
   },
   {
    "duration": 16,
    "start_time": "2023-05-17T08:48:27.045Z"
   },
   {
    "duration": 274,
    "start_time": "2023-05-17T08:48:27.065Z"
   },
   {
    "duration": 141158,
    "start_time": "2023-05-17T08:48:27.342Z"
   },
   {
    "duration": 39,
    "start_time": "2023-05-17T08:50:48.502Z"
   },
   {
    "duration": 2932,
    "start_time": "2023-05-17T08:50:48.543Z"
   },
   {
    "duration": 12,
    "start_time": "2023-05-17T08:50:51.477Z"
   },
   {
    "duration": 17394,
    "start_time": "2023-05-17T08:50:51.491Z"
   },
   {
    "duration": 30912,
    "start_time": "2023-05-17T08:51:08.889Z"
   },
   {
    "duration": 25,
    "start_time": "2023-05-17T08:51:39.802Z"
   },
   {
    "duration": 14270,
    "start_time": "2023-05-17T08:51:39.829Z"
   },
   {
    "duration": 25,
    "start_time": "2023-05-17T08:51:54.101Z"
   },
   {
    "duration": 93,
    "start_time": "2023-05-17T08:51:54.134Z"
   },
   {
    "duration": 187,
    "start_time": "2023-05-17T08:52:08.048Z"
   },
   {
    "duration": 56,
    "start_time": "2023-05-17T08:57:32.432Z"
   },
   {
    "duration": 221,
    "start_time": "2023-05-17T08:57:35.650Z"
   },
   {
    "duration": 18,
    "start_time": "2023-05-17T09:00:18.529Z"
   },
   {
    "duration": 20,
    "start_time": "2023-05-17T09:00:47.011Z"
   },
   {
    "duration": 279,
    "start_time": "2023-05-17T09:01:30.253Z"
   },
   {
    "duration": 18,
    "start_time": "2023-05-17T09:02:10.090Z"
   },
   {
    "duration": 81,
    "start_time": "2023-05-17T09:03:36.355Z"
   },
   {
    "duration": 54,
    "start_time": "2023-05-17T09:04:15.995Z"
   },
   {
    "duration": 217,
    "start_time": "2023-05-17T09:04:28.633Z"
   },
   {
    "duration": 198,
    "start_time": "2023-05-17T09:04:53.216Z"
   },
   {
    "duration": 13,
    "start_time": "2023-05-17T09:05:44.045Z"
   },
   {
    "duration": 90,
    "start_time": "2023-05-17T09:06:04.928Z"
   },
   {
    "duration": 18,
    "start_time": "2023-05-17T09:06:06.264Z"
   },
   {
    "duration": 105,
    "start_time": "2023-05-17T09:07:17.283Z"
   },
   {
    "duration": 222,
    "start_time": "2023-05-17T09:07:45.271Z"
   },
   {
    "duration": 24,
    "start_time": "2023-05-17T09:08:05.557Z"
   },
   {
    "duration": 14,
    "start_time": "2023-05-17T09:11:14.124Z"
   },
   {
    "duration": 143,
    "start_time": "2023-05-17T09:11:32.886Z"
   },
   {
    "duration": 2424,
    "start_time": "2023-05-17T09:11:34.669Z"
   },
   {
    "duration": 17,
    "start_time": "2023-05-17T09:13:53.957Z"
   },
   {
    "duration": 15580,
    "start_time": "2023-05-17T09:15:45.973Z"
   },
   {
    "duration": 24757,
    "start_time": "2023-05-17T09:16:01.555Z"
   },
   {
    "duration": 60,
    "start_time": "2023-05-17T09:16:26.314Z"
   },
   {
    "duration": 56,
    "start_time": "2023-05-17T09:16:26.376Z"
   },
   {
    "duration": 81,
    "start_time": "2023-05-17T09:16:58.313Z"
   },
   {
    "duration": 82,
    "start_time": "2023-05-17T09:16:59.387Z"
   },
   {
    "duration": 3431,
    "start_time": "2023-05-17T09:17:01.240Z"
   },
   {
    "duration": 0,
    "start_time": "2023-05-17T09:17:04.673Z"
   },
   {
    "duration": 94,
    "start_time": "2023-05-17T09:17:15.082Z"
   },
   {
    "duration": 4636,
    "start_time": "2023-05-17T09:17:16.626Z"
   },
   {
    "duration": 51,
    "start_time": "2023-05-17T09:20:03.806Z"
   },
   {
    "duration": 4365,
    "start_time": "2023-05-17T09:20:06.895Z"
   },
   {
    "duration": 0,
    "start_time": "2023-05-17T09:20:11.263Z"
   },
   {
    "duration": 8,
    "start_time": "2023-05-17T09:20:26.993Z"
   },
   {
    "duration": 4,
    "start_time": "2023-05-17T09:22:36.142Z"
   },
   {
    "duration": 34,
    "start_time": "2023-05-17T09:22:59.392Z"
   },
   {
    "duration": 853,
    "start_time": "2023-05-17T09:23:12.512Z"
   },
   {
    "duration": 75,
    "start_time": "2023-05-17T09:24:38.477Z"
   },
   {
    "duration": 4078,
    "start_time": "2023-05-17T09:24:39.721Z"
   },
   {
    "duration": 8,
    "start_time": "2023-05-17T09:24:57.669Z"
   },
   {
    "duration": 4670,
    "start_time": "2023-05-17T09:25:23.831Z"
   },
   {
    "duration": 4038,
    "start_time": "2023-05-17T09:25:50.739Z"
   },
   {
    "duration": 4232,
    "start_time": "2023-05-17T09:26:02.086Z"
   },
   {
    "duration": 3908,
    "start_time": "2023-05-17T09:26:08.075Z"
   },
   {
    "duration": 35034,
    "start_time": "2023-05-17T09:27:02.605Z"
   },
   {
    "duration": 14,
    "start_time": "2023-05-17T09:30:49.687Z"
   },
   {
    "duration": 12,
    "start_time": "2023-05-17T09:32:15.715Z"
   },
   {
    "duration": 7,
    "start_time": "2023-05-17T09:32:19.475Z"
   },
   {
    "duration": 10,
    "start_time": "2023-05-17T09:33:22.602Z"
   },
   {
    "duration": 22,
    "start_time": "2023-05-17T09:33:47.474Z"
   },
   {
    "duration": 49,
    "start_time": "2023-05-17T09:35:31.981Z"
   },
   {
    "duration": 1725,
    "start_time": "2023-05-17T09:43:21.273Z"
   },
   {
    "duration": 890,
    "start_time": "2023-05-17T09:43:23.000Z"
   },
   {
    "duration": 29,
    "start_time": "2023-05-17T09:43:23.892Z"
   },
   {
    "duration": 38,
    "start_time": "2023-05-17T09:43:23.924Z"
   },
   {
    "duration": 283,
    "start_time": "2023-05-17T09:43:23.965Z"
   },
   {
    "duration": 28,
    "start_time": "2023-05-17T09:43:24.251Z"
   },
   {
    "duration": 14,
    "start_time": "2023-05-17T09:43:24.281Z"
   },
   {
    "duration": 273,
    "start_time": "2023-05-17T09:43:24.297Z"
   },
   {
    "duration": 119053,
    "start_time": "2023-05-17T09:43:24.572Z"
   },
   {
    "duration": 9,
    "start_time": "2023-05-17T09:45:23.628Z"
   },
   {
    "duration": 37,
    "start_time": "2023-05-17T09:45:23.639Z"
   },
   {
    "duration": 2446,
    "start_time": "2023-05-17T09:45:23.677Z"
   },
   {
    "duration": 12,
    "start_time": "2023-05-17T09:45:26.126Z"
   },
   {
    "duration": 84,
    "start_time": "2023-05-17T09:45:26.142Z"
   },
   {
    "duration": 15726,
    "start_time": "2023-05-17T09:45:26.229Z"
   },
   {
    "duration": 27368,
    "start_time": "2023-05-17T09:45:41.957Z"
   },
   {
    "duration": 14,
    "start_time": "2023-05-17T09:46:09.326Z"
   },
   {
    "duration": 86,
    "start_time": "2023-05-17T09:46:09.342Z"
   },
   {
    "duration": 13,
    "start_time": "2023-05-17T09:46:09.430Z"
   },
   {
    "duration": 3640,
    "start_time": "2023-05-17T09:46:09.445Z"
   },
   {
    "duration": 3361,
    "start_time": "2023-05-17T09:46:13.087Z"
   },
   {
    "duration": 32666,
    "start_time": "2023-05-17T09:46:16.449Z"
   },
   {
    "duration": 109,
    "start_time": "2023-05-17T09:46:49.117Z"
   },
   {
    "duration": 31721,
    "start_time": "2023-05-17T09:46:49.228Z"
   },
   {
    "duration": 0,
    "start_time": "2023-05-17T09:47:20.950Z"
   },
   {
    "duration": 0,
    "start_time": "2023-05-17T09:47:20.952Z"
   },
   {
    "duration": 0,
    "start_time": "2023-05-17T09:47:20.952Z"
   },
   {
    "duration": 0,
    "start_time": "2023-05-17T09:47:20.953Z"
   },
   {
    "duration": 16,
    "start_time": "2023-05-17T09:47:33.632Z"
   },
   {
    "duration": 8,
    "start_time": "2023-05-17T09:48:11.628Z"
   },
   {
    "duration": 128259,
    "start_time": "2023-05-17T09:48:17.698Z"
   },
   {
    "duration": 84032,
    "start_time": "2023-05-17T09:50:29.497Z"
   },
   {
    "duration": 13358,
    "start_time": "2023-05-17T09:51:55.878Z"
   },
   {
    "duration": 20702,
    "start_time": "2023-05-17T09:52:14.085Z"
   },
   {
    "duration": 14979,
    "start_time": "2023-05-17T09:52:36.502Z"
   },
   {
    "duration": 98787,
    "start_time": "2023-05-17T09:52:56.179Z"
   },
   {
    "duration": 232088,
    "start_time": "2023-05-17T09:55:11.230Z"
   },
   {
    "duration": 20,
    "start_time": "2023-05-17T09:59:03.320Z"
   },
   {
    "duration": 0,
    "start_time": "2023-05-17T10:09:03.828Z"
   },
   {
    "duration": 48,
    "start_time": "2023-05-17T10:09:13.839Z"
   },
   {
    "duration": 21,
    "start_time": "2023-05-17T10:09:14.686Z"
   },
   {
    "duration": 38,
    "start_time": "2023-05-17T10:12:31.886Z"
   },
   {
    "duration": 6,
    "start_time": "2023-05-17T10:12:51.755Z"
   },
   {
    "duration": 3,
    "start_time": "2023-05-17T10:13:26.019Z"
   },
   {
    "duration": 32960,
    "start_time": "2023-05-17T10:13:28.576Z"
   },
   {
    "duration": 78176,
    "start_time": "2023-05-17T10:14:29.386Z"
   },
   {
    "duration": 62798,
    "start_time": "2023-05-17T10:15:50.052Z"
   },
   {
    "duration": 0,
    "start_time": "2023-05-17T10:16:52.852Z"
   },
   {
    "duration": 50,
    "start_time": "2023-05-17T10:16:56.034Z"
   },
   {
    "duration": 8,
    "start_time": "2023-05-17T10:16:56.922Z"
   },
   {
    "duration": 5295,
    "start_time": "2023-05-17T10:16:57.046Z"
   },
   {
    "duration": 1704,
    "start_time": "2023-05-17T10:17:02.343Z"
   },
   {
    "duration": 1471,
    "start_time": "2023-05-17T10:18:31.851Z"
   },
   {
    "duration": 770,
    "start_time": "2023-05-17T10:18:33.324Z"
   },
   {
    "duration": 24,
    "start_time": "2023-05-17T10:18:34.096Z"
   },
   {
    "duration": 35,
    "start_time": "2023-05-17T10:18:34.122Z"
   },
   {
    "duration": 237,
    "start_time": "2023-05-17T10:18:34.160Z"
   },
   {
    "duration": 31,
    "start_time": "2023-05-17T10:18:34.399Z"
   },
   {
    "duration": 17,
    "start_time": "2023-05-17T10:18:34.432Z"
   },
   {
    "duration": 233,
    "start_time": "2023-05-17T10:18:34.450Z"
   },
   {
    "duration": 110182,
    "start_time": "2023-05-17T10:18:34.685Z"
   },
   {
    "duration": 7,
    "start_time": "2023-05-17T10:20:24.868Z"
   },
   {
    "duration": 52,
    "start_time": "2023-05-17T10:20:24.877Z"
   },
   {
    "duration": 2268,
    "start_time": "2023-05-17T10:20:24.931Z"
   },
   {
    "duration": 20,
    "start_time": "2023-05-17T10:20:27.201Z"
   },
   {
    "duration": 62,
    "start_time": "2023-05-17T10:20:27.224Z"
   },
   {
    "duration": 8,
    "start_time": "2023-05-17T10:20:27.288Z"
   },
   {
    "duration": 74,
    "start_time": "2023-05-17T10:20:27.298Z"
   },
   {
    "duration": 15,
    "start_time": "2023-05-17T10:20:27.374Z"
   },
   {
    "duration": 4888,
    "start_time": "2023-05-17T10:20:27.390Z"
   },
   {
    "duration": 1652,
    "start_time": "2023-05-17T10:20:32.280Z"
   },
   {
    "duration": 46682,
    "start_time": "2023-05-17T10:20:33.933Z"
   },
   {
    "duration": 90,
    "start_time": "2023-05-17T10:21:20.617Z"
   },
   {
    "duration": 465442,
    "start_time": "2023-05-17T10:21:20.709Z"
   },
   {
    "duration": 11,
    "start_time": "2023-05-17T10:29:06.153Z"
   },
   {
    "duration": 545301,
    "start_time": "2023-05-17T10:29:06.166Z"
   },
   {
    "duration": 2,
    "start_time": "2023-05-17T10:38:11.469Z"
   },
   {
    "duration": 2722333,
    "start_time": "2023-05-17T10:38:11.473Z"
   },
   {
    "duration": 0,
    "start_time": "2023-05-17T11:23:33.808Z"
   },
   {
    "duration": 61405,
    "start_time": "2023-05-17T11:23:58.072Z"
   },
   {
    "duration": 0,
    "start_time": "2023-05-17T11:24:59.480Z"
   },
   {
    "duration": 60,
    "start_time": "2023-05-17T11:25:01.647Z"
   },
   {
    "duration": 8,
    "start_time": "2023-05-17T11:25:01.789Z"
   },
   {
    "duration": 5130,
    "start_time": "2023-05-17T11:25:02.012Z"
   },
   {
    "duration": 1176,
    "start_time": "2023-05-17T11:25:07.144Z"
   },
   {
    "duration": 43384,
    "start_time": "2023-05-17T11:25:08.322Z"
   },
   {
    "duration": 96,
    "start_time": "2023-05-17T11:25:51.711Z"
   },
   {
    "duration": 51940,
    "start_time": "2023-05-17T11:25:51.809Z"
   },
   {
    "duration": 0,
    "start_time": "2023-05-17T11:26:43.751Z"
   },
   {
    "duration": 0,
    "start_time": "2023-05-17T11:26:43.752Z"
   },
   {
    "duration": 0,
    "start_time": "2023-05-17T11:26:43.753Z"
   },
   {
    "duration": 0,
    "start_time": "2023-05-17T11:26:43.754Z"
   },
   {
    "duration": 0,
    "start_time": "2023-05-17T11:26:43.755Z"
   },
   {
    "duration": 75417,
    "start_time": "2023-05-17T11:32:36.689Z"
   },
   {
    "duration": 290879,
    "start_time": "2023-05-17T11:33:57.723Z"
   },
   {
    "duration": 0,
    "start_time": "2023-05-17T11:38:48.623Z"
   },
   {
    "duration": 0,
    "start_time": "2023-05-17T11:38:48.624Z"
   },
   {
    "duration": 0,
    "start_time": "2023-05-17T11:38:48.625Z"
   },
   {
    "duration": 56104,
    "start_time": "2023-05-17T11:44:36.350Z"
   },
   {
    "duration": 90815,
    "start_time": "2023-05-17T11:45:34.859Z"
   },
   {
    "duration": 20284,
    "start_time": "2023-05-17T11:47:30.514Z"
   },
   {
    "duration": 0,
    "start_time": "2023-05-17T11:49:06.645Z"
   },
   {
    "duration": 3,
    "start_time": "2023-05-17T11:49:13.837Z"
   },
   {
    "duration": 1428,
    "start_time": "2023-05-17T11:53:42.716Z"
   },
   {
    "duration": 735,
    "start_time": "2023-05-17T11:53:44.146Z"
   },
   {
    "duration": 13,
    "start_time": "2023-05-17T11:53:44.883Z"
   },
   {
    "duration": 30,
    "start_time": "2023-05-17T11:53:44.906Z"
   },
   {
    "duration": 230,
    "start_time": "2023-05-17T11:53:44.938Z"
   },
   {
    "duration": 26,
    "start_time": "2023-05-17T11:53:45.169Z"
   },
   {
    "duration": 4,
    "start_time": "2023-05-17T11:53:45.206Z"
   },
   {
    "duration": 220,
    "start_time": "2023-05-17T11:53:45.211Z"
   },
   {
    "duration": 102076,
    "start_time": "2023-05-17T11:53:45.433Z"
   },
   {
    "duration": 8,
    "start_time": "2023-05-17T11:55:27.512Z"
   },
   {
    "duration": 35,
    "start_time": "2023-05-17T11:55:27.521Z"
   },
   {
    "duration": 2199,
    "start_time": "2023-05-17T11:55:27.558Z"
   },
   {
    "duration": 7,
    "start_time": "2023-05-17T11:55:29.759Z"
   },
   {
    "duration": 68,
    "start_time": "2023-05-17T11:55:29.768Z"
   },
   {
    "duration": 8,
    "start_time": "2023-05-17T11:55:29.838Z"
   },
   {
    "duration": 49,
    "start_time": "2023-05-17T11:55:29.847Z"
   },
   {
    "duration": 15,
    "start_time": "2023-05-17T11:55:29.905Z"
   },
   {
    "duration": 4850,
    "start_time": "2023-05-17T11:55:29.921Z"
   },
   {
    "duration": 1117,
    "start_time": "2023-05-17T11:55:34.773Z"
   },
   {
    "duration": 36816,
    "start_time": "2023-05-17T11:55:35.897Z"
   },
   {
    "duration": 97,
    "start_time": "2023-05-17T11:56:12.715Z"
   },
   {
    "duration": 36980,
    "start_time": "2023-05-17T11:56:12.814Z"
   },
   {
    "duration": 0,
    "start_time": "2023-05-17T11:56:49.795Z"
   },
   {
    "duration": 0,
    "start_time": "2023-05-17T11:56:49.796Z"
   },
   {
    "duration": 0,
    "start_time": "2023-05-17T11:56:49.797Z"
   },
   {
    "duration": 3,
    "start_time": "2023-05-17T11:57:00.635Z"
   },
   {
    "duration": 18512,
    "start_time": "2023-05-17T11:57:01.325Z"
   },
   {
    "duration": 12958,
    "start_time": "2023-05-17T11:57:22.285Z"
   },
   {
    "duration": 37698,
    "start_time": "2023-05-17T11:57:36.793Z"
   },
   {
    "duration": 1,
    "start_time": "2023-05-17T11:58:14.492Z"
   },
   {
    "duration": 1484,
    "start_time": "2023-05-17T11:58:50.112Z"
   },
   {
    "duration": 738,
    "start_time": "2023-05-17T11:58:51.597Z"
   },
   {
    "duration": 13,
    "start_time": "2023-05-17T11:58:52.336Z"
   },
   {
    "duration": 95,
    "start_time": "2023-05-17T11:58:52.351Z"
   },
   {
    "duration": 250,
    "start_time": "2023-05-17T11:58:52.448Z"
   },
   {
    "duration": 29,
    "start_time": "2023-05-17T11:58:52.699Z"
   },
   {
    "duration": 4,
    "start_time": "2023-05-17T11:58:52.729Z"
   },
   {
    "duration": 241,
    "start_time": "2023-05-17T11:58:52.735Z"
   },
   {
    "duration": 105721,
    "start_time": "2023-05-17T11:58:52.978Z"
   },
   {
    "duration": 9,
    "start_time": "2023-05-17T12:00:38.702Z"
   },
   {
    "duration": 29,
    "start_time": "2023-05-17T12:00:38.713Z"
   },
   {
    "duration": 2126,
    "start_time": "2023-05-17T12:00:38.743Z"
   },
   {
    "duration": 8,
    "start_time": "2023-05-17T12:00:40.870Z"
   },
   {
    "duration": 66,
    "start_time": "2023-05-17T12:00:40.879Z"
   },
   {
    "duration": 7,
    "start_time": "2023-05-17T12:00:40.947Z"
   },
   {
    "duration": 56,
    "start_time": "2023-05-17T12:00:40.956Z"
   },
   {
    "duration": 14,
    "start_time": "2023-05-17T12:00:41.014Z"
   },
   {
    "duration": 4910,
    "start_time": "2023-05-17T12:00:41.030Z"
   },
   {
    "duration": 1170,
    "start_time": "2023-05-17T12:00:45.942Z"
   },
   {
    "duration": 41107,
    "start_time": "2023-05-17T12:00:47.114Z"
   },
   {
    "duration": 14,
    "start_time": "2023-05-17T12:01:28.307Z"
   },
   {
    "duration": 86395,
    "start_time": "2023-05-17T12:01:28.323Z"
   },
   {
    "duration": 441,
    "start_time": "2023-05-17T12:02:54.719Z"
   },
   {
    "duration": 114,
    "start_time": "2023-05-17T12:04:26.486Z"
   },
   {
    "duration": 414,
    "start_time": "2023-05-17T12:06:31.293Z"
   },
   {
    "duration": 0,
    "start_time": "2023-05-17T12:08:27.305Z"
   },
   {
    "duration": 0,
    "start_time": "2023-05-17T12:10:41.893Z"
   },
   {
    "duration": 0,
    "start_time": "2023-05-17T12:10:41.894Z"
   },
   {
    "duration": 11,
    "start_time": "2023-05-17T12:11:03.243Z"
   },
   {
    "duration": 81664,
    "start_time": "2023-05-17T12:11:43.584Z"
   },
   {
    "duration": 33168,
    "start_time": "2023-05-17T12:16:15.846Z"
   },
   {
    "duration": 0,
    "start_time": "2023-05-17T12:16:49.016Z"
   },
   {
    "duration": 3164,
    "start_time": "2023-05-17T12:17:13.776Z"
   },
   {
    "duration": 1698,
    "start_time": "2023-05-17T12:17:16.942Z"
   },
   {
    "duration": 12,
    "start_time": "2023-05-17T12:17:18.642Z"
   },
   {
    "duration": 30,
    "start_time": "2023-05-17T12:17:18.656Z"
   },
   {
    "duration": 212,
    "start_time": "2023-05-17T12:17:18.688Z"
   },
   {
    "duration": 25,
    "start_time": "2023-05-17T12:17:18.905Z"
   },
   {
    "duration": 24,
    "start_time": "2023-05-17T12:17:18.932Z"
   },
   {
    "duration": 217,
    "start_time": "2023-05-17T12:17:18.957Z"
   },
   {
    "duration": 102950,
    "start_time": "2023-05-17T12:17:19.176Z"
   },
   {
    "duration": 8,
    "start_time": "2023-05-17T12:19:02.128Z"
   },
   {
    "duration": 58,
    "start_time": "2023-05-17T12:19:02.137Z"
   },
   {
    "duration": 2197,
    "start_time": "2023-05-17T12:19:02.197Z"
   },
   {
    "duration": 8,
    "start_time": "2023-05-17T12:19:04.395Z"
   },
   {
    "duration": 56,
    "start_time": "2023-05-17T12:19:04.406Z"
   },
   {
    "duration": 8,
    "start_time": "2023-05-17T12:19:04.464Z"
   },
   {
    "duration": 61,
    "start_time": "2023-05-17T12:19:04.473Z"
   },
   {
    "duration": 14,
    "start_time": "2023-05-17T12:19:04.536Z"
   },
   {
    "duration": 2934,
    "start_time": "2023-05-17T12:19:04.551Z"
   },
   {
    "duration": 2881,
    "start_time": "2023-05-17T12:19:07.486Z"
   },
   {
    "duration": 26950,
    "start_time": "2023-05-17T12:19:10.369Z"
   },
   {
    "duration": 27,
    "start_time": "2023-05-17T12:19:37.321Z"
   },
   {
    "duration": 50574,
    "start_time": "2023-05-17T12:19:37.350Z"
   },
   {
    "duration": 977,
    "start_time": "2023-05-17T12:20:27.926Z"
   },
   {
    "duration": 103,
    "start_time": "2023-05-17T12:21:44.738Z"
   },
   {
    "duration": 6,
    "start_time": "2023-05-17T12:22:48.708Z"
   },
   {
    "duration": 1486,
    "start_time": "2023-05-17T12:24:33.613Z"
   },
   {
    "duration": 736,
    "start_time": "2023-05-17T12:24:35.101Z"
   },
   {
    "duration": 14,
    "start_time": "2023-05-17T12:24:35.838Z"
   },
   {
    "duration": 45,
    "start_time": "2023-05-17T12:24:35.854Z"
   },
   {
    "duration": 213,
    "start_time": "2023-05-17T12:24:35.906Z"
   },
   {
    "duration": 25,
    "start_time": "2023-05-17T12:24:36.121Z"
   },
   {
    "duration": 5,
    "start_time": "2023-05-17T12:24:36.148Z"
   },
   {
    "duration": 248,
    "start_time": "2023-05-17T12:24:36.154Z"
   },
   {
    "duration": 101593,
    "start_time": "2023-05-17T12:24:36.406Z"
   },
   {
    "duration": 10,
    "start_time": "2023-05-17T12:26:18.001Z"
   },
   {
    "duration": 34,
    "start_time": "2023-05-17T12:26:18.012Z"
   },
   {
    "duration": 2095,
    "start_time": "2023-05-17T12:26:18.047Z"
   },
   {
    "duration": 7,
    "start_time": "2023-05-17T12:26:20.143Z"
   },
   {
    "duration": 72,
    "start_time": "2023-05-17T12:26:20.152Z"
   },
   {
    "duration": 6,
    "start_time": "2023-05-17T12:26:20.226Z"
   },
   {
    "duration": 68,
    "start_time": "2023-05-17T12:26:20.234Z"
   },
   {
    "duration": 14,
    "start_time": "2023-05-17T12:26:20.304Z"
   },
   {
    "duration": 3104,
    "start_time": "2023-05-17T12:26:20.320Z"
   },
   {
    "duration": 2807,
    "start_time": "2023-05-17T12:26:23.428Z"
   },
   {
    "duration": 24876,
    "start_time": "2023-05-17T12:26:26.237Z"
   },
   {
    "duration": 120494,
    "start_time": "2023-05-17T12:26:51.115Z"
   },
   {
    "duration": 0,
    "start_time": "2023-05-17T12:28:51.611Z"
   },
   {
    "duration": 0,
    "start_time": "2023-05-17T12:28:51.612Z"
   },
   {
    "duration": 0,
    "start_time": "2023-05-17T12:28:51.613Z"
   },
   {
    "duration": 0,
    "start_time": "2023-05-17T12:28:51.614Z"
   },
   {
    "duration": 24,
    "start_time": "2023-05-17T12:28:53.621Z"
   },
   {
    "duration": 1421,
    "start_time": "2023-05-17T12:31:54.339Z"
   },
   {
    "duration": 744,
    "start_time": "2023-05-17T12:31:55.761Z"
   },
   {
    "duration": 13,
    "start_time": "2023-05-17T12:31:56.506Z"
   },
   {
    "duration": 30,
    "start_time": "2023-05-17T12:31:56.520Z"
   },
   {
    "duration": 236,
    "start_time": "2023-05-17T12:31:56.552Z"
   },
   {
    "duration": 28,
    "start_time": "2023-05-17T12:31:56.789Z"
   },
   {
    "duration": 3,
    "start_time": "2023-05-17T12:31:56.819Z"
   },
   {
    "duration": 232,
    "start_time": "2023-05-17T12:31:56.823Z"
   },
   {
    "duration": 103323,
    "start_time": "2023-05-17T12:31:57.057Z"
   },
   {
    "duration": 7,
    "start_time": "2023-05-17T12:33:40.382Z"
   },
   {
    "duration": 41,
    "start_time": "2023-05-17T12:33:40.390Z"
   },
   {
    "duration": 2160,
    "start_time": "2023-05-17T12:33:40.433Z"
   },
   {
    "duration": 13,
    "start_time": "2023-05-17T12:33:42.595Z"
   },
   {
    "duration": 72,
    "start_time": "2023-05-17T12:33:42.610Z"
   },
   {
    "duration": 24,
    "start_time": "2023-05-17T12:33:42.684Z"
   },
   {
    "duration": 52,
    "start_time": "2023-05-17T12:33:42.710Z"
   },
   {
    "duration": 7,
    "start_time": "2023-05-17T12:33:42.763Z"
   },
   {
    "duration": 3123,
    "start_time": "2023-05-17T12:33:42.772Z"
   },
   {
    "duration": 2913,
    "start_time": "2023-05-17T12:33:45.897Z"
   },
   {
    "duration": 25205,
    "start_time": "2023-05-17T12:33:48.812Z"
   },
   {
    "duration": 107,
    "start_time": "2023-05-17T12:34:14.019Z"
   },
   {
    "duration": 48821,
    "start_time": "2023-05-17T12:34:14.128Z"
   },
   {
    "duration": 985,
    "start_time": "2023-05-17T12:35:02.951Z"
   },
   {
    "duration": 2,
    "start_time": "2023-05-17T12:35:03.938Z"
   },
   {
    "duration": 659927,
    "start_time": "2023-05-17T12:37:18.088Z"
   },
   {
    "duration": 0,
    "start_time": "2023-05-17T12:48:18.017Z"
   },
   {
    "duration": 906459,
    "start_time": "2023-05-17T12:48:23.287Z"
   },
   {
    "duration": 0,
    "start_time": "2023-05-17T13:05:03.230Z"
   },
   {
    "duration": 59313,
    "start_time": "2023-05-17T13:05:22.925Z"
   },
   {
    "duration": 1553,
    "start_time": "2023-05-17T13:12:00.336Z"
   },
   {
    "duration": 776,
    "start_time": "2023-05-17T13:12:01.891Z"
   },
   {
    "duration": 18,
    "start_time": "2023-05-17T13:12:02.669Z"
   },
   {
    "duration": 51,
    "start_time": "2023-05-17T13:12:02.690Z"
   },
   {
    "duration": 248,
    "start_time": "2023-05-17T13:12:02.742Z"
   },
   {
    "duration": 27,
    "start_time": "2023-05-17T13:12:02.992Z"
   },
   {
    "duration": 4,
    "start_time": "2023-05-17T13:12:03.020Z"
   },
   {
    "duration": 232,
    "start_time": "2023-05-17T13:12:03.025Z"
   },
   {
    "duration": 103508,
    "start_time": "2023-05-17T13:12:03.258Z"
   },
   {
    "duration": 8,
    "start_time": "2023-05-17T13:13:46.769Z"
   },
   {
    "duration": 45,
    "start_time": "2023-05-17T13:13:46.779Z"
   },
   {
    "duration": 2140,
    "start_time": "2023-05-17T13:13:46.826Z"
   },
   {
    "duration": 8,
    "start_time": "2023-05-17T13:13:48.967Z"
   },
   {
    "duration": 70,
    "start_time": "2023-05-17T13:13:48.976Z"
   },
   {
    "duration": 7,
    "start_time": "2023-05-17T13:13:49.048Z"
   },
   {
    "duration": 60,
    "start_time": "2023-05-17T13:13:49.056Z"
   },
   {
    "duration": 9,
    "start_time": "2023-05-17T13:13:49.118Z"
   },
   {
    "duration": 3193,
    "start_time": "2023-05-17T13:13:49.128Z"
   },
   {
    "duration": 3046,
    "start_time": "2023-05-17T13:13:52.322Z"
   },
   {
    "duration": 25738,
    "start_time": "2023-05-17T13:13:55.370Z"
   },
   {
    "duration": 106,
    "start_time": "2023-05-17T13:14:21.110Z"
   },
   {
    "duration": 114,
    "start_time": "2023-05-17T13:14:21.218Z"
   },
   {
    "duration": 0,
    "start_time": "2023-05-17T13:14:21.334Z"
   },
   {
    "duration": 0,
    "start_time": "2023-05-17T13:14:21.335Z"
   },
   {
    "duration": 0,
    "start_time": "2023-05-17T13:14:21.336Z"
   },
   {
    "duration": 0,
    "start_time": "2023-05-17T13:14:21.338Z"
   },
   {
    "duration": 0,
    "start_time": "2023-05-17T13:14:21.339Z"
   },
   {
    "duration": 49297,
    "start_time": "2023-05-17T13:16:15.018Z"
   },
   {
    "duration": 3,
    "start_time": "2023-05-17T13:17:04.320Z"
   },
   {
    "duration": 7,
    "start_time": "2023-05-17T13:17:04.325Z"
   },
   {
    "duration": 0,
    "start_time": "2023-05-17T13:17:04.333Z"
   },
   {
    "duration": 0,
    "start_time": "2023-05-17T13:17:04.335Z"
   },
   {
    "duration": 76,
    "start_time": "2023-05-17T13:20:59.412Z"
   },
   {
    "duration": 1445,
    "start_time": "2023-05-17T13:21:31.035Z"
   },
   {
    "duration": 19,
    "start_time": "2023-05-17T13:21:53.023Z"
   },
   {
    "duration": 9,
    "start_time": "2023-05-17T13:23:38.711Z"
   },
   {
    "duration": 79,
    "start_time": "2023-05-17T13:24:01.067Z"
   },
   {
    "duration": 7,
    "start_time": "2023-05-17T13:24:01.806Z"
   },
   {
    "duration": 2964,
    "start_time": "2023-05-17T13:24:02.731Z"
   },
   {
    "duration": 698,
    "start_time": "2023-05-17T13:24:05.697Z"
   },
   {
    "duration": 698,
    "start_time": "2023-05-17T13:24:06.397Z"
   },
   {
    "duration": 25664,
    "start_time": "2023-05-17T13:24:11.656Z"
   },
   {
    "duration": 8,
    "start_time": "2023-05-17T13:24:39.862Z"
   },
   {
    "duration": 43408,
    "start_time": "2023-05-17T13:25:09.141Z"
   },
   {
    "duration": 12,
    "start_time": "2023-05-17T13:25:55.231Z"
   },
   {
    "duration": 11,
    "start_time": "2023-05-17T13:26:04.383Z"
   },
   {
    "duration": 10,
    "start_time": "2023-05-17T13:26:16.365Z"
   },
   {
    "duration": 13,
    "start_time": "2023-05-17T13:26:22.519Z"
   },
   {
    "duration": 1417,
    "start_time": "2023-05-17T13:30:36.904Z"
   },
   {
    "duration": 723,
    "start_time": "2023-05-17T13:30:38.323Z"
   },
   {
    "duration": 13,
    "start_time": "2023-05-17T13:30:39.047Z"
   },
   {
    "duration": 27,
    "start_time": "2023-05-17T13:30:39.062Z"
   },
   {
    "duration": 223,
    "start_time": "2023-05-17T13:30:39.091Z"
   },
   {
    "duration": 25,
    "start_time": "2023-05-17T13:30:39.316Z"
   },
   {
    "duration": 3,
    "start_time": "2023-05-17T13:30:39.342Z"
   },
   {
    "duration": 229,
    "start_time": "2023-05-17T13:30:39.346Z"
   },
   {
    "duration": 104747,
    "start_time": "2023-05-17T13:30:39.577Z"
   },
   {
    "duration": 8,
    "start_time": "2023-05-17T13:32:24.326Z"
   },
   {
    "duration": 31,
    "start_time": "2023-05-17T13:32:24.335Z"
   },
   {
    "duration": 2226,
    "start_time": "2023-05-17T13:32:24.368Z"
   },
   {
    "duration": 20,
    "start_time": "2023-05-17T13:32:26.595Z"
   },
   {
    "duration": 62,
    "start_time": "2023-05-17T13:32:26.617Z"
   },
   {
    "duration": 7,
    "start_time": "2023-05-17T13:32:26.681Z"
   },
   {
    "duration": 177,
    "start_time": "2023-05-17T13:32:26.689Z"
   },
   {
    "duration": 0,
    "start_time": "2023-05-17T13:32:26.867Z"
   },
   {
    "duration": 1,
    "start_time": "2023-05-17T13:32:26.868Z"
   },
   {
    "duration": 0,
    "start_time": "2023-05-17T13:32:26.870Z"
   },
   {
    "duration": 0,
    "start_time": "2023-05-17T13:32:26.871Z"
   },
   {
    "duration": 0,
    "start_time": "2023-05-17T13:32:26.871Z"
   },
   {
    "duration": 0,
    "start_time": "2023-05-17T13:32:26.872Z"
   },
   {
    "duration": 0,
    "start_time": "2023-05-17T13:32:26.873Z"
   },
   {
    "duration": 0,
    "start_time": "2023-05-17T13:32:26.874Z"
   },
   {
    "duration": 0,
    "start_time": "2023-05-17T13:32:26.875Z"
   },
   {
    "duration": 0,
    "start_time": "2023-05-17T13:32:26.876Z"
   },
   {
    "duration": 0,
    "start_time": "2023-05-17T13:32:26.877Z"
   },
   {
    "duration": 0,
    "start_time": "2023-05-17T13:32:26.878Z"
   },
   {
    "duration": 74,
    "start_time": "2023-05-17T13:32:39.203Z"
   },
   {
    "duration": 8,
    "start_time": "2023-05-17T13:32:40.017Z"
   },
   {
    "duration": 2971,
    "start_time": "2023-05-17T13:32:40.224Z"
   },
   {
    "duration": 1394,
    "start_time": "2023-05-17T13:32:43.197Z"
   },
   {
    "duration": 1415,
    "start_time": "2023-05-17T13:32:44.593Z"
   },
   {
    "duration": 22597,
    "start_time": "2023-05-17T13:32:46.010Z"
   },
   {
    "duration": 15,
    "start_time": "2023-05-17T13:33:08.608Z"
   },
   {
    "duration": 0,
    "start_time": "2023-05-17T13:36:36.960Z"
   },
   {
    "duration": 0,
    "start_time": "2023-05-17T13:36:36.961Z"
   },
   {
    "duration": 0,
    "start_time": "2023-05-17T13:36:36.962Z"
   },
   {
    "duration": 0,
    "start_time": "2023-05-17T13:36:36.963Z"
   },
   {
    "duration": 0,
    "start_time": "2023-05-17T13:36:36.964Z"
   },
   {
    "duration": 0,
    "start_time": "2023-05-17T13:36:36.965Z"
   },
   {
    "duration": 2870,
    "start_time": "2023-05-17T13:36:39.608Z"
   },
   {
    "duration": 12439,
    "start_time": "2023-05-17T13:36:47.922Z"
   },
   {
    "duration": 54271,
    "start_time": "2023-05-17T13:37:06.085Z"
   },
   {
    "duration": 2306,
    "start_time": "2023-05-17T13:38:03.124Z"
   },
   {
    "duration": 2363,
    "start_time": "2023-05-17T13:38:55.544Z"
   },
   {
    "duration": 1693,
    "start_time": "2023-05-17T13:39:06.555Z"
   },
   {
    "duration": 15,
    "start_time": "2023-05-17T13:39:30.292Z"
   },
   {
    "duration": 2,
    "start_time": "2023-05-17T13:45:06.089Z"
   },
   {
    "duration": 379313,
    "start_time": "2023-05-17T13:45:06.292Z"
   },
   {
    "duration": 1,
    "start_time": "2023-05-17T13:51:25.608Z"
   },
   {
    "duration": 1643,
    "start_time": "2023-05-17T13:55:48.403Z"
   },
   {
    "duration": 818,
    "start_time": "2023-05-17T13:55:50.048Z"
   },
   {
    "duration": 13,
    "start_time": "2023-05-17T13:55:50.868Z"
   },
   {
    "duration": 57,
    "start_time": "2023-05-17T13:55:50.883Z"
   },
   {
    "duration": 225,
    "start_time": "2023-05-17T13:55:50.941Z"
   },
   {
    "duration": 26,
    "start_time": "2023-05-17T13:55:51.168Z"
   },
   {
    "duration": 14,
    "start_time": "2023-05-17T13:55:51.195Z"
   },
   {
    "duration": 264,
    "start_time": "2023-05-17T13:55:51.210Z"
   },
   {
    "duration": 115507,
    "start_time": "2023-05-17T13:55:51.476Z"
   },
   {
    "duration": 7,
    "start_time": "2023-05-17T13:57:46.986Z"
   },
   {
    "duration": 64,
    "start_time": "2023-05-17T13:57:46.994Z"
   },
   {
    "duration": 2551,
    "start_time": "2023-05-17T13:57:47.059Z"
   },
   {
    "duration": 16,
    "start_time": "2023-05-17T13:57:49.619Z"
   },
   {
    "duration": 59,
    "start_time": "2023-05-17T13:57:49.637Z"
   },
   {
    "duration": 20,
    "start_time": "2023-05-17T13:57:49.698Z"
   },
   {
    "duration": 85,
    "start_time": "2023-05-17T13:57:49.721Z"
   },
   {
    "duration": 9,
    "start_time": "2023-05-17T13:57:49.812Z"
   },
   {
    "duration": 3568,
    "start_time": "2023-05-17T13:57:49.823Z"
   },
   {
    "duration": 1638,
    "start_time": "2023-05-17T13:57:53.392Z"
   },
   {
    "duration": 1621,
    "start_time": "2023-05-17T13:57:55.037Z"
   },
   {
    "duration": 29279,
    "start_time": "2023-05-17T13:57:56.659Z"
   },
   {
    "duration": 75,
    "start_time": "2023-05-17T13:58:25.940Z"
   },
   {
    "duration": 318610,
    "start_time": "2023-05-17T14:00:41.518Z"
   },
   {
    "duration": 188733,
    "start_time": "2023-05-17T14:06:00.132Z"
   },
   {
    "duration": 0,
    "start_time": "2023-05-17T14:09:08.866Z"
   },
   {
    "duration": 59827,
    "start_time": "2023-05-17T14:09:48.405Z"
   },
   {
    "duration": 2,
    "start_time": "2023-05-17T14:11:04.389Z"
   },
   {
    "duration": 1571,
    "start_time": "2023-05-17T14:19:28.404Z"
   },
   {
    "duration": 2666,
    "start_time": "2023-05-17T14:19:29.978Z"
   },
   {
    "duration": 15,
    "start_time": "2023-05-17T14:19:32.645Z"
   },
   {
    "duration": 35,
    "start_time": "2023-05-17T14:19:32.661Z"
   },
   {
    "duration": 228,
    "start_time": "2023-05-17T14:19:32.699Z"
   },
   {
    "duration": 26,
    "start_time": "2023-05-17T14:19:32.929Z"
   },
   {
    "duration": 16,
    "start_time": "2023-05-17T14:19:32.957Z"
   },
   {
    "duration": 252,
    "start_time": "2023-05-17T14:19:32.974Z"
   },
   {
    "duration": 108233,
    "start_time": "2023-05-17T14:19:33.228Z"
   },
   {
    "duration": 6,
    "start_time": "2023-05-17T14:21:21.463Z"
   },
   {
    "duration": 41,
    "start_time": "2023-05-17T14:21:21.471Z"
   },
   {
    "duration": 2303,
    "start_time": "2023-05-17T14:21:21.516Z"
   },
   {
    "duration": 8,
    "start_time": "2023-05-17T14:21:23.821Z"
   },
   {
    "duration": 91,
    "start_time": "2023-05-17T14:21:23.832Z"
   },
   {
    "duration": 9,
    "start_time": "2023-05-17T14:21:23.925Z"
   },
   {
    "duration": 97,
    "start_time": "2023-05-17T14:21:23.936Z"
   },
   {
    "duration": 8,
    "start_time": "2023-05-17T14:21:24.035Z"
   },
   {
    "duration": 3220,
    "start_time": "2023-05-17T14:21:24.044Z"
   },
   {
    "duration": 1637,
    "start_time": "2023-05-17T14:21:27.266Z"
   },
   {
    "duration": 1565,
    "start_time": "2023-05-17T14:21:28.906Z"
   },
   {
    "duration": 26841,
    "start_time": "2023-05-17T14:21:30.473Z"
   },
   {
    "duration": 14,
    "start_time": "2023-05-17T14:21:57.317Z"
   },
   {
    "duration": 54663,
    "start_time": "2023-05-17T14:21:57.333Z"
   },
   {
    "duration": 2,
    "start_time": "2023-05-17T14:22:51.998Z"
   },
   {
    "duration": 0,
    "start_time": "2023-05-17T14:31:08.672Z"
   },
   {
    "duration": 0,
    "start_time": "2023-05-17T14:31:08.672Z"
   },
   {
    "duration": 1402,
    "start_time": "2023-05-17T14:36:38.775Z"
   },
   {
    "duration": 748,
    "start_time": "2023-05-17T14:36:40.179Z"
   },
   {
    "duration": 12,
    "start_time": "2023-05-17T14:36:40.929Z"
   },
   {
    "duration": 27,
    "start_time": "2023-05-17T14:36:40.943Z"
   },
   {
    "duration": 235,
    "start_time": "2023-05-17T14:36:40.972Z"
   },
   {
    "duration": 27,
    "start_time": "2023-05-17T14:36:41.208Z"
   },
   {
    "duration": 7,
    "start_time": "2023-05-17T14:36:41.237Z"
   },
   {
    "duration": 269,
    "start_time": "2023-05-17T14:36:41.245Z"
   },
   {
    "duration": 112708,
    "start_time": "2023-05-17T14:36:41.516Z"
   },
   {
    "duration": 11,
    "start_time": "2023-05-17T14:38:34.226Z"
   },
   {
    "duration": 46,
    "start_time": "2023-05-17T14:38:34.238Z"
   },
   {
    "duration": 2228,
    "start_time": "2023-05-17T14:38:34.286Z"
   },
   {
    "duration": 9,
    "start_time": "2023-05-17T14:38:36.519Z"
   },
   {
    "duration": 68,
    "start_time": "2023-05-17T14:38:36.531Z"
   },
   {
    "duration": 26,
    "start_time": "2023-05-17T14:38:36.600Z"
   },
   {
    "duration": 66,
    "start_time": "2023-05-17T14:38:36.628Z"
   },
   {
    "duration": 7,
    "start_time": "2023-05-17T14:38:36.696Z"
   },
   {
    "duration": 3217,
    "start_time": "2023-05-17T14:38:36.704Z"
   },
   {
    "duration": 1481,
    "start_time": "2023-05-17T14:38:39.923Z"
   },
   {
    "duration": 1581,
    "start_time": "2023-05-17T14:38:41.406Z"
   },
   {
    "duration": 29235,
    "start_time": "2023-05-17T14:38:42.989Z"
   },
   {
    "duration": 17,
    "start_time": "2023-05-17T14:39:12.233Z"
   },
   {
    "duration": 57296,
    "start_time": "2023-05-17T14:39:12.251Z"
   },
   {
    "duration": 61,
    "start_time": "2023-05-17T14:40:09.548Z"
   },
   {
    "duration": 0,
    "start_time": "2023-05-17T14:40:09.613Z"
   },
   {
    "duration": 1574,
    "start_time": "2023-05-17T14:45:57.980Z"
   },
   {
    "duration": 846,
    "start_time": "2023-05-17T14:45:59.557Z"
   },
   {
    "duration": 22,
    "start_time": "2023-05-17T14:46:00.405Z"
   },
   {
    "duration": 67,
    "start_time": "2023-05-17T14:46:00.428Z"
   },
   {
    "duration": 256,
    "start_time": "2023-05-17T14:46:00.497Z"
   },
   {
    "duration": 26,
    "start_time": "2023-05-17T14:46:00.755Z"
   },
   {
    "duration": 46,
    "start_time": "2023-05-17T14:46:00.782Z"
   },
   {
    "duration": 258,
    "start_time": "2023-05-17T14:46:00.830Z"
   },
   {
    "duration": 116245,
    "start_time": "2023-05-17T14:46:01.089Z"
   },
   {
    "duration": 10,
    "start_time": "2023-05-17T14:47:57.335Z"
   },
   {
    "duration": 31,
    "start_time": "2023-05-17T14:47:57.347Z"
   },
   {
    "duration": 2738,
    "start_time": "2023-05-17T14:47:57.379Z"
   },
   {
    "duration": 16,
    "start_time": "2023-05-17T14:48:00.119Z"
   },
   {
    "duration": 96,
    "start_time": "2023-05-17T14:48:00.139Z"
   },
   {
    "duration": 11,
    "start_time": "2023-05-17T14:48:00.238Z"
   },
   {
    "duration": 95,
    "start_time": "2023-05-17T14:48:00.251Z"
   },
   {
    "duration": 10,
    "start_time": "2023-05-17T14:48:00.348Z"
   },
   {
    "duration": 3837,
    "start_time": "2023-05-17T14:48:00.360Z"
   },
   {
    "duration": 1589,
    "start_time": "2023-05-17T14:48:04.199Z"
   },
   {
    "duration": 1611,
    "start_time": "2023-05-17T14:48:05.790Z"
   },
   {
    "duration": 30103,
    "start_time": "2023-05-17T14:48:07.403Z"
   },
   {
    "duration": 16,
    "start_time": "2023-05-17T14:48:37.508Z"
   },
   {
    "duration": 35505,
    "start_time": "2023-05-17T14:48:37.525Z"
   },
   {
    "duration": 21074,
    "start_time": "2023-05-17T14:49:13.033Z"
   },
   {
    "duration": 0,
    "start_time": "2023-05-17T14:49:34.109Z"
   },
   {
    "duration": 3998,
    "start_time": "2023-05-17T14:49:57.387Z"
   },
   {
    "duration": 3492,
    "start_time": "2023-05-17T14:50:01.387Z"
   },
   {
    "duration": 13,
    "start_time": "2023-05-17T14:50:04.880Z"
   },
   {
    "duration": 37,
    "start_time": "2023-05-17T14:50:04.895Z"
   },
   {
    "duration": 229,
    "start_time": "2023-05-17T14:50:04.934Z"
   },
   {
    "duration": 28,
    "start_time": "2023-05-17T14:50:05.165Z"
   },
   {
    "duration": 8,
    "start_time": "2023-05-17T14:50:05.211Z"
   },
   {
    "duration": 245,
    "start_time": "2023-05-17T14:50:05.221Z"
   },
   {
    "duration": 111319,
    "start_time": "2023-05-17T14:50:05.468Z"
   },
   {
    "duration": 7,
    "start_time": "2023-05-17T14:51:56.789Z"
   },
   {
    "duration": 40,
    "start_time": "2023-05-17T14:51:56.798Z"
   },
   {
    "duration": 2436,
    "start_time": "2023-05-17T14:51:56.840Z"
   },
   {
    "duration": 9,
    "start_time": "2023-05-17T14:51:59.278Z"
   },
   {
    "duration": 77,
    "start_time": "2023-05-17T14:51:59.290Z"
   },
   {
    "duration": 8,
    "start_time": "2023-05-17T14:51:59.369Z"
   },
   {
    "duration": 94,
    "start_time": "2023-05-17T14:51:59.378Z"
   },
   {
    "duration": 7,
    "start_time": "2023-05-17T14:51:59.474Z"
   },
   {
    "duration": 3634,
    "start_time": "2023-05-17T14:51:59.482Z"
   },
   {
    "duration": 1631,
    "start_time": "2023-05-17T14:52:03.118Z"
   },
   {
    "duration": 1647,
    "start_time": "2023-05-17T14:52:04.750Z"
   },
   {
    "duration": 26408,
    "start_time": "2023-05-17T14:52:06.398Z"
   },
   {
    "duration": 102,
    "start_time": "2023-05-17T14:52:32.808Z"
   },
   {
    "duration": 72878,
    "start_time": "2023-05-17T14:52:32.916Z"
   },
   {
    "duration": 1645,
    "start_time": "2023-05-17T14:54:40.380Z"
   },
   {
    "duration": 797,
    "start_time": "2023-05-17T14:54:42.027Z"
   },
   {
    "duration": 14,
    "start_time": "2023-05-17T14:54:42.826Z"
   },
   {
    "duration": 56,
    "start_time": "2023-05-17T14:54:42.842Z"
   },
   {
    "duration": 232,
    "start_time": "2023-05-17T14:54:42.900Z"
   },
   {
    "duration": 26,
    "start_time": "2023-05-17T14:54:43.134Z"
   },
   {
    "duration": 5,
    "start_time": "2023-05-17T14:54:43.162Z"
   },
   {
    "duration": 259,
    "start_time": "2023-05-17T14:54:43.168Z"
   },
   {
    "duration": 108351,
    "start_time": "2023-05-17T14:54:43.430Z"
   },
   {
    "duration": 8,
    "start_time": "2023-05-17T14:56:31.783Z"
   },
   {
    "duration": 39,
    "start_time": "2023-05-17T14:56:31.805Z"
   },
   {
    "duration": 2349,
    "start_time": "2023-05-17T14:56:31.845Z"
   },
   {
    "duration": 32,
    "start_time": "2023-05-17T14:56:34.195Z"
   },
   {
    "duration": 64,
    "start_time": "2023-05-17T14:56:34.229Z"
   },
   {
    "duration": 9,
    "start_time": "2023-05-17T14:56:34.295Z"
   },
   {
    "duration": 71,
    "start_time": "2023-05-17T14:56:34.306Z"
   },
   {
    "duration": 7,
    "start_time": "2023-05-17T14:56:34.378Z"
   },
   {
    "duration": 3229,
    "start_time": "2023-05-17T14:56:34.387Z"
   },
   {
    "duration": 1473,
    "start_time": "2023-05-17T14:56:37.622Z"
   },
   {
    "duration": 1492,
    "start_time": "2023-05-17T14:56:39.096Z"
   },
   {
    "duration": 27619,
    "start_time": "2023-05-17T14:56:40.590Z"
   },
   {
    "duration": 15,
    "start_time": "2023-05-17T14:57:08.211Z"
   },
   {
    "duration": 102034,
    "start_time": "2023-05-17T14:57:08.228Z"
   },
   {
    "duration": 108166,
    "start_time": "2023-05-17T14:58:50.264Z"
   },
   {
    "duration": 0,
    "start_time": "2023-05-17T15:00:38.432Z"
   },
   {
    "duration": 0,
    "start_time": "2023-05-17T15:03:26.520Z"
   },
   {
    "duration": 0,
    "start_time": "2023-05-17T15:03:26.521Z"
   },
   {
    "duration": 1640,
    "start_time": "2023-05-17T15:03:51.287Z"
   },
   {
    "duration": 765,
    "start_time": "2023-05-17T15:03:52.928Z"
   },
   {
    "duration": 24,
    "start_time": "2023-05-17T15:03:53.694Z"
   },
   {
    "duration": 30,
    "start_time": "2023-05-17T15:03:53.720Z"
   },
   {
    "duration": 235,
    "start_time": "2023-05-17T15:03:53.752Z"
   },
   {
    "duration": 31,
    "start_time": "2023-05-17T15:03:53.989Z"
   },
   {
    "duration": 6,
    "start_time": "2023-05-17T15:03:54.022Z"
   },
   {
    "duration": 234,
    "start_time": "2023-05-17T15:03:54.029Z"
   },
   {
    "duration": 108944,
    "start_time": "2023-05-17T15:03:54.265Z"
   },
   {
    "duration": 7,
    "start_time": "2023-05-17T15:05:43.210Z"
   },
   {
    "duration": 35,
    "start_time": "2023-05-17T15:05:43.219Z"
   },
   {
    "duration": 2276,
    "start_time": "2023-05-17T15:05:43.256Z"
   },
   {
    "duration": 12,
    "start_time": "2023-05-17T15:05:45.534Z"
   },
   {
    "duration": 89,
    "start_time": "2023-05-17T15:05:45.548Z"
   },
   {
    "duration": 14,
    "start_time": "2023-05-17T15:05:45.639Z"
   },
   {
    "duration": 114,
    "start_time": "2023-05-17T15:05:45.655Z"
   },
   {
    "duration": 11,
    "start_time": "2023-05-17T15:05:45.770Z"
   },
   {
    "duration": 3284,
    "start_time": "2023-05-17T15:05:45.782Z"
   },
   {
    "duration": 1439,
    "start_time": "2023-05-17T15:05:49.067Z"
   },
   {
    "duration": 1435,
    "start_time": "2023-05-17T15:05:50.508Z"
   },
   {
    "duration": 25869,
    "start_time": "2023-05-17T15:05:51.945Z"
   },
   {
    "duration": 100,
    "start_time": "2023-05-17T15:06:17.816Z"
   },
   {
    "duration": 142780,
    "start_time": "2023-05-17T15:06:17.917Z"
   },
   {
    "duration": 103,
    "start_time": "2023-05-17T15:08:40.699Z"
   },
   {
    "duration": 0,
    "start_time": "2023-05-17T15:08:40.806Z"
   },
   {
    "duration": 77562,
    "start_time": "2023-05-17T15:09:08.154Z"
   },
   {
    "duration": 4,
    "start_time": "2023-05-17T15:10:30.587Z"
   },
   {
    "duration": 1436,
    "start_time": "2023-05-17T15:10:55.898Z"
   },
   {
    "duration": 753,
    "start_time": "2023-05-17T15:10:57.336Z"
   },
   {
    "duration": 17,
    "start_time": "2023-05-17T15:10:58.090Z"
   },
   {
    "duration": 28,
    "start_time": "2023-05-17T15:10:58.108Z"
   },
   {
    "duration": 223,
    "start_time": "2023-05-17T15:10:58.138Z"
   },
   {
    "duration": 24,
    "start_time": "2023-05-17T15:10:58.363Z"
   },
   {
    "duration": 18,
    "start_time": "2023-05-17T15:10:58.388Z"
   },
   {
    "duration": 229,
    "start_time": "2023-05-17T15:10:58.407Z"
   },
   {
    "duration": 102551,
    "start_time": "2023-05-17T15:10:58.637Z"
   },
   {
    "duration": 8,
    "start_time": "2023-05-17T15:12:41.189Z"
   },
   {
    "duration": 36,
    "start_time": "2023-05-17T15:12:41.198Z"
   },
   {
    "duration": 2167,
    "start_time": "2023-05-17T15:12:41.235Z"
   },
   {
    "duration": 8,
    "start_time": "2023-05-17T15:12:43.406Z"
   },
   {
    "duration": 71,
    "start_time": "2023-05-17T15:12:43.417Z"
   },
   {
    "duration": 7,
    "start_time": "2023-05-17T15:12:43.490Z"
   },
   {
    "duration": 67,
    "start_time": "2023-05-17T15:12:43.498Z"
   },
   {
    "duration": 7,
    "start_time": "2023-05-17T15:12:43.567Z"
   },
   {
    "duration": 3062,
    "start_time": "2023-05-17T15:12:43.575Z"
   },
   {
    "duration": 1452,
    "start_time": "2023-05-17T15:12:46.639Z"
   },
   {
    "duration": 1603,
    "start_time": "2023-05-17T15:12:48.093Z"
   },
   {
    "duration": 26518,
    "start_time": "2023-05-17T15:12:49.698Z"
   },
   {
    "duration": 91,
    "start_time": "2023-05-17T15:13:16.219Z"
   },
   {
    "duration": 1585,
    "start_time": "2023-05-17T15:29:43.291Z"
   },
   {
    "duration": 742,
    "start_time": "2023-05-17T15:29:44.877Z"
   },
   {
    "duration": 12,
    "start_time": "2023-05-17T15:29:45.621Z"
   },
   {
    "duration": 30,
    "start_time": "2023-05-17T15:29:45.634Z"
   },
   {
    "duration": 231,
    "start_time": "2023-05-17T15:29:45.666Z"
   },
   {
    "duration": 31,
    "start_time": "2023-05-17T15:29:45.899Z"
   },
   {
    "duration": 3,
    "start_time": "2023-05-17T15:29:45.932Z"
   },
   {
    "duration": 236,
    "start_time": "2023-05-17T15:29:45.937Z"
   },
   {
    "duration": 103002,
    "start_time": "2023-05-17T15:29:46.175Z"
   },
   {
    "duration": 8,
    "start_time": "2023-05-17T15:31:29.178Z"
   },
   {
    "duration": 40,
    "start_time": "2023-05-17T15:31:29.188Z"
   },
   {
    "duration": 2217,
    "start_time": "2023-05-17T15:31:29.229Z"
   },
   {
    "duration": 8,
    "start_time": "2023-05-17T15:31:31.448Z"
   },
   {
    "duration": 86,
    "start_time": "2023-05-17T15:31:31.459Z"
   },
   {
    "duration": 7,
    "start_time": "2023-05-17T15:31:31.547Z"
   },
   {
    "duration": 94,
    "start_time": "2023-05-17T15:31:31.556Z"
   },
   {
    "duration": 8,
    "start_time": "2023-05-17T15:31:31.652Z"
   },
   {
    "duration": 3146,
    "start_time": "2023-05-17T15:31:31.661Z"
   },
   {
    "duration": 1369,
    "start_time": "2023-05-17T15:31:34.809Z"
   },
   {
    "duration": 1395,
    "start_time": "2023-05-17T15:31:36.180Z"
   },
   {
    "duration": 25929,
    "start_time": "2023-05-17T15:31:37.577Z"
   },
   {
    "duration": 12,
    "start_time": "2023-05-17T15:32:03.508Z"
   },
   {
    "duration": 135925,
    "start_time": "2023-05-17T15:32:03.522Z"
   },
   {
    "duration": 1994,
    "start_time": "2023-05-17T15:41:27.480Z"
   },
   {
    "duration": 771,
    "start_time": "2023-05-17T15:41:29.477Z"
   },
   {
    "duration": 13,
    "start_time": "2023-05-17T15:41:30.249Z"
   },
   {
    "duration": 46,
    "start_time": "2023-05-17T15:41:30.263Z"
   },
   {
    "duration": 230,
    "start_time": "2023-05-17T15:41:30.311Z"
   },
   {
    "duration": 27,
    "start_time": "2023-05-17T15:41:30.542Z"
   },
   {
    "duration": 26,
    "start_time": "2023-05-17T15:41:30.571Z"
   },
   {
    "duration": 286,
    "start_time": "2023-05-17T15:41:30.599Z"
   },
   {
    "duration": 108990,
    "start_time": "2023-05-17T15:41:30.886Z"
   },
   {
    "duration": 7,
    "start_time": "2023-05-17T15:43:19.878Z"
   },
   {
    "duration": 38,
    "start_time": "2023-05-17T15:43:19.886Z"
   },
   {
    "duration": 2110,
    "start_time": "2023-05-17T15:43:19.926Z"
   },
   {
    "duration": 7,
    "start_time": "2023-05-17T15:43:22.038Z"
   },
   {
    "duration": 67,
    "start_time": "2023-05-17T15:43:22.048Z"
   },
   {
    "duration": 8,
    "start_time": "2023-05-17T15:43:22.116Z"
   },
   {
    "duration": 63,
    "start_time": "2023-05-17T15:43:22.125Z"
   },
   {
    "duration": 18,
    "start_time": "2023-05-17T15:43:22.189Z"
   },
   {
    "duration": 3065,
    "start_time": "2023-05-17T15:43:22.208Z"
   },
   {
    "duration": 1442,
    "start_time": "2023-05-17T15:43:25.276Z"
   },
   {
    "duration": 1605,
    "start_time": "2023-05-17T15:43:26.720Z"
   },
   {
    "duration": 24287,
    "start_time": "2023-05-17T15:43:28.327Z"
   },
   {
    "duration": 14,
    "start_time": "2023-05-17T15:43:52.616Z"
   },
   {
    "duration": 133910,
    "start_time": "2023-05-17T15:43:52.632Z"
   },
   {
    "duration": 1503,
    "start_time": "2023-05-17T17:07:29.797Z"
   },
   {
    "duration": 2301,
    "start_time": "2023-05-17T17:07:31.302Z"
   },
   {
    "duration": 11,
    "start_time": "2023-05-17T17:07:33.605Z"
   },
   {
    "duration": 33,
    "start_time": "2023-05-17T17:07:33.618Z"
   },
   {
    "duration": 217,
    "start_time": "2023-05-17T17:07:33.653Z"
   },
   {
    "duration": 27,
    "start_time": "2023-05-17T17:07:33.871Z"
   },
   {
    "duration": 6,
    "start_time": "2023-05-17T17:07:33.899Z"
   },
   {
    "duration": 226,
    "start_time": "2023-05-17T17:07:33.906Z"
   },
   {
    "duration": 3032,
    "start_time": "2023-05-17T18:42:29.808Z"
   },
   {
    "duration": 4467,
    "start_time": "2023-05-17T18:42:32.842Z"
   },
   {
    "duration": 13,
    "start_time": "2023-05-17T18:42:37.311Z"
   },
   {
    "duration": 30,
    "start_time": "2023-05-17T18:42:37.326Z"
   },
   {
    "duration": 247,
    "start_time": "2023-05-17T18:42:37.363Z"
   },
   {
    "duration": 26,
    "start_time": "2023-05-17T18:42:37.612Z"
   },
   {
    "duration": 7,
    "start_time": "2023-05-17T18:42:37.640Z"
   },
   {
    "duration": 280,
    "start_time": "2023-05-17T18:42:37.658Z"
   },
   {
    "duration": 145426,
    "start_time": "2023-05-17T18:42:37.940Z"
   },
   {
    "duration": 23,
    "start_time": "2023-05-17T18:45:03.367Z"
   },
   {
    "duration": 38,
    "start_time": "2023-05-17T18:45:03.393Z"
   },
   {
    "duration": 2908,
    "start_time": "2023-05-17T18:45:03.433Z"
   },
   {
    "duration": 8,
    "start_time": "2023-05-17T18:45:06.343Z"
   },
   {
    "duration": 82,
    "start_time": "2023-05-17T18:45:06.362Z"
   },
   {
    "duration": 14,
    "start_time": "2023-05-17T18:45:06.445Z"
   },
   {
    "duration": 110,
    "start_time": "2023-05-17T18:45:06.461Z"
   },
   {
    "duration": 10,
    "start_time": "2023-05-17T18:45:06.572Z"
   },
   {
    "duration": 4407,
    "start_time": "2023-05-17T18:45:06.584Z"
   },
   {
    "duration": 2018,
    "start_time": "2023-05-17T18:45:10.999Z"
   },
   {
    "duration": 2121,
    "start_time": "2023-05-17T18:45:13.025Z"
   },
   {
    "duration": 32111,
    "start_time": "2023-05-17T18:45:15.148Z"
   },
   {
    "duration": 105,
    "start_time": "2023-05-17T18:45:47.261Z"
   },
   {
    "duration": 211373,
    "start_time": "2023-05-17T18:48:38.735Z"
   },
   {
    "duration": 0,
    "start_time": "2023-05-17T18:52:10.110Z"
   },
   {
    "duration": 1770,
    "start_time": "2023-05-17T18:55:21.395Z"
   },
   {
    "duration": 928,
    "start_time": "2023-05-17T18:55:23.169Z"
   },
   {
    "duration": 22,
    "start_time": "2023-05-17T18:55:24.101Z"
   },
   {
    "duration": 54,
    "start_time": "2023-05-17T18:55:24.125Z"
   },
   {
    "duration": 243,
    "start_time": "2023-05-17T18:55:24.184Z"
   },
   {
    "duration": 36,
    "start_time": "2023-05-17T18:55:24.429Z"
   },
   {
    "duration": 10,
    "start_time": "2023-05-17T18:55:24.472Z"
   },
   {
    "duration": 261,
    "start_time": "2023-05-17T18:55:24.483Z"
   },
   {
    "duration": 133300,
    "start_time": "2023-05-17T18:55:24.745Z"
   },
   {
    "duration": 13,
    "start_time": "2023-05-17T18:57:38.047Z"
   },
   {
    "duration": 41,
    "start_time": "2023-05-17T18:57:38.061Z"
   },
   {
    "duration": 3033,
    "start_time": "2023-05-17T18:57:38.104Z"
   },
   {
    "duration": 8,
    "start_time": "2023-05-17T18:57:41.139Z"
   },
   {
    "duration": 79,
    "start_time": "2023-05-17T18:57:41.157Z"
   },
   {
    "duration": 8,
    "start_time": "2023-05-17T18:57:41.238Z"
   },
   {
    "duration": 94,
    "start_time": "2023-05-17T18:57:41.248Z"
   },
   {
    "duration": 17,
    "start_time": "2023-05-17T18:57:41.344Z"
   },
   {
    "duration": 4144,
    "start_time": "2023-05-17T18:57:41.371Z"
   },
   {
    "duration": 1799,
    "start_time": "2023-05-17T18:57:45.516Z"
   },
   {
    "duration": 1854,
    "start_time": "2023-05-17T18:57:47.317Z"
   },
   {
    "duration": 164,
    "start_time": "2023-05-17T18:57:49.180Z"
   },
   {
    "duration": 0,
    "start_time": "2023-05-17T18:57:49.346Z"
   },
   {
    "duration": 0,
    "start_time": "2023-05-17T18:57:49.347Z"
   },
   {
    "duration": 0,
    "start_time": "2023-05-17T18:57:49.349Z"
   },
   {
    "duration": 0,
    "start_time": "2023-05-17T18:57:49.350Z"
   },
   {
    "duration": 0,
    "start_time": "2023-05-17T18:57:49.351Z"
   },
   {
    "duration": 0,
    "start_time": "2023-05-17T18:57:49.353Z"
   },
   {
    "duration": 33754,
    "start_time": "2023-05-17T18:58:08.143Z"
   },
   {
    "duration": 18,
    "start_time": "2023-05-17T18:58:57.484Z"
   },
   {
    "duration": 172810,
    "start_time": "2023-05-17T18:59:06.492Z"
   },
   {
    "duration": 6,
    "start_time": "2023-05-17T19:05:33.639Z"
   },
   {
    "duration": 132,
    "start_time": "2023-05-17T19:05:58.599Z"
   },
   {
    "duration": 31,
    "start_time": "2023-05-17T19:06:19.187Z"
   },
   {
    "duration": 40,
    "start_time": "2023-05-17T19:07:42.251Z"
   },
   {
    "duration": 14,
    "start_time": "2023-05-17T19:07:47.643Z"
   },
   {
    "duration": 127,
    "start_time": "2023-05-17T19:07:47.819Z"
   },
   {
    "duration": 20,
    "start_time": "2023-05-17T19:09:19.256Z"
   },
   {
    "duration": 0,
    "start_time": "2023-05-17T19:12:39.367Z"
   },
   {
    "duration": 204788,
    "start_time": "2023-05-17T19:12:50.691Z"
   },
   {
    "duration": 0,
    "start_time": "2023-05-17T19:20:03.387Z"
   },
   {
    "duration": 273187,
    "start_time": "2023-05-17T19:20:07.044Z"
   },
   {
    "duration": 131891,
    "start_time": "2023-05-17T19:25:43.793Z"
   },
   {
    "duration": 0,
    "start_time": "2023-05-17T19:32:39.215Z"
   },
   {
    "duration": 189139,
    "start_time": "2023-05-17T19:32:41.153Z"
   },
   {
    "duration": 363,
    "start_time": "2023-05-17T19:37:17.044Z"
   },
   {
    "duration": 2891,
    "start_time": "2023-05-17T23:19:11.769Z"
   },
   {
    "duration": 2429,
    "start_time": "2023-05-17T23:19:14.662Z"
   },
   {
    "duration": 15,
    "start_time": "2023-05-17T23:19:17.093Z"
   },
   {
    "duration": 39,
    "start_time": "2023-05-17T23:19:17.110Z"
   },
   {
    "duration": 267,
    "start_time": "2023-05-17T23:19:17.151Z"
   },
   {
    "duration": 25,
    "start_time": "2023-05-17T23:19:17.420Z"
   },
   {
    "duration": 5,
    "start_time": "2023-05-17T23:19:17.446Z"
   },
   {
    "duration": 261,
    "start_time": "2023-05-17T23:19:17.453Z"
   },
   {
    "duration": 108278,
    "start_time": "2023-05-17T23:19:17.716Z"
   },
   {
    "duration": 7,
    "start_time": "2023-05-17T23:21:05.997Z"
   },
   {
    "duration": 39,
    "start_time": "2023-05-17T23:21:06.005Z"
   },
   {
    "duration": 2335,
    "start_time": "2023-05-17T23:21:06.047Z"
   },
   {
    "duration": 11,
    "start_time": "2023-05-17T23:21:08.384Z"
   },
   {
    "duration": 68,
    "start_time": "2023-05-17T23:21:08.397Z"
   },
   {
    "duration": 15,
    "start_time": "2023-05-17T23:21:08.467Z"
   },
   {
    "duration": 89,
    "start_time": "2023-05-17T23:21:08.495Z"
   },
   {
    "duration": 8,
    "start_time": "2023-05-17T23:21:08.595Z"
   },
   {
    "duration": 3500,
    "start_time": "2023-05-17T23:21:08.605Z"
   },
   {
    "duration": 1624,
    "start_time": "2023-05-17T23:21:12.107Z"
   },
   {
    "duration": 1628,
    "start_time": "2023-05-17T23:21:13.733Z"
   },
   {
    "duration": 32436,
    "start_time": "2023-05-17T23:21:15.363Z"
   },
   {
    "duration": 13,
    "start_time": "2023-05-17T23:21:47.800Z"
   },
   {
    "duration": 142114,
    "start_time": "2023-05-17T23:21:47.815Z"
   },
   {
    "duration": 1815,
    "start_time": "2023-05-18T08:25:17.938Z"
   },
   {
    "duration": 3779,
    "start_time": "2023-05-18T08:25:19.755Z"
   },
   {
    "duration": 18,
    "start_time": "2023-05-18T08:25:23.535Z"
   },
   {
    "duration": 70,
    "start_time": "2023-05-18T08:25:23.556Z"
   },
   {
    "duration": 305,
    "start_time": "2023-05-18T08:25:23.634Z"
   },
   {
    "duration": 24,
    "start_time": "2023-05-18T08:25:23.940Z"
   },
   {
    "duration": 28,
    "start_time": "2023-05-18T08:25:23.966Z"
   },
   {
    "duration": 78,
    "start_time": "2023-05-18T08:25:23.995Z"
   },
   {
    "duration": 403,
    "start_time": "2023-05-18T08:25:24.075Z"
   },
   {
    "duration": 8026,
    "start_time": "2023-05-18T08:25:24.481Z"
   },
   {
    "duration": 0,
    "start_time": "2023-05-18T08:25:32.509Z"
   },
   {
    "duration": 0,
    "start_time": "2023-05-18T08:25:32.511Z"
   },
   {
    "duration": 0,
    "start_time": "2023-05-18T08:25:32.512Z"
   },
   {
    "duration": 0,
    "start_time": "2023-05-18T08:25:32.513Z"
   },
   {
    "duration": 0,
    "start_time": "2023-05-18T08:25:32.514Z"
   },
   {
    "duration": 0,
    "start_time": "2023-05-18T08:25:32.515Z"
   },
   {
    "duration": 0,
    "start_time": "2023-05-18T08:25:32.516Z"
   },
   {
    "duration": 0,
    "start_time": "2023-05-18T08:25:32.516Z"
   },
   {
    "duration": 0,
    "start_time": "2023-05-18T08:25:32.517Z"
   },
   {
    "duration": 0,
    "start_time": "2023-05-18T08:25:32.518Z"
   },
   {
    "duration": 0,
    "start_time": "2023-05-18T08:25:32.519Z"
   },
   {
    "duration": 0,
    "start_time": "2023-05-18T08:25:32.520Z"
   },
   {
    "duration": 0,
    "start_time": "2023-05-18T08:25:32.521Z"
   },
   {
    "duration": 0,
    "start_time": "2023-05-18T08:25:32.522Z"
   },
   {
    "duration": 0,
    "start_time": "2023-05-18T08:25:32.523Z"
   },
   {
    "duration": 0,
    "start_time": "2023-05-18T08:25:32.524Z"
   },
   {
    "duration": 131497,
    "start_time": "2023-05-18T08:26:11.727Z"
   },
   {
    "duration": 40,
    "start_time": "2023-05-18T08:28:53.766Z"
   },
   {
    "duration": 3104,
    "start_time": "2023-05-18T08:28:54.668Z"
   },
   {
    "duration": 9,
    "start_time": "2023-05-18T08:29:09.262Z"
   },
   {
    "duration": 346,
    "start_time": "2023-05-18T08:29:12.425Z"
   },
   {
    "duration": 1858,
    "start_time": "2023-05-18T08:38:59.712Z"
   },
   {
    "duration": 941,
    "start_time": "2023-05-18T08:39:01.573Z"
   },
   {
    "duration": 16,
    "start_time": "2023-05-18T08:39:02.519Z"
   },
   {
    "duration": 35,
    "start_time": "2023-05-18T08:39:02.537Z"
   },
   {
    "duration": 290,
    "start_time": "2023-05-18T08:39:02.574Z"
   },
   {
    "duration": 33,
    "start_time": "2023-05-18T08:39:02.865Z"
   },
   {
    "duration": 40,
    "start_time": "2023-05-18T08:39:02.899Z"
   },
   {
    "duration": 16,
    "start_time": "2023-05-18T08:39:02.941Z"
   },
   {
    "duration": 55,
    "start_time": "2023-05-18T08:39:02.958Z"
   },
   {
    "duration": 2783,
    "start_time": "2023-05-18T08:39:03.015Z"
   },
   {
    "duration": 7,
    "start_time": "2023-05-18T08:39:05.799Z"
   },
   {
    "duration": 257,
    "start_time": "2023-05-18T08:39:05.807Z"
   },
   {
    "duration": 13,
    "start_time": "2023-05-18T08:39:06.066Z"
   },
   {
    "duration": 2248,
    "start_time": "2023-05-18T08:39:06.094Z"
   },
   {
    "duration": 0,
    "start_time": "2023-05-18T08:39:08.344Z"
   },
   {
    "duration": 0,
    "start_time": "2023-05-18T08:39:08.345Z"
   },
   {
    "duration": 0,
    "start_time": "2023-05-18T08:39:08.346Z"
   },
   {
    "duration": 0,
    "start_time": "2023-05-18T08:39:08.347Z"
   },
   {
    "duration": 0,
    "start_time": "2023-05-18T08:39:08.348Z"
   },
   {
    "duration": 0,
    "start_time": "2023-05-18T08:39:08.349Z"
   },
   {
    "duration": 0,
    "start_time": "2023-05-18T08:39:08.351Z"
   },
   {
    "duration": 0,
    "start_time": "2023-05-18T08:39:08.352Z"
   },
   {
    "duration": 0,
    "start_time": "2023-05-18T08:39:08.353Z"
   },
   {
    "duration": 0,
    "start_time": "2023-05-18T08:39:08.354Z"
   },
   {
    "duration": 0,
    "start_time": "2023-05-18T08:39:08.355Z"
   },
   {
    "duration": 0,
    "start_time": "2023-05-18T08:39:08.356Z"
   },
   {
    "duration": 0,
    "start_time": "2023-05-18T08:39:08.356Z"
   },
   {
    "duration": 0,
    "start_time": "2023-05-18T08:39:08.357Z"
   },
   {
    "duration": 0,
    "start_time": "2023-05-18T08:39:08.358Z"
   },
   {
    "duration": 0,
    "start_time": "2023-05-18T08:39:08.358Z"
   },
   {
    "duration": 1648,
    "start_time": "2023-05-18T08:47:16.459Z"
   },
   {
    "duration": 859,
    "start_time": "2023-05-18T08:47:18.108Z"
   },
   {
    "duration": 33,
    "start_time": "2023-05-18T08:47:18.968Z"
   },
   {
    "duration": 28,
    "start_time": "2023-05-18T08:47:19.003Z"
   },
   {
    "duration": 240,
    "start_time": "2023-05-18T08:47:19.033Z"
   },
   {
    "duration": 32,
    "start_time": "2023-05-18T08:47:19.275Z"
   },
   {
    "duration": 9,
    "start_time": "2023-05-18T08:47:19.309Z"
   },
   {
    "duration": 10,
    "start_time": "2023-05-18T08:47:19.319Z"
   },
   {
    "duration": 43,
    "start_time": "2023-05-18T08:47:19.331Z"
   },
   {
    "duration": 2494,
    "start_time": "2023-05-18T08:47:19.376Z"
   },
   {
    "duration": 8,
    "start_time": "2023-05-18T08:47:21.871Z"
   },
   {
    "duration": 249,
    "start_time": "2023-05-18T08:47:21.886Z"
   },
   {
    "duration": 13,
    "start_time": "2023-05-18T08:47:22.136Z"
   },
   {
    "duration": 1607,
    "start_time": "2023-05-18T08:49:15.017Z"
   },
   {
    "duration": 930,
    "start_time": "2023-05-18T08:49:16.627Z"
   },
   {
    "duration": 11,
    "start_time": "2023-05-18T08:49:17.559Z"
   },
   {
    "duration": 38,
    "start_time": "2023-05-18T08:49:17.571Z"
   },
   {
    "duration": 300,
    "start_time": "2023-05-18T08:49:17.611Z"
   },
   {
    "duration": 25,
    "start_time": "2023-05-18T08:49:17.913Z"
   },
   {
    "duration": 5,
    "start_time": "2023-05-18T08:49:17.939Z"
   },
   {
    "duration": 7,
    "start_time": "2023-05-18T08:49:17.945Z"
   },
   {
    "duration": 41,
    "start_time": "2023-05-18T08:49:17.954Z"
   },
   {
    "duration": 2714,
    "start_time": "2023-05-18T08:49:17.996Z"
   },
   {
    "duration": 7,
    "start_time": "2023-05-18T08:49:20.712Z"
   },
   {
    "duration": 227,
    "start_time": "2023-05-18T08:49:20.720Z"
   },
   {
    "duration": 66,
    "start_time": "2023-05-18T08:49:20.948Z"
   },
   {
    "duration": 2102,
    "start_time": "2023-05-18T12:09:07.839Z"
   },
   {
    "duration": 2509,
    "start_time": "2023-05-18T12:09:12.610Z"
   },
   {
    "duration": 13,
    "start_time": "2023-05-18T12:09:16.035Z"
   },
   {
    "duration": 37,
    "start_time": "2023-05-18T12:09:16.839Z"
   },
   {
    "duration": 246,
    "start_time": "2023-05-18T12:09:19.584Z"
   },
   {
    "duration": 32,
    "start_time": "2023-05-18T12:09:20.088Z"
   },
   {
    "duration": 5,
    "start_time": "2023-05-18T12:09:20.903Z"
   },
   {
    "duration": 7,
    "start_time": "2023-05-18T12:09:25.488Z"
   },
   {
    "duration": 30,
    "start_time": "2023-05-18T12:09:29.252Z"
   },
   {
    "duration": 3045,
    "start_time": "2023-05-18T12:09:30.592Z"
   },
   {
    "duration": 20,
    "start_time": "2023-05-18T12:09:36.984Z"
   },
   {
    "duration": 4,
    "start_time": "2023-05-18T12:10:12.886Z"
   },
   {
    "duration": 169,
    "start_time": "2023-05-18T12:10:14.547Z"
   },
   {
    "duration": 633,
    "start_time": "2023-05-18T12:10:31.831Z"
   },
   {
    "duration": 4,
    "start_time": "2023-05-18T12:12:25.487Z"
   },
   {
    "duration": 686,
    "start_time": "2023-05-18T12:12:26.488Z"
   },
   {
    "duration": 486,
    "start_time": "2023-05-18T12:13:01.288Z"
   },
   {
    "duration": 582122,
    "start_time": "2023-05-18T12:13:04.257Z"
   },
   {
    "duration": 6,
    "start_time": "2023-05-18T12:27:19.476Z"
   },
   {
    "duration": 33,
    "start_time": "2023-05-18T12:27:34.069Z"
   },
   {
    "duration": 2681,
    "start_time": "2023-05-18T12:27:34.982Z"
   },
   {
    "duration": 13,
    "start_time": "2023-05-18T12:27:37.665Z"
   },
   {
    "duration": 41,
    "start_time": "2023-05-18T12:29:23.911Z"
   },
   {
    "duration": 6030,
    "start_time": "2023-05-18T12:29:24.700Z"
   },
   {
    "duration": 13,
    "start_time": "2023-05-18T12:29:32.986Z"
   },
   {
    "duration": 35,
    "start_time": "2023-05-18T12:29:45.266Z"
   },
   {
    "duration": 138,
    "start_time": "2023-05-18T12:29:45.592Z"
   },
   {
    "duration": 726,
    "start_time": "2023-05-18T12:29:55.918Z"
   },
   {
    "duration": 418,
    "start_time": "2023-05-18T12:37:28.597Z"
   },
   {
    "duration": 890,
    "start_time": "2023-05-18T12:38:03.190Z"
   },
   {
    "duration": 37,
    "start_time": "2023-05-18T12:43:41.790Z"
   },
   {
    "duration": 562,
    "start_time": "2023-05-18T12:43:45.401Z"
   },
   {
    "duration": 448,
    "start_time": "2023-05-18T12:43:52.203Z"
   },
   {
    "duration": 571,
    "start_time": "2023-05-18T12:44:50.618Z"
   },
   {
    "duration": 1600,
    "start_time": "2023-05-18T12:46:43.268Z"
   },
   {
    "duration": 841,
    "start_time": "2023-05-18T12:46:44.870Z"
   },
   {
    "duration": 12,
    "start_time": "2023-05-18T12:46:45.713Z"
   },
   {
    "duration": 25,
    "start_time": "2023-05-18T12:46:45.726Z"
   },
   {
    "duration": 231,
    "start_time": "2023-05-18T12:46:45.753Z"
   },
   {
    "duration": 26,
    "start_time": "2023-05-18T12:46:45.985Z"
   },
   {
    "duration": 6,
    "start_time": "2023-05-18T12:46:46.012Z"
   },
   {
    "duration": 11,
    "start_time": "2023-05-18T12:46:46.020Z"
   },
   {
    "duration": 10,
    "start_time": "2023-05-18T12:46:46.033Z"
   },
   {
    "duration": 250,
    "start_time": "2023-05-18T12:46:46.045Z"
   },
   {
    "duration": 23,
    "start_time": "2023-05-18T12:46:46.296Z"
   },
   {
    "duration": 2602,
    "start_time": "2023-05-18T12:46:46.321Z"
   },
   {
    "duration": 0,
    "start_time": "2023-05-18T12:46:48.933Z"
   },
   {
    "duration": 0,
    "start_time": "2023-05-18T12:46:48.934Z"
   },
   {
    "duration": 0,
    "start_time": "2023-05-18T12:46:48.935Z"
   },
   {
    "duration": 0,
    "start_time": "2023-05-18T12:46:48.937Z"
   },
   {
    "duration": 0,
    "start_time": "2023-05-18T12:46:48.938Z"
   },
   {
    "duration": 0,
    "start_time": "2023-05-18T12:46:48.939Z"
   },
   {
    "duration": 0,
    "start_time": "2023-05-18T12:46:48.940Z"
   },
   {
    "duration": 0,
    "start_time": "2023-05-18T12:46:48.941Z"
   },
   {
    "duration": 0,
    "start_time": "2023-05-18T12:46:48.942Z"
   },
   {
    "duration": 0,
    "start_time": "2023-05-18T12:46:48.943Z"
   },
   {
    "duration": 0,
    "start_time": "2023-05-18T12:46:48.944Z"
   },
   {
    "duration": 0,
    "start_time": "2023-05-18T12:46:48.945Z"
   },
   {
    "duration": 0,
    "start_time": "2023-05-18T12:46:48.947Z"
   },
   {
    "duration": 0,
    "start_time": "2023-05-18T12:46:48.948Z"
   },
   {
    "duration": 0,
    "start_time": "2023-05-18T12:46:48.949Z"
   },
   {
    "duration": 0,
    "start_time": "2023-05-18T12:46:48.950Z"
   },
   {
    "duration": 0,
    "start_time": "2023-05-18T12:46:48.951Z"
   },
   {
    "duration": 0,
    "start_time": "2023-05-18T12:46:48.952Z"
   },
   {
    "duration": 0,
    "start_time": "2023-05-18T12:46:48.953Z"
   },
   {
    "duration": 6082,
    "start_time": "2023-05-18T12:48:29.413Z"
   },
   {
    "duration": 202,
    "start_time": "2023-05-18T12:49:00.801Z"
   },
   {
    "duration": 5,
    "start_time": "2023-05-18T12:49:01.901Z"
   },
   {
    "duration": 5,
    "start_time": "2023-05-18T12:49:10.525Z"
   },
   {
    "duration": 344161,
    "start_time": "2023-05-18T12:49:56.308Z"
   },
   {
    "duration": 324849,
    "start_time": "2023-05-18T12:55:45.292Z"
   },
   {
    "duration": 0,
    "start_time": "2023-05-18T13:01:10.143Z"
   },
   {
    "duration": 531099,
    "start_time": "2023-05-18T13:01:13.201Z"
   },
   {
    "duration": 0,
    "start_time": "2023-05-18T13:10:04.302Z"
   },
   {
    "duration": 437839,
    "start_time": "2023-05-18T13:10:10.505Z"
   },
   {
    "duration": 0,
    "start_time": "2023-05-18T13:17:28.346Z"
   },
   {
    "duration": 544567,
    "start_time": "2023-05-18T13:17:35.604Z"
   },
   {
    "duration": 9,
    "start_time": "2023-05-18T13:26:40.174Z"
   },
   {
    "duration": 18,
    "start_time": "2023-05-18T13:28:20.571Z"
   },
   {
    "duration": 20,
    "start_time": "2023-05-18T13:28:20.795Z"
   },
   {
    "duration": 133,
    "start_time": "2023-05-18T13:28:21.717Z"
   },
   {
    "duration": 12,
    "start_time": "2023-05-18T13:28:23.026Z"
   },
   {
    "duration": 118,
    "start_time": "2023-05-18T13:28:23.177Z"
   },
   {
    "duration": 17,
    "start_time": "2023-05-18T13:28:24.024Z"
   },
   {
    "duration": 33,
    "start_time": "2023-05-18T13:28:24.191Z"
   },
   {
    "duration": 41,
    "start_time": "2023-05-18T13:28:24.891Z"
   },
   {
    "duration": 31,
    "start_time": "2023-05-18T13:28:25.066Z"
   },
   {
    "duration": 4673,
    "start_time": "2023-05-18T13:29:43.511Z"
   },
   {
    "duration": 2519,
    "start_time": "2023-05-18T13:30:01.489Z"
   },
   {
    "duration": 2565,
    "start_time": "2023-05-18T13:30:11.930Z"
   },
   {
    "duration": 34893,
    "start_time": "2023-05-18T13:30:16.474Z"
   },
   {
    "duration": 16,
    "start_time": "2023-05-18T13:33:26.021Z"
   },
   {
    "duration": 30,
    "start_time": "2023-05-18T13:33:55.095Z"
   },
   {
    "duration": 23,
    "start_time": "2023-05-18T13:33:55.211Z"
   },
   {
    "duration": 19,
    "start_time": "2023-05-18T13:33:55.951Z"
   },
   {
    "duration": 5199,
    "start_time": "2023-05-18T13:35:14.178Z"
   },
   {
    "duration": 3921,
    "start_time": "2023-05-18T13:35:46.356Z"
   },
   {
    "duration": 6398,
    "start_time": "2023-05-18T13:36:14.276Z"
   },
   {
    "duration": 675,
    "start_time": "2023-05-18T13:36:23.871Z"
   },
   {
    "duration": 28,
    "start_time": "2023-05-18T13:36:33.187Z"
   },
   {
    "duration": 30,
    "start_time": "2023-05-18T13:36:34.226Z"
   },
   {
    "duration": 12326,
    "start_time": "2023-05-18T13:37:08.756Z"
   },
   {
    "duration": 0,
    "start_time": "2023-05-18T13:37:21.086Z"
   },
   {
    "duration": 0,
    "start_time": "2023-05-18T13:37:21.088Z"
   },
   {
    "duration": 13,
    "start_time": "2023-05-18T13:37:40.382Z"
   },
   {
    "duration": 145,
    "start_time": "2023-05-18T13:37:40.501Z"
   },
   {
    "duration": 17,
    "start_time": "2023-05-18T13:37:41.411Z"
   },
   {
    "duration": 4670,
    "start_time": "2023-05-18T13:37:42.463Z"
   },
   {
    "duration": 2199,
    "start_time": "2023-05-18T13:37:50.616Z"
   },
   {
    "duration": 2219,
    "start_time": "2023-05-18T13:37:53.655Z"
   },
   {
    "duration": 29098,
    "start_time": "2023-05-18T13:38:04.010Z"
   },
   {
    "duration": 16,
    "start_time": "2023-05-18T13:38:48.951Z"
   },
   {
    "duration": 182397,
    "start_time": "2023-05-18T13:39:47.023Z"
   },
   {
    "duration": 122267,
    "start_time": "2023-05-18T13:43:03.874Z"
   },
   {
    "duration": 38314,
    "start_time": "2023-05-18T13:45:50.283Z"
   },
   {
    "duration": 80922,
    "start_time": "2023-05-18T13:47:35.986Z"
   },
   {
    "duration": 18481,
    "start_time": "2023-05-18T13:55:39.013Z"
   },
   {
    "duration": 17,
    "start_time": "2023-05-18T13:55:57.501Z"
   },
   {
    "duration": 73114,
    "start_time": "2023-05-18T13:59:39.677Z"
   }
  ],
  "kernelspec": {
   "display_name": "Python 3 (ipykernel)",
   "language": "python",
   "name": "python3"
  },
  "language_info": {
   "codemirror_mode": {
    "name": "ipython",
    "version": 3
   },
   "file_extension": ".py",
   "mimetype": "text/x-python",
   "name": "python",
   "nbconvert_exporter": "python",
   "pygments_lexer": "ipython3",
   "version": "3.9.13"
  },
  "toc": {
   "base_numbering": 1,
   "nav_menu": {},
   "number_sections": true,
   "sideBar": true,
   "skip_h1_title": true,
   "title_cell": "Содержание",
   "title_sidebar": "Contents",
   "toc_cell": true,
   "toc_position": {
    "height": "calc(100% - 180px)",
    "left": "10px",
    "top": "150px",
    "width": "302.391px"
   },
   "toc_section_display": true,
   "toc_window_display": false
  }
 },
 "nbformat": 4,
 "nbformat_minor": 2
}
