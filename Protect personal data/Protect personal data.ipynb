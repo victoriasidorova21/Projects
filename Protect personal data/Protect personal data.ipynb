{
 "cells": [
  {
   "cell_type": "markdown",
   "metadata": {
    "toc": true
   },
   "source": [
    "<h1>Содержание<span class=\"tocSkip\"></span></h1>\n",
    "<div class=\"toc\"><ul class=\"toc-item\"><li><span><a href=\"#Загрузка-данных\" data-toc-modified-id=\"Загрузка-данных-1\"><span class=\"toc-item-num\">1&nbsp;&nbsp;</span>Загрузка данных</a></span></li><li><span><a href=\"#Умножение-матриц\" data-toc-modified-id=\"Умножение-матриц-2\"><span class=\"toc-item-num\">2&nbsp;&nbsp;</span>Умножение матриц</a></span></li><li><span><a href=\"#Алгоритм-преобразования\" data-toc-modified-id=\"Алгоритм-преобразования-3\"><span class=\"toc-item-num\">3&nbsp;&nbsp;</span>Алгоритм преобразования</a></span></li><li><span><a href=\"#Проверка-алгоритма\" data-toc-modified-id=\"Проверка-алгоритма-4\"><span class=\"toc-item-num\">4&nbsp;&nbsp;</span>Проверка алгоритма</a></span></li><li><span><a href=\"#Чек-лист-проверки\" data-toc-modified-id=\"Чек-лист-проверки-5\"><span class=\"toc-item-num\">5&nbsp;&nbsp;</span>Чек-лист проверки</a></span></li></ul></div>"
   ]
  },
  {
   "cell_type": "markdown",
   "metadata": {},
   "source": [
    "# Защита персональных данных клиентов"
   ]
  },
  {
   "cell_type": "markdown",
   "metadata": {},
   "source": [
    "Вам нужно защитить данные клиентов страховой компании «Хоть потоп». Разработайте такой метод преобразования данных, чтобы по ним было сложно восстановить персональную информацию. Обоснуйте корректность его работы.\n",
    "\n",
    "Нужно защитить данные, чтобы при преобразовании качество моделей машинного обучения не ухудшилось. Подбирать наилучшую модель не требуется."
   ]
  },
  {
   "cell_type": "markdown",
   "metadata": {},
   "source": [
    "## Загрузка данных"
   ]
  },
  {
   "cell_type": "code",
   "execution_count": 1,
   "metadata": {},
   "outputs": [],
   "source": [
    "import pandas as pd\n",
    "import numpy as np\n",
    "from sklearn.linear_model import LinearRegression\n",
    "from sklearn.metrics import r2_score"
   ]
  },
  {
   "cell_type": "code",
   "execution_count": 2,
   "metadata": {},
   "outputs": [],
   "source": [
    "#загрузим данные\n",
    "df = pd.read_csv('/datasets/insurance.csv')"
   ]
  },
  {
   "cell_type": "code",
   "execution_count": 3,
   "metadata": {},
   "outputs": [
    {
     "data": {
      "text/html": [
       "<div>\n",
       "<style scoped>\n",
       "    .dataframe tbody tr th:only-of-type {\n",
       "        vertical-align: middle;\n",
       "    }\n",
       "\n",
       "    .dataframe tbody tr th {\n",
       "        vertical-align: top;\n",
       "    }\n",
       "\n",
       "    .dataframe thead th {\n",
       "        text-align: right;\n",
       "    }\n",
       "</style>\n",
       "<table border=\"1\" class=\"dataframe\">\n",
       "  <thead>\n",
       "    <tr style=\"text-align: right;\">\n",
       "      <th></th>\n",
       "      <th>Пол</th>\n",
       "      <th>Возраст</th>\n",
       "      <th>Зарплата</th>\n",
       "      <th>Члены семьи</th>\n",
       "      <th>Страховые выплаты</th>\n",
       "    </tr>\n",
       "  </thead>\n",
       "  <tbody>\n",
       "    <tr>\n",
       "      <th>0</th>\n",
       "      <td>1</td>\n",
       "      <td>41.0</td>\n",
       "      <td>49600.0</td>\n",
       "      <td>1</td>\n",
       "      <td>0</td>\n",
       "    </tr>\n",
       "    <tr>\n",
       "      <th>1</th>\n",
       "      <td>0</td>\n",
       "      <td>46.0</td>\n",
       "      <td>38000.0</td>\n",
       "      <td>1</td>\n",
       "      <td>1</td>\n",
       "    </tr>\n",
       "    <tr>\n",
       "      <th>2</th>\n",
       "      <td>0</td>\n",
       "      <td>29.0</td>\n",
       "      <td>21000.0</td>\n",
       "      <td>0</td>\n",
       "      <td>0</td>\n",
       "    </tr>\n",
       "    <tr>\n",
       "      <th>3</th>\n",
       "      <td>0</td>\n",
       "      <td>21.0</td>\n",
       "      <td>41700.0</td>\n",
       "      <td>2</td>\n",
       "      <td>0</td>\n",
       "    </tr>\n",
       "    <tr>\n",
       "      <th>4</th>\n",
       "      <td>1</td>\n",
       "      <td>28.0</td>\n",
       "      <td>26100.0</td>\n",
       "      <td>0</td>\n",
       "      <td>0</td>\n",
       "    </tr>\n",
       "  </tbody>\n",
       "</table>\n",
       "</div>"
      ],
      "text/plain": [
       "   Пол  Возраст  Зарплата  Члены семьи  Страховые выплаты\n",
       "0    1     41.0   49600.0            1                  0\n",
       "1    0     46.0   38000.0            1                  1\n",
       "2    0     29.0   21000.0            0                  0\n",
       "3    0     21.0   41700.0            2                  0\n",
       "4    1     28.0   26100.0            0                  0"
      ]
     },
     "execution_count": 3,
     "metadata": {},
     "output_type": "execute_result"
    }
   ],
   "source": [
    "df.head()"
   ]
  },
  {
   "cell_type": "code",
   "execution_count": 4,
   "metadata": {},
   "outputs": [
    {
     "name": "stdout",
     "output_type": "stream",
     "text": [
      "<class 'pandas.core.frame.DataFrame'>\n",
      "RangeIndex: 5000 entries, 0 to 4999\n",
      "Data columns (total 5 columns):\n",
      " #   Column             Non-Null Count  Dtype  \n",
      "---  ------             --------------  -----  \n",
      " 0   Пол                5000 non-null   int64  \n",
      " 1   Возраст            5000 non-null   float64\n",
      " 2   Зарплата           5000 non-null   float64\n",
      " 3   Члены семьи        5000 non-null   int64  \n",
      " 4   Страховые выплаты  5000 non-null   int64  \n",
      "dtypes: float64(2), int64(3)\n",
      "memory usage: 195.4 KB\n"
     ]
    }
   ],
   "source": [
    "df.info()"
   ]
  },
  {
   "cell_type": "code",
   "execution_count": 5,
   "metadata": {},
   "outputs": [
    {
     "data": {
      "text/plain": [
       "(5000, 5)"
      ]
     },
     "execution_count": 5,
     "metadata": {},
     "output_type": "execute_result"
    }
   ],
   "source": [
    "df.shape"
   ]
  },
  {
   "cell_type": "code",
   "execution_count": 6,
   "metadata": {},
   "outputs": [],
   "source": [
    "#создадим таблицу без целевого признака и отдельно таблицу для хранения целевого признака\n",
    "feature = df.drop('Страховые выплаты', axis=1)\n",
    "target = df['Страховые выплаты']"
   ]
  },
  {
   "cell_type": "code",
   "execution_count": 7,
   "metadata": {},
   "outputs": [
    {
     "data": {
      "text/plain": [
       "(5000, 4)"
      ]
     },
     "execution_count": 7,
     "metadata": {},
     "output_type": "execute_result"
    }
   ],
   "source": [
    "feature .shape"
   ]
  },
  {
   "cell_type": "code",
   "execution_count": 8,
   "metadata": {},
   "outputs": [
    {
     "data": {
      "text/plain": [
       "(5000,)"
      ]
     },
     "execution_count": 8,
     "metadata": {},
     "output_type": "execute_result"
    }
   ],
   "source": [
    "target.shape"
   ]
  },
  {
   "cell_type": "code",
   "execution_count": 9,
   "metadata": {},
   "outputs": [
    {
     "data": {
      "text/plain": [
       "153"
      ]
     },
     "execution_count": 9,
     "metadata": {},
     "output_type": "execute_result"
    }
   ],
   "source": [
    "df.duplicated().sum()"
   ]
  },
  {
   "cell_type": "markdown",
   "metadata": {},
   "source": [
    "Вывод\n",
    "\n",
    "Данные загружены, пропущенные значения отстутствуют, форматы данных верные, обнаруженные дубликаты удалены.\n",
    "\n",
    "Размер новой таблицы составил 4847 строк и 5 столбцов. "
   ]
  },
  {
   "cell_type": "markdown",
   "metadata": {},
   "source": [
    "## Умножение матриц"
   ]
  },
  {
   "cell_type": "markdown",
   "metadata": {},
   "source": [
    "Рандомная матрица поможет проверить матрицу на обратимость: если матрица необратима, будет обнаружена ошибка."
   ]
  },
  {
   "cell_type": "markdown",
   "metadata": {},
   "source": [
    "Минимальное значение MSE получается, когда веса равны этой величине: W"
   ]
  },
  {
   "cell_type": "markdown",
   "metadata": {},
   "source": [
    "В этом задании вы можете записывать формулы в *Jupyter Notebook.*\n",
    "\n",
    "Чтобы записать формулу внутри текста, окружите её символами доллара \\\\$; если снаружи —  двойными символами \\\\$\\\\$. Эти формулы записываются на языке вёрстки *LaTeX.* \n",
    "\n",
    "Для примера мы записали формулы линейной регрессии. Можете их скопировать и отредактировать, чтобы решить задачу.\n",
    "\n",
    "Работать в *LaTeX* необязательно."
   ]
  },
  {
   "cell_type": "markdown",
   "metadata": {},
   "source": [
    "Обозначения:\n",
    "\n",
    "- $X$ — матрица признаков (нулевой столбец состоит из единиц)\n",
    "\n",
    "- $y$ — вектор целевого признака\n",
    "\n",
    "- $P$ — матрица, на которую умножаются признаки\n",
    "\n",
    "- $w$ — вектор весов линейной регрессии (нулевой элемент равен сдвигу)"
   ]
  },
  {
   "cell_type": "markdown",
   "metadata": {},
   "source": [
    "Предсказания:\n",
    "\n",
    "$$\n",
    "a = Xw\n",
    "$$\n",
    "\n",
    "Задача обучения:\n",
    "\n",
    "$$\n",
    "w = \\arg\\min_w MSE(Xw, y)\n",
    "$$\n",
    "\n",
    "Формула обучения:\n",
    "\n",
    "$$\n",
    "w = (X^T X)^{-1} X^T y\n",
    "$$"
   ]
  },
  {
   "cell_type": "markdown",
   "metadata": {},
   "source": [
    "**Ответ:** \n",
    "Качество линейной регрессии не изменится\n",
    "\n",
    "\n",
    "**Обоснование:** \n",
    "\n",
    "\n",
    "R-рандомная матрица (обратная)\n",
    "\n",
    "Новая матрица равна произведению первоночальной матрицы на рандомную\n",
    "\n",
    "$$\n",
    "X1 = XR\n",
    "$$\n",
    "\n",
    "Напишем формулу для новых весов\n",
    "$$\n",
    "W1 = ((XR)^T XR)^{-1} (XR)^T y\n",
    "$$\n",
    "\n",
    "Раскроем скобки транспонирования, так как есть свойство \n",
    "\n",
    "$$\n",
    "(AB)^T=B^T A^T\n",
    "$$\n",
    "\n",
    "$$\n",
    "W1 = (R^T X^T XR)^{-1} R^T X^T  y\n",
    "$$\n",
    "\n",
    "разкроем скобки -1, используя свойство \n",
    "\n",
    "$$\n",
    "(ABC)^{-1}=C^{-1}B^{-1}A^{-1}\n",
    "$$\n",
    "\n",
    "$$\n",
    "W1 = (R)^{-1} (X^TX)^{-1} (R^T)^{-1} R^T X^T y\n",
    "$$\n",
    "\n",
    "так как \n",
    "\n",
    "$$\n",
    "AA^{-1}=A^{-1}A=E\n",
    "$$\n",
    "(единичной матрице), то значит что\n",
    "\n",
    "$$\n",
    "RR^{-1}=R^{-1}R=E\n",
    "$$\n",
    "\n",
    "Следовательно заменим произведение \n",
    "\n",
    "$$\n",
    "(R^T)^{-1} R^T на  E\n",
    "$$\n",
    "\n",
    "Введем E в нашу формулу\n",
    "\n",
    "$$\n",
    "W1 = (R)^{-1} (X^TX)^{-1} E X^T  y\n",
    "$$\n",
    "\n",
    "\n",
    "так как W равно\n",
    "\n",
    "$$\n",
    "w = (X^T X)^{-1} X^T y\n",
    "$$\n",
    "\n",
    "то замем на W \n",
    "\n",
    "$$\n",
    "W1 = (R)^{-1}E  w \n",
    "$$\n",
    "\n",
    "так как E - единичная матрица, то можно убрать E\n",
    "\n",
    "$$\n",
    "W1 = (R)^{-1} w \n",
    "$$\n",
    "\n",
    "так как\n",
    "\n",
    "$$\n",
    "a = Xw\n",
    "$$\n",
    "\n",
    "а \n",
    "\n",
    "$$\n",
    "a1 = X1w1\n",
    "$$\n",
    "\n",
    "$$\n",
    "a1=X1 (R)^{-1}w  \n",
    "$$\n",
    "\n",
    "так как X1= XR, то\n",
    "\n",
    "$$\n",
    "a1=XR (R)^{-1}w \n",
    "$$\n",
    "\n",
    "cнова \n",
    "\n",
    "$$\n",
    "R (R)^{-1} = E\n",
    "$$\n",
    "\n",
    "$$\n",
    "a1=XE w \n",
    "$$\n",
    "\n",
    "E убираем так как матрица единичная, используя свойство\n",
    "\n",
    "$$\n",
    "AE=EA=A\n",
    "$$\n",
    "\n",
    "$$\n",
    "a1=Xw\n",
    "$$\n",
    "\n",
    "Следовательно \n",
    "\n",
    "$$\n",
    "a=a1\n",
    "$$\n",
    "\n",
    "что и требовалось доказать"
   ]
  },
  {
   "cell_type": "markdown",
   "metadata": {},
   "source": [
    "<div class=\"alert alert-success\">\n",
    "<b>Комментарий ревьюера V3✔️:</b> Да, отлично:) Теперь все верно</div>"
   ]
  },
  {
   "cell_type": "markdown",
   "metadata": {},
   "source": [
    "На основе формул и их преобразований доказано утверждение, что качество линейной регрессии не изменится."
   ]
  },
  {
   "cell_type": "markdown",
   "metadata": {},
   "source": [
    "## Алгоритм преобразования"
   ]
  },
  {
   "cell_type": "markdown",
   "metadata": {},
   "source": [
    "**Алгоритм**\n",
    "\n",
    "Предложим алгоритм преобразования данных для решения задачи. "
   ]
  },
  {
   "cell_type": "markdown",
   "metadata": {},
   "source": [
    "X - матрица с признаками\n",
    "Y - матрица с целевым признаком\n",
    "X_T - транспорнированная матрица\n",
    "R - рандомная обратимая матрица 4x4"
   ]
  },
  {
   "cell_type": "markdown",
   "metadata": {},
   "source": [
    "1. Умножим матрицу признаков на рандомную матрица из случайных чисел\n",
    "\n",
    "\n",
    "2. Проверяем полученную матрицу на обратимость\n",
    "\n",
    "\n",
    "3. Умножаем полученные результаты, заменяем значения на веса, сокращаем и как выше доказыно вектор предсказаний не изменился.\n",
    "\n",
    "\n",
    "4. Обучаем модель линейной регрессии на кажой выборке\n",
    "\n",
    "\n",
    "5. Получаем предсказания одинаковые на исходных и преобразованных данных.\n"
   ]
  },
  {
   "cell_type": "markdown",
   "metadata": {},
   "source": [
    "Описан и обоснован алгорит преобразования данных"
   ]
  },
  {
   "cell_type": "markdown",
   "metadata": {},
   "source": [
    "## Проверка алгоритма"
   ]
  },
  {
   "cell_type": "code",
   "execution_count": 10,
   "metadata": {
    "scrolled": true
   },
   "outputs": [
    {
     "name": "stdout",
     "output_type": "stream",
     "text": [
      "0.4249455028666801\n"
     ]
    }
   ],
   "source": [
    "#создадим и обучим модель линейной регресии на исходных данных\n",
    "model = LinearRegression()\n",
    "model.fit(feature, target)\n",
    "#предсказываем\n",
    "predictions = model.predict(feature)\n",
    "#расчитываем R2\n",
    "print(r2_score(target, predictions))"
   ]
  },
  {
   "cell_type": "markdown",
   "metadata": {},
   "source": [
    "R2 составил 0.43 на первоночальных данных"
   ]
  },
  {
   "cell_type": "code",
   "execution_count": 11,
   "metadata": {},
   "outputs": [],
   "source": [
    "#создадим рандомную квадратную матрицу 4x4\n",
    "R=np.random.rand(4,4)"
   ]
  },
  {
   "cell_type": "code",
   "execution_count": 12,
   "metadata": {},
   "outputs": [
    {
     "data": {
      "text/plain": [
       "-0.09625350263267696"
      ]
     },
     "execution_count": 12,
     "metadata": {},
     "output_type": "execute_result"
    }
   ],
   "source": [
    "np.linalg.det(R)"
   ]
  },
  {
   "cell_type": "markdown",
   "metadata": {},
   "source": [
    "Определитель квадратной матрицы R -0,096, то есть не равен нулю, значит у нее есть обратная"
   ]
  },
  {
   "cell_type": "code",
   "execution_count": 13,
   "metadata": {},
   "outputs": [],
   "source": [
    "X=feature.values"
   ]
  },
  {
   "cell_type": "code",
   "execution_count": 14,
   "metadata": {},
   "outputs": [],
   "source": [
    "feature_1=X.dot(R)"
   ]
  },
  {
   "cell_type": "code",
   "execution_count": 15,
   "metadata": {},
   "outputs": [
    {
     "name": "stdout",
     "output_type": "stream",
     "text": [
      "0.42494550286668287\n"
     ]
    }
   ],
   "source": [
    "#создадим и обучим модель линейной регресии на преобразрванных данных\n",
    "model = LinearRegression()\n",
    "model.fit(feature_1, target)\n",
    "#предсказываем\n",
    "predictions = model.predict(feature_1)\n",
    "#расчитываем R2\n",
    "print(r2_score(target, predictions))"
   ]
  },
  {
   "cell_type": "markdown",
   "metadata": {},
   "source": [
    "R2 составил на измененных данных составил 0.42"
   ]
  },
  {
   "cell_type": "markdown",
   "metadata": {},
   "source": [
    "Вывод общий\n",
    "\n",
    "Данные загружены, пропущенные значения отстутствуют, форматы данных верные, обнаруженные дубликаты удалены.\n",
    "Размер новой таблицы составил 4847 строк и 5 столбцов.\n",
    "\n",
    "На основе формул и их преобразований доказано утверждение, что качество линейной регрессии не изменится.\n",
    "\n",
    "Описан и обоснован алгорит преобразования данных\n",
    "\n",
    "R2 одинаковый на исходных и измененных данных.\n"
   ]
  }
 ],
 "metadata": {
  "ExecuteTimeLog": [
   {
    "duration": 389,
    "start_time": "2023-04-13T11:42:27.084Z"
   },
   {
    "duration": 81,
    "start_time": "2023-04-13T11:43:30.533Z"
   },
   {
    "duration": 17,
    "start_time": "2023-04-13T11:44:41.845Z"
   },
   {
    "duration": 11,
    "start_time": "2023-04-13T11:45:19.045Z"
   },
   {
    "duration": 4,
    "start_time": "2023-04-13T11:45:59.165Z"
   },
   {
    "duration": 8,
    "start_time": "2023-04-13T11:46:56.543Z"
   },
   {
    "duration": 20,
    "start_time": "2023-04-13T11:49:47.724Z"
   },
   {
    "duration": 439,
    "start_time": "2023-04-13T12:00:46.534Z"
   },
   {
    "duration": 24,
    "start_time": "2023-04-13T12:00:46.975Z"
   },
   {
    "duration": 18,
    "start_time": "2023-04-13T12:00:47.000Z"
   },
   {
    "duration": 13,
    "start_time": "2023-04-13T12:00:47.020Z"
   },
   {
    "duration": 6,
    "start_time": "2023-04-13T12:00:47.035Z"
   },
   {
    "duration": 6,
    "start_time": "2023-04-13T12:00:47.057Z"
   },
   {
    "duration": 3,
    "start_time": "2023-04-13T12:00:47.065Z"
   },
   {
    "duration": 4,
    "start_time": "2023-04-13T12:05:27.015Z"
   },
   {
    "duration": 453,
    "start_time": "2023-04-13T12:13:26.624Z"
   },
   {
    "duration": 23,
    "start_time": "2023-04-13T12:13:27.080Z"
   },
   {
    "duration": 16,
    "start_time": "2023-04-13T12:13:27.105Z"
   },
   {
    "duration": 13,
    "start_time": "2023-04-13T12:13:27.123Z"
   },
   {
    "duration": 4,
    "start_time": "2023-04-13T12:13:27.138Z"
   },
   {
    "duration": 85,
    "start_time": "2023-04-13T12:13:27.144Z"
   },
   {
    "duration": 0,
    "start_time": "2023-04-13T12:13:27.230Z"
   },
   {
    "duration": 0,
    "start_time": "2023-04-13T12:13:27.232Z"
   },
   {
    "duration": 0,
    "start_time": "2023-04-13T12:13:27.233Z"
   },
   {
    "duration": 0,
    "start_time": "2023-04-13T12:13:27.234Z"
   },
   {
    "duration": 0,
    "start_time": "2023-04-13T12:13:27.235Z"
   },
   {
    "duration": 5,
    "start_time": "2023-04-13T12:14:50.286Z"
   },
   {
    "duration": 11,
    "start_time": "2023-04-13T12:14:51.156Z"
   },
   {
    "duration": 4,
    "start_time": "2023-04-13T12:14:51.397Z"
   },
   {
    "duration": 4,
    "start_time": "2023-04-13T12:14:55.805Z"
   },
   {
    "duration": 2,
    "start_time": "2023-04-13T12:15:56.249Z"
   },
   {
    "duration": 4,
    "start_time": "2023-04-13T12:15:56.374Z"
   },
   {
    "duration": 4,
    "start_time": "2023-04-13T12:16:30.023Z"
   },
   {
    "duration": 3,
    "start_time": "2023-04-13T12:16:41.546Z"
   },
   {
    "duration": 4,
    "start_time": "2023-04-13T12:16:41.673Z"
   },
   {
    "duration": 5,
    "start_time": "2023-04-13T12:16:41.844Z"
   },
   {
    "duration": 518,
    "start_time": "2023-04-13T12:17:04.623Z"
   },
   {
    "duration": 549,
    "start_time": "2023-04-13T12:17:13.866Z"
   },
   {
    "duration": 4,
    "start_time": "2023-04-13T12:17:33.854Z"
   },
   {
    "duration": 413,
    "start_time": "2023-04-13T12:26:34.112Z"
   },
   {
    "duration": 26,
    "start_time": "2023-04-13T12:26:34.528Z"
   },
   {
    "duration": 20,
    "start_time": "2023-04-13T12:26:34.556Z"
   },
   {
    "duration": 14,
    "start_time": "2023-04-13T12:26:34.578Z"
   },
   {
    "duration": 11,
    "start_time": "2023-04-13T12:26:34.595Z"
   },
   {
    "duration": 6,
    "start_time": "2023-04-13T12:26:34.608Z"
   },
   {
    "duration": 16,
    "start_time": "2023-04-13T12:26:34.616Z"
   },
   {
    "duration": 5,
    "start_time": "2023-04-13T12:26:34.657Z"
   },
   {
    "duration": 103,
    "start_time": "2023-04-13T12:26:34.665Z"
   },
   {
    "duration": 0,
    "start_time": "2023-04-13T12:26:34.770Z"
   },
   {
    "duration": 0,
    "start_time": "2023-04-13T12:26:34.773Z"
   },
   {
    "duration": 0,
    "start_time": "2023-04-13T12:26:34.775Z"
   },
   {
    "duration": 0,
    "start_time": "2023-04-13T12:26:34.777Z"
   },
   {
    "duration": 0,
    "start_time": "2023-04-13T12:26:34.778Z"
   },
   {
    "duration": 0,
    "start_time": "2023-04-13T12:26:34.780Z"
   },
   {
    "duration": 0,
    "start_time": "2023-04-13T12:26:34.781Z"
   },
   {
    "duration": 1522,
    "start_time": "2023-04-13T12:27:39.606Z"
   },
   {
    "duration": 33,
    "start_time": "2023-04-13T12:27:41.131Z"
   },
   {
    "duration": 24,
    "start_time": "2023-04-13T12:27:41.170Z"
   },
   {
    "duration": 23,
    "start_time": "2023-04-13T12:27:41.197Z"
   },
   {
    "duration": 28,
    "start_time": "2023-04-13T12:27:41.222Z"
   },
   {
    "duration": 22,
    "start_time": "2023-04-13T12:27:41.252Z"
   },
   {
    "duration": 30,
    "start_time": "2023-04-13T12:27:41.277Z"
   },
   {
    "duration": 11,
    "start_time": "2023-04-13T12:27:41.310Z"
   },
   {
    "duration": 58,
    "start_time": "2023-04-13T12:27:41.324Z"
   },
   {
    "duration": 79,
    "start_time": "2023-04-13T12:27:41.388Z"
   },
   {
    "duration": 3,
    "start_time": "2023-04-13T12:27:41.471Z"
   },
   {
    "duration": 78,
    "start_time": "2023-04-13T12:27:41.479Z"
   },
   {
    "duration": 13,
    "start_time": "2023-04-13T12:27:41.559Z"
   },
   {
    "duration": 7,
    "start_time": "2023-04-13T12:27:41.575Z"
   },
   {
    "duration": 596,
    "start_time": "2023-04-13T12:27:41.584Z"
   },
   {
    "duration": 9,
    "start_time": "2023-04-13T12:27:42.183Z"
   },
   {
    "duration": 46,
    "start_time": "2023-04-13T12:28:16.174Z"
   },
   {
    "duration": 15,
    "start_time": "2023-04-13T12:28:25.514Z"
   },
   {
    "duration": 12,
    "start_time": "2023-04-13T12:28:46.464Z"
   },
   {
    "duration": 1193,
    "start_time": "2023-04-13T12:28:53.285Z"
   },
   {
    "duration": 25,
    "start_time": "2023-04-13T12:28:54.480Z"
   },
   {
    "duration": 19,
    "start_time": "2023-04-13T12:28:54.507Z"
   },
   {
    "duration": 23,
    "start_time": "2023-04-13T12:28:54.528Z"
   },
   {
    "duration": 20,
    "start_time": "2023-04-13T12:28:54.554Z"
   },
   {
    "duration": 11,
    "start_time": "2023-04-13T12:28:54.576Z"
   },
   {
    "duration": 8,
    "start_time": "2023-04-13T12:28:54.589Z"
   },
   {
    "duration": 11,
    "start_time": "2023-04-13T12:28:54.599Z"
   },
   {
    "duration": 44,
    "start_time": "2023-04-13T12:28:54.612Z"
   },
   {
    "duration": 93,
    "start_time": "2023-04-13T12:28:54.663Z"
   },
   {
    "duration": 2,
    "start_time": "2023-04-13T12:28:54.758Z"
   },
   {
    "duration": 8,
    "start_time": "2023-04-13T12:28:54.762Z"
   },
   {
    "duration": 12,
    "start_time": "2023-04-13T12:28:54.772Z"
   },
   {
    "duration": 18,
    "start_time": "2023-04-13T12:28:54.786Z"
   },
   {
    "duration": 455,
    "start_time": "2023-04-13T12:28:54.806Z"
   },
   {
    "duration": 4,
    "start_time": "2023-04-13T12:28:55.263Z"
   },
   {
    "duration": 3,
    "start_time": "2023-04-13T12:32:21.949Z"
   },
   {
    "duration": 1009,
    "start_time": "2023-04-13T19:25:39.390Z"
   },
   {
    "duration": 86,
    "start_time": "2023-04-13T19:25:40.400Z"
   },
   {
    "duration": 14,
    "start_time": "2023-04-13T19:25:40.487Z"
   },
   {
    "duration": 9,
    "start_time": "2023-04-13T19:25:40.503Z"
   },
   {
    "duration": 9,
    "start_time": "2023-04-13T19:25:40.513Z"
   },
   {
    "duration": 22,
    "start_time": "2023-04-13T19:25:40.523Z"
   },
   {
    "duration": 20,
    "start_time": "2023-04-13T19:25:40.547Z"
   },
   {
    "duration": 10,
    "start_time": "2023-04-13T19:25:40.568Z"
   },
   {
    "duration": 11,
    "start_time": "2023-04-13T19:25:40.580Z"
   },
   {
    "duration": 7,
    "start_time": "2023-04-13T19:25:40.592Z"
   },
   {
    "duration": 10,
    "start_time": "2023-04-13T19:25:40.600Z"
   },
   {
    "duration": 5,
    "start_time": "2023-04-13T19:25:40.612Z"
   },
   {
    "duration": 4,
    "start_time": "2023-04-13T19:25:40.618Z"
   },
   {
    "duration": 517,
    "start_time": "2023-04-13T19:25:40.624Z"
   },
   {
    "duration": 5,
    "start_time": "2023-04-13T19:25:41.142Z"
   },
   {
    "duration": 3,
    "start_time": "2023-04-13T19:25:41.148Z"
   },
   {
    "duration": 42,
    "start_time": "2023-04-13T19:25:41.153Z"
   },
   {
    "duration": 181,
    "start_time": "2023-04-13T19:25:41.197Z"
   },
   {
    "duration": 1004,
    "start_time": "2023-04-13T19:26:30.919Z"
   },
   {
    "duration": 24,
    "start_time": "2023-04-13T19:26:31.926Z"
   },
   {
    "duration": 15,
    "start_time": "2023-04-13T19:26:31.952Z"
   },
   {
    "duration": 53,
    "start_time": "2023-04-13T19:26:31.969Z"
   },
   {
    "duration": 28,
    "start_time": "2023-04-13T19:26:32.025Z"
   },
   {
    "duration": 33,
    "start_time": "2023-04-13T19:26:32.054Z"
   },
   {
    "duration": 18,
    "start_time": "2023-04-13T19:26:32.088Z"
   },
   {
    "duration": 29,
    "start_time": "2023-04-13T19:26:32.107Z"
   },
   {
    "duration": 9,
    "start_time": "2023-04-13T19:26:32.138Z"
   },
   {
    "duration": 22,
    "start_time": "2023-04-13T19:26:32.148Z"
   },
   {
    "duration": 15,
    "start_time": "2023-04-13T19:26:32.172Z"
   },
   {
    "duration": 59,
    "start_time": "2023-04-13T19:26:32.188Z"
   },
   {
    "duration": 51,
    "start_time": "2023-04-13T19:26:32.249Z"
   },
   {
    "duration": 543,
    "start_time": "2023-04-13T19:26:32.303Z"
   },
   {
    "duration": 4,
    "start_time": "2023-04-13T19:26:32.848Z"
   },
   {
    "duration": 7,
    "start_time": "2023-04-13T19:26:32.854Z"
   },
   {
    "duration": 35,
    "start_time": "2023-04-13T19:26:32.863Z"
   },
   {
    "duration": 228,
    "start_time": "2023-04-13T19:26:32.900Z"
   },
   {
    "duration": 2,
    "start_time": "2023-04-13T19:26:49.435Z"
   },
   {
    "duration": 975,
    "start_time": "2023-04-13T19:26:55.042Z"
   },
   {
    "duration": 25,
    "start_time": "2023-04-13T19:26:56.019Z"
   },
   {
    "duration": 15,
    "start_time": "2023-04-13T19:26:56.046Z"
   },
   {
    "duration": 10,
    "start_time": "2023-04-13T19:26:56.063Z"
   },
   {
    "duration": 3,
    "start_time": "2023-04-13T19:26:56.076Z"
   },
   {
    "duration": 13,
    "start_time": "2023-04-13T19:26:56.081Z"
   },
   {
    "duration": 4,
    "start_time": "2023-04-13T19:26:56.095Z"
   },
   {
    "duration": 10,
    "start_time": "2023-04-13T19:26:56.101Z"
   },
   {
    "duration": 8,
    "start_time": "2023-04-13T19:26:56.112Z"
   },
   {
    "duration": 4,
    "start_time": "2023-04-13T19:26:56.121Z"
   },
   {
    "duration": 21,
    "start_time": "2023-04-13T19:26:56.126Z"
   },
   {
    "duration": 11,
    "start_time": "2023-04-13T19:26:56.149Z"
   },
   {
    "duration": 4,
    "start_time": "2023-04-13T19:26:56.162Z"
   },
   {
    "duration": 504,
    "start_time": "2023-04-13T19:26:56.169Z"
   },
   {
    "duration": 4,
    "start_time": "2023-04-13T19:26:56.674Z"
   },
   {
    "duration": 2,
    "start_time": "2023-04-13T19:26:56.695Z"
   },
   {
    "duration": 9,
    "start_time": "2023-04-13T19:26:56.699Z"
   },
   {
    "duration": 252,
    "start_time": "2023-04-13T19:26:56.709Z"
   },
   {
    "duration": 6,
    "start_time": "2023-04-13T19:27:59.306Z"
   },
   {
    "duration": 1058,
    "start_time": "2023-04-14T08:05:23.636Z"
   },
   {
    "duration": 81,
    "start_time": "2023-04-14T08:05:24.696Z"
   },
   {
    "duration": 14,
    "start_time": "2023-04-14T08:05:24.779Z"
   },
   {
    "duration": 11,
    "start_time": "2023-04-14T08:05:24.795Z"
   },
   {
    "duration": 7,
    "start_time": "2023-04-14T08:05:24.808Z"
   },
   {
    "duration": 6,
    "start_time": "2023-04-14T08:05:24.816Z"
   },
   {
    "duration": 6,
    "start_time": "2023-04-14T08:05:24.824Z"
   },
   {
    "duration": 14,
    "start_time": "2023-04-14T08:05:24.831Z"
   },
   {
    "duration": 11,
    "start_time": "2023-04-14T08:05:24.847Z"
   },
   {
    "duration": 4,
    "start_time": "2023-04-14T08:05:24.859Z"
   },
   {
    "duration": 5,
    "start_time": "2023-04-14T08:05:24.865Z"
   },
   {
    "duration": 29,
    "start_time": "2023-04-14T08:05:24.871Z"
   },
   {
    "duration": 4,
    "start_time": "2023-04-14T08:05:24.903Z"
   },
   {
    "duration": 651,
    "start_time": "2023-04-14T08:05:24.910Z"
   },
   {
    "duration": 4,
    "start_time": "2023-04-14T08:05:25.563Z"
   },
   {
    "duration": 21,
    "start_time": "2023-04-14T08:05:25.568Z"
   },
   {
    "duration": 32,
    "start_time": "2023-04-14T08:05:25.591Z"
   },
   {
    "duration": 21,
    "start_time": "2023-04-14T08:05:25.625Z"
   },
   {
    "duration": 251,
    "start_time": "2023-04-14T08:05:25.650Z"
   },
   {
    "duration": 4,
    "start_time": "2023-04-14T08:06:30.889Z"
   },
   {
    "duration": 1112,
    "start_time": "2023-04-14T08:24:19.136Z"
   },
   {
    "duration": 24,
    "start_time": "2023-04-14T08:24:20.251Z"
   },
   {
    "duration": 16,
    "start_time": "2023-04-14T08:24:20.277Z"
   },
   {
    "duration": 13,
    "start_time": "2023-04-14T08:24:20.295Z"
   },
   {
    "duration": 4,
    "start_time": "2023-04-14T08:24:20.310Z"
   },
   {
    "duration": 7,
    "start_time": "2023-04-14T08:24:20.316Z"
   },
   {
    "duration": 6,
    "start_time": "2023-04-14T08:24:20.325Z"
   },
   {
    "duration": 12,
    "start_time": "2023-04-14T08:24:20.333Z"
   },
   {
    "duration": 7,
    "start_time": "2023-04-14T08:24:20.346Z"
   },
   {
    "duration": 3,
    "start_time": "2023-04-14T08:24:20.356Z"
   },
   {
    "duration": 4,
    "start_time": "2023-04-14T08:24:20.393Z"
   },
   {
    "duration": 6,
    "start_time": "2023-04-14T08:24:20.399Z"
   },
   {
    "duration": 533,
    "start_time": "2023-04-14T08:24:20.407Z"
   },
   {
    "duration": 4,
    "start_time": "2023-04-14T08:24:20.942Z"
   },
   {
    "duration": 22,
    "start_time": "2023-04-14T08:24:20.947Z"
   },
   {
    "duration": 11,
    "start_time": "2023-04-14T08:24:20.971Z"
   },
   {
    "duration": 5,
    "start_time": "2023-04-14T08:24:20.984Z"
   },
   {
    "duration": 35,
    "start_time": "2023-04-14T08:24:20.992Z"
   },
   {
    "duration": 273,
    "start_time": "2023-04-14T08:24:21.029Z"
   },
   {
    "duration": 8,
    "start_time": "2023-04-14T08:38:26.285Z"
   },
   {
    "duration": 1144,
    "start_time": "2023-04-14T08:41:55.457Z"
   },
   {
    "duration": 24,
    "start_time": "2023-04-14T08:41:56.603Z"
   },
   {
    "duration": 20,
    "start_time": "2023-04-14T08:41:56.629Z"
   },
   {
    "duration": 13,
    "start_time": "2023-04-14T08:41:56.652Z"
   },
   {
    "duration": 5,
    "start_time": "2023-04-14T08:41:56.666Z"
   },
   {
    "duration": 6,
    "start_time": "2023-04-14T08:41:56.673Z"
   },
   {
    "duration": 15,
    "start_time": "2023-04-14T08:41:56.681Z"
   },
   {
    "duration": 6,
    "start_time": "2023-04-14T08:41:56.699Z"
   },
   {
    "duration": 10,
    "start_time": "2023-04-14T08:41:56.707Z"
   },
   {
    "duration": 7,
    "start_time": "2023-04-14T08:41:56.720Z"
   },
   {
    "duration": 265,
    "start_time": "2023-04-14T08:41:56.729Z"
   },
   {
    "duration": 5,
    "start_time": "2023-04-14T08:41:56.996Z"
   },
   {
    "duration": 4,
    "start_time": "2023-04-14T08:41:57.003Z"
   },
   {
    "duration": 103,
    "start_time": "2023-04-14T08:41:57.008Z"
   },
   {
    "duration": 233,
    "start_time": "2023-04-14T08:41:57.192Z"
   },
   {
    "duration": 3,
    "start_time": "2023-04-14T08:43:21.928Z"
   },
   {
    "duration": 1201,
    "start_time": "2023-04-14T08:44:45.781Z"
   },
   {
    "duration": 26,
    "start_time": "2023-04-14T08:44:46.984Z"
   },
   {
    "duration": 17,
    "start_time": "2023-04-14T08:44:47.012Z"
   },
   {
    "duration": 12,
    "start_time": "2023-04-14T08:44:47.031Z"
   },
   {
    "duration": 5,
    "start_time": "2023-04-14T08:44:47.045Z"
   },
   {
    "duration": 5,
    "start_time": "2023-04-14T08:44:47.052Z"
   },
   {
    "duration": 35,
    "start_time": "2023-04-14T08:44:47.059Z"
   },
   {
    "duration": 5,
    "start_time": "2023-04-14T08:44:47.096Z"
   },
   {
    "duration": 7,
    "start_time": "2023-04-14T08:44:47.103Z"
   },
   {
    "duration": 143,
    "start_time": "2023-04-14T08:44:47.113Z"
   },
   {
    "duration": 0,
    "start_time": "2023-04-14T08:44:47.258Z"
   },
   {
    "duration": 0,
    "start_time": "2023-04-14T08:44:47.260Z"
   },
   {
    "duration": 0,
    "start_time": "2023-04-14T08:44:47.261Z"
   },
   {
    "duration": 60,
    "start_time": "2023-04-14T08:45:33.340Z"
   },
   {
    "duration": 11,
    "start_time": "2023-04-14T08:46:37.231Z"
   },
   {
    "duration": 4,
    "start_time": "2023-04-14T08:48:43.381Z"
   },
   {
    "duration": 2,
    "start_time": "2023-04-14T08:48:47.097Z"
   },
   {
    "duration": 1142,
    "start_time": "2023-04-14T08:52:24.362Z"
   },
   {
    "duration": 24,
    "start_time": "2023-04-14T08:52:25.506Z"
   },
   {
    "duration": 21,
    "start_time": "2023-04-14T08:52:25.535Z"
   },
   {
    "duration": 26,
    "start_time": "2023-04-14T08:52:25.558Z"
   },
   {
    "duration": 31,
    "start_time": "2023-04-14T08:52:25.587Z"
   },
   {
    "duration": 21,
    "start_time": "2023-04-14T08:52:25.620Z"
   },
   {
    "duration": 36,
    "start_time": "2023-04-14T08:52:25.643Z"
   },
   {
    "duration": 26,
    "start_time": "2023-04-14T08:52:25.681Z"
   },
   {
    "duration": 24,
    "start_time": "2023-04-14T08:52:25.709Z"
   },
   {
    "duration": 57,
    "start_time": "2023-04-14T08:52:25.736Z"
   },
   {
    "duration": 4,
    "start_time": "2023-04-14T08:52:25.795Z"
   },
   {
    "duration": 91,
    "start_time": "2023-04-14T08:52:25.804Z"
   },
   {
    "duration": 136,
    "start_time": "2023-04-14T08:52:25.899Z"
   },
   {
    "duration": 0,
    "start_time": "2023-04-14T08:52:26.038Z"
   },
   {
    "duration": 4,
    "start_time": "2023-04-14T08:52:34.606Z"
   },
   {
    "duration": 3,
    "start_time": "2023-04-14T08:52:42.842Z"
   },
   {
    "duration": 8,
    "start_time": "2023-04-14T08:52:57.466Z"
   },
   {
    "duration": 1134,
    "start_time": "2023-04-14T09:08:25.481Z"
   },
   {
    "duration": 25,
    "start_time": "2023-04-14T09:08:26.618Z"
   },
   {
    "duration": 20,
    "start_time": "2023-04-14T09:08:26.645Z"
   },
   {
    "duration": 12,
    "start_time": "2023-04-14T09:08:26.667Z"
   },
   {
    "duration": 4,
    "start_time": "2023-04-14T09:08:26.694Z"
   },
   {
    "duration": 5,
    "start_time": "2023-04-14T09:08:26.700Z"
   },
   {
    "duration": 5,
    "start_time": "2023-04-14T09:08:26.708Z"
   },
   {
    "duration": 6,
    "start_time": "2023-04-14T09:08:26.716Z"
   },
   {
    "duration": 8,
    "start_time": "2023-04-14T09:08:26.724Z"
   },
   {
    "duration": 58,
    "start_time": "2023-04-14T09:08:26.735Z"
   },
   {
    "duration": 4,
    "start_time": "2023-04-14T09:08:26.796Z"
   },
   {
    "duration": 4,
    "start_time": "2023-04-14T09:08:26.802Z"
   },
   {
    "duration": 4,
    "start_time": "2023-04-14T09:08:26.808Z"
   },
   {
    "duration": 94,
    "start_time": "2023-04-14T09:08:26.814Z"
   },
   {
    "duration": 50,
    "start_time": "2023-04-15T11:06:38.595Z"
   },
   {
    "duration": 1073,
    "start_time": "2023-04-15T11:06:44.217Z"
   },
   {
    "duration": 85,
    "start_time": "2023-04-15T11:06:45.293Z"
   },
   {
    "duration": 16,
    "start_time": "2023-04-15T11:06:45.380Z"
   },
   {
    "duration": 19,
    "start_time": "2023-04-15T11:06:45.398Z"
   },
   {
    "duration": 5,
    "start_time": "2023-04-15T11:06:45.419Z"
   },
   {
    "duration": 12,
    "start_time": "2023-04-15T11:06:45.426Z"
   },
   {
    "duration": 7,
    "start_time": "2023-04-15T11:06:45.440Z"
   },
   {
    "duration": 7,
    "start_time": "2023-04-15T11:06:45.449Z"
   },
   {
    "duration": 15,
    "start_time": "2023-04-15T11:06:45.458Z"
   },
   {
    "duration": 27,
    "start_time": "2023-04-15T11:06:45.474Z"
   },
   {
    "duration": 93,
    "start_time": "2023-04-15T11:06:45.502Z"
   },
   {
    "duration": 100,
    "start_time": "2023-04-15T11:06:45.597Z"
   },
   {
    "duration": 6,
    "start_time": "2023-04-15T11:06:45.699Z"
   },
   {
    "duration": 7,
    "start_time": "2023-04-15T11:06:45.708Z"
   },
   {
    "duration": 9,
    "start_time": "2023-04-15T11:06:45.716Z"
   }
  ],
  "kernelspec": {
   "display_name": "Python 3 (ipykernel)",
   "language": "python",
   "name": "python3"
  },
  "language_info": {
   "codemirror_mode": {
    "name": "ipython",
    "version": 3
   },
   "file_extension": ".py",
   "mimetype": "text/x-python",
   "name": "python",
   "nbconvert_exporter": "python",
   "pygments_lexer": "ipython3",
   "version": "3.9.13"
  },
  "toc": {
   "base_numbering": 1,
   "nav_menu": {},
   "number_sections": true,
   "sideBar": true,
   "skip_h1_title": true,
   "title_cell": "Содержание",
   "title_sidebar": "Contents",
   "toc_cell": true,
   "toc_position": {},
   "toc_section_display": true,
   "toc_window_display": true
  }
 },
 "nbformat": 4,
 "nbformat_minor": 2
}
